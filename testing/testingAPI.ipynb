{
 "cells": [
  {
   "cell_type": "code",
   "execution_count": 5,
   "id": "initial_id",
   "metadata": {
    "collapsed": true,
    "ExecuteTime": {
     "end_time": "2024-06-20T01:25:38.341621200Z",
     "start_time": "2024-06-20T01:25:36.988380700Z"
    }
   },
   "outputs": [
    {
     "name": "stdout",
     "output_type": "stream",
     "text": [
      "{'latitude': 5.617694, 'longitude': -73.956806, 'temperature': 16.2, 'elevation': 1892.0}\n"
     ]
    }
   ],
   "source": [
    "import requests\n",
    "\n",
    "# Coordinates\n",
    "latitude = 5.617694\n",
    "longitude = -73.956806\n",
    "\n",
    "# Function to get weather data\n",
    "def get_weather_data(lat, lon):\n",
    "    weather_url = f\"https://api.open-meteo.com/v1/forecast?latitude={lat}&longitude={lon}&current_weather=true\"\n",
    "    try:\n",
    "        weather_response = requests.get(weather_url)\n",
    "        weather_response.raise_for_status()  # Raise HTTPError for bad responses\n",
    "        return weather_response.json()\n",
    "    except requests.exceptions.RequestException as e:\n",
    "        print(f\"Error fetching weather data: {e}\")\n",
    "        return None\n",
    "\n",
    "# Function to get elevation data using Open-Elevation API\n",
    "def get_elevation_data(lat, lon):\n",
    "    elevation_url = f\"https://api.open-elevation.com/api/v1/lookup?locations={lat},{lon}\"\n",
    "    try:\n",
    "        elevation_response = requests.get(elevation_url)\n",
    "        elevation_response.raise_for_status()  # Raise HTTPError for bad responses\n",
    "        return elevation_response.json()\n",
    "    except requests.exceptions.RequestException as e:\n",
    "        print(f\"Error fetching elevation data: {e}\")\n",
    "        return None\n",
    "\n",
    "# Fetching data\n",
    "weather_data = get_weather_data(latitude, longitude)\n",
    "elevation_data = get_elevation_data(latitude, longitude)\n",
    "\n",
    "# Extracting relevant information if data fetching was successful\n",
    "if weather_data and 'current_weather' in weather_data:\n",
    "    temperature = weather_data['current_weather']['temperature']\n",
    "else:\n",
    "    temperature = None\n",
    "    print(\"Weather data is not available.\")\n",
    "\n",
    "if elevation_data and 'results' in elevation_data and len(elevation_data['results']) > 0:\n",
    "    elevation = elevation_data['results'][0]['elevation']\n",
    "else:\n",
    "    elevation = None\n",
    "    print(\"Elevation data is not available.\")\n",
    "\n",
    "# Adding data to dataset (example with a dictionary)\n",
    "location_data = {\n",
    "    'latitude': latitude,\n",
    "    'longitude': longitude,\n",
    "    'temperature': temperature,\n",
    "    'elevation': elevation\n",
    "}\n",
    "\n",
    "print(location_data)"
   ]
  }
 ],
 "metadata": {
  "kernelspec": {
   "display_name": "Python 3",
   "language": "python",
   "name": "python3"
  },
  "language_info": {
   "codemirror_mode": {
    "name": "ipython",
    "version": 2
   },
   "file_extension": ".py",
   "mimetype": "text/x-python",
   "name": "python",
   "nbconvert_exporter": "python",
   "pygments_lexer": "ipython2",
   "version": "2.7.6"
  }
 },
 "nbformat": 4,
 "nbformat_minor": 5
}
