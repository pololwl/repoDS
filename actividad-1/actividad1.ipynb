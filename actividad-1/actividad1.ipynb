{
 "cells": [
  {
   "cell_type": "code",
   "execution_count": 1,
   "metadata": {
    "ExecuteTime": {
     "end_time": "2024-03-22T00:57:06.490583700Z",
     "start_time": "2024-03-22T00:57:05.647533900Z"
    }
   },
   "outputs": [],
   "source": [
    "import pandas as pd"
   ]
  },
  {
   "cell_type": "code",
   "execution_count": 2,
   "outputs": [
    {
     "data": {
      "text/plain": "'C:\\\\Users\\\\USER\\\\OneDrive - Universidad Distrital Francisco José de Caldas\\\\Documentos\\\\Bootcamp-DS-2024-I\\\\Actividad 1'"
     },
     "execution_count": 2,
     "metadata": {},
     "output_type": "execute_result"
    }
   ],
   "source": [
    "%pwd"
   ],
   "metadata": {
    "collapsed": false,
    "ExecuteTime": {
     "end_time": "2024-03-22T00:57:19.321481600Z",
     "start_time": "2024-03-22T00:57:19.310635200Z"
    }
   }
  },
  {
   "cell_type": "code",
   "execution_count": 4,
   "outputs": [],
   "source": [
    "df = pd.read_csv('attacks.csv', encoding='latin1')"
   ],
   "metadata": {
    "collapsed": false,
    "ExecuteTime": {
     "end_time": "2024-03-22T00:58:06.021336Z",
     "start_time": "2024-03-22T00:58:05.863860200Z"
    }
   }
  },
  {
   "cell_type": "code",
   "execution_count": 6,
   "outputs": [],
   "source": [
    "df = pd.read_csv('AmesHousing.csv', encoding='utf8')"
   ],
   "metadata": {
    "collapsed": false,
    "ExecuteTime": {
     "end_time": "2024-03-22T00:58:53.577631600Z",
     "start_time": "2024-03-22T00:58:53.500636500Z"
    }
   }
  },
  {
   "cell_type": "code",
   "execution_count": 8,
   "outputs": [],
   "source": [
    "df = pd.read_csv('suicide_rates_1990-2022.csv', encoding='utf8')"
   ],
   "metadata": {
    "collapsed": false,
    "ExecuteTime": {
     "end_time": "2024-03-22T00:59:30.260318700Z",
     "start_time": "2024-03-22T00:59:29.830684400Z"
    }
   }
  },
  {
   "cell_type": "code",
   "execution_count": 9,
   "outputs": [
    {
     "data": {
      "text/plain": "  RegionCode RegionName CountryCode CountryName  Year   Sex     AgeGroup  \\\n0         EU     Europe         ALB     Albania  1992  Male   0-14 years   \n1         EU     Europe         ALB     Albania  1992  Male   0-14 years   \n2         EU     Europe         ALB     Albania  1992  Male   0-14 years   \n3         EU     Europe         ALB     Albania  1992  Male   0-14 years   \n4         EU     Europe         ALB     Albania  1992  Male  15-24 years   \n\n         Generation  SuicideCount  CauseSpecificDeathPercentage  \\\n0  Generation Alpha           0.0                      0.000000   \n1  Generation Alpha           0.0                      0.000000   \n2  Generation Alpha           0.0                      0.000000   \n3  Generation Alpha           0.0                      0.000000   \n4      Generation Z           5.0                      3.401361   \n\n   DeathRatePer100K  Population          GDP  GDPPerCapita  \\\n0          0.000000   3247039.0  652174990.8     200.85222   \n1          0.000000   3247039.0  652174990.8     200.85222   \n2          0.000000   3247039.0  652174990.8     200.85222   \n3          0.000000   3247039.0  652174990.8     200.85222   \n4          3.531073   3247039.0  652174990.8     200.85222   \n\n   GrossNationalIncome  GNIPerCapita  InflationRate  EmploymentPopulationRatio  \n0          906184212.3        1740.0     226.005421                     45.315  \n1          906184212.3        1740.0     226.005421                     45.315  \n2          906184212.3        1740.0     226.005421                     45.315  \n3          906184212.3        1740.0     226.005421                     45.315  \n4          906184212.3        1740.0     226.005421                     45.315  ",
      "text/html": "<div>\n<style scoped>\n    .dataframe tbody tr th:only-of-type {\n        vertical-align: middle;\n    }\n\n    .dataframe tbody tr th {\n        vertical-align: top;\n    }\n\n    .dataframe thead th {\n        text-align: right;\n    }\n</style>\n<table border=\"1\" class=\"dataframe\">\n  <thead>\n    <tr style=\"text-align: right;\">\n      <th></th>\n      <th>RegionCode</th>\n      <th>RegionName</th>\n      <th>CountryCode</th>\n      <th>CountryName</th>\n      <th>Year</th>\n      <th>Sex</th>\n      <th>AgeGroup</th>\n      <th>Generation</th>\n      <th>SuicideCount</th>\n      <th>CauseSpecificDeathPercentage</th>\n      <th>DeathRatePer100K</th>\n      <th>Population</th>\n      <th>GDP</th>\n      <th>GDPPerCapita</th>\n      <th>GrossNationalIncome</th>\n      <th>GNIPerCapita</th>\n      <th>InflationRate</th>\n      <th>EmploymentPopulationRatio</th>\n    </tr>\n  </thead>\n  <tbody>\n    <tr>\n      <th>0</th>\n      <td>EU</td>\n      <td>Europe</td>\n      <td>ALB</td>\n      <td>Albania</td>\n      <td>1992</td>\n      <td>Male</td>\n      <td>0-14 years</td>\n      <td>Generation Alpha</td>\n      <td>0.0</td>\n      <td>0.000000</td>\n      <td>0.000000</td>\n      <td>3247039.0</td>\n      <td>652174990.8</td>\n      <td>200.85222</td>\n      <td>906184212.3</td>\n      <td>1740.0</td>\n      <td>226.005421</td>\n      <td>45.315</td>\n    </tr>\n    <tr>\n      <th>1</th>\n      <td>EU</td>\n      <td>Europe</td>\n      <td>ALB</td>\n      <td>Albania</td>\n      <td>1992</td>\n      <td>Male</td>\n      <td>0-14 years</td>\n      <td>Generation Alpha</td>\n      <td>0.0</td>\n      <td>0.000000</td>\n      <td>0.000000</td>\n      <td>3247039.0</td>\n      <td>652174990.8</td>\n      <td>200.85222</td>\n      <td>906184212.3</td>\n      <td>1740.0</td>\n      <td>226.005421</td>\n      <td>45.315</td>\n    </tr>\n    <tr>\n      <th>2</th>\n      <td>EU</td>\n      <td>Europe</td>\n      <td>ALB</td>\n      <td>Albania</td>\n      <td>1992</td>\n      <td>Male</td>\n      <td>0-14 years</td>\n      <td>Generation Alpha</td>\n      <td>0.0</td>\n      <td>0.000000</td>\n      <td>0.000000</td>\n      <td>3247039.0</td>\n      <td>652174990.8</td>\n      <td>200.85222</td>\n      <td>906184212.3</td>\n      <td>1740.0</td>\n      <td>226.005421</td>\n      <td>45.315</td>\n    </tr>\n    <tr>\n      <th>3</th>\n      <td>EU</td>\n      <td>Europe</td>\n      <td>ALB</td>\n      <td>Albania</td>\n      <td>1992</td>\n      <td>Male</td>\n      <td>0-14 years</td>\n      <td>Generation Alpha</td>\n      <td>0.0</td>\n      <td>0.000000</td>\n      <td>0.000000</td>\n      <td>3247039.0</td>\n      <td>652174990.8</td>\n      <td>200.85222</td>\n      <td>906184212.3</td>\n      <td>1740.0</td>\n      <td>226.005421</td>\n      <td>45.315</td>\n    </tr>\n    <tr>\n      <th>4</th>\n      <td>EU</td>\n      <td>Europe</td>\n      <td>ALB</td>\n      <td>Albania</td>\n      <td>1992</td>\n      <td>Male</td>\n      <td>15-24 years</td>\n      <td>Generation Z</td>\n      <td>5.0</td>\n      <td>3.401361</td>\n      <td>3.531073</td>\n      <td>3247039.0</td>\n      <td>652174990.8</td>\n      <td>200.85222</td>\n      <td>906184212.3</td>\n      <td>1740.0</td>\n      <td>226.005421</td>\n      <td>45.315</td>\n    </tr>\n  </tbody>\n</table>\n</div>"
     },
     "execution_count": 9,
     "metadata": {},
     "output_type": "execute_result"
    }
   ],
   "source": [
    "df.head(5)"
   ],
   "metadata": {
    "collapsed": false,
    "ExecuteTime": {
     "end_time": "2024-03-22T00:59:31.624852100Z",
     "start_time": "2024-03-22T00:59:31.597143Z"
    }
   }
  },
  {
   "cell_type": "code",
   "execution_count": 10,
   "outputs": [
    {
     "data": {
      "text/plain": "       RegionCode                       RegionName CountryCode  \\\n118555        NAC  North America and the Caribbean         USA   \n118556        NAC  North America and the Caribbean         USA   \n118557        NAC  North America and the Caribbean         USA   \n118558        NAC  North America and the Caribbean         USA   \n118559        NAC  North America and the Caribbean         USA   \n\n                     CountryName  Year     Sex     AgeGroup  \\\n118555  United States of America  2021  Female  55-74 years   \n118556  United States of America  2021  Female    75+ years   \n118557  United States of America  2021  Female    75+ years   \n118558  United States of America  2021  Female    75+ years   \n118559  United States of America  2021  Female      Unknown   \n\n               Generation  SuicideCount  CauseSpecificDeathPercentage  \\\n118555       Baby Boomers         420.0                      0.246321   \n118556  Silent Generation         276.0                      0.146324   \n118557  Silent Generation         158.0                      0.075728   \n118558  Silent Generation         127.0                      0.022409   \n118559            Unknown           0.0                      0.000000   \n\n        DeathRatePer100K   Population           GDP  GDPPerCapita  \\\n118555          5.286824  332031554.0  2.331510e+13   70219.47245   \n118556          4.876199  332031554.0  2.331510e+13   70219.47245   \n118557          4.203972  332031554.0  2.331510e+13   70219.47245   \n118558          2.931077  332031554.0  2.331510e+13   70219.47245   \n118559               NaN  332031554.0  2.331510e+13   70219.47245   \n\n        GrossNationalIncome  GNIPerCapita  InflationRate  \\\n118555         2.370530e+13       71130.0       4.697859   \n118556         2.370530e+13       71130.0       4.697859   \n118557         2.370530e+13       71130.0       4.697859   \n118558         2.370530e+13       71130.0       4.697859   \n118559         2.370530e+13       71130.0       4.697859   \n\n        EmploymentPopulationRatio  \n118555                     57.946  \n118556                     57.946  \n118557                     57.946  \n118558                     57.946  \n118559                     57.946  ",
      "text/html": "<div>\n<style scoped>\n    .dataframe tbody tr th:only-of-type {\n        vertical-align: middle;\n    }\n\n    .dataframe tbody tr th {\n        vertical-align: top;\n    }\n\n    .dataframe thead th {\n        text-align: right;\n    }\n</style>\n<table border=\"1\" class=\"dataframe\">\n  <thead>\n    <tr style=\"text-align: right;\">\n      <th></th>\n      <th>RegionCode</th>\n      <th>RegionName</th>\n      <th>CountryCode</th>\n      <th>CountryName</th>\n      <th>Year</th>\n      <th>Sex</th>\n      <th>AgeGroup</th>\n      <th>Generation</th>\n      <th>SuicideCount</th>\n      <th>CauseSpecificDeathPercentage</th>\n      <th>DeathRatePer100K</th>\n      <th>Population</th>\n      <th>GDP</th>\n      <th>GDPPerCapita</th>\n      <th>GrossNationalIncome</th>\n      <th>GNIPerCapita</th>\n      <th>InflationRate</th>\n      <th>EmploymentPopulationRatio</th>\n    </tr>\n  </thead>\n  <tbody>\n    <tr>\n      <th>118555</th>\n      <td>NAC</td>\n      <td>North America and the Caribbean</td>\n      <td>USA</td>\n      <td>United States of America</td>\n      <td>2021</td>\n      <td>Female</td>\n      <td>55-74 years</td>\n      <td>Baby Boomers</td>\n      <td>420.0</td>\n      <td>0.246321</td>\n      <td>5.286824</td>\n      <td>332031554.0</td>\n      <td>2.331510e+13</td>\n      <td>70219.47245</td>\n      <td>2.370530e+13</td>\n      <td>71130.0</td>\n      <td>4.697859</td>\n      <td>57.946</td>\n    </tr>\n    <tr>\n      <th>118556</th>\n      <td>NAC</td>\n      <td>North America and the Caribbean</td>\n      <td>USA</td>\n      <td>United States of America</td>\n      <td>2021</td>\n      <td>Female</td>\n      <td>75+ years</td>\n      <td>Silent Generation</td>\n      <td>276.0</td>\n      <td>0.146324</td>\n      <td>4.876199</td>\n      <td>332031554.0</td>\n      <td>2.331510e+13</td>\n      <td>70219.47245</td>\n      <td>2.370530e+13</td>\n      <td>71130.0</td>\n      <td>4.697859</td>\n      <td>57.946</td>\n    </tr>\n    <tr>\n      <th>118557</th>\n      <td>NAC</td>\n      <td>North America and the Caribbean</td>\n      <td>USA</td>\n      <td>United States of America</td>\n      <td>2021</td>\n      <td>Female</td>\n      <td>75+ years</td>\n      <td>Silent Generation</td>\n      <td>158.0</td>\n      <td>0.075728</td>\n      <td>4.203972</td>\n      <td>332031554.0</td>\n      <td>2.331510e+13</td>\n      <td>70219.47245</td>\n      <td>2.370530e+13</td>\n      <td>71130.0</td>\n      <td>4.697859</td>\n      <td>57.946</td>\n    </tr>\n    <tr>\n      <th>118558</th>\n      <td>NAC</td>\n      <td>North America and the Caribbean</td>\n      <td>USA</td>\n      <td>United States of America</td>\n      <td>2021</td>\n      <td>Female</td>\n      <td>75+ years</td>\n      <td>Silent Generation</td>\n      <td>127.0</td>\n      <td>0.022409</td>\n      <td>2.931077</td>\n      <td>332031554.0</td>\n      <td>2.331510e+13</td>\n      <td>70219.47245</td>\n      <td>2.370530e+13</td>\n      <td>71130.0</td>\n      <td>4.697859</td>\n      <td>57.946</td>\n    </tr>\n    <tr>\n      <th>118559</th>\n      <td>NAC</td>\n      <td>North America and the Caribbean</td>\n      <td>USA</td>\n      <td>United States of America</td>\n      <td>2021</td>\n      <td>Female</td>\n      <td>Unknown</td>\n      <td>Unknown</td>\n      <td>0.0</td>\n      <td>0.000000</td>\n      <td>NaN</td>\n      <td>332031554.0</td>\n      <td>2.331510e+13</td>\n      <td>70219.47245</td>\n      <td>2.370530e+13</td>\n      <td>71130.0</td>\n      <td>4.697859</td>\n      <td>57.946</td>\n    </tr>\n  </tbody>\n</table>\n</div>"
     },
     "execution_count": 10,
     "metadata": {},
     "output_type": "execute_result"
    }
   ],
   "source": [
    "df.tail(5)"
   ],
   "metadata": {
    "collapsed": false,
    "ExecuteTime": {
     "end_time": "2024-03-22T00:59:56.206978600Z",
     "start_time": "2024-03-22T00:59:56.139318100Z"
    }
   }
  },
  {
   "cell_type": "code",
   "execution_count": 11,
   "outputs": [
    {
     "data": {
      "text/plain": "RegionCode                          0\nRegionName                          0\nCountryCode                         0\nCountryName                         0\nYear                                0\nSex                                 0\nAgeGroup                            0\nGeneration                          0\nSuicideCount                      464\nCauseSpecificDeathPercentage     4289\nDeathRatePer100K                10664\nPopulation                       5920\nGDP                              7240\nGDPPerCapita                     7240\nGrossNationalIncome              9960\nGNIPerCapita                    10760\nInflationRate                   14460\nEmploymentPopulationRatio       11120\ndtype: int64"
     },
     "execution_count": 11,
     "metadata": {},
     "output_type": "execute_result"
    }
   ],
   "source": [
    "df.isnull().sum()"
   ],
   "metadata": {
    "collapsed": false,
    "ExecuteTime": {
     "end_time": "2024-03-22T01:00:08.314540500Z",
     "start_time": "2024-03-22T01:00:08.125204200Z"
    }
   }
  },
  {
   "cell_type": "code",
   "execution_count": 13,
   "outputs": [
    {
     "data": {
      "text/plain": "Index(['RegionCode', 'RegionName', 'CountryCode', 'CountryName', 'Year', 'Sex',\n       'AgeGroup', 'Generation', 'SuicideCount',\n       'CauseSpecificDeathPercentage', 'DeathRatePer100K', 'Population', 'GDP',\n       'GDPPerCapita', 'GrossNationalIncome', 'GNIPerCapita', 'InflationRate',\n       'EmploymentPopulationRatio'],\n      dtype='object')"
     },
     "execution_count": 13,
     "metadata": {},
     "output_type": "execute_result"
    }
   ],
   "source": [
    "df.columns"
   ],
   "metadata": {
    "collapsed": false,
    "ExecuteTime": {
     "end_time": "2024-03-22T01:00:19.566495600Z",
     "start_time": "2024-03-22T01:00:19.552523400Z"
    }
   }
  },
  {
   "cell_type": "code",
   "execution_count": 14,
   "outputs": [
    {
     "data": {
      "text/plain": "RegionCode                       object\nRegionName                       object\nCountryCode                      object\nCountryName                      object\nYear                              int64\nSex                              object\nAgeGroup                         object\nGeneration                       object\nSuicideCount                    float64\nCauseSpecificDeathPercentage    float64\nDeathRatePer100K                float64\nPopulation                      float64\nGDP                             float64\nGDPPerCapita                    float64\nGrossNationalIncome             float64\nGNIPerCapita                    float64\nInflationRate                   float64\nEmploymentPopulationRatio       float64\ndtype: object"
     },
     "execution_count": 14,
     "metadata": {},
     "output_type": "execute_result"
    }
   ],
   "source": [
    "df.dtypes"
   ],
   "metadata": {
    "collapsed": false,
    "ExecuteTime": {
     "end_time": "2024-03-22T01:00:32.317157600Z",
     "start_time": "2024-03-22T01:00:32.278583Z"
    }
   }
  },
  {
   "cell_type": "code",
   "execution_count": 15,
   "outputs": [
    {
     "data": {
      "text/plain": "(118560, 18)"
     },
     "execution_count": 15,
     "metadata": {},
     "output_type": "execute_result"
    }
   ],
   "source": [
    "df.shape"
   ],
   "metadata": {
    "collapsed": false,
    "ExecuteTime": {
     "end_time": "2024-03-22T01:00:40.533947400Z",
     "start_time": "2024-03-22T01:00:40.488069100Z"
    }
   }
  },
  {
   "cell_type": "code",
   "execution_count": 16,
   "outputs": [
    {
     "data": {
      "text/plain": "2134080"
     },
     "execution_count": 16,
     "metadata": {},
     "output_type": "execute_result"
    }
   ],
   "source": [
    "df.size"
   ],
   "metadata": {
    "collapsed": false,
    "ExecuteTime": {
     "end_time": "2024-03-22T01:00:48.082575700Z",
     "start_time": "2024-03-22T01:00:48.069609600Z"
    }
   }
  },
  {
   "cell_type": "code",
   "execution_count": 18,
   "outputs": [
    {
     "data": {
      "text/plain": "22584"
     },
     "execution_count": 18,
     "metadata": {},
     "output_type": "execute_result"
    }
   ],
   "source": [
    "df.duplicated().sum()"
   ],
   "metadata": {
    "collapsed": false,
    "ExecuteTime": {
     "end_time": "2024-03-22T01:01:12.266102400Z",
     "start_time": "2024-03-22T01:01:12.108453800Z"
    }
   }
  }
 ],
 "metadata": {
  "kernelspec": {
   "display_name": "base",
   "language": "python",
   "name": "python3"
  },
  "language_info": {
   "name": "python",
   "version": "3.11.3"
  }
 },
 "nbformat": 4,
 "nbformat_minor": 2
}
