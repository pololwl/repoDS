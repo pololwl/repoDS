{
 "cells": [
  {
   "cell_type": "code",
   "execution_count": 2,
   "id": "initial_id",
   "metadata": {
    "collapsed": true,
    "ExecuteTime": {
     "end_time": "2024-04-24T00:31:46.839304400Z",
     "start_time": "2024-04-24T00:31:44.109384700Z"
    }
   },
   "outputs": [
    {
     "name": "stderr",
     "output_type": "stream",
     "text": [
      "C:\\Users\\USER\\anaconda3\\Lib\\site-packages\\paramiko\\transport.py:219: CryptographyDeprecationWarning:\n",
      "\n",
      "Blowfish has been deprecated\n",
      "\n"
     ]
    },
    {
     "data": {
      "text/html": "        <script type=\"text/javascript\">\n        window.PlotlyConfig = {MathJaxConfig: 'local'};\n        if (window.MathJax && window.MathJax.Hub && window.MathJax.Hub.Config) {window.MathJax.Hub.Config({SVG: {font: \"STIX-Web\"}});}\n        if (typeof require !== 'undefined') {\n        require.undef(\"plotly\");\n        requirejs.config({\n            paths: {\n                'plotly': ['https://cdn.plot.ly/plotly-2.12.1.min']\n            }\n        });\n        require(['plotly'], function(Plotly) {\n            window._Plotly = Plotly;\n        });\n        }\n        </script>\n        "
     },
     "metadata": {},
     "output_type": "display_data"
    },
    {
     "data": {
      "text/html": "        <script type=\"text/javascript\">\n        window.PlotlyConfig = {MathJaxConfig: 'local'};\n        if (window.MathJax && window.MathJax.Hub && window.MathJax.Hub.Config) {window.MathJax.Hub.Config({SVG: {font: \"STIX-Web\"}});}\n        if (typeof require !== 'undefined') {\n        require.undef(\"plotly\");\n        requirejs.config({\n            paths: {\n                'plotly': ['https://cdn.plot.ly/plotly-2.12.1.min']\n            }\n        });\n        require(['plotly'], function(Plotly) {\n            window._Plotly = Plotly;\n        });\n        }\n        </script>\n        "
     },
     "metadata": {},
     "output_type": "display_data"
    }
   ],
   "source": [
    "import cufflinks as cf\n",
    "import pandas as pd\n",
    "import plotly.express as px\n",
    "%matplotlib inline\n",
    "\n",
    "# Make Plotly work in your Jupyter Notebook\n",
    "from plotly.offline import init_notebook_mode\n",
    "\n",
    "init_notebook_mode(connected=True)\n",
    "# Use Plotly locally\n",
    "cf.go_offline()"
   ]
  },
  {
   "cell_type": "code",
   "execution_count": 3,
   "outputs": [
    {
     "data": {
      "text/plain": "(1045, 51)"
     },
     "execution_count": 3,
     "metadata": {},
     "output_type": "execute_result"
    }
   ],
   "source": [
    "pokedex = pd.read_csv('pokedex_(Update_04.21).csv')\n",
    "pokedex.shape"
   ],
   "metadata": {
    "collapsed": false,
    "ExecuteTime": {
     "end_time": "2024-04-24T00:31:46.895208200Z",
     "start_time": "2024-04-24T00:31:46.817298400Z"
    }
   },
   "id": "e0fc105754b7f408"
  },
  {
   "cell_type": "code",
   "execution_count": 4,
   "outputs": [
    {
     "data": {
      "text/plain": "   Unnamed: 0  pokedex_number           name german_name        japanese_name  \\\n0           0               1      Bulbasaur     Bisasam  フシギダネ (Fushigidane)   \n1           1               2        Ivysaur   Bisaknosp   フシギソウ (Fushigisou)   \n2           2               3       Venusaur    Bisaflor  フシギバナ (Fushigibana)   \n3           3               3  Mega Venusaur    Bisaflor  フシギバナ (Fushigibana)   \n4           4               4     Charmander    Glumanda      ヒトカゲ (Hitokage)   \n\n   generation  status         species  type_number type_1  ... against_ground  \\\n0           1  Normal    Seed Pokémon            2  Grass  ...            1.0   \n1           1  Normal    Seed Pokémon            2  Grass  ...            1.0   \n2           1  Normal    Seed Pokémon            2  Grass  ...            1.0   \n3           1  Normal    Seed Pokémon            2  Grass  ...            1.0   \n4           1  Normal  Lizard Pokémon            1   Fire  ...            2.0   \n\n   against_flying  against_psychic  against_bug against_rock against_ghost  \\\n0             2.0              2.0          1.0          1.0           1.0   \n1             2.0              2.0          1.0          1.0           1.0   \n2             2.0              2.0          1.0          1.0           1.0   \n3             2.0              2.0          1.0          1.0           1.0   \n4             1.0              1.0          0.5          2.0           1.0   \n\n  against_dragon  against_dark  against_steel  against_fairy  \n0            1.0           1.0            1.0            0.5  \n1            1.0           1.0            1.0            0.5  \n2            1.0           1.0            1.0            0.5  \n3            1.0           1.0            1.0            0.5  \n4            1.0           1.0            0.5            0.5  \n\n[5 rows x 51 columns]",
      "text/html": "<div>\n<style scoped>\n    .dataframe tbody tr th:only-of-type {\n        vertical-align: middle;\n    }\n\n    .dataframe tbody tr th {\n        vertical-align: top;\n    }\n\n    .dataframe thead th {\n        text-align: right;\n    }\n</style>\n<table border=\"1\" class=\"dataframe\">\n  <thead>\n    <tr style=\"text-align: right;\">\n      <th></th>\n      <th>Unnamed: 0</th>\n      <th>pokedex_number</th>\n      <th>name</th>\n      <th>german_name</th>\n      <th>japanese_name</th>\n      <th>generation</th>\n      <th>status</th>\n      <th>species</th>\n      <th>type_number</th>\n      <th>type_1</th>\n      <th>...</th>\n      <th>against_ground</th>\n      <th>against_flying</th>\n      <th>against_psychic</th>\n      <th>against_bug</th>\n      <th>against_rock</th>\n      <th>against_ghost</th>\n      <th>against_dragon</th>\n      <th>against_dark</th>\n      <th>against_steel</th>\n      <th>against_fairy</th>\n    </tr>\n  </thead>\n  <tbody>\n    <tr>\n      <th>0</th>\n      <td>0</td>\n      <td>1</td>\n      <td>Bulbasaur</td>\n      <td>Bisasam</td>\n      <td>フシギダネ (Fushigidane)</td>\n      <td>1</td>\n      <td>Normal</td>\n      <td>Seed Pokémon</td>\n      <td>2</td>\n      <td>Grass</td>\n      <td>...</td>\n      <td>1.0</td>\n      <td>2.0</td>\n      <td>2.0</td>\n      <td>1.0</td>\n      <td>1.0</td>\n      <td>1.0</td>\n      <td>1.0</td>\n      <td>1.0</td>\n      <td>1.0</td>\n      <td>0.5</td>\n    </tr>\n    <tr>\n      <th>1</th>\n      <td>1</td>\n      <td>2</td>\n      <td>Ivysaur</td>\n      <td>Bisaknosp</td>\n      <td>フシギソウ (Fushigisou)</td>\n      <td>1</td>\n      <td>Normal</td>\n      <td>Seed Pokémon</td>\n      <td>2</td>\n      <td>Grass</td>\n      <td>...</td>\n      <td>1.0</td>\n      <td>2.0</td>\n      <td>2.0</td>\n      <td>1.0</td>\n      <td>1.0</td>\n      <td>1.0</td>\n      <td>1.0</td>\n      <td>1.0</td>\n      <td>1.0</td>\n      <td>0.5</td>\n    </tr>\n    <tr>\n      <th>2</th>\n      <td>2</td>\n      <td>3</td>\n      <td>Venusaur</td>\n      <td>Bisaflor</td>\n      <td>フシギバナ (Fushigibana)</td>\n      <td>1</td>\n      <td>Normal</td>\n      <td>Seed Pokémon</td>\n      <td>2</td>\n      <td>Grass</td>\n      <td>...</td>\n      <td>1.0</td>\n      <td>2.0</td>\n      <td>2.0</td>\n      <td>1.0</td>\n      <td>1.0</td>\n      <td>1.0</td>\n      <td>1.0</td>\n      <td>1.0</td>\n      <td>1.0</td>\n      <td>0.5</td>\n    </tr>\n    <tr>\n      <th>3</th>\n      <td>3</td>\n      <td>3</td>\n      <td>Mega Venusaur</td>\n      <td>Bisaflor</td>\n      <td>フシギバナ (Fushigibana)</td>\n      <td>1</td>\n      <td>Normal</td>\n      <td>Seed Pokémon</td>\n      <td>2</td>\n      <td>Grass</td>\n      <td>...</td>\n      <td>1.0</td>\n      <td>2.0</td>\n      <td>2.0</td>\n      <td>1.0</td>\n      <td>1.0</td>\n      <td>1.0</td>\n      <td>1.0</td>\n      <td>1.0</td>\n      <td>1.0</td>\n      <td>0.5</td>\n    </tr>\n    <tr>\n      <th>4</th>\n      <td>4</td>\n      <td>4</td>\n      <td>Charmander</td>\n      <td>Glumanda</td>\n      <td>ヒトカゲ (Hitokage)</td>\n      <td>1</td>\n      <td>Normal</td>\n      <td>Lizard Pokémon</td>\n      <td>1</td>\n      <td>Fire</td>\n      <td>...</td>\n      <td>2.0</td>\n      <td>1.0</td>\n      <td>1.0</td>\n      <td>0.5</td>\n      <td>2.0</td>\n      <td>1.0</td>\n      <td>1.0</td>\n      <td>1.0</td>\n      <td>0.5</td>\n      <td>0.5</td>\n    </tr>\n  </tbody>\n</table>\n<p>5 rows × 51 columns</p>\n</div>"
     },
     "execution_count": 4,
     "metadata": {},
     "output_type": "execute_result"
    }
   ],
   "source": [
    "pokedex.head(5)"
   ],
   "metadata": {
    "collapsed": false,
    "ExecuteTime": {
     "end_time": "2024-04-24T00:31:46.998303400Z",
     "start_time": "2024-04-24T00:31:46.870275600Z"
    }
   },
   "id": "2c8fe0959b873add"
  },
  {
   "cell_type": "code",
   "execution_count": 5,
   "outputs": [
    {
     "data": {
      "text/plain": "      Unnamed: 0  pokedex_number                  name german_name  \\\n1040        1040             896             Glastrier    Polaross   \n1041        1041             897             Spectrier  Phantoross   \n1042        1042             898               Calyrex   Coronospa   \n1043        1043             898     Calyrex Ice Rider   Coronospa   \n1044        1044             898  Calyrex Shadow Rider   Coronospa   \n\n           japanese_name  generation         status              species  \\\n1040  ブリザポス (Burizaposu)           8  Sub Legendary   Wild Horse Pokémon   \n1041   レイスポス (Reisuposu)           8  Sub Legendary  Swift Horse Pokémon   \n1042     バドレックス (Budrex)           8      Legendary         King Pokémon   \n1043     バドレックス (Budrex)           8      Legendary    High King Pokémon   \n1044     バドレックス (Budrex)           8      Legendary    High King Pokémon   \n\n      type_number   type_1  ... against_ground  against_flying  \\\n1040            1      Ice  ...            1.0             1.0   \n1041            1    Ghost  ...            1.0             1.0   \n1042            2  Psychic  ...            0.5             2.0   \n1043            2  Psychic  ...            1.0             1.0   \n1044            2  Psychic  ...            1.0             1.0   \n\n      against_psychic  against_bug against_rock against_ghost against_dragon  \\\n1040              1.0          1.0          2.0           1.0            1.0   \n1041              1.0          0.5          1.0           2.0            1.0   \n1042              0.5          4.0          1.0           2.0            1.0   \n1043              0.5          2.0          2.0           2.0            1.0   \n1044              0.5          1.0          1.0           4.0            1.0   \n\n      against_dark  against_steel  against_fairy  \n1040           1.0            2.0            1.0  \n1041           2.0            1.0            1.0  \n1042           2.0            1.0            1.0  \n1043           2.0            2.0            1.0  \n1044           4.0            1.0            1.0  \n\n[5 rows x 51 columns]",
      "text/html": "<div>\n<style scoped>\n    .dataframe tbody tr th:only-of-type {\n        vertical-align: middle;\n    }\n\n    .dataframe tbody tr th {\n        vertical-align: top;\n    }\n\n    .dataframe thead th {\n        text-align: right;\n    }\n</style>\n<table border=\"1\" class=\"dataframe\">\n  <thead>\n    <tr style=\"text-align: right;\">\n      <th></th>\n      <th>Unnamed: 0</th>\n      <th>pokedex_number</th>\n      <th>name</th>\n      <th>german_name</th>\n      <th>japanese_name</th>\n      <th>generation</th>\n      <th>status</th>\n      <th>species</th>\n      <th>type_number</th>\n      <th>type_1</th>\n      <th>...</th>\n      <th>against_ground</th>\n      <th>against_flying</th>\n      <th>against_psychic</th>\n      <th>against_bug</th>\n      <th>against_rock</th>\n      <th>against_ghost</th>\n      <th>against_dragon</th>\n      <th>against_dark</th>\n      <th>against_steel</th>\n      <th>against_fairy</th>\n    </tr>\n  </thead>\n  <tbody>\n    <tr>\n      <th>1040</th>\n      <td>1040</td>\n      <td>896</td>\n      <td>Glastrier</td>\n      <td>Polaross</td>\n      <td>ブリザポス (Burizaposu)</td>\n      <td>8</td>\n      <td>Sub Legendary</td>\n      <td>Wild Horse Pokémon</td>\n      <td>1</td>\n      <td>Ice</td>\n      <td>...</td>\n      <td>1.0</td>\n      <td>1.0</td>\n      <td>1.0</td>\n      <td>1.0</td>\n      <td>2.0</td>\n      <td>1.0</td>\n      <td>1.0</td>\n      <td>1.0</td>\n      <td>2.0</td>\n      <td>1.0</td>\n    </tr>\n    <tr>\n      <th>1041</th>\n      <td>1041</td>\n      <td>897</td>\n      <td>Spectrier</td>\n      <td>Phantoross</td>\n      <td>レイスポス (Reisuposu)</td>\n      <td>8</td>\n      <td>Sub Legendary</td>\n      <td>Swift Horse Pokémon</td>\n      <td>1</td>\n      <td>Ghost</td>\n      <td>...</td>\n      <td>1.0</td>\n      <td>1.0</td>\n      <td>1.0</td>\n      <td>0.5</td>\n      <td>1.0</td>\n      <td>2.0</td>\n      <td>1.0</td>\n      <td>2.0</td>\n      <td>1.0</td>\n      <td>1.0</td>\n    </tr>\n    <tr>\n      <th>1042</th>\n      <td>1042</td>\n      <td>898</td>\n      <td>Calyrex</td>\n      <td>Coronospa</td>\n      <td>バドレックス (Budrex)</td>\n      <td>8</td>\n      <td>Legendary</td>\n      <td>King Pokémon</td>\n      <td>2</td>\n      <td>Psychic</td>\n      <td>...</td>\n      <td>0.5</td>\n      <td>2.0</td>\n      <td>0.5</td>\n      <td>4.0</td>\n      <td>1.0</td>\n      <td>2.0</td>\n      <td>1.0</td>\n      <td>2.0</td>\n      <td>1.0</td>\n      <td>1.0</td>\n    </tr>\n    <tr>\n      <th>1043</th>\n      <td>1043</td>\n      <td>898</td>\n      <td>Calyrex Ice Rider</td>\n      <td>Coronospa</td>\n      <td>バドレックス (Budrex)</td>\n      <td>8</td>\n      <td>Legendary</td>\n      <td>High King Pokémon</td>\n      <td>2</td>\n      <td>Psychic</td>\n      <td>...</td>\n      <td>1.0</td>\n      <td>1.0</td>\n      <td>0.5</td>\n      <td>2.0</td>\n      <td>2.0</td>\n      <td>2.0</td>\n      <td>1.0</td>\n      <td>2.0</td>\n      <td>2.0</td>\n      <td>1.0</td>\n    </tr>\n    <tr>\n      <th>1044</th>\n      <td>1044</td>\n      <td>898</td>\n      <td>Calyrex Shadow Rider</td>\n      <td>Coronospa</td>\n      <td>バドレックス (Budrex)</td>\n      <td>8</td>\n      <td>Legendary</td>\n      <td>High King Pokémon</td>\n      <td>2</td>\n      <td>Psychic</td>\n      <td>...</td>\n      <td>1.0</td>\n      <td>1.0</td>\n      <td>0.5</td>\n      <td>1.0</td>\n      <td>1.0</td>\n      <td>4.0</td>\n      <td>1.0</td>\n      <td>4.0</td>\n      <td>1.0</td>\n      <td>1.0</td>\n    </tr>\n  </tbody>\n</table>\n<p>5 rows × 51 columns</p>\n</div>"
     },
     "execution_count": 5,
     "metadata": {},
     "output_type": "execute_result"
    }
   ],
   "source": [
    "pokedex.tail(5)"
   ],
   "metadata": {
    "collapsed": false,
    "ExecuteTime": {
     "end_time": "2024-04-24T00:31:47.074453100Z",
     "start_time": "2024-04-24T00:31:46.925763200Z"
    }
   },
   "id": "5cdcd5ad98190ff2"
  },
  {
   "cell_type": "code",
   "execution_count": 6,
   "outputs": [
    {
     "name": "stdout",
     "output_type": "stream",
     "text": [
      "<class 'pandas.core.frame.DataFrame'>\n",
      "RangeIndex: 1045 entries, 0 to 1044\n",
      "Data columns (total 51 columns):\n",
      " #   Column            Non-Null Count  Dtype  \n",
      "---  ------            --------------  -----  \n",
      " 0   Unnamed: 0        1045 non-null   int64  \n",
      " 1   pokedex_number    1045 non-null   int64  \n",
      " 2   name              1045 non-null   object \n",
      " 3   german_name       1045 non-null   object \n",
      " 4   japanese_name     1045 non-null   object \n",
      " 5   generation        1045 non-null   int64  \n",
      " 6   status            1045 non-null   object \n",
      " 7   species           1045 non-null   object \n",
      " 8   type_number       1045 non-null   int64  \n",
      " 9   type_1            1045 non-null   object \n",
      " 10  type_2            553 non-null    object \n",
      " 11  height_m          1045 non-null   float64\n",
      " 12  weight_kg         1044 non-null   float64\n",
      " 13  abilities_number  1045 non-null   int64  \n",
      " 14  ability_1         1042 non-null   object \n",
      " 15  ability_2         516 non-null    object \n",
      " 16  ability_hidden    813 non-null    object \n",
      " 17  total_points      1045 non-null   int64  \n",
      " 18  hp                1045 non-null   int64  \n",
      " 19  attack            1045 non-null   int64  \n",
      " 20  defense           1045 non-null   int64  \n",
      " 21  sp_attack         1045 non-null   int64  \n",
      " 22  sp_defense        1045 non-null   int64  \n",
      " 23  speed             1045 non-null   int64  \n",
      " 24  catch_rate        1027 non-null   float64\n",
      " 25  base_friendship   930 non-null    float64\n",
      " 26  base_experience   925 non-null    float64\n",
      " 27  growth_rate       1044 non-null   object \n",
      " 28  egg_type_number   1045 non-null   int64  \n",
      " 29  egg_type_1        1042 non-null   object \n",
      " 30  egg_type_2        285 non-null    object \n",
      " 31  percentage_male   872 non-null    float64\n",
      " 32  egg_cycles        1044 non-null   float64\n",
      " 33  against_normal    1045 non-null   float64\n",
      " 34  against_fire      1045 non-null   float64\n",
      " 35  against_water     1045 non-null   float64\n",
      " 36  against_electric  1045 non-null   float64\n",
      " 37  against_grass     1045 non-null   float64\n",
      " 38  against_ice       1045 non-null   float64\n",
      " 39  against_fight     1045 non-null   float64\n",
      " 40  against_poison    1045 non-null   float64\n",
      " 41  against_ground    1045 non-null   float64\n",
      " 42  against_flying    1045 non-null   float64\n",
      " 43  against_psychic   1045 non-null   float64\n",
      " 44  against_bug       1045 non-null   float64\n",
      " 45  against_rock      1045 non-null   float64\n",
      " 46  against_ghost     1045 non-null   float64\n",
      " 47  against_dragon    1045 non-null   float64\n",
      " 48  against_dark      1045 non-null   float64\n",
      " 49  against_steel     1045 non-null   float64\n",
      " 50  against_fairy     1045 non-null   float64\n",
      "dtypes: float64(25), int64(13), object(13)\n",
      "memory usage: 416.5+ KB\n"
     ]
    }
   ],
   "source": [
    "pokedex.info()"
   ],
   "metadata": {
    "collapsed": false,
    "ExecuteTime": {
     "end_time": "2024-04-24T00:31:47.251492500Z",
     "start_time": "2024-04-24T00:31:46.978357200Z"
    }
   },
   "id": "64270ef34cf7073e"
  },
  {
   "cell_type": "code",
   "execution_count": 7,
   "outputs": [
    {
     "data": {
      "text/plain": "Unnamed: 0            int64\npokedex_number        int64\nname                 object\ngerman_name          object\njapanese_name        object\ngeneration            int64\nstatus               object\nspecies              object\ntype_number           int64\ntype_1               object\ntype_2               object\nheight_m            float64\nweight_kg           float64\nabilities_number      int64\nability_1            object\nability_2            object\nability_hidden       object\ntotal_points          int64\nhp                    int64\nattack                int64\ndefense               int64\nsp_attack             int64\nsp_defense            int64\nspeed                 int64\ncatch_rate          float64\nbase_friendship     float64\nbase_experience     float64\ngrowth_rate          object\negg_type_number       int64\negg_type_1           object\negg_type_2           object\npercentage_male     float64\negg_cycles          float64\nagainst_normal      float64\nagainst_fire        float64\nagainst_water       float64\nagainst_electric    float64\nagainst_grass       float64\nagainst_ice         float64\nagainst_fight       float64\nagainst_poison      float64\nagainst_ground      float64\nagainst_flying      float64\nagainst_psychic     float64\nagainst_bug         float64\nagainst_rock        float64\nagainst_ghost       float64\nagainst_dragon      float64\nagainst_dark        float64\nagainst_steel       float64\nagainst_fairy       float64\ndtype: object"
     },
     "execution_count": 7,
     "metadata": {},
     "output_type": "execute_result"
    }
   ],
   "source": [
    "pokedex.dtypes"
   ],
   "metadata": {
    "collapsed": false,
    "ExecuteTime": {
     "end_time": "2024-04-24T00:31:47.327290500Z",
     "start_time": "2024-04-24T00:31:47.054121Z"
    }
   },
   "id": "ccd2752736870747"
  },
  {
   "cell_type": "code",
   "execution_count": 8,
   "outputs": [
    {
     "data": {
      "text/plain": "             name german_name japanese_name  status        species type_1  \\\ncount        1045        1045          1045    1045           1045   1045   \nunique       1045         898           898       4            652     18   \ntop     Bulbasaur       Rotom   ロトム (Rotom)  Normal  Mouse Pokémon  Water   \nfreq            1           6             6     918             12    134   \n\n        type_2 ability_1 ability_2 ability_hidden  growth_rate egg_type_1  \\\ncount      553      1042       516            813         1044       1042   \nunique      18       212       126            154            6         15   \ntop     Flying  Levitate     Frisk      Telepathy  Medium Fast      Field   \nfreq       112        41        17             21          435        258   \n\n       egg_type_2  \ncount         285  \nunique         11  \ntop       Water 1  \nfreq           79  ",
      "text/html": "<div>\n<style scoped>\n    .dataframe tbody tr th:only-of-type {\n        vertical-align: middle;\n    }\n\n    .dataframe tbody tr th {\n        vertical-align: top;\n    }\n\n    .dataframe thead th {\n        text-align: right;\n    }\n</style>\n<table border=\"1\" class=\"dataframe\">\n  <thead>\n    <tr style=\"text-align: right;\">\n      <th></th>\n      <th>name</th>\n      <th>german_name</th>\n      <th>japanese_name</th>\n      <th>status</th>\n      <th>species</th>\n      <th>type_1</th>\n      <th>type_2</th>\n      <th>ability_1</th>\n      <th>ability_2</th>\n      <th>ability_hidden</th>\n      <th>growth_rate</th>\n      <th>egg_type_1</th>\n      <th>egg_type_2</th>\n    </tr>\n  </thead>\n  <tbody>\n    <tr>\n      <th>count</th>\n      <td>1045</td>\n      <td>1045</td>\n      <td>1045</td>\n      <td>1045</td>\n      <td>1045</td>\n      <td>1045</td>\n      <td>553</td>\n      <td>1042</td>\n      <td>516</td>\n      <td>813</td>\n      <td>1044</td>\n      <td>1042</td>\n      <td>285</td>\n    </tr>\n    <tr>\n      <th>unique</th>\n      <td>1045</td>\n      <td>898</td>\n      <td>898</td>\n      <td>4</td>\n      <td>652</td>\n      <td>18</td>\n      <td>18</td>\n      <td>212</td>\n      <td>126</td>\n      <td>154</td>\n      <td>6</td>\n      <td>15</td>\n      <td>11</td>\n    </tr>\n    <tr>\n      <th>top</th>\n      <td>Bulbasaur</td>\n      <td>Rotom</td>\n      <td>ロトム (Rotom)</td>\n      <td>Normal</td>\n      <td>Mouse Pokémon</td>\n      <td>Water</td>\n      <td>Flying</td>\n      <td>Levitate</td>\n      <td>Frisk</td>\n      <td>Telepathy</td>\n      <td>Medium Fast</td>\n      <td>Field</td>\n      <td>Water 1</td>\n    </tr>\n    <tr>\n      <th>freq</th>\n      <td>1</td>\n      <td>6</td>\n      <td>6</td>\n      <td>918</td>\n      <td>12</td>\n      <td>134</td>\n      <td>112</td>\n      <td>41</td>\n      <td>17</td>\n      <td>21</td>\n      <td>435</td>\n      <td>258</td>\n      <td>79</td>\n    </tr>\n  </tbody>\n</table>\n</div>"
     },
     "execution_count": 8,
     "metadata": {},
     "output_type": "execute_result"
    }
   ],
   "source": [
    "pokedex.describe(include=['O'])"
   ],
   "metadata": {
    "collapsed": false,
    "ExecuteTime": {
     "end_time": "2024-04-24T00:31:47.523820800Z",
     "start_time": "2024-04-24T00:31:47.072457300Z"
    }
   },
   "id": "e6fc6af63d331123"
  },
  {
   "cell_type": "code",
   "execution_count": 9,
   "outputs": [
    {
     "data": {
      "text/plain": "0"
     },
     "execution_count": 9,
     "metadata": {},
     "output_type": "execute_result"
    }
   ],
   "source": [
    "pokedex['name'].duplicated().sum()"
   ],
   "metadata": {
    "collapsed": false,
    "ExecuteTime": {
     "end_time": "2024-04-24T00:31:47.749985700Z",
     "start_time": "2024-04-24T00:31:47.175695300Z"
    }
   },
   "id": "20b18666f1a6503e"
  },
  {
   "cell_type": "code",
   "execution_count": 10,
   "outputs": [
    {
     "data": {
      "text/plain": "array([1, 8, 2, 3, 4, 5, 6, 7], dtype=int64)"
     },
     "execution_count": 10,
     "metadata": {},
     "output_type": "execute_result"
    }
   ],
   "source": [
    "pokedex['generation'].unique()"
   ],
   "metadata": {
    "collapsed": false,
    "ExecuteTime": {
     "end_time": "2024-04-24T00:31:47.795862200Z",
     "start_time": "2024-04-24T00:31:47.408104900Z"
    }
   },
   "id": "aa0becd84bad772a"
  },
  {
   "cell_type": "code",
   "execution_count": 11,
   "outputs": [
    {
     "data": {
      "text/plain": "array(['Seed Pokémon', 'Lizard Pokémon', 'Flame Pokémon',\n       'Tiny Turtle Pokémon', 'Turtle Pokémon', 'Shellfish Pokémon',\n       'Worm Pokémon', 'Cocoon Pokémon', 'Butterfly Pokémon',\n       'Hairy Bug Pokémon', 'Poison Bee Pokémon', 'Tiny Bird Pokémon',\n       'Bird Pokémon', 'Mouse Pokémon', 'Beak Pokémon', 'Snake Pokémon',\n       'Cobra Pokémon', 'Poison Pin Pokémon', 'Drill Pokémon',\n       'Fairy Pokémon', 'Fox Pokémon', 'Balloon Pokémon', 'Bat Pokémon',\n       'Weed Pokémon', 'Flower Pokémon', 'Mushroom Pokémon',\n       'Insect Pokémon', 'Poison Moth Pokémon', 'Mole Pokémon',\n       'Scratch Cat Pokémon', 'Classy Cat Pokémon', 'Duck Pokémon',\n       'Pig Monkey Pokémon', 'Puppy Pokémon', 'Legendary Pokémon',\n       'Tadpole Pokémon', 'Psi Pokémon', 'Superpower Pokémon',\n       'Flycatcher Pokémon', 'Jellyfish Pokémon', 'Rock Pokémon',\n       'Megaton Pokémon', 'Fire Horse Pokémon', 'Unique Horn Pokémon',\n       'Dopey Pokémon', 'Hermit Crab Pokémon', 'Magnet Pokémon',\n       'Wild Duck Pokémon', 'Twin Bird Pokémon', 'Triple Bird Pokémon',\n       'Sea Lion Pokémon', 'Sludge Pokémon', 'Bivalve Pokémon',\n       'Gas Pokémon', 'Shadow Pokémon', 'Rock Snake Pokémon',\n       'Hypnosis Pokémon', 'River Crab Pokémon', 'Pincer Pokémon',\n       'Ball Pokémon', 'Egg Pokémon', 'Coconut Pokémon', 'Lonely Pokémon',\n       'Bone Keeper Pokémon', 'Kicking Pokémon', 'Punching Pokémon',\n       'Licking Pokémon', 'Poison Gas Pokémon', 'Spikes Pokémon',\n       'Vine Pokémon', 'Parent Pokémon', 'Dragon Pokémon',\n       'Goldfish Pokémon', 'Star Shape Pokémon', 'Mysterious Pokémon',\n       'Barrier Pokémon', 'Dancing Pokémon', 'Mantis Pokémon',\n       'Human Shape Pokémon', 'Electric Pokémon', 'Spitfire Pokémon',\n       'Stag Beetle Pokémon', 'Wild Bull Pokémon', 'Fish Pokémon',\n       'Atrocious Pokémon', 'Transport Pokémon', 'Transform Pokémon',\n       'Evolution Pokémon', 'Bubble Jet Pokémon', 'Lightning Pokémon',\n       'Virtual Pokémon', 'Spiral Pokémon', 'Fossil Pokémon',\n       'Sleeping Pokémon', 'Freeze Pokémon', 'Cruel Pokémon',\n       'Strong Legs Pokémon', 'Malevolent Pokémon', 'Genetic Pokémon',\n       'New Species Pokémon', 'Leaf Pokémon', 'Herb Pokémon',\n       'Fire Mouse Pokémon', 'Volcano Pokémon', 'Big Jaw Pokémon',\n       'Scout Pokémon', 'Long Body Pokémon', 'Owl Pokémon',\n       'Five Star Pokémon', 'String Spit Pokémon', 'Long Leg Pokémon',\n       'Angler Pokémon', 'Light Pokémon', 'Tiny Mouse Pokémon',\n       'Spike Ball Pokémon', 'Happiness Pokémon', 'Mystic Pokémon',\n       'Wool Pokémon', 'Aqua Mouse Pokémon', 'Aqua Rabbit Pokémon',\n       'Imitation Pokémon', 'Frog Pokémon', 'Cottonweed Pokémon',\n       'Long Tail Pokémon', 'Sun Pokémon', 'Clear Wing Pokémon',\n       'Water Fish Pokémon', 'Moonlight Pokémon', 'Darkness Pokémon',\n       'Royal Pokémon', 'Hexpert Pokémon', 'Screech Pokémon',\n       'Symbol Pokémon', 'Patient Pokémon', 'Long Neck Pokémon',\n       'Bagworm Pokémon', 'Land Snake Pokémon', 'FlyScorpion Pokémon',\n       'Iron Snake Pokémon', 'Mold Pokémon', 'Single Horn Pokémon',\n       'Sharp Claw Pokémon', 'Little Bear Pokémon', 'Hibernator Pokémon',\n       'Lava Pokémon', 'Pig Pokémon', 'Swine Pokémon', 'Coral Pokémon',\n       'Jet Pokémon', 'Delivery Pokémon', 'Kite Pokémon',\n       'Armor Bird Pokémon', 'Dark Pokémon', 'Long Nose Pokémon',\n       'Armor Pokémon', 'Big Horn Pokémon', 'Painter Pokémon',\n       'Scuffle Pokémon', 'Handstand Pokémon', 'Kiss Pokémon',\n       'Live Coal Pokémon', 'Milk Cow Pokémon', 'Thunder Pokémon',\n       'Aurora Pokémon', 'Rock Skin Pokémon', 'Hard Shell Pokémon',\n       'Diving Pokémon', 'Rainbow Pokémon', 'Time Travel Pokémon',\n       'Wood Gecko Pokémon', 'Forest Pokémon', 'Chick Pokémon',\n       'Young Fowl Pokémon', 'Blaze Pokémon', 'Mud Fish Pokémon',\n       'Bite Pokémon', 'TinyRaccoon Pokémon', 'Tiny Raccoon Pokémon',\n       'Rushing Pokémon', 'Water Weed Pokémon', 'Jolly Pokémon',\n       'Carefree Pokémon', 'Acorn Pokémon', 'Wily Pokémon',\n       'Wicked Pokémon', 'TinySwallow Pokémon', 'Swallow Pokémon',\n       'Seagull Pokémon', 'Water Bird Pokémon', 'Feeling Pokémon',\n       'Emotion Pokémon', 'Embrace Pokémon', 'Pond Skater Pokémon',\n       'Eyeball Pokémon', 'Slacker Pokémon', 'Wild Monkey Pokémon',\n       'Lazy Pokémon', 'Trainee Pokémon', 'Ninja Pokémon', 'Shed Pokémon',\n       'Whisper Pokémon', 'Big Voice Pokémon', 'Loud Noise Pokémon',\n       'Guts Pokémon', 'Arm Thrust Pokémon', 'Polka Dot Pokémon',\n       'Compass Pokémon', 'Kitten Pokémon', 'Prim Pokémon',\n       'Deceiver Pokémon', 'Iron Armor Pokémon', 'Meditate Pokémon',\n       'Discharge Pokémon', 'Cheering Pokémon', 'Firefly Pokémon',\n       'Thorn Pokémon', 'Stomach Pokémon', 'Poison Bag Pokémon',\n       'Savage Pokémon', 'Brutal Pokémon', 'Ball Whale Pokémon',\n       'Float Whale Pokémon', 'Numb Pokémon', 'Eruption Pokémon',\n       'Coal Pokémon', 'Bounce Pokémon', 'Manipulate Pokémon',\n       'Spot Panda Pokémon', 'Ant Pit Pokémon', 'Vibration Pokémon',\n       'Cactus Pokémon', 'Scarecrow Pokémon', 'Cotton Bird Pokémon',\n       'Humming Pokémon', 'Cat Ferret Pokémon', 'Fang Snake Pokémon',\n       'Meteorite Pokémon', 'Whiskers Pokémon', 'Ruffian Pokémon',\n       'Rogue Pokémon', 'Clay Doll Pokémon', 'Sea Lily Pokémon',\n       'Barnacle Pokémon', 'Old Shrimp Pokémon', 'Plate Pokémon',\n       'Tender Pokémon', 'Weather Pokémon', 'Color Swap Pokémon',\n       'Puppet Pokémon', 'Marionette Pokémon', 'Requiem Pokémon',\n       'Beckon Pokémon', 'Fruit Pokémon', 'Wind Chime Pokémon',\n       'Disaster Pokémon', 'Bright Pokémon', 'Snow Hat Pokémon',\n       'Face Pokémon', 'Clap Pokémon', 'Ball Roll Pokémon',\n       'Ice Break Pokémon', 'Deep Sea Pokémon', 'South Sea Pokémon',\n       'Longevity Pokémon', 'Rendezvous Pokémon', 'Rock Head Pokémon',\n       'Endurance Pokémon', 'Iron Ball Pokémon', 'Iron Claw Pokémon',\n       'Iron Leg Pokémon', 'Rock Peak Pokémon', 'Iceberg Pokémon',\n       'Iron Pokémon', 'Eon Pokémon', 'Sea Basin Pokémon',\n       'Continent Pokémon', 'Sky High Pokémon', 'Wish Pokémon',\n       'DNA Pokémon', 'Tiny Leaf Pokémon', 'Grove Pokémon',\n       'Chimp Pokémon', 'Playful Pokémon', 'Penguin Pokémon',\n       'Emperor Pokémon', 'Starling Pokémon', 'Predator Pokémon',\n       'Plump Mouse Pokémon', 'Beaver Pokémon', 'Cricket Pokémon',\n       'Flash Pokémon', 'Spark Pokémon', 'Gleam Eyes Pokémon',\n       'Bud Pokémon', 'Bouquet Pokémon', 'Head Butt Pokémon',\n       'Shield Pokémon', 'Moth Pokémon', 'Tiny Bee Pokémon',\n       'Beehive Pokémon', 'EleSquirrel Pokémon', 'Sea Weasel Pokémon',\n       'Cherry Pokémon', 'Blossom Pokémon', 'Sea Slug Pokémon',\n       'Blimp Pokémon', 'Rabbit Pokémon', 'Magical Pokémon',\n       'Big Boss Pokémon', 'Catty Pokémon', 'Tiger Cat Pokémon',\n       'Bell Pokémon', 'Skunk Pokémon', 'Bronze Pokémon',\n       'Bronze Bell Pokémon', 'Bonsai Pokémon', 'Mime Pokémon',\n       'Playhouse Pokémon', 'Music Note Pokémon', 'Forbidden Pokémon',\n       'Land Shark Pokémon', 'Cave Pokémon', 'Mach Pokémon',\n       'Big Eater Pokémon', 'Emanation Pokémon', 'Aura Pokémon',\n       'Hippo Pokémon', 'Heavyweight Pokémon', 'Scorpion Pokémon',\n       'Ogre Scorp Pokémon', 'Toxic Mouth Pokémon', 'Bug Catcher Pokémon',\n       'Wing Fish Pokémon', 'Neon Pokémon', 'Frost Tree Pokémon',\n       'Magnet Area Pokémon', 'Thunderbolt Pokémon', 'Blast Pokémon',\n       'Jubilee Pokémon', 'Ogre Darner Pokémon', 'Verdant Pokémon',\n       'Fresh Snow Pokémon', 'Fang Scorp Pokémon', 'Twin Tusk Pokémon',\n       'Blade Pokémon', 'Gripper Pokémon', 'Snow Land Pokémon',\n       'Plasma Pokémon', 'Knowledge Pokémon', 'Willpower Pokémon',\n       'Temporal Pokémon', 'Spatial Pokémon', 'Lava Dome Pokémon',\n       'Colossal Pokémon', 'Renegade Pokémon', 'Lunar Pokémon',\n       'Sea Drifter Pokémon', 'Seafaring Pokémon', 'Pitch-Black Pokémon',\n       'Gratitude Pokémon', 'Alpha Pokémon', 'Victory Pokémon',\n       'Grass Snake Pokémon', 'Regal Pokémon', 'Fire Pig Pokémon',\n       'Mega Fire Pig Pokémon', 'Sea Otter Pokémon', 'Discipline Pokémon',\n       'Formidable Pokémon', 'Lookout Pokémon', 'Loyal Dog Pokémon',\n       'Big-Hearted Pokémon', 'Devious Pokémon', 'Grass Monkey Pokémon',\n       'Thorn Monkey Pokémon', 'High Temp Pokémon', 'Ember Pokémon',\n       'Spray Pokémon', 'Geyser Pokémon', 'Dream Eater Pokémon',\n       'Drowsing Pokémon', 'Tiny Pigeon Pokémon', 'Wild Pigeon Pokémon',\n       'Proud Pokémon', 'Electrified Pokémon', 'Mantle Pokémon',\n       'Ore Pokémon', 'Compressed Pokémon', 'Courting Pokémon',\n       'Subterrene Pokémon', 'Hearing Pokémon', 'Muscular Pokémon',\n       'Judo Pokémon', 'Karate Pokémon', 'Sewing Pokémon',\n       'Leaf-Wrapped Pokémon', 'Nurturing Pokémon', 'Centipede Pokémon',\n       'Curlipede Pokémon', 'Megapede Pokémon', 'Cotton Puff Pokémon',\n       'Windveiled Pokémon', 'Bulb Pokémon', 'Flowering Pokémon',\n       'Hostile Pokémon', 'Desert Croc Pokémon', 'Intimidation Pokémon',\n       'Zen Charm Pokémon', 'Blazing Pokémon', 'Rock Inn Pokémon',\n       'Stone Home Pokémon', 'Shedding Pokémon', 'Hoodlum Pokémon',\n       'Avianoid Pokémon', 'Spirit Pokémon', 'Coffin Pokémon',\n       'Prototurtle Pokémon', 'First Bird Pokémon', 'Trash Bag Pokémon',\n       'Trash Heap Pokémon', 'Tricky Fox Pokémon', 'Illusion Fox Pokémon',\n       'Chinchilla Pokémon', 'Scarf Pokémon', 'Fixation Pokémon',\n       'Astral Body Pokémon', 'Cell Pokémon', 'Mitosis Pokémon',\n       'Multiplying Pokémon', 'White Bird Pokémon', 'Icy Snow Pokémon',\n       'Snowstorm Pokémon', 'Season Pokémon', 'Sky Squirrel Pokémon',\n       'Clamping Pokémon', 'Cavalry Pokémon', 'Floating Pokémon',\n       'Caring Pokémon', 'Attaching Pokémon', 'EleSpider Pokémon',\n       'Thorn Seed Pokémon', 'Thorn Pod Pokémon', 'Gear Pokémon',\n       'EleFish Pokémon', 'Cerebral Pokémon', 'Candle Pokémon',\n       'Lamp Pokémon', 'Luring Pokémon', 'Tusk Pokémon',\n       'Axe Jaw Pokémon', 'Chill Pokémon', 'Freezing Pokémon',\n       'Crystallizing Pokémon', 'Snail Pokémon', 'Shell Out Pokémon',\n       'Trap Pokémon', 'Martial Arts Pokémon', 'Automaton Pokémon',\n       'Sharp Blade Pokémon', 'Sword Blade Pokémon',\n       'Bash Buffalo Pokémon', 'Eaglet Pokémon', 'Valiant Pokémon',\n       'Diapered Pokémon', 'Bone Vulture Pokémon', 'Anteater Pokémon',\n       'Iron Ant Pokémon', 'Irate Pokémon', 'Torch Pokémon',\n       'Iron Will Pokémon', 'Cavern Pokémon', 'Grassland Pokémon',\n       'Cyclone Pokémon', 'Bolt Strike Pokémon', 'Vast White Pokémon',\n       'Deep Black Pokémon', 'Abundance Pokémon', 'Boundary Pokémon',\n       'Colt Pokémon', 'Melody Pokémon', 'Paleozoic Pokémon',\n       'Spiny Nut Pokémon', 'Spiny Armor Pokémon', 'Bubble Frog Pokémon',\n       'Digging Pokémon', 'Tiny Robin Pokémon', 'Scorching Pokémon',\n       'Scatterdust Pokémon', 'Scale Pokémon', 'Lion Cub Pokémon',\n       'Single Bloom Pokémon', 'Garden Pokémon', 'Mount Pokémon',\n       'Daunting Pokémon', 'Poodle Pokémon', 'Restraint Pokémon',\n       'Constraint Pokémon', 'Sword Pokémon', 'Royal Sword Pokémon',\n       'Perfume Pokémon', 'Fragrance Pokémon', 'Cotton Candy Pokémon',\n       'Meringue Pokémon', 'Revolving Pokémon', 'Overturning Pokémon',\n       'Two-Handed Pokémon', 'Collective Pokémon', 'Mock Kelp Pokémon',\n       'Water Gun Pokémon', 'Howitzer Pokémon', 'Generator Pokémon',\n       'Royal Heir Pokémon', 'Despot Pokémon', 'Tundra Pokémon',\n       'Intertwining Pokémon', 'Wrestling Pokémon', 'Antenna Pokémon',\n       'Jewel Pokémon', 'Soft Tissue Pokémon', 'Key Ring Pokémon',\n       'Stump Pokémon', 'Elder Tree Pokémon', 'Pumpkin Pokémon',\n       'Ice Chunk Pokémon', 'Sound Wave Pokémon', 'Life Pokémon',\n       'Destruction Pokémon', 'Order Pokémon', 'Mischief Pokémon',\n       'Djinn Pokémon', 'Steam Pokémon', 'Grass Quill Pokémon',\n       'Blade Quill Pokémon', 'Arrow Quill Pokémon', 'Fire Cat Pokémon',\n       'Heel Pokémon', 'Pop Star Pokémon', 'Soloist Pokémon',\n       'Woodpecker Pokémon', 'Bugle Beak Pokémon', 'Cannon Pokémon',\n       'Loitering Pokémon', 'Stakeout Pokémon', 'Larva Pokémon',\n       'Battery Pokémon', 'Boxing Pokémon', 'Woolly Crab Pokémon',\n       'Bee Fly Pokémon', 'Wolf Pokémon', 'Small Fry Pokémon',\n       'Brutal Star Pokémon', 'Donkey Pokémon', 'Draft Horse Pokémon',\n       'Water Bubble Pokémon', 'Sickle Grass Pokémon',\n       'Bloom Sickle Pokémon', 'Illuminating Pokémon',\n       'Toxic Lizard Pokémon', 'Flailing Pokémon', 'Strong Arm Pokémon',\n       'Posy Picker Pokémon', 'Sage Pokémon', 'Teamwork Pokémon',\n       'Turn Tail Pokémon', 'Hard Scale Pokémon', 'Sand Heap Pokémon',\n       'Sand Castle Pokémon', 'Sea Cucumber Pokémon', 'Synthetic Pokémon',\n       'Meteor Pokémon', 'Blast Turtle Pokémon', 'Roly-Poly Pokémon',\n       'Disguise Pokémon', 'Gnash Teeth Pokémon', 'Placid Pokémon',\n       'Sea Creeper Pokémon', 'Scaly Pokémon', 'Land Spirit Pokémon',\n       'Nebula Pokémon', 'Protostar Pokémon', 'Sunne Pokémon',\n       'Moone Pokémon', 'Parasite Pokémon', 'Swollen Pokémon',\n       'Lissome Pokémon', 'Glowing Pokémon', 'Launch Pokémon',\n       'Drawn Sword Pokémon', 'Junkivore Pokémon', 'Prism Pokémon',\n       'Artificial Pokémon', 'Gloomdweller Pokémon', 'Rampart Pokémon',\n       'Fireworks Pokémon', 'Thunderclap Pokémon', 'Hex Nut Pokémon',\n       'Beat Pokémon', 'Drummer Pokémon', 'Striker Pokémon',\n       'Water Lizard Pokémon', 'Water lizard Pokémon',\n       'Secret Agent Pokémon', 'Cheeky Pokémon', 'Greedy Pokémon',\n       'Raven Pokémon', 'Radome Pokémon', 'Seven Spot Pokémon',\n       'Cotton Bloom Pokémon', 'Sheep Pokémon', 'Snapping Pokémon',\n       'Dog Pokémon', 'Apple Core Pokémon', 'Apple Wing Pokémon',\n       'Apple Nectar Pokémon', 'Sand Snake Pokémon', 'Gulp Pokémon',\n       'Rush Pokémon', 'Skewer Pokémon', 'Baby Pokémon', 'Punk Pokémon',\n       'Radiator Pokémon', 'Tantrum Pokémon', 'Black Tea Pokémon',\n       'Calm Pokémon', 'Serene Pokémon', 'Silent Pokémon',\n       'Bulk Up Pokémon', 'Blocking Pokémon', 'Viking Pokémon',\n       'Comedian Pokémon', 'Grudge Pokémon', 'Cream Pokémon',\n       'Formation Pokémon', 'Sea Urchin Pokémon', 'Frost Moth Pokémon',\n       'Big Rock Pokémon', 'Two-Sided Pokémon', 'Copperderm Pokémon',\n       'Alloy Pokémon', 'Lingering Pokémon', 'Caretaker Pokémon',\n       'Stealth Pokémon', 'Warrior Pokémon', 'Gigantic Pokémon',\n       'Wushu Pokémon', 'Rogue Monkey Pokémon', 'Elektron Pokémon',\n       'Dragon Orb Pokémon', 'Wild Horse Pokémon', 'Swift Horse Pokémon',\n       'King Pokémon', 'High King Pokémon'], dtype=object)"
     },
     "execution_count": 11,
     "metadata": {},
     "output_type": "execute_result"
    }
   ],
   "source": [
    "pokedex['species'].unique()"
   ],
   "metadata": {
    "collapsed": false,
    "ExecuteTime": {
     "end_time": "2024-04-24T00:31:47.809824700Z",
     "start_time": "2024-04-24T00:31:47.524818600Z"
    }
   },
   "id": "c9e4b14ae094849c"
  },
  {
   "cell_type": "code",
   "execution_count": 12,
   "outputs": [
    {
     "data": {
      "text/plain": "Normal           918\nSub Legendary     55\nLegendary         42\nMythical          30\nName: status, dtype: int64"
     },
     "execution_count": 12,
     "metadata": {},
     "output_type": "execute_result"
    }
   ],
   "source": [
    "pokedex['status'].value_counts()"
   ],
   "metadata": {
    "collapsed": false,
    "ExecuteTime": {
     "end_time": "2024-04-24T00:31:47.810822800Z",
     "start_time": "2024-04-24T00:31:47.561982400Z"
    }
   },
   "id": "82d1e699e14b2852"
  },
  {
   "cell_type": "code",
   "execution_count": 13,
   "outputs": [
    {
     "data": {
      "text/plain": "array(['Grass', 'Fire', 'Water', 'Bug', 'Normal', 'Dark', 'Poison',\n       'Electric', 'Ground', 'Ice', 'Fairy', 'Steel', 'Fighting',\n       'Psychic', 'Rock', 'Ghost', 'Dragon', 'Flying'], dtype=object)"
     },
     "execution_count": 13,
     "metadata": {},
     "output_type": "execute_result"
    }
   ],
   "source": [
    "pokedex['type_1'].unique()"
   ],
   "metadata": {
    "collapsed": false,
    "ExecuteTime": {
     "end_time": "2024-04-24T00:31:47.943982Z",
     "start_time": "2024-04-24T00:31:47.586709300Z"
    }
   },
   "id": "9d38da2dc17a1c8e"
  },
  {
   "cell_type": "code",
   "execution_count": 14,
   "outputs": [
    {
     "data": {
      "text/plain": "array(['Poison', nan, 'Flying', 'Dragon', 'Normal', 'Psychic', 'Steel',\n       'Ground', 'Fairy', 'Grass', 'Fighting', 'Electric', 'Ice', 'Dark',\n       'Ghost', 'Rock', 'Water', 'Fire', 'Bug'], dtype=object)"
     },
     "execution_count": 14,
     "metadata": {},
     "output_type": "execute_result"
    }
   ],
   "source": [
    "pokedex['type_2'].unique()"
   ],
   "metadata": {
    "collapsed": false,
    "ExecuteTime": {
     "end_time": "2024-04-24T00:31:47.944979600Z",
     "start_time": "2024-04-24T00:31:47.661223Z"
    }
   },
   "id": "9f4a9d28a1696d0"
  },
  {
   "cell_type": "code",
   "execution_count": 15,
   "outputs": [
    {
     "data": {
      "text/plain": "count    1045.000000\nmean       80.476555\nstd        32.432728\nmin         5.000000\n25%        55.000000\n50%        77.000000\n75%       100.000000\nmax       190.000000\nName: attack, dtype: float64"
     },
     "execution_count": 15,
     "metadata": {},
     "output_type": "execute_result"
    }
   ],
   "source": [
    "pokedex.attack.describe()"
   ],
   "metadata": {
    "collapsed": false,
    "ExecuteTime": {
     "end_time": "2024-04-24T00:31:48.587834200Z",
     "start_time": "2024-04-24T00:31:47.707099800Z"
    }
   },
   "id": "d1f2cb71011483f8"
  },
  {
   "cell_type": "code",
   "execution_count": 16,
   "outputs": [
    {
     "data": {
      "text/plain": "count    1045.000000\nmean        1.035646\nstd         0.643535\nmin         0.000000\n25%         0.500000\n50%         1.000000\n75%         1.000000\nmax         4.000000\nName: against_electric, dtype: float64"
     },
     "execution_count": 16,
     "metadata": {},
     "output_type": "execute_result"
    }
   ],
   "source": [
    "pokedex.against_electric.describe()"
   ],
   "metadata": {
    "collapsed": false,
    "ExecuteTime": {
     "end_time": "2024-04-24T00:31:48.587834200Z",
     "start_time": "2024-04-24T00:31:48.196346600Z"
    }
   },
   "id": "be30dabbcee7a6c6"
  },
  {
   "cell_type": "code",
   "execution_count": 17,
   "outputs": [
    {
     "data": {
      "text/plain": "count    1045.000000\nmean        0.998086\nstd         0.610411\nmin         0.000000\n25%         0.500000\n50%         1.000000\n75%         1.000000\nmax         4.000000\nName: against_bug, dtype: float64"
     },
     "execution_count": 17,
     "metadata": {},
     "output_type": "execute_result"
    }
   ],
   "source": [
    "pokedex.against_bug.describe()"
   ],
   "metadata": {
    "collapsed": false,
    "ExecuteTime": {
     "end_time": "2024-04-24T00:31:48.588831Z",
     "start_time": "2024-04-24T00:31:48.249205500Z"
    }
   },
   "id": "26b151cc40ff3335"
  },
  {
   "cell_type": "code",
   "execution_count": 18,
   "outputs": [
    {
     "name": "stderr",
     "output_type": "stream",
     "text": [
      "C:\\Users\\USER\\AppData\\Local\\Temp\\ipykernel_9272\\3397752359.py:1: FutureWarning:\n",
      "\n",
      "The default value of numeric_only in DataFrameGroupBy.mean is deprecated. In a future version, numeric_only will default to False. Either specify numeric_only or select only columns which should be valid for the function.\n",
      "\n"
     ]
    },
    {
     "data": {
      "text/plain": "      type_1      attack     defense         hp\n0        Bug   71.074074   71.802469  57.024691\n1       Dark   81.934783   66.391304  70.065217\n2     Dragon  107.024390   83.926829  85.243902\n3   Electric   74.983871   66.241935  62.241935\n4      Fairy   68.090909   70.545455  72.954545\n5   Fighting  102.928571   73.666667  72.928571\n6       Fire   85.400000   68.107692  69.430769\n7     Flying   75.125000   64.375000  69.625000\n8      Ghost   73.976190   79.952381  64.809524\n9      Grass   74.813187   71.824176  66.736264\n10    Ground   94.121951   85.463415  70.853659\n11       Ice   78.486486   72.675676  72.270270\n12    Normal   75.260870   61.173913  77.052174\n13    Poison   75.878049   76.731707  74.975610\n14   Psychic   76.234568   72.283951  73.456790\n15      Rock   91.783333   97.966667  67.100000\n16     Steel   94.083333  117.388889  69.527778\n17     Water   74.992537   73.119403  70.888060",
      "text/html": "<div>\n<style scoped>\n    .dataframe tbody tr th:only-of-type {\n        vertical-align: middle;\n    }\n\n    .dataframe tbody tr th {\n        vertical-align: top;\n    }\n\n    .dataframe thead th {\n        text-align: right;\n    }\n</style>\n<table border=\"1\" class=\"dataframe\">\n  <thead>\n    <tr style=\"text-align: right;\">\n      <th></th>\n      <th>type_1</th>\n      <th>attack</th>\n      <th>defense</th>\n      <th>hp</th>\n    </tr>\n  </thead>\n  <tbody>\n    <tr>\n      <th>0</th>\n      <td>Bug</td>\n      <td>71.074074</td>\n      <td>71.802469</td>\n      <td>57.024691</td>\n    </tr>\n    <tr>\n      <th>1</th>\n      <td>Dark</td>\n      <td>81.934783</td>\n      <td>66.391304</td>\n      <td>70.065217</td>\n    </tr>\n    <tr>\n      <th>2</th>\n      <td>Dragon</td>\n      <td>107.024390</td>\n      <td>83.926829</td>\n      <td>85.243902</td>\n    </tr>\n    <tr>\n      <th>3</th>\n      <td>Electric</td>\n      <td>74.983871</td>\n      <td>66.241935</td>\n      <td>62.241935</td>\n    </tr>\n    <tr>\n      <th>4</th>\n      <td>Fairy</td>\n      <td>68.090909</td>\n      <td>70.545455</td>\n      <td>72.954545</td>\n    </tr>\n    <tr>\n      <th>5</th>\n      <td>Fighting</td>\n      <td>102.928571</td>\n      <td>73.666667</td>\n      <td>72.928571</td>\n    </tr>\n    <tr>\n      <th>6</th>\n      <td>Fire</td>\n      <td>85.400000</td>\n      <td>68.107692</td>\n      <td>69.430769</td>\n    </tr>\n    <tr>\n      <th>7</th>\n      <td>Flying</td>\n      <td>75.125000</td>\n      <td>64.375000</td>\n      <td>69.625000</td>\n    </tr>\n    <tr>\n      <th>8</th>\n      <td>Ghost</td>\n      <td>73.976190</td>\n      <td>79.952381</td>\n      <td>64.809524</td>\n    </tr>\n    <tr>\n      <th>9</th>\n      <td>Grass</td>\n      <td>74.813187</td>\n      <td>71.824176</td>\n      <td>66.736264</td>\n    </tr>\n    <tr>\n      <th>10</th>\n      <td>Ground</td>\n      <td>94.121951</td>\n      <td>85.463415</td>\n      <td>70.853659</td>\n    </tr>\n    <tr>\n      <th>11</th>\n      <td>Ice</td>\n      <td>78.486486</td>\n      <td>72.675676</td>\n      <td>72.270270</td>\n    </tr>\n    <tr>\n      <th>12</th>\n      <td>Normal</td>\n      <td>75.260870</td>\n      <td>61.173913</td>\n      <td>77.052174</td>\n    </tr>\n    <tr>\n      <th>13</th>\n      <td>Poison</td>\n      <td>75.878049</td>\n      <td>76.731707</td>\n      <td>74.975610</td>\n    </tr>\n    <tr>\n      <th>14</th>\n      <td>Psychic</td>\n      <td>76.234568</td>\n      <td>72.283951</td>\n      <td>73.456790</td>\n    </tr>\n    <tr>\n      <th>15</th>\n      <td>Rock</td>\n      <td>91.783333</td>\n      <td>97.966667</td>\n      <td>67.100000</td>\n    </tr>\n    <tr>\n      <th>16</th>\n      <td>Steel</td>\n      <td>94.083333</td>\n      <td>117.388889</td>\n      <td>69.527778</td>\n    </tr>\n    <tr>\n      <th>17</th>\n      <td>Water</td>\n      <td>74.992537</td>\n      <td>73.119403</td>\n      <td>70.888060</td>\n    </tr>\n  </tbody>\n</table>\n</div>"
     },
     "execution_count": 18,
     "metadata": {},
     "output_type": "execute_result"
    }
   ],
   "source": [
    "pokedexByType = pokedex[['type_1', 'name', 'attack', 'defense', 'hp']].groupby(['type_1']).mean().reset_index()\n",
    "pokedexByType"
   ],
   "metadata": {
    "collapsed": false,
    "ExecuteTime": {
     "end_time": "2024-04-24T00:31:48.609773900Z",
     "start_time": "2024-04-24T00:31:48.318529200Z"
    }
   },
   "id": "f70faed01850743"
  },
  {
   "cell_type": "markdown",
   "source": [
    "# ¿Cuáles son los tipos de Pokémon con las estadísticas más balanceadas? "
   ],
   "metadata": {
    "collapsed": false
   },
   "id": "91e80d7872afba93"
  },
  {
   "cell_type": "code",
   "execution_count": 19,
   "outputs": [
    {
     "data": {
      "application/vnd.plotly.v1+json": {
       "data": [
        {
         "customdata": [
          [
           57.02469135802469
          ]
         ],
         "hovertemplate": "type_1=Bug<br>attack=%{x}<br>defense=%{y}<br>hp=%{customdata[0]}<extra></extra>",
         "legendgroup": "Bug",
         "marker": {
          "color": "#636efa",
          "size": [
           57.02469135802469
          ],
          "sizemode": "area",
          "sizeref": 0.213109756097561,
          "symbol": "circle"
         },
         "mode": "markers",
         "name": "Bug",
         "orientation": "v",
         "showlegend": true,
         "x": [
          71.07407407407408
         ],
         "xaxis": "x",
         "y": [
          71.80246913580247
         ],
         "yaxis": "y",
         "type": "scatter"
        },
        {
         "customdata": [
          [
           70.06521739130434
          ]
         ],
         "hovertemplate": "type_1=Dark<br>attack=%{x}<br>defense=%{y}<br>hp=%{customdata[0]}<extra></extra>",
         "legendgroup": "Dark",
         "marker": {
          "color": "#EF553B",
          "size": [
           70.06521739130434
          ],
          "sizemode": "area",
          "sizeref": 0.213109756097561,
          "symbol": "circle"
         },
         "mode": "markers",
         "name": "Dark",
         "orientation": "v",
         "showlegend": true,
         "x": [
          81.93478260869566
         ],
         "xaxis": "x",
         "y": [
          66.3913043478261
         ],
         "yaxis": "y",
         "type": "scatter"
        },
        {
         "customdata": [
          [
           85.2439024390244
          ]
         ],
         "hovertemplate": "type_1=Dragon<br>attack=%{x}<br>defense=%{y}<br>hp=%{customdata[0]}<extra></extra>",
         "legendgroup": "Dragon",
         "marker": {
          "color": "#00cc96",
          "size": [
           85.2439024390244
          ],
          "sizemode": "area",
          "sizeref": 0.213109756097561,
          "symbol": "circle"
         },
         "mode": "markers",
         "name": "Dragon",
         "orientation": "v",
         "showlegend": true,
         "x": [
          107.02439024390245
         ],
         "xaxis": "x",
         "y": [
          83.92682926829268
         ],
         "yaxis": "y",
         "type": "scatter"
        },
        {
         "customdata": [
          [
           62.24193548387097
          ]
         ],
         "hovertemplate": "type_1=Electric<br>attack=%{x}<br>defense=%{y}<br>hp=%{customdata[0]}<extra></extra>",
         "legendgroup": "Electric",
         "marker": {
          "color": "#ab63fa",
          "size": [
           62.24193548387097
          ],
          "sizemode": "area",
          "sizeref": 0.213109756097561,
          "symbol": "circle"
         },
         "mode": "markers",
         "name": "Electric",
         "orientation": "v",
         "showlegend": true,
         "x": [
          74.98387096774194
         ],
         "xaxis": "x",
         "y": [
          66.24193548387096
         ],
         "yaxis": "y",
         "type": "scatter"
        },
        {
         "customdata": [
          [
           72.95454545454545
          ]
         ],
         "hovertemplate": "type_1=Fairy<br>attack=%{x}<br>defense=%{y}<br>hp=%{customdata[0]}<extra></extra>",
         "legendgroup": "Fairy",
         "marker": {
          "color": "#FFA15A",
          "size": [
           72.95454545454545
          ],
          "sizemode": "area",
          "sizeref": 0.213109756097561,
          "symbol": "circle"
         },
         "mode": "markers",
         "name": "Fairy",
         "orientation": "v",
         "showlegend": true,
         "x": [
          68.0909090909091
         ],
         "xaxis": "x",
         "y": [
          70.54545454545455
         ],
         "yaxis": "y",
         "type": "scatter"
        },
        {
         "customdata": [
          [
           72.92857142857143
          ]
         ],
         "hovertemplate": "type_1=Fighting<br>attack=%{x}<br>defense=%{y}<br>hp=%{customdata[0]}<extra></extra>",
         "legendgroup": "Fighting",
         "marker": {
          "color": "#19d3f3",
          "size": [
           72.92857142857143
          ],
          "sizemode": "area",
          "sizeref": 0.213109756097561,
          "symbol": "circle"
         },
         "mode": "markers",
         "name": "Fighting",
         "orientation": "v",
         "showlegend": true,
         "x": [
          102.92857142857143
         ],
         "xaxis": "x",
         "y": [
          73.66666666666667
         ],
         "yaxis": "y",
         "type": "scatter"
        },
        {
         "customdata": [
          [
           69.43076923076923
          ]
         ],
         "hovertemplate": "type_1=Fire<br>attack=%{x}<br>defense=%{y}<br>hp=%{customdata[0]}<extra></extra>",
         "legendgroup": "Fire",
         "marker": {
          "color": "#FF6692",
          "size": [
           69.43076923076923
          ],
          "sizemode": "area",
          "sizeref": 0.213109756097561,
          "symbol": "circle"
         },
         "mode": "markers",
         "name": "Fire",
         "orientation": "v",
         "showlegend": true,
         "x": [
          85.4
         ],
         "xaxis": "x",
         "y": [
          68.1076923076923
         ],
         "yaxis": "y",
         "type": "scatter"
        },
        {
         "customdata": [
          [
           69.625
          ]
         ],
         "hovertemplate": "type_1=Flying<br>attack=%{x}<br>defense=%{y}<br>hp=%{customdata[0]}<extra></extra>",
         "legendgroup": "Flying",
         "marker": {
          "color": "#B6E880",
          "size": [
           69.625
          ],
          "sizemode": "area",
          "sizeref": 0.213109756097561,
          "symbol": "circle"
         },
         "mode": "markers",
         "name": "Flying",
         "orientation": "v",
         "showlegend": true,
         "x": [
          75.125
         ],
         "xaxis": "x",
         "y": [
          64.375
         ],
         "yaxis": "y",
         "type": "scatter"
        },
        {
         "customdata": [
          [
           64.80952380952381
          ]
         ],
         "hovertemplate": "type_1=Ghost<br>attack=%{x}<br>defense=%{y}<br>hp=%{customdata[0]}<extra></extra>",
         "legendgroup": "Ghost",
         "marker": {
          "color": "#FF97FF",
          "size": [
           64.80952380952381
          ],
          "sizemode": "area",
          "sizeref": 0.213109756097561,
          "symbol": "circle"
         },
         "mode": "markers",
         "name": "Ghost",
         "orientation": "v",
         "showlegend": true,
         "x": [
          73.97619047619048
         ],
         "xaxis": "x",
         "y": [
          79.95238095238095
         ],
         "yaxis": "y",
         "type": "scatter"
        },
        {
         "customdata": [
          [
           66.73626373626374
          ]
         ],
         "hovertemplate": "type_1=Grass<br>attack=%{x}<br>defense=%{y}<br>hp=%{customdata[0]}<extra></extra>",
         "legendgroup": "Grass",
         "marker": {
          "color": "#FECB52",
          "size": [
           66.73626373626374
          ],
          "sizemode": "area",
          "sizeref": 0.213109756097561,
          "symbol": "circle"
         },
         "mode": "markers",
         "name": "Grass",
         "orientation": "v",
         "showlegend": true,
         "x": [
          74.81318681318682
         ],
         "xaxis": "x",
         "y": [
          71.82417582417582
         ],
         "yaxis": "y",
         "type": "scatter"
        },
        {
         "customdata": [
          [
           70.85365853658537
          ]
         ],
         "hovertemplate": "type_1=Ground<br>attack=%{x}<br>defense=%{y}<br>hp=%{customdata[0]}<extra></extra>",
         "legendgroup": "Ground",
         "marker": {
          "color": "#636efa",
          "size": [
           70.85365853658537
          ],
          "sizemode": "area",
          "sizeref": 0.213109756097561,
          "symbol": "circle"
         },
         "mode": "markers",
         "name": "Ground",
         "orientation": "v",
         "showlegend": true,
         "x": [
          94.1219512195122
         ],
         "xaxis": "x",
         "y": [
          85.46341463414635
         ],
         "yaxis": "y",
         "type": "scatter"
        },
        {
         "customdata": [
          [
           72.27027027027027
          ]
         ],
         "hovertemplate": "type_1=Ice<br>attack=%{x}<br>defense=%{y}<br>hp=%{customdata[0]}<extra></extra>",
         "legendgroup": "Ice",
         "marker": {
          "color": "#EF553B",
          "size": [
           72.27027027027027
          ],
          "sizemode": "area",
          "sizeref": 0.213109756097561,
          "symbol": "circle"
         },
         "mode": "markers",
         "name": "Ice",
         "orientation": "v",
         "showlegend": true,
         "x": [
          78.48648648648648
         ],
         "xaxis": "x",
         "y": [
          72.67567567567568
         ],
         "yaxis": "y",
         "type": "scatter"
        },
        {
         "customdata": [
          [
           77.05217391304348
          ]
         ],
         "hovertemplate": "type_1=Normal<br>attack=%{x}<br>defense=%{y}<br>hp=%{customdata[0]}<extra></extra>",
         "legendgroup": "Normal",
         "marker": {
          "color": "#00cc96",
          "size": [
           77.05217391304348
          ],
          "sizemode": "area",
          "sizeref": 0.213109756097561,
          "symbol": "circle"
         },
         "mode": "markers",
         "name": "Normal",
         "orientation": "v",
         "showlegend": true,
         "x": [
          75.26086956521739
         ],
         "xaxis": "x",
         "y": [
          61.17391304347826
         ],
         "yaxis": "y",
         "type": "scatter"
        },
        {
         "customdata": [
          [
           74.97560975609755
          ]
         ],
         "hovertemplate": "type_1=Poison<br>attack=%{x}<br>defense=%{y}<br>hp=%{customdata[0]}<extra></extra>",
         "legendgroup": "Poison",
         "marker": {
          "color": "#ab63fa",
          "size": [
           74.97560975609755
          ],
          "sizemode": "area",
          "sizeref": 0.213109756097561,
          "symbol": "circle"
         },
         "mode": "markers",
         "name": "Poison",
         "orientation": "v",
         "showlegend": true,
         "x": [
          75.8780487804878
         ],
         "xaxis": "x",
         "y": [
          76.73170731707317
         ],
         "yaxis": "y",
         "type": "scatter"
        },
        {
         "customdata": [
          [
           73.45679012345678
          ]
         ],
         "hovertemplate": "type_1=Psychic<br>attack=%{x}<br>defense=%{y}<br>hp=%{customdata[0]}<extra></extra>",
         "legendgroup": "Psychic",
         "marker": {
          "color": "#FFA15A",
          "size": [
           73.45679012345678
          ],
          "sizemode": "area",
          "sizeref": 0.213109756097561,
          "symbol": "circle"
         },
         "mode": "markers",
         "name": "Psychic",
         "orientation": "v",
         "showlegend": true,
         "x": [
          76.23456790123457
         ],
         "xaxis": "x",
         "y": [
          72.28395061728395
         ],
         "yaxis": "y",
         "type": "scatter"
        },
        {
         "customdata": [
          [
           67.1
          ]
         ],
         "hovertemplate": "type_1=Rock<br>attack=%{x}<br>defense=%{y}<br>hp=%{customdata[0]}<extra></extra>",
         "legendgroup": "Rock",
         "marker": {
          "color": "#19d3f3",
          "size": [
           67.1
          ],
          "sizemode": "area",
          "sizeref": 0.213109756097561,
          "symbol": "circle"
         },
         "mode": "markers",
         "name": "Rock",
         "orientation": "v",
         "showlegend": true,
         "x": [
          91.78333333333333
         ],
         "xaxis": "x",
         "y": [
          97.96666666666667
         ],
         "yaxis": "y",
         "type": "scatter"
        },
        {
         "customdata": [
          [
           69.52777777777777
          ]
         ],
         "hovertemplate": "type_1=Steel<br>attack=%{x}<br>defense=%{y}<br>hp=%{customdata[0]}<extra></extra>",
         "legendgroup": "Steel",
         "marker": {
          "color": "#FF6692",
          "size": [
           69.52777777777777
          ],
          "sizemode": "area",
          "sizeref": 0.213109756097561,
          "symbol": "circle"
         },
         "mode": "markers",
         "name": "Steel",
         "orientation": "v",
         "showlegend": true,
         "x": [
          94.08333333333333
         ],
         "xaxis": "x",
         "y": [
          117.38888888888889
         ],
         "yaxis": "y",
         "type": "scatter"
        },
        {
         "customdata": [
          [
           70.88805970149254
          ]
         ],
         "hovertemplate": "type_1=Water<br>attack=%{x}<br>defense=%{y}<br>hp=%{customdata[0]}<extra></extra>",
         "legendgroup": "Water",
         "marker": {
          "color": "#B6E880",
          "size": [
           70.88805970149254
          ],
          "sizemode": "area",
          "sizeref": 0.213109756097561,
          "symbol": "circle"
         },
         "mode": "markers",
         "name": "Water",
         "orientation": "v",
         "showlegend": true,
         "x": [
          74.99253731343283
         ],
         "xaxis": "x",
         "y": [
          73.11940298507463
         ],
         "yaxis": "y",
         "type": "scatter"
        }
       ],
       "layout": {
        "template": {
         "data": {
          "histogram2dcontour": [
           {
            "type": "histogram2dcontour",
            "colorbar": {
             "outlinewidth": 0,
             "ticks": ""
            },
            "colorscale": [
             [
              0.0,
              "#0d0887"
             ],
             [
              0.1111111111111111,
              "#46039f"
             ],
             [
              0.2222222222222222,
              "#7201a8"
             ],
             [
              0.3333333333333333,
              "#9c179e"
             ],
             [
              0.4444444444444444,
              "#bd3786"
             ],
             [
              0.5555555555555556,
              "#d8576b"
             ],
             [
              0.6666666666666666,
              "#ed7953"
             ],
             [
              0.7777777777777778,
              "#fb9f3a"
             ],
             [
              0.8888888888888888,
              "#fdca26"
             ],
             [
              1.0,
              "#f0f921"
             ]
            ]
           }
          ],
          "choropleth": [
           {
            "type": "choropleth",
            "colorbar": {
             "outlinewidth": 0,
             "ticks": ""
            }
           }
          ],
          "histogram2d": [
           {
            "type": "histogram2d",
            "colorbar": {
             "outlinewidth": 0,
             "ticks": ""
            },
            "colorscale": [
             [
              0.0,
              "#0d0887"
             ],
             [
              0.1111111111111111,
              "#46039f"
             ],
             [
              0.2222222222222222,
              "#7201a8"
             ],
             [
              0.3333333333333333,
              "#9c179e"
             ],
             [
              0.4444444444444444,
              "#bd3786"
             ],
             [
              0.5555555555555556,
              "#d8576b"
             ],
             [
              0.6666666666666666,
              "#ed7953"
             ],
             [
              0.7777777777777778,
              "#fb9f3a"
             ],
             [
              0.8888888888888888,
              "#fdca26"
             ],
             [
              1.0,
              "#f0f921"
             ]
            ]
           }
          ],
          "heatmap": [
           {
            "type": "heatmap",
            "colorbar": {
             "outlinewidth": 0,
             "ticks": ""
            },
            "colorscale": [
             [
              0.0,
              "#0d0887"
             ],
             [
              0.1111111111111111,
              "#46039f"
             ],
             [
              0.2222222222222222,
              "#7201a8"
             ],
             [
              0.3333333333333333,
              "#9c179e"
             ],
             [
              0.4444444444444444,
              "#bd3786"
             ],
             [
              0.5555555555555556,
              "#d8576b"
             ],
             [
              0.6666666666666666,
              "#ed7953"
             ],
             [
              0.7777777777777778,
              "#fb9f3a"
             ],
             [
              0.8888888888888888,
              "#fdca26"
             ],
             [
              1.0,
              "#f0f921"
             ]
            ]
           }
          ],
          "heatmapgl": [
           {
            "type": "heatmapgl",
            "colorbar": {
             "outlinewidth": 0,
             "ticks": ""
            },
            "colorscale": [
             [
              0.0,
              "#0d0887"
             ],
             [
              0.1111111111111111,
              "#46039f"
             ],
             [
              0.2222222222222222,
              "#7201a8"
             ],
             [
              0.3333333333333333,
              "#9c179e"
             ],
             [
              0.4444444444444444,
              "#bd3786"
             ],
             [
              0.5555555555555556,
              "#d8576b"
             ],
             [
              0.6666666666666666,
              "#ed7953"
             ],
             [
              0.7777777777777778,
              "#fb9f3a"
             ],
             [
              0.8888888888888888,
              "#fdca26"
             ],
             [
              1.0,
              "#f0f921"
             ]
            ]
           }
          ],
          "contourcarpet": [
           {
            "type": "contourcarpet",
            "colorbar": {
             "outlinewidth": 0,
             "ticks": ""
            }
           }
          ],
          "contour": [
           {
            "type": "contour",
            "colorbar": {
             "outlinewidth": 0,
             "ticks": ""
            },
            "colorscale": [
             [
              0.0,
              "#0d0887"
             ],
             [
              0.1111111111111111,
              "#46039f"
             ],
             [
              0.2222222222222222,
              "#7201a8"
             ],
             [
              0.3333333333333333,
              "#9c179e"
             ],
             [
              0.4444444444444444,
              "#bd3786"
             ],
             [
              0.5555555555555556,
              "#d8576b"
             ],
             [
              0.6666666666666666,
              "#ed7953"
             ],
             [
              0.7777777777777778,
              "#fb9f3a"
             ],
             [
              0.8888888888888888,
              "#fdca26"
             ],
             [
              1.0,
              "#f0f921"
             ]
            ]
           }
          ],
          "surface": [
           {
            "type": "surface",
            "colorbar": {
             "outlinewidth": 0,
             "ticks": ""
            },
            "colorscale": [
             [
              0.0,
              "#0d0887"
             ],
             [
              0.1111111111111111,
              "#46039f"
             ],
             [
              0.2222222222222222,
              "#7201a8"
             ],
             [
              0.3333333333333333,
              "#9c179e"
             ],
             [
              0.4444444444444444,
              "#bd3786"
             ],
             [
              0.5555555555555556,
              "#d8576b"
             ],
             [
              0.6666666666666666,
              "#ed7953"
             ],
             [
              0.7777777777777778,
              "#fb9f3a"
             ],
             [
              0.8888888888888888,
              "#fdca26"
             ],
             [
              1.0,
              "#f0f921"
             ]
            ]
           }
          ],
          "mesh3d": [
           {
            "type": "mesh3d",
            "colorbar": {
             "outlinewidth": 0,
             "ticks": ""
            }
           }
          ],
          "scatter": [
           {
            "marker": {
             "line": {
              "color": "#283442"
             }
            },
            "type": "scatter"
           }
          ],
          "parcoords": [
           {
            "type": "parcoords",
            "line": {
             "colorbar": {
              "outlinewidth": 0,
              "ticks": ""
             }
            }
           }
          ],
          "scatterpolargl": [
           {
            "type": "scatterpolargl",
            "marker": {
             "colorbar": {
              "outlinewidth": 0,
              "ticks": ""
             }
            }
           }
          ],
          "bar": [
           {
            "error_x": {
             "color": "#f2f5fa"
            },
            "error_y": {
             "color": "#f2f5fa"
            },
            "marker": {
             "line": {
              "color": "rgb(17,17,17)",
              "width": 0.5
             },
             "pattern": {
              "fillmode": "overlay",
              "size": 10,
              "solidity": 0.2
             }
            },
            "type": "bar"
           }
          ],
          "scattergeo": [
           {
            "type": "scattergeo",
            "marker": {
             "colorbar": {
              "outlinewidth": 0,
              "ticks": ""
             }
            }
           }
          ],
          "scatterpolar": [
           {
            "type": "scatterpolar",
            "marker": {
             "colorbar": {
              "outlinewidth": 0,
              "ticks": ""
             }
            }
           }
          ],
          "histogram": [
           {
            "marker": {
             "pattern": {
              "fillmode": "overlay",
              "size": 10,
              "solidity": 0.2
             }
            },
            "type": "histogram"
           }
          ],
          "scattergl": [
           {
            "marker": {
             "line": {
              "color": "#283442"
             }
            },
            "type": "scattergl"
           }
          ],
          "scatter3d": [
           {
            "type": "scatter3d",
            "line": {
             "colorbar": {
              "outlinewidth": 0,
              "ticks": ""
             }
            },
            "marker": {
             "colorbar": {
              "outlinewidth": 0,
              "ticks": ""
             }
            }
           }
          ],
          "scattermapbox": [
           {
            "type": "scattermapbox",
            "marker": {
             "colorbar": {
              "outlinewidth": 0,
              "ticks": ""
             }
            }
           }
          ],
          "scatterternary": [
           {
            "type": "scatterternary",
            "marker": {
             "colorbar": {
              "outlinewidth": 0,
              "ticks": ""
             }
            }
           }
          ],
          "scattercarpet": [
           {
            "type": "scattercarpet",
            "marker": {
             "colorbar": {
              "outlinewidth": 0,
              "ticks": ""
             }
            }
           }
          ],
          "carpet": [
           {
            "aaxis": {
             "endlinecolor": "#A2B1C6",
             "gridcolor": "#506784",
             "linecolor": "#506784",
             "minorgridcolor": "#506784",
             "startlinecolor": "#A2B1C6"
            },
            "baxis": {
             "endlinecolor": "#A2B1C6",
             "gridcolor": "#506784",
             "linecolor": "#506784",
             "minorgridcolor": "#506784",
             "startlinecolor": "#A2B1C6"
            },
            "type": "carpet"
           }
          ],
          "table": [
           {
            "cells": {
             "fill": {
              "color": "#506784"
             },
             "line": {
              "color": "rgb(17,17,17)"
             }
            },
            "header": {
             "fill": {
              "color": "#2a3f5f"
             },
             "line": {
              "color": "rgb(17,17,17)"
             }
            },
            "type": "table"
           }
          ],
          "barpolar": [
           {
            "marker": {
             "line": {
              "color": "rgb(17,17,17)",
              "width": 0.5
             },
             "pattern": {
              "fillmode": "overlay",
              "size": 10,
              "solidity": 0.2
             }
            },
            "type": "barpolar"
           }
          ],
          "pie": [
           {
            "automargin": true,
            "type": "pie"
           }
          ]
         },
         "layout": {
          "autotypenumbers": "strict",
          "colorway": [
           "#636efa",
           "#EF553B",
           "#00cc96",
           "#ab63fa",
           "#FFA15A",
           "#19d3f3",
           "#FF6692",
           "#B6E880",
           "#FF97FF",
           "#FECB52"
          ],
          "font": {
           "color": "#f2f5fa"
          },
          "hovermode": "closest",
          "hoverlabel": {
           "align": "left"
          },
          "paper_bgcolor": "rgb(17,17,17)",
          "plot_bgcolor": "rgb(17,17,17)",
          "polar": {
           "bgcolor": "rgb(17,17,17)",
           "angularaxis": {
            "gridcolor": "#506784",
            "linecolor": "#506784",
            "ticks": ""
           },
           "radialaxis": {
            "gridcolor": "#506784",
            "linecolor": "#506784",
            "ticks": ""
           }
          },
          "ternary": {
           "bgcolor": "rgb(17,17,17)",
           "aaxis": {
            "gridcolor": "#506784",
            "linecolor": "#506784",
            "ticks": ""
           },
           "baxis": {
            "gridcolor": "#506784",
            "linecolor": "#506784",
            "ticks": ""
           },
           "caxis": {
            "gridcolor": "#506784",
            "linecolor": "#506784",
            "ticks": ""
           }
          },
          "coloraxis": {
           "colorbar": {
            "outlinewidth": 0,
            "ticks": ""
           }
          },
          "colorscale": {
           "sequential": [
            [
             0.0,
             "#0d0887"
            ],
            [
             0.1111111111111111,
             "#46039f"
            ],
            [
             0.2222222222222222,
             "#7201a8"
            ],
            [
             0.3333333333333333,
             "#9c179e"
            ],
            [
             0.4444444444444444,
             "#bd3786"
            ],
            [
             0.5555555555555556,
             "#d8576b"
            ],
            [
             0.6666666666666666,
             "#ed7953"
            ],
            [
             0.7777777777777778,
             "#fb9f3a"
            ],
            [
             0.8888888888888888,
             "#fdca26"
            ],
            [
             1.0,
             "#f0f921"
            ]
           ],
           "sequentialminus": [
            [
             0.0,
             "#0d0887"
            ],
            [
             0.1111111111111111,
             "#46039f"
            ],
            [
             0.2222222222222222,
             "#7201a8"
            ],
            [
             0.3333333333333333,
             "#9c179e"
            ],
            [
             0.4444444444444444,
             "#bd3786"
            ],
            [
             0.5555555555555556,
             "#d8576b"
            ],
            [
             0.6666666666666666,
             "#ed7953"
            ],
            [
             0.7777777777777778,
             "#fb9f3a"
            ],
            [
             0.8888888888888888,
             "#fdca26"
            ],
            [
             1.0,
             "#f0f921"
            ]
           ],
           "diverging": [
            [
             0,
             "#8e0152"
            ],
            [
             0.1,
             "#c51b7d"
            ],
            [
             0.2,
             "#de77ae"
            ],
            [
             0.3,
             "#f1b6da"
            ],
            [
             0.4,
             "#fde0ef"
            ],
            [
             0.5,
             "#f7f7f7"
            ],
            [
             0.6,
             "#e6f5d0"
            ],
            [
             0.7,
             "#b8e186"
            ],
            [
             0.8,
             "#7fbc41"
            ],
            [
             0.9,
             "#4d9221"
            ],
            [
             1,
             "#276419"
            ]
           ]
          },
          "xaxis": {
           "gridcolor": "#283442",
           "linecolor": "#506784",
           "ticks": "",
           "title": {
            "standoff": 15
           },
           "zerolinecolor": "#283442",
           "automargin": true,
           "zerolinewidth": 2
          },
          "yaxis": {
           "gridcolor": "#283442",
           "linecolor": "#506784",
           "ticks": "",
           "title": {
            "standoff": 15
           },
           "zerolinecolor": "#283442",
           "automargin": true,
           "zerolinewidth": 2
          },
          "scene": {
           "xaxis": {
            "backgroundcolor": "rgb(17,17,17)",
            "gridcolor": "#506784",
            "linecolor": "#506784",
            "showbackground": true,
            "ticks": "",
            "zerolinecolor": "#C8D4E3",
            "gridwidth": 2
           },
           "yaxis": {
            "backgroundcolor": "rgb(17,17,17)",
            "gridcolor": "#506784",
            "linecolor": "#506784",
            "showbackground": true,
            "ticks": "",
            "zerolinecolor": "#C8D4E3",
            "gridwidth": 2
           },
           "zaxis": {
            "backgroundcolor": "rgb(17,17,17)",
            "gridcolor": "#506784",
            "linecolor": "#506784",
            "showbackground": true,
            "ticks": "",
            "zerolinecolor": "#C8D4E3",
            "gridwidth": 2
           }
          },
          "shapedefaults": {
           "line": {
            "color": "#f2f5fa"
           }
          },
          "annotationdefaults": {
           "arrowcolor": "#f2f5fa",
           "arrowhead": 0,
           "arrowwidth": 1
          },
          "geo": {
           "bgcolor": "rgb(17,17,17)",
           "landcolor": "rgb(17,17,17)",
           "subunitcolor": "#506784",
           "showland": true,
           "showlakes": true,
           "lakecolor": "rgb(17,17,17)"
          },
          "title": {
           "x": 0.05
          },
          "updatemenudefaults": {
           "bgcolor": "#506784",
           "borderwidth": 0
          },
          "sliderdefaults": {
           "bgcolor": "#C8D4E3",
           "borderwidth": 1,
           "bordercolor": "rgb(17,17,17)",
           "tickwidth": 0
          },
          "mapbox": {
           "style": "dark"
          }
         }
        },
        "xaxis": {
         "anchor": "y",
         "domain": [
          0.0,
          1.0
         ],
         "title": {
          "text": "attack"
         }
        },
        "yaxis": {
         "anchor": "x",
         "domain": [
          0.0,
          1.0
         ],
         "title": {
          "text": "defense"
         }
        },
        "legend": {
         "title": {
          "text": "type_1"
         },
         "tracegroupgap": 0,
         "itemsizing": "constant"
        },
        "margin": {
         "t": 60
        }
       },
       "config": {
        "plotlyServerURL": "https://plot.ly"
       }
      },
      "text/html": "<div>                            <div id=\"4e32190e-08b1-40a9-be0d-d1f77dd80e07\" class=\"plotly-graph-div\" style=\"height:525px; width:100%;\"></div>            <script type=\"text/javascript\">                require([\"plotly\"], function(Plotly) {                    window.PLOTLYENV=window.PLOTLYENV || {};                                    if (document.getElementById(\"4e32190e-08b1-40a9-be0d-d1f77dd80e07\")) {                    Plotly.newPlot(                        \"4e32190e-08b1-40a9-be0d-d1f77dd80e07\",                        [{\"customdata\":[[57.02469135802469]],\"hovertemplate\":\"type_1=Bug<br>attack=%{x}<br>defense=%{y}<br>hp=%{customdata[0]}<extra></extra>\",\"legendgroup\":\"Bug\",\"marker\":{\"color\":\"#636efa\",\"size\":[57.02469135802469],\"sizemode\":\"area\",\"sizeref\":0.213109756097561,\"symbol\":\"circle\"},\"mode\":\"markers\",\"name\":\"Bug\",\"orientation\":\"v\",\"showlegend\":true,\"x\":[71.07407407407408],\"xaxis\":\"x\",\"y\":[71.80246913580247],\"yaxis\":\"y\",\"type\":\"scatter\"},{\"customdata\":[[70.06521739130434]],\"hovertemplate\":\"type_1=Dark<br>attack=%{x}<br>defense=%{y}<br>hp=%{customdata[0]}<extra></extra>\",\"legendgroup\":\"Dark\",\"marker\":{\"color\":\"#EF553B\",\"size\":[70.06521739130434],\"sizemode\":\"area\",\"sizeref\":0.213109756097561,\"symbol\":\"circle\"},\"mode\":\"markers\",\"name\":\"Dark\",\"orientation\":\"v\",\"showlegend\":true,\"x\":[81.93478260869566],\"xaxis\":\"x\",\"y\":[66.3913043478261],\"yaxis\":\"y\",\"type\":\"scatter\"},{\"customdata\":[[85.2439024390244]],\"hovertemplate\":\"type_1=Dragon<br>attack=%{x}<br>defense=%{y}<br>hp=%{customdata[0]}<extra></extra>\",\"legendgroup\":\"Dragon\",\"marker\":{\"color\":\"#00cc96\",\"size\":[85.2439024390244],\"sizemode\":\"area\",\"sizeref\":0.213109756097561,\"symbol\":\"circle\"},\"mode\":\"markers\",\"name\":\"Dragon\",\"orientation\":\"v\",\"showlegend\":true,\"x\":[107.02439024390245],\"xaxis\":\"x\",\"y\":[83.92682926829268],\"yaxis\":\"y\",\"type\":\"scatter\"},{\"customdata\":[[62.24193548387097]],\"hovertemplate\":\"type_1=Electric<br>attack=%{x}<br>defense=%{y}<br>hp=%{customdata[0]}<extra></extra>\",\"legendgroup\":\"Electric\",\"marker\":{\"color\":\"#ab63fa\",\"size\":[62.24193548387097],\"sizemode\":\"area\",\"sizeref\":0.213109756097561,\"symbol\":\"circle\"},\"mode\":\"markers\",\"name\":\"Electric\",\"orientation\":\"v\",\"showlegend\":true,\"x\":[74.98387096774194],\"xaxis\":\"x\",\"y\":[66.24193548387096],\"yaxis\":\"y\",\"type\":\"scatter\"},{\"customdata\":[[72.95454545454545]],\"hovertemplate\":\"type_1=Fairy<br>attack=%{x}<br>defense=%{y}<br>hp=%{customdata[0]}<extra></extra>\",\"legendgroup\":\"Fairy\",\"marker\":{\"color\":\"#FFA15A\",\"size\":[72.95454545454545],\"sizemode\":\"area\",\"sizeref\":0.213109756097561,\"symbol\":\"circle\"},\"mode\":\"markers\",\"name\":\"Fairy\",\"orientation\":\"v\",\"showlegend\":true,\"x\":[68.0909090909091],\"xaxis\":\"x\",\"y\":[70.54545454545455],\"yaxis\":\"y\",\"type\":\"scatter\"},{\"customdata\":[[72.92857142857143]],\"hovertemplate\":\"type_1=Fighting<br>attack=%{x}<br>defense=%{y}<br>hp=%{customdata[0]}<extra></extra>\",\"legendgroup\":\"Fighting\",\"marker\":{\"color\":\"#19d3f3\",\"size\":[72.92857142857143],\"sizemode\":\"area\",\"sizeref\":0.213109756097561,\"symbol\":\"circle\"},\"mode\":\"markers\",\"name\":\"Fighting\",\"orientation\":\"v\",\"showlegend\":true,\"x\":[102.92857142857143],\"xaxis\":\"x\",\"y\":[73.66666666666667],\"yaxis\":\"y\",\"type\":\"scatter\"},{\"customdata\":[[69.43076923076923]],\"hovertemplate\":\"type_1=Fire<br>attack=%{x}<br>defense=%{y}<br>hp=%{customdata[0]}<extra></extra>\",\"legendgroup\":\"Fire\",\"marker\":{\"color\":\"#FF6692\",\"size\":[69.43076923076923],\"sizemode\":\"area\",\"sizeref\":0.213109756097561,\"symbol\":\"circle\"},\"mode\":\"markers\",\"name\":\"Fire\",\"orientation\":\"v\",\"showlegend\":true,\"x\":[85.4],\"xaxis\":\"x\",\"y\":[68.1076923076923],\"yaxis\":\"y\",\"type\":\"scatter\"},{\"customdata\":[[69.625]],\"hovertemplate\":\"type_1=Flying<br>attack=%{x}<br>defense=%{y}<br>hp=%{customdata[0]}<extra></extra>\",\"legendgroup\":\"Flying\",\"marker\":{\"color\":\"#B6E880\",\"size\":[69.625],\"sizemode\":\"area\",\"sizeref\":0.213109756097561,\"symbol\":\"circle\"},\"mode\":\"markers\",\"name\":\"Flying\",\"orientation\":\"v\",\"showlegend\":true,\"x\":[75.125],\"xaxis\":\"x\",\"y\":[64.375],\"yaxis\":\"y\",\"type\":\"scatter\"},{\"customdata\":[[64.80952380952381]],\"hovertemplate\":\"type_1=Ghost<br>attack=%{x}<br>defense=%{y}<br>hp=%{customdata[0]}<extra></extra>\",\"legendgroup\":\"Ghost\",\"marker\":{\"color\":\"#FF97FF\",\"size\":[64.80952380952381],\"sizemode\":\"area\",\"sizeref\":0.213109756097561,\"symbol\":\"circle\"},\"mode\":\"markers\",\"name\":\"Ghost\",\"orientation\":\"v\",\"showlegend\":true,\"x\":[73.97619047619048],\"xaxis\":\"x\",\"y\":[79.95238095238095],\"yaxis\":\"y\",\"type\":\"scatter\"},{\"customdata\":[[66.73626373626374]],\"hovertemplate\":\"type_1=Grass<br>attack=%{x}<br>defense=%{y}<br>hp=%{customdata[0]}<extra></extra>\",\"legendgroup\":\"Grass\",\"marker\":{\"color\":\"#FECB52\",\"size\":[66.73626373626374],\"sizemode\":\"area\",\"sizeref\":0.213109756097561,\"symbol\":\"circle\"},\"mode\":\"markers\",\"name\":\"Grass\",\"orientation\":\"v\",\"showlegend\":true,\"x\":[74.81318681318682],\"xaxis\":\"x\",\"y\":[71.82417582417582],\"yaxis\":\"y\",\"type\":\"scatter\"},{\"customdata\":[[70.85365853658537]],\"hovertemplate\":\"type_1=Ground<br>attack=%{x}<br>defense=%{y}<br>hp=%{customdata[0]}<extra></extra>\",\"legendgroup\":\"Ground\",\"marker\":{\"color\":\"#636efa\",\"size\":[70.85365853658537],\"sizemode\":\"area\",\"sizeref\":0.213109756097561,\"symbol\":\"circle\"},\"mode\":\"markers\",\"name\":\"Ground\",\"orientation\":\"v\",\"showlegend\":true,\"x\":[94.1219512195122],\"xaxis\":\"x\",\"y\":[85.46341463414635],\"yaxis\":\"y\",\"type\":\"scatter\"},{\"customdata\":[[72.27027027027027]],\"hovertemplate\":\"type_1=Ice<br>attack=%{x}<br>defense=%{y}<br>hp=%{customdata[0]}<extra></extra>\",\"legendgroup\":\"Ice\",\"marker\":{\"color\":\"#EF553B\",\"size\":[72.27027027027027],\"sizemode\":\"area\",\"sizeref\":0.213109756097561,\"symbol\":\"circle\"},\"mode\":\"markers\",\"name\":\"Ice\",\"orientation\":\"v\",\"showlegend\":true,\"x\":[78.48648648648648],\"xaxis\":\"x\",\"y\":[72.67567567567568],\"yaxis\":\"y\",\"type\":\"scatter\"},{\"customdata\":[[77.05217391304348]],\"hovertemplate\":\"type_1=Normal<br>attack=%{x}<br>defense=%{y}<br>hp=%{customdata[0]}<extra></extra>\",\"legendgroup\":\"Normal\",\"marker\":{\"color\":\"#00cc96\",\"size\":[77.05217391304348],\"sizemode\":\"area\",\"sizeref\":0.213109756097561,\"symbol\":\"circle\"},\"mode\":\"markers\",\"name\":\"Normal\",\"orientation\":\"v\",\"showlegend\":true,\"x\":[75.26086956521739],\"xaxis\":\"x\",\"y\":[61.17391304347826],\"yaxis\":\"y\",\"type\":\"scatter\"},{\"customdata\":[[74.97560975609755]],\"hovertemplate\":\"type_1=Poison<br>attack=%{x}<br>defense=%{y}<br>hp=%{customdata[0]}<extra></extra>\",\"legendgroup\":\"Poison\",\"marker\":{\"color\":\"#ab63fa\",\"size\":[74.97560975609755],\"sizemode\":\"area\",\"sizeref\":0.213109756097561,\"symbol\":\"circle\"},\"mode\":\"markers\",\"name\":\"Poison\",\"orientation\":\"v\",\"showlegend\":true,\"x\":[75.8780487804878],\"xaxis\":\"x\",\"y\":[76.73170731707317],\"yaxis\":\"y\",\"type\":\"scatter\"},{\"customdata\":[[73.45679012345678]],\"hovertemplate\":\"type_1=Psychic<br>attack=%{x}<br>defense=%{y}<br>hp=%{customdata[0]}<extra></extra>\",\"legendgroup\":\"Psychic\",\"marker\":{\"color\":\"#FFA15A\",\"size\":[73.45679012345678],\"sizemode\":\"area\",\"sizeref\":0.213109756097561,\"symbol\":\"circle\"},\"mode\":\"markers\",\"name\":\"Psychic\",\"orientation\":\"v\",\"showlegend\":true,\"x\":[76.23456790123457],\"xaxis\":\"x\",\"y\":[72.28395061728395],\"yaxis\":\"y\",\"type\":\"scatter\"},{\"customdata\":[[67.1]],\"hovertemplate\":\"type_1=Rock<br>attack=%{x}<br>defense=%{y}<br>hp=%{customdata[0]}<extra></extra>\",\"legendgroup\":\"Rock\",\"marker\":{\"color\":\"#19d3f3\",\"size\":[67.1],\"sizemode\":\"area\",\"sizeref\":0.213109756097561,\"symbol\":\"circle\"},\"mode\":\"markers\",\"name\":\"Rock\",\"orientation\":\"v\",\"showlegend\":true,\"x\":[91.78333333333333],\"xaxis\":\"x\",\"y\":[97.96666666666667],\"yaxis\":\"y\",\"type\":\"scatter\"},{\"customdata\":[[69.52777777777777]],\"hovertemplate\":\"type_1=Steel<br>attack=%{x}<br>defense=%{y}<br>hp=%{customdata[0]}<extra></extra>\",\"legendgroup\":\"Steel\",\"marker\":{\"color\":\"#FF6692\",\"size\":[69.52777777777777],\"sizemode\":\"area\",\"sizeref\":0.213109756097561,\"symbol\":\"circle\"},\"mode\":\"markers\",\"name\":\"Steel\",\"orientation\":\"v\",\"showlegend\":true,\"x\":[94.08333333333333],\"xaxis\":\"x\",\"y\":[117.38888888888889],\"yaxis\":\"y\",\"type\":\"scatter\"},{\"customdata\":[[70.88805970149254]],\"hovertemplate\":\"type_1=Water<br>attack=%{x}<br>defense=%{y}<br>hp=%{customdata[0]}<extra></extra>\",\"legendgroup\":\"Water\",\"marker\":{\"color\":\"#B6E880\",\"size\":[70.88805970149254],\"sizemode\":\"area\",\"sizeref\":0.213109756097561,\"symbol\":\"circle\"},\"mode\":\"markers\",\"name\":\"Water\",\"orientation\":\"v\",\"showlegend\":true,\"x\":[74.99253731343283],\"xaxis\":\"x\",\"y\":[73.11940298507463],\"yaxis\":\"y\",\"type\":\"scatter\"}],                        {\"template\":{\"data\":{\"histogram2dcontour\":[{\"type\":\"histogram2dcontour\",\"colorbar\":{\"outlinewidth\":0,\"ticks\":\"\"},\"colorscale\":[[0.0,\"#0d0887\"],[0.1111111111111111,\"#46039f\"],[0.2222222222222222,\"#7201a8\"],[0.3333333333333333,\"#9c179e\"],[0.4444444444444444,\"#bd3786\"],[0.5555555555555556,\"#d8576b\"],[0.6666666666666666,\"#ed7953\"],[0.7777777777777778,\"#fb9f3a\"],[0.8888888888888888,\"#fdca26\"],[1.0,\"#f0f921\"]]}],\"choropleth\":[{\"type\":\"choropleth\",\"colorbar\":{\"outlinewidth\":0,\"ticks\":\"\"}}],\"histogram2d\":[{\"type\":\"histogram2d\",\"colorbar\":{\"outlinewidth\":0,\"ticks\":\"\"},\"colorscale\":[[0.0,\"#0d0887\"],[0.1111111111111111,\"#46039f\"],[0.2222222222222222,\"#7201a8\"],[0.3333333333333333,\"#9c179e\"],[0.4444444444444444,\"#bd3786\"],[0.5555555555555556,\"#d8576b\"],[0.6666666666666666,\"#ed7953\"],[0.7777777777777778,\"#fb9f3a\"],[0.8888888888888888,\"#fdca26\"],[1.0,\"#f0f921\"]]}],\"heatmap\":[{\"type\":\"heatmap\",\"colorbar\":{\"outlinewidth\":0,\"ticks\":\"\"},\"colorscale\":[[0.0,\"#0d0887\"],[0.1111111111111111,\"#46039f\"],[0.2222222222222222,\"#7201a8\"],[0.3333333333333333,\"#9c179e\"],[0.4444444444444444,\"#bd3786\"],[0.5555555555555556,\"#d8576b\"],[0.6666666666666666,\"#ed7953\"],[0.7777777777777778,\"#fb9f3a\"],[0.8888888888888888,\"#fdca26\"],[1.0,\"#f0f921\"]]}],\"heatmapgl\":[{\"type\":\"heatmapgl\",\"colorbar\":{\"outlinewidth\":0,\"ticks\":\"\"},\"colorscale\":[[0.0,\"#0d0887\"],[0.1111111111111111,\"#46039f\"],[0.2222222222222222,\"#7201a8\"],[0.3333333333333333,\"#9c179e\"],[0.4444444444444444,\"#bd3786\"],[0.5555555555555556,\"#d8576b\"],[0.6666666666666666,\"#ed7953\"],[0.7777777777777778,\"#fb9f3a\"],[0.8888888888888888,\"#fdca26\"],[1.0,\"#f0f921\"]]}],\"contourcarpet\":[{\"type\":\"contourcarpet\",\"colorbar\":{\"outlinewidth\":0,\"ticks\":\"\"}}],\"contour\":[{\"type\":\"contour\",\"colorbar\":{\"outlinewidth\":0,\"ticks\":\"\"},\"colorscale\":[[0.0,\"#0d0887\"],[0.1111111111111111,\"#46039f\"],[0.2222222222222222,\"#7201a8\"],[0.3333333333333333,\"#9c179e\"],[0.4444444444444444,\"#bd3786\"],[0.5555555555555556,\"#d8576b\"],[0.6666666666666666,\"#ed7953\"],[0.7777777777777778,\"#fb9f3a\"],[0.8888888888888888,\"#fdca26\"],[1.0,\"#f0f921\"]]}],\"surface\":[{\"type\":\"surface\",\"colorbar\":{\"outlinewidth\":0,\"ticks\":\"\"},\"colorscale\":[[0.0,\"#0d0887\"],[0.1111111111111111,\"#46039f\"],[0.2222222222222222,\"#7201a8\"],[0.3333333333333333,\"#9c179e\"],[0.4444444444444444,\"#bd3786\"],[0.5555555555555556,\"#d8576b\"],[0.6666666666666666,\"#ed7953\"],[0.7777777777777778,\"#fb9f3a\"],[0.8888888888888888,\"#fdca26\"],[1.0,\"#f0f921\"]]}],\"mesh3d\":[{\"type\":\"mesh3d\",\"colorbar\":{\"outlinewidth\":0,\"ticks\":\"\"}}],\"scatter\":[{\"marker\":{\"line\":{\"color\":\"#283442\"}},\"type\":\"scatter\"}],\"parcoords\":[{\"type\":\"parcoords\",\"line\":{\"colorbar\":{\"outlinewidth\":0,\"ticks\":\"\"}}}],\"scatterpolargl\":[{\"type\":\"scatterpolargl\",\"marker\":{\"colorbar\":{\"outlinewidth\":0,\"ticks\":\"\"}}}],\"bar\":[{\"error_x\":{\"color\":\"#f2f5fa\"},\"error_y\":{\"color\":\"#f2f5fa\"},\"marker\":{\"line\":{\"color\":\"rgb(17,17,17)\",\"width\":0.5},\"pattern\":{\"fillmode\":\"overlay\",\"size\":10,\"solidity\":0.2}},\"type\":\"bar\"}],\"scattergeo\":[{\"type\":\"scattergeo\",\"marker\":{\"colorbar\":{\"outlinewidth\":0,\"ticks\":\"\"}}}],\"scatterpolar\":[{\"type\":\"scatterpolar\",\"marker\":{\"colorbar\":{\"outlinewidth\":0,\"ticks\":\"\"}}}],\"histogram\":[{\"marker\":{\"pattern\":{\"fillmode\":\"overlay\",\"size\":10,\"solidity\":0.2}},\"type\":\"histogram\"}],\"scattergl\":[{\"marker\":{\"line\":{\"color\":\"#283442\"}},\"type\":\"scattergl\"}],\"scatter3d\":[{\"type\":\"scatter3d\",\"line\":{\"colorbar\":{\"outlinewidth\":0,\"ticks\":\"\"}},\"marker\":{\"colorbar\":{\"outlinewidth\":0,\"ticks\":\"\"}}}],\"scattermapbox\":[{\"type\":\"scattermapbox\",\"marker\":{\"colorbar\":{\"outlinewidth\":0,\"ticks\":\"\"}}}],\"scatterternary\":[{\"type\":\"scatterternary\",\"marker\":{\"colorbar\":{\"outlinewidth\":0,\"ticks\":\"\"}}}],\"scattercarpet\":[{\"type\":\"scattercarpet\",\"marker\":{\"colorbar\":{\"outlinewidth\":0,\"ticks\":\"\"}}}],\"carpet\":[{\"aaxis\":{\"endlinecolor\":\"#A2B1C6\",\"gridcolor\":\"#506784\",\"linecolor\":\"#506784\",\"minorgridcolor\":\"#506784\",\"startlinecolor\":\"#A2B1C6\"},\"baxis\":{\"endlinecolor\":\"#A2B1C6\",\"gridcolor\":\"#506784\",\"linecolor\":\"#506784\",\"minorgridcolor\":\"#506784\",\"startlinecolor\":\"#A2B1C6\"},\"type\":\"carpet\"}],\"table\":[{\"cells\":{\"fill\":{\"color\":\"#506784\"},\"line\":{\"color\":\"rgb(17,17,17)\"}},\"header\":{\"fill\":{\"color\":\"#2a3f5f\"},\"line\":{\"color\":\"rgb(17,17,17)\"}},\"type\":\"table\"}],\"barpolar\":[{\"marker\":{\"line\":{\"color\":\"rgb(17,17,17)\",\"width\":0.5},\"pattern\":{\"fillmode\":\"overlay\",\"size\":10,\"solidity\":0.2}},\"type\":\"barpolar\"}],\"pie\":[{\"automargin\":true,\"type\":\"pie\"}]},\"layout\":{\"autotypenumbers\":\"strict\",\"colorway\":[\"#636efa\",\"#EF553B\",\"#00cc96\",\"#ab63fa\",\"#FFA15A\",\"#19d3f3\",\"#FF6692\",\"#B6E880\",\"#FF97FF\",\"#FECB52\"],\"font\":{\"color\":\"#f2f5fa\"},\"hovermode\":\"closest\",\"hoverlabel\":{\"align\":\"left\"},\"paper_bgcolor\":\"rgb(17,17,17)\",\"plot_bgcolor\":\"rgb(17,17,17)\",\"polar\":{\"bgcolor\":\"rgb(17,17,17)\",\"angularaxis\":{\"gridcolor\":\"#506784\",\"linecolor\":\"#506784\",\"ticks\":\"\"},\"radialaxis\":{\"gridcolor\":\"#506784\",\"linecolor\":\"#506784\",\"ticks\":\"\"}},\"ternary\":{\"bgcolor\":\"rgb(17,17,17)\",\"aaxis\":{\"gridcolor\":\"#506784\",\"linecolor\":\"#506784\",\"ticks\":\"\"},\"baxis\":{\"gridcolor\":\"#506784\",\"linecolor\":\"#506784\",\"ticks\":\"\"},\"caxis\":{\"gridcolor\":\"#506784\",\"linecolor\":\"#506784\",\"ticks\":\"\"}},\"coloraxis\":{\"colorbar\":{\"outlinewidth\":0,\"ticks\":\"\"}},\"colorscale\":{\"sequential\":[[0.0,\"#0d0887\"],[0.1111111111111111,\"#46039f\"],[0.2222222222222222,\"#7201a8\"],[0.3333333333333333,\"#9c179e\"],[0.4444444444444444,\"#bd3786\"],[0.5555555555555556,\"#d8576b\"],[0.6666666666666666,\"#ed7953\"],[0.7777777777777778,\"#fb9f3a\"],[0.8888888888888888,\"#fdca26\"],[1.0,\"#f0f921\"]],\"sequentialminus\":[[0.0,\"#0d0887\"],[0.1111111111111111,\"#46039f\"],[0.2222222222222222,\"#7201a8\"],[0.3333333333333333,\"#9c179e\"],[0.4444444444444444,\"#bd3786\"],[0.5555555555555556,\"#d8576b\"],[0.6666666666666666,\"#ed7953\"],[0.7777777777777778,\"#fb9f3a\"],[0.8888888888888888,\"#fdca26\"],[1.0,\"#f0f921\"]],\"diverging\":[[0,\"#8e0152\"],[0.1,\"#c51b7d\"],[0.2,\"#de77ae\"],[0.3,\"#f1b6da\"],[0.4,\"#fde0ef\"],[0.5,\"#f7f7f7\"],[0.6,\"#e6f5d0\"],[0.7,\"#b8e186\"],[0.8,\"#7fbc41\"],[0.9,\"#4d9221\"],[1,\"#276419\"]]},\"xaxis\":{\"gridcolor\":\"#283442\",\"linecolor\":\"#506784\",\"ticks\":\"\",\"title\":{\"standoff\":15},\"zerolinecolor\":\"#283442\",\"automargin\":true,\"zerolinewidth\":2},\"yaxis\":{\"gridcolor\":\"#283442\",\"linecolor\":\"#506784\",\"ticks\":\"\",\"title\":{\"standoff\":15},\"zerolinecolor\":\"#283442\",\"automargin\":true,\"zerolinewidth\":2},\"scene\":{\"xaxis\":{\"backgroundcolor\":\"rgb(17,17,17)\",\"gridcolor\":\"#506784\",\"linecolor\":\"#506784\",\"showbackground\":true,\"ticks\":\"\",\"zerolinecolor\":\"#C8D4E3\",\"gridwidth\":2},\"yaxis\":{\"backgroundcolor\":\"rgb(17,17,17)\",\"gridcolor\":\"#506784\",\"linecolor\":\"#506784\",\"showbackground\":true,\"ticks\":\"\",\"zerolinecolor\":\"#C8D4E3\",\"gridwidth\":2},\"zaxis\":{\"backgroundcolor\":\"rgb(17,17,17)\",\"gridcolor\":\"#506784\",\"linecolor\":\"#506784\",\"showbackground\":true,\"ticks\":\"\",\"zerolinecolor\":\"#C8D4E3\",\"gridwidth\":2}},\"shapedefaults\":{\"line\":{\"color\":\"#f2f5fa\"}},\"annotationdefaults\":{\"arrowcolor\":\"#f2f5fa\",\"arrowhead\":0,\"arrowwidth\":1},\"geo\":{\"bgcolor\":\"rgb(17,17,17)\",\"landcolor\":\"rgb(17,17,17)\",\"subunitcolor\":\"#506784\",\"showland\":true,\"showlakes\":true,\"lakecolor\":\"rgb(17,17,17)\"},\"title\":{\"x\":0.05},\"updatemenudefaults\":{\"bgcolor\":\"#506784\",\"borderwidth\":0},\"sliderdefaults\":{\"bgcolor\":\"#C8D4E3\",\"borderwidth\":1,\"bordercolor\":\"rgb(17,17,17)\",\"tickwidth\":0},\"mapbox\":{\"style\":\"dark\"}}},\"xaxis\":{\"anchor\":\"y\",\"domain\":[0.0,1.0],\"title\":{\"text\":\"attack\"}},\"yaxis\":{\"anchor\":\"x\",\"domain\":[0.0,1.0],\"title\":{\"text\":\"defense\"}},\"legend\":{\"title\":{\"text\":\"type_1\"},\"tracegroupgap\":0,\"itemsizing\":\"constant\"},\"margin\":{\"t\":60}},                        {\"responsive\": true}                    ).then(function(){\n                            \nvar gd = document.getElementById('4e32190e-08b1-40a9-be0d-d1f77dd80e07');\nvar x = new MutationObserver(function (mutations, observer) {{\n        var display = window.getComputedStyle(gd).display;\n        if (!display || display === 'none') {{\n            console.log([gd, 'removed!']);\n            Plotly.purge(gd);\n            observer.disconnect();\n        }}\n}});\n\n// Listen for the removal of the full notebook cells\nvar notebookContainer = gd.closest('#notebook-container');\nif (notebookContainer) {{\n    x.observe(notebookContainer, {childList: true});\n}}\n\n// Listen for the clearing of the current output cell\nvar outputEl = gd.closest('.output');\nif (outputEl) {{\n    x.observe(outputEl, {childList: true});\n}}\n\n                        })                };                });            </script>        </div>"
     },
     "metadata": {},
     "output_type": "display_data"
    }
   ],
   "source": [
    "px.scatter(pokedexByType, x=\"attack\", y=\"defense\", color=\"type_1\",\n",
    "           size='hp', hover_data=['attack', 'defense', 'hp'])"
   ],
   "metadata": {
    "collapsed": false,
    "ExecuteTime": {
     "end_time": "2024-04-24T00:31:49.470162100Z",
     "start_time": "2024-04-24T00:31:48.368908700Z"
    }
   },
   "id": "59ef83309c2aec79"
  },
  {
   "cell_type": "code",
   "execution_count": 20,
   "outputs": [
    {
     "data": {
      "text/plain": "   generation   weight_kg  height_m     attack    defense         hp\n0           1   51.653125  1.278646  77.302083  71.005208  64.760417\n1           2   57.985981  1.279439  71.869159  73.822430  71.476636\n2           3   85.367879  1.406061  81.030303  74.048485  66.806061\n3           4   77.013223  1.156198  82.867769  78.132231  73.082645\n4           5   55.653216  1.080117  82.976608  72.269006  72.292398\n5           6   59.437647  1.165882  77.188235  77.023529  69.882353\n6           7  109.479798  1.485859  87.313131  79.202020  71.464646\n7           8   90.543269  2.387619  83.571429  76.961905  75.200000",
      "text/html": "<div>\n<style scoped>\n    .dataframe tbody tr th:only-of-type {\n        vertical-align: middle;\n    }\n\n    .dataframe tbody tr th {\n        vertical-align: top;\n    }\n\n    .dataframe thead th {\n        text-align: right;\n    }\n</style>\n<table border=\"1\" class=\"dataframe\">\n  <thead>\n    <tr style=\"text-align: right;\">\n      <th></th>\n      <th>generation</th>\n      <th>weight_kg</th>\n      <th>height_m</th>\n      <th>attack</th>\n      <th>defense</th>\n      <th>hp</th>\n    </tr>\n  </thead>\n  <tbody>\n    <tr>\n      <th>0</th>\n      <td>1</td>\n      <td>51.653125</td>\n      <td>1.278646</td>\n      <td>77.302083</td>\n      <td>71.005208</td>\n      <td>64.760417</td>\n    </tr>\n    <tr>\n      <th>1</th>\n      <td>2</td>\n      <td>57.985981</td>\n      <td>1.279439</td>\n      <td>71.869159</td>\n      <td>73.822430</td>\n      <td>71.476636</td>\n    </tr>\n    <tr>\n      <th>2</th>\n      <td>3</td>\n      <td>85.367879</td>\n      <td>1.406061</td>\n      <td>81.030303</td>\n      <td>74.048485</td>\n      <td>66.806061</td>\n    </tr>\n    <tr>\n      <th>3</th>\n      <td>4</td>\n      <td>77.013223</td>\n      <td>1.156198</td>\n      <td>82.867769</td>\n      <td>78.132231</td>\n      <td>73.082645</td>\n    </tr>\n    <tr>\n      <th>4</th>\n      <td>5</td>\n      <td>55.653216</td>\n      <td>1.080117</td>\n      <td>82.976608</td>\n      <td>72.269006</td>\n      <td>72.292398</td>\n    </tr>\n    <tr>\n      <th>5</th>\n      <td>6</td>\n      <td>59.437647</td>\n      <td>1.165882</td>\n      <td>77.188235</td>\n      <td>77.023529</td>\n      <td>69.882353</td>\n    </tr>\n    <tr>\n      <th>6</th>\n      <td>7</td>\n      <td>109.479798</td>\n      <td>1.485859</td>\n      <td>87.313131</td>\n      <td>79.202020</td>\n      <td>71.464646</td>\n    </tr>\n    <tr>\n      <th>7</th>\n      <td>8</td>\n      <td>90.543269</td>\n      <td>2.387619</td>\n      <td>83.571429</td>\n      <td>76.961905</td>\n      <td>75.200000</td>\n    </tr>\n  </tbody>\n</table>\n</div>"
     },
     "execution_count": 20,
     "metadata": {},
     "output_type": "execute_result"
    }
   ],
   "source": [
    "pokedexByGeneration = pokedex[['generation', 'weight_kg', 'height_m', 'attack', 'defense', 'hp']].groupby(\n",
    "    ['generation']).mean().reset_index()\n",
    "pokedexByGeneration"
   ],
   "metadata": {
    "collapsed": false,
    "ExecuteTime": {
     "end_time": "2024-04-24T00:31:49.472156800Z",
     "start_time": "2024-04-24T00:31:49.407252100Z"
    }
   },
   "id": "d3eb1994afc36271"
  },
  {
   "cell_type": "markdown",
   "source": [
    "# ¿Cómo han cambiado las estadísticas en las diferentes generaciones? "
   ],
   "metadata": {
    "collapsed": false
   },
   "id": "a0bf374970aae2b3"
  },
  {
   "cell_type": "code",
   "execution_count": 21,
   "outputs": [
    {
     "data": {
      "application/vnd.plotly.v1+json": {
       "data": [
        {
         "line": {
          "color": "blue",
          "width": 2
         },
         "mode": "lines+markers",
         "name": "Average Weight",
         "text": [
          51.653124999999996,
          57.98598130841121,
          85.3678787878788,
          77.01322314049587,
          55.65321637426901,
          59.43764705882353,
          109.47979797979798,
          90.54326923076923
         ],
         "textfont": {
          "color": "blue"
         },
         "textposition": "top center",
         "x": [
          1,
          2,
          3,
          4,
          5,
          6,
          7,
          8
         ],
         "y": [
          51.653124999999996,
          57.98598130841121,
          85.3678787878788,
          77.01322314049587,
          55.65321637426901,
          59.43764705882353,
          109.47979797979798,
          90.54326923076923
         ],
         "type": "scatter"
        },
        {
         "line": {
          "color": "green",
          "width": 2
         },
         "mode": "lines+markers",
         "name": "Average Height",
         "text": [
          1.2786458333333333,
          1.2794392523364486,
          1.406060606060606,
          1.156198347107438,
          1.0801169590643274,
          1.1658823529411764,
          1.4858585858585858,
          2.3876190476190473
         ],
         "textfont": {
          "color": "green"
         },
         "textposition": "top center",
         "x": [
          1,
          2,
          3,
          4,
          5,
          6,
          7,
          8
         ],
         "y": [
          1.2786458333333333,
          1.2794392523364486,
          1.406060606060606,
          1.156198347107438,
          1.0801169590643274,
          1.1658823529411764,
          1.4858585858585858,
          2.3876190476190473
         ],
         "type": "scatter"
        },
        {
         "line": {
          "color": "red",
          "width": 2
         },
         "mode": "lines+markers",
         "name": "Average Defense",
         "text": [
          71.00520833333333,
          73.82242990654206,
          74.04848484848485,
          78.13223140495867,
          72.26900584795321,
          77.02352941176471,
          79.20202020202021,
          76.96190476190476
         ],
         "textfont": {
          "color": "red"
         },
         "textposition": "top center",
         "x": [
          1,
          2,
          3,
          4,
          5,
          6,
          7,
          8
         ],
         "y": [
          71.00520833333333,
          73.82242990654206,
          74.04848484848485,
          78.13223140495867,
          72.26900584795321,
          77.02352941176471,
          79.20202020202021,
          76.96190476190476
         ],
         "type": "scatter"
        },
        {
         "line": {
          "color": "purple",
          "width": 2
         },
         "mode": "lines+markers",
         "name": "Average Attack",
         "text": [
          77.30208333333333,
          71.86915887850468,
          81.03030303030303,
          82.86776859504133,
          82.9766081871345,
          77.18823529411765,
          87.31313131313131,
          83.57142857142857
         ],
         "textfont": {
          "color": "purple"
         },
         "textposition": "top center",
         "x": [
          1,
          2,
          3,
          4,
          5,
          6,
          7,
          8
         ],
         "y": [
          77.30208333333333,
          71.86915887850468,
          81.03030303030303,
          82.86776859504133,
          82.9766081871345,
          77.18823529411765,
          87.31313131313131,
          83.57142857142857
         ],
         "type": "scatter"
        },
        {
         "line": {
          "color": "orange",
          "width": 2
         },
         "mode": "lines+markers",
         "name": "Average HP",
         "text": [
          64.76041666666667,
          71.4766355140187,
          66.80606060606061,
          73.08264462809917,
          72.29239766081871,
          69.88235294117646,
          71.46464646464646,
          75.2
         ],
         "textfont": {
          "color": "orange"
         },
         "textposition": "top center",
         "x": [
          1,
          2,
          3,
          4,
          5,
          6,
          7,
          8
         ],
         "y": [
          64.76041666666667,
          71.4766355140187,
          66.80606060606061,
          73.08264462809917,
          72.29239766081871,
          69.88235294117646,
          71.46464646464646,
          75.2
         ],
         "type": "scatter"
        }
       ],
       "layout": {
        "template": {
         "data": {
          "histogram2dcontour": [
           {
            "type": "histogram2dcontour",
            "colorbar": {
             "outlinewidth": 0,
             "ticks": ""
            },
            "colorscale": [
             [
              0.0,
              "#0d0887"
             ],
             [
              0.1111111111111111,
              "#46039f"
             ],
             [
              0.2222222222222222,
              "#7201a8"
             ],
             [
              0.3333333333333333,
              "#9c179e"
             ],
             [
              0.4444444444444444,
              "#bd3786"
             ],
             [
              0.5555555555555556,
              "#d8576b"
             ],
             [
              0.6666666666666666,
              "#ed7953"
             ],
             [
              0.7777777777777778,
              "#fb9f3a"
             ],
             [
              0.8888888888888888,
              "#fdca26"
             ],
             [
              1.0,
              "#f0f921"
             ]
            ]
           }
          ],
          "choropleth": [
           {
            "type": "choropleth",
            "colorbar": {
             "outlinewidth": 0,
             "ticks": ""
            }
           }
          ],
          "histogram2d": [
           {
            "type": "histogram2d",
            "colorbar": {
             "outlinewidth": 0,
             "ticks": ""
            },
            "colorscale": [
             [
              0.0,
              "#0d0887"
             ],
             [
              0.1111111111111111,
              "#46039f"
             ],
             [
              0.2222222222222222,
              "#7201a8"
             ],
             [
              0.3333333333333333,
              "#9c179e"
             ],
             [
              0.4444444444444444,
              "#bd3786"
             ],
             [
              0.5555555555555556,
              "#d8576b"
             ],
             [
              0.6666666666666666,
              "#ed7953"
             ],
             [
              0.7777777777777778,
              "#fb9f3a"
             ],
             [
              0.8888888888888888,
              "#fdca26"
             ],
             [
              1.0,
              "#f0f921"
             ]
            ]
           }
          ],
          "heatmap": [
           {
            "type": "heatmap",
            "colorbar": {
             "outlinewidth": 0,
             "ticks": ""
            },
            "colorscale": [
             [
              0.0,
              "#0d0887"
             ],
             [
              0.1111111111111111,
              "#46039f"
             ],
             [
              0.2222222222222222,
              "#7201a8"
             ],
             [
              0.3333333333333333,
              "#9c179e"
             ],
             [
              0.4444444444444444,
              "#bd3786"
             ],
             [
              0.5555555555555556,
              "#d8576b"
             ],
             [
              0.6666666666666666,
              "#ed7953"
             ],
             [
              0.7777777777777778,
              "#fb9f3a"
             ],
             [
              0.8888888888888888,
              "#fdca26"
             ],
             [
              1.0,
              "#f0f921"
             ]
            ]
           }
          ],
          "heatmapgl": [
           {
            "type": "heatmapgl",
            "colorbar": {
             "outlinewidth": 0,
             "ticks": ""
            },
            "colorscale": [
             [
              0.0,
              "#0d0887"
             ],
             [
              0.1111111111111111,
              "#46039f"
             ],
             [
              0.2222222222222222,
              "#7201a8"
             ],
             [
              0.3333333333333333,
              "#9c179e"
             ],
             [
              0.4444444444444444,
              "#bd3786"
             ],
             [
              0.5555555555555556,
              "#d8576b"
             ],
             [
              0.6666666666666666,
              "#ed7953"
             ],
             [
              0.7777777777777778,
              "#fb9f3a"
             ],
             [
              0.8888888888888888,
              "#fdca26"
             ],
             [
              1.0,
              "#f0f921"
             ]
            ]
           }
          ],
          "contourcarpet": [
           {
            "type": "contourcarpet",
            "colorbar": {
             "outlinewidth": 0,
             "ticks": ""
            }
           }
          ],
          "contour": [
           {
            "type": "contour",
            "colorbar": {
             "outlinewidth": 0,
             "ticks": ""
            },
            "colorscale": [
             [
              0.0,
              "#0d0887"
             ],
             [
              0.1111111111111111,
              "#46039f"
             ],
             [
              0.2222222222222222,
              "#7201a8"
             ],
             [
              0.3333333333333333,
              "#9c179e"
             ],
             [
              0.4444444444444444,
              "#bd3786"
             ],
             [
              0.5555555555555556,
              "#d8576b"
             ],
             [
              0.6666666666666666,
              "#ed7953"
             ],
             [
              0.7777777777777778,
              "#fb9f3a"
             ],
             [
              0.8888888888888888,
              "#fdca26"
             ],
             [
              1.0,
              "#f0f921"
             ]
            ]
           }
          ],
          "surface": [
           {
            "type": "surface",
            "colorbar": {
             "outlinewidth": 0,
             "ticks": ""
            },
            "colorscale": [
             [
              0.0,
              "#0d0887"
             ],
             [
              0.1111111111111111,
              "#46039f"
             ],
             [
              0.2222222222222222,
              "#7201a8"
             ],
             [
              0.3333333333333333,
              "#9c179e"
             ],
             [
              0.4444444444444444,
              "#bd3786"
             ],
             [
              0.5555555555555556,
              "#d8576b"
             ],
             [
              0.6666666666666666,
              "#ed7953"
             ],
             [
              0.7777777777777778,
              "#fb9f3a"
             ],
             [
              0.8888888888888888,
              "#fdca26"
             ],
             [
              1.0,
              "#f0f921"
             ]
            ]
           }
          ],
          "mesh3d": [
           {
            "type": "mesh3d",
            "colorbar": {
             "outlinewidth": 0,
             "ticks": ""
            }
           }
          ],
          "scatter": [
           {
            "marker": {
             "line": {
              "color": "#283442"
             }
            },
            "type": "scatter"
           }
          ],
          "parcoords": [
           {
            "type": "parcoords",
            "line": {
             "colorbar": {
              "outlinewidth": 0,
              "ticks": ""
             }
            }
           }
          ],
          "scatterpolargl": [
           {
            "type": "scatterpolargl",
            "marker": {
             "colorbar": {
              "outlinewidth": 0,
              "ticks": ""
             }
            }
           }
          ],
          "bar": [
           {
            "error_x": {
             "color": "#f2f5fa"
            },
            "error_y": {
             "color": "#f2f5fa"
            },
            "marker": {
             "line": {
              "color": "rgb(17,17,17)",
              "width": 0.5
             },
             "pattern": {
              "fillmode": "overlay",
              "size": 10,
              "solidity": 0.2
             }
            },
            "type": "bar"
           }
          ],
          "scattergeo": [
           {
            "type": "scattergeo",
            "marker": {
             "colorbar": {
              "outlinewidth": 0,
              "ticks": ""
             }
            }
           }
          ],
          "scatterpolar": [
           {
            "type": "scatterpolar",
            "marker": {
             "colorbar": {
              "outlinewidth": 0,
              "ticks": ""
             }
            }
           }
          ],
          "histogram": [
           {
            "marker": {
             "pattern": {
              "fillmode": "overlay",
              "size": 10,
              "solidity": 0.2
             }
            },
            "type": "histogram"
           }
          ],
          "scattergl": [
           {
            "marker": {
             "line": {
              "color": "#283442"
             }
            },
            "type": "scattergl"
           }
          ],
          "scatter3d": [
           {
            "type": "scatter3d",
            "line": {
             "colorbar": {
              "outlinewidth": 0,
              "ticks": ""
             }
            },
            "marker": {
             "colorbar": {
              "outlinewidth": 0,
              "ticks": ""
             }
            }
           }
          ],
          "scattermapbox": [
           {
            "type": "scattermapbox",
            "marker": {
             "colorbar": {
              "outlinewidth": 0,
              "ticks": ""
             }
            }
           }
          ],
          "scatterternary": [
           {
            "type": "scatterternary",
            "marker": {
             "colorbar": {
              "outlinewidth": 0,
              "ticks": ""
             }
            }
           }
          ],
          "scattercarpet": [
           {
            "type": "scattercarpet",
            "marker": {
             "colorbar": {
              "outlinewidth": 0,
              "ticks": ""
             }
            }
           }
          ],
          "carpet": [
           {
            "aaxis": {
             "endlinecolor": "#A2B1C6",
             "gridcolor": "#506784",
             "linecolor": "#506784",
             "minorgridcolor": "#506784",
             "startlinecolor": "#A2B1C6"
            },
            "baxis": {
             "endlinecolor": "#A2B1C6",
             "gridcolor": "#506784",
             "linecolor": "#506784",
             "minorgridcolor": "#506784",
             "startlinecolor": "#A2B1C6"
            },
            "type": "carpet"
           }
          ],
          "table": [
           {
            "cells": {
             "fill": {
              "color": "#506784"
             },
             "line": {
              "color": "rgb(17,17,17)"
             }
            },
            "header": {
             "fill": {
              "color": "#2a3f5f"
             },
             "line": {
              "color": "rgb(17,17,17)"
             }
            },
            "type": "table"
           }
          ],
          "barpolar": [
           {
            "marker": {
             "line": {
              "color": "rgb(17,17,17)",
              "width": 0.5
             },
             "pattern": {
              "fillmode": "overlay",
              "size": 10,
              "solidity": 0.2
             }
            },
            "type": "barpolar"
           }
          ],
          "pie": [
           {
            "automargin": true,
            "type": "pie"
           }
          ]
         },
         "layout": {
          "autotypenumbers": "strict",
          "colorway": [
           "#636efa",
           "#EF553B",
           "#00cc96",
           "#ab63fa",
           "#FFA15A",
           "#19d3f3",
           "#FF6692",
           "#B6E880",
           "#FF97FF",
           "#FECB52"
          ],
          "font": {
           "color": "#f2f5fa"
          },
          "hovermode": "closest",
          "hoverlabel": {
           "align": "left"
          },
          "paper_bgcolor": "rgb(17,17,17)",
          "plot_bgcolor": "rgb(17,17,17)",
          "polar": {
           "bgcolor": "rgb(17,17,17)",
           "angularaxis": {
            "gridcolor": "#506784",
            "linecolor": "#506784",
            "ticks": ""
           },
           "radialaxis": {
            "gridcolor": "#506784",
            "linecolor": "#506784",
            "ticks": ""
           }
          },
          "ternary": {
           "bgcolor": "rgb(17,17,17)",
           "aaxis": {
            "gridcolor": "#506784",
            "linecolor": "#506784",
            "ticks": ""
           },
           "baxis": {
            "gridcolor": "#506784",
            "linecolor": "#506784",
            "ticks": ""
           },
           "caxis": {
            "gridcolor": "#506784",
            "linecolor": "#506784",
            "ticks": ""
           }
          },
          "coloraxis": {
           "colorbar": {
            "outlinewidth": 0,
            "ticks": ""
           }
          },
          "colorscale": {
           "sequential": [
            [
             0.0,
             "#0d0887"
            ],
            [
             0.1111111111111111,
             "#46039f"
            ],
            [
             0.2222222222222222,
             "#7201a8"
            ],
            [
             0.3333333333333333,
             "#9c179e"
            ],
            [
             0.4444444444444444,
             "#bd3786"
            ],
            [
             0.5555555555555556,
             "#d8576b"
            ],
            [
             0.6666666666666666,
             "#ed7953"
            ],
            [
             0.7777777777777778,
             "#fb9f3a"
            ],
            [
             0.8888888888888888,
             "#fdca26"
            ],
            [
             1.0,
             "#f0f921"
            ]
           ],
           "sequentialminus": [
            [
             0.0,
             "#0d0887"
            ],
            [
             0.1111111111111111,
             "#46039f"
            ],
            [
             0.2222222222222222,
             "#7201a8"
            ],
            [
             0.3333333333333333,
             "#9c179e"
            ],
            [
             0.4444444444444444,
             "#bd3786"
            ],
            [
             0.5555555555555556,
             "#d8576b"
            ],
            [
             0.6666666666666666,
             "#ed7953"
            ],
            [
             0.7777777777777778,
             "#fb9f3a"
            ],
            [
             0.8888888888888888,
             "#fdca26"
            ],
            [
             1.0,
             "#f0f921"
            ]
           ],
           "diverging": [
            [
             0,
             "#8e0152"
            ],
            [
             0.1,
             "#c51b7d"
            ],
            [
             0.2,
             "#de77ae"
            ],
            [
             0.3,
             "#f1b6da"
            ],
            [
             0.4,
             "#fde0ef"
            ],
            [
             0.5,
             "#f7f7f7"
            ],
            [
             0.6,
             "#e6f5d0"
            ],
            [
             0.7,
             "#b8e186"
            ],
            [
             0.8,
             "#7fbc41"
            ],
            [
             0.9,
             "#4d9221"
            ],
            [
             1,
             "#276419"
            ]
           ]
          },
          "xaxis": {
           "gridcolor": "#283442",
           "linecolor": "#506784",
           "ticks": "",
           "title": {
            "standoff": 15
           },
           "zerolinecolor": "#283442",
           "automargin": true,
           "zerolinewidth": 2
          },
          "yaxis": {
           "gridcolor": "#283442",
           "linecolor": "#506784",
           "ticks": "",
           "title": {
            "standoff": 15
           },
           "zerolinecolor": "#283442",
           "automargin": true,
           "zerolinewidth": 2
          },
          "scene": {
           "xaxis": {
            "backgroundcolor": "rgb(17,17,17)",
            "gridcolor": "#506784",
            "linecolor": "#506784",
            "showbackground": true,
            "ticks": "",
            "zerolinecolor": "#C8D4E3",
            "gridwidth": 2
           },
           "yaxis": {
            "backgroundcolor": "rgb(17,17,17)",
            "gridcolor": "#506784",
            "linecolor": "#506784",
            "showbackground": true,
            "ticks": "",
            "zerolinecolor": "#C8D4E3",
            "gridwidth": 2
           },
           "zaxis": {
            "backgroundcolor": "rgb(17,17,17)",
            "gridcolor": "#506784",
            "linecolor": "#506784",
            "showbackground": true,
            "ticks": "",
            "zerolinecolor": "#C8D4E3",
            "gridwidth": 2
           }
          },
          "shapedefaults": {
           "line": {
            "color": "#f2f5fa"
           }
          },
          "annotationdefaults": {
           "arrowcolor": "#f2f5fa",
           "arrowhead": 0,
           "arrowwidth": 1
          },
          "geo": {
           "bgcolor": "rgb(17,17,17)",
           "landcolor": "rgb(17,17,17)",
           "subunitcolor": "#506784",
           "showland": true,
           "showlakes": true,
           "lakecolor": "rgb(17,17,17)"
          },
          "title": {
           "x": 0.05
          },
          "updatemenudefaults": {
           "bgcolor": "#506784",
           "borderwidth": 0
          },
          "sliderdefaults": {
           "bgcolor": "#C8D4E3",
           "borderwidth": 1,
           "bordercolor": "rgb(17,17,17)",
           "tickwidth": 0
          },
          "mapbox": {
           "style": "dark"
          }
         }
        },
        "legend": {
         "font": {
          "family": "sans-serif",
          "size": 12,
          "color": "black"
         },
         "x": 0.02,
         "y": 0.98,
         "traceorder": "normal",
         "bgcolor": "LightSteelBlue",
         "bordercolor": "Black",
         "borderwidth": 1
        },
        "title": {
         "text": "Average Stats of Pokémon by Generation"
        },
        "xaxis": {
         "title": {
          "text": "Generation"
         }
        },
        "yaxis": {
         "title": {
          "text": "Average Value"
         }
        },
        "plot_bgcolor": "rgba(0,0,0,0)"
       },
       "config": {
        "plotlyServerURL": "https://plot.ly"
       }
      },
      "text/html": "<div>                            <div id=\"2bf5bba6-d9dd-4df4-a8aa-2812249d22b9\" class=\"plotly-graph-div\" style=\"height:525px; width:100%;\"></div>            <script type=\"text/javascript\">                require([\"plotly\"], function(Plotly) {                    window.PLOTLYENV=window.PLOTLYENV || {};                                    if (document.getElementById(\"2bf5bba6-d9dd-4df4-a8aa-2812249d22b9\")) {                    Plotly.newPlot(                        \"2bf5bba6-d9dd-4df4-a8aa-2812249d22b9\",                        [{\"line\":{\"color\":\"blue\",\"width\":2},\"mode\":\"lines+markers\",\"name\":\"Average Weight\",\"text\":[51.653124999999996,57.98598130841121,85.3678787878788,77.01322314049587,55.65321637426901,59.43764705882353,109.47979797979798,90.54326923076923],\"textfont\":{\"color\":\"blue\"},\"textposition\":\"top center\",\"x\":[1,2,3,4,5,6,7,8],\"y\":[51.653124999999996,57.98598130841121,85.3678787878788,77.01322314049587,55.65321637426901,59.43764705882353,109.47979797979798,90.54326923076923],\"type\":\"scatter\"},{\"line\":{\"color\":\"green\",\"width\":2},\"mode\":\"lines+markers\",\"name\":\"Average Height\",\"text\":[1.2786458333333333,1.2794392523364486,1.406060606060606,1.156198347107438,1.0801169590643274,1.1658823529411764,1.4858585858585858,2.3876190476190473],\"textfont\":{\"color\":\"green\"},\"textposition\":\"top center\",\"x\":[1,2,3,4,5,6,7,8],\"y\":[1.2786458333333333,1.2794392523364486,1.406060606060606,1.156198347107438,1.0801169590643274,1.1658823529411764,1.4858585858585858,2.3876190476190473],\"type\":\"scatter\"},{\"line\":{\"color\":\"red\",\"width\":2},\"mode\":\"lines+markers\",\"name\":\"Average Defense\",\"text\":[71.00520833333333,73.82242990654206,74.04848484848485,78.13223140495867,72.26900584795321,77.02352941176471,79.20202020202021,76.96190476190476],\"textfont\":{\"color\":\"red\"},\"textposition\":\"top center\",\"x\":[1,2,3,4,5,6,7,8],\"y\":[71.00520833333333,73.82242990654206,74.04848484848485,78.13223140495867,72.26900584795321,77.02352941176471,79.20202020202021,76.96190476190476],\"type\":\"scatter\"},{\"line\":{\"color\":\"purple\",\"width\":2},\"mode\":\"lines+markers\",\"name\":\"Average Attack\",\"text\":[77.30208333333333,71.86915887850468,81.03030303030303,82.86776859504133,82.9766081871345,77.18823529411765,87.31313131313131,83.57142857142857],\"textfont\":{\"color\":\"purple\"},\"textposition\":\"top center\",\"x\":[1,2,3,4,5,6,7,8],\"y\":[77.30208333333333,71.86915887850468,81.03030303030303,82.86776859504133,82.9766081871345,77.18823529411765,87.31313131313131,83.57142857142857],\"type\":\"scatter\"},{\"line\":{\"color\":\"orange\",\"width\":2},\"mode\":\"lines+markers\",\"name\":\"Average HP\",\"text\":[64.76041666666667,71.4766355140187,66.80606060606061,73.08264462809917,72.29239766081871,69.88235294117646,71.46464646464646,75.2],\"textfont\":{\"color\":\"orange\"},\"textposition\":\"top center\",\"x\":[1,2,3,4,5,6,7,8],\"y\":[64.76041666666667,71.4766355140187,66.80606060606061,73.08264462809917,72.29239766081871,69.88235294117646,71.46464646464646,75.2],\"type\":\"scatter\"}],                        {\"template\":{\"data\":{\"histogram2dcontour\":[{\"type\":\"histogram2dcontour\",\"colorbar\":{\"outlinewidth\":0,\"ticks\":\"\"},\"colorscale\":[[0.0,\"#0d0887\"],[0.1111111111111111,\"#46039f\"],[0.2222222222222222,\"#7201a8\"],[0.3333333333333333,\"#9c179e\"],[0.4444444444444444,\"#bd3786\"],[0.5555555555555556,\"#d8576b\"],[0.6666666666666666,\"#ed7953\"],[0.7777777777777778,\"#fb9f3a\"],[0.8888888888888888,\"#fdca26\"],[1.0,\"#f0f921\"]]}],\"choropleth\":[{\"type\":\"choropleth\",\"colorbar\":{\"outlinewidth\":0,\"ticks\":\"\"}}],\"histogram2d\":[{\"type\":\"histogram2d\",\"colorbar\":{\"outlinewidth\":0,\"ticks\":\"\"},\"colorscale\":[[0.0,\"#0d0887\"],[0.1111111111111111,\"#46039f\"],[0.2222222222222222,\"#7201a8\"],[0.3333333333333333,\"#9c179e\"],[0.4444444444444444,\"#bd3786\"],[0.5555555555555556,\"#d8576b\"],[0.6666666666666666,\"#ed7953\"],[0.7777777777777778,\"#fb9f3a\"],[0.8888888888888888,\"#fdca26\"],[1.0,\"#f0f921\"]]}],\"heatmap\":[{\"type\":\"heatmap\",\"colorbar\":{\"outlinewidth\":0,\"ticks\":\"\"},\"colorscale\":[[0.0,\"#0d0887\"],[0.1111111111111111,\"#46039f\"],[0.2222222222222222,\"#7201a8\"],[0.3333333333333333,\"#9c179e\"],[0.4444444444444444,\"#bd3786\"],[0.5555555555555556,\"#d8576b\"],[0.6666666666666666,\"#ed7953\"],[0.7777777777777778,\"#fb9f3a\"],[0.8888888888888888,\"#fdca26\"],[1.0,\"#f0f921\"]]}],\"heatmapgl\":[{\"type\":\"heatmapgl\",\"colorbar\":{\"outlinewidth\":0,\"ticks\":\"\"},\"colorscale\":[[0.0,\"#0d0887\"],[0.1111111111111111,\"#46039f\"],[0.2222222222222222,\"#7201a8\"],[0.3333333333333333,\"#9c179e\"],[0.4444444444444444,\"#bd3786\"],[0.5555555555555556,\"#d8576b\"],[0.6666666666666666,\"#ed7953\"],[0.7777777777777778,\"#fb9f3a\"],[0.8888888888888888,\"#fdca26\"],[1.0,\"#f0f921\"]]}],\"contourcarpet\":[{\"type\":\"contourcarpet\",\"colorbar\":{\"outlinewidth\":0,\"ticks\":\"\"}}],\"contour\":[{\"type\":\"contour\",\"colorbar\":{\"outlinewidth\":0,\"ticks\":\"\"},\"colorscale\":[[0.0,\"#0d0887\"],[0.1111111111111111,\"#46039f\"],[0.2222222222222222,\"#7201a8\"],[0.3333333333333333,\"#9c179e\"],[0.4444444444444444,\"#bd3786\"],[0.5555555555555556,\"#d8576b\"],[0.6666666666666666,\"#ed7953\"],[0.7777777777777778,\"#fb9f3a\"],[0.8888888888888888,\"#fdca26\"],[1.0,\"#f0f921\"]]}],\"surface\":[{\"type\":\"surface\",\"colorbar\":{\"outlinewidth\":0,\"ticks\":\"\"},\"colorscale\":[[0.0,\"#0d0887\"],[0.1111111111111111,\"#46039f\"],[0.2222222222222222,\"#7201a8\"],[0.3333333333333333,\"#9c179e\"],[0.4444444444444444,\"#bd3786\"],[0.5555555555555556,\"#d8576b\"],[0.6666666666666666,\"#ed7953\"],[0.7777777777777778,\"#fb9f3a\"],[0.8888888888888888,\"#fdca26\"],[1.0,\"#f0f921\"]]}],\"mesh3d\":[{\"type\":\"mesh3d\",\"colorbar\":{\"outlinewidth\":0,\"ticks\":\"\"}}],\"scatter\":[{\"marker\":{\"line\":{\"color\":\"#283442\"}},\"type\":\"scatter\"}],\"parcoords\":[{\"type\":\"parcoords\",\"line\":{\"colorbar\":{\"outlinewidth\":0,\"ticks\":\"\"}}}],\"scatterpolargl\":[{\"type\":\"scatterpolargl\",\"marker\":{\"colorbar\":{\"outlinewidth\":0,\"ticks\":\"\"}}}],\"bar\":[{\"error_x\":{\"color\":\"#f2f5fa\"},\"error_y\":{\"color\":\"#f2f5fa\"},\"marker\":{\"line\":{\"color\":\"rgb(17,17,17)\",\"width\":0.5},\"pattern\":{\"fillmode\":\"overlay\",\"size\":10,\"solidity\":0.2}},\"type\":\"bar\"}],\"scattergeo\":[{\"type\":\"scattergeo\",\"marker\":{\"colorbar\":{\"outlinewidth\":0,\"ticks\":\"\"}}}],\"scatterpolar\":[{\"type\":\"scatterpolar\",\"marker\":{\"colorbar\":{\"outlinewidth\":0,\"ticks\":\"\"}}}],\"histogram\":[{\"marker\":{\"pattern\":{\"fillmode\":\"overlay\",\"size\":10,\"solidity\":0.2}},\"type\":\"histogram\"}],\"scattergl\":[{\"marker\":{\"line\":{\"color\":\"#283442\"}},\"type\":\"scattergl\"}],\"scatter3d\":[{\"type\":\"scatter3d\",\"line\":{\"colorbar\":{\"outlinewidth\":0,\"ticks\":\"\"}},\"marker\":{\"colorbar\":{\"outlinewidth\":0,\"ticks\":\"\"}}}],\"scattermapbox\":[{\"type\":\"scattermapbox\",\"marker\":{\"colorbar\":{\"outlinewidth\":0,\"ticks\":\"\"}}}],\"scatterternary\":[{\"type\":\"scatterternary\",\"marker\":{\"colorbar\":{\"outlinewidth\":0,\"ticks\":\"\"}}}],\"scattercarpet\":[{\"type\":\"scattercarpet\",\"marker\":{\"colorbar\":{\"outlinewidth\":0,\"ticks\":\"\"}}}],\"carpet\":[{\"aaxis\":{\"endlinecolor\":\"#A2B1C6\",\"gridcolor\":\"#506784\",\"linecolor\":\"#506784\",\"minorgridcolor\":\"#506784\",\"startlinecolor\":\"#A2B1C6\"},\"baxis\":{\"endlinecolor\":\"#A2B1C6\",\"gridcolor\":\"#506784\",\"linecolor\":\"#506784\",\"minorgridcolor\":\"#506784\",\"startlinecolor\":\"#A2B1C6\"},\"type\":\"carpet\"}],\"table\":[{\"cells\":{\"fill\":{\"color\":\"#506784\"},\"line\":{\"color\":\"rgb(17,17,17)\"}},\"header\":{\"fill\":{\"color\":\"#2a3f5f\"},\"line\":{\"color\":\"rgb(17,17,17)\"}},\"type\":\"table\"}],\"barpolar\":[{\"marker\":{\"line\":{\"color\":\"rgb(17,17,17)\",\"width\":0.5},\"pattern\":{\"fillmode\":\"overlay\",\"size\":10,\"solidity\":0.2}},\"type\":\"barpolar\"}],\"pie\":[{\"automargin\":true,\"type\":\"pie\"}]},\"layout\":{\"autotypenumbers\":\"strict\",\"colorway\":[\"#636efa\",\"#EF553B\",\"#00cc96\",\"#ab63fa\",\"#FFA15A\",\"#19d3f3\",\"#FF6692\",\"#B6E880\",\"#FF97FF\",\"#FECB52\"],\"font\":{\"color\":\"#f2f5fa\"},\"hovermode\":\"closest\",\"hoverlabel\":{\"align\":\"left\"},\"paper_bgcolor\":\"rgb(17,17,17)\",\"plot_bgcolor\":\"rgb(17,17,17)\",\"polar\":{\"bgcolor\":\"rgb(17,17,17)\",\"angularaxis\":{\"gridcolor\":\"#506784\",\"linecolor\":\"#506784\",\"ticks\":\"\"},\"radialaxis\":{\"gridcolor\":\"#506784\",\"linecolor\":\"#506784\",\"ticks\":\"\"}},\"ternary\":{\"bgcolor\":\"rgb(17,17,17)\",\"aaxis\":{\"gridcolor\":\"#506784\",\"linecolor\":\"#506784\",\"ticks\":\"\"},\"baxis\":{\"gridcolor\":\"#506784\",\"linecolor\":\"#506784\",\"ticks\":\"\"},\"caxis\":{\"gridcolor\":\"#506784\",\"linecolor\":\"#506784\",\"ticks\":\"\"}},\"coloraxis\":{\"colorbar\":{\"outlinewidth\":0,\"ticks\":\"\"}},\"colorscale\":{\"sequential\":[[0.0,\"#0d0887\"],[0.1111111111111111,\"#46039f\"],[0.2222222222222222,\"#7201a8\"],[0.3333333333333333,\"#9c179e\"],[0.4444444444444444,\"#bd3786\"],[0.5555555555555556,\"#d8576b\"],[0.6666666666666666,\"#ed7953\"],[0.7777777777777778,\"#fb9f3a\"],[0.8888888888888888,\"#fdca26\"],[1.0,\"#f0f921\"]],\"sequentialminus\":[[0.0,\"#0d0887\"],[0.1111111111111111,\"#46039f\"],[0.2222222222222222,\"#7201a8\"],[0.3333333333333333,\"#9c179e\"],[0.4444444444444444,\"#bd3786\"],[0.5555555555555556,\"#d8576b\"],[0.6666666666666666,\"#ed7953\"],[0.7777777777777778,\"#fb9f3a\"],[0.8888888888888888,\"#fdca26\"],[1.0,\"#f0f921\"]],\"diverging\":[[0,\"#8e0152\"],[0.1,\"#c51b7d\"],[0.2,\"#de77ae\"],[0.3,\"#f1b6da\"],[0.4,\"#fde0ef\"],[0.5,\"#f7f7f7\"],[0.6,\"#e6f5d0\"],[0.7,\"#b8e186\"],[0.8,\"#7fbc41\"],[0.9,\"#4d9221\"],[1,\"#276419\"]]},\"xaxis\":{\"gridcolor\":\"#283442\",\"linecolor\":\"#506784\",\"ticks\":\"\",\"title\":{\"standoff\":15},\"zerolinecolor\":\"#283442\",\"automargin\":true,\"zerolinewidth\":2},\"yaxis\":{\"gridcolor\":\"#283442\",\"linecolor\":\"#506784\",\"ticks\":\"\",\"title\":{\"standoff\":15},\"zerolinecolor\":\"#283442\",\"automargin\":true,\"zerolinewidth\":2},\"scene\":{\"xaxis\":{\"backgroundcolor\":\"rgb(17,17,17)\",\"gridcolor\":\"#506784\",\"linecolor\":\"#506784\",\"showbackground\":true,\"ticks\":\"\",\"zerolinecolor\":\"#C8D4E3\",\"gridwidth\":2},\"yaxis\":{\"backgroundcolor\":\"rgb(17,17,17)\",\"gridcolor\":\"#506784\",\"linecolor\":\"#506784\",\"showbackground\":true,\"ticks\":\"\",\"zerolinecolor\":\"#C8D4E3\",\"gridwidth\":2},\"zaxis\":{\"backgroundcolor\":\"rgb(17,17,17)\",\"gridcolor\":\"#506784\",\"linecolor\":\"#506784\",\"showbackground\":true,\"ticks\":\"\",\"zerolinecolor\":\"#C8D4E3\",\"gridwidth\":2}},\"shapedefaults\":{\"line\":{\"color\":\"#f2f5fa\"}},\"annotationdefaults\":{\"arrowcolor\":\"#f2f5fa\",\"arrowhead\":0,\"arrowwidth\":1},\"geo\":{\"bgcolor\":\"rgb(17,17,17)\",\"landcolor\":\"rgb(17,17,17)\",\"subunitcolor\":\"#506784\",\"showland\":true,\"showlakes\":true,\"lakecolor\":\"rgb(17,17,17)\"},\"title\":{\"x\":0.05},\"updatemenudefaults\":{\"bgcolor\":\"#506784\",\"borderwidth\":0},\"sliderdefaults\":{\"bgcolor\":\"#C8D4E3\",\"borderwidth\":1,\"bordercolor\":\"rgb(17,17,17)\",\"tickwidth\":0},\"mapbox\":{\"style\":\"dark\"}}},\"legend\":{\"font\":{\"family\":\"sans-serif\",\"size\":12,\"color\":\"black\"},\"x\":0.02,\"y\":0.98,\"traceorder\":\"normal\",\"bgcolor\":\"LightSteelBlue\",\"bordercolor\":\"Black\",\"borderwidth\":1},\"title\":{\"text\":\"Average Stats of Pok\\u00e9mon by Generation\"},\"xaxis\":{\"title\":{\"text\":\"Generation\"}},\"yaxis\":{\"title\":{\"text\":\"Average Value\"}},\"plot_bgcolor\":\"rgba(0,0,0,0)\"},                        {\"responsive\": true}                    ).then(function(){\n                            \nvar gd = document.getElementById('2bf5bba6-d9dd-4df4-a8aa-2812249d22b9');\nvar x = new MutationObserver(function (mutations, observer) {{\n        var display = window.getComputedStyle(gd).display;\n        if (!display || display === 'none') {{\n            console.log([gd, 'removed!']);\n            Plotly.purge(gd);\n            observer.disconnect();\n        }}\n}});\n\n// Listen for the removal of the full notebook cells\nvar notebookContainer = gd.closest('#notebook-container');\nif (notebookContainer) {{\n    x.observe(notebookContainer, {childList: true});\n}}\n\n// Listen for the clearing of the current output cell\nvar outputEl = gd.closest('.output');\nif (outputEl) {{\n    x.observe(outputEl, {childList: true});\n}}\n\n                        })                };                });            </script>        </div>"
     },
     "metadata": {},
     "output_type": "display_data"
    }
   ],
   "source": [
    "import plotly.graph_objects as go\n",
    "\n",
    "# Create the figure\n",
    "fig = go.Figure()\n",
    "\n",
    "# Add traces for each average stat\n",
    "fig.add_trace(go.Scatter(x=pokedexByGeneration.generation, y=pokedexByGeneration.weight_kg,\n",
    "                         mode='lines+markers', name='Average Weight', line=dict(color='blue', width=2),\n",
    "                         text=pokedexByGeneration.weight_kg, textposition='top center', textfont=dict(color='blue')))\n",
    "fig.add_trace(go.Scatter(x=pokedexByGeneration.generation, y=pokedexByGeneration.height_m,\n",
    "                         mode='lines+markers', name='Average Height', line=dict(color='green', width=2),\n",
    "                         text=pokedexByGeneration.height_m, textposition='top center', textfont=dict(color='green')))\n",
    "fig.add_trace(go.Scatter(x=pokedexByGeneration.generation, y=pokedexByGeneration.defense,\n",
    "                         mode='lines+markers', name='Average Defense', line=dict(color='red', width=2),\n",
    "                         text=pokedexByGeneration.defense, textposition='top center', textfont=dict(color='red')))\n",
    "fig.add_trace(go.Scatter(x=pokedexByGeneration.generation, y=pokedexByGeneration.attack,\n",
    "                         mode='lines+markers', name='Average Attack', line=dict(color='purple', width=2),\n",
    "                         text=pokedexByGeneration.attack, textposition='top center', textfont=dict(color='purple')))\n",
    "fig.add_trace(go.Scatter(x=pokedexByGeneration.generation, y=pokedexByGeneration.hp,\n",
    "                         mode='lines+markers', name='Average HP', line=dict(color='orange', width=2),\n",
    "                         text=pokedexByGeneration.hp, textposition='top center', textfont=dict(color='orange')))\n",
    "\n",
    "# Update the layout\n",
    "fig.update_layout(\n",
    "    title='Average Stats of Pokémon by Generation',\n",
    "    xaxis_title='Generation',\n",
    "    yaxis_title='Average Value',\n",
    "    legend=dict(\n",
    "        x=0.02,\n",
    "        y=0.98,\n",
    "        traceorder=\"normal\",\n",
    "        font=dict(\n",
    "            family=\"sans-serif\",\n",
    "            size=12,\n",
    "            color=\"black\"\n",
    "        ),\n",
    "        bgcolor=\"LightSteelBlue\",\n",
    "        bordercolor=\"Black\",\n",
    "        borderwidth=1\n",
    "    ),\n",
    "    plot_bgcolor='rgba(0,0,0,0)'\n",
    ")\n",
    "\n",
    "# Show the figure\n",
    "fig.show()\n"
   ],
   "metadata": {
    "collapsed": false,
    "ExecuteTime": {
     "end_time": "2024-04-24T00:31:49.769396300Z",
     "start_time": "2024-04-24T00:31:49.458194Z"
    }
   },
   "id": "e415de9395c42ead"
  },
  {
   "cell_type": "code",
   "execution_count": 22,
   "outputs": [
    {
     "data": {
      "text/plain": "     generation    type_1   weight_kg   height_m      attack     defense  \\\n0             1       Bug   26.814286   0.992857   76.428571   60.357143   \n1             1      Dark   16.625000   0.625000   55.500000   50.000000   \n2             1    Dragon   76.600000   2.666667   94.000000   68.333333   \n3             1  Electric   28.463636   0.800000   65.727273   62.000000   \n4             1     Fairy   23.750000   0.950000   57.500000   60.500000   \n..          ...       ...         ...        ...         ...         ...   \n129           8    Poison  366.666667  30.850000   91.250000  130.000000   \n130           8   Psychic   98.609091   1.381818   76.818182   78.181818   \n131           8      Rock  230.125000   1.675000   76.250000   98.750000   \n132           8     Steel  204.500000   1.700000  103.750000   83.250000   \n133           8     Water   67.300000   1.144444   81.111111   66.666667   \n\n             hp  \n0     56.785714  \n1     52.500000  \n2     64.333333  \n3     54.090909  \n4     82.500000  \n..          ...  \n129  146.250000  \n130   76.909091  \n131   80.000000  \n132   83.500000  \n133   67.444444  \n\n[134 rows x 7 columns]",
      "text/html": "<div>\n<style scoped>\n    .dataframe tbody tr th:only-of-type {\n        vertical-align: middle;\n    }\n\n    .dataframe tbody tr th {\n        vertical-align: top;\n    }\n\n    .dataframe thead th {\n        text-align: right;\n    }\n</style>\n<table border=\"1\" class=\"dataframe\">\n  <thead>\n    <tr style=\"text-align: right;\">\n      <th></th>\n      <th>generation</th>\n      <th>type_1</th>\n      <th>weight_kg</th>\n      <th>height_m</th>\n      <th>attack</th>\n      <th>defense</th>\n      <th>hp</th>\n    </tr>\n  </thead>\n  <tbody>\n    <tr>\n      <th>0</th>\n      <td>1</td>\n      <td>Bug</td>\n      <td>26.814286</td>\n      <td>0.992857</td>\n      <td>76.428571</td>\n      <td>60.357143</td>\n      <td>56.785714</td>\n    </tr>\n    <tr>\n      <th>1</th>\n      <td>1</td>\n      <td>Dark</td>\n      <td>16.625000</td>\n      <td>0.625000</td>\n      <td>55.500000</td>\n      <td>50.000000</td>\n      <td>52.500000</td>\n    </tr>\n    <tr>\n      <th>2</th>\n      <td>1</td>\n      <td>Dragon</td>\n      <td>76.600000</td>\n      <td>2.666667</td>\n      <td>94.000000</td>\n      <td>68.333333</td>\n      <td>64.333333</td>\n    </tr>\n    <tr>\n      <th>3</th>\n      <td>1</td>\n      <td>Electric</td>\n      <td>28.463636</td>\n      <td>0.800000</td>\n      <td>65.727273</td>\n      <td>62.000000</td>\n      <td>54.090909</td>\n    </tr>\n    <tr>\n      <th>4</th>\n      <td>1</td>\n      <td>Fairy</td>\n      <td>23.750000</td>\n      <td>0.950000</td>\n      <td>57.500000</td>\n      <td>60.500000</td>\n      <td>82.500000</td>\n    </tr>\n    <tr>\n      <th>...</th>\n      <td>...</td>\n      <td>...</td>\n      <td>...</td>\n      <td>...</td>\n      <td>...</td>\n      <td>...</td>\n      <td>...</td>\n    </tr>\n    <tr>\n      <th>129</th>\n      <td>8</td>\n      <td>Poison</td>\n      <td>366.666667</td>\n      <td>30.850000</td>\n      <td>91.250000</td>\n      <td>130.000000</td>\n      <td>146.250000</td>\n    </tr>\n    <tr>\n      <th>130</th>\n      <td>8</td>\n      <td>Psychic</td>\n      <td>98.609091</td>\n      <td>1.381818</td>\n      <td>76.818182</td>\n      <td>78.181818</td>\n      <td>76.909091</td>\n    </tr>\n    <tr>\n      <th>131</th>\n      <td>8</td>\n      <td>Rock</td>\n      <td>230.125000</td>\n      <td>1.675000</td>\n      <td>76.250000</td>\n      <td>98.750000</td>\n      <td>80.000000</td>\n    </tr>\n    <tr>\n      <th>132</th>\n      <td>8</td>\n      <td>Steel</td>\n      <td>204.500000</td>\n      <td>1.700000</td>\n      <td>103.750000</td>\n      <td>83.250000</td>\n      <td>83.500000</td>\n    </tr>\n    <tr>\n      <th>133</th>\n      <td>8</td>\n      <td>Water</td>\n      <td>67.300000</td>\n      <td>1.144444</td>\n      <td>81.111111</td>\n      <td>66.666667</td>\n      <td>67.444444</td>\n    </tr>\n  </tbody>\n</table>\n<p>134 rows × 7 columns</p>\n</div>"
     },
     "execution_count": 22,
     "metadata": {},
     "output_type": "execute_result"
    }
   ],
   "source": [
    "pokedexByGeneration = pokedex[['type_1', 'generation', 'weight_kg', 'height_m', 'attack', 'defense', 'hp']].groupby(\n",
    "    ['generation', 'type_1']).mean().reset_index()\n",
    "pokedexByGeneration"
   ],
   "metadata": {
    "collapsed": false,
    "ExecuteTime": {
     "end_time": "2024-04-24T00:31:49.841473600Z",
     "start_time": "2024-04-24T00:31:49.769396300Z"
    }
   },
   "id": "6cea85acb4095aaa"
  },
  {
   "cell_type": "code",
   "execution_count": 23,
   "outputs": [
    {
     "data": {
      "application/vnd.plotly.v1+json": {
       "data": [
        {
         "hovertemplate": "<b>%{hovertext}</b><br><br>type_1=Bug<br>generation=1<br>attack=%{x}<br>defense=%{y}<br>hp=%{marker.size}<extra></extra>",
         "hovertext": [
          "Bug"
         ],
         "ids": [
          "Bug"
         ],
         "legendgroup": "Bug",
         "marker": {
          "color": "#636efa",
          "size": [
           56.785714285714285
          ],
          "sizemode": "area",
          "sizeref": 0.5575,
          "symbol": "circle"
         },
         "mode": "markers",
         "name": "Bug",
         "orientation": "v",
         "showlegend": true,
         "x": [
          76.42857142857143
         ],
         "xaxis": "x",
         "y": [
          60.357142857142854
         ],
         "yaxis": "y",
         "type": "scatter"
        },
        {
         "hovertemplate": "<b>%{hovertext}</b><br><br>type_1=Dark<br>generation=1<br>attack=%{x}<br>defense=%{y}<br>hp=%{marker.size}<extra></extra>",
         "hovertext": [
          "Dark"
         ],
         "ids": [
          "Dark"
         ],
         "legendgroup": "Dark",
         "marker": {
          "color": "#EF553B",
          "size": [
           52.5
          ],
          "sizemode": "area",
          "sizeref": 0.5575,
          "symbol": "circle"
         },
         "mode": "markers",
         "name": "Dark",
         "orientation": "v",
         "showlegend": true,
         "x": [
          55.5
         ],
         "xaxis": "x",
         "y": [
          50.0
         ],
         "yaxis": "y",
         "type": "scatter"
        },
        {
         "hovertemplate": "<b>%{hovertext}</b><br><br>type_1=Dragon<br>generation=1<br>attack=%{x}<br>defense=%{y}<br>hp=%{marker.size}<extra></extra>",
         "hovertext": [
          "Dragon"
         ],
         "ids": [
          "Dragon"
         ],
         "legendgroup": "Dragon",
         "marker": {
          "color": "#00cc96",
          "size": [
           64.33333333333333
          ],
          "sizemode": "area",
          "sizeref": 0.5575,
          "symbol": "circle"
         },
         "mode": "markers",
         "name": "Dragon",
         "orientation": "v",
         "showlegend": true,
         "x": [
          94.0
         ],
         "xaxis": "x",
         "y": [
          68.33333333333333
         ],
         "yaxis": "y",
         "type": "scatter"
        },
        {
         "hovertemplate": "<b>%{hovertext}</b><br><br>type_1=Electric<br>generation=1<br>attack=%{x}<br>defense=%{y}<br>hp=%{marker.size}<extra></extra>",
         "hovertext": [
          "Electric"
         ],
         "ids": [
          "Electric"
         ],
         "legendgroup": "Electric",
         "marker": {
          "color": "#ab63fa",
          "size": [
           54.09090909090909
          ],
          "sizemode": "area",
          "sizeref": 0.5575,
          "symbol": "circle"
         },
         "mode": "markers",
         "name": "Electric",
         "orientation": "v",
         "showlegend": true,
         "x": [
          65.72727272727273
         ],
         "xaxis": "x",
         "y": [
          62.0
         ],
         "yaxis": "y",
         "type": "scatter"
        },
        {
         "hovertemplate": "<b>%{hovertext}</b><br><br>type_1=Fairy<br>generation=1<br>attack=%{x}<br>defense=%{y}<br>hp=%{marker.size}<extra></extra>",
         "hovertext": [
          "Fairy"
         ],
         "ids": [
          "Fairy"
         ],
         "legendgroup": "Fairy",
         "marker": {
          "color": "#FFA15A",
          "size": [
           82.5
          ],
          "sizemode": "area",
          "sizeref": 0.5575,
          "symbol": "circle"
         },
         "mode": "markers",
         "name": "Fairy",
         "orientation": "v",
         "showlegend": true,
         "x": [
          57.5
         ],
         "xaxis": "x",
         "y": [
          60.5
         ],
         "yaxis": "y",
         "type": "scatter"
        },
        {
         "hovertemplate": "<b>%{hovertext}</b><br><br>type_1=Fighting<br>generation=1<br>attack=%{x}<br>defense=%{y}<br>hp=%{marker.size}<extra></extra>",
         "hovertext": [
          "Fighting"
         ],
         "ids": [
          "Fighting"
         ],
         "legendgroup": "Fighting",
         "marker": {
          "color": "#19d3f3",
          "size": [
           62.125
          ],
          "sizemode": "area",
          "sizeref": 0.5575,
          "symbol": "circle"
         },
         "mode": "markers",
         "name": "Fighting",
         "orientation": "v",
         "showlegend": true,
         "x": [
          101.875
         ],
         "xaxis": "x",
         "y": [
          60.25
         ],
         "yaxis": "y",
         "type": "scatter"
        },
        {
         "hovertemplate": "<b>%{hovertext}</b><br><br>type_1=Fire<br>generation=1<br>attack=%{x}<br>defense=%{y}<br>hp=%{marker.size}<extra></extra>",
         "hovertext": [
          "Fire"
         ],
         "ids": [
          "Fire"
         ],
         "legendgroup": "Fire",
         "marker": {
          "color": "#FF6692",
          "size": [
           65.46666666666667
          ],
          "sizemode": "area",
          "sizeref": 0.5575,
          "symbol": "circle"
         },
         "mode": "markers",
         "name": "Fire",
         "orientation": "v",
         "showlegend": true,
         "x": [
          88.06666666666666
         ],
         "xaxis": "x",
         "y": [
          70.0
         ],
         "yaxis": "y",
         "type": "scatter"
        },
        {
         "hovertemplate": "<b>%{hovertext}</b><br><br>type_1=Ghost<br>generation=1<br>attack=%{x}<br>defense=%{y}<br>hp=%{marker.size}<extra></extra>",
         "hovertext": [
          "Ghost"
         ],
         "ids": [
          "Ghost"
         ],
         "legendgroup": "Ghost",
         "marker": {
          "color": "#B6E880",
          "size": [
           48.75
          ],
          "sizemode": "area",
          "sizeref": 0.5575,
          "symbol": "circle"
         },
         "mode": "markers",
         "name": "Ghost",
         "orientation": "v",
         "showlegend": true,
         "x": [
          53.75
         ],
         "xaxis": "x",
         "y": [
          53.75
         ],
         "yaxis": "y",
         "type": "scatter"
        },
        {
         "hovertemplate": "<b>%{hovertext}</b><br><br>type_1=Grass<br>generation=1<br>attack=%{x}<br>defense=%{y}<br>hp=%{marker.size}<extra></extra>",
         "hovertext": [
          "Grass"
         ],
         "ids": [
          "Grass"
         ],
         "legendgroup": "Grass",
         "marker": {
          "color": "#FF97FF",
          "size": [
           68.21428571428571
          ],
          "sizemode": "area",
          "sizeref": 0.5575,
          "symbol": "circle"
         },
         "mode": "markers",
         "name": "Grass",
         "orientation": "v",
         "showlegend": true,
         "x": [
          75.21428571428571
         ],
         "xaxis": "x",
         "y": [
          74.5
         ],
         "yaxis": "y",
         "type": "scatter"
        },
        {
         "hovertemplate": "<b>%{hovertext}</b><br><br>type_1=Ground<br>generation=1<br>attack=%{x}<br>defense=%{y}<br>hp=%{marker.size}<extra></extra>",
         "hovertext": [
          "Ground"
         ],
         "ids": [
          "Ground"
         ],
         "legendgroup": "Ground",
         "marker": {
          "color": "#FECB52",
          "size": [
           51.0
          ],
          "sizemode": "area",
          "sizeref": 0.5575,
          "symbol": "circle"
         },
         "mode": "markers",
         "name": "Ground",
         "orientation": "v",
         "showlegend": true,
         "x": [
          83.0
         ],
         "xaxis": "x",
         "y": [
          78.0
         ],
         "yaxis": "y",
         "type": "scatter"
        },
        {
         "hovertemplate": "<b>%{hovertext}</b><br><br>type_1=Ice<br>generation=1<br>attack=%{x}<br>defense=%{y}<br>hp=%{marker.size}<extra></extra>",
         "hovertext": [
          "Ice"
         ],
         "ids": [
          "Ice"
         ],
         "legendgroup": "Ice",
         "marker": {
          "color": "#636efa",
          "size": [
           65.16666666666667
          ],
          "sizemode": "area",
          "sizeref": 0.5575,
          "symbol": "circle"
         },
         "mode": "markers",
         "name": "Ice",
         "orientation": "v",
         "showlegend": true,
         "x": [
          69.66666666666667
         ],
         "xaxis": "x",
         "y": [
          76.66666666666667
         ],
         "yaxis": "y",
         "type": "scatter"
        },
        {
         "hovertemplate": "<b>%{hovertext}</b><br><br>type_1=Normal<br>generation=1<br>attack=%{x}<br>defense=%{y}<br>hp=%{marker.size}<extra></extra>",
         "hovertext": [
          "Normal"
         ],
         "ids": [
          "Normal"
         ],
         "legendgroup": "Normal",
         "marker": {
          "color": "#EF553B",
          "size": [
           79.36
          ],
          "sizemode": "area",
          "sizeref": 0.5575,
          "symbol": "circle"
         },
         "mode": "markers",
         "name": "Normal",
         "orientation": "v",
         "showlegend": true,
         "x": [
          71.8
         ],
         "xaxis": "x",
         "y": [
          57.12
         ],
         "yaxis": "y",
         "type": "scatter"
        },
        {
         "hovertemplate": "<b>%{hovertext}</b><br><br>type_1=Poison<br>generation=1<br>attack=%{x}<br>defense=%{y}<br>hp=%{marker.size}<extra></extra>",
         "hovertext": [
          "Poison"
         ],
         "ids": [
          "Poison"
         ],
         "legendgroup": "Poison",
         "marker": {
          "color": "#00cc96",
          "size": [
           67.82352941176471
          ],
          "sizemode": "area",
          "sizeref": 0.5575,
          "symbol": "circle"
         },
         "mode": "markers",
         "name": "Poison",
         "orientation": "v",
         "showlegend": true,
         "x": [
          78.05882352941177
         ],
         "xaxis": "x",
         "y": [
          69.58823529411765
         ],
         "yaxis": "y",
         "type": "scatter"
        },
        {
         "hovertemplate": "<b>%{hovertext}</b><br><br>type_1=Psychic<br>generation=1<br>attack=%{x}<br>defense=%{y}<br>hp=%{marker.size}<extra></extra>",
         "hovertext": [
          "Psychic"
         ],
         "ids": [
          "Psychic"
         ],
         "legendgroup": "Psychic",
         "marker": {
          "color": "#ab63fa",
          "size": [
           67.35714285714286
          ],
          "sizemode": "area",
          "sizeref": 0.5575,
          "symbol": "circle"
         },
         "mode": "markers",
         "name": "Psychic",
         "orientation": "v",
         "showlegend": true,
         "x": [
          80.07142857142857
         ],
         "xaxis": "x",
         "y": [
          63.214285714285715
         ],
         "yaxis": "y",
         "type": "scatter"
        },
        {
         "hovertemplate": "<b>%{hovertext}</b><br><br>type_1=Rock<br>generation=1<br>attack=%{x}<br>defense=%{y}<br>hp=%{marker.size}<extra></extra>",
         "hovertext": [
          "Rock"
         ],
         "ids": [
          "Rock"
         ],
         "legendgroup": "Rock",
         "marker": {
          "color": "#FFA15A",
          "size": [
           56.92307692307692
          ],
          "sizemode": "area",
          "sizeref": 0.5575,
          "symbol": "circle"
         },
         "mode": "markers",
         "name": "Rock",
         "orientation": "v",
         "showlegend": true,
         "x": [
          90.0
         ],
         "xaxis": "x",
         "y": [
          109.23076923076923
         ],
         "yaxis": "y",
         "type": "scatter"
        },
        {
         "hovertemplate": "<b>%{hovertext}</b><br><br>type_1=Steel<br>generation=1<br>attack=%{x}<br>defense=%{y}<br>hp=%{marker.size}<extra></extra>",
         "hovertext": [
          "Steel"
         ],
         "ids": [
          "Steel"
         ],
         "legendgroup": "Steel",
         "marker": {
          "color": "#19d3f3",
          "size": [
           50.0
          ],
          "sizemode": "area",
          "sizeref": 0.5575,
          "symbol": "circle"
         },
         "mode": "markers",
         "name": "Steel",
         "orientation": "v",
         "showlegend": true,
         "x": [
          65.0
         ],
         "xaxis": "x",
         "y": [
          55.0
         ],
         "yaxis": "y",
         "type": "scatter"
        },
        {
         "hovertemplate": "<b>%{hovertext}</b><br><br>type_1=Water<br>generation=1<br>attack=%{x}<br>defense=%{y}<br>hp=%{marker.size}<extra></extra>",
         "hovertext": [
          "Water"
         ],
         "ids": [
          "Water"
         ],
         "legendgroup": "Water",
         "marker": {
          "color": "#FF6692",
          "size": [
           66.96774193548387
          ],
          "sizemode": "area",
          "sizeref": 0.5575,
          "symbol": "circle"
         },
         "mode": "markers",
         "name": "Water",
         "orientation": "v",
         "showlegend": true,
         "x": [
          74.19354838709677
         ],
         "xaxis": "x",
         "y": [
          83.19354838709677
         ],
         "yaxis": "y",
         "type": "scatter"
        }
       ],
       "layout": {
        "template": {
         "data": {
          "histogram2dcontour": [
           {
            "type": "histogram2dcontour",
            "colorbar": {
             "outlinewidth": 0,
             "ticks": ""
            },
            "colorscale": [
             [
              0.0,
              "#0d0887"
             ],
             [
              0.1111111111111111,
              "#46039f"
             ],
             [
              0.2222222222222222,
              "#7201a8"
             ],
             [
              0.3333333333333333,
              "#9c179e"
             ],
             [
              0.4444444444444444,
              "#bd3786"
             ],
             [
              0.5555555555555556,
              "#d8576b"
             ],
             [
              0.6666666666666666,
              "#ed7953"
             ],
             [
              0.7777777777777778,
              "#fb9f3a"
             ],
             [
              0.8888888888888888,
              "#fdca26"
             ],
             [
              1.0,
              "#f0f921"
             ]
            ]
           }
          ],
          "choropleth": [
           {
            "type": "choropleth",
            "colorbar": {
             "outlinewidth": 0,
             "ticks": ""
            }
           }
          ],
          "histogram2d": [
           {
            "type": "histogram2d",
            "colorbar": {
             "outlinewidth": 0,
             "ticks": ""
            },
            "colorscale": [
             [
              0.0,
              "#0d0887"
             ],
             [
              0.1111111111111111,
              "#46039f"
             ],
             [
              0.2222222222222222,
              "#7201a8"
             ],
             [
              0.3333333333333333,
              "#9c179e"
             ],
             [
              0.4444444444444444,
              "#bd3786"
             ],
             [
              0.5555555555555556,
              "#d8576b"
             ],
             [
              0.6666666666666666,
              "#ed7953"
             ],
             [
              0.7777777777777778,
              "#fb9f3a"
             ],
             [
              0.8888888888888888,
              "#fdca26"
             ],
             [
              1.0,
              "#f0f921"
             ]
            ]
           }
          ],
          "heatmap": [
           {
            "type": "heatmap",
            "colorbar": {
             "outlinewidth": 0,
             "ticks": ""
            },
            "colorscale": [
             [
              0.0,
              "#0d0887"
             ],
             [
              0.1111111111111111,
              "#46039f"
             ],
             [
              0.2222222222222222,
              "#7201a8"
             ],
             [
              0.3333333333333333,
              "#9c179e"
             ],
             [
              0.4444444444444444,
              "#bd3786"
             ],
             [
              0.5555555555555556,
              "#d8576b"
             ],
             [
              0.6666666666666666,
              "#ed7953"
             ],
             [
              0.7777777777777778,
              "#fb9f3a"
             ],
             [
              0.8888888888888888,
              "#fdca26"
             ],
             [
              1.0,
              "#f0f921"
             ]
            ]
           }
          ],
          "heatmapgl": [
           {
            "type": "heatmapgl",
            "colorbar": {
             "outlinewidth": 0,
             "ticks": ""
            },
            "colorscale": [
             [
              0.0,
              "#0d0887"
             ],
             [
              0.1111111111111111,
              "#46039f"
             ],
             [
              0.2222222222222222,
              "#7201a8"
             ],
             [
              0.3333333333333333,
              "#9c179e"
             ],
             [
              0.4444444444444444,
              "#bd3786"
             ],
             [
              0.5555555555555556,
              "#d8576b"
             ],
             [
              0.6666666666666666,
              "#ed7953"
             ],
             [
              0.7777777777777778,
              "#fb9f3a"
             ],
             [
              0.8888888888888888,
              "#fdca26"
             ],
             [
              1.0,
              "#f0f921"
             ]
            ]
           }
          ],
          "contourcarpet": [
           {
            "type": "contourcarpet",
            "colorbar": {
             "outlinewidth": 0,
             "ticks": ""
            }
           }
          ],
          "contour": [
           {
            "type": "contour",
            "colorbar": {
             "outlinewidth": 0,
             "ticks": ""
            },
            "colorscale": [
             [
              0.0,
              "#0d0887"
             ],
             [
              0.1111111111111111,
              "#46039f"
             ],
             [
              0.2222222222222222,
              "#7201a8"
             ],
             [
              0.3333333333333333,
              "#9c179e"
             ],
             [
              0.4444444444444444,
              "#bd3786"
             ],
             [
              0.5555555555555556,
              "#d8576b"
             ],
             [
              0.6666666666666666,
              "#ed7953"
             ],
             [
              0.7777777777777778,
              "#fb9f3a"
             ],
             [
              0.8888888888888888,
              "#fdca26"
             ],
             [
              1.0,
              "#f0f921"
             ]
            ]
           }
          ],
          "surface": [
           {
            "type": "surface",
            "colorbar": {
             "outlinewidth": 0,
             "ticks": ""
            },
            "colorscale": [
             [
              0.0,
              "#0d0887"
             ],
             [
              0.1111111111111111,
              "#46039f"
             ],
             [
              0.2222222222222222,
              "#7201a8"
             ],
             [
              0.3333333333333333,
              "#9c179e"
             ],
             [
              0.4444444444444444,
              "#bd3786"
             ],
             [
              0.5555555555555556,
              "#d8576b"
             ],
             [
              0.6666666666666666,
              "#ed7953"
             ],
             [
              0.7777777777777778,
              "#fb9f3a"
             ],
             [
              0.8888888888888888,
              "#fdca26"
             ],
             [
              1.0,
              "#f0f921"
             ]
            ]
           }
          ],
          "mesh3d": [
           {
            "type": "mesh3d",
            "colorbar": {
             "outlinewidth": 0,
             "ticks": ""
            }
           }
          ],
          "scatter": [
           {
            "marker": {
             "line": {
              "color": "#283442"
             }
            },
            "type": "scatter"
           }
          ],
          "parcoords": [
           {
            "type": "parcoords",
            "line": {
             "colorbar": {
              "outlinewidth": 0,
              "ticks": ""
             }
            }
           }
          ],
          "scatterpolargl": [
           {
            "type": "scatterpolargl",
            "marker": {
             "colorbar": {
              "outlinewidth": 0,
              "ticks": ""
             }
            }
           }
          ],
          "bar": [
           {
            "error_x": {
             "color": "#f2f5fa"
            },
            "error_y": {
             "color": "#f2f5fa"
            },
            "marker": {
             "line": {
              "color": "rgb(17,17,17)",
              "width": 0.5
             },
             "pattern": {
              "fillmode": "overlay",
              "size": 10,
              "solidity": 0.2
             }
            },
            "type": "bar"
           }
          ],
          "scattergeo": [
           {
            "type": "scattergeo",
            "marker": {
             "colorbar": {
              "outlinewidth": 0,
              "ticks": ""
             }
            }
           }
          ],
          "scatterpolar": [
           {
            "type": "scatterpolar",
            "marker": {
             "colorbar": {
              "outlinewidth": 0,
              "ticks": ""
             }
            }
           }
          ],
          "histogram": [
           {
            "marker": {
             "pattern": {
              "fillmode": "overlay",
              "size": 10,
              "solidity": 0.2
             }
            },
            "type": "histogram"
           }
          ],
          "scattergl": [
           {
            "marker": {
             "line": {
              "color": "#283442"
             }
            },
            "type": "scattergl"
           }
          ],
          "scatter3d": [
           {
            "type": "scatter3d",
            "line": {
             "colorbar": {
              "outlinewidth": 0,
              "ticks": ""
             }
            },
            "marker": {
             "colorbar": {
              "outlinewidth": 0,
              "ticks": ""
             }
            }
           }
          ],
          "scattermapbox": [
           {
            "type": "scattermapbox",
            "marker": {
             "colorbar": {
              "outlinewidth": 0,
              "ticks": ""
             }
            }
           }
          ],
          "scatterternary": [
           {
            "type": "scatterternary",
            "marker": {
             "colorbar": {
              "outlinewidth": 0,
              "ticks": ""
             }
            }
           }
          ],
          "scattercarpet": [
           {
            "type": "scattercarpet",
            "marker": {
             "colorbar": {
              "outlinewidth": 0,
              "ticks": ""
             }
            }
           }
          ],
          "carpet": [
           {
            "aaxis": {
             "endlinecolor": "#A2B1C6",
             "gridcolor": "#506784",
             "linecolor": "#506784",
             "minorgridcolor": "#506784",
             "startlinecolor": "#A2B1C6"
            },
            "baxis": {
             "endlinecolor": "#A2B1C6",
             "gridcolor": "#506784",
             "linecolor": "#506784",
             "minorgridcolor": "#506784",
             "startlinecolor": "#A2B1C6"
            },
            "type": "carpet"
           }
          ],
          "table": [
           {
            "cells": {
             "fill": {
              "color": "#506784"
             },
             "line": {
              "color": "rgb(17,17,17)"
             }
            },
            "header": {
             "fill": {
              "color": "#2a3f5f"
             },
             "line": {
              "color": "rgb(17,17,17)"
             }
            },
            "type": "table"
           }
          ],
          "barpolar": [
           {
            "marker": {
             "line": {
              "color": "rgb(17,17,17)",
              "width": 0.5
             },
             "pattern": {
              "fillmode": "overlay",
              "size": 10,
              "solidity": 0.2
             }
            },
            "type": "barpolar"
           }
          ],
          "pie": [
           {
            "automargin": true,
            "type": "pie"
           }
          ]
         },
         "layout": {
          "autotypenumbers": "strict",
          "colorway": [
           "#636efa",
           "#EF553B",
           "#00cc96",
           "#ab63fa",
           "#FFA15A",
           "#19d3f3",
           "#FF6692",
           "#B6E880",
           "#FF97FF",
           "#FECB52"
          ],
          "font": {
           "color": "#f2f5fa"
          },
          "hovermode": "closest",
          "hoverlabel": {
           "align": "left"
          },
          "paper_bgcolor": "rgb(17,17,17)",
          "plot_bgcolor": "rgb(17,17,17)",
          "polar": {
           "bgcolor": "rgb(17,17,17)",
           "angularaxis": {
            "gridcolor": "#506784",
            "linecolor": "#506784",
            "ticks": ""
           },
           "radialaxis": {
            "gridcolor": "#506784",
            "linecolor": "#506784",
            "ticks": ""
           }
          },
          "ternary": {
           "bgcolor": "rgb(17,17,17)",
           "aaxis": {
            "gridcolor": "#506784",
            "linecolor": "#506784",
            "ticks": ""
           },
           "baxis": {
            "gridcolor": "#506784",
            "linecolor": "#506784",
            "ticks": ""
           },
           "caxis": {
            "gridcolor": "#506784",
            "linecolor": "#506784",
            "ticks": ""
           }
          },
          "coloraxis": {
           "colorbar": {
            "outlinewidth": 0,
            "ticks": ""
           }
          },
          "colorscale": {
           "sequential": [
            [
             0.0,
             "#0d0887"
            ],
            [
             0.1111111111111111,
             "#46039f"
            ],
            [
             0.2222222222222222,
             "#7201a8"
            ],
            [
             0.3333333333333333,
             "#9c179e"
            ],
            [
             0.4444444444444444,
             "#bd3786"
            ],
            [
             0.5555555555555556,
             "#d8576b"
            ],
            [
             0.6666666666666666,
             "#ed7953"
            ],
            [
             0.7777777777777778,
             "#fb9f3a"
            ],
            [
             0.8888888888888888,
             "#fdca26"
            ],
            [
             1.0,
             "#f0f921"
            ]
           ],
           "sequentialminus": [
            [
             0.0,
             "#0d0887"
            ],
            [
             0.1111111111111111,
             "#46039f"
            ],
            [
             0.2222222222222222,
             "#7201a8"
            ],
            [
             0.3333333333333333,
             "#9c179e"
            ],
            [
             0.4444444444444444,
             "#bd3786"
            ],
            [
             0.5555555555555556,
             "#d8576b"
            ],
            [
             0.6666666666666666,
             "#ed7953"
            ],
            [
             0.7777777777777778,
             "#fb9f3a"
            ],
            [
             0.8888888888888888,
             "#fdca26"
            ],
            [
             1.0,
             "#f0f921"
            ]
           ],
           "diverging": [
            [
             0,
             "#8e0152"
            ],
            [
             0.1,
             "#c51b7d"
            ],
            [
             0.2,
             "#de77ae"
            ],
            [
             0.3,
             "#f1b6da"
            ],
            [
             0.4,
             "#fde0ef"
            ],
            [
             0.5,
             "#f7f7f7"
            ],
            [
             0.6,
             "#e6f5d0"
            ],
            [
             0.7,
             "#b8e186"
            ],
            [
             0.8,
             "#7fbc41"
            ],
            [
             0.9,
             "#4d9221"
            ],
            [
             1,
             "#276419"
            ]
           ]
          },
          "xaxis": {
           "gridcolor": "#283442",
           "linecolor": "#506784",
           "ticks": "",
           "title": {
            "standoff": 15
           },
           "zerolinecolor": "#283442",
           "automargin": true,
           "zerolinewidth": 2
          },
          "yaxis": {
           "gridcolor": "#283442",
           "linecolor": "#506784",
           "ticks": "",
           "title": {
            "standoff": 15
           },
           "zerolinecolor": "#283442",
           "automargin": true,
           "zerolinewidth": 2
          },
          "scene": {
           "xaxis": {
            "backgroundcolor": "rgb(17,17,17)",
            "gridcolor": "#506784",
            "linecolor": "#506784",
            "showbackground": true,
            "ticks": "",
            "zerolinecolor": "#C8D4E3",
            "gridwidth": 2
           },
           "yaxis": {
            "backgroundcolor": "rgb(17,17,17)",
            "gridcolor": "#506784",
            "linecolor": "#506784",
            "showbackground": true,
            "ticks": "",
            "zerolinecolor": "#C8D4E3",
            "gridwidth": 2
           },
           "zaxis": {
            "backgroundcolor": "rgb(17,17,17)",
            "gridcolor": "#506784",
            "linecolor": "#506784",
            "showbackground": true,
            "ticks": "",
            "zerolinecolor": "#C8D4E3",
            "gridwidth": 2
           }
          },
          "shapedefaults": {
           "line": {
            "color": "#f2f5fa"
           }
          },
          "annotationdefaults": {
           "arrowcolor": "#f2f5fa",
           "arrowhead": 0,
           "arrowwidth": 1
          },
          "geo": {
           "bgcolor": "rgb(17,17,17)",
           "landcolor": "rgb(17,17,17)",
           "subunitcolor": "#506784",
           "showland": true,
           "showlakes": true,
           "lakecolor": "rgb(17,17,17)"
          },
          "title": {
           "x": 0.05
          },
          "updatemenudefaults": {
           "bgcolor": "#506784",
           "borderwidth": 0
          },
          "sliderdefaults": {
           "bgcolor": "#C8D4E3",
           "borderwidth": 1,
           "bordercolor": "rgb(17,17,17)",
           "tickwidth": 0
          },
          "mapbox": {
           "style": "dark"
          }
         }
        },
        "xaxis": {
         "anchor": "y",
         "domain": [
          0.0,
          1.0
         ],
         "title": {
          "text": "attack"
         },
         "type": "log",
         "range": [
          1.4771212547196624,
          2.176091259055681
         ]
        },
        "yaxis": {
         "anchor": "x",
         "domain": [
          0.0,
          1.0
         ],
         "title": {
          "text": "defense"
         },
         "range": [
          30,
          200
         ]
        },
        "legend": {
         "title": {
          "text": "type_1"
         },
         "tracegroupgap": 0,
         "itemsizing": "constant"
        },
        "margin": {
         "t": 60
        },
        "updatemenus": [
         {
          "buttons": [
           {
            "args": [
             null,
             {
              "frame": {
               "duration": 500,
               "redraw": false
              },
              "mode": "immediate",
              "fromcurrent": true,
              "transition": {
               "duration": 500,
               "easing": "linear"
              }
             }
            ],
            "label": "&#9654;",
            "method": "animate"
           },
           {
            "args": [
             [
              null
             ],
             {
              "frame": {
               "duration": 0,
               "redraw": false
              },
              "mode": "immediate",
              "fromcurrent": true,
              "transition": {
               "duration": 0,
               "easing": "linear"
              }
             }
            ],
            "label": "&#9724;",
            "method": "animate"
           }
          ],
          "direction": "left",
          "pad": {
           "r": 10,
           "t": 70
          },
          "showactive": false,
          "type": "buttons",
          "x": 0.1,
          "xanchor": "right",
          "y": 0,
          "yanchor": "top"
         }
        ],
        "sliders": [
         {
          "active": 0,
          "currentvalue": {
           "prefix": "generation="
          },
          "len": 0.9,
          "pad": {
           "b": 10,
           "t": 60
          },
          "steps": [
           {
            "args": [
             [
              "1"
             ],
             {
              "frame": {
               "duration": 0,
               "redraw": false
              },
              "mode": "immediate",
              "fromcurrent": true,
              "transition": {
               "duration": 0,
               "easing": "linear"
              }
             }
            ],
            "label": "1",
            "method": "animate"
           },
           {
            "args": [
             [
              "2"
             ],
             {
              "frame": {
               "duration": 0,
               "redraw": false
              },
              "mode": "immediate",
              "fromcurrent": true,
              "transition": {
               "duration": 0,
               "easing": "linear"
              }
             }
            ],
            "label": "2",
            "method": "animate"
           },
           {
            "args": [
             [
              "3"
             ],
             {
              "frame": {
               "duration": 0,
               "redraw": false
              },
              "mode": "immediate",
              "fromcurrent": true,
              "transition": {
               "duration": 0,
               "easing": "linear"
              }
             }
            ],
            "label": "3",
            "method": "animate"
           },
           {
            "args": [
             [
              "4"
             ],
             {
              "frame": {
               "duration": 0,
               "redraw": false
              },
              "mode": "immediate",
              "fromcurrent": true,
              "transition": {
               "duration": 0,
               "easing": "linear"
              }
             }
            ],
            "label": "4",
            "method": "animate"
           },
           {
            "args": [
             [
              "5"
             ],
             {
              "frame": {
               "duration": 0,
               "redraw": false
              },
              "mode": "immediate",
              "fromcurrent": true,
              "transition": {
               "duration": 0,
               "easing": "linear"
              }
             }
            ],
            "label": "5",
            "method": "animate"
           },
           {
            "args": [
             [
              "6"
             ],
             {
              "frame": {
               "duration": 0,
               "redraw": false
              },
              "mode": "immediate",
              "fromcurrent": true,
              "transition": {
               "duration": 0,
               "easing": "linear"
              }
             }
            ],
            "label": "6",
            "method": "animate"
           },
           {
            "args": [
             [
              "7"
             ],
             {
              "frame": {
               "duration": 0,
               "redraw": false
              },
              "mode": "immediate",
              "fromcurrent": true,
              "transition": {
               "duration": 0,
               "easing": "linear"
              }
             }
            ],
            "label": "7",
            "method": "animate"
           },
           {
            "args": [
             [
              "8"
             ],
             {
              "frame": {
               "duration": 0,
               "redraw": false
              },
              "mode": "immediate",
              "fromcurrent": true,
              "transition": {
               "duration": 0,
               "easing": "linear"
              }
             }
            ],
            "label": "8",
            "method": "animate"
           }
          ],
          "x": 0.1,
          "xanchor": "left",
          "y": 0,
          "yanchor": "top"
         }
        ]
       },
       "frames": [
        {
         "data": [
          {
           "hovertemplate": "<b>%{hovertext}</b><br><br>type_1=Bug<br>generation=1<br>attack=%{x}<br>defense=%{y}<br>hp=%{marker.size}<extra></extra>",
           "hovertext": [
            "Bug"
           ],
           "ids": [
            "Bug"
           ],
           "legendgroup": "Bug",
           "marker": {
            "color": "#636efa",
            "size": [
             56.785714285714285
            ],
            "sizemode": "area",
            "sizeref": 0.5575,
            "symbol": "circle"
           },
           "mode": "markers",
           "name": "Bug",
           "orientation": "v",
           "showlegend": true,
           "x": [
            76.42857142857143
           ],
           "xaxis": "x",
           "y": [
            60.357142857142854
           ],
           "yaxis": "y",
           "type": "scatter"
          },
          {
           "hovertemplate": "<b>%{hovertext}</b><br><br>type_1=Dark<br>generation=1<br>attack=%{x}<br>defense=%{y}<br>hp=%{marker.size}<extra></extra>",
           "hovertext": [
            "Dark"
           ],
           "ids": [
            "Dark"
           ],
           "legendgroup": "Dark",
           "marker": {
            "color": "#EF553B",
            "size": [
             52.5
            ],
            "sizemode": "area",
            "sizeref": 0.5575,
            "symbol": "circle"
           },
           "mode": "markers",
           "name": "Dark",
           "orientation": "v",
           "showlegend": true,
           "x": [
            55.5
           ],
           "xaxis": "x",
           "y": [
            50.0
           ],
           "yaxis": "y",
           "type": "scatter"
          },
          {
           "hovertemplate": "<b>%{hovertext}</b><br><br>type_1=Dragon<br>generation=1<br>attack=%{x}<br>defense=%{y}<br>hp=%{marker.size}<extra></extra>",
           "hovertext": [
            "Dragon"
           ],
           "ids": [
            "Dragon"
           ],
           "legendgroup": "Dragon",
           "marker": {
            "color": "#00cc96",
            "size": [
             64.33333333333333
            ],
            "sizemode": "area",
            "sizeref": 0.5575,
            "symbol": "circle"
           },
           "mode": "markers",
           "name": "Dragon",
           "orientation": "v",
           "showlegend": true,
           "x": [
            94.0
           ],
           "xaxis": "x",
           "y": [
            68.33333333333333
           ],
           "yaxis": "y",
           "type": "scatter"
          },
          {
           "hovertemplate": "<b>%{hovertext}</b><br><br>type_1=Electric<br>generation=1<br>attack=%{x}<br>defense=%{y}<br>hp=%{marker.size}<extra></extra>",
           "hovertext": [
            "Electric"
           ],
           "ids": [
            "Electric"
           ],
           "legendgroup": "Electric",
           "marker": {
            "color": "#ab63fa",
            "size": [
             54.09090909090909
            ],
            "sizemode": "area",
            "sizeref": 0.5575,
            "symbol": "circle"
           },
           "mode": "markers",
           "name": "Electric",
           "orientation": "v",
           "showlegend": true,
           "x": [
            65.72727272727273
           ],
           "xaxis": "x",
           "y": [
            62.0
           ],
           "yaxis": "y",
           "type": "scatter"
          },
          {
           "hovertemplate": "<b>%{hovertext}</b><br><br>type_1=Fairy<br>generation=1<br>attack=%{x}<br>defense=%{y}<br>hp=%{marker.size}<extra></extra>",
           "hovertext": [
            "Fairy"
           ],
           "ids": [
            "Fairy"
           ],
           "legendgroup": "Fairy",
           "marker": {
            "color": "#FFA15A",
            "size": [
             82.5
            ],
            "sizemode": "area",
            "sizeref": 0.5575,
            "symbol": "circle"
           },
           "mode": "markers",
           "name": "Fairy",
           "orientation": "v",
           "showlegend": true,
           "x": [
            57.5
           ],
           "xaxis": "x",
           "y": [
            60.5
           ],
           "yaxis": "y",
           "type": "scatter"
          },
          {
           "hovertemplate": "<b>%{hovertext}</b><br><br>type_1=Fighting<br>generation=1<br>attack=%{x}<br>defense=%{y}<br>hp=%{marker.size}<extra></extra>",
           "hovertext": [
            "Fighting"
           ],
           "ids": [
            "Fighting"
           ],
           "legendgroup": "Fighting",
           "marker": {
            "color": "#19d3f3",
            "size": [
             62.125
            ],
            "sizemode": "area",
            "sizeref": 0.5575,
            "symbol": "circle"
           },
           "mode": "markers",
           "name": "Fighting",
           "orientation": "v",
           "showlegend": true,
           "x": [
            101.875
           ],
           "xaxis": "x",
           "y": [
            60.25
           ],
           "yaxis": "y",
           "type": "scatter"
          },
          {
           "hovertemplate": "<b>%{hovertext}</b><br><br>type_1=Fire<br>generation=1<br>attack=%{x}<br>defense=%{y}<br>hp=%{marker.size}<extra></extra>",
           "hovertext": [
            "Fire"
           ],
           "ids": [
            "Fire"
           ],
           "legendgroup": "Fire",
           "marker": {
            "color": "#FF6692",
            "size": [
             65.46666666666667
            ],
            "sizemode": "area",
            "sizeref": 0.5575,
            "symbol": "circle"
           },
           "mode": "markers",
           "name": "Fire",
           "orientation": "v",
           "showlegend": true,
           "x": [
            88.06666666666666
           ],
           "xaxis": "x",
           "y": [
            70.0
           ],
           "yaxis": "y",
           "type": "scatter"
          },
          {
           "hovertemplate": "<b>%{hovertext}</b><br><br>type_1=Ghost<br>generation=1<br>attack=%{x}<br>defense=%{y}<br>hp=%{marker.size}<extra></extra>",
           "hovertext": [
            "Ghost"
           ],
           "ids": [
            "Ghost"
           ],
           "legendgroup": "Ghost",
           "marker": {
            "color": "#B6E880",
            "size": [
             48.75
            ],
            "sizemode": "area",
            "sizeref": 0.5575,
            "symbol": "circle"
           },
           "mode": "markers",
           "name": "Ghost",
           "orientation": "v",
           "showlegend": true,
           "x": [
            53.75
           ],
           "xaxis": "x",
           "y": [
            53.75
           ],
           "yaxis": "y",
           "type": "scatter"
          },
          {
           "hovertemplate": "<b>%{hovertext}</b><br><br>type_1=Grass<br>generation=1<br>attack=%{x}<br>defense=%{y}<br>hp=%{marker.size}<extra></extra>",
           "hovertext": [
            "Grass"
           ],
           "ids": [
            "Grass"
           ],
           "legendgroup": "Grass",
           "marker": {
            "color": "#FF97FF",
            "size": [
             68.21428571428571
            ],
            "sizemode": "area",
            "sizeref": 0.5575,
            "symbol": "circle"
           },
           "mode": "markers",
           "name": "Grass",
           "orientation": "v",
           "showlegend": true,
           "x": [
            75.21428571428571
           ],
           "xaxis": "x",
           "y": [
            74.5
           ],
           "yaxis": "y",
           "type": "scatter"
          },
          {
           "hovertemplate": "<b>%{hovertext}</b><br><br>type_1=Ground<br>generation=1<br>attack=%{x}<br>defense=%{y}<br>hp=%{marker.size}<extra></extra>",
           "hovertext": [
            "Ground"
           ],
           "ids": [
            "Ground"
           ],
           "legendgroup": "Ground",
           "marker": {
            "color": "#FECB52",
            "size": [
             51.0
            ],
            "sizemode": "area",
            "sizeref": 0.5575,
            "symbol": "circle"
           },
           "mode": "markers",
           "name": "Ground",
           "orientation": "v",
           "showlegend": true,
           "x": [
            83.0
           ],
           "xaxis": "x",
           "y": [
            78.0
           ],
           "yaxis": "y",
           "type": "scatter"
          },
          {
           "hovertemplate": "<b>%{hovertext}</b><br><br>type_1=Ice<br>generation=1<br>attack=%{x}<br>defense=%{y}<br>hp=%{marker.size}<extra></extra>",
           "hovertext": [
            "Ice"
           ],
           "ids": [
            "Ice"
           ],
           "legendgroup": "Ice",
           "marker": {
            "color": "#636efa",
            "size": [
             65.16666666666667
            ],
            "sizemode": "area",
            "sizeref": 0.5575,
            "symbol": "circle"
           },
           "mode": "markers",
           "name": "Ice",
           "orientation": "v",
           "showlegend": true,
           "x": [
            69.66666666666667
           ],
           "xaxis": "x",
           "y": [
            76.66666666666667
           ],
           "yaxis": "y",
           "type": "scatter"
          },
          {
           "hovertemplate": "<b>%{hovertext}</b><br><br>type_1=Normal<br>generation=1<br>attack=%{x}<br>defense=%{y}<br>hp=%{marker.size}<extra></extra>",
           "hovertext": [
            "Normal"
           ],
           "ids": [
            "Normal"
           ],
           "legendgroup": "Normal",
           "marker": {
            "color": "#EF553B",
            "size": [
             79.36
            ],
            "sizemode": "area",
            "sizeref": 0.5575,
            "symbol": "circle"
           },
           "mode": "markers",
           "name": "Normal",
           "orientation": "v",
           "showlegend": true,
           "x": [
            71.8
           ],
           "xaxis": "x",
           "y": [
            57.12
           ],
           "yaxis": "y",
           "type": "scatter"
          },
          {
           "hovertemplate": "<b>%{hovertext}</b><br><br>type_1=Poison<br>generation=1<br>attack=%{x}<br>defense=%{y}<br>hp=%{marker.size}<extra></extra>",
           "hovertext": [
            "Poison"
           ],
           "ids": [
            "Poison"
           ],
           "legendgroup": "Poison",
           "marker": {
            "color": "#00cc96",
            "size": [
             67.82352941176471
            ],
            "sizemode": "area",
            "sizeref": 0.5575,
            "symbol": "circle"
           },
           "mode": "markers",
           "name": "Poison",
           "orientation": "v",
           "showlegend": true,
           "x": [
            78.05882352941177
           ],
           "xaxis": "x",
           "y": [
            69.58823529411765
           ],
           "yaxis": "y",
           "type": "scatter"
          },
          {
           "hovertemplate": "<b>%{hovertext}</b><br><br>type_1=Psychic<br>generation=1<br>attack=%{x}<br>defense=%{y}<br>hp=%{marker.size}<extra></extra>",
           "hovertext": [
            "Psychic"
           ],
           "ids": [
            "Psychic"
           ],
           "legendgroup": "Psychic",
           "marker": {
            "color": "#ab63fa",
            "size": [
             67.35714285714286
            ],
            "sizemode": "area",
            "sizeref": 0.5575,
            "symbol": "circle"
           },
           "mode": "markers",
           "name": "Psychic",
           "orientation": "v",
           "showlegend": true,
           "x": [
            80.07142857142857
           ],
           "xaxis": "x",
           "y": [
            63.214285714285715
           ],
           "yaxis": "y",
           "type": "scatter"
          },
          {
           "hovertemplate": "<b>%{hovertext}</b><br><br>type_1=Rock<br>generation=1<br>attack=%{x}<br>defense=%{y}<br>hp=%{marker.size}<extra></extra>",
           "hovertext": [
            "Rock"
           ],
           "ids": [
            "Rock"
           ],
           "legendgroup": "Rock",
           "marker": {
            "color": "#FFA15A",
            "size": [
             56.92307692307692
            ],
            "sizemode": "area",
            "sizeref": 0.5575,
            "symbol": "circle"
           },
           "mode": "markers",
           "name": "Rock",
           "orientation": "v",
           "showlegend": true,
           "x": [
            90.0
           ],
           "xaxis": "x",
           "y": [
            109.23076923076923
           ],
           "yaxis": "y",
           "type": "scatter"
          },
          {
           "hovertemplate": "<b>%{hovertext}</b><br><br>type_1=Steel<br>generation=1<br>attack=%{x}<br>defense=%{y}<br>hp=%{marker.size}<extra></extra>",
           "hovertext": [
            "Steel"
           ],
           "ids": [
            "Steel"
           ],
           "legendgroup": "Steel",
           "marker": {
            "color": "#19d3f3",
            "size": [
             50.0
            ],
            "sizemode": "area",
            "sizeref": 0.5575,
            "symbol": "circle"
           },
           "mode": "markers",
           "name": "Steel",
           "orientation": "v",
           "showlegend": true,
           "x": [
            65.0
           ],
           "xaxis": "x",
           "y": [
            55.0
           ],
           "yaxis": "y",
           "type": "scatter"
          },
          {
           "hovertemplate": "<b>%{hovertext}</b><br><br>type_1=Water<br>generation=1<br>attack=%{x}<br>defense=%{y}<br>hp=%{marker.size}<extra></extra>",
           "hovertext": [
            "Water"
           ],
           "ids": [
            "Water"
           ],
           "legendgroup": "Water",
           "marker": {
            "color": "#FF6692",
            "size": [
             66.96774193548387
            ],
            "sizemode": "area",
            "sizeref": 0.5575,
            "symbol": "circle"
           },
           "mode": "markers",
           "name": "Water",
           "orientation": "v",
           "showlegend": true,
           "x": [
            74.19354838709677
           ],
           "xaxis": "x",
           "y": [
            83.19354838709677
           ],
           "yaxis": "y",
           "type": "scatter"
          }
         ],
         "name": "1"
        },
        {
         "data": [
          {
           "hovertemplate": "<b>%{hovertext}</b><br><br>type_1=Bug<br>generation=2<br>attack=%{x}<br>defense=%{y}<br>hp=%{marker.size}<extra></extra>",
           "hovertext": [
            "Bug"
           ],
           "ids": [
            "Bug"
           ],
           "legendgroup": "Bug",
           "marker": {
            "color": "#636efa",
            "size": [
             59.583333333333336
            ],
            "sizemode": "area",
            "sizeref": 0.5575,
            "symbol": "circle"
           },
           "mode": "markers",
           "name": "Bug",
           "orientation": "v",
           "showlegend": true,
           "x": [
            85.41666666666667
           ],
           "xaxis": "x",
           "y": [
            93.75
           ],
           "yaxis": "y",
           "type": "scatter"
          },
          {
           "hovertemplate": "<b>%{hovertext}</b><br><br>type_1=Dark<br>generation=2<br>attack=%{x}<br>defense=%{y}<br>hp=%{marker.size}<extra></extra>",
           "hovertext": [
            "Dark"
           ],
           "ids": [
            "Dark"
           ],
           "legendgroup": "Dark",
           "marker": {
            "color": "#EF553B",
            "size": [
             67.5
            ],
            "sizemode": "area",
            "sizeref": 0.5575,
            "symbol": "circle"
           },
           "mode": "markers",
           "name": "Dark",
           "orientation": "v",
           "showlegend": true,
           "x": [
            80.83333333333333
           ],
           "xaxis": "x",
           "y": [
            62.833333333333336
           ],
           "yaxis": "y",
           "type": "scatter"
          },
          {
           "hovertemplate": "<b>%{hovertext}</b><br><br>type_1=Electric<br>generation=2<br>attack=%{x}<br>defense=%{y}<br>hp=%{marker.size}<extra></extra>",
           "hovertext": [
            "Electric"
           ],
           "ids": [
            "Electric"
           ],
           "legendgroup": "Electric",
           "marker": {
            "color": "#ab63fa",
            "size": [
             65.71428571428571
            ],
            "sizemode": "area",
            "sizeref": 0.5575,
            "symbol": "circle"
           },
           "mode": "markers",
           "name": "Electric",
           "orientation": "v",
           "showlegend": true,
           "x": [
            64.71428571428571
           ],
           "xaxis": "x",
           "y": [
            58.857142857142854
           ],
           "yaxis": "y",
           "type": "scatter"
          },
          {
           "hovertemplate": "<b>%{hovertext}</b><br><br>type_1=Fairy<br>generation=2<br>attack=%{x}<br>defense=%{y}<br>hp=%{marker.size}<extra></extra>",
           "hovertext": [
            "Fairy"
           ],
           "ids": [
            "Fairy"
           ],
           "legendgroup": "Fairy",
           "marker": {
            "color": "#FFA15A",
            "size": [
             58.0
            ],
            "sizemode": "area",
            "sizeref": 0.5575,
            "symbol": "circle"
           },
           "mode": "markers",
           "name": "Fairy",
           "orientation": "v",
           "showlegend": true,
           "x": [
            57.0
           ],
           "xaxis": "x",
           "y": [
            60.6
           ],
           "yaxis": "y",
           "type": "scatter"
          },
          {
           "hovertemplate": "<b>%{hovertext}</b><br><br>type_1=Fighting<br>generation=2<br>attack=%{x}<br>defense=%{y}<br>hp=%{marker.size}<extra></extra>",
           "hovertext": [
            "Fighting"
           ],
           "ids": [
            "Fighting"
           ],
           "legendgroup": "Fighting",
           "marker": {
            "color": "#19d3f3",
            "size": [
             42.5
            ],
            "sizemode": "area",
            "sizeref": 0.5575,
            "symbol": "circle"
           },
           "mode": "markers",
           "name": "Fighting",
           "orientation": "v",
           "showlegend": true,
           "x": [
            65.0
           ],
           "xaxis": "x",
           "y": [
            65.0
           ],
           "yaxis": "y",
           "type": "scatter"
          },
          {
           "hovertemplate": "<b>%{hovertext}</b><br><br>type_1=Fire<br>generation=2<br>attack=%{x}<br>defense=%{y}<br>hp=%{marker.size}<extra></extra>",
           "hovertext": [
            "Fire"
           ],
           "ids": [
            "Fire"
           ],
           "legendgroup": "Fire",
           "marker": {
            "color": "#FF6692",
            "size": [
             67.625
            ],
            "sizemode": "area",
            "sizeref": 0.5575,
            "symbol": "circle"
           },
           "mode": "markers",
           "name": "Fire",
           "orientation": "v",
           "showlegend": true,
           "x": [
            76.25
           ],
           "xaxis": "x",
           "y": [
            68.875
           ],
           "yaxis": "y",
           "type": "scatter"
          },
          {
           "hovertemplate": "<b>%{hovertext}</b><br><br>type_1=Ghost<br>generation=2<br>attack=%{x}<br>defense=%{y}<br>hp=%{marker.size}<extra></extra>",
           "hovertext": [
            "Ghost"
           ],
           "ids": [
            "Ghost"
           ],
           "legendgroup": "Ghost",
           "marker": {
            "color": "#B6E880",
            "size": [
             60.0
            ],
            "sizemode": "area",
            "sizeref": 0.5575,
            "symbol": "circle"
           },
           "mode": "markers",
           "name": "Ghost",
           "orientation": "v",
           "showlegend": true,
           "x": [
            57.5
           ],
           "xaxis": "x",
           "y": [
            80.0
           ],
           "yaxis": "y",
           "type": "scatter"
          },
          {
           "hovertemplate": "<b>%{hovertext}</b><br><br>type_1=Grass<br>generation=2<br>attack=%{x}<br>defense=%{y}<br>hp=%{marker.size}<extra></extra>",
           "hovertext": [
            "Grass"
           ],
           "ids": [
            "Grass"
           ],
           "legendgroup": "Grass",
           "marker": {
            "color": "#FF97FF",
            "size": [
             58.888888888888886
            ],
            "sizemode": "area",
            "sizeref": 0.5575,
            "symbol": "circle"
           },
           "mode": "markers",
           "name": "Grass",
           "orientation": "v",
           "showlegend": true,
           "x": [
            57.0
           ],
           "xaxis": "x",
           "y": [
            65.0
           ],
           "yaxis": "y",
           "type": "scatter"
          },
          {
           "hovertemplate": "<b>%{hovertext}</b><br><br>type_1=Ground<br>generation=2<br>attack=%{x}<br>defense=%{y}<br>hp=%{marker.size}<extra></extra>",
           "hovertext": [
            "Ground"
           ],
           "ids": [
            "Ground"
           ],
           "legendgroup": "Ground",
           "marker": {
            "color": "#FECB52",
            "size": [
             81.66666666666667
            ],
            "sizemode": "area",
            "sizeref": 0.5575,
            "symbol": "circle"
           },
           "mode": "markers",
           "name": "Ground",
           "orientation": "v",
           "showlegend": true,
           "x": [
            85.0
           ],
           "xaxis": "x",
           "y": [
            95.0
           ],
           "yaxis": "y",
           "type": "scatter"
          },
          {
           "hovertemplate": "<b>%{hovertext}</b><br><br>type_1=Ice<br>generation=2<br>attack=%{x}<br>defense=%{y}<br>hp=%{marker.size}<extra></extra>",
           "hovertext": [
            "Ice"
           ],
           "ids": [
            "Ice"
           ],
           "legendgroup": "Ice",
           "marker": {
            "color": "#636efa",
            "size": [
             60.0
            ],
            "sizemode": "area",
            "sizeref": 0.5575,
            "symbol": "circle"
           },
           "mode": "markers",
           "name": "Ice",
           "orientation": "v",
           "showlegend": true,
           "x": [
            58.75
           ],
           "xaxis": "x",
           "y": [
            45.0
           ],
           "yaxis": "y",
           "type": "scatter"
          },
          {
           "hovertemplate": "<b>%{hovertext}</b><br><br>type_1=Normal<br>generation=2<br>attack=%{x}<br>defense=%{y}<br>hp=%{marker.size}<extra></extra>",
           "hovertext": [
            "Normal"
           ],
           "ids": [
            "Normal"
           ],
           "legendgroup": "Normal",
           "marker": {
            "color": "#EF553B",
            "size": [
             87.2
            ],
            "sizemode": "area",
            "sizeref": 0.5575,
            "symbol": "circle"
           },
           "mode": "markers",
           "name": "Normal",
           "orientation": "v",
           "showlegend": true,
           "x": [
            63.13333333333333
           ],
           "xaxis": "x",
           "y": [
            54.0
           ],
           "yaxis": "y",
           "type": "scatter"
          },
          {
           "hovertemplate": "<b>%{hovertext}</b><br><br>type_1=Poison<br>generation=2<br>attack=%{x}<br>defense=%{y}<br>hp=%{marker.size}<extra></extra>",
           "hovertext": [
            "Poison"
           ],
           "ids": [
            "Poison"
           ],
           "legendgroup": "Poison",
           "marker": {
            "color": "#00cc96",
            "size": [
             85.0
            ],
            "sizemode": "area",
            "sizeref": 0.5575,
            "symbol": "circle"
           },
           "mode": "markers",
           "name": "Poison",
           "orientation": "v",
           "showlegend": true,
           "x": [
            90.0
           ],
           "xaxis": "x",
           "y": [
            80.0
           ],
           "yaxis": "y",
           "type": "scatter"
          },
          {
           "hovertemplate": "<b>%{hovertext}</b><br><br>type_1=Psychic<br>generation=2<br>attack=%{x}<br>defense=%{y}<br>hp=%{marker.size}<extra></extra>",
           "hovertext": [
            "Psychic"
           ],
           "ids": [
            "Psychic"
           ],
           "legendgroup": "Psychic",
           "marker": {
            "color": "#ab63fa",
            "size": [
             87.71428571428571
            ],
            "sizemode": "area",
            "sizeref": 0.5575,
            "symbol": "circle"
           },
           "mode": "markers",
           "name": "Psychic",
           "orientation": "v",
           "showlegend": true,
           "x": [
            69.28571428571429
           ],
           "xaxis": "x",
           "y": [
            73.0
           ],
           "yaxis": "y",
           "type": "scatter"
          },
          {
           "hovertemplate": "<b>%{hovertext}</b><br><br>type_1=Rock<br>generation=2<br>attack=%{x}<br>defense=%{y}<br>hp=%{marker.size}<extra></extra>",
           "hovertext": [
            "Rock"
           ],
           "ids": [
            "Rock"
           ],
           "legendgroup": "Rock",
           "marker": {
            "color": "#FFA15A",
            "size": [
             78.0
            ],
            "sizemode": "area",
            "sizeref": 0.5575,
            "symbol": "circle"
           },
           "mode": "markers",
           "name": "Rock",
           "orientation": "v",
           "showlegend": true,
           "x": [
            109.2
           ],
           "xaxis": "x",
           "y": [
            99.0
           ],
           "yaxis": "y",
           "type": "scatter"
          },
          {
           "hovertemplate": "<b>%{hovertext}</b><br><br>type_1=Steel<br>generation=2<br>attack=%{x}<br>defense=%{y}<br>hp=%{marker.size}<extra></extra>",
           "hovertext": [
            "Steel"
           ],
           "ids": [
            "Steel"
           ],
           "legendgroup": "Steel",
           "marker": {
            "color": "#19d3f3",
            "size": [
             71.66666666666667
            ],
            "sizemode": "area",
            "sizeref": 0.5575,
            "symbol": "circle"
           },
           "mode": "markers",
           "name": "Steel",
           "orientation": "v",
           "showlegend": true,
           "x": [
            96.66666666666667
           ],
           "xaxis": "x",
           "y": [
            190.0
           ],
           "yaxis": "y",
           "type": "scatter"
          },
          {
           "hovertemplate": "<b>%{hovertext}</b><br><br>type_1=Water<br>generation=2<br>attack=%{x}<br>defense=%{y}<br>hp=%{marker.size}<extra></extra>",
           "hovertext": [
            "Water"
           ],
           "ids": [
            "Water"
           ],
           "legendgroup": "Water",
           "marker": {
            "color": "#FF6692",
            "size": [
             78.05555555555556
            ],
            "sizemode": "area",
            "sizeref": 0.5575,
            "symbol": "circle"
           },
           "mode": "markers",
           "name": "Water",
           "orientation": "v",
           "showlegend": true,
           "x": [
            68.11111111111111
           ],
           "xaxis": "x",
           "y": [
            73.61111111111111
           ],
           "yaxis": "y",
           "type": "scatter"
          }
         ],
         "name": "2"
        },
        {
         "data": [
          {
           "hovertemplate": "<b>%{hovertext}</b><br><br>type_1=Bug<br>generation=3<br>attack=%{x}<br>defense=%{y}<br>hp=%{marker.size}<extra></extra>",
           "hovertext": [
            "Bug"
           ],
           "ids": [
            "Bug"
           ],
           "legendgroup": "Bug",
           "marker": {
            "color": "#636efa",
            "size": [
             49.833333333333336
            ],
            "sizemode": "area",
            "sizeref": 0.5575,
            "symbol": "circle"
           },
           "mode": "markers",
           "name": "Bug",
           "orientation": "v",
           "showlegend": true,
           "x": [
            55.833333333333336
           ],
           "xaxis": "x",
           "y": [
            57.416666666666664
           ],
           "yaxis": "y",
           "type": "scatter"
          },
          {
           "hovertemplate": "<b>%{hovertext}</b><br><br>type_1=Dark<br>generation=3<br>attack=%{x}<br>defense=%{y}<br>hp=%{marker.size}<extra></extra>",
           "hovertext": [
            "Dark"
           ],
           "ids": [
            "Dark"
           ],
           "legendgroup": "Dark",
           "marker": {
            "color": "#EF553B",
            "size": [
             56.375
            ],
            "sizemode": "area",
            "sizeref": 0.5575,
            "symbol": "circle"
           },
           "mode": "markers",
           "name": "Dark",
           "orientation": "v",
           "showlegend": true,
           "x": [
            85.625
           ],
           "xaxis": "x",
           "y": [
            65.875
           ],
           "yaxis": "y",
           "type": "scatter"
          },
          {
           "hovertemplate": "<b>%{hovertext}</b><br><br>type_1=Dragon<br>generation=3<br>attack=%{x}<br>defense=%{y}<br>hp=%{marker.size}<extra></extra>",
           "hovertext": [
            "Dragon"
           ],
           "ids": [
            "Dragon"
           ],
           "legendgroup": "Dragon",
           "marker": {
            "color": "#00cc96",
            "size": [
             81.66666666666667
            ],
            "sizemode": "area",
            "sizeref": 0.5575,
            "symbol": "circle"
           },
           "mode": "markers",
           "name": "Dragon",
           "orientation": "v",
           "showlegend": true,
           "x": [
            113.33333333333333
           ],
           "xaxis": "x",
           "y": [
            95.83333333333333
           ],
           "yaxis": "y",
           "type": "scatter"
          },
          {
           "hovertemplate": "<b>%{hovertext}</b><br><br>type_1=Electric<br>generation=3<br>attack=%{x}<br>defense=%{y}<br>hp=%{marker.size}<extra></extra>",
           "hovertext": [
            "Electric"
           ],
           "ids": [
            "Electric"
           ],
           "legendgroup": "Electric",
           "marker": {
            "color": "#ab63fa",
            "size": [
             60.0
            ],
            "sizemode": "area",
            "sizeref": 0.5575,
            "symbol": "circle"
           },
           "mode": "markers",
           "name": "Electric",
           "orientation": "v",
           "showlegend": true,
           "x": [
            57.0
           ],
           "xaxis": "x",
           "y": [
            54.0
           ],
           "yaxis": "y",
           "type": "scatter"
          },
          {
           "hovertemplate": "<b>%{hovertext}</b><br><br>type_1=Fighting<br>generation=3<br>attack=%{x}<br>defense=%{y}<br>hp=%{marker.size}<extra></extra>",
           "hovertext": [
            "Fighting"
           ],
           "ids": [
            "Fighting"
           ],
           "legendgroup": "Fighting",
           "marker": {
            "color": "#19d3f3",
            "size": [
             73.2
            ],
            "sizemode": "area",
            "sizeref": 0.5575,
            "symbol": "circle"
           },
           "mode": "markers",
           "name": "Fighting",
           "orientation": "v",
           "showlegend": true,
           "x": [
            76.0
           ],
           "xaxis": "x",
           "y": [
            61.0
           ],
           "yaxis": "y",
           "type": "scatter"
          },
          {
           "hovertemplate": "<b>%{hovertext}</b><br><br>type_1=Fire<br>generation=3<br>attack=%{x}<br>defense=%{y}<br>hp=%{marker.size}<extra></extra>",
           "hovertext": [
            "Fire"
           ],
           "ids": [
            "Fire"
           ],
           "legendgroup": "Fire",
           "marker": {
            "color": "#FF6692",
            "size": [
             67.22222222222223
            ],
            "sizemode": "area",
            "sizeref": 0.5575,
            "symbol": "circle"
           },
           "mode": "markers",
           "name": "Fire",
           "orientation": "v",
           "showlegend": true,
           "x": [
            95.55555555555556
           ],
           "xaxis": "x",
           "y": [
            74.44444444444444
           ],
           "yaxis": "y",
           "type": "scatter"
          },
          {
           "hovertemplate": "<b>%{hovertext}</b><br><br>type_1=Ghost<br>generation=3<br>attack=%{x}<br>defense=%{y}<br>hp=%{marker.size}<extra></extra>",
           "hovertext": [
            "Ghost"
           ],
           "ids": [
            "Ghost"
           ],
           "legendgroup": "Ghost",
           "marker": {
            "color": "#B6E880",
            "size": [
             46.4
            ],
            "sizemode": "area",
            "sizeref": 0.5575,
            "symbol": "circle"
           },
           "mode": "markers",
           "name": "Ghost",
           "orientation": "v",
           "showlegend": true,
           "x": [
            93.0
           ],
           "xaxis": "x",
           "y": [
            79.0
           ],
           "yaxis": "y",
           "type": "scatter"
          },
          {
           "hovertemplate": "<b>%{hovertext}</b><br><br>type_1=Grass<br>generation=3<br>attack=%{x}<br>defense=%{y}<br>hp=%{marker.size}<extra></extra>",
           "hovertext": [
            "Grass"
           ],
           "ids": [
            "Grass"
           ],
           "legendgroup": "Grass",
           "marker": {
            "color": "#FF97FF",
            "size": [
             63.0
            ],
            "sizemode": "area",
            "sizeref": 0.5575,
            "symbol": "circle"
           },
           "mode": "markers",
           "name": "Grass",
           "orientation": "v",
           "showlegend": true,
           "x": [
            77.92307692307692
           ],
           "xaxis": "x",
           "y": [
            56.76923076923077
           ],
           "yaxis": "y",
           "type": "scatter"
          },
          {
           "hovertemplate": "<b>%{hovertext}</b><br><br>type_1=Ground<br>generation=3<br>attack=%{x}<br>defense=%{y}<br>hp=%{marker.size}<extra></extra>",
           "hovertext": [
            "Ground"
           ],
           "ids": [
            "Ground"
           ],
           "legendgroup": "Ground",
           "marker": {
            "color": "#FECB52",
            "size": [
             67.85714285714286
            ],
            "sizemode": "area",
            "sizeref": 0.5575,
            "symbol": "circle"
           },
           "mode": "markers",
           "name": "Ground",
           "orientation": "v",
           "showlegend": true,
           "x": [
            101.42857142857143
           ],
           "xaxis": "x",
           "y": [
            90.71428571428571
           ],
           "yaxis": "y",
           "type": "scatter"
          },
          {
           "hovertemplate": "<b>%{hovertext}</b><br><br>type_1=Ice<br>generation=3<br>attack=%{x}<br>defense=%{y}<br>hp=%{marker.size}<extra></extra>",
           "hovertext": [
            "Ice"
           ],
           "ids": [
            "Ice"
           ],
           "legendgroup": "Ice",
           "marker": {
            "color": "#636efa",
            "size": [
             78.75
            ],
            "sizemode": "area",
            "sizeref": 0.5575,
            "symbol": "circle"
           },
           "mode": "markers",
           "name": "Ice",
           "orientation": "v",
           "showlegend": true,
           "x": [
            68.75
           ],
           "xaxis": "x",
           "y": [
            73.75
           ],
           "yaxis": "y",
           "type": "scatter"
          },
          {
           "hovertemplate": "<b>%{hovertext}</b><br><br>type_1=Normal<br>generation=3<br>attack=%{x}<br>defense=%{y}<br>hp=%{marker.size}<extra></extra>",
           "hovertext": [
            "Normal"
           ],
           "ids": [
            "Normal"
           ],
           "legendgroup": "Normal",
           "marker": {
            "color": "#EF553B",
            "size": [
             68.66666666666667
            ],
            "sizemode": "area",
            "sizeref": 0.5575,
            "symbol": "circle"
           },
           "mode": "markers",
           "name": "Normal",
           "orientation": "v",
           "showlegend": true,
           "x": [
            69.88888888888889
           ],
           "xaxis": "x",
           "y": [
            57.27777777777778
           ],
           "yaxis": "y",
           "type": "scatter"
          },
          {
           "hovertemplate": "<b>%{hovertext}</b><br><br>type_1=Poison<br>generation=3<br>attack=%{x}<br>defense=%{y}<br>hp=%{marker.size}<extra></extra>",
           "hovertext": [
            "Poison"
           ],
           "ids": [
            "Poison"
           ],
           "legendgroup": "Poison",
           "marker": {
            "color": "#00cc96",
            "size": [
             81.0
            ],
            "sizemode": "area",
            "sizeref": 0.5575,
            "symbol": "circle"
           },
           "mode": "markers",
           "name": "Poison",
           "orientation": "v",
           "showlegend": true,
           "x": [
            72.0
           ],
           "xaxis": "x",
           "y": [
            65.33333333333333
           ],
           "yaxis": "y",
           "type": "scatter"
          },
          {
           "hovertemplate": "<b>%{hovertext}</b><br><br>type_1=Psychic<br>generation=3<br>attack=%{x}<br>defense=%{y}<br>hp=%{marker.size}<extra></extra>",
           "hovertext": [
            "Psychic"
           ],
           "ids": [
            "Psychic"
           ],
           "legendgroup": "Psychic",
           "marker": {
            "color": "#ab63fa",
            "size": [
             59.333333333333336
            ],
            "sizemode": "area",
            "sizeref": 0.5575,
            "symbol": "circle"
           },
           "mode": "markers",
           "name": "Psychic",
           "orientation": "v",
           "showlegend": true,
           "x": [
            70.66666666666667
           ],
           "xaxis": "x",
           "y": [
            61.5
           ],
           "yaxis": "y",
           "type": "scatter"
          },
          {
           "hovertemplate": "<b>%{hovertext}</b><br><br>type_1=Rock<br>generation=3<br>attack=%{x}<br>defense=%{y}<br>hp=%{marker.size}<extra></extra>",
           "hovertext": [
            "Rock"
           ],
           "ids": [
            "Rock"
           ],
           "legendgroup": "Rock",
           "marker": {
            "color": "#FFA15A",
            "size": [
             70.25
            ],
            "sizemode": "area",
            "sizeref": 0.5575,
            "symbol": "circle"
           },
           "mode": "markers",
           "name": "Rock",
           "orientation": "v",
           "showlegend": true,
           "x": [
            79.625
           ],
           "xaxis": "x",
           "y": [
            101.125
           ],
           "yaxis": "y",
           "type": "scatter"
          },
          {
           "hovertemplate": "<b>%{hovertext}</b><br><br>type_1=Steel<br>generation=3<br>attack=%{x}<br>defense=%{y}<br>hp=%{marker.size}<extra></extra>",
           "hovertext": [
            "Steel"
           ],
           "ids": [
            "Steel"
           ],
           "legendgroup": "Steel",
           "marker": {
            "color": "#19d3f3",
            "size": [
             65.83333333333333
            ],
            "sizemode": "area",
            "sizeref": 0.5575,
            "symbol": "circle"
           },
           "mode": "markers",
           "name": "Steel",
           "orientation": "v",
           "showlegend": true,
           "x": [
            98.75
           ],
           "xaxis": "x",
           "y": [
            130.83333333333334
           ],
           "yaxis": "y",
           "type": "scatter"
          },
          {
           "hovertemplate": "<b>%{hovertext}</b><br><br>type_1=Water<br>generation=3<br>attack=%{x}<br>defense=%{y}<br>hp=%{marker.size}<extra></extra>",
           "hovertext": [
            "Water"
           ],
           "ids": [
            "Water"
           ],
           "legendgroup": "Water",
           "marker": {
            "color": "#FF6692",
            "size": [
             72.28571428571429
            ],
            "sizemode": "area",
            "sizeref": 0.5575,
            "symbol": "circle"
           },
           "mode": "markers",
           "name": "Water",
           "orientation": "v",
           "showlegend": true,
           "x": [
            80.28571428571429
           ],
           "xaxis": "x",
           "y": [
            68.03571428571429
           ],
           "yaxis": "y",
           "type": "scatter"
          }
         ],
         "name": "3"
        },
        {
         "data": [
          {
           "hovertemplate": "<b>%{hovertext}</b><br><br>type_1=Bug<br>generation=4<br>attack=%{x}<br>defense=%{y}<br>hp=%{marker.size}<extra></extra>",
           "hovertext": [
            "Bug"
           ],
           "ids": [
            "Bug"
           ],
           "legendgroup": "Bug",
           "marker": {
            "color": "#636efa",
            "size": [
             59.0
            ],
            "sizemode": "area",
            "sizeref": 0.5575,
            "symbol": "circle"
           },
           "mode": "markers",
           "name": "Bug",
           "orientation": "v",
           "showlegend": true,
           "x": [
            62.6
           ],
           "xaxis": "x",
           "y": [
            70.2
           ],
           "yaxis": "y",
           "type": "scatter"
          },
          {
           "hovertemplate": "<b>%{hovertext}</b><br><br>type_1=Dark<br>generation=4<br>attack=%{x}<br>defense=%{y}<br>hp=%{marker.size}<extra></extra>",
           "hovertext": [
            "Dark"
           ],
           "ids": [
            "Dark"
           ],
           "legendgroup": "Dark",
           "marker": {
            "color": "#EF553B",
            "size": [
             80.0
            ],
            "sizemode": "area",
            "sizeref": 0.5575,
            "symbol": "circle"
           },
           "mode": "markers",
           "name": "Dark",
           "orientation": "v",
           "showlegend": true,
           "x": [
            111.66666666666667
           ],
           "xaxis": "x",
           "y": [
            69.0
           ],
           "yaxis": "y",
           "type": "scatter"
          },
          {
           "hovertemplate": "<b>%{hovertext}</b><br><br>type_1=Dragon<br>generation=4<br>attack=%{x}<br>defense=%{y}<br>hp=%{marker.size}<extra></extra>",
           "hovertext": [
            "Dragon"
           ],
           "ids": [
            "Dragon"
           ],
           "legendgroup": "Dragon",
           "marker": {
            "color": "#00cc96",
            "size": [
             85.5
            ],
            "sizemode": "area",
            "sizeref": 0.5575,
            "symbol": "circle"
           },
           "mode": "markers",
           "name": "Dragon",
           "orientation": "v",
           "showlegend": true,
           "x": [
            115.0
           ],
           "xaxis": "x",
           "y": [
            80.0
           ],
           "yaxis": "y",
           "type": "scatter"
          },
          {
           "hovertemplate": "<b>%{hovertext}</b><br><br>type_1=Electric<br>generation=4<br>attack=%{x}<br>defense=%{y}<br>hp=%{marker.size}<extra></extra>",
           "hovertext": [
            "Electric"
           ],
           "ids": [
            "Electric"
           ],
           "legendgroup": "Electric",
           "marker": {
            "color": "#ab63fa",
            "size": [
             57.5
            ],
            "sizemode": "area",
            "sizeref": 0.5575,
            "symbol": "circle"
           },
           "mode": "markers",
           "name": "Electric",
           "orientation": "v",
           "showlegend": true,
           "x": [
            73.58333333333333
           ],
           "xaxis": "x",
           "y": [
            85.5
           ],
           "yaxis": "y",
           "type": "scatter"
          },
          {
           "hovertemplate": "<b>%{hovertext}</b><br><br>type_1=Fairy<br>generation=4<br>attack=%{x}<br>defense=%{y}<br>hp=%{marker.size}<extra></extra>",
           "hovertext": [
            "Fairy"
           ],
           "ids": [
            "Fairy"
           ],
           "legendgroup": "Fairy",
           "marker": {
            "color": "#FFA15A",
            "size": [
             85.0
            ],
            "sizemode": "area",
            "sizeref": 0.5575,
            "symbol": "circle"
           },
           "mode": "markers",
           "name": "Fairy",
           "orientation": "v",
           "showlegend": true,
           "x": [
            50.0
           ],
           "xaxis": "x",
           "y": [
            95.0
           ],
           "yaxis": "y",
           "type": "scatter"
          },
          {
           "hovertemplate": "<b>%{hovertext}</b><br><br>type_1=Fighting<br>generation=4<br>attack=%{x}<br>defense=%{y}<br>hp=%{marker.size}<extra></extra>",
           "hovertext": [
            "Fighting"
           ],
           "ids": [
            "Fighting"
           ],
           "legendgroup": "Fighting",
           "marker": {
            "color": "#19d3f3",
            "size": [
             60.0
            ],
            "sizemode": "area",
            "sizeref": 0.5575,
            "symbol": "circle"
           },
           "mode": "markers",
           "name": "Fighting",
           "orientation": "v",
           "showlegend": true,
           "x": [
            108.33333333333333
           ],
           "xaxis": "x",
           "y": [
            66.0
           ],
           "yaxis": "y",
           "type": "scatter"
          },
          {
           "hovertemplate": "<b>%{hovertext}</b><br><br>type_1=Fire<br>generation=4<br>attack=%{x}<br>defense=%{y}<br>hp=%{marker.size}<extra></extra>",
           "hovertext": [
            "Fire"
           ],
           "ids": [
            "Fire"
           ],
           "legendgroup": "Fire",
           "marker": {
            "color": "#FF6692",
            "size": [
             70.0
            ],
            "sizemode": "area",
            "sizeref": 0.5575,
            "symbol": "circle"
           },
           "mode": "markers",
           "name": "Fire",
           "orientation": "v",
           "showlegend": true,
           "x": [
            85.0
           ],
           "xaxis": "x",
           "y": [
            68.0
           ],
           "yaxis": "y",
           "type": "scatter"
          },
          {
           "hovertemplate": "<b>%{hovertext}</b><br><br>type_1=Ghost<br>generation=4<br>attack=%{x}<br>defense=%{y}<br>hp=%{marker.size}<extra></extra>",
           "hovertext": [
            "Ghost"
           ],
           "ids": [
            "Ghost"
           ],
           "legendgroup": "Ghost",
           "marker": {
            "color": "#B6E880",
            "size": [
             99.28571428571429
            ],
            "sizemode": "area",
            "sizeref": 0.5575,
            "symbol": "circle"
           },
           "mode": "markers",
           "name": "Ghost",
           "orientation": "v",
           "showlegend": true,
           "x": [
            86.0
           ],
           "xaxis": "x",
           "y": [
            85.85714285714286
           ],
           "yaxis": "y",
           "type": "scatter"
          },
          {
           "hovertemplate": "<b>%{hovertext}</b><br><br>type_1=Grass<br>generation=4<br>attack=%{x}<br>defense=%{y}<br>hp=%{marker.size}<extra></extra>",
           "hovertext": [
            "Grass"
           ],
           "ids": [
            "Grass"
           ],
           "legendgroup": "Grass",
           "marker": {
            "color": "#FF97FF",
            "size": [
             74.6
            ],
            "sizemode": "area",
            "sizeref": 0.5575,
            "symbol": "circle"
           },
           "mode": "markers",
           "name": "Grass",
           "orientation": "v",
           "showlegend": true,
           "x": [
            84.0
           ],
           "xaxis": "x",
           "y": [
            80.06666666666666
           ],
           "yaxis": "y",
           "type": "scatter"
          },
          {
           "hovertemplate": "<b>%{hovertext}</b><br><br>type_1=Ground<br>generation=4<br>attack=%{x}<br>defense=%{y}<br>hp=%{marker.size}<extra></extra>",
           "hovertext": [
            "Ground"
           ],
           "ids": [
            "Ground"
           ],
           "legendgroup": "Ground",
           "marker": {
            "color": "#FECB52",
            "size": [
             91.5
            ],
            "sizemode": "area",
            "sizeref": 0.5575,
            "symbol": "circle"
           },
           "mode": "markers",
           "name": "Ground",
           "orientation": "v",
           "showlegend": true,
           "x": [
            104.75
           ],
           "xaxis": "x",
           "y": [
            112.75
           ],
           "yaxis": "y",
           "type": "scatter"
          },
          {
           "hovertemplate": "<b>%{hovertext}</b><br><br>type_1=Ice<br>generation=4<br>attack=%{x}<br>defense=%{y}<br>hp=%{marker.size}<extra></extra>",
           "hovertext": [
            "Ice"
           ],
           "ids": [
            "Ice"
           ],
           "legendgroup": "Ice",
           "marker": {
            "color": "#636efa",
            "size": [
             81.66666666666667
            ],
            "sizemode": "area",
            "sizeref": 0.5575,
            "symbol": "circle"
           },
           "mode": "markers",
           "name": "Ice",
           "orientation": "v",
           "showlegend": true,
           "x": [
            90.0
           ],
           "xaxis": "x",
           "y": [
            86.66666666666667
           ],
           "yaxis": "y",
           "type": "scatter"
          },
          {
           "hovertemplate": "<b>%{hovertext}</b><br><br>type_1=Normal<br>generation=4<br>attack=%{x}<br>defense=%{y}<br>hp=%{marker.size}<extra></extra>",
           "hovertext": [
            "Normal"
           ],
           "ids": [
            "Normal"
           ],
           "legendgroup": "Normal",
           "marker": {
            "color": "#EF553B",
            "size": [
             79.66666666666667
            ],
            "sizemode": "area",
            "sizeref": 0.5575,
            "symbol": "circle"
           },
           "mode": "markers",
           "name": "Normal",
           "orientation": "v",
           "showlegend": true,
           "x": [
            83.05555555555556
           ],
           "xaxis": "x",
           "y": [
            62.72222222222222
           ],
           "yaxis": "y",
           "type": "scatter"
          },
          {
           "hovertemplate": "<b>%{hovertext}</b><br><br>type_1=Poison<br>generation=4<br>attack=%{x}<br>defense=%{y}<br>hp=%{marker.size}<extra></extra>",
           "hovertext": [
            "Poison"
           ],
           "ids": [
            "Poison"
           ],
           "legendgroup": "Poison",
           "marker": {
            "color": "#00cc96",
            "size": [
             67.83333333333333
            ],
            "sizemode": "area",
            "sizeref": 0.5575,
            "symbol": "circle"
           },
           "mode": "markers",
           "name": "Poison",
           "orientation": "v",
           "showlegend": true,
           "x": [
            77.16666666666667
           ],
           "xaxis": "x",
           "y": [
            69.83333333333333
           ],
           "yaxis": "y",
           "type": "scatter"
          },
          {
           "hovertemplate": "<b>%{hovertext}</b><br><br>type_1=Psychic<br>generation=4<br>attack=%{x}<br>defense=%{y}<br>hp=%{marker.size}<extra></extra>",
           "hovertext": [
            "Psychic"
           ],
           "ids": [
            "Psychic"
           ],
           "legendgroup": "Psychic",
           "marker": {
            "color": "#ab63fa",
            "size": [
             68.875
            ],
            "sizemode": "area",
            "sizeref": 0.5575,
            "symbol": "circle"
           },
           "mode": "markers",
           "name": "Psychic",
           "orientation": "v",
           "showlegend": true,
           "x": [
            90.0
           ],
           "xaxis": "x",
           "y": [
            85.0
           ],
           "yaxis": "y",
           "type": "scatter"
          },
          {
           "hovertemplate": "<b>%{hovertext}</b><br><br>type_1=Rock<br>generation=4<br>attack=%{x}<br>defense=%{y}<br>hp=%{marker.size}<extra></extra>",
           "hovertext": [
            "Rock"
           ],
           "ids": [
            "Rock"
           ],
           "legendgroup": "Rock",
           "marker": {
            "color": "#FFA15A",
            "size": [
             60.666666666666664
            ],
            "sizemode": "area",
            "sizeref": 0.5575,
            "symbol": "circle"
           },
           "mode": "markers",
           "name": "Rock",
           "orientation": "v",
           "showlegend": true,
           "x": [
            86.5
           ],
           "xaxis": "x",
           "y": [
            104.33333333333333
           ],
           "yaxis": "y",
           "type": "scatter"
          },
          {
           "hovertemplate": "<b>%{hovertext}</b><br><br>type_1=Steel<br>generation=4<br>attack=%{x}<br>defense=%{y}<br>hp=%{marker.size}<extra></extra>",
           "hovertext": [
            "Steel"
           ],
           "ids": [
            "Steel"
           ],
           "legendgroup": "Steel",
           "marker": {
            "color": "#19d3f3",
            "size": [
             74.66666666666667
            ],
            "sizemode": "area",
            "sizeref": 0.5575,
            "symbol": "circle"
           },
           "mode": "markers",
           "name": "Steel",
           "orientation": "v",
           "showlegend": true,
           "x": [
            77.66666666666667
           ],
           "xaxis": "x",
           "y": [
            107.33333333333333
           ],
           "yaxis": "y",
           "type": "scatter"
          },
          {
           "hovertemplate": "<b>%{hovertext}</b><br><br>type_1=Water<br>generation=4<br>attack=%{x}<br>defense=%{y}<br>hp=%{marker.size}<extra></extra>",
           "hovertext": [
            "Water"
           ],
           "ids": [
            "Water"
           ],
           "legendgroup": "Water",
           "marker": {
            "color": "#FF6692",
            "size": [
             73.92307692307692
            ],
            "sizemode": "area",
            "sizeref": 0.5575,
            "symbol": "circle"
           },
           "mode": "markers",
           "name": "Water",
           "orientation": "v",
           "showlegend": true,
           "x": [
            72.46153846153847
           ],
           "xaxis": "x",
           "y": [
            67.46153846153847
           ],
           "yaxis": "y",
           "type": "scatter"
          }
         ],
         "name": "4"
        },
        {
         "data": [
          {
           "hovertemplate": "<b>%{hovertext}</b><br><br>type_1=Bug<br>generation=5<br>attack=%{x}<br>defense=%{y}<br>hp=%{marker.size}<extra></extra>",
           "hovertext": [
            "Bug"
           ],
           "ids": [
            "Bug"
           ],
           "legendgroup": "Bug",
           "marker": {
            "color": "#636efa",
            "size": [
             59.111111111111114
            ],
            "sizemode": "area",
            "sizeref": 0.5575,
            "symbol": "circle"
           },
           "mode": "markers",
           "name": "Bug",
           "orientation": "v",
           "showlegend": true,
           "x": [
            78.16666666666667
           ],
           "xaxis": "x",
           "y": [
            78.27777777777777
           ],
           "yaxis": "y",
           "type": "scatter"
          },
          {
           "hovertemplate": "<b>%{hovertext}</b><br><br>type_1=Dark<br>generation=5<br>attack=%{x}<br>defense=%{y}<br>hp=%{marker.size}<extra></extra>",
           "hovertext": [
            "Dark"
           ],
           "ids": [
            "Dark"
           ],
           "legendgroup": "Dark",
           "marker": {
            "color": "#EF553B",
            "size": [
             63.53846153846154
            ],
            "sizemode": "area",
            "sizeref": 0.5575,
            "symbol": "circle"
           },
           "mode": "markers",
           "name": "Dark",
           "orientation": "v",
           "showlegend": true,
           "x": [
            81.38461538461539
           ],
           "xaxis": "x",
           "y": [
            71.6923076923077
           ],
           "yaxis": "y",
           "type": "scatter"
          },
          {
           "hovertemplate": "<b>%{hovertext}</b><br><br>type_1=Dragon<br>generation=5<br>attack=%{x}<br>defense=%{y}<br>hp=%{marker.size}<extra></extra>",
           "hovertext": [
            "Dragon"
           ],
           "ids": [
            "Dragon"
           ],
           "legendgroup": "Dragon",
           "marker": {
            "color": "#00cc96",
            "size": [
             93.33333333333333
            ],
            "sizemode": "area",
            "sizeref": 0.5575,
            "symbol": "circle"
           },
           "mode": "markers",
           "name": "Dragon",
           "orientation": "v",
           "showlegend": true,
           "x": [
            129.0
           ],
           "xaxis": "x",
           "y": [
            90.0
           ],
           "yaxis": "y",
           "type": "scatter"
          },
          {
           "hovertemplate": "<b>%{hovertext}</b><br><br>type_1=Electric<br>generation=5<br>attack=%{x}<br>defense=%{y}<br>hp=%{marker.size}<extra></extra>",
           "hovertext": [
            "Electric"
           ],
           "ids": [
            "Electric"
           ],
           "legendgroup": "Electric",
           "marker": {
            "color": "#ab63fa",
            "size": [
             64.75
            ],
            "sizemode": "area",
            "sizeref": 0.5575,
            "symbol": "circle"
           },
           "mode": "markers",
           "name": "Electric",
           "orientation": "v",
           "showlegend": true,
           "x": [
            88.75
           ],
           "xaxis": "x",
           "y": [
            60.625
           ],
           "yaxis": "y",
           "type": "scatter"
          },
          {
           "hovertemplate": "<b>%{hovertext}</b><br><br>type_1=Fighting<br>generation=5<br>attack=%{x}<br>defense=%{y}<br>hp=%{marker.size}<extra></extra>",
           "hovertext": [
            "Fighting"
           ],
           "ids": [
            "Fighting"
           ],
           "legendgroup": "Fighting",
           "marker": {
            "color": "#19d3f3",
            "size": [
             81.42857142857143
            ],
            "sizemode": "area",
            "sizeref": 0.5575,
            "symbol": "circle"
           },
           "mode": "markers",
           "name": "Fighting",
           "orientation": "v",
           "showlegend": true,
           "x": [
            108.57142857142857
           ],
           "xaxis": "x",
           "y": [
            72.14285714285714
           ],
           "yaxis": "y",
           "type": "scatter"
          },
          {
           "hovertemplate": "<b>%{hovertext}</b><br><br>type_1=Fire<br>generation=5<br>attack=%{x}<br>defense=%{y}<br>hp=%{marker.size}<extra></extra>",
           "hovertext": [
            "Fire"
           ],
           "ids": [
            "Fire"
           ],
           "legendgroup": "Fire",
           "marker": {
            "color": "#FF6692",
            "size": [
             83.88888888888889
            ],
            "sizemode": "area",
            "sizeref": 0.5575,
            "symbol": "circle"
           },
           "mode": "markers",
           "name": "Fire",
           "orientation": "v",
           "showlegend": true,
           "x": [
            87.44444444444444
           ],
           "xaxis": "x",
           "y": [
            60.77777777777778
           ],
           "yaxis": "y",
           "type": "scatter"
          },
          {
           "hovertemplate": "<b>%{hovertext}</b><br><br>type_1=Ghost<br>generation=5<br>attack=%{x}<br>defense=%{y}<br>hp=%{marker.size}<extra></extra>",
           "hovertext": [
            "Ghost"
           ],
           "ids": [
            "Ghost"
           ],
           "legendgroup": "Ghost",
           "marker": {
            "color": "#B6E880",
            "size": [
             53.2
            ],
            "sizemode": "area",
            "sizeref": 0.5575,
            "symbol": "circle"
           },
           "mode": "markers",
           "name": "Ghost",
           "orientation": "v",
           "showlegend": true,
           "x": [
            41.0
           ],
           "xaxis": "x",
           "y": [
            87.0
           ],
           "yaxis": "y",
           "type": "scatter"
          },
          {
           "hovertemplate": "<b>%{hovertext}</b><br><br>type_1=Grass<br>generation=5<br>attack=%{x}<br>defense=%{y}<br>hp=%{marker.size}<extra></extra>",
           "hovertext": [
            "Grass"
           ],
           "ids": [
            "Grass"
           ],
           "legendgroup": "Grass",
           "marker": {
            "color": "#FF97FF",
            "size": [
             65.8
            ],
            "sizemode": "area",
            "sizeref": 0.5575,
            "symbol": "circle"
           },
           "mode": "markers",
           "name": "Grass",
           "orientation": "v",
           "showlegend": true,
           "x": [
            65.33333333333333
           ],
           "xaxis": "x",
           "y": [
            72.13333333333334
           ],
           "yaxis": "y",
           "type": "scatter"
          },
          {
           "hovertemplate": "<b>%{hovertext}</b><br><br>type_1=Ground<br>generation=5<br>attack=%{x}<br>defense=%{y}<br>hp=%{marker.size}<extra></extra>",
           "hovertext": [
            "Ground"
           ],
           "ids": [
            "Ground"
           ],
           "legendgroup": "Ground",
           "marker": {
            "color": "#FECB52",
            "size": [
             79.75
            ],
            "sizemode": "area",
            "sizeref": 0.5575,
            "symbol": "circle"
           },
           "mode": "markers",
           "name": "Ground",
           "orientation": "v",
           "showlegend": true,
           "x": [
            96.75
           ],
           "xaxis": "x",
           "y": [
            69.83333333333333
           ],
           "yaxis": "y",
           "type": "scatter"
          },
          {
           "hovertemplate": "<b>%{hovertext}</b><br><br>type_1=Ice<br>generation=5<br>attack=%{x}<br>defense=%{y}<br>hp=%{marker.size}<extra></extra>",
           "hovertext": [
            "Ice"
           ],
           "ids": [
            "Ice"
           ],
           "legendgroup": "Ice",
           "marker": {
            "color": "#636efa",
            "size": [
             74.22222222222223
            ],
            "sizemode": "area",
            "sizeref": 0.5575,
            "symbol": "circle"
           },
           "mode": "markers",
           "name": "Ice",
           "orientation": "v",
           "showlegend": true,
           "x": [
            94.44444444444444
           ],
           "xaxis": "x",
           "y": [
            58.333333333333336
           ],
           "yaxis": "y",
           "type": "scatter"
          },
          {
           "hovertemplate": "<b>%{hovertext}</b><br><br>type_1=Normal<br>generation=5<br>attack=%{x}<br>defense=%{y}<br>hp=%{marker.size}<extra></extra>",
           "hovertext": [
            "Normal"
           ],
           "ids": [
            "Normal"
           ],
           "legendgroup": "Normal",
           "marker": {
            "color": "#EF553B",
            "size": [
             75.42105263157895
            ],
            "sizemode": "area",
            "sizeref": 0.5575,
            "symbol": "circle"
           },
           "mode": "markers",
           "name": "Normal",
           "orientation": "v",
           "showlegend": true,
           "x": [
            83.3157894736842
           ],
           "xaxis": "x",
           "y": [
            69.42105263157895
           ],
           "yaxis": "y",
           "type": "scatter"
          },
          {
           "hovertemplate": "<b>%{hovertext}</b><br><br>type_1=Poison<br>generation=5<br>attack=%{x}<br>defense=%{y}<br>hp=%{marker.size}<extra></extra>",
           "hovertext": [
            "Poison"
           ],
           "ids": [
            "Poison"
           ],
           "legendgroup": "Poison",
           "marker": {
            "color": "#00cc96",
            "size": [
             65.0
            ],
            "sizemode": "area",
            "sizeref": 0.5575,
            "symbol": "circle"
           },
           "mode": "markers",
           "name": "Poison",
           "orientation": "v",
           "showlegend": true,
           "x": [
            72.5
           ],
           "xaxis": "x",
           "y": [
            72.0
           ],
           "yaxis": "y",
           "type": "scatter"
          },
          {
           "hovertemplate": "<b>%{hovertext}</b><br><br>type_1=Psychic<br>generation=5<br>attack=%{x}<br>defense=%{y}<br>hp=%{marker.size}<extra></extra>",
           "hovertext": [
            "Psychic"
           ],
           "ids": [
            "Psychic"
           ],
           "legendgroup": "Psychic",
           "marker": {
            "color": "#ab63fa",
            "size": [
             72.92857142857143
            ],
            "sizemode": "area",
            "sizeref": 0.5575,
            "symbol": "circle"
           },
           "mode": "markers",
           "name": "Psychic",
           "orientation": "v",
           "showlegend": true,
           "x": [
            52.5
           ],
           "xaxis": "x",
           "y": [
            65.57142857142857
           ],
           "yaxis": "y",
           "type": "scatter"
          },
          {
           "hovertemplate": "<b>%{hovertext}</b><br><br>type_1=Rock<br>generation=5<br>attack=%{x}<br>defense=%{y}<br>hp=%{marker.size}<extra></extra>",
           "hovertext": [
            "Rock"
           ],
           "ids": [
            "Rock"
           ],
           "legendgroup": "Rock",
           "marker": {
            "color": "#FFA15A",
            "size": [
             71.83333333333333
            ],
            "sizemode": "area",
            "sizeref": 0.5575,
            "symbol": "circle"
           },
           "mode": "markers",
           "name": "Rock",
           "orientation": "v",
           "showlegend": true,
           "x": [
            116.0
           ],
           "xaxis": "x",
           "y": [
            86.66666666666667
           ],
           "yaxis": "y",
           "type": "scatter"
          },
          {
           "hovertemplate": "<b>%{hovertext}</b><br><br>type_1=Steel<br>generation=5<br>attack=%{x}<br>defense=%{y}<br>hp=%{marker.size}<extra></extra>",
           "hovertext": [
            "Steel"
           ],
           "ids": [
            "Steel"
           ],
           "legendgroup": "Steel",
           "marker": {
            "color": "#19d3f3",
            "size": [
             62.75
            ],
            "sizemode": "area",
            "sizeref": 0.5575,
            "symbol": "circle"
           },
           "mode": "markers",
           "name": "Steel",
           "orientation": "v",
           "showlegend": true,
           "x": [
            81.25
           ],
           "xaxis": "x",
           "y": [
            102.25
           ],
           "yaxis": "y",
           "type": "scatter"
          },
          {
           "hovertemplate": "<b>%{hovertext}</b><br><br>type_1=Water<br>generation=5<br>attack=%{x}<br>defense=%{y}<br>hp=%{marker.size}<extra></extra>",
           "hovertext": [
            "Water"
           ],
           "ids": [
            "Water"
           ],
           "legendgroup": "Water",
           "marker": {
            "color": "#FF6692",
            "size": [
             78.26315789473684
            ],
            "sizemode": "area",
            "sizeref": 0.5575,
            "symbol": "circle"
           },
           "mode": "markers",
           "name": "Water",
           "orientation": "v",
           "showlegend": true,
           "x": [
            74.26315789473684
           ],
           "xaxis": "x",
           "y": [
            70.0
           ],
           "yaxis": "y",
           "type": "scatter"
          },
          {
           "hovertemplate": "<b>%{hovertext}</b><br><br>type_1=Flying<br>generation=5<br>attack=%{x}<br>defense=%{y}<br>hp=%{marker.size}<extra></extra>",
           "hovertext": [
            "Flying"
           ],
           "ids": [
            "Flying"
           ],
           "legendgroup": "Flying",
           "marker": {
            "color": "#B6E880",
            "size": [
             79.0
            ],
            "sizemode": "area",
            "sizeref": 0.5575,
            "symbol": "circle"
           },
           "mode": "markers",
           "name": "Flying",
           "orientation": "v",
           "showlegend": true,
           "x": [
            107.5
           ],
           "xaxis": "x",
           "y": [
            75.0
           ],
           "yaxis": "y",
           "type": "scatter"
          }
         ],
         "name": "5"
        },
        {
         "data": [
          {
           "hovertemplate": "<b>%{hovertext}</b><br><br>type_1=Bug<br>generation=6<br>attack=%{x}<br>defense=%{y}<br>hp=%{marker.size}<extra></extra>",
           "hovertext": [
            "Bug"
           ],
           "ids": [
            "Bug"
           ],
           "legendgroup": "Bug",
           "marker": {
            "color": "#636efa",
            "size": [
             54.333333333333336
            ],
            "sizemode": "area",
            "sizeref": 0.5575,
            "symbol": "circle"
           },
           "mode": "markers",
           "name": "Bug",
           "orientation": "v",
           "showlegend": true,
           "x": [
            36.333333333333336
           ],
           "xaxis": "x",
           "y": [
            50.0
           ],
           "yaxis": "y",
           "type": "scatter"
          },
          {
           "hovertemplate": "<b>%{hovertext}</b><br><br>type_1=Dark<br>generation=6<br>attack=%{x}<br>defense=%{y}<br>hp=%{marker.size}<extra></extra>",
           "hovertext": [
            "Dark"
           ],
           "ids": [
            "Dark"
           ],
           "legendgroup": "Dark",
           "marker": {
            "color": "#EF553B",
            "size": [
             88.33333333333333
            ],
            "sizemode": "area",
            "sizeref": 0.5575,
            "symbol": "circle"
           },
           "mode": "markers",
           "name": "Dark",
           "orientation": "v",
           "showlegend": true,
           "x": [
            92.33333333333333
           ],
           "xaxis": "x",
           "y": [
            78.66666666666667
           ],
           "yaxis": "y",
           "type": "scatter"
          },
          {
           "hovertemplate": "<b>%{hovertext}</b><br><br>type_1=Dragon<br>generation=6<br>attack=%{x}<br>defense=%{y}<br>hp=%{marker.size}<extra></extra>",
           "hovertext": [
            "Dragon"
           ],
           "ids": [
            "Dragon"
           ],
           "legendgroup": "Dragon",
           "marker": {
            "color": "#00cc96",
            "size": [
             96.83333333333333
            ],
            "sizemode": "area",
            "sizeref": 0.5575,
            "symbol": "circle"
           },
           "mode": "markers",
           "name": "Dragon",
           "orientation": "v",
           "showlegend": true,
           "x": [
            87.5
           ],
           "xaxis": "x",
           "y": [
            78.5
           ],
           "yaxis": "y",
           "type": "scatter"
          },
          {
           "hovertemplate": "<b>%{hovertext}</b><br><br>type_1=Electric<br>generation=6<br>attack=%{x}<br>defense=%{y}<br>hp=%{marker.size}<extra></extra>",
           "hovertext": [
            "Electric"
           ],
           "ids": [
            "Electric"
           ],
           "legendgroup": "Electric",
           "marker": {
            "color": "#ab63fa",
            "size": [
             57.666666666666664
            ],
            "sizemode": "area",
            "sizeref": 0.5575,
            "symbol": "circle"
           },
           "mode": "markers",
           "name": "Electric",
           "orientation": "v",
           "showlegend": true,
           "x": [
            50.333333333333336
           ],
           "xaxis": "x",
           "y": [
            47.333333333333336
           ],
           "yaxis": "y",
           "type": "scatter"
          },
          {
           "hovertemplate": "<b>%{hovertext}</b><br><br>type_1=Fairy<br>generation=6<br>attack=%{x}<br>defense=%{y}<br>hp=%{marker.size}<extra></extra>",
           "hovertext": [
            "Fairy"
           ],
           "ids": [
            "Fairy"
           ],
           "legendgroup": "Fairy",
           "marker": {
            "color": "#FFA15A",
            "size": [
             80.0
            ],
            "sizemode": "area",
            "sizeref": 0.5575,
            "symbol": "circle"
           },
           "mode": "markers",
           "name": "Fairy",
           "orientation": "v",
           "showlegend": true,
           "x": [
            66.22222222222223
           ],
           "xaxis": "x",
           "y": [
            66.44444444444444
           ],
           "yaxis": "y",
           "type": "scatter"
          },
          {
           "hovertemplate": "<b>%{hovertext}</b><br><br>type_1=Fighting<br>generation=6<br>attack=%{x}<br>defense=%{y}<br>hp=%{marker.size}<extra></extra>",
           "hovertext": [
            "Fighting"
           ],
           "ids": [
            "Fighting"
           ],
           "legendgroup": "Fighting",
           "marker": {
            "color": "#19d3f3",
            "size": [
             80.0
            ],
            "sizemode": "area",
            "sizeref": 0.5575,
            "symbol": "circle"
           },
           "mode": "markers",
           "name": "Fighting",
           "orientation": "v",
           "showlegend": true,
           "x": [
            99.33333333333333
           ],
           "xaxis": "x",
           "y": [
            71.66666666666667
           ],
           "yaxis": "y",
           "type": "scatter"
          },
          {
           "hovertemplate": "<b>%{hovertext}</b><br><br>type_1=Fire<br>generation=6<br>attack=%{x}<br>defense=%{y}<br>hp=%{marker.size}<extra></extra>",
           "hovertext": [
            "Fire"
           ],
           "ids": [
            "Fire"
           ],
           "legendgroup": "Fire",
           "marker": {
            "color": "#FF6692",
            "size": [
             67.75
            ],
            "sizemode": "area",
            "sizeref": 0.5575,
            "symbol": "circle"
           },
           "mode": "markers",
           "name": "Fire",
           "orientation": "v",
           "showlegend": true,
           "x": [
            69.375
           ],
           "xaxis": "x",
           "y": [
            68.25
           ],
           "yaxis": "y",
           "type": "scatter"
          },
          {
           "hovertemplate": "<b>%{hovertext}</b><br><br>type_1=Ghost<br>generation=6<br>attack=%{x}<br>defense=%{y}<br>hp=%{marker.size}<extra></extra>",
           "hovertext": [
            "Ghost"
           ],
           "ids": [
            "Ghost"
           ],
           "legendgroup": "Ghost",
           "marker": {
            "color": "#B6E880",
            "size": [
             61.4
            ],
            "sizemode": "area",
            "sizeref": 0.5575,
            "symbol": "circle"
           },
           "mode": "markers",
           "name": "Ghost",
           "orientation": "v",
           "showlegend": true,
           "x": [
            81.4
           ],
           "xaxis": "x",
           "y": [
            89.2
           ],
           "yaxis": "y",
           "type": "scatter"
          },
          {
           "hovertemplate": "<b>%{hovertext}</b><br><br>type_1=Grass<br>generation=6<br>attack=%{x}<br>defense=%{y}<br>hp=%{marker.size}<extra></extra>",
           "hovertext": [
            "Grass"
           ],
           "ids": [
            "Grass"
           ],
           "legendgroup": "Grass",
           "marker": {
            "color": "#FF97FF",
            "size": [
             78.8
            ],
            "sizemode": "area",
            "sizeref": 0.5575,
            "symbol": "circle"
           },
           "mode": "markers",
           "name": "Grass",
           "orientation": "v",
           "showlegend": true,
           "x": [
            82.2
           ],
           "xaxis": "x",
           "y": [
            78.4
           ],
           "yaxis": "y",
           "type": "scatter"
          },
          {
           "hovertemplate": "<b>%{hovertext}</b><br><br>type_1=Ice<br>generation=6<br>attack=%{x}<br>defense=%{y}<br>hp=%{marker.size}<extra></extra>",
           "hovertext": [
            "Ice"
           ],
           "ids": [
            "Ice"
           ],
           "legendgroup": "Ice",
           "marker": {
            "color": "#636efa",
            "size": [
             75.0
            ],
            "sizemode": "area",
            "sizeref": 0.5575,
            "symbol": "circle"
           },
           "mode": "markers",
           "name": "Ice",
           "orientation": "v",
           "showlegend": true,
           "x": [
            93.0
           ],
           "xaxis": "x",
           "y": [
            134.5
           ],
           "yaxis": "y",
           "type": "scatter"
          },
          {
           "hovertemplate": "<b>%{hovertext}</b><br><br>type_1=Normal<br>generation=6<br>attack=%{x}<br>defense=%{y}<br>hp=%{marker.size}<extra></extra>",
           "hovertext": [
            "Normal"
           ],
           "ids": [
            "Normal"
           ],
           "legendgroup": "Normal",
           "marker": {
            "color": "#EF553B",
            "size": [
             60.75
            ],
            "sizemode": "area",
            "sizeref": 0.5575,
            "symbol": "circle"
           },
           "mode": "markers",
           "name": "Normal",
           "orientation": "v",
           "showlegend": true,
           "x": [
            55.5
           ],
           "xaxis": "x",
           "y": [
            54.5
           ],
           "yaxis": "y",
           "type": "scatter"
          },
          {
           "hovertemplate": "<b>%{hovertext}</b><br><br>type_1=Poison<br>generation=6<br>attack=%{x}<br>defense=%{y}<br>hp=%{marker.size}<extra></extra>",
           "hovertext": [
            "Poison"
           ],
           "ids": [
            "Poison"
           ],
           "legendgroup": "Poison",
           "marker": {
            "color": "#00cc96",
            "size": [
             57.5
            ],
            "sizemode": "area",
            "sizeref": 0.5575,
            "symbol": "circle"
           },
           "mode": "markers",
           "name": "Poison",
           "orientation": "v",
           "showlegend": true,
           "x": [
            67.5
           ],
           "xaxis": "x",
           "y": [
            75.0
           ],
           "yaxis": "y",
           "type": "scatter"
          },
          {
           "hovertemplate": "<b>%{hovertext}</b><br><br>type_1=Psychic<br>generation=6<br>attack=%{x}<br>defense=%{y}<br>hp=%{marker.size}<extra></extra>",
           "hovertext": [
            "Psychic"
           ],
           "ids": [
            "Psychic"
           ],
           "legendgroup": "Psychic",
           "marker": {
            "color": "#ab63fa",
            "size": [
             74.0
            ],
            "sizemode": "area",
            "sizeref": 0.5575,
            "symbol": "circle"
           },
           "mode": "markers",
           "name": "Psychic",
           "orientation": "v",
           "showlegend": true,
           "x": [
            82.8
           ],
           "xaxis": "x",
           "y": [
            65.2
           ],
           "yaxis": "y",
           "type": "scatter"
          },
          {
           "hovertemplate": "<b>%{hovertext}</b><br><br>type_1=Rock<br>generation=6<br>attack=%{x}<br>defense=%{y}<br>hp=%{marker.size}<extra></extra>",
           "hovertext": [
            "Rock"
           ],
           "ids": [
            "Rock"
           ],
           "legendgroup": "Rock",
           "marker": {
            "color": "#FFA15A",
            "size": [
             67.11111111111111
            ],
            "sizemode": "area",
            "sizeref": 0.5575,
            "symbol": "circle"
           },
           "mode": "markers",
           "name": "Rock",
           "orientation": "v",
           "showlegend": true,
           "x": [
            90.33333333333333
           ],
           "xaxis": "x",
           "y": [
            101.11111111111111
           ],
           "yaxis": "y",
           "type": "scatter"
          },
          {
           "hovertemplate": "<b>%{hovertext}</b><br><br>type_1=Steel<br>generation=6<br>attack=%{x}<br>defense=%{y}<br>hp=%{marker.size}<extra></extra>",
           "hovertext": [
            "Steel"
           ],
           "ids": [
            "Steel"
           ],
           "legendgroup": "Steel",
           "marker": {
            "color": "#19d3f3",
            "size": [
             56.2
            ],
            "sizemode": "area",
            "sizeref": 0.5575,
            "symbol": "circle"
           },
           "mode": "markers",
           "name": "Steel",
           "orientation": "v",
           "showlegend": true,
           "x": [
            94.0
           ],
           "xaxis": "x",
           "y": [
            108.2
           ],
           "yaxis": "y",
           "type": "scatter"
          },
          {
           "hovertemplate": "<b>%{hovertext}</b><br><br>type_1=Water<br>generation=6<br>attack=%{x}<br>defense=%{y}<br>hp=%{marker.size}<extra></extra>",
           "hovertext": [
            "Water"
           ],
           "ids": [
            "Water"
           ],
           "legendgroup": "Water",
           "marker": {
            "color": "#FF6692",
            "size": [
             60.0
            ],
            "sizemode": "area",
            "sizeref": 0.5575,
            "symbol": "circle"
           },
           "mode": "markers",
           "name": "Water",
           "orientation": "v",
           "showlegend": true,
           "x": [
            80.83333333333333
           ],
           "xaxis": "x",
           "y": [
            62.666666666666664
           ],
           "yaxis": "y",
           "type": "scatter"
          },
          {
           "hovertemplate": "<b>%{hovertext}</b><br><br>type_1=Flying<br>generation=6<br>attack=%{x}<br>defense=%{y}<br>hp=%{marker.size}<extra></extra>",
           "hovertext": [
            "Flying"
           ],
           "ids": [
            "Flying"
           ],
           "legendgroup": "Flying",
           "marker": {
            "color": "#B6E880",
            "size": [
             62.5
            ],
            "sizemode": "area",
            "sizeref": 0.5575,
            "symbol": "circle"
           },
           "mode": "markers",
           "name": "Flying",
           "orientation": "v",
           "showlegend": true,
           "x": [
            50.0
           ],
           "xaxis": "x",
           "y": [
            57.5
           ],
           "yaxis": "y",
           "type": "scatter"
          }
         ],
         "name": "6"
        },
        {
         "data": [
          {
           "hovertemplate": "<b>%{hovertext}</b><br><br>type_1=Bug<br>generation=7<br>attack=%{x}<br>defense=%{y}<br>hp=%{marker.size}<extra></extra>",
           "hovertext": [
            "Bug"
           ],
           "ids": [
            "Bug"
           ],
           "legendgroup": "Bug",
           "marker": {
            "color": "#636efa",
            "size": [
             62.111111111111114
            ],
            "sizemode": "area",
            "sizeref": 0.5575,
            "symbol": "circle"
           },
           "mode": "markers",
           "name": "Bug",
           "orientation": "v",
           "showlegend": true,
           "x": [
            83.33333333333333
           ],
           "xaxis": "x",
           "y": [
            76.22222222222223
           ],
           "yaxis": "y",
           "type": "scatter"
          },
          {
           "hovertemplate": "<b>%{hovertext}</b><br><br>type_1=Dark<br>generation=7<br>attack=%{x}<br>defense=%{y}<br>hp=%{marker.size}<extra></extra>",
           "hovertext": [
            "Dark"
           ],
           "ids": [
            "Dark"
           ],
           "legendgroup": "Dark",
           "marker": {
            "color": "#EF553B",
            "size": [
             223.0
            ],
            "sizemode": "area",
            "sizeref": 0.5575,
            "symbol": "circle"
           },
           "mode": "markers",
           "name": "Dark",
           "orientation": "v",
           "showlegend": true,
           "x": [
            101.0
           ],
           "xaxis": "x",
           "y": [
            53.0
           ],
           "yaxis": "y",
           "type": "scatter"
          },
          {
           "hovertemplate": "<b>%{hovertext}</b><br><br>type_1=Dragon<br>generation=7<br>attack=%{x}<br>defense=%{y}<br>hp=%{marker.size}<extra></extra>",
           "hovertext": [
            "Dragon"
           ],
           "ids": [
            "Dragon"
           ],
           "legendgroup": "Dragon",
           "marker": {
            "color": "#00cc96",
            "size": [
             58.333333333333336
            ],
            "sizemode": "area",
            "sizeref": 0.5575,
            "symbol": "circle"
           },
           "mode": "markers",
           "name": "Dragon",
           "orientation": "v",
           "showlegend": true,
           "x": [
            80.0
           ],
           "xaxis": "x",
           "y": [
            93.33333333333333
           ],
           "yaxis": "y",
           "type": "scatter"
          },
          {
           "hovertemplate": "<b>%{hovertext}</b><br><br>type_1=Electric<br>generation=7<br>attack=%{x}<br>defense=%{y}<br>hp=%{marker.size}<extra></extra>",
           "hovertext": [
            "Electric"
           ],
           "ids": [
            "Electric"
           ],
           "legendgroup": "Electric",
           "marker": {
            "color": "#ab63fa",
            "size": [
             76.2
            ],
            "sizemode": "area",
            "sizeref": 0.5575,
            "symbol": "circle"
           },
           "mode": "markers",
           "name": "Electric",
           "orientation": "v",
           "showlegend": true,
           "x": [
            96.8
           ],
           "xaxis": "x",
           "y": [
            72.8
           ],
           "yaxis": "y",
           "type": "scatter"
          },
          {
           "hovertemplate": "<b>%{hovertext}</b><br><br>type_1=Fairy<br>generation=7<br>attack=%{x}<br>defense=%{y}<br>hp=%{marker.size}<extra></extra>",
           "hovertext": [
            "Fairy"
           ],
           "ids": [
            "Fairy"
           ],
           "legendgroup": "Fairy",
           "marker": {
            "color": "#FFA15A",
            "size": [
             51.0
            ],
            "sizemode": "area",
            "sizeref": 0.5575,
            "symbol": "circle"
           },
           "mode": "markers",
           "name": "Fairy",
           "orientation": "v",
           "showlegend": true,
           "x": [
            52.0
           ],
           "xaxis": "x",
           "y": [
            90.0
           ],
           "yaxis": "y",
           "type": "scatter"
          },
          {
           "hovertemplate": "<b>%{hovertext}</b><br><br>type_1=Fighting<br>generation=7<br>attack=%{x}<br>defense=%{y}<br>hp=%{marker.size}<extra></extra>",
           "hovertext": [
            "Fighting"
           ],
           "ids": [
            "Fighting"
           ],
           "legendgroup": "Fighting",
           "marker": {
            "color": "#19d3f3",
            "size": [
             83.5
            ],
            "sizemode": "area",
            "sizeref": 0.5575,
            "symbol": "circle"
           },
           "mode": "markers",
           "name": "Fighting",
           "orientation": "v",
           "showlegend": true,
           "x": [
            114.75
           ],
           "xaxis": "x",
           "y": [
            76.0
           ],
           "yaxis": "y",
           "type": "scatter"
          },
          {
           "hovertemplate": "<b>%{hovertext}</b><br><br>type_1=Fire<br>generation=7<br>attack=%{x}<br>defense=%{y}<br>hp=%{marker.size}<extra></extra>",
           "hovertext": [
            "Fire"
           ],
           "ids": [
            "Fire"
           ],
           "legendgroup": "Fire",
           "marker": {
            "color": "#FF6692",
            "size": [
             65.5
            ],
            "sizemode": "area",
            "sizeref": 0.5575,
            "symbol": "circle"
           },
           "mode": "markers",
           "name": "Fire",
           "orientation": "v",
           "showlegend": true,
           "x": [
            90.0
           ],
           "xaxis": "x",
           "y": [
            73.0
           ],
           "yaxis": "y",
           "type": "scatter"
          },
          {
           "hovertemplate": "<b>%{hovertext}</b><br><br>type_1=Ghost<br>generation=7<br>attack=%{x}<br>defense=%{y}<br>hp=%{marker.size}<extra></extra>",
           "hovertext": [
            "Ghost"
           ],
           "ids": [
            "Ghost"
           ],
           "legendgroup": "Ghost",
           "marker": {
            "color": "#B6E880",
            "size": [
             68.0
            ],
            "sizemode": "area",
            "sizeref": 0.5575,
            "symbol": "circle"
           },
           "mode": "markers",
           "name": "Ghost",
           "orientation": "v",
           "showlegend": true,
           "x": [
            84.2
           ],
           "xaxis": "x",
           "y": [
            88.0
           ],
           "yaxis": "y",
           "type": "scatter"
          },
          {
           "hovertemplate": "<b>%{hovertext}</b><br><br>type_1=Grass<br>generation=7<br>attack=%{x}<br>defense=%{y}<br>hp=%{marker.size}<extra></extra>",
           "hovertext": [
            "Grass"
           ],
           "ids": [
            "Grass"
           ],
           "legendgroup": "Grass",
           "marker": {
            "color": "#FF97FF",
            "size": [
             60.75
            ],
            "sizemode": "area",
            "sizeref": 0.5575,
            "symbol": "circle"
           },
           "mode": "markers",
           "name": "Grass",
           "orientation": "v",
           "showlegend": true,
           "x": [
            81.5
           ],
           "xaxis": "x",
           "y": [
            74.58333333333333
           ],
           "yaxis": "y",
           "type": "scatter"
          },
          {
           "hovertemplate": "<b>%{hovertext}</b><br><br>type_1=Ground<br>generation=7<br>attack=%{x}<br>defense=%{y}<br>hp=%{marker.size}<extra></extra>",
           "hovertext": [
            "Ground"
           ],
           "ids": [
            "Ground"
           ],
           "legendgroup": "Ground",
           "marker": {
            "color": "#FECB52",
            "size": [
             85.0
            ],
            "sizemode": "area",
            "sizeref": 0.5575,
            "symbol": "circle"
           },
           "mode": "markers",
           "name": "Ground",
           "orientation": "v",
           "showlegend": true,
           "x": [
            112.5
           ],
           "xaxis": "x",
           "y": [
            85.0
           ],
           "yaxis": "y",
           "type": "scatter"
          },
          {
           "hovertemplate": "<b>%{hovertext}</b><br><br>type_1=Normal<br>generation=7<br>attack=%{x}<br>defense=%{y}<br>hp=%{marker.size}<extra></extra>",
           "hovertext": [
            "Normal"
           ],
           "ids": [
            "Normal"
           ],
           "legendgroup": "Normal",
           "marker": {
            "color": "#EF553B",
            "size": [
             76.58333333333333
            ],
            "sizemode": "area",
            "sizeref": 0.5575,
            "symbol": "circle"
           },
           "mode": "markers",
           "name": "Normal",
           "orientation": "v",
           "showlegend": true,
           "x": [
            90.41666666666667
           ],
           "xaxis": "x",
           "y": [
            66.25
           ],
           "yaxis": "y",
           "type": "scatter"
          },
          {
           "hovertemplate": "<b>%{hovertext}</b><br><br>type_1=Poison<br>generation=7<br>attack=%{x}<br>defense=%{y}<br>hp=%{marker.size}<extra></extra>",
           "hovertext": [
            "Poison"
           ],
           "ids": [
            "Poison"
           ],
           "legendgroup": "Poison",
           "marker": {
            "color": "#00cc96",
            "size": [
             59.333333333333336
            ],
            "sizemode": "area",
            "sizeref": 0.5575,
            "symbol": "circle"
           },
           "mode": "markers",
           "name": "Poison",
           "orientation": "v",
           "showlegend": true,
           "x": [
            61.666666666666664
           ],
           "xaxis": "x",
           "y": [
            75.66666666666667
           ],
           "yaxis": "y",
           "type": "scatter"
          },
          {
           "hovertemplate": "<b>%{hovertext}</b><br><br>type_1=Psychic<br>generation=7<br>attack=%{x}<br>defense=%{y}<br>hp=%{marker.size}<extra></extra>",
           "hovertext": [
            "Psychic"
           ],
           "ids": [
            "Psychic"
           ],
           "legendgroup": "Psychic",
           "marker": {
            "color": "#ab63fa",
            "size": [
             89.3
            ],
            "sizemode": "area",
            "sizeref": 0.5575,
            "symbol": "circle"
           },
           "mode": "markers",
           "name": "Psychic",
           "orientation": "v",
           "showlegend": true,
           "x": [
            100.7
           ],
           "xaxis": "x",
           "y": [
            93.7
           ],
           "yaxis": "y",
           "type": "scatter"
          },
          {
           "hovertemplate": "<b>%{hovertext}</b><br><br>type_1=Rock<br>generation=7<br>attack=%{x}<br>defense=%{y}<br>hp=%{marker.size}<extra></extra>",
           "hovertext": [
            "Rock"
           ],
           "ids": [
            "Rock"
           ],
           "legendgroup": "Rock",
           "marker": {
            "color": "#FFA15A",
            "size": [
             68.33333333333333
            ],
            "sizemode": "area",
            "sizeref": 0.5575,
            "symbol": "circle"
           },
           "mode": "markers",
           "name": "Rock",
           "orientation": "v",
           "showlegend": true,
           "x": [
            91.22222222222223
           ],
           "xaxis": "x",
           "y": [
            78.11111111111111
           ],
           "yaxis": "y",
           "type": "scatter"
          },
          {
           "hovertemplate": "<b>%{hovertext}</b><br><br>type_1=Steel<br>generation=7<br>attack=%{x}<br>defense=%{y}<br>hp=%{marker.size}<extra></extra>",
           "hovertext": [
            "Steel"
           ],
           "ids": [
            "Steel"
           ],
           "legendgroup": "Steel",
           "marker": {
            "color": "#19d3f3",
            "size": [
             89.5
            ],
            "sizemode": "area",
            "sizeref": 0.5575,
            "symbol": "circle"
           },
           "mode": "markers",
           "name": "Steel",
           "orientation": "v",
           "showlegend": true,
           "x": [
            101.0
           ],
           "xaxis": "x",
           "y": [
            106.5
           ],
           "yaxis": "y",
           "type": "scatter"
          },
          {
           "hovertemplate": "<b>%{hovertext}</b><br><br>type_1=Water<br>generation=7<br>attack=%{x}<br>defense=%{y}<br>hp=%{marker.size}<extra></extra>",
           "hovertext": [
            "Water"
           ],
           "ids": [
            "Water"
           ],
           "legendgroup": "Water",
           "marker": {
            "color": "#FF6692",
            "size": [
             57.9
            ],
            "sizemode": "area",
            "sizeref": 0.5575,
            "symbol": "circle"
           },
           "mode": "markers",
           "name": "Water",
           "orientation": "v",
           "showlegend": true,
           "x": [
            70.7
           ],
           "xaxis": "x",
           "y": [
            80.6
           ],
           "yaxis": "y",
           "type": "scatter"
          }
         ],
         "name": "7"
        },
        {
         "data": [
          {
           "hovertemplate": "<b>%{hovertext}</b><br><br>type_1=Bug<br>generation=8<br>attack=%{x}<br>defense=%{y}<br>hp=%{marker.size}<extra></extra>",
           "hovertext": [
            "Bug"
           ],
           "ids": [
            "Bug"
           ],
           "legendgroup": "Bug",
           "marker": {
            "color": "#636efa",
            "size": [
             45.0
            ],
            "sizemode": "area",
            "sizeref": 0.5575,
            "symbol": "circle"
           },
           "mode": "markers",
           "name": "Bug",
           "orientation": "v",
           "showlegend": true,
           "x": [
            33.333333333333336
           ],
           "xaxis": "x",
           "y": [
            70.0
           ],
           "yaxis": "y",
           "type": "scatter"
          },
          {
           "hovertemplate": "<b>%{hovertext}</b><br><br>type_1=Dark<br>generation=8<br>attack=%{x}<br>defense=%{y}<br>hp=%{marker.size}<extra></extra>",
           "hovertext": [
            "Dark"
           ],
           "ids": [
            "Dark"
           ],
           "legendgroup": "Dark",
           "marker": {
            "color": "#EF553B",
            "size": [
             75.375
            ],
            "sizemode": "area",
            "sizeref": 0.5575,
            "symbol": "circle"
           },
           "mode": "markers",
           "name": "Dark",
           "orientation": "v",
           "showlegend": true,
           "x": [
            75.75
           ],
           "xaxis": "x",
           "y": [
            65.25
           ],
           "yaxis": "y",
           "type": "scatter"
          },
          {
           "hovertemplate": "<b>%{hovertext}</b><br><br>type_1=Dragon<br>generation=8<br>attack=%{x}<br>defense=%{y}<br>hp=%{marker.size}<extra></extra>",
           "hovertext": [
            "Dragon"
           ],
           "ids": [
            "Dragon"
           ],
           "legendgroup": "Dragon",
           "marker": {
            "color": "#00cc96",
            "size": [
             96.0
            ],
            "sizemode": "area",
            "sizeref": 0.5575,
            "symbol": "circle"
           },
           "mode": "markers",
           "name": "Dragon",
           "orientation": "v",
           "showlegend": true,
           "x": [
            90.0
           ],
           "xaxis": "x",
           "y": [
            51.25
           ],
           "yaxis": "y",
           "type": "scatter"
          },
          {
           "hovertemplate": "<b>%{hovertext}</b><br><br>type_1=Electric<br>generation=8<br>attack=%{x}<br>defense=%{y}<br>hp=%{marker.size}<extra></extra>",
           "hovertext": [
            "Electric"
           ],
           "ids": [
            "Electric"
           ],
           "legendgroup": "Electric",
           "marker": {
            "color": "#ab63fa",
            "size": [
             67.45454545454545
            ],
            "sizemode": "area",
            "sizeref": 0.5575,
            "symbol": "circle"
           },
           "mode": "markers",
           "name": "Electric",
           "orientation": "v",
           "showlegend": true,
           "x": [
            87.27272727272727
           ],
           "xaxis": "x",
           "y": [
            66.0
           ],
           "yaxis": "y",
           "type": "scatter"
          },
          {
           "hovertemplate": "<b>%{hovertext}</b><br><br>type_1=Fairy<br>generation=8<br>attack=%{x}<br>defense=%{y}<br>hp=%{marker.size}<extra></extra>",
           "hovertext": [
            "Fairy"
           ],
           "ids": [
            "Fairy"
           ],
           "legendgroup": "Fairy",
           "marker": {
            "color": "#FFA15A",
            "size": [
             73.5
            ],
            "sizemode": "area",
            "sizeref": 0.5575,
            "symbol": "circle"
           },
           "mode": "markers",
           "name": "Fairy",
           "orientation": "v",
           "showlegend": true,
           "x": [
            100.0
           ],
           "xaxis": "x",
           "y": [
            86.25
           ],
           "yaxis": "y",
           "type": "scatter"
          },
          {
           "hovertemplate": "<b>%{hovertext}</b><br><br>type_1=Fighting<br>generation=8<br>attack=%{x}<br>defense=%{y}<br>hp=%{marker.size}<extra></extra>",
           "hovertext": [
            "Fighting"
           ],
           "ids": [
            "Fighting"
           ],
           "legendgroup": "Fighting",
           "marker": {
            "color": "#19d3f3",
            "size": [
             79.1
            ],
            "sizemode": "area",
            "sizeref": 0.5575,
            "symbol": "circle"
           },
           "mode": "markers",
           "name": "Fighting",
           "orientation": "v",
           "showlegend": true,
           "x": [
            115.6
           ],
           "xaxis": "x",
           "y": [
            95.5
           ],
           "yaxis": "y",
           "type": "scatter"
          },
          {
           "hovertemplate": "<b>%{hovertext}</b><br><br>type_1=Fire<br>generation=8<br>attack=%{x}<br>defense=%{y}<br>hp=%{marker.size}<extra></extra>",
           "hovertext": [
            "Fire"
           ],
           "ids": [
            "Fire"
           ],
           "legendgroup": "Fire",
           "marker": {
            "color": "#FF6692",
            "size": [
             69.0
            ],
            "sizemode": "area",
            "sizeref": 0.5575,
            "symbol": "circle"
           },
           "mode": "markers",
           "name": "Fire",
           "orientation": "v",
           "showlegend": true,
           "x": [
            90.6
           ],
           "xaxis": "x",
           "y": [
            57.0
           ],
           "yaxis": "y",
           "type": "scatter"
          },
          {
           "hovertemplate": "<b>%{hovertext}</b><br><br>type_1=Ghost<br>generation=8<br>attack=%{x}<br>defense=%{y}<br>hp=%{marker.size}<extra></extra>",
           "hovertext": [
            "Ghost"
           ],
           "ids": [
            "Ghost"
           ],
           "legendgroup": "Ghost",
           "marker": {
            "color": "#B6E880",
            "size": [
             65.0
            ],
            "sizemode": "area",
            "sizeref": 0.5575,
            "symbol": "circle"
           },
           "mode": "markers",
           "name": "Ghost",
           "orientation": "v",
           "showlegend": true,
           "x": [
            67.5
           ],
           "xaxis": "x",
           "y": [
            55.0
           ],
           "yaxis": "y",
           "type": "scatter"
          },
          {
           "hovertemplate": "<b>%{hovertext}</b><br><br>type_1=Grass<br>generation=8<br>attack=%{x}<br>defense=%{y}<br>hp=%{marker.size}<extra></extra>",
           "hovertext": [
            "Grass"
           ],
           "ids": [
            "Grass"
           ],
           "legendgroup": "Grass",
           "marker": {
            "color": "#FF97FF",
            "size": [
             67.5
            ],
            "sizemode": "area",
            "sizeref": 0.5575,
            "symbol": "circle"
           },
           "mode": "markers",
           "name": "Grass",
           "orientation": "v",
           "showlegend": true,
           "x": [
            75.0
           ],
           "xaxis": "x",
           "y": [
            75.0
           ],
           "yaxis": "y",
           "type": "scatter"
          },
          {
           "hovertemplate": "<b>%{hovertext}</b><br><br>type_1=Ground<br>generation=8<br>attack=%{x}<br>defense=%{y}<br>hp=%{marker.size}<extra></extra>",
           "hovertext": [
            "Ground"
           ],
           "ids": [
            "Ground"
           ],
           "legendgroup": "Ground",
           "marker": {
            "color": "#FECB52",
            "size": [
             60.666666666666664
            ],
            "sizemode": "area",
            "sizeref": 0.5575,
            "symbol": "circle"
           },
           "mode": "markers",
           "name": "Ground",
           "orientation": "v",
           "showlegend": true,
           "x": [
            86.33333333333333
           ],
           "xaxis": "x",
           "y": [
            115.0
           ],
           "yaxis": "y",
           "type": "scatter"
          },
          {
           "hovertemplate": "<b>%{hovertext}</b><br><br>type_1=Ice<br>generation=8<br>attack=%{x}<br>defense=%{y}<br>hp=%{marker.size}<extra></extra>",
           "hovertext": [
            "Ice"
           ],
           "ids": [
            "Ice"
           ],
           "legendgroup": "Ice",
           "marker": {
            "color": "#636efa",
            "size": [
             70.0
            ],
            "sizemode": "area",
            "sizeref": 0.5575,
            "symbol": "circle"
           },
           "mode": "markers",
           "name": "Ice",
           "orientation": "v",
           "showlegend": true,
           "x": [
            79.0
           ],
           "xaxis": "x",
           "y": [
            81.0
           ],
           "yaxis": "y",
           "type": "scatter"
          },
          {
           "hovertemplate": "<b>%{hovertext}</b><br><br>type_1=Normal<br>generation=8<br>attack=%{x}<br>defense=%{y}<br>hp=%{marker.size}<extra></extra>",
           "hovertext": [
            "Normal"
           ],
           "ids": [
            "Normal"
           ],
           "legendgroup": "Normal",
           "marker": {
            "color": "#EF553B",
            "size": [
             76.0
            ],
            "sizemode": "area",
            "sizeref": 0.5575,
            "symbol": "circle"
           },
           "mode": "markers",
           "name": "Normal",
           "orientation": "v",
           "showlegend": true,
           "x": [
            67.5
           ],
           "xaxis": "x",
           "y": [
            76.25
           ],
           "yaxis": "y",
           "type": "scatter"
          },
          {
           "hovertemplate": "<b>%{hovertext}</b><br><br>type_1=Poison<br>generation=8<br>attack=%{x}<br>defense=%{y}<br>hp=%{marker.size}<extra></extra>",
           "hovertext": [
            "Poison"
           ],
           "ids": [
            "Poison"
           ],
           "legendgroup": "Poison",
           "marker": {
            "color": "#00cc96",
            "size": [
             146.25
            ],
            "sizemode": "area",
            "sizeref": 0.5575,
            "symbol": "circle"
           },
           "mode": "markers",
           "name": "Poison",
           "orientation": "v",
           "showlegend": true,
           "x": [
            91.25
           ],
           "xaxis": "x",
           "y": [
            130.0
           ],
           "yaxis": "y",
           "type": "scatter"
          },
          {
           "hovertemplate": "<b>%{hovertext}</b><br><br>type_1=Psychic<br>generation=8<br>attack=%{x}<br>defense=%{y}<br>hp=%{marker.size}<extra></extra>",
           "hovertext": [
            "Psychic"
           ],
           "ids": [
            "Psychic"
           ],
           "legendgroup": "Psychic",
           "marker": {
            "color": "#ab63fa",
            "size": [
             76.9090909090909
            ],
            "sizemode": "area",
            "sizeref": 0.5575,
            "symbol": "circle"
           },
           "mode": "markers",
           "name": "Psychic",
           "orientation": "v",
           "showlegend": true,
           "x": [
            76.81818181818181
           ],
           "xaxis": "x",
           "y": [
            78.18181818181819
           ],
           "yaxis": "y",
           "type": "scatter"
          },
          {
           "hovertemplate": "<b>%{hovertext}</b><br><br>type_1=Rock<br>generation=8<br>attack=%{x}<br>defense=%{y}<br>hp=%{marker.size}<extra></extra>",
           "hovertext": [
            "Rock"
           ],
           "ids": [
            "Rock"
           ],
           "legendgroup": "Rock",
           "marker": {
            "color": "#FFA15A",
            "size": [
             80.0
            ],
            "sizemode": "area",
            "sizeref": 0.5575,
            "symbol": "circle"
           },
           "mode": "markers",
           "name": "Rock",
           "orientation": "v",
           "showlegend": true,
           "x": [
            76.25
           ],
           "xaxis": "x",
           "y": [
            98.75
           ],
           "yaxis": "y",
           "type": "scatter"
          },
          {
           "hovertemplate": "<b>%{hovertext}</b><br><br>type_1=Steel<br>generation=8<br>attack=%{x}<br>defense=%{y}<br>hp=%{marker.size}<extra></extra>",
           "hovertext": [
            "Steel"
           ],
           "ids": [
            "Steel"
           ],
           "legendgroup": "Steel",
           "marker": {
            "color": "#19d3f3",
            "size": [
             83.5
            ],
            "sizemode": "area",
            "sizeref": 0.5575,
            "symbol": "circle"
           },
           "mode": "markers",
           "name": "Steel",
           "orientation": "v",
           "showlegend": true,
           "x": [
            103.75
           ],
           "xaxis": "x",
           "y": [
            83.25
           ],
           "yaxis": "y",
           "type": "scatter"
          },
          {
           "hovertemplate": "<b>%{hovertext}</b><br><br>type_1=Water<br>generation=8<br>attack=%{x}<br>defense=%{y}<br>hp=%{marker.size}<extra></extra>",
           "hovertext": [
            "Water"
           ],
           "ids": [
            "Water"
           ],
           "legendgroup": "Water",
           "marker": {
            "color": "#FF6692",
            "size": [
             67.44444444444444
            ],
            "sizemode": "area",
            "sizeref": 0.5575,
            "symbol": "circle"
           },
           "mode": "markers",
           "name": "Water",
           "orientation": "v",
           "showlegend": true,
           "x": [
            81.11111111111111
           ],
           "xaxis": "x",
           "y": [
            66.66666666666667
           ],
           "yaxis": "y",
           "type": "scatter"
          },
          {
           "hovertemplate": "<b>%{hovertext}</b><br><br>type_1=Flying<br>generation=8<br>attack=%{x}<br>defense=%{y}<br>hp=%{marker.size}<extra></extra>",
           "hovertext": [
            "Flying"
           ],
           "ids": [
            "Flying"
           ],
           "legendgroup": "Flying",
           "marker": {
            "color": "#B6E880",
            "size": [
             68.5
            ],
            "sizemode": "area",
            "sizeref": 0.5575,
            "symbol": "circle"
           },
           "mode": "markers",
           "name": "Flying",
           "orientation": "v",
           "showlegend": true,
           "x": [
            71.5
           ],
           "xaxis": "x",
           "y": [
            62.5
           ],
           "yaxis": "y",
           "type": "scatter"
          }
         ],
         "name": "8"
        }
       ],
       "config": {
        "plotlyServerURL": "https://plot.ly"
       }
      },
      "text/html": "<div>                            <div id=\"bf11fbb2-b4f9-4b57-8a04-ef4aa10f53f3\" class=\"plotly-graph-div\" style=\"height:525px; width:100%;\"></div>            <script type=\"text/javascript\">                require([\"plotly\"], function(Plotly) {                    window.PLOTLYENV=window.PLOTLYENV || {};                                    if (document.getElementById(\"bf11fbb2-b4f9-4b57-8a04-ef4aa10f53f3\")) {                    Plotly.newPlot(                        \"bf11fbb2-b4f9-4b57-8a04-ef4aa10f53f3\",                        [{\"hovertemplate\":\"<b>%{hovertext}</b><br><br>type_1=Bug<br>generation=1<br>attack=%{x}<br>defense=%{y}<br>hp=%{marker.size}<extra></extra>\",\"hovertext\":[\"Bug\"],\"ids\":[\"Bug\"],\"legendgroup\":\"Bug\",\"marker\":{\"color\":\"#636efa\",\"size\":[56.785714285714285],\"sizemode\":\"area\",\"sizeref\":0.5575,\"symbol\":\"circle\"},\"mode\":\"markers\",\"name\":\"Bug\",\"orientation\":\"v\",\"showlegend\":true,\"x\":[76.42857142857143],\"xaxis\":\"x\",\"y\":[60.357142857142854],\"yaxis\":\"y\",\"type\":\"scatter\"},{\"hovertemplate\":\"<b>%{hovertext}</b><br><br>type_1=Dark<br>generation=1<br>attack=%{x}<br>defense=%{y}<br>hp=%{marker.size}<extra></extra>\",\"hovertext\":[\"Dark\"],\"ids\":[\"Dark\"],\"legendgroup\":\"Dark\",\"marker\":{\"color\":\"#EF553B\",\"size\":[52.5],\"sizemode\":\"area\",\"sizeref\":0.5575,\"symbol\":\"circle\"},\"mode\":\"markers\",\"name\":\"Dark\",\"orientation\":\"v\",\"showlegend\":true,\"x\":[55.5],\"xaxis\":\"x\",\"y\":[50.0],\"yaxis\":\"y\",\"type\":\"scatter\"},{\"hovertemplate\":\"<b>%{hovertext}</b><br><br>type_1=Dragon<br>generation=1<br>attack=%{x}<br>defense=%{y}<br>hp=%{marker.size}<extra></extra>\",\"hovertext\":[\"Dragon\"],\"ids\":[\"Dragon\"],\"legendgroup\":\"Dragon\",\"marker\":{\"color\":\"#00cc96\",\"size\":[64.33333333333333],\"sizemode\":\"area\",\"sizeref\":0.5575,\"symbol\":\"circle\"},\"mode\":\"markers\",\"name\":\"Dragon\",\"orientation\":\"v\",\"showlegend\":true,\"x\":[94.0],\"xaxis\":\"x\",\"y\":[68.33333333333333],\"yaxis\":\"y\",\"type\":\"scatter\"},{\"hovertemplate\":\"<b>%{hovertext}</b><br><br>type_1=Electric<br>generation=1<br>attack=%{x}<br>defense=%{y}<br>hp=%{marker.size}<extra></extra>\",\"hovertext\":[\"Electric\"],\"ids\":[\"Electric\"],\"legendgroup\":\"Electric\",\"marker\":{\"color\":\"#ab63fa\",\"size\":[54.09090909090909],\"sizemode\":\"area\",\"sizeref\":0.5575,\"symbol\":\"circle\"},\"mode\":\"markers\",\"name\":\"Electric\",\"orientation\":\"v\",\"showlegend\":true,\"x\":[65.72727272727273],\"xaxis\":\"x\",\"y\":[62.0],\"yaxis\":\"y\",\"type\":\"scatter\"},{\"hovertemplate\":\"<b>%{hovertext}</b><br><br>type_1=Fairy<br>generation=1<br>attack=%{x}<br>defense=%{y}<br>hp=%{marker.size}<extra></extra>\",\"hovertext\":[\"Fairy\"],\"ids\":[\"Fairy\"],\"legendgroup\":\"Fairy\",\"marker\":{\"color\":\"#FFA15A\",\"size\":[82.5],\"sizemode\":\"area\",\"sizeref\":0.5575,\"symbol\":\"circle\"},\"mode\":\"markers\",\"name\":\"Fairy\",\"orientation\":\"v\",\"showlegend\":true,\"x\":[57.5],\"xaxis\":\"x\",\"y\":[60.5],\"yaxis\":\"y\",\"type\":\"scatter\"},{\"hovertemplate\":\"<b>%{hovertext}</b><br><br>type_1=Fighting<br>generation=1<br>attack=%{x}<br>defense=%{y}<br>hp=%{marker.size}<extra></extra>\",\"hovertext\":[\"Fighting\"],\"ids\":[\"Fighting\"],\"legendgroup\":\"Fighting\",\"marker\":{\"color\":\"#19d3f3\",\"size\":[62.125],\"sizemode\":\"area\",\"sizeref\":0.5575,\"symbol\":\"circle\"},\"mode\":\"markers\",\"name\":\"Fighting\",\"orientation\":\"v\",\"showlegend\":true,\"x\":[101.875],\"xaxis\":\"x\",\"y\":[60.25],\"yaxis\":\"y\",\"type\":\"scatter\"},{\"hovertemplate\":\"<b>%{hovertext}</b><br><br>type_1=Fire<br>generation=1<br>attack=%{x}<br>defense=%{y}<br>hp=%{marker.size}<extra></extra>\",\"hovertext\":[\"Fire\"],\"ids\":[\"Fire\"],\"legendgroup\":\"Fire\",\"marker\":{\"color\":\"#FF6692\",\"size\":[65.46666666666667],\"sizemode\":\"area\",\"sizeref\":0.5575,\"symbol\":\"circle\"},\"mode\":\"markers\",\"name\":\"Fire\",\"orientation\":\"v\",\"showlegend\":true,\"x\":[88.06666666666666],\"xaxis\":\"x\",\"y\":[70.0],\"yaxis\":\"y\",\"type\":\"scatter\"},{\"hovertemplate\":\"<b>%{hovertext}</b><br><br>type_1=Ghost<br>generation=1<br>attack=%{x}<br>defense=%{y}<br>hp=%{marker.size}<extra></extra>\",\"hovertext\":[\"Ghost\"],\"ids\":[\"Ghost\"],\"legendgroup\":\"Ghost\",\"marker\":{\"color\":\"#B6E880\",\"size\":[48.75],\"sizemode\":\"area\",\"sizeref\":0.5575,\"symbol\":\"circle\"},\"mode\":\"markers\",\"name\":\"Ghost\",\"orientation\":\"v\",\"showlegend\":true,\"x\":[53.75],\"xaxis\":\"x\",\"y\":[53.75],\"yaxis\":\"y\",\"type\":\"scatter\"},{\"hovertemplate\":\"<b>%{hovertext}</b><br><br>type_1=Grass<br>generation=1<br>attack=%{x}<br>defense=%{y}<br>hp=%{marker.size}<extra></extra>\",\"hovertext\":[\"Grass\"],\"ids\":[\"Grass\"],\"legendgroup\":\"Grass\",\"marker\":{\"color\":\"#FF97FF\",\"size\":[68.21428571428571],\"sizemode\":\"area\",\"sizeref\":0.5575,\"symbol\":\"circle\"},\"mode\":\"markers\",\"name\":\"Grass\",\"orientation\":\"v\",\"showlegend\":true,\"x\":[75.21428571428571],\"xaxis\":\"x\",\"y\":[74.5],\"yaxis\":\"y\",\"type\":\"scatter\"},{\"hovertemplate\":\"<b>%{hovertext}</b><br><br>type_1=Ground<br>generation=1<br>attack=%{x}<br>defense=%{y}<br>hp=%{marker.size}<extra></extra>\",\"hovertext\":[\"Ground\"],\"ids\":[\"Ground\"],\"legendgroup\":\"Ground\",\"marker\":{\"color\":\"#FECB52\",\"size\":[51.0],\"sizemode\":\"area\",\"sizeref\":0.5575,\"symbol\":\"circle\"},\"mode\":\"markers\",\"name\":\"Ground\",\"orientation\":\"v\",\"showlegend\":true,\"x\":[83.0],\"xaxis\":\"x\",\"y\":[78.0],\"yaxis\":\"y\",\"type\":\"scatter\"},{\"hovertemplate\":\"<b>%{hovertext}</b><br><br>type_1=Ice<br>generation=1<br>attack=%{x}<br>defense=%{y}<br>hp=%{marker.size}<extra></extra>\",\"hovertext\":[\"Ice\"],\"ids\":[\"Ice\"],\"legendgroup\":\"Ice\",\"marker\":{\"color\":\"#636efa\",\"size\":[65.16666666666667],\"sizemode\":\"area\",\"sizeref\":0.5575,\"symbol\":\"circle\"},\"mode\":\"markers\",\"name\":\"Ice\",\"orientation\":\"v\",\"showlegend\":true,\"x\":[69.66666666666667],\"xaxis\":\"x\",\"y\":[76.66666666666667],\"yaxis\":\"y\",\"type\":\"scatter\"},{\"hovertemplate\":\"<b>%{hovertext}</b><br><br>type_1=Normal<br>generation=1<br>attack=%{x}<br>defense=%{y}<br>hp=%{marker.size}<extra></extra>\",\"hovertext\":[\"Normal\"],\"ids\":[\"Normal\"],\"legendgroup\":\"Normal\",\"marker\":{\"color\":\"#EF553B\",\"size\":[79.36],\"sizemode\":\"area\",\"sizeref\":0.5575,\"symbol\":\"circle\"},\"mode\":\"markers\",\"name\":\"Normal\",\"orientation\":\"v\",\"showlegend\":true,\"x\":[71.8],\"xaxis\":\"x\",\"y\":[57.12],\"yaxis\":\"y\",\"type\":\"scatter\"},{\"hovertemplate\":\"<b>%{hovertext}</b><br><br>type_1=Poison<br>generation=1<br>attack=%{x}<br>defense=%{y}<br>hp=%{marker.size}<extra></extra>\",\"hovertext\":[\"Poison\"],\"ids\":[\"Poison\"],\"legendgroup\":\"Poison\",\"marker\":{\"color\":\"#00cc96\",\"size\":[67.82352941176471],\"sizemode\":\"area\",\"sizeref\":0.5575,\"symbol\":\"circle\"},\"mode\":\"markers\",\"name\":\"Poison\",\"orientation\":\"v\",\"showlegend\":true,\"x\":[78.05882352941177],\"xaxis\":\"x\",\"y\":[69.58823529411765],\"yaxis\":\"y\",\"type\":\"scatter\"},{\"hovertemplate\":\"<b>%{hovertext}</b><br><br>type_1=Psychic<br>generation=1<br>attack=%{x}<br>defense=%{y}<br>hp=%{marker.size}<extra></extra>\",\"hovertext\":[\"Psychic\"],\"ids\":[\"Psychic\"],\"legendgroup\":\"Psychic\",\"marker\":{\"color\":\"#ab63fa\",\"size\":[67.35714285714286],\"sizemode\":\"area\",\"sizeref\":0.5575,\"symbol\":\"circle\"},\"mode\":\"markers\",\"name\":\"Psychic\",\"orientation\":\"v\",\"showlegend\":true,\"x\":[80.07142857142857],\"xaxis\":\"x\",\"y\":[63.214285714285715],\"yaxis\":\"y\",\"type\":\"scatter\"},{\"hovertemplate\":\"<b>%{hovertext}</b><br><br>type_1=Rock<br>generation=1<br>attack=%{x}<br>defense=%{y}<br>hp=%{marker.size}<extra></extra>\",\"hovertext\":[\"Rock\"],\"ids\":[\"Rock\"],\"legendgroup\":\"Rock\",\"marker\":{\"color\":\"#FFA15A\",\"size\":[56.92307692307692],\"sizemode\":\"area\",\"sizeref\":0.5575,\"symbol\":\"circle\"},\"mode\":\"markers\",\"name\":\"Rock\",\"orientation\":\"v\",\"showlegend\":true,\"x\":[90.0],\"xaxis\":\"x\",\"y\":[109.23076923076923],\"yaxis\":\"y\",\"type\":\"scatter\"},{\"hovertemplate\":\"<b>%{hovertext}</b><br><br>type_1=Steel<br>generation=1<br>attack=%{x}<br>defense=%{y}<br>hp=%{marker.size}<extra></extra>\",\"hovertext\":[\"Steel\"],\"ids\":[\"Steel\"],\"legendgroup\":\"Steel\",\"marker\":{\"color\":\"#19d3f3\",\"size\":[50.0],\"sizemode\":\"area\",\"sizeref\":0.5575,\"symbol\":\"circle\"},\"mode\":\"markers\",\"name\":\"Steel\",\"orientation\":\"v\",\"showlegend\":true,\"x\":[65.0],\"xaxis\":\"x\",\"y\":[55.0],\"yaxis\":\"y\",\"type\":\"scatter\"},{\"hovertemplate\":\"<b>%{hovertext}</b><br><br>type_1=Water<br>generation=1<br>attack=%{x}<br>defense=%{y}<br>hp=%{marker.size}<extra></extra>\",\"hovertext\":[\"Water\"],\"ids\":[\"Water\"],\"legendgroup\":\"Water\",\"marker\":{\"color\":\"#FF6692\",\"size\":[66.96774193548387],\"sizemode\":\"area\",\"sizeref\":0.5575,\"symbol\":\"circle\"},\"mode\":\"markers\",\"name\":\"Water\",\"orientation\":\"v\",\"showlegend\":true,\"x\":[74.19354838709677],\"xaxis\":\"x\",\"y\":[83.19354838709677],\"yaxis\":\"y\",\"type\":\"scatter\"}],                        {\"template\":{\"data\":{\"histogram2dcontour\":[{\"type\":\"histogram2dcontour\",\"colorbar\":{\"outlinewidth\":0,\"ticks\":\"\"},\"colorscale\":[[0.0,\"#0d0887\"],[0.1111111111111111,\"#46039f\"],[0.2222222222222222,\"#7201a8\"],[0.3333333333333333,\"#9c179e\"],[0.4444444444444444,\"#bd3786\"],[0.5555555555555556,\"#d8576b\"],[0.6666666666666666,\"#ed7953\"],[0.7777777777777778,\"#fb9f3a\"],[0.8888888888888888,\"#fdca26\"],[1.0,\"#f0f921\"]]}],\"choropleth\":[{\"type\":\"choropleth\",\"colorbar\":{\"outlinewidth\":0,\"ticks\":\"\"}}],\"histogram2d\":[{\"type\":\"histogram2d\",\"colorbar\":{\"outlinewidth\":0,\"ticks\":\"\"},\"colorscale\":[[0.0,\"#0d0887\"],[0.1111111111111111,\"#46039f\"],[0.2222222222222222,\"#7201a8\"],[0.3333333333333333,\"#9c179e\"],[0.4444444444444444,\"#bd3786\"],[0.5555555555555556,\"#d8576b\"],[0.6666666666666666,\"#ed7953\"],[0.7777777777777778,\"#fb9f3a\"],[0.8888888888888888,\"#fdca26\"],[1.0,\"#f0f921\"]]}],\"heatmap\":[{\"type\":\"heatmap\",\"colorbar\":{\"outlinewidth\":0,\"ticks\":\"\"},\"colorscale\":[[0.0,\"#0d0887\"],[0.1111111111111111,\"#46039f\"],[0.2222222222222222,\"#7201a8\"],[0.3333333333333333,\"#9c179e\"],[0.4444444444444444,\"#bd3786\"],[0.5555555555555556,\"#d8576b\"],[0.6666666666666666,\"#ed7953\"],[0.7777777777777778,\"#fb9f3a\"],[0.8888888888888888,\"#fdca26\"],[1.0,\"#f0f921\"]]}],\"heatmapgl\":[{\"type\":\"heatmapgl\",\"colorbar\":{\"outlinewidth\":0,\"ticks\":\"\"},\"colorscale\":[[0.0,\"#0d0887\"],[0.1111111111111111,\"#46039f\"],[0.2222222222222222,\"#7201a8\"],[0.3333333333333333,\"#9c179e\"],[0.4444444444444444,\"#bd3786\"],[0.5555555555555556,\"#d8576b\"],[0.6666666666666666,\"#ed7953\"],[0.7777777777777778,\"#fb9f3a\"],[0.8888888888888888,\"#fdca26\"],[1.0,\"#f0f921\"]]}],\"contourcarpet\":[{\"type\":\"contourcarpet\",\"colorbar\":{\"outlinewidth\":0,\"ticks\":\"\"}}],\"contour\":[{\"type\":\"contour\",\"colorbar\":{\"outlinewidth\":0,\"ticks\":\"\"},\"colorscale\":[[0.0,\"#0d0887\"],[0.1111111111111111,\"#46039f\"],[0.2222222222222222,\"#7201a8\"],[0.3333333333333333,\"#9c179e\"],[0.4444444444444444,\"#bd3786\"],[0.5555555555555556,\"#d8576b\"],[0.6666666666666666,\"#ed7953\"],[0.7777777777777778,\"#fb9f3a\"],[0.8888888888888888,\"#fdca26\"],[1.0,\"#f0f921\"]]}],\"surface\":[{\"type\":\"surface\",\"colorbar\":{\"outlinewidth\":0,\"ticks\":\"\"},\"colorscale\":[[0.0,\"#0d0887\"],[0.1111111111111111,\"#46039f\"],[0.2222222222222222,\"#7201a8\"],[0.3333333333333333,\"#9c179e\"],[0.4444444444444444,\"#bd3786\"],[0.5555555555555556,\"#d8576b\"],[0.6666666666666666,\"#ed7953\"],[0.7777777777777778,\"#fb9f3a\"],[0.8888888888888888,\"#fdca26\"],[1.0,\"#f0f921\"]]}],\"mesh3d\":[{\"type\":\"mesh3d\",\"colorbar\":{\"outlinewidth\":0,\"ticks\":\"\"}}],\"scatter\":[{\"marker\":{\"line\":{\"color\":\"#283442\"}},\"type\":\"scatter\"}],\"parcoords\":[{\"type\":\"parcoords\",\"line\":{\"colorbar\":{\"outlinewidth\":0,\"ticks\":\"\"}}}],\"scatterpolargl\":[{\"type\":\"scatterpolargl\",\"marker\":{\"colorbar\":{\"outlinewidth\":0,\"ticks\":\"\"}}}],\"bar\":[{\"error_x\":{\"color\":\"#f2f5fa\"},\"error_y\":{\"color\":\"#f2f5fa\"},\"marker\":{\"line\":{\"color\":\"rgb(17,17,17)\",\"width\":0.5},\"pattern\":{\"fillmode\":\"overlay\",\"size\":10,\"solidity\":0.2}},\"type\":\"bar\"}],\"scattergeo\":[{\"type\":\"scattergeo\",\"marker\":{\"colorbar\":{\"outlinewidth\":0,\"ticks\":\"\"}}}],\"scatterpolar\":[{\"type\":\"scatterpolar\",\"marker\":{\"colorbar\":{\"outlinewidth\":0,\"ticks\":\"\"}}}],\"histogram\":[{\"marker\":{\"pattern\":{\"fillmode\":\"overlay\",\"size\":10,\"solidity\":0.2}},\"type\":\"histogram\"}],\"scattergl\":[{\"marker\":{\"line\":{\"color\":\"#283442\"}},\"type\":\"scattergl\"}],\"scatter3d\":[{\"type\":\"scatter3d\",\"line\":{\"colorbar\":{\"outlinewidth\":0,\"ticks\":\"\"}},\"marker\":{\"colorbar\":{\"outlinewidth\":0,\"ticks\":\"\"}}}],\"scattermapbox\":[{\"type\":\"scattermapbox\",\"marker\":{\"colorbar\":{\"outlinewidth\":0,\"ticks\":\"\"}}}],\"scatterternary\":[{\"type\":\"scatterternary\",\"marker\":{\"colorbar\":{\"outlinewidth\":0,\"ticks\":\"\"}}}],\"scattercarpet\":[{\"type\":\"scattercarpet\",\"marker\":{\"colorbar\":{\"outlinewidth\":0,\"ticks\":\"\"}}}],\"carpet\":[{\"aaxis\":{\"endlinecolor\":\"#A2B1C6\",\"gridcolor\":\"#506784\",\"linecolor\":\"#506784\",\"minorgridcolor\":\"#506784\",\"startlinecolor\":\"#A2B1C6\"},\"baxis\":{\"endlinecolor\":\"#A2B1C6\",\"gridcolor\":\"#506784\",\"linecolor\":\"#506784\",\"minorgridcolor\":\"#506784\",\"startlinecolor\":\"#A2B1C6\"},\"type\":\"carpet\"}],\"table\":[{\"cells\":{\"fill\":{\"color\":\"#506784\"},\"line\":{\"color\":\"rgb(17,17,17)\"}},\"header\":{\"fill\":{\"color\":\"#2a3f5f\"},\"line\":{\"color\":\"rgb(17,17,17)\"}},\"type\":\"table\"}],\"barpolar\":[{\"marker\":{\"line\":{\"color\":\"rgb(17,17,17)\",\"width\":0.5},\"pattern\":{\"fillmode\":\"overlay\",\"size\":10,\"solidity\":0.2}},\"type\":\"barpolar\"}],\"pie\":[{\"automargin\":true,\"type\":\"pie\"}]},\"layout\":{\"autotypenumbers\":\"strict\",\"colorway\":[\"#636efa\",\"#EF553B\",\"#00cc96\",\"#ab63fa\",\"#FFA15A\",\"#19d3f3\",\"#FF6692\",\"#B6E880\",\"#FF97FF\",\"#FECB52\"],\"font\":{\"color\":\"#f2f5fa\"},\"hovermode\":\"closest\",\"hoverlabel\":{\"align\":\"left\"},\"paper_bgcolor\":\"rgb(17,17,17)\",\"plot_bgcolor\":\"rgb(17,17,17)\",\"polar\":{\"bgcolor\":\"rgb(17,17,17)\",\"angularaxis\":{\"gridcolor\":\"#506784\",\"linecolor\":\"#506784\",\"ticks\":\"\"},\"radialaxis\":{\"gridcolor\":\"#506784\",\"linecolor\":\"#506784\",\"ticks\":\"\"}},\"ternary\":{\"bgcolor\":\"rgb(17,17,17)\",\"aaxis\":{\"gridcolor\":\"#506784\",\"linecolor\":\"#506784\",\"ticks\":\"\"},\"baxis\":{\"gridcolor\":\"#506784\",\"linecolor\":\"#506784\",\"ticks\":\"\"},\"caxis\":{\"gridcolor\":\"#506784\",\"linecolor\":\"#506784\",\"ticks\":\"\"}},\"coloraxis\":{\"colorbar\":{\"outlinewidth\":0,\"ticks\":\"\"}},\"colorscale\":{\"sequential\":[[0.0,\"#0d0887\"],[0.1111111111111111,\"#46039f\"],[0.2222222222222222,\"#7201a8\"],[0.3333333333333333,\"#9c179e\"],[0.4444444444444444,\"#bd3786\"],[0.5555555555555556,\"#d8576b\"],[0.6666666666666666,\"#ed7953\"],[0.7777777777777778,\"#fb9f3a\"],[0.8888888888888888,\"#fdca26\"],[1.0,\"#f0f921\"]],\"sequentialminus\":[[0.0,\"#0d0887\"],[0.1111111111111111,\"#46039f\"],[0.2222222222222222,\"#7201a8\"],[0.3333333333333333,\"#9c179e\"],[0.4444444444444444,\"#bd3786\"],[0.5555555555555556,\"#d8576b\"],[0.6666666666666666,\"#ed7953\"],[0.7777777777777778,\"#fb9f3a\"],[0.8888888888888888,\"#fdca26\"],[1.0,\"#f0f921\"]],\"diverging\":[[0,\"#8e0152\"],[0.1,\"#c51b7d\"],[0.2,\"#de77ae\"],[0.3,\"#f1b6da\"],[0.4,\"#fde0ef\"],[0.5,\"#f7f7f7\"],[0.6,\"#e6f5d0\"],[0.7,\"#b8e186\"],[0.8,\"#7fbc41\"],[0.9,\"#4d9221\"],[1,\"#276419\"]]},\"xaxis\":{\"gridcolor\":\"#283442\",\"linecolor\":\"#506784\",\"ticks\":\"\",\"title\":{\"standoff\":15},\"zerolinecolor\":\"#283442\",\"automargin\":true,\"zerolinewidth\":2},\"yaxis\":{\"gridcolor\":\"#283442\",\"linecolor\":\"#506784\",\"ticks\":\"\",\"title\":{\"standoff\":15},\"zerolinecolor\":\"#283442\",\"automargin\":true,\"zerolinewidth\":2},\"scene\":{\"xaxis\":{\"backgroundcolor\":\"rgb(17,17,17)\",\"gridcolor\":\"#506784\",\"linecolor\":\"#506784\",\"showbackground\":true,\"ticks\":\"\",\"zerolinecolor\":\"#C8D4E3\",\"gridwidth\":2},\"yaxis\":{\"backgroundcolor\":\"rgb(17,17,17)\",\"gridcolor\":\"#506784\",\"linecolor\":\"#506784\",\"showbackground\":true,\"ticks\":\"\",\"zerolinecolor\":\"#C8D4E3\",\"gridwidth\":2},\"zaxis\":{\"backgroundcolor\":\"rgb(17,17,17)\",\"gridcolor\":\"#506784\",\"linecolor\":\"#506784\",\"showbackground\":true,\"ticks\":\"\",\"zerolinecolor\":\"#C8D4E3\",\"gridwidth\":2}},\"shapedefaults\":{\"line\":{\"color\":\"#f2f5fa\"}},\"annotationdefaults\":{\"arrowcolor\":\"#f2f5fa\",\"arrowhead\":0,\"arrowwidth\":1},\"geo\":{\"bgcolor\":\"rgb(17,17,17)\",\"landcolor\":\"rgb(17,17,17)\",\"subunitcolor\":\"#506784\",\"showland\":true,\"showlakes\":true,\"lakecolor\":\"rgb(17,17,17)\"},\"title\":{\"x\":0.05},\"updatemenudefaults\":{\"bgcolor\":\"#506784\",\"borderwidth\":0},\"sliderdefaults\":{\"bgcolor\":\"#C8D4E3\",\"borderwidth\":1,\"bordercolor\":\"rgb(17,17,17)\",\"tickwidth\":0},\"mapbox\":{\"style\":\"dark\"}}},\"xaxis\":{\"anchor\":\"y\",\"domain\":[0.0,1.0],\"title\":{\"text\":\"attack\"},\"type\":\"log\",\"range\":[1.4771212547196624,2.176091259055681]},\"yaxis\":{\"anchor\":\"x\",\"domain\":[0.0,1.0],\"title\":{\"text\":\"defense\"},\"range\":[30,200]},\"legend\":{\"title\":{\"text\":\"type_1\"},\"tracegroupgap\":0,\"itemsizing\":\"constant\"},\"margin\":{\"t\":60},\"updatemenus\":[{\"buttons\":[{\"args\":[null,{\"frame\":{\"duration\":500,\"redraw\":false},\"mode\":\"immediate\",\"fromcurrent\":true,\"transition\":{\"duration\":500,\"easing\":\"linear\"}}],\"label\":\"&#9654;\",\"method\":\"animate\"},{\"args\":[[null],{\"frame\":{\"duration\":0,\"redraw\":false},\"mode\":\"immediate\",\"fromcurrent\":true,\"transition\":{\"duration\":0,\"easing\":\"linear\"}}],\"label\":\"&#9724;\",\"method\":\"animate\"}],\"direction\":\"left\",\"pad\":{\"r\":10,\"t\":70},\"showactive\":false,\"type\":\"buttons\",\"x\":0.1,\"xanchor\":\"right\",\"y\":0,\"yanchor\":\"top\"}],\"sliders\":[{\"active\":0,\"currentvalue\":{\"prefix\":\"generation=\"},\"len\":0.9,\"pad\":{\"b\":10,\"t\":60},\"steps\":[{\"args\":[[\"1\"],{\"frame\":{\"duration\":0,\"redraw\":false},\"mode\":\"immediate\",\"fromcurrent\":true,\"transition\":{\"duration\":0,\"easing\":\"linear\"}}],\"label\":\"1\",\"method\":\"animate\"},{\"args\":[[\"2\"],{\"frame\":{\"duration\":0,\"redraw\":false},\"mode\":\"immediate\",\"fromcurrent\":true,\"transition\":{\"duration\":0,\"easing\":\"linear\"}}],\"label\":\"2\",\"method\":\"animate\"},{\"args\":[[\"3\"],{\"frame\":{\"duration\":0,\"redraw\":false},\"mode\":\"immediate\",\"fromcurrent\":true,\"transition\":{\"duration\":0,\"easing\":\"linear\"}}],\"label\":\"3\",\"method\":\"animate\"},{\"args\":[[\"4\"],{\"frame\":{\"duration\":0,\"redraw\":false},\"mode\":\"immediate\",\"fromcurrent\":true,\"transition\":{\"duration\":0,\"easing\":\"linear\"}}],\"label\":\"4\",\"method\":\"animate\"},{\"args\":[[\"5\"],{\"frame\":{\"duration\":0,\"redraw\":false},\"mode\":\"immediate\",\"fromcurrent\":true,\"transition\":{\"duration\":0,\"easing\":\"linear\"}}],\"label\":\"5\",\"method\":\"animate\"},{\"args\":[[\"6\"],{\"frame\":{\"duration\":0,\"redraw\":false},\"mode\":\"immediate\",\"fromcurrent\":true,\"transition\":{\"duration\":0,\"easing\":\"linear\"}}],\"label\":\"6\",\"method\":\"animate\"},{\"args\":[[\"7\"],{\"frame\":{\"duration\":0,\"redraw\":false},\"mode\":\"immediate\",\"fromcurrent\":true,\"transition\":{\"duration\":0,\"easing\":\"linear\"}}],\"label\":\"7\",\"method\":\"animate\"},{\"args\":[[\"8\"],{\"frame\":{\"duration\":0,\"redraw\":false},\"mode\":\"immediate\",\"fromcurrent\":true,\"transition\":{\"duration\":0,\"easing\":\"linear\"}}],\"label\":\"8\",\"method\":\"animate\"}],\"x\":0.1,\"xanchor\":\"left\",\"y\":0,\"yanchor\":\"top\"}]},                        {\"responsive\": true}                    ).then(function(){\n                            Plotly.addFrames('bf11fbb2-b4f9-4b57-8a04-ef4aa10f53f3', [{\"data\":[{\"hovertemplate\":\"<b>%{hovertext}</b><br><br>type_1=Bug<br>generation=1<br>attack=%{x}<br>defense=%{y}<br>hp=%{marker.size}<extra></extra>\",\"hovertext\":[\"Bug\"],\"ids\":[\"Bug\"],\"legendgroup\":\"Bug\",\"marker\":{\"color\":\"#636efa\",\"size\":[56.785714285714285],\"sizemode\":\"area\",\"sizeref\":0.5575,\"symbol\":\"circle\"},\"mode\":\"markers\",\"name\":\"Bug\",\"orientation\":\"v\",\"showlegend\":true,\"x\":[76.42857142857143],\"xaxis\":\"x\",\"y\":[60.357142857142854],\"yaxis\":\"y\",\"type\":\"scatter\"},{\"hovertemplate\":\"<b>%{hovertext}</b><br><br>type_1=Dark<br>generation=1<br>attack=%{x}<br>defense=%{y}<br>hp=%{marker.size}<extra></extra>\",\"hovertext\":[\"Dark\"],\"ids\":[\"Dark\"],\"legendgroup\":\"Dark\",\"marker\":{\"color\":\"#EF553B\",\"size\":[52.5],\"sizemode\":\"area\",\"sizeref\":0.5575,\"symbol\":\"circle\"},\"mode\":\"markers\",\"name\":\"Dark\",\"orientation\":\"v\",\"showlegend\":true,\"x\":[55.5],\"xaxis\":\"x\",\"y\":[50.0],\"yaxis\":\"y\",\"type\":\"scatter\"},{\"hovertemplate\":\"<b>%{hovertext}</b><br><br>type_1=Dragon<br>generation=1<br>attack=%{x}<br>defense=%{y}<br>hp=%{marker.size}<extra></extra>\",\"hovertext\":[\"Dragon\"],\"ids\":[\"Dragon\"],\"legendgroup\":\"Dragon\",\"marker\":{\"color\":\"#00cc96\",\"size\":[64.33333333333333],\"sizemode\":\"area\",\"sizeref\":0.5575,\"symbol\":\"circle\"},\"mode\":\"markers\",\"name\":\"Dragon\",\"orientation\":\"v\",\"showlegend\":true,\"x\":[94.0],\"xaxis\":\"x\",\"y\":[68.33333333333333],\"yaxis\":\"y\",\"type\":\"scatter\"},{\"hovertemplate\":\"<b>%{hovertext}</b><br><br>type_1=Electric<br>generation=1<br>attack=%{x}<br>defense=%{y}<br>hp=%{marker.size}<extra></extra>\",\"hovertext\":[\"Electric\"],\"ids\":[\"Electric\"],\"legendgroup\":\"Electric\",\"marker\":{\"color\":\"#ab63fa\",\"size\":[54.09090909090909],\"sizemode\":\"area\",\"sizeref\":0.5575,\"symbol\":\"circle\"},\"mode\":\"markers\",\"name\":\"Electric\",\"orientation\":\"v\",\"showlegend\":true,\"x\":[65.72727272727273],\"xaxis\":\"x\",\"y\":[62.0],\"yaxis\":\"y\",\"type\":\"scatter\"},{\"hovertemplate\":\"<b>%{hovertext}</b><br><br>type_1=Fairy<br>generation=1<br>attack=%{x}<br>defense=%{y}<br>hp=%{marker.size}<extra></extra>\",\"hovertext\":[\"Fairy\"],\"ids\":[\"Fairy\"],\"legendgroup\":\"Fairy\",\"marker\":{\"color\":\"#FFA15A\",\"size\":[82.5],\"sizemode\":\"area\",\"sizeref\":0.5575,\"symbol\":\"circle\"},\"mode\":\"markers\",\"name\":\"Fairy\",\"orientation\":\"v\",\"showlegend\":true,\"x\":[57.5],\"xaxis\":\"x\",\"y\":[60.5],\"yaxis\":\"y\",\"type\":\"scatter\"},{\"hovertemplate\":\"<b>%{hovertext}</b><br><br>type_1=Fighting<br>generation=1<br>attack=%{x}<br>defense=%{y}<br>hp=%{marker.size}<extra></extra>\",\"hovertext\":[\"Fighting\"],\"ids\":[\"Fighting\"],\"legendgroup\":\"Fighting\",\"marker\":{\"color\":\"#19d3f3\",\"size\":[62.125],\"sizemode\":\"area\",\"sizeref\":0.5575,\"symbol\":\"circle\"},\"mode\":\"markers\",\"name\":\"Fighting\",\"orientation\":\"v\",\"showlegend\":true,\"x\":[101.875],\"xaxis\":\"x\",\"y\":[60.25],\"yaxis\":\"y\",\"type\":\"scatter\"},{\"hovertemplate\":\"<b>%{hovertext}</b><br><br>type_1=Fire<br>generation=1<br>attack=%{x}<br>defense=%{y}<br>hp=%{marker.size}<extra></extra>\",\"hovertext\":[\"Fire\"],\"ids\":[\"Fire\"],\"legendgroup\":\"Fire\",\"marker\":{\"color\":\"#FF6692\",\"size\":[65.46666666666667],\"sizemode\":\"area\",\"sizeref\":0.5575,\"symbol\":\"circle\"},\"mode\":\"markers\",\"name\":\"Fire\",\"orientation\":\"v\",\"showlegend\":true,\"x\":[88.06666666666666],\"xaxis\":\"x\",\"y\":[70.0],\"yaxis\":\"y\",\"type\":\"scatter\"},{\"hovertemplate\":\"<b>%{hovertext}</b><br><br>type_1=Ghost<br>generation=1<br>attack=%{x}<br>defense=%{y}<br>hp=%{marker.size}<extra></extra>\",\"hovertext\":[\"Ghost\"],\"ids\":[\"Ghost\"],\"legendgroup\":\"Ghost\",\"marker\":{\"color\":\"#B6E880\",\"size\":[48.75],\"sizemode\":\"area\",\"sizeref\":0.5575,\"symbol\":\"circle\"},\"mode\":\"markers\",\"name\":\"Ghost\",\"orientation\":\"v\",\"showlegend\":true,\"x\":[53.75],\"xaxis\":\"x\",\"y\":[53.75],\"yaxis\":\"y\",\"type\":\"scatter\"},{\"hovertemplate\":\"<b>%{hovertext}</b><br><br>type_1=Grass<br>generation=1<br>attack=%{x}<br>defense=%{y}<br>hp=%{marker.size}<extra></extra>\",\"hovertext\":[\"Grass\"],\"ids\":[\"Grass\"],\"legendgroup\":\"Grass\",\"marker\":{\"color\":\"#FF97FF\",\"size\":[68.21428571428571],\"sizemode\":\"area\",\"sizeref\":0.5575,\"symbol\":\"circle\"},\"mode\":\"markers\",\"name\":\"Grass\",\"orientation\":\"v\",\"showlegend\":true,\"x\":[75.21428571428571],\"xaxis\":\"x\",\"y\":[74.5],\"yaxis\":\"y\",\"type\":\"scatter\"},{\"hovertemplate\":\"<b>%{hovertext}</b><br><br>type_1=Ground<br>generation=1<br>attack=%{x}<br>defense=%{y}<br>hp=%{marker.size}<extra></extra>\",\"hovertext\":[\"Ground\"],\"ids\":[\"Ground\"],\"legendgroup\":\"Ground\",\"marker\":{\"color\":\"#FECB52\",\"size\":[51.0],\"sizemode\":\"area\",\"sizeref\":0.5575,\"symbol\":\"circle\"},\"mode\":\"markers\",\"name\":\"Ground\",\"orientation\":\"v\",\"showlegend\":true,\"x\":[83.0],\"xaxis\":\"x\",\"y\":[78.0],\"yaxis\":\"y\",\"type\":\"scatter\"},{\"hovertemplate\":\"<b>%{hovertext}</b><br><br>type_1=Ice<br>generation=1<br>attack=%{x}<br>defense=%{y}<br>hp=%{marker.size}<extra></extra>\",\"hovertext\":[\"Ice\"],\"ids\":[\"Ice\"],\"legendgroup\":\"Ice\",\"marker\":{\"color\":\"#636efa\",\"size\":[65.16666666666667],\"sizemode\":\"area\",\"sizeref\":0.5575,\"symbol\":\"circle\"},\"mode\":\"markers\",\"name\":\"Ice\",\"orientation\":\"v\",\"showlegend\":true,\"x\":[69.66666666666667],\"xaxis\":\"x\",\"y\":[76.66666666666667],\"yaxis\":\"y\",\"type\":\"scatter\"},{\"hovertemplate\":\"<b>%{hovertext}</b><br><br>type_1=Normal<br>generation=1<br>attack=%{x}<br>defense=%{y}<br>hp=%{marker.size}<extra></extra>\",\"hovertext\":[\"Normal\"],\"ids\":[\"Normal\"],\"legendgroup\":\"Normal\",\"marker\":{\"color\":\"#EF553B\",\"size\":[79.36],\"sizemode\":\"area\",\"sizeref\":0.5575,\"symbol\":\"circle\"},\"mode\":\"markers\",\"name\":\"Normal\",\"orientation\":\"v\",\"showlegend\":true,\"x\":[71.8],\"xaxis\":\"x\",\"y\":[57.12],\"yaxis\":\"y\",\"type\":\"scatter\"},{\"hovertemplate\":\"<b>%{hovertext}</b><br><br>type_1=Poison<br>generation=1<br>attack=%{x}<br>defense=%{y}<br>hp=%{marker.size}<extra></extra>\",\"hovertext\":[\"Poison\"],\"ids\":[\"Poison\"],\"legendgroup\":\"Poison\",\"marker\":{\"color\":\"#00cc96\",\"size\":[67.82352941176471],\"sizemode\":\"area\",\"sizeref\":0.5575,\"symbol\":\"circle\"},\"mode\":\"markers\",\"name\":\"Poison\",\"orientation\":\"v\",\"showlegend\":true,\"x\":[78.05882352941177],\"xaxis\":\"x\",\"y\":[69.58823529411765],\"yaxis\":\"y\",\"type\":\"scatter\"},{\"hovertemplate\":\"<b>%{hovertext}</b><br><br>type_1=Psychic<br>generation=1<br>attack=%{x}<br>defense=%{y}<br>hp=%{marker.size}<extra></extra>\",\"hovertext\":[\"Psychic\"],\"ids\":[\"Psychic\"],\"legendgroup\":\"Psychic\",\"marker\":{\"color\":\"#ab63fa\",\"size\":[67.35714285714286],\"sizemode\":\"area\",\"sizeref\":0.5575,\"symbol\":\"circle\"},\"mode\":\"markers\",\"name\":\"Psychic\",\"orientation\":\"v\",\"showlegend\":true,\"x\":[80.07142857142857],\"xaxis\":\"x\",\"y\":[63.214285714285715],\"yaxis\":\"y\",\"type\":\"scatter\"},{\"hovertemplate\":\"<b>%{hovertext}</b><br><br>type_1=Rock<br>generation=1<br>attack=%{x}<br>defense=%{y}<br>hp=%{marker.size}<extra></extra>\",\"hovertext\":[\"Rock\"],\"ids\":[\"Rock\"],\"legendgroup\":\"Rock\",\"marker\":{\"color\":\"#FFA15A\",\"size\":[56.92307692307692],\"sizemode\":\"area\",\"sizeref\":0.5575,\"symbol\":\"circle\"},\"mode\":\"markers\",\"name\":\"Rock\",\"orientation\":\"v\",\"showlegend\":true,\"x\":[90.0],\"xaxis\":\"x\",\"y\":[109.23076923076923],\"yaxis\":\"y\",\"type\":\"scatter\"},{\"hovertemplate\":\"<b>%{hovertext}</b><br><br>type_1=Steel<br>generation=1<br>attack=%{x}<br>defense=%{y}<br>hp=%{marker.size}<extra></extra>\",\"hovertext\":[\"Steel\"],\"ids\":[\"Steel\"],\"legendgroup\":\"Steel\",\"marker\":{\"color\":\"#19d3f3\",\"size\":[50.0],\"sizemode\":\"area\",\"sizeref\":0.5575,\"symbol\":\"circle\"},\"mode\":\"markers\",\"name\":\"Steel\",\"orientation\":\"v\",\"showlegend\":true,\"x\":[65.0],\"xaxis\":\"x\",\"y\":[55.0],\"yaxis\":\"y\",\"type\":\"scatter\"},{\"hovertemplate\":\"<b>%{hovertext}</b><br><br>type_1=Water<br>generation=1<br>attack=%{x}<br>defense=%{y}<br>hp=%{marker.size}<extra></extra>\",\"hovertext\":[\"Water\"],\"ids\":[\"Water\"],\"legendgroup\":\"Water\",\"marker\":{\"color\":\"#FF6692\",\"size\":[66.96774193548387],\"sizemode\":\"area\",\"sizeref\":0.5575,\"symbol\":\"circle\"},\"mode\":\"markers\",\"name\":\"Water\",\"orientation\":\"v\",\"showlegend\":true,\"x\":[74.19354838709677],\"xaxis\":\"x\",\"y\":[83.19354838709677],\"yaxis\":\"y\",\"type\":\"scatter\"}],\"name\":\"1\"},{\"data\":[{\"hovertemplate\":\"<b>%{hovertext}</b><br><br>type_1=Bug<br>generation=2<br>attack=%{x}<br>defense=%{y}<br>hp=%{marker.size}<extra></extra>\",\"hovertext\":[\"Bug\"],\"ids\":[\"Bug\"],\"legendgroup\":\"Bug\",\"marker\":{\"color\":\"#636efa\",\"size\":[59.583333333333336],\"sizemode\":\"area\",\"sizeref\":0.5575,\"symbol\":\"circle\"},\"mode\":\"markers\",\"name\":\"Bug\",\"orientation\":\"v\",\"showlegend\":true,\"x\":[85.41666666666667],\"xaxis\":\"x\",\"y\":[93.75],\"yaxis\":\"y\",\"type\":\"scatter\"},{\"hovertemplate\":\"<b>%{hovertext}</b><br><br>type_1=Dark<br>generation=2<br>attack=%{x}<br>defense=%{y}<br>hp=%{marker.size}<extra></extra>\",\"hovertext\":[\"Dark\"],\"ids\":[\"Dark\"],\"legendgroup\":\"Dark\",\"marker\":{\"color\":\"#EF553B\",\"size\":[67.5],\"sizemode\":\"area\",\"sizeref\":0.5575,\"symbol\":\"circle\"},\"mode\":\"markers\",\"name\":\"Dark\",\"orientation\":\"v\",\"showlegend\":true,\"x\":[80.83333333333333],\"xaxis\":\"x\",\"y\":[62.833333333333336],\"yaxis\":\"y\",\"type\":\"scatter\"},{\"hovertemplate\":\"<b>%{hovertext}</b><br><br>type_1=Electric<br>generation=2<br>attack=%{x}<br>defense=%{y}<br>hp=%{marker.size}<extra></extra>\",\"hovertext\":[\"Electric\"],\"ids\":[\"Electric\"],\"legendgroup\":\"Electric\",\"marker\":{\"color\":\"#ab63fa\",\"size\":[65.71428571428571],\"sizemode\":\"area\",\"sizeref\":0.5575,\"symbol\":\"circle\"},\"mode\":\"markers\",\"name\":\"Electric\",\"orientation\":\"v\",\"showlegend\":true,\"x\":[64.71428571428571],\"xaxis\":\"x\",\"y\":[58.857142857142854],\"yaxis\":\"y\",\"type\":\"scatter\"},{\"hovertemplate\":\"<b>%{hovertext}</b><br><br>type_1=Fairy<br>generation=2<br>attack=%{x}<br>defense=%{y}<br>hp=%{marker.size}<extra></extra>\",\"hovertext\":[\"Fairy\"],\"ids\":[\"Fairy\"],\"legendgroup\":\"Fairy\",\"marker\":{\"color\":\"#FFA15A\",\"size\":[58.0],\"sizemode\":\"area\",\"sizeref\":0.5575,\"symbol\":\"circle\"},\"mode\":\"markers\",\"name\":\"Fairy\",\"orientation\":\"v\",\"showlegend\":true,\"x\":[57.0],\"xaxis\":\"x\",\"y\":[60.6],\"yaxis\":\"y\",\"type\":\"scatter\"},{\"hovertemplate\":\"<b>%{hovertext}</b><br><br>type_1=Fighting<br>generation=2<br>attack=%{x}<br>defense=%{y}<br>hp=%{marker.size}<extra></extra>\",\"hovertext\":[\"Fighting\"],\"ids\":[\"Fighting\"],\"legendgroup\":\"Fighting\",\"marker\":{\"color\":\"#19d3f3\",\"size\":[42.5],\"sizemode\":\"area\",\"sizeref\":0.5575,\"symbol\":\"circle\"},\"mode\":\"markers\",\"name\":\"Fighting\",\"orientation\":\"v\",\"showlegend\":true,\"x\":[65.0],\"xaxis\":\"x\",\"y\":[65.0],\"yaxis\":\"y\",\"type\":\"scatter\"},{\"hovertemplate\":\"<b>%{hovertext}</b><br><br>type_1=Fire<br>generation=2<br>attack=%{x}<br>defense=%{y}<br>hp=%{marker.size}<extra></extra>\",\"hovertext\":[\"Fire\"],\"ids\":[\"Fire\"],\"legendgroup\":\"Fire\",\"marker\":{\"color\":\"#FF6692\",\"size\":[67.625],\"sizemode\":\"area\",\"sizeref\":0.5575,\"symbol\":\"circle\"},\"mode\":\"markers\",\"name\":\"Fire\",\"orientation\":\"v\",\"showlegend\":true,\"x\":[76.25],\"xaxis\":\"x\",\"y\":[68.875],\"yaxis\":\"y\",\"type\":\"scatter\"},{\"hovertemplate\":\"<b>%{hovertext}</b><br><br>type_1=Ghost<br>generation=2<br>attack=%{x}<br>defense=%{y}<br>hp=%{marker.size}<extra></extra>\",\"hovertext\":[\"Ghost\"],\"ids\":[\"Ghost\"],\"legendgroup\":\"Ghost\",\"marker\":{\"color\":\"#B6E880\",\"size\":[60.0],\"sizemode\":\"area\",\"sizeref\":0.5575,\"symbol\":\"circle\"},\"mode\":\"markers\",\"name\":\"Ghost\",\"orientation\":\"v\",\"showlegend\":true,\"x\":[57.5],\"xaxis\":\"x\",\"y\":[80.0],\"yaxis\":\"y\",\"type\":\"scatter\"},{\"hovertemplate\":\"<b>%{hovertext}</b><br><br>type_1=Grass<br>generation=2<br>attack=%{x}<br>defense=%{y}<br>hp=%{marker.size}<extra></extra>\",\"hovertext\":[\"Grass\"],\"ids\":[\"Grass\"],\"legendgroup\":\"Grass\",\"marker\":{\"color\":\"#FF97FF\",\"size\":[58.888888888888886],\"sizemode\":\"area\",\"sizeref\":0.5575,\"symbol\":\"circle\"},\"mode\":\"markers\",\"name\":\"Grass\",\"orientation\":\"v\",\"showlegend\":true,\"x\":[57.0],\"xaxis\":\"x\",\"y\":[65.0],\"yaxis\":\"y\",\"type\":\"scatter\"},{\"hovertemplate\":\"<b>%{hovertext}</b><br><br>type_1=Ground<br>generation=2<br>attack=%{x}<br>defense=%{y}<br>hp=%{marker.size}<extra></extra>\",\"hovertext\":[\"Ground\"],\"ids\":[\"Ground\"],\"legendgroup\":\"Ground\",\"marker\":{\"color\":\"#FECB52\",\"size\":[81.66666666666667],\"sizemode\":\"area\",\"sizeref\":0.5575,\"symbol\":\"circle\"},\"mode\":\"markers\",\"name\":\"Ground\",\"orientation\":\"v\",\"showlegend\":true,\"x\":[85.0],\"xaxis\":\"x\",\"y\":[95.0],\"yaxis\":\"y\",\"type\":\"scatter\"},{\"hovertemplate\":\"<b>%{hovertext}</b><br><br>type_1=Ice<br>generation=2<br>attack=%{x}<br>defense=%{y}<br>hp=%{marker.size}<extra></extra>\",\"hovertext\":[\"Ice\"],\"ids\":[\"Ice\"],\"legendgroup\":\"Ice\",\"marker\":{\"color\":\"#636efa\",\"size\":[60.0],\"sizemode\":\"area\",\"sizeref\":0.5575,\"symbol\":\"circle\"},\"mode\":\"markers\",\"name\":\"Ice\",\"orientation\":\"v\",\"showlegend\":true,\"x\":[58.75],\"xaxis\":\"x\",\"y\":[45.0],\"yaxis\":\"y\",\"type\":\"scatter\"},{\"hovertemplate\":\"<b>%{hovertext}</b><br><br>type_1=Normal<br>generation=2<br>attack=%{x}<br>defense=%{y}<br>hp=%{marker.size}<extra></extra>\",\"hovertext\":[\"Normal\"],\"ids\":[\"Normal\"],\"legendgroup\":\"Normal\",\"marker\":{\"color\":\"#EF553B\",\"size\":[87.2],\"sizemode\":\"area\",\"sizeref\":0.5575,\"symbol\":\"circle\"},\"mode\":\"markers\",\"name\":\"Normal\",\"orientation\":\"v\",\"showlegend\":true,\"x\":[63.13333333333333],\"xaxis\":\"x\",\"y\":[54.0],\"yaxis\":\"y\",\"type\":\"scatter\"},{\"hovertemplate\":\"<b>%{hovertext}</b><br><br>type_1=Poison<br>generation=2<br>attack=%{x}<br>defense=%{y}<br>hp=%{marker.size}<extra></extra>\",\"hovertext\":[\"Poison\"],\"ids\":[\"Poison\"],\"legendgroup\":\"Poison\",\"marker\":{\"color\":\"#00cc96\",\"size\":[85.0],\"sizemode\":\"area\",\"sizeref\":0.5575,\"symbol\":\"circle\"},\"mode\":\"markers\",\"name\":\"Poison\",\"orientation\":\"v\",\"showlegend\":true,\"x\":[90.0],\"xaxis\":\"x\",\"y\":[80.0],\"yaxis\":\"y\",\"type\":\"scatter\"},{\"hovertemplate\":\"<b>%{hovertext}</b><br><br>type_1=Psychic<br>generation=2<br>attack=%{x}<br>defense=%{y}<br>hp=%{marker.size}<extra></extra>\",\"hovertext\":[\"Psychic\"],\"ids\":[\"Psychic\"],\"legendgroup\":\"Psychic\",\"marker\":{\"color\":\"#ab63fa\",\"size\":[87.71428571428571],\"sizemode\":\"area\",\"sizeref\":0.5575,\"symbol\":\"circle\"},\"mode\":\"markers\",\"name\":\"Psychic\",\"orientation\":\"v\",\"showlegend\":true,\"x\":[69.28571428571429],\"xaxis\":\"x\",\"y\":[73.0],\"yaxis\":\"y\",\"type\":\"scatter\"},{\"hovertemplate\":\"<b>%{hovertext}</b><br><br>type_1=Rock<br>generation=2<br>attack=%{x}<br>defense=%{y}<br>hp=%{marker.size}<extra></extra>\",\"hovertext\":[\"Rock\"],\"ids\":[\"Rock\"],\"legendgroup\":\"Rock\",\"marker\":{\"color\":\"#FFA15A\",\"size\":[78.0],\"sizemode\":\"area\",\"sizeref\":0.5575,\"symbol\":\"circle\"},\"mode\":\"markers\",\"name\":\"Rock\",\"orientation\":\"v\",\"showlegend\":true,\"x\":[109.2],\"xaxis\":\"x\",\"y\":[99.0],\"yaxis\":\"y\",\"type\":\"scatter\"},{\"hovertemplate\":\"<b>%{hovertext}</b><br><br>type_1=Steel<br>generation=2<br>attack=%{x}<br>defense=%{y}<br>hp=%{marker.size}<extra></extra>\",\"hovertext\":[\"Steel\"],\"ids\":[\"Steel\"],\"legendgroup\":\"Steel\",\"marker\":{\"color\":\"#19d3f3\",\"size\":[71.66666666666667],\"sizemode\":\"area\",\"sizeref\":0.5575,\"symbol\":\"circle\"},\"mode\":\"markers\",\"name\":\"Steel\",\"orientation\":\"v\",\"showlegend\":true,\"x\":[96.66666666666667],\"xaxis\":\"x\",\"y\":[190.0],\"yaxis\":\"y\",\"type\":\"scatter\"},{\"hovertemplate\":\"<b>%{hovertext}</b><br><br>type_1=Water<br>generation=2<br>attack=%{x}<br>defense=%{y}<br>hp=%{marker.size}<extra></extra>\",\"hovertext\":[\"Water\"],\"ids\":[\"Water\"],\"legendgroup\":\"Water\",\"marker\":{\"color\":\"#FF6692\",\"size\":[78.05555555555556],\"sizemode\":\"area\",\"sizeref\":0.5575,\"symbol\":\"circle\"},\"mode\":\"markers\",\"name\":\"Water\",\"orientation\":\"v\",\"showlegend\":true,\"x\":[68.11111111111111],\"xaxis\":\"x\",\"y\":[73.61111111111111],\"yaxis\":\"y\",\"type\":\"scatter\"}],\"name\":\"2\"},{\"data\":[{\"hovertemplate\":\"<b>%{hovertext}</b><br><br>type_1=Bug<br>generation=3<br>attack=%{x}<br>defense=%{y}<br>hp=%{marker.size}<extra></extra>\",\"hovertext\":[\"Bug\"],\"ids\":[\"Bug\"],\"legendgroup\":\"Bug\",\"marker\":{\"color\":\"#636efa\",\"size\":[49.833333333333336],\"sizemode\":\"area\",\"sizeref\":0.5575,\"symbol\":\"circle\"},\"mode\":\"markers\",\"name\":\"Bug\",\"orientation\":\"v\",\"showlegend\":true,\"x\":[55.833333333333336],\"xaxis\":\"x\",\"y\":[57.416666666666664],\"yaxis\":\"y\",\"type\":\"scatter\"},{\"hovertemplate\":\"<b>%{hovertext}</b><br><br>type_1=Dark<br>generation=3<br>attack=%{x}<br>defense=%{y}<br>hp=%{marker.size}<extra></extra>\",\"hovertext\":[\"Dark\"],\"ids\":[\"Dark\"],\"legendgroup\":\"Dark\",\"marker\":{\"color\":\"#EF553B\",\"size\":[56.375],\"sizemode\":\"area\",\"sizeref\":0.5575,\"symbol\":\"circle\"},\"mode\":\"markers\",\"name\":\"Dark\",\"orientation\":\"v\",\"showlegend\":true,\"x\":[85.625],\"xaxis\":\"x\",\"y\":[65.875],\"yaxis\":\"y\",\"type\":\"scatter\"},{\"hovertemplate\":\"<b>%{hovertext}</b><br><br>type_1=Dragon<br>generation=3<br>attack=%{x}<br>defense=%{y}<br>hp=%{marker.size}<extra></extra>\",\"hovertext\":[\"Dragon\"],\"ids\":[\"Dragon\"],\"legendgroup\":\"Dragon\",\"marker\":{\"color\":\"#00cc96\",\"size\":[81.66666666666667],\"sizemode\":\"area\",\"sizeref\":0.5575,\"symbol\":\"circle\"},\"mode\":\"markers\",\"name\":\"Dragon\",\"orientation\":\"v\",\"showlegend\":true,\"x\":[113.33333333333333],\"xaxis\":\"x\",\"y\":[95.83333333333333],\"yaxis\":\"y\",\"type\":\"scatter\"},{\"hovertemplate\":\"<b>%{hovertext}</b><br><br>type_1=Electric<br>generation=3<br>attack=%{x}<br>defense=%{y}<br>hp=%{marker.size}<extra></extra>\",\"hovertext\":[\"Electric\"],\"ids\":[\"Electric\"],\"legendgroup\":\"Electric\",\"marker\":{\"color\":\"#ab63fa\",\"size\":[60.0],\"sizemode\":\"area\",\"sizeref\":0.5575,\"symbol\":\"circle\"},\"mode\":\"markers\",\"name\":\"Electric\",\"orientation\":\"v\",\"showlegend\":true,\"x\":[57.0],\"xaxis\":\"x\",\"y\":[54.0],\"yaxis\":\"y\",\"type\":\"scatter\"},{\"hovertemplate\":\"<b>%{hovertext}</b><br><br>type_1=Fighting<br>generation=3<br>attack=%{x}<br>defense=%{y}<br>hp=%{marker.size}<extra></extra>\",\"hovertext\":[\"Fighting\"],\"ids\":[\"Fighting\"],\"legendgroup\":\"Fighting\",\"marker\":{\"color\":\"#19d3f3\",\"size\":[73.2],\"sizemode\":\"area\",\"sizeref\":0.5575,\"symbol\":\"circle\"},\"mode\":\"markers\",\"name\":\"Fighting\",\"orientation\":\"v\",\"showlegend\":true,\"x\":[76.0],\"xaxis\":\"x\",\"y\":[61.0],\"yaxis\":\"y\",\"type\":\"scatter\"},{\"hovertemplate\":\"<b>%{hovertext}</b><br><br>type_1=Fire<br>generation=3<br>attack=%{x}<br>defense=%{y}<br>hp=%{marker.size}<extra></extra>\",\"hovertext\":[\"Fire\"],\"ids\":[\"Fire\"],\"legendgroup\":\"Fire\",\"marker\":{\"color\":\"#FF6692\",\"size\":[67.22222222222223],\"sizemode\":\"area\",\"sizeref\":0.5575,\"symbol\":\"circle\"},\"mode\":\"markers\",\"name\":\"Fire\",\"orientation\":\"v\",\"showlegend\":true,\"x\":[95.55555555555556],\"xaxis\":\"x\",\"y\":[74.44444444444444],\"yaxis\":\"y\",\"type\":\"scatter\"},{\"hovertemplate\":\"<b>%{hovertext}</b><br><br>type_1=Ghost<br>generation=3<br>attack=%{x}<br>defense=%{y}<br>hp=%{marker.size}<extra></extra>\",\"hovertext\":[\"Ghost\"],\"ids\":[\"Ghost\"],\"legendgroup\":\"Ghost\",\"marker\":{\"color\":\"#B6E880\",\"size\":[46.4],\"sizemode\":\"area\",\"sizeref\":0.5575,\"symbol\":\"circle\"},\"mode\":\"markers\",\"name\":\"Ghost\",\"orientation\":\"v\",\"showlegend\":true,\"x\":[93.0],\"xaxis\":\"x\",\"y\":[79.0],\"yaxis\":\"y\",\"type\":\"scatter\"},{\"hovertemplate\":\"<b>%{hovertext}</b><br><br>type_1=Grass<br>generation=3<br>attack=%{x}<br>defense=%{y}<br>hp=%{marker.size}<extra></extra>\",\"hovertext\":[\"Grass\"],\"ids\":[\"Grass\"],\"legendgroup\":\"Grass\",\"marker\":{\"color\":\"#FF97FF\",\"size\":[63.0],\"sizemode\":\"area\",\"sizeref\":0.5575,\"symbol\":\"circle\"},\"mode\":\"markers\",\"name\":\"Grass\",\"orientation\":\"v\",\"showlegend\":true,\"x\":[77.92307692307692],\"xaxis\":\"x\",\"y\":[56.76923076923077],\"yaxis\":\"y\",\"type\":\"scatter\"},{\"hovertemplate\":\"<b>%{hovertext}</b><br><br>type_1=Ground<br>generation=3<br>attack=%{x}<br>defense=%{y}<br>hp=%{marker.size}<extra></extra>\",\"hovertext\":[\"Ground\"],\"ids\":[\"Ground\"],\"legendgroup\":\"Ground\",\"marker\":{\"color\":\"#FECB52\",\"size\":[67.85714285714286],\"sizemode\":\"area\",\"sizeref\":0.5575,\"symbol\":\"circle\"},\"mode\":\"markers\",\"name\":\"Ground\",\"orientation\":\"v\",\"showlegend\":true,\"x\":[101.42857142857143],\"xaxis\":\"x\",\"y\":[90.71428571428571],\"yaxis\":\"y\",\"type\":\"scatter\"},{\"hovertemplate\":\"<b>%{hovertext}</b><br><br>type_1=Ice<br>generation=3<br>attack=%{x}<br>defense=%{y}<br>hp=%{marker.size}<extra></extra>\",\"hovertext\":[\"Ice\"],\"ids\":[\"Ice\"],\"legendgroup\":\"Ice\",\"marker\":{\"color\":\"#636efa\",\"size\":[78.75],\"sizemode\":\"area\",\"sizeref\":0.5575,\"symbol\":\"circle\"},\"mode\":\"markers\",\"name\":\"Ice\",\"orientation\":\"v\",\"showlegend\":true,\"x\":[68.75],\"xaxis\":\"x\",\"y\":[73.75],\"yaxis\":\"y\",\"type\":\"scatter\"},{\"hovertemplate\":\"<b>%{hovertext}</b><br><br>type_1=Normal<br>generation=3<br>attack=%{x}<br>defense=%{y}<br>hp=%{marker.size}<extra></extra>\",\"hovertext\":[\"Normal\"],\"ids\":[\"Normal\"],\"legendgroup\":\"Normal\",\"marker\":{\"color\":\"#EF553B\",\"size\":[68.66666666666667],\"sizemode\":\"area\",\"sizeref\":0.5575,\"symbol\":\"circle\"},\"mode\":\"markers\",\"name\":\"Normal\",\"orientation\":\"v\",\"showlegend\":true,\"x\":[69.88888888888889],\"xaxis\":\"x\",\"y\":[57.27777777777778],\"yaxis\":\"y\",\"type\":\"scatter\"},{\"hovertemplate\":\"<b>%{hovertext}</b><br><br>type_1=Poison<br>generation=3<br>attack=%{x}<br>defense=%{y}<br>hp=%{marker.size}<extra></extra>\",\"hovertext\":[\"Poison\"],\"ids\":[\"Poison\"],\"legendgroup\":\"Poison\",\"marker\":{\"color\":\"#00cc96\",\"size\":[81.0],\"sizemode\":\"area\",\"sizeref\":0.5575,\"symbol\":\"circle\"},\"mode\":\"markers\",\"name\":\"Poison\",\"orientation\":\"v\",\"showlegend\":true,\"x\":[72.0],\"xaxis\":\"x\",\"y\":[65.33333333333333],\"yaxis\":\"y\",\"type\":\"scatter\"},{\"hovertemplate\":\"<b>%{hovertext}</b><br><br>type_1=Psychic<br>generation=3<br>attack=%{x}<br>defense=%{y}<br>hp=%{marker.size}<extra></extra>\",\"hovertext\":[\"Psychic\"],\"ids\":[\"Psychic\"],\"legendgroup\":\"Psychic\",\"marker\":{\"color\":\"#ab63fa\",\"size\":[59.333333333333336],\"sizemode\":\"area\",\"sizeref\":0.5575,\"symbol\":\"circle\"},\"mode\":\"markers\",\"name\":\"Psychic\",\"orientation\":\"v\",\"showlegend\":true,\"x\":[70.66666666666667],\"xaxis\":\"x\",\"y\":[61.5],\"yaxis\":\"y\",\"type\":\"scatter\"},{\"hovertemplate\":\"<b>%{hovertext}</b><br><br>type_1=Rock<br>generation=3<br>attack=%{x}<br>defense=%{y}<br>hp=%{marker.size}<extra></extra>\",\"hovertext\":[\"Rock\"],\"ids\":[\"Rock\"],\"legendgroup\":\"Rock\",\"marker\":{\"color\":\"#FFA15A\",\"size\":[70.25],\"sizemode\":\"area\",\"sizeref\":0.5575,\"symbol\":\"circle\"},\"mode\":\"markers\",\"name\":\"Rock\",\"orientation\":\"v\",\"showlegend\":true,\"x\":[79.625],\"xaxis\":\"x\",\"y\":[101.125],\"yaxis\":\"y\",\"type\":\"scatter\"},{\"hovertemplate\":\"<b>%{hovertext}</b><br><br>type_1=Steel<br>generation=3<br>attack=%{x}<br>defense=%{y}<br>hp=%{marker.size}<extra></extra>\",\"hovertext\":[\"Steel\"],\"ids\":[\"Steel\"],\"legendgroup\":\"Steel\",\"marker\":{\"color\":\"#19d3f3\",\"size\":[65.83333333333333],\"sizemode\":\"area\",\"sizeref\":0.5575,\"symbol\":\"circle\"},\"mode\":\"markers\",\"name\":\"Steel\",\"orientation\":\"v\",\"showlegend\":true,\"x\":[98.75],\"xaxis\":\"x\",\"y\":[130.83333333333334],\"yaxis\":\"y\",\"type\":\"scatter\"},{\"hovertemplate\":\"<b>%{hovertext}</b><br><br>type_1=Water<br>generation=3<br>attack=%{x}<br>defense=%{y}<br>hp=%{marker.size}<extra></extra>\",\"hovertext\":[\"Water\"],\"ids\":[\"Water\"],\"legendgroup\":\"Water\",\"marker\":{\"color\":\"#FF6692\",\"size\":[72.28571428571429],\"sizemode\":\"area\",\"sizeref\":0.5575,\"symbol\":\"circle\"},\"mode\":\"markers\",\"name\":\"Water\",\"orientation\":\"v\",\"showlegend\":true,\"x\":[80.28571428571429],\"xaxis\":\"x\",\"y\":[68.03571428571429],\"yaxis\":\"y\",\"type\":\"scatter\"}],\"name\":\"3\"},{\"data\":[{\"hovertemplate\":\"<b>%{hovertext}</b><br><br>type_1=Bug<br>generation=4<br>attack=%{x}<br>defense=%{y}<br>hp=%{marker.size}<extra></extra>\",\"hovertext\":[\"Bug\"],\"ids\":[\"Bug\"],\"legendgroup\":\"Bug\",\"marker\":{\"color\":\"#636efa\",\"size\":[59.0],\"sizemode\":\"area\",\"sizeref\":0.5575,\"symbol\":\"circle\"},\"mode\":\"markers\",\"name\":\"Bug\",\"orientation\":\"v\",\"showlegend\":true,\"x\":[62.6],\"xaxis\":\"x\",\"y\":[70.2],\"yaxis\":\"y\",\"type\":\"scatter\"},{\"hovertemplate\":\"<b>%{hovertext}</b><br><br>type_1=Dark<br>generation=4<br>attack=%{x}<br>defense=%{y}<br>hp=%{marker.size}<extra></extra>\",\"hovertext\":[\"Dark\"],\"ids\":[\"Dark\"],\"legendgroup\":\"Dark\",\"marker\":{\"color\":\"#EF553B\",\"size\":[80.0],\"sizemode\":\"area\",\"sizeref\":0.5575,\"symbol\":\"circle\"},\"mode\":\"markers\",\"name\":\"Dark\",\"orientation\":\"v\",\"showlegend\":true,\"x\":[111.66666666666667],\"xaxis\":\"x\",\"y\":[69.0],\"yaxis\":\"y\",\"type\":\"scatter\"},{\"hovertemplate\":\"<b>%{hovertext}</b><br><br>type_1=Dragon<br>generation=4<br>attack=%{x}<br>defense=%{y}<br>hp=%{marker.size}<extra></extra>\",\"hovertext\":[\"Dragon\"],\"ids\":[\"Dragon\"],\"legendgroup\":\"Dragon\",\"marker\":{\"color\":\"#00cc96\",\"size\":[85.5],\"sizemode\":\"area\",\"sizeref\":0.5575,\"symbol\":\"circle\"},\"mode\":\"markers\",\"name\":\"Dragon\",\"orientation\":\"v\",\"showlegend\":true,\"x\":[115.0],\"xaxis\":\"x\",\"y\":[80.0],\"yaxis\":\"y\",\"type\":\"scatter\"},{\"hovertemplate\":\"<b>%{hovertext}</b><br><br>type_1=Electric<br>generation=4<br>attack=%{x}<br>defense=%{y}<br>hp=%{marker.size}<extra></extra>\",\"hovertext\":[\"Electric\"],\"ids\":[\"Electric\"],\"legendgroup\":\"Electric\",\"marker\":{\"color\":\"#ab63fa\",\"size\":[57.5],\"sizemode\":\"area\",\"sizeref\":0.5575,\"symbol\":\"circle\"},\"mode\":\"markers\",\"name\":\"Electric\",\"orientation\":\"v\",\"showlegend\":true,\"x\":[73.58333333333333],\"xaxis\":\"x\",\"y\":[85.5],\"yaxis\":\"y\",\"type\":\"scatter\"},{\"hovertemplate\":\"<b>%{hovertext}</b><br><br>type_1=Fairy<br>generation=4<br>attack=%{x}<br>defense=%{y}<br>hp=%{marker.size}<extra></extra>\",\"hovertext\":[\"Fairy\"],\"ids\":[\"Fairy\"],\"legendgroup\":\"Fairy\",\"marker\":{\"color\":\"#FFA15A\",\"size\":[85.0],\"sizemode\":\"area\",\"sizeref\":0.5575,\"symbol\":\"circle\"},\"mode\":\"markers\",\"name\":\"Fairy\",\"orientation\":\"v\",\"showlegend\":true,\"x\":[50.0],\"xaxis\":\"x\",\"y\":[95.0],\"yaxis\":\"y\",\"type\":\"scatter\"},{\"hovertemplate\":\"<b>%{hovertext}</b><br><br>type_1=Fighting<br>generation=4<br>attack=%{x}<br>defense=%{y}<br>hp=%{marker.size}<extra></extra>\",\"hovertext\":[\"Fighting\"],\"ids\":[\"Fighting\"],\"legendgroup\":\"Fighting\",\"marker\":{\"color\":\"#19d3f3\",\"size\":[60.0],\"sizemode\":\"area\",\"sizeref\":0.5575,\"symbol\":\"circle\"},\"mode\":\"markers\",\"name\":\"Fighting\",\"orientation\":\"v\",\"showlegend\":true,\"x\":[108.33333333333333],\"xaxis\":\"x\",\"y\":[66.0],\"yaxis\":\"y\",\"type\":\"scatter\"},{\"hovertemplate\":\"<b>%{hovertext}</b><br><br>type_1=Fire<br>generation=4<br>attack=%{x}<br>defense=%{y}<br>hp=%{marker.size}<extra></extra>\",\"hovertext\":[\"Fire\"],\"ids\":[\"Fire\"],\"legendgroup\":\"Fire\",\"marker\":{\"color\":\"#FF6692\",\"size\":[70.0],\"sizemode\":\"area\",\"sizeref\":0.5575,\"symbol\":\"circle\"},\"mode\":\"markers\",\"name\":\"Fire\",\"orientation\":\"v\",\"showlegend\":true,\"x\":[85.0],\"xaxis\":\"x\",\"y\":[68.0],\"yaxis\":\"y\",\"type\":\"scatter\"},{\"hovertemplate\":\"<b>%{hovertext}</b><br><br>type_1=Ghost<br>generation=4<br>attack=%{x}<br>defense=%{y}<br>hp=%{marker.size}<extra></extra>\",\"hovertext\":[\"Ghost\"],\"ids\":[\"Ghost\"],\"legendgroup\":\"Ghost\",\"marker\":{\"color\":\"#B6E880\",\"size\":[99.28571428571429],\"sizemode\":\"area\",\"sizeref\":0.5575,\"symbol\":\"circle\"},\"mode\":\"markers\",\"name\":\"Ghost\",\"orientation\":\"v\",\"showlegend\":true,\"x\":[86.0],\"xaxis\":\"x\",\"y\":[85.85714285714286],\"yaxis\":\"y\",\"type\":\"scatter\"},{\"hovertemplate\":\"<b>%{hovertext}</b><br><br>type_1=Grass<br>generation=4<br>attack=%{x}<br>defense=%{y}<br>hp=%{marker.size}<extra></extra>\",\"hovertext\":[\"Grass\"],\"ids\":[\"Grass\"],\"legendgroup\":\"Grass\",\"marker\":{\"color\":\"#FF97FF\",\"size\":[74.6],\"sizemode\":\"area\",\"sizeref\":0.5575,\"symbol\":\"circle\"},\"mode\":\"markers\",\"name\":\"Grass\",\"orientation\":\"v\",\"showlegend\":true,\"x\":[84.0],\"xaxis\":\"x\",\"y\":[80.06666666666666],\"yaxis\":\"y\",\"type\":\"scatter\"},{\"hovertemplate\":\"<b>%{hovertext}</b><br><br>type_1=Ground<br>generation=4<br>attack=%{x}<br>defense=%{y}<br>hp=%{marker.size}<extra></extra>\",\"hovertext\":[\"Ground\"],\"ids\":[\"Ground\"],\"legendgroup\":\"Ground\",\"marker\":{\"color\":\"#FECB52\",\"size\":[91.5],\"sizemode\":\"area\",\"sizeref\":0.5575,\"symbol\":\"circle\"},\"mode\":\"markers\",\"name\":\"Ground\",\"orientation\":\"v\",\"showlegend\":true,\"x\":[104.75],\"xaxis\":\"x\",\"y\":[112.75],\"yaxis\":\"y\",\"type\":\"scatter\"},{\"hovertemplate\":\"<b>%{hovertext}</b><br><br>type_1=Ice<br>generation=4<br>attack=%{x}<br>defense=%{y}<br>hp=%{marker.size}<extra></extra>\",\"hovertext\":[\"Ice\"],\"ids\":[\"Ice\"],\"legendgroup\":\"Ice\",\"marker\":{\"color\":\"#636efa\",\"size\":[81.66666666666667],\"sizemode\":\"area\",\"sizeref\":0.5575,\"symbol\":\"circle\"},\"mode\":\"markers\",\"name\":\"Ice\",\"orientation\":\"v\",\"showlegend\":true,\"x\":[90.0],\"xaxis\":\"x\",\"y\":[86.66666666666667],\"yaxis\":\"y\",\"type\":\"scatter\"},{\"hovertemplate\":\"<b>%{hovertext}</b><br><br>type_1=Normal<br>generation=4<br>attack=%{x}<br>defense=%{y}<br>hp=%{marker.size}<extra></extra>\",\"hovertext\":[\"Normal\"],\"ids\":[\"Normal\"],\"legendgroup\":\"Normal\",\"marker\":{\"color\":\"#EF553B\",\"size\":[79.66666666666667],\"sizemode\":\"area\",\"sizeref\":0.5575,\"symbol\":\"circle\"},\"mode\":\"markers\",\"name\":\"Normal\",\"orientation\":\"v\",\"showlegend\":true,\"x\":[83.05555555555556],\"xaxis\":\"x\",\"y\":[62.72222222222222],\"yaxis\":\"y\",\"type\":\"scatter\"},{\"hovertemplate\":\"<b>%{hovertext}</b><br><br>type_1=Poison<br>generation=4<br>attack=%{x}<br>defense=%{y}<br>hp=%{marker.size}<extra></extra>\",\"hovertext\":[\"Poison\"],\"ids\":[\"Poison\"],\"legendgroup\":\"Poison\",\"marker\":{\"color\":\"#00cc96\",\"size\":[67.83333333333333],\"sizemode\":\"area\",\"sizeref\":0.5575,\"symbol\":\"circle\"},\"mode\":\"markers\",\"name\":\"Poison\",\"orientation\":\"v\",\"showlegend\":true,\"x\":[77.16666666666667],\"xaxis\":\"x\",\"y\":[69.83333333333333],\"yaxis\":\"y\",\"type\":\"scatter\"},{\"hovertemplate\":\"<b>%{hovertext}</b><br><br>type_1=Psychic<br>generation=4<br>attack=%{x}<br>defense=%{y}<br>hp=%{marker.size}<extra></extra>\",\"hovertext\":[\"Psychic\"],\"ids\":[\"Psychic\"],\"legendgroup\":\"Psychic\",\"marker\":{\"color\":\"#ab63fa\",\"size\":[68.875],\"sizemode\":\"area\",\"sizeref\":0.5575,\"symbol\":\"circle\"},\"mode\":\"markers\",\"name\":\"Psychic\",\"orientation\":\"v\",\"showlegend\":true,\"x\":[90.0],\"xaxis\":\"x\",\"y\":[85.0],\"yaxis\":\"y\",\"type\":\"scatter\"},{\"hovertemplate\":\"<b>%{hovertext}</b><br><br>type_1=Rock<br>generation=4<br>attack=%{x}<br>defense=%{y}<br>hp=%{marker.size}<extra></extra>\",\"hovertext\":[\"Rock\"],\"ids\":[\"Rock\"],\"legendgroup\":\"Rock\",\"marker\":{\"color\":\"#FFA15A\",\"size\":[60.666666666666664],\"sizemode\":\"area\",\"sizeref\":0.5575,\"symbol\":\"circle\"},\"mode\":\"markers\",\"name\":\"Rock\",\"orientation\":\"v\",\"showlegend\":true,\"x\":[86.5],\"xaxis\":\"x\",\"y\":[104.33333333333333],\"yaxis\":\"y\",\"type\":\"scatter\"},{\"hovertemplate\":\"<b>%{hovertext}</b><br><br>type_1=Steel<br>generation=4<br>attack=%{x}<br>defense=%{y}<br>hp=%{marker.size}<extra></extra>\",\"hovertext\":[\"Steel\"],\"ids\":[\"Steel\"],\"legendgroup\":\"Steel\",\"marker\":{\"color\":\"#19d3f3\",\"size\":[74.66666666666667],\"sizemode\":\"area\",\"sizeref\":0.5575,\"symbol\":\"circle\"},\"mode\":\"markers\",\"name\":\"Steel\",\"orientation\":\"v\",\"showlegend\":true,\"x\":[77.66666666666667],\"xaxis\":\"x\",\"y\":[107.33333333333333],\"yaxis\":\"y\",\"type\":\"scatter\"},{\"hovertemplate\":\"<b>%{hovertext}</b><br><br>type_1=Water<br>generation=4<br>attack=%{x}<br>defense=%{y}<br>hp=%{marker.size}<extra></extra>\",\"hovertext\":[\"Water\"],\"ids\":[\"Water\"],\"legendgroup\":\"Water\",\"marker\":{\"color\":\"#FF6692\",\"size\":[73.92307692307692],\"sizemode\":\"area\",\"sizeref\":0.5575,\"symbol\":\"circle\"},\"mode\":\"markers\",\"name\":\"Water\",\"orientation\":\"v\",\"showlegend\":true,\"x\":[72.46153846153847],\"xaxis\":\"x\",\"y\":[67.46153846153847],\"yaxis\":\"y\",\"type\":\"scatter\"}],\"name\":\"4\"},{\"data\":[{\"hovertemplate\":\"<b>%{hovertext}</b><br><br>type_1=Bug<br>generation=5<br>attack=%{x}<br>defense=%{y}<br>hp=%{marker.size}<extra></extra>\",\"hovertext\":[\"Bug\"],\"ids\":[\"Bug\"],\"legendgroup\":\"Bug\",\"marker\":{\"color\":\"#636efa\",\"size\":[59.111111111111114],\"sizemode\":\"area\",\"sizeref\":0.5575,\"symbol\":\"circle\"},\"mode\":\"markers\",\"name\":\"Bug\",\"orientation\":\"v\",\"showlegend\":true,\"x\":[78.16666666666667],\"xaxis\":\"x\",\"y\":[78.27777777777777],\"yaxis\":\"y\",\"type\":\"scatter\"},{\"hovertemplate\":\"<b>%{hovertext}</b><br><br>type_1=Dark<br>generation=5<br>attack=%{x}<br>defense=%{y}<br>hp=%{marker.size}<extra></extra>\",\"hovertext\":[\"Dark\"],\"ids\":[\"Dark\"],\"legendgroup\":\"Dark\",\"marker\":{\"color\":\"#EF553B\",\"size\":[63.53846153846154],\"sizemode\":\"area\",\"sizeref\":0.5575,\"symbol\":\"circle\"},\"mode\":\"markers\",\"name\":\"Dark\",\"orientation\":\"v\",\"showlegend\":true,\"x\":[81.38461538461539],\"xaxis\":\"x\",\"y\":[71.6923076923077],\"yaxis\":\"y\",\"type\":\"scatter\"},{\"hovertemplate\":\"<b>%{hovertext}</b><br><br>type_1=Dragon<br>generation=5<br>attack=%{x}<br>defense=%{y}<br>hp=%{marker.size}<extra></extra>\",\"hovertext\":[\"Dragon\"],\"ids\":[\"Dragon\"],\"legendgroup\":\"Dragon\",\"marker\":{\"color\":\"#00cc96\",\"size\":[93.33333333333333],\"sizemode\":\"area\",\"sizeref\":0.5575,\"symbol\":\"circle\"},\"mode\":\"markers\",\"name\":\"Dragon\",\"orientation\":\"v\",\"showlegend\":true,\"x\":[129.0],\"xaxis\":\"x\",\"y\":[90.0],\"yaxis\":\"y\",\"type\":\"scatter\"},{\"hovertemplate\":\"<b>%{hovertext}</b><br><br>type_1=Electric<br>generation=5<br>attack=%{x}<br>defense=%{y}<br>hp=%{marker.size}<extra></extra>\",\"hovertext\":[\"Electric\"],\"ids\":[\"Electric\"],\"legendgroup\":\"Electric\",\"marker\":{\"color\":\"#ab63fa\",\"size\":[64.75],\"sizemode\":\"area\",\"sizeref\":0.5575,\"symbol\":\"circle\"},\"mode\":\"markers\",\"name\":\"Electric\",\"orientation\":\"v\",\"showlegend\":true,\"x\":[88.75],\"xaxis\":\"x\",\"y\":[60.625],\"yaxis\":\"y\",\"type\":\"scatter\"},{\"hovertemplate\":\"<b>%{hovertext}</b><br><br>type_1=Fighting<br>generation=5<br>attack=%{x}<br>defense=%{y}<br>hp=%{marker.size}<extra></extra>\",\"hovertext\":[\"Fighting\"],\"ids\":[\"Fighting\"],\"legendgroup\":\"Fighting\",\"marker\":{\"color\":\"#19d3f3\",\"size\":[81.42857142857143],\"sizemode\":\"area\",\"sizeref\":0.5575,\"symbol\":\"circle\"},\"mode\":\"markers\",\"name\":\"Fighting\",\"orientation\":\"v\",\"showlegend\":true,\"x\":[108.57142857142857],\"xaxis\":\"x\",\"y\":[72.14285714285714],\"yaxis\":\"y\",\"type\":\"scatter\"},{\"hovertemplate\":\"<b>%{hovertext}</b><br><br>type_1=Fire<br>generation=5<br>attack=%{x}<br>defense=%{y}<br>hp=%{marker.size}<extra></extra>\",\"hovertext\":[\"Fire\"],\"ids\":[\"Fire\"],\"legendgroup\":\"Fire\",\"marker\":{\"color\":\"#FF6692\",\"size\":[83.88888888888889],\"sizemode\":\"area\",\"sizeref\":0.5575,\"symbol\":\"circle\"},\"mode\":\"markers\",\"name\":\"Fire\",\"orientation\":\"v\",\"showlegend\":true,\"x\":[87.44444444444444],\"xaxis\":\"x\",\"y\":[60.77777777777778],\"yaxis\":\"y\",\"type\":\"scatter\"},{\"hovertemplate\":\"<b>%{hovertext}</b><br><br>type_1=Ghost<br>generation=5<br>attack=%{x}<br>defense=%{y}<br>hp=%{marker.size}<extra></extra>\",\"hovertext\":[\"Ghost\"],\"ids\":[\"Ghost\"],\"legendgroup\":\"Ghost\",\"marker\":{\"color\":\"#B6E880\",\"size\":[53.2],\"sizemode\":\"area\",\"sizeref\":0.5575,\"symbol\":\"circle\"},\"mode\":\"markers\",\"name\":\"Ghost\",\"orientation\":\"v\",\"showlegend\":true,\"x\":[41.0],\"xaxis\":\"x\",\"y\":[87.0],\"yaxis\":\"y\",\"type\":\"scatter\"},{\"hovertemplate\":\"<b>%{hovertext}</b><br><br>type_1=Grass<br>generation=5<br>attack=%{x}<br>defense=%{y}<br>hp=%{marker.size}<extra></extra>\",\"hovertext\":[\"Grass\"],\"ids\":[\"Grass\"],\"legendgroup\":\"Grass\",\"marker\":{\"color\":\"#FF97FF\",\"size\":[65.8],\"sizemode\":\"area\",\"sizeref\":0.5575,\"symbol\":\"circle\"},\"mode\":\"markers\",\"name\":\"Grass\",\"orientation\":\"v\",\"showlegend\":true,\"x\":[65.33333333333333],\"xaxis\":\"x\",\"y\":[72.13333333333334],\"yaxis\":\"y\",\"type\":\"scatter\"},{\"hovertemplate\":\"<b>%{hovertext}</b><br><br>type_1=Ground<br>generation=5<br>attack=%{x}<br>defense=%{y}<br>hp=%{marker.size}<extra></extra>\",\"hovertext\":[\"Ground\"],\"ids\":[\"Ground\"],\"legendgroup\":\"Ground\",\"marker\":{\"color\":\"#FECB52\",\"size\":[79.75],\"sizemode\":\"area\",\"sizeref\":0.5575,\"symbol\":\"circle\"},\"mode\":\"markers\",\"name\":\"Ground\",\"orientation\":\"v\",\"showlegend\":true,\"x\":[96.75],\"xaxis\":\"x\",\"y\":[69.83333333333333],\"yaxis\":\"y\",\"type\":\"scatter\"},{\"hovertemplate\":\"<b>%{hovertext}</b><br><br>type_1=Ice<br>generation=5<br>attack=%{x}<br>defense=%{y}<br>hp=%{marker.size}<extra></extra>\",\"hovertext\":[\"Ice\"],\"ids\":[\"Ice\"],\"legendgroup\":\"Ice\",\"marker\":{\"color\":\"#636efa\",\"size\":[74.22222222222223],\"sizemode\":\"area\",\"sizeref\":0.5575,\"symbol\":\"circle\"},\"mode\":\"markers\",\"name\":\"Ice\",\"orientation\":\"v\",\"showlegend\":true,\"x\":[94.44444444444444],\"xaxis\":\"x\",\"y\":[58.333333333333336],\"yaxis\":\"y\",\"type\":\"scatter\"},{\"hovertemplate\":\"<b>%{hovertext}</b><br><br>type_1=Normal<br>generation=5<br>attack=%{x}<br>defense=%{y}<br>hp=%{marker.size}<extra></extra>\",\"hovertext\":[\"Normal\"],\"ids\":[\"Normal\"],\"legendgroup\":\"Normal\",\"marker\":{\"color\":\"#EF553B\",\"size\":[75.42105263157895],\"sizemode\":\"area\",\"sizeref\":0.5575,\"symbol\":\"circle\"},\"mode\":\"markers\",\"name\":\"Normal\",\"orientation\":\"v\",\"showlegend\":true,\"x\":[83.3157894736842],\"xaxis\":\"x\",\"y\":[69.42105263157895],\"yaxis\":\"y\",\"type\":\"scatter\"},{\"hovertemplate\":\"<b>%{hovertext}</b><br><br>type_1=Poison<br>generation=5<br>attack=%{x}<br>defense=%{y}<br>hp=%{marker.size}<extra></extra>\",\"hovertext\":[\"Poison\"],\"ids\":[\"Poison\"],\"legendgroup\":\"Poison\",\"marker\":{\"color\":\"#00cc96\",\"size\":[65.0],\"sizemode\":\"area\",\"sizeref\":0.5575,\"symbol\":\"circle\"},\"mode\":\"markers\",\"name\":\"Poison\",\"orientation\":\"v\",\"showlegend\":true,\"x\":[72.5],\"xaxis\":\"x\",\"y\":[72.0],\"yaxis\":\"y\",\"type\":\"scatter\"},{\"hovertemplate\":\"<b>%{hovertext}</b><br><br>type_1=Psychic<br>generation=5<br>attack=%{x}<br>defense=%{y}<br>hp=%{marker.size}<extra></extra>\",\"hovertext\":[\"Psychic\"],\"ids\":[\"Psychic\"],\"legendgroup\":\"Psychic\",\"marker\":{\"color\":\"#ab63fa\",\"size\":[72.92857142857143],\"sizemode\":\"area\",\"sizeref\":0.5575,\"symbol\":\"circle\"},\"mode\":\"markers\",\"name\":\"Psychic\",\"orientation\":\"v\",\"showlegend\":true,\"x\":[52.5],\"xaxis\":\"x\",\"y\":[65.57142857142857],\"yaxis\":\"y\",\"type\":\"scatter\"},{\"hovertemplate\":\"<b>%{hovertext}</b><br><br>type_1=Rock<br>generation=5<br>attack=%{x}<br>defense=%{y}<br>hp=%{marker.size}<extra></extra>\",\"hovertext\":[\"Rock\"],\"ids\":[\"Rock\"],\"legendgroup\":\"Rock\",\"marker\":{\"color\":\"#FFA15A\",\"size\":[71.83333333333333],\"sizemode\":\"area\",\"sizeref\":0.5575,\"symbol\":\"circle\"},\"mode\":\"markers\",\"name\":\"Rock\",\"orientation\":\"v\",\"showlegend\":true,\"x\":[116.0],\"xaxis\":\"x\",\"y\":[86.66666666666667],\"yaxis\":\"y\",\"type\":\"scatter\"},{\"hovertemplate\":\"<b>%{hovertext}</b><br><br>type_1=Steel<br>generation=5<br>attack=%{x}<br>defense=%{y}<br>hp=%{marker.size}<extra></extra>\",\"hovertext\":[\"Steel\"],\"ids\":[\"Steel\"],\"legendgroup\":\"Steel\",\"marker\":{\"color\":\"#19d3f3\",\"size\":[62.75],\"sizemode\":\"area\",\"sizeref\":0.5575,\"symbol\":\"circle\"},\"mode\":\"markers\",\"name\":\"Steel\",\"orientation\":\"v\",\"showlegend\":true,\"x\":[81.25],\"xaxis\":\"x\",\"y\":[102.25],\"yaxis\":\"y\",\"type\":\"scatter\"},{\"hovertemplate\":\"<b>%{hovertext}</b><br><br>type_1=Water<br>generation=5<br>attack=%{x}<br>defense=%{y}<br>hp=%{marker.size}<extra></extra>\",\"hovertext\":[\"Water\"],\"ids\":[\"Water\"],\"legendgroup\":\"Water\",\"marker\":{\"color\":\"#FF6692\",\"size\":[78.26315789473684],\"sizemode\":\"area\",\"sizeref\":0.5575,\"symbol\":\"circle\"},\"mode\":\"markers\",\"name\":\"Water\",\"orientation\":\"v\",\"showlegend\":true,\"x\":[74.26315789473684],\"xaxis\":\"x\",\"y\":[70.0],\"yaxis\":\"y\",\"type\":\"scatter\"},{\"hovertemplate\":\"<b>%{hovertext}</b><br><br>type_1=Flying<br>generation=5<br>attack=%{x}<br>defense=%{y}<br>hp=%{marker.size}<extra></extra>\",\"hovertext\":[\"Flying\"],\"ids\":[\"Flying\"],\"legendgroup\":\"Flying\",\"marker\":{\"color\":\"#B6E880\",\"size\":[79.0],\"sizemode\":\"area\",\"sizeref\":0.5575,\"symbol\":\"circle\"},\"mode\":\"markers\",\"name\":\"Flying\",\"orientation\":\"v\",\"showlegend\":true,\"x\":[107.5],\"xaxis\":\"x\",\"y\":[75.0],\"yaxis\":\"y\",\"type\":\"scatter\"}],\"name\":\"5\"},{\"data\":[{\"hovertemplate\":\"<b>%{hovertext}</b><br><br>type_1=Bug<br>generation=6<br>attack=%{x}<br>defense=%{y}<br>hp=%{marker.size}<extra></extra>\",\"hovertext\":[\"Bug\"],\"ids\":[\"Bug\"],\"legendgroup\":\"Bug\",\"marker\":{\"color\":\"#636efa\",\"size\":[54.333333333333336],\"sizemode\":\"area\",\"sizeref\":0.5575,\"symbol\":\"circle\"},\"mode\":\"markers\",\"name\":\"Bug\",\"orientation\":\"v\",\"showlegend\":true,\"x\":[36.333333333333336],\"xaxis\":\"x\",\"y\":[50.0],\"yaxis\":\"y\",\"type\":\"scatter\"},{\"hovertemplate\":\"<b>%{hovertext}</b><br><br>type_1=Dark<br>generation=6<br>attack=%{x}<br>defense=%{y}<br>hp=%{marker.size}<extra></extra>\",\"hovertext\":[\"Dark\"],\"ids\":[\"Dark\"],\"legendgroup\":\"Dark\",\"marker\":{\"color\":\"#EF553B\",\"size\":[88.33333333333333],\"sizemode\":\"area\",\"sizeref\":0.5575,\"symbol\":\"circle\"},\"mode\":\"markers\",\"name\":\"Dark\",\"orientation\":\"v\",\"showlegend\":true,\"x\":[92.33333333333333],\"xaxis\":\"x\",\"y\":[78.66666666666667],\"yaxis\":\"y\",\"type\":\"scatter\"},{\"hovertemplate\":\"<b>%{hovertext}</b><br><br>type_1=Dragon<br>generation=6<br>attack=%{x}<br>defense=%{y}<br>hp=%{marker.size}<extra></extra>\",\"hovertext\":[\"Dragon\"],\"ids\":[\"Dragon\"],\"legendgroup\":\"Dragon\",\"marker\":{\"color\":\"#00cc96\",\"size\":[96.83333333333333],\"sizemode\":\"area\",\"sizeref\":0.5575,\"symbol\":\"circle\"},\"mode\":\"markers\",\"name\":\"Dragon\",\"orientation\":\"v\",\"showlegend\":true,\"x\":[87.5],\"xaxis\":\"x\",\"y\":[78.5],\"yaxis\":\"y\",\"type\":\"scatter\"},{\"hovertemplate\":\"<b>%{hovertext}</b><br><br>type_1=Electric<br>generation=6<br>attack=%{x}<br>defense=%{y}<br>hp=%{marker.size}<extra></extra>\",\"hovertext\":[\"Electric\"],\"ids\":[\"Electric\"],\"legendgroup\":\"Electric\",\"marker\":{\"color\":\"#ab63fa\",\"size\":[57.666666666666664],\"sizemode\":\"area\",\"sizeref\":0.5575,\"symbol\":\"circle\"},\"mode\":\"markers\",\"name\":\"Electric\",\"orientation\":\"v\",\"showlegend\":true,\"x\":[50.333333333333336],\"xaxis\":\"x\",\"y\":[47.333333333333336],\"yaxis\":\"y\",\"type\":\"scatter\"},{\"hovertemplate\":\"<b>%{hovertext}</b><br><br>type_1=Fairy<br>generation=6<br>attack=%{x}<br>defense=%{y}<br>hp=%{marker.size}<extra></extra>\",\"hovertext\":[\"Fairy\"],\"ids\":[\"Fairy\"],\"legendgroup\":\"Fairy\",\"marker\":{\"color\":\"#FFA15A\",\"size\":[80.0],\"sizemode\":\"area\",\"sizeref\":0.5575,\"symbol\":\"circle\"},\"mode\":\"markers\",\"name\":\"Fairy\",\"orientation\":\"v\",\"showlegend\":true,\"x\":[66.22222222222223],\"xaxis\":\"x\",\"y\":[66.44444444444444],\"yaxis\":\"y\",\"type\":\"scatter\"},{\"hovertemplate\":\"<b>%{hovertext}</b><br><br>type_1=Fighting<br>generation=6<br>attack=%{x}<br>defense=%{y}<br>hp=%{marker.size}<extra></extra>\",\"hovertext\":[\"Fighting\"],\"ids\":[\"Fighting\"],\"legendgroup\":\"Fighting\",\"marker\":{\"color\":\"#19d3f3\",\"size\":[80.0],\"sizemode\":\"area\",\"sizeref\":0.5575,\"symbol\":\"circle\"},\"mode\":\"markers\",\"name\":\"Fighting\",\"orientation\":\"v\",\"showlegend\":true,\"x\":[99.33333333333333],\"xaxis\":\"x\",\"y\":[71.66666666666667],\"yaxis\":\"y\",\"type\":\"scatter\"},{\"hovertemplate\":\"<b>%{hovertext}</b><br><br>type_1=Fire<br>generation=6<br>attack=%{x}<br>defense=%{y}<br>hp=%{marker.size}<extra></extra>\",\"hovertext\":[\"Fire\"],\"ids\":[\"Fire\"],\"legendgroup\":\"Fire\",\"marker\":{\"color\":\"#FF6692\",\"size\":[67.75],\"sizemode\":\"area\",\"sizeref\":0.5575,\"symbol\":\"circle\"},\"mode\":\"markers\",\"name\":\"Fire\",\"orientation\":\"v\",\"showlegend\":true,\"x\":[69.375],\"xaxis\":\"x\",\"y\":[68.25],\"yaxis\":\"y\",\"type\":\"scatter\"},{\"hovertemplate\":\"<b>%{hovertext}</b><br><br>type_1=Ghost<br>generation=6<br>attack=%{x}<br>defense=%{y}<br>hp=%{marker.size}<extra></extra>\",\"hovertext\":[\"Ghost\"],\"ids\":[\"Ghost\"],\"legendgroup\":\"Ghost\",\"marker\":{\"color\":\"#B6E880\",\"size\":[61.4],\"sizemode\":\"area\",\"sizeref\":0.5575,\"symbol\":\"circle\"},\"mode\":\"markers\",\"name\":\"Ghost\",\"orientation\":\"v\",\"showlegend\":true,\"x\":[81.4],\"xaxis\":\"x\",\"y\":[89.2],\"yaxis\":\"y\",\"type\":\"scatter\"},{\"hovertemplate\":\"<b>%{hovertext}</b><br><br>type_1=Grass<br>generation=6<br>attack=%{x}<br>defense=%{y}<br>hp=%{marker.size}<extra></extra>\",\"hovertext\":[\"Grass\"],\"ids\":[\"Grass\"],\"legendgroup\":\"Grass\",\"marker\":{\"color\":\"#FF97FF\",\"size\":[78.8],\"sizemode\":\"area\",\"sizeref\":0.5575,\"symbol\":\"circle\"},\"mode\":\"markers\",\"name\":\"Grass\",\"orientation\":\"v\",\"showlegend\":true,\"x\":[82.2],\"xaxis\":\"x\",\"y\":[78.4],\"yaxis\":\"y\",\"type\":\"scatter\"},{\"hovertemplate\":\"<b>%{hovertext}</b><br><br>type_1=Ice<br>generation=6<br>attack=%{x}<br>defense=%{y}<br>hp=%{marker.size}<extra></extra>\",\"hovertext\":[\"Ice\"],\"ids\":[\"Ice\"],\"legendgroup\":\"Ice\",\"marker\":{\"color\":\"#636efa\",\"size\":[75.0],\"sizemode\":\"area\",\"sizeref\":0.5575,\"symbol\":\"circle\"},\"mode\":\"markers\",\"name\":\"Ice\",\"orientation\":\"v\",\"showlegend\":true,\"x\":[93.0],\"xaxis\":\"x\",\"y\":[134.5],\"yaxis\":\"y\",\"type\":\"scatter\"},{\"hovertemplate\":\"<b>%{hovertext}</b><br><br>type_1=Normal<br>generation=6<br>attack=%{x}<br>defense=%{y}<br>hp=%{marker.size}<extra></extra>\",\"hovertext\":[\"Normal\"],\"ids\":[\"Normal\"],\"legendgroup\":\"Normal\",\"marker\":{\"color\":\"#EF553B\",\"size\":[60.75],\"sizemode\":\"area\",\"sizeref\":0.5575,\"symbol\":\"circle\"},\"mode\":\"markers\",\"name\":\"Normal\",\"orientation\":\"v\",\"showlegend\":true,\"x\":[55.5],\"xaxis\":\"x\",\"y\":[54.5],\"yaxis\":\"y\",\"type\":\"scatter\"},{\"hovertemplate\":\"<b>%{hovertext}</b><br><br>type_1=Poison<br>generation=6<br>attack=%{x}<br>defense=%{y}<br>hp=%{marker.size}<extra></extra>\",\"hovertext\":[\"Poison\"],\"ids\":[\"Poison\"],\"legendgroup\":\"Poison\",\"marker\":{\"color\":\"#00cc96\",\"size\":[57.5],\"sizemode\":\"area\",\"sizeref\":0.5575,\"symbol\":\"circle\"},\"mode\":\"markers\",\"name\":\"Poison\",\"orientation\":\"v\",\"showlegend\":true,\"x\":[67.5],\"xaxis\":\"x\",\"y\":[75.0],\"yaxis\":\"y\",\"type\":\"scatter\"},{\"hovertemplate\":\"<b>%{hovertext}</b><br><br>type_1=Psychic<br>generation=6<br>attack=%{x}<br>defense=%{y}<br>hp=%{marker.size}<extra></extra>\",\"hovertext\":[\"Psychic\"],\"ids\":[\"Psychic\"],\"legendgroup\":\"Psychic\",\"marker\":{\"color\":\"#ab63fa\",\"size\":[74.0],\"sizemode\":\"area\",\"sizeref\":0.5575,\"symbol\":\"circle\"},\"mode\":\"markers\",\"name\":\"Psychic\",\"orientation\":\"v\",\"showlegend\":true,\"x\":[82.8],\"xaxis\":\"x\",\"y\":[65.2],\"yaxis\":\"y\",\"type\":\"scatter\"},{\"hovertemplate\":\"<b>%{hovertext}</b><br><br>type_1=Rock<br>generation=6<br>attack=%{x}<br>defense=%{y}<br>hp=%{marker.size}<extra></extra>\",\"hovertext\":[\"Rock\"],\"ids\":[\"Rock\"],\"legendgroup\":\"Rock\",\"marker\":{\"color\":\"#FFA15A\",\"size\":[67.11111111111111],\"sizemode\":\"area\",\"sizeref\":0.5575,\"symbol\":\"circle\"},\"mode\":\"markers\",\"name\":\"Rock\",\"orientation\":\"v\",\"showlegend\":true,\"x\":[90.33333333333333],\"xaxis\":\"x\",\"y\":[101.11111111111111],\"yaxis\":\"y\",\"type\":\"scatter\"},{\"hovertemplate\":\"<b>%{hovertext}</b><br><br>type_1=Steel<br>generation=6<br>attack=%{x}<br>defense=%{y}<br>hp=%{marker.size}<extra></extra>\",\"hovertext\":[\"Steel\"],\"ids\":[\"Steel\"],\"legendgroup\":\"Steel\",\"marker\":{\"color\":\"#19d3f3\",\"size\":[56.2],\"sizemode\":\"area\",\"sizeref\":0.5575,\"symbol\":\"circle\"},\"mode\":\"markers\",\"name\":\"Steel\",\"orientation\":\"v\",\"showlegend\":true,\"x\":[94.0],\"xaxis\":\"x\",\"y\":[108.2],\"yaxis\":\"y\",\"type\":\"scatter\"},{\"hovertemplate\":\"<b>%{hovertext}</b><br><br>type_1=Water<br>generation=6<br>attack=%{x}<br>defense=%{y}<br>hp=%{marker.size}<extra></extra>\",\"hovertext\":[\"Water\"],\"ids\":[\"Water\"],\"legendgroup\":\"Water\",\"marker\":{\"color\":\"#FF6692\",\"size\":[60.0],\"sizemode\":\"area\",\"sizeref\":0.5575,\"symbol\":\"circle\"},\"mode\":\"markers\",\"name\":\"Water\",\"orientation\":\"v\",\"showlegend\":true,\"x\":[80.83333333333333],\"xaxis\":\"x\",\"y\":[62.666666666666664],\"yaxis\":\"y\",\"type\":\"scatter\"},{\"hovertemplate\":\"<b>%{hovertext}</b><br><br>type_1=Flying<br>generation=6<br>attack=%{x}<br>defense=%{y}<br>hp=%{marker.size}<extra></extra>\",\"hovertext\":[\"Flying\"],\"ids\":[\"Flying\"],\"legendgroup\":\"Flying\",\"marker\":{\"color\":\"#B6E880\",\"size\":[62.5],\"sizemode\":\"area\",\"sizeref\":0.5575,\"symbol\":\"circle\"},\"mode\":\"markers\",\"name\":\"Flying\",\"orientation\":\"v\",\"showlegend\":true,\"x\":[50.0],\"xaxis\":\"x\",\"y\":[57.5],\"yaxis\":\"y\",\"type\":\"scatter\"}],\"name\":\"6\"},{\"data\":[{\"hovertemplate\":\"<b>%{hovertext}</b><br><br>type_1=Bug<br>generation=7<br>attack=%{x}<br>defense=%{y}<br>hp=%{marker.size}<extra></extra>\",\"hovertext\":[\"Bug\"],\"ids\":[\"Bug\"],\"legendgroup\":\"Bug\",\"marker\":{\"color\":\"#636efa\",\"size\":[62.111111111111114],\"sizemode\":\"area\",\"sizeref\":0.5575,\"symbol\":\"circle\"},\"mode\":\"markers\",\"name\":\"Bug\",\"orientation\":\"v\",\"showlegend\":true,\"x\":[83.33333333333333],\"xaxis\":\"x\",\"y\":[76.22222222222223],\"yaxis\":\"y\",\"type\":\"scatter\"},{\"hovertemplate\":\"<b>%{hovertext}</b><br><br>type_1=Dark<br>generation=7<br>attack=%{x}<br>defense=%{y}<br>hp=%{marker.size}<extra></extra>\",\"hovertext\":[\"Dark\"],\"ids\":[\"Dark\"],\"legendgroup\":\"Dark\",\"marker\":{\"color\":\"#EF553B\",\"size\":[223.0],\"sizemode\":\"area\",\"sizeref\":0.5575,\"symbol\":\"circle\"},\"mode\":\"markers\",\"name\":\"Dark\",\"orientation\":\"v\",\"showlegend\":true,\"x\":[101.0],\"xaxis\":\"x\",\"y\":[53.0],\"yaxis\":\"y\",\"type\":\"scatter\"},{\"hovertemplate\":\"<b>%{hovertext}</b><br><br>type_1=Dragon<br>generation=7<br>attack=%{x}<br>defense=%{y}<br>hp=%{marker.size}<extra></extra>\",\"hovertext\":[\"Dragon\"],\"ids\":[\"Dragon\"],\"legendgroup\":\"Dragon\",\"marker\":{\"color\":\"#00cc96\",\"size\":[58.333333333333336],\"sizemode\":\"area\",\"sizeref\":0.5575,\"symbol\":\"circle\"},\"mode\":\"markers\",\"name\":\"Dragon\",\"orientation\":\"v\",\"showlegend\":true,\"x\":[80.0],\"xaxis\":\"x\",\"y\":[93.33333333333333],\"yaxis\":\"y\",\"type\":\"scatter\"},{\"hovertemplate\":\"<b>%{hovertext}</b><br><br>type_1=Electric<br>generation=7<br>attack=%{x}<br>defense=%{y}<br>hp=%{marker.size}<extra></extra>\",\"hovertext\":[\"Electric\"],\"ids\":[\"Electric\"],\"legendgroup\":\"Electric\",\"marker\":{\"color\":\"#ab63fa\",\"size\":[76.2],\"sizemode\":\"area\",\"sizeref\":0.5575,\"symbol\":\"circle\"},\"mode\":\"markers\",\"name\":\"Electric\",\"orientation\":\"v\",\"showlegend\":true,\"x\":[96.8],\"xaxis\":\"x\",\"y\":[72.8],\"yaxis\":\"y\",\"type\":\"scatter\"},{\"hovertemplate\":\"<b>%{hovertext}</b><br><br>type_1=Fairy<br>generation=7<br>attack=%{x}<br>defense=%{y}<br>hp=%{marker.size}<extra></extra>\",\"hovertext\":[\"Fairy\"],\"ids\":[\"Fairy\"],\"legendgroup\":\"Fairy\",\"marker\":{\"color\":\"#FFA15A\",\"size\":[51.0],\"sizemode\":\"area\",\"sizeref\":0.5575,\"symbol\":\"circle\"},\"mode\":\"markers\",\"name\":\"Fairy\",\"orientation\":\"v\",\"showlegend\":true,\"x\":[52.0],\"xaxis\":\"x\",\"y\":[90.0],\"yaxis\":\"y\",\"type\":\"scatter\"},{\"hovertemplate\":\"<b>%{hovertext}</b><br><br>type_1=Fighting<br>generation=7<br>attack=%{x}<br>defense=%{y}<br>hp=%{marker.size}<extra></extra>\",\"hovertext\":[\"Fighting\"],\"ids\":[\"Fighting\"],\"legendgroup\":\"Fighting\",\"marker\":{\"color\":\"#19d3f3\",\"size\":[83.5],\"sizemode\":\"area\",\"sizeref\":0.5575,\"symbol\":\"circle\"},\"mode\":\"markers\",\"name\":\"Fighting\",\"orientation\":\"v\",\"showlegend\":true,\"x\":[114.75],\"xaxis\":\"x\",\"y\":[76.0],\"yaxis\":\"y\",\"type\":\"scatter\"},{\"hovertemplate\":\"<b>%{hovertext}</b><br><br>type_1=Fire<br>generation=7<br>attack=%{x}<br>defense=%{y}<br>hp=%{marker.size}<extra></extra>\",\"hovertext\":[\"Fire\"],\"ids\":[\"Fire\"],\"legendgroup\":\"Fire\",\"marker\":{\"color\":\"#FF6692\",\"size\":[65.5],\"sizemode\":\"area\",\"sizeref\":0.5575,\"symbol\":\"circle\"},\"mode\":\"markers\",\"name\":\"Fire\",\"orientation\":\"v\",\"showlegend\":true,\"x\":[90.0],\"xaxis\":\"x\",\"y\":[73.0],\"yaxis\":\"y\",\"type\":\"scatter\"},{\"hovertemplate\":\"<b>%{hovertext}</b><br><br>type_1=Ghost<br>generation=7<br>attack=%{x}<br>defense=%{y}<br>hp=%{marker.size}<extra></extra>\",\"hovertext\":[\"Ghost\"],\"ids\":[\"Ghost\"],\"legendgroup\":\"Ghost\",\"marker\":{\"color\":\"#B6E880\",\"size\":[68.0],\"sizemode\":\"area\",\"sizeref\":0.5575,\"symbol\":\"circle\"},\"mode\":\"markers\",\"name\":\"Ghost\",\"orientation\":\"v\",\"showlegend\":true,\"x\":[84.2],\"xaxis\":\"x\",\"y\":[88.0],\"yaxis\":\"y\",\"type\":\"scatter\"},{\"hovertemplate\":\"<b>%{hovertext}</b><br><br>type_1=Grass<br>generation=7<br>attack=%{x}<br>defense=%{y}<br>hp=%{marker.size}<extra></extra>\",\"hovertext\":[\"Grass\"],\"ids\":[\"Grass\"],\"legendgroup\":\"Grass\",\"marker\":{\"color\":\"#FF97FF\",\"size\":[60.75],\"sizemode\":\"area\",\"sizeref\":0.5575,\"symbol\":\"circle\"},\"mode\":\"markers\",\"name\":\"Grass\",\"orientation\":\"v\",\"showlegend\":true,\"x\":[81.5],\"xaxis\":\"x\",\"y\":[74.58333333333333],\"yaxis\":\"y\",\"type\":\"scatter\"},{\"hovertemplate\":\"<b>%{hovertext}</b><br><br>type_1=Ground<br>generation=7<br>attack=%{x}<br>defense=%{y}<br>hp=%{marker.size}<extra></extra>\",\"hovertext\":[\"Ground\"],\"ids\":[\"Ground\"],\"legendgroup\":\"Ground\",\"marker\":{\"color\":\"#FECB52\",\"size\":[85.0],\"sizemode\":\"area\",\"sizeref\":0.5575,\"symbol\":\"circle\"},\"mode\":\"markers\",\"name\":\"Ground\",\"orientation\":\"v\",\"showlegend\":true,\"x\":[112.5],\"xaxis\":\"x\",\"y\":[85.0],\"yaxis\":\"y\",\"type\":\"scatter\"},{\"hovertemplate\":\"<b>%{hovertext}</b><br><br>type_1=Normal<br>generation=7<br>attack=%{x}<br>defense=%{y}<br>hp=%{marker.size}<extra></extra>\",\"hovertext\":[\"Normal\"],\"ids\":[\"Normal\"],\"legendgroup\":\"Normal\",\"marker\":{\"color\":\"#EF553B\",\"size\":[76.58333333333333],\"sizemode\":\"area\",\"sizeref\":0.5575,\"symbol\":\"circle\"},\"mode\":\"markers\",\"name\":\"Normal\",\"orientation\":\"v\",\"showlegend\":true,\"x\":[90.41666666666667],\"xaxis\":\"x\",\"y\":[66.25],\"yaxis\":\"y\",\"type\":\"scatter\"},{\"hovertemplate\":\"<b>%{hovertext}</b><br><br>type_1=Poison<br>generation=7<br>attack=%{x}<br>defense=%{y}<br>hp=%{marker.size}<extra></extra>\",\"hovertext\":[\"Poison\"],\"ids\":[\"Poison\"],\"legendgroup\":\"Poison\",\"marker\":{\"color\":\"#00cc96\",\"size\":[59.333333333333336],\"sizemode\":\"area\",\"sizeref\":0.5575,\"symbol\":\"circle\"},\"mode\":\"markers\",\"name\":\"Poison\",\"orientation\":\"v\",\"showlegend\":true,\"x\":[61.666666666666664],\"xaxis\":\"x\",\"y\":[75.66666666666667],\"yaxis\":\"y\",\"type\":\"scatter\"},{\"hovertemplate\":\"<b>%{hovertext}</b><br><br>type_1=Psychic<br>generation=7<br>attack=%{x}<br>defense=%{y}<br>hp=%{marker.size}<extra></extra>\",\"hovertext\":[\"Psychic\"],\"ids\":[\"Psychic\"],\"legendgroup\":\"Psychic\",\"marker\":{\"color\":\"#ab63fa\",\"size\":[89.3],\"sizemode\":\"area\",\"sizeref\":0.5575,\"symbol\":\"circle\"},\"mode\":\"markers\",\"name\":\"Psychic\",\"orientation\":\"v\",\"showlegend\":true,\"x\":[100.7],\"xaxis\":\"x\",\"y\":[93.7],\"yaxis\":\"y\",\"type\":\"scatter\"},{\"hovertemplate\":\"<b>%{hovertext}</b><br><br>type_1=Rock<br>generation=7<br>attack=%{x}<br>defense=%{y}<br>hp=%{marker.size}<extra></extra>\",\"hovertext\":[\"Rock\"],\"ids\":[\"Rock\"],\"legendgroup\":\"Rock\",\"marker\":{\"color\":\"#FFA15A\",\"size\":[68.33333333333333],\"sizemode\":\"area\",\"sizeref\":0.5575,\"symbol\":\"circle\"},\"mode\":\"markers\",\"name\":\"Rock\",\"orientation\":\"v\",\"showlegend\":true,\"x\":[91.22222222222223],\"xaxis\":\"x\",\"y\":[78.11111111111111],\"yaxis\":\"y\",\"type\":\"scatter\"},{\"hovertemplate\":\"<b>%{hovertext}</b><br><br>type_1=Steel<br>generation=7<br>attack=%{x}<br>defense=%{y}<br>hp=%{marker.size}<extra></extra>\",\"hovertext\":[\"Steel\"],\"ids\":[\"Steel\"],\"legendgroup\":\"Steel\",\"marker\":{\"color\":\"#19d3f3\",\"size\":[89.5],\"sizemode\":\"area\",\"sizeref\":0.5575,\"symbol\":\"circle\"},\"mode\":\"markers\",\"name\":\"Steel\",\"orientation\":\"v\",\"showlegend\":true,\"x\":[101.0],\"xaxis\":\"x\",\"y\":[106.5],\"yaxis\":\"y\",\"type\":\"scatter\"},{\"hovertemplate\":\"<b>%{hovertext}</b><br><br>type_1=Water<br>generation=7<br>attack=%{x}<br>defense=%{y}<br>hp=%{marker.size}<extra></extra>\",\"hovertext\":[\"Water\"],\"ids\":[\"Water\"],\"legendgroup\":\"Water\",\"marker\":{\"color\":\"#FF6692\",\"size\":[57.9],\"sizemode\":\"area\",\"sizeref\":0.5575,\"symbol\":\"circle\"},\"mode\":\"markers\",\"name\":\"Water\",\"orientation\":\"v\",\"showlegend\":true,\"x\":[70.7],\"xaxis\":\"x\",\"y\":[80.6],\"yaxis\":\"y\",\"type\":\"scatter\"}],\"name\":\"7\"},{\"data\":[{\"hovertemplate\":\"<b>%{hovertext}</b><br><br>type_1=Bug<br>generation=8<br>attack=%{x}<br>defense=%{y}<br>hp=%{marker.size}<extra></extra>\",\"hovertext\":[\"Bug\"],\"ids\":[\"Bug\"],\"legendgroup\":\"Bug\",\"marker\":{\"color\":\"#636efa\",\"size\":[45.0],\"sizemode\":\"area\",\"sizeref\":0.5575,\"symbol\":\"circle\"},\"mode\":\"markers\",\"name\":\"Bug\",\"orientation\":\"v\",\"showlegend\":true,\"x\":[33.333333333333336],\"xaxis\":\"x\",\"y\":[70.0],\"yaxis\":\"y\",\"type\":\"scatter\"},{\"hovertemplate\":\"<b>%{hovertext}</b><br><br>type_1=Dark<br>generation=8<br>attack=%{x}<br>defense=%{y}<br>hp=%{marker.size}<extra></extra>\",\"hovertext\":[\"Dark\"],\"ids\":[\"Dark\"],\"legendgroup\":\"Dark\",\"marker\":{\"color\":\"#EF553B\",\"size\":[75.375],\"sizemode\":\"area\",\"sizeref\":0.5575,\"symbol\":\"circle\"},\"mode\":\"markers\",\"name\":\"Dark\",\"orientation\":\"v\",\"showlegend\":true,\"x\":[75.75],\"xaxis\":\"x\",\"y\":[65.25],\"yaxis\":\"y\",\"type\":\"scatter\"},{\"hovertemplate\":\"<b>%{hovertext}</b><br><br>type_1=Dragon<br>generation=8<br>attack=%{x}<br>defense=%{y}<br>hp=%{marker.size}<extra></extra>\",\"hovertext\":[\"Dragon\"],\"ids\":[\"Dragon\"],\"legendgroup\":\"Dragon\",\"marker\":{\"color\":\"#00cc96\",\"size\":[96.0],\"sizemode\":\"area\",\"sizeref\":0.5575,\"symbol\":\"circle\"},\"mode\":\"markers\",\"name\":\"Dragon\",\"orientation\":\"v\",\"showlegend\":true,\"x\":[90.0],\"xaxis\":\"x\",\"y\":[51.25],\"yaxis\":\"y\",\"type\":\"scatter\"},{\"hovertemplate\":\"<b>%{hovertext}</b><br><br>type_1=Electric<br>generation=8<br>attack=%{x}<br>defense=%{y}<br>hp=%{marker.size}<extra></extra>\",\"hovertext\":[\"Electric\"],\"ids\":[\"Electric\"],\"legendgroup\":\"Electric\",\"marker\":{\"color\":\"#ab63fa\",\"size\":[67.45454545454545],\"sizemode\":\"area\",\"sizeref\":0.5575,\"symbol\":\"circle\"},\"mode\":\"markers\",\"name\":\"Electric\",\"orientation\":\"v\",\"showlegend\":true,\"x\":[87.27272727272727],\"xaxis\":\"x\",\"y\":[66.0],\"yaxis\":\"y\",\"type\":\"scatter\"},{\"hovertemplate\":\"<b>%{hovertext}</b><br><br>type_1=Fairy<br>generation=8<br>attack=%{x}<br>defense=%{y}<br>hp=%{marker.size}<extra></extra>\",\"hovertext\":[\"Fairy\"],\"ids\":[\"Fairy\"],\"legendgroup\":\"Fairy\",\"marker\":{\"color\":\"#FFA15A\",\"size\":[73.5],\"sizemode\":\"area\",\"sizeref\":0.5575,\"symbol\":\"circle\"},\"mode\":\"markers\",\"name\":\"Fairy\",\"orientation\":\"v\",\"showlegend\":true,\"x\":[100.0],\"xaxis\":\"x\",\"y\":[86.25],\"yaxis\":\"y\",\"type\":\"scatter\"},{\"hovertemplate\":\"<b>%{hovertext}</b><br><br>type_1=Fighting<br>generation=8<br>attack=%{x}<br>defense=%{y}<br>hp=%{marker.size}<extra></extra>\",\"hovertext\":[\"Fighting\"],\"ids\":[\"Fighting\"],\"legendgroup\":\"Fighting\",\"marker\":{\"color\":\"#19d3f3\",\"size\":[79.1],\"sizemode\":\"area\",\"sizeref\":0.5575,\"symbol\":\"circle\"},\"mode\":\"markers\",\"name\":\"Fighting\",\"orientation\":\"v\",\"showlegend\":true,\"x\":[115.6],\"xaxis\":\"x\",\"y\":[95.5],\"yaxis\":\"y\",\"type\":\"scatter\"},{\"hovertemplate\":\"<b>%{hovertext}</b><br><br>type_1=Fire<br>generation=8<br>attack=%{x}<br>defense=%{y}<br>hp=%{marker.size}<extra></extra>\",\"hovertext\":[\"Fire\"],\"ids\":[\"Fire\"],\"legendgroup\":\"Fire\",\"marker\":{\"color\":\"#FF6692\",\"size\":[69.0],\"sizemode\":\"area\",\"sizeref\":0.5575,\"symbol\":\"circle\"},\"mode\":\"markers\",\"name\":\"Fire\",\"orientation\":\"v\",\"showlegend\":true,\"x\":[90.6],\"xaxis\":\"x\",\"y\":[57.0],\"yaxis\":\"y\",\"type\":\"scatter\"},{\"hovertemplate\":\"<b>%{hovertext}</b><br><br>type_1=Ghost<br>generation=8<br>attack=%{x}<br>defense=%{y}<br>hp=%{marker.size}<extra></extra>\",\"hovertext\":[\"Ghost\"],\"ids\":[\"Ghost\"],\"legendgroup\":\"Ghost\",\"marker\":{\"color\":\"#B6E880\",\"size\":[65.0],\"sizemode\":\"area\",\"sizeref\":0.5575,\"symbol\":\"circle\"},\"mode\":\"markers\",\"name\":\"Ghost\",\"orientation\":\"v\",\"showlegend\":true,\"x\":[67.5],\"xaxis\":\"x\",\"y\":[55.0],\"yaxis\":\"y\",\"type\":\"scatter\"},{\"hovertemplate\":\"<b>%{hovertext}</b><br><br>type_1=Grass<br>generation=8<br>attack=%{x}<br>defense=%{y}<br>hp=%{marker.size}<extra></extra>\",\"hovertext\":[\"Grass\"],\"ids\":[\"Grass\"],\"legendgroup\":\"Grass\",\"marker\":{\"color\":\"#FF97FF\",\"size\":[67.5],\"sizemode\":\"area\",\"sizeref\":0.5575,\"symbol\":\"circle\"},\"mode\":\"markers\",\"name\":\"Grass\",\"orientation\":\"v\",\"showlegend\":true,\"x\":[75.0],\"xaxis\":\"x\",\"y\":[75.0],\"yaxis\":\"y\",\"type\":\"scatter\"},{\"hovertemplate\":\"<b>%{hovertext}</b><br><br>type_1=Ground<br>generation=8<br>attack=%{x}<br>defense=%{y}<br>hp=%{marker.size}<extra></extra>\",\"hovertext\":[\"Ground\"],\"ids\":[\"Ground\"],\"legendgroup\":\"Ground\",\"marker\":{\"color\":\"#FECB52\",\"size\":[60.666666666666664],\"sizemode\":\"area\",\"sizeref\":0.5575,\"symbol\":\"circle\"},\"mode\":\"markers\",\"name\":\"Ground\",\"orientation\":\"v\",\"showlegend\":true,\"x\":[86.33333333333333],\"xaxis\":\"x\",\"y\":[115.0],\"yaxis\":\"y\",\"type\":\"scatter\"},{\"hovertemplate\":\"<b>%{hovertext}</b><br><br>type_1=Ice<br>generation=8<br>attack=%{x}<br>defense=%{y}<br>hp=%{marker.size}<extra></extra>\",\"hovertext\":[\"Ice\"],\"ids\":[\"Ice\"],\"legendgroup\":\"Ice\",\"marker\":{\"color\":\"#636efa\",\"size\":[70.0],\"sizemode\":\"area\",\"sizeref\":0.5575,\"symbol\":\"circle\"},\"mode\":\"markers\",\"name\":\"Ice\",\"orientation\":\"v\",\"showlegend\":true,\"x\":[79.0],\"xaxis\":\"x\",\"y\":[81.0],\"yaxis\":\"y\",\"type\":\"scatter\"},{\"hovertemplate\":\"<b>%{hovertext}</b><br><br>type_1=Normal<br>generation=8<br>attack=%{x}<br>defense=%{y}<br>hp=%{marker.size}<extra></extra>\",\"hovertext\":[\"Normal\"],\"ids\":[\"Normal\"],\"legendgroup\":\"Normal\",\"marker\":{\"color\":\"#EF553B\",\"size\":[76.0],\"sizemode\":\"area\",\"sizeref\":0.5575,\"symbol\":\"circle\"},\"mode\":\"markers\",\"name\":\"Normal\",\"orientation\":\"v\",\"showlegend\":true,\"x\":[67.5],\"xaxis\":\"x\",\"y\":[76.25],\"yaxis\":\"y\",\"type\":\"scatter\"},{\"hovertemplate\":\"<b>%{hovertext}</b><br><br>type_1=Poison<br>generation=8<br>attack=%{x}<br>defense=%{y}<br>hp=%{marker.size}<extra></extra>\",\"hovertext\":[\"Poison\"],\"ids\":[\"Poison\"],\"legendgroup\":\"Poison\",\"marker\":{\"color\":\"#00cc96\",\"size\":[146.25],\"sizemode\":\"area\",\"sizeref\":0.5575,\"symbol\":\"circle\"},\"mode\":\"markers\",\"name\":\"Poison\",\"orientation\":\"v\",\"showlegend\":true,\"x\":[91.25],\"xaxis\":\"x\",\"y\":[130.0],\"yaxis\":\"y\",\"type\":\"scatter\"},{\"hovertemplate\":\"<b>%{hovertext}</b><br><br>type_1=Psychic<br>generation=8<br>attack=%{x}<br>defense=%{y}<br>hp=%{marker.size}<extra></extra>\",\"hovertext\":[\"Psychic\"],\"ids\":[\"Psychic\"],\"legendgroup\":\"Psychic\",\"marker\":{\"color\":\"#ab63fa\",\"size\":[76.9090909090909],\"sizemode\":\"area\",\"sizeref\":0.5575,\"symbol\":\"circle\"},\"mode\":\"markers\",\"name\":\"Psychic\",\"orientation\":\"v\",\"showlegend\":true,\"x\":[76.81818181818181],\"xaxis\":\"x\",\"y\":[78.18181818181819],\"yaxis\":\"y\",\"type\":\"scatter\"},{\"hovertemplate\":\"<b>%{hovertext}</b><br><br>type_1=Rock<br>generation=8<br>attack=%{x}<br>defense=%{y}<br>hp=%{marker.size}<extra></extra>\",\"hovertext\":[\"Rock\"],\"ids\":[\"Rock\"],\"legendgroup\":\"Rock\",\"marker\":{\"color\":\"#FFA15A\",\"size\":[80.0],\"sizemode\":\"area\",\"sizeref\":0.5575,\"symbol\":\"circle\"},\"mode\":\"markers\",\"name\":\"Rock\",\"orientation\":\"v\",\"showlegend\":true,\"x\":[76.25],\"xaxis\":\"x\",\"y\":[98.75],\"yaxis\":\"y\",\"type\":\"scatter\"},{\"hovertemplate\":\"<b>%{hovertext}</b><br><br>type_1=Steel<br>generation=8<br>attack=%{x}<br>defense=%{y}<br>hp=%{marker.size}<extra></extra>\",\"hovertext\":[\"Steel\"],\"ids\":[\"Steel\"],\"legendgroup\":\"Steel\",\"marker\":{\"color\":\"#19d3f3\",\"size\":[83.5],\"sizemode\":\"area\",\"sizeref\":0.5575,\"symbol\":\"circle\"},\"mode\":\"markers\",\"name\":\"Steel\",\"orientation\":\"v\",\"showlegend\":true,\"x\":[103.75],\"xaxis\":\"x\",\"y\":[83.25],\"yaxis\":\"y\",\"type\":\"scatter\"},{\"hovertemplate\":\"<b>%{hovertext}</b><br><br>type_1=Water<br>generation=8<br>attack=%{x}<br>defense=%{y}<br>hp=%{marker.size}<extra></extra>\",\"hovertext\":[\"Water\"],\"ids\":[\"Water\"],\"legendgroup\":\"Water\",\"marker\":{\"color\":\"#FF6692\",\"size\":[67.44444444444444],\"sizemode\":\"area\",\"sizeref\":0.5575,\"symbol\":\"circle\"},\"mode\":\"markers\",\"name\":\"Water\",\"orientation\":\"v\",\"showlegend\":true,\"x\":[81.11111111111111],\"xaxis\":\"x\",\"y\":[66.66666666666667],\"yaxis\":\"y\",\"type\":\"scatter\"},{\"hovertemplate\":\"<b>%{hovertext}</b><br><br>type_1=Flying<br>generation=8<br>attack=%{x}<br>defense=%{y}<br>hp=%{marker.size}<extra></extra>\",\"hovertext\":[\"Flying\"],\"ids\":[\"Flying\"],\"legendgroup\":\"Flying\",\"marker\":{\"color\":\"#B6E880\",\"size\":[68.5],\"sizemode\":\"area\",\"sizeref\":0.5575,\"symbol\":\"circle\"},\"mode\":\"markers\",\"name\":\"Flying\",\"orientation\":\"v\",\"showlegend\":true,\"x\":[71.5],\"xaxis\":\"x\",\"y\":[62.5],\"yaxis\":\"y\",\"type\":\"scatter\"}],\"name\":\"8\"}]);\n                        }).then(function(){\n                            \nvar gd = document.getElementById('bf11fbb2-b4f9-4b57-8a04-ef4aa10f53f3');\nvar x = new MutationObserver(function (mutations, observer) {{\n        var display = window.getComputedStyle(gd).display;\n        if (!display || display === 'none') {{\n            console.log([gd, 'removed!']);\n            Plotly.purge(gd);\n            observer.disconnect();\n        }}\n}});\n\n// Listen for the removal of the full notebook cells\nvar notebookContainer = gd.closest('#notebook-container');\nif (notebookContainer) {{\n    x.observe(notebookContainer, {childList: true});\n}}\n\n// Listen for the clearing of the current output cell\nvar outputEl = gd.closest('.output');\nif (outputEl) {{\n    x.observe(outputEl, {childList: true});\n}}\n\n                        })                };                });            </script>        </div>"
     },
     "metadata": {},
     "output_type": "display_data"
    }
   ],
   "source": [
    "px.scatter(pokedexByGeneration, x=\"attack\", y=\"defense\", animation_frame=\"generation\",\n",
    "           animation_group=\"type_1\",\n",
    "           size=\"hp\", color=\"type_1\", hover_name=\"type_1\",\n",
    "           log_x=True, range_x=[30, 150], range_y=[30, 200])"
   ],
   "metadata": {
    "collapsed": false,
    "ExecuteTime": {
     "end_time": "2024-04-24T00:31:52.218454400Z",
     "start_time": "2024-04-24T00:31:49.842471600Z"
    }
   },
   "id": "1b863c21c6dea6d5"
  },
  {
   "cell_type": "code",
   "execution_count": 24,
   "outputs": [
    {
     "data": {
      "text/plain": "(42, 51)"
     },
     "execution_count": 24,
     "metadata": {},
     "output_type": "execute_result"
    }
   ],
   "source": [
    "legendaryPokemon = pokedex.loc[pokedex['status'] == 'Legendary']\n",
    "legendaryPokemon.shape"
   ],
   "metadata": {
    "collapsed": false,
    "ExecuteTime": {
     "end_time": "2024-04-24T00:31:52.261415100Z",
     "start_time": "2024-04-24T00:31:52.226433300Z"
    }
   },
   "id": "add89a4ffe4ef299"
  },
  {
   "cell_type": "code",
   "execution_count": 25,
   "outputs": [
    {
     "data": {
      "text/plain": "count     42.000000\nmean     124.619048\nstd       35.352547\nmin       29.000000\n25%      101.750000\n50%      125.000000\n75%      150.000000\nmax      190.000000\nName: attack, dtype: float64"
     },
     "execution_count": 25,
     "metadata": {},
     "output_type": "execute_result"
    }
   ],
   "source": [
    "legendaryPokemon.attack.describe()"
   ],
   "metadata": {
    "collapsed": false,
    "ExecuteTime": {
     "end_time": "2024-04-24T00:31:52.311031700Z",
     "start_time": "2024-04-24T00:31:52.239401800Z"
    }
   },
   "id": "271c1bad06d26428"
  },
  {
   "cell_type": "markdown",
   "source": [
    "# ¿Cuáles son de forma general las estadísticas de los Pokémon Legendarios en las diferentes generaciones?"
   ],
   "metadata": {
    "collapsed": false
   },
   "id": "57355215f5ad4f39"
  },
  {
   "cell_type": "code",
   "execution_count": 26,
   "outputs": [
    {
     "data": {
      "application/vnd.plotly.v1+json": {
       "data": [
        {
         "customdata": [
          [
           "Mewtwo",
           106,
           "Psychic"
          ],
          [
           "Mega Mewtwo X",
           106,
           "Psychic"
          ],
          [
           "Mega Mewtwo Y",
           106,
           "Psychic"
          ],
          [
           "Lugia",
           106,
           "Psychic"
          ],
          [
           "Ho-oh",
           106,
           "Fire"
          ],
          [
           "Kyogre",
           100,
           "Water"
          ],
          [
           "Primal Kyogre",
           100,
           "Water"
          ],
          [
           "Groudon",
           100,
           "Ground"
          ],
          [
           "Primal Groudon",
           100,
           "Ground"
          ],
          [
           "Rayquaza",
           105,
           "Dragon"
          ],
          [
           "Mega Rayquaza",
           105,
           "Dragon"
          ],
          [
           "Dialga",
           100,
           "Steel"
          ],
          [
           "Palkia",
           90,
           "Water"
          ],
          [
           "Giratina Altered Forme",
           150,
           "Ghost"
          ],
          [
           "Giratina Origin Forme",
           150,
           "Ghost"
          ],
          [
           "Reshiram",
           100,
           "Dragon"
          ],
          [
           "Zekrom",
           100,
           "Dragon"
          ],
          [
           "Kyurem",
           125,
           "Dragon"
          ],
          [
           "Black Kyurem",
           125,
           "Dragon"
          ],
          [
           "White Kyurem",
           125,
           "Dragon"
          ],
          [
           "Xerneas",
           126,
           "Fairy"
          ],
          [
           "Yveltal",
           126,
           "Dark"
          ],
          [
           "Zygarde 50% Forme",
           108,
           "Dragon"
          ],
          [
           "Zygarde 10% Forme",
           54,
           "Dragon"
          ],
          [
           "Zygarde Complete Forme",
           216,
           "Dragon"
          ],
          [
           "Cosmog",
           43,
           "Psychic"
          ],
          [
           "Cosmoem",
           43,
           "Psychic"
          ],
          [
           "Solgaleo",
           137,
           "Psychic"
          ],
          [
           "Lunala",
           137,
           "Psychic"
          ],
          [
           "Necrozma",
           97,
           "Psychic"
          ],
          [
           "Dusk Mane Necrozma",
           97,
           "Psychic"
          ],
          [
           "Dawn Wings Necrozma",
           97,
           "Psychic"
          ],
          [
           "Ultra Necrozma",
           97,
           "Psychic"
          ],
          [
           "Zacian Crowned Sword",
           92,
           "Fairy"
          ],
          [
           "Zacian Hero of Many Battles",
           92,
           "Fairy"
          ],
          [
           "Zamazenta Crowned Shield",
           92,
           "Fighting"
          ],
          [
           "Zamazenta Hero of Many Battles",
           92,
           "Fighting"
          ],
          [
           "Eternatus",
           140,
           "Poison"
          ],
          [
           "Eternatus Eternamax",
           255,
           "Poison"
          ],
          [
           "Calyrex",
           100,
           "Psychic"
          ],
          [
           "Calyrex Ice Rider",
           100,
           "Psychic"
          ],
          [
           "Calyrex Shadow Rider",
           100,
           "Psychic"
          ]
         ],
         "hovertemplate": "Attack=%{x}<br>Defense=%{y}<br>name=%{customdata[0]}<br>HP=%{customdata[1]}<br>type_1=%{customdata[2]}<br>Total Points=%{marker.color}<extra></extra>",
         "legendgroup": "",
         "marker": {
          "color": [
           680,
           780,
           780,
           680,
           680,
           670,
           770,
           670,
           770,
           680,
           780,
           680,
           680,
           680,
           680,
           680,
           680,
           660,
           700,
           700,
           680,
           680,
           600,
           486,
           708,
           200,
           400,
           680,
           680,
           600,
           680,
           680,
           754,
           720,
           670,
           720,
           670,
           690,
           1125,
           500,
           680,
           680
          ],
          "coloraxis": "coloraxis",
          "symbol": "circle",
          "line": {
           "color": "DarkSlateGrey",
           "width": 1
          }
         },
         "mode": "markers",
         "name": "",
         "orientation": "v",
         "showlegend": false,
         "x": [
          110,
          190,
          150,
          90,
          130,
          100,
          150,
          150,
          180,
          150,
          180,
          120,
          120,
          100,
          120,
          120,
          150,
          130,
          170,
          120,
          131,
          131,
          100,
          100,
          100,
          29,
          29,
          137,
          113,
          107,
          157,
          113,
          167,
          170,
          130,
          130,
          130,
          85,
          115,
          80,
          165,
          85
         ],
         "xaxis": "x",
         "y": [
          90,
          100,
          70,
          130,
          90,
          90,
          90,
          140,
          160,
          90,
          100,
          120,
          100,
          120,
          100,
          100,
          120,
          90,
          100,
          90,
          95,
          95,
          121,
          71,
          121,
          31,
          131,
          107,
          89,
          101,
          127,
          109,
          97,
          115,
          115,
          145,
          115,
          95,
          250,
          80,
          150,
          80
         ],
         "yaxis": "y",
         "type": "scatter",
         "textfont": {
          "size": 10
         },
         "textposition": "top center"
        }
       ],
       "layout": {
        "template": {
         "data": {
          "barpolar": [
           {
            "marker": {
             "line": {
              "color": "white",
              "width": 0.5
             },
             "pattern": {
              "fillmode": "overlay",
              "size": 10,
              "solidity": 0.2
             }
            },
            "type": "barpolar"
           }
          ],
          "bar": [
           {
            "error_x": {
             "color": "#2a3f5f"
            },
            "error_y": {
             "color": "#2a3f5f"
            },
            "marker": {
             "line": {
              "color": "white",
              "width": 0.5
             },
             "pattern": {
              "fillmode": "overlay",
              "size": 10,
              "solidity": 0.2
             }
            },
            "type": "bar"
           }
          ],
          "carpet": [
           {
            "aaxis": {
             "endlinecolor": "#2a3f5f",
             "gridcolor": "#C8D4E3",
             "linecolor": "#C8D4E3",
             "minorgridcolor": "#C8D4E3",
             "startlinecolor": "#2a3f5f"
            },
            "baxis": {
             "endlinecolor": "#2a3f5f",
             "gridcolor": "#C8D4E3",
             "linecolor": "#C8D4E3",
             "minorgridcolor": "#C8D4E3",
             "startlinecolor": "#2a3f5f"
            },
            "type": "carpet"
           }
          ],
          "choropleth": [
           {
            "colorbar": {
             "outlinewidth": 0,
             "ticks": ""
            },
            "type": "choropleth"
           }
          ],
          "contourcarpet": [
           {
            "colorbar": {
             "outlinewidth": 0,
             "ticks": ""
            },
            "type": "contourcarpet"
           }
          ],
          "contour": [
           {
            "colorbar": {
             "outlinewidth": 0,
             "ticks": ""
            },
            "colorscale": [
             [
              0.0,
              "#0d0887"
             ],
             [
              0.1111111111111111,
              "#46039f"
             ],
             [
              0.2222222222222222,
              "#7201a8"
             ],
             [
              0.3333333333333333,
              "#9c179e"
             ],
             [
              0.4444444444444444,
              "#bd3786"
             ],
             [
              0.5555555555555556,
              "#d8576b"
             ],
             [
              0.6666666666666666,
              "#ed7953"
             ],
             [
              0.7777777777777778,
              "#fb9f3a"
             ],
             [
              0.8888888888888888,
              "#fdca26"
             ],
             [
              1.0,
              "#f0f921"
             ]
            ],
            "type": "contour"
           }
          ],
          "heatmapgl": [
           {
            "colorbar": {
             "outlinewidth": 0,
             "ticks": ""
            },
            "colorscale": [
             [
              0.0,
              "#0d0887"
             ],
             [
              0.1111111111111111,
              "#46039f"
             ],
             [
              0.2222222222222222,
              "#7201a8"
             ],
             [
              0.3333333333333333,
              "#9c179e"
             ],
             [
              0.4444444444444444,
              "#bd3786"
             ],
             [
              0.5555555555555556,
              "#d8576b"
             ],
             [
              0.6666666666666666,
              "#ed7953"
             ],
             [
              0.7777777777777778,
              "#fb9f3a"
             ],
             [
              0.8888888888888888,
              "#fdca26"
             ],
             [
              1.0,
              "#f0f921"
             ]
            ],
            "type": "heatmapgl"
           }
          ],
          "heatmap": [
           {
            "colorbar": {
             "outlinewidth": 0,
             "ticks": ""
            },
            "colorscale": [
             [
              0.0,
              "#0d0887"
             ],
             [
              0.1111111111111111,
              "#46039f"
             ],
             [
              0.2222222222222222,
              "#7201a8"
             ],
             [
              0.3333333333333333,
              "#9c179e"
             ],
             [
              0.4444444444444444,
              "#bd3786"
             ],
             [
              0.5555555555555556,
              "#d8576b"
             ],
             [
              0.6666666666666666,
              "#ed7953"
             ],
             [
              0.7777777777777778,
              "#fb9f3a"
             ],
             [
              0.8888888888888888,
              "#fdca26"
             ],
             [
              1.0,
              "#f0f921"
             ]
            ],
            "type": "heatmap"
           }
          ],
          "histogram2dcontour": [
           {
            "colorbar": {
             "outlinewidth": 0,
             "ticks": ""
            },
            "colorscale": [
             [
              0.0,
              "#0d0887"
             ],
             [
              0.1111111111111111,
              "#46039f"
             ],
             [
              0.2222222222222222,
              "#7201a8"
             ],
             [
              0.3333333333333333,
              "#9c179e"
             ],
             [
              0.4444444444444444,
              "#bd3786"
             ],
             [
              0.5555555555555556,
              "#d8576b"
             ],
             [
              0.6666666666666666,
              "#ed7953"
             ],
             [
              0.7777777777777778,
              "#fb9f3a"
             ],
             [
              0.8888888888888888,
              "#fdca26"
             ],
             [
              1.0,
              "#f0f921"
             ]
            ],
            "type": "histogram2dcontour"
           }
          ],
          "histogram2d": [
           {
            "colorbar": {
             "outlinewidth": 0,
             "ticks": ""
            },
            "colorscale": [
             [
              0.0,
              "#0d0887"
             ],
             [
              0.1111111111111111,
              "#46039f"
             ],
             [
              0.2222222222222222,
              "#7201a8"
             ],
             [
              0.3333333333333333,
              "#9c179e"
             ],
             [
              0.4444444444444444,
              "#bd3786"
             ],
             [
              0.5555555555555556,
              "#d8576b"
             ],
             [
              0.6666666666666666,
              "#ed7953"
             ],
             [
              0.7777777777777778,
              "#fb9f3a"
             ],
             [
              0.8888888888888888,
              "#fdca26"
             ],
             [
              1.0,
              "#f0f921"
             ]
            ],
            "type": "histogram2d"
           }
          ],
          "histogram": [
           {
            "marker": {
             "pattern": {
              "fillmode": "overlay",
              "size": 10,
              "solidity": 0.2
             }
            },
            "type": "histogram"
           }
          ],
          "mesh3d": [
           {
            "colorbar": {
             "outlinewidth": 0,
             "ticks": ""
            },
            "type": "mesh3d"
           }
          ],
          "parcoords": [
           {
            "line": {
             "colorbar": {
              "outlinewidth": 0,
              "ticks": ""
             }
            },
            "type": "parcoords"
           }
          ],
          "pie": [
           {
            "automargin": true,
            "type": "pie"
           }
          ],
          "scatter3d": [
           {
            "line": {
             "colorbar": {
              "outlinewidth": 0,
              "ticks": ""
             }
            },
            "marker": {
             "colorbar": {
              "outlinewidth": 0,
              "ticks": ""
             }
            },
            "type": "scatter3d"
           }
          ],
          "scattercarpet": [
           {
            "marker": {
             "colorbar": {
              "outlinewidth": 0,
              "ticks": ""
             }
            },
            "type": "scattercarpet"
           }
          ],
          "scattergeo": [
           {
            "marker": {
             "colorbar": {
              "outlinewidth": 0,
              "ticks": ""
             }
            },
            "type": "scattergeo"
           }
          ],
          "scattergl": [
           {
            "marker": {
             "colorbar": {
              "outlinewidth": 0,
              "ticks": ""
             }
            },
            "type": "scattergl"
           }
          ],
          "scattermapbox": [
           {
            "marker": {
             "colorbar": {
              "outlinewidth": 0,
              "ticks": ""
             }
            },
            "type": "scattermapbox"
           }
          ],
          "scatterpolargl": [
           {
            "marker": {
             "colorbar": {
              "outlinewidth": 0,
              "ticks": ""
             }
            },
            "type": "scatterpolargl"
           }
          ],
          "scatterpolar": [
           {
            "marker": {
             "colorbar": {
              "outlinewidth": 0,
              "ticks": ""
             }
            },
            "type": "scatterpolar"
           }
          ],
          "scatter": [
           {
            "fillpattern": {
             "fillmode": "overlay",
             "size": 10,
             "solidity": 0.2
            },
            "type": "scatter"
           }
          ],
          "scatterternary": [
           {
            "marker": {
             "colorbar": {
              "outlinewidth": 0,
              "ticks": ""
             }
            },
            "type": "scatterternary"
           }
          ],
          "surface": [
           {
            "colorbar": {
             "outlinewidth": 0,
             "ticks": ""
            },
            "colorscale": [
             [
              0.0,
              "#0d0887"
             ],
             [
              0.1111111111111111,
              "#46039f"
             ],
             [
              0.2222222222222222,
              "#7201a8"
             ],
             [
              0.3333333333333333,
              "#9c179e"
             ],
             [
              0.4444444444444444,
              "#bd3786"
             ],
             [
              0.5555555555555556,
              "#d8576b"
             ],
             [
              0.6666666666666666,
              "#ed7953"
             ],
             [
              0.7777777777777778,
              "#fb9f3a"
             ],
             [
              0.8888888888888888,
              "#fdca26"
             ],
             [
              1.0,
              "#f0f921"
             ]
            ],
            "type": "surface"
           }
          ],
          "table": [
           {
            "cells": {
             "fill": {
              "color": "#EBF0F8"
             },
             "line": {
              "color": "white"
             }
            },
            "header": {
             "fill": {
              "color": "#C8D4E3"
             },
             "line": {
              "color": "white"
             }
            },
            "type": "table"
           }
          ]
         },
         "layout": {
          "annotationdefaults": {
           "arrowcolor": "#2a3f5f",
           "arrowhead": 0,
           "arrowwidth": 1
          },
          "autotypenumbers": "strict",
          "coloraxis": {
           "colorbar": {
            "outlinewidth": 0,
            "ticks": ""
           }
          },
          "colorscale": {
           "diverging": [
            [
             0,
             "#8e0152"
            ],
            [
             0.1,
             "#c51b7d"
            ],
            [
             0.2,
             "#de77ae"
            ],
            [
             0.3,
             "#f1b6da"
            ],
            [
             0.4,
             "#fde0ef"
            ],
            [
             0.5,
             "#f7f7f7"
            ],
            [
             0.6,
             "#e6f5d0"
            ],
            [
             0.7,
             "#b8e186"
            ],
            [
             0.8,
             "#7fbc41"
            ],
            [
             0.9,
             "#4d9221"
            ],
            [
             1,
             "#276419"
            ]
           ],
           "sequential": [
            [
             0.0,
             "#0d0887"
            ],
            [
             0.1111111111111111,
             "#46039f"
            ],
            [
             0.2222222222222222,
             "#7201a8"
            ],
            [
             0.3333333333333333,
             "#9c179e"
            ],
            [
             0.4444444444444444,
             "#bd3786"
            ],
            [
             0.5555555555555556,
             "#d8576b"
            ],
            [
             0.6666666666666666,
             "#ed7953"
            ],
            [
             0.7777777777777778,
             "#fb9f3a"
            ],
            [
             0.8888888888888888,
             "#fdca26"
            ],
            [
             1.0,
             "#f0f921"
            ]
           ],
           "sequentialminus": [
            [
             0.0,
             "#0d0887"
            ],
            [
             0.1111111111111111,
             "#46039f"
            ],
            [
             0.2222222222222222,
             "#7201a8"
            ],
            [
             0.3333333333333333,
             "#9c179e"
            ],
            [
             0.4444444444444444,
             "#bd3786"
            ],
            [
             0.5555555555555556,
             "#d8576b"
            ],
            [
             0.6666666666666666,
             "#ed7953"
            ],
            [
             0.7777777777777778,
             "#fb9f3a"
            ],
            [
             0.8888888888888888,
             "#fdca26"
            ],
            [
             1.0,
             "#f0f921"
            ]
           ]
          },
          "colorway": [
           "#636efa",
           "#EF553B",
           "#00cc96",
           "#ab63fa",
           "#FFA15A",
           "#19d3f3",
           "#FF6692",
           "#B6E880",
           "#FF97FF",
           "#FECB52"
          ],
          "font": {
           "color": "#2a3f5f"
          },
          "geo": {
           "bgcolor": "white",
           "lakecolor": "white",
           "landcolor": "white",
           "showlakes": true,
           "showland": true,
           "subunitcolor": "#C8D4E3"
          },
          "hoverlabel": {
           "align": "left"
          },
          "hovermode": "closest",
          "mapbox": {
           "style": "light"
          },
          "paper_bgcolor": "white",
          "plot_bgcolor": "white",
          "polar": {
           "angularaxis": {
            "gridcolor": "#EBF0F8",
            "linecolor": "#EBF0F8",
            "ticks": ""
           },
           "bgcolor": "white",
           "radialaxis": {
            "gridcolor": "#EBF0F8",
            "linecolor": "#EBF0F8",
            "ticks": ""
           }
          },
          "scene": {
           "xaxis": {
            "backgroundcolor": "white",
            "gridcolor": "#DFE8F3",
            "gridwidth": 2,
            "linecolor": "#EBF0F8",
            "showbackground": true,
            "ticks": "",
            "zerolinecolor": "#EBF0F8"
           },
           "yaxis": {
            "backgroundcolor": "white",
            "gridcolor": "#DFE8F3",
            "gridwidth": 2,
            "linecolor": "#EBF0F8",
            "showbackground": true,
            "ticks": "",
            "zerolinecolor": "#EBF0F8"
           },
           "zaxis": {
            "backgroundcolor": "white",
            "gridcolor": "#DFE8F3",
            "gridwidth": 2,
            "linecolor": "#EBF0F8",
            "showbackground": true,
            "ticks": "",
            "zerolinecolor": "#EBF0F8"
           }
          },
          "shapedefaults": {
           "line": {
            "color": "#2a3f5f"
           }
          },
          "ternary": {
           "aaxis": {
            "gridcolor": "#DFE8F3",
            "linecolor": "#A2B1C6",
            "ticks": ""
           },
           "baxis": {
            "gridcolor": "#DFE8F3",
            "linecolor": "#A2B1C6",
            "ticks": ""
           },
           "bgcolor": "white",
           "caxis": {
            "gridcolor": "#DFE8F3",
            "linecolor": "#A2B1C6",
            "ticks": ""
           }
          },
          "title": {
           "x": 0.05
          },
          "xaxis": {
           "automargin": true,
           "gridcolor": "#EBF0F8",
           "linecolor": "#EBF0F8",
           "ticks": "",
           "title": {
            "standoff": 15
           },
           "zerolinecolor": "#EBF0F8",
           "zerolinewidth": 2
          },
          "yaxis": {
           "automargin": true,
           "gridcolor": "#EBF0F8",
           "linecolor": "#EBF0F8",
           "ticks": "",
           "title": {
            "standoff": 15
           },
           "zerolinecolor": "#EBF0F8",
           "zerolinewidth": 2
          }
         }
        },
        "xaxis": {
         "anchor": "y",
         "domain": [
          0.0,
          1.0
         ],
         "title": {
          "text": "Attack"
         },
         "showgrid": true,
         "gridwidth": 0.5,
         "gridcolor": "LightGrey"
        },
        "yaxis": {
         "anchor": "x",
         "domain": [
          0.0,
          1.0
         ],
         "title": {
          "text": "Defense"
         },
         "showgrid": true,
         "gridwidth": 0.5,
         "gridcolor": "LightGrey"
        },
        "coloraxis": {
         "colorbar": {
          "title": {
           "text": "Total Points"
          }
         },
         "colorscale": [
          [
           0.0,
           "#0d0887"
          ],
          [
           0.1111111111111111,
           "#46039f"
          ],
          [
           0.2222222222222222,
           "#7201a8"
          ],
          [
           0.3333333333333333,
           "#9c179e"
          ],
          [
           0.4444444444444444,
           "#bd3786"
          ],
          [
           0.5555555555555556,
           "#d8576b"
          ],
          [
           0.6666666666666666,
           "#ed7953"
          ],
          [
           0.7777777777777778,
           "#fb9f3a"
          ],
          [
           0.8888888888888888,
           "#fdca26"
          ],
          [
           1.0,
           "#f0f921"
          ]
         ]
        },
        "legend": {
         "tracegroupgap": 0
        },
        "title": {
         "text": "Legendary Pokémon: Attack vs Defense"
        }
       },
       "config": {
        "plotlyServerURL": "https://plot.ly"
       }
      },
      "text/html": "<div>                            <div id=\"33e03a71-a7f0-4a33-aac8-fc5c00de8537\" class=\"plotly-graph-div\" style=\"height:525px; width:100%;\"></div>            <script type=\"text/javascript\">                require([\"plotly\"], function(Plotly) {                    window.PLOTLYENV=window.PLOTLYENV || {};                                    if (document.getElementById(\"33e03a71-a7f0-4a33-aac8-fc5c00de8537\")) {                    Plotly.newPlot(                        \"33e03a71-a7f0-4a33-aac8-fc5c00de8537\",                        [{\"customdata\":[[\"Mewtwo\",106,\"Psychic\"],[\"Mega Mewtwo X\",106,\"Psychic\"],[\"Mega Mewtwo Y\",106,\"Psychic\"],[\"Lugia\",106,\"Psychic\"],[\"Ho-oh\",106,\"Fire\"],[\"Kyogre\",100,\"Water\"],[\"Primal Kyogre\",100,\"Water\"],[\"Groudon\",100,\"Ground\"],[\"Primal Groudon\",100,\"Ground\"],[\"Rayquaza\",105,\"Dragon\"],[\"Mega Rayquaza\",105,\"Dragon\"],[\"Dialga\",100,\"Steel\"],[\"Palkia\",90,\"Water\"],[\"Giratina Altered Forme\",150,\"Ghost\"],[\"Giratina Origin Forme\",150,\"Ghost\"],[\"Reshiram\",100,\"Dragon\"],[\"Zekrom\",100,\"Dragon\"],[\"Kyurem\",125,\"Dragon\"],[\"Black Kyurem\",125,\"Dragon\"],[\"White Kyurem\",125,\"Dragon\"],[\"Xerneas\",126,\"Fairy\"],[\"Yveltal\",126,\"Dark\"],[\"Zygarde 50% Forme\",108,\"Dragon\"],[\"Zygarde 10% Forme\",54,\"Dragon\"],[\"Zygarde Complete Forme\",216,\"Dragon\"],[\"Cosmog\",43,\"Psychic\"],[\"Cosmoem\",43,\"Psychic\"],[\"Solgaleo\",137,\"Psychic\"],[\"Lunala\",137,\"Psychic\"],[\"Necrozma\",97,\"Psychic\"],[\"Dusk Mane Necrozma\",97,\"Psychic\"],[\"Dawn Wings Necrozma\",97,\"Psychic\"],[\"Ultra Necrozma\",97,\"Psychic\"],[\"Zacian Crowned Sword\",92,\"Fairy\"],[\"Zacian Hero of Many Battles\",92,\"Fairy\"],[\"Zamazenta Crowned Shield\",92,\"Fighting\"],[\"Zamazenta Hero of Many Battles\",92,\"Fighting\"],[\"Eternatus\",140,\"Poison\"],[\"Eternatus Eternamax\",255,\"Poison\"],[\"Calyrex\",100,\"Psychic\"],[\"Calyrex Ice Rider\",100,\"Psychic\"],[\"Calyrex Shadow Rider\",100,\"Psychic\"]],\"hovertemplate\":\"Attack=%{x}<br>Defense=%{y}<br>name=%{customdata[0]}<br>HP=%{customdata[1]}<br>type_1=%{customdata[2]}<br>Total Points=%{marker.color}<extra></extra>\",\"legendgroup\":\"\",\"marker\":{\"color\":[680,780,780,680,680,670,770,670,770,680,780,680,680,680,680,680,680,660,700,700,680,680,600,486,708,200,400,680,680,600,680,680,754,720,670,720,670,690,1125,500,680,680],\"coloraxis\":\"coloraxis\",\"symbol\":\"circle\",\"line\":{\"color\":\"DarkSlateGrey\",\"width\":1}},\"mode\":\"markers\",\"name\":\"\",\"orientation\":\"v\",\"showlegend\":false,\"x\":[110,190,150,90,130,100,150,150,180,150,180,120,120,100,120,120,150,130,170,120,131,131,100,100,100,29,29,137,113,107,157,113,167,170,130,130,130,85,115,80,165,85],\"xaxis\":\"x\",\"y\":[90,100,70,130,90,90,90,140,160,90,100,120,100,120,100,100,120,90,100,90,95,95,121,71,121,31,131,107,89,101,127,109,97,115,115,145,115,95,250,80,150,80],\"yaxis\":\"y\",\"type\":\"scatter\",\"textfont\":{\"size\":10},\"textposition\":\"top center\"}],                        {\"template\":{\"data\":{\"barpolar\":[{\"marker\":{\"line\":{\"color\":\"white\",\"width\":0.5},\"pattern\":{\"fillmode\":\"overlay\",\"size\":10,\"solidity\":0.2}},\"type\":\"barpolar\"}],\"bar\":[{\"error_x\":{\"color\":\"#2a3f5f\"},\"error_y\":{\"color\":\"#2a3f5f\"},\"marker\":{\"line\":{\"color\":\"white\",\"width\":0.5},\"pattern\":{\"fillmode\":\"overlay\",\"size\":10,\"solidity\":0.2}},\"type\":\"bar\"}],\"carpet\":[{\"aaxis\":{\"endlinecolor\":\"#2a3f5f\",\"gridcolor\":\"#C8D4E3\",\"linecolor\":\"#C8D4E3\",\"minorgridcolor\":\"#C8D4E3\",\"startlinecolor\":\"#2a3f5f\"},\"baxis\":{\"endlinecolor\":\"#2a3f5f\",\"gridcolor\":\"#C8D4E3\",\"linecolor\":\"#C8D4E3\",\"minorgridcolor\":\"#C8D4E3\",\"startlinecolor\":\"#2a3f5f\"},\"type\":\"carpet\"}],\"choropleth\":[{\"colorbar\":{\"outlinewidth\":0,\"ticks\":\"\"},\"type\":\"choropleth\"}],\"contourcarpet\":[{\"colorbar\":{\"outlinewidth\":0,\"ticks\":\"\"},\"type\":\"contourcarpet\"}],\"contour\":[{\"colorbar\":{\"outlinewidth\":0,\"ticks\":\"\"},\"colorscale\":[[0.0,\"#0d0887\"],[0.1111111111111111,\"#46039f\"],[0.2222222222222222,\"#7201a8\"],[0.3333333333333333,\"#9c179e\"],[0.4444444444444444,\"#bd3786\"],[0.5555555555555556,\"#d8576b\"],[0.6666666666666666,\"#ed7953\"],[0.7777777777777778,\"#fb9f3a\"],[0.8888888888888888,\"#fdca26\"],[1.0,\"#f0f921\"]],\"type\":\"contour\"}],\"heatmapgl\":[{\"colorbar\":{\"outlinewidth\":0,\"ticks\":\"\"},\"colorscale\":[[0.0,\"#0d0887\"],[0.1111111111111111,\"#46039f\"],[0.2222222222222222,\"#7201a8\"],[0.3333333333333333,\"#9c179e\"],[0.4444444444444444,\"#bd3786\"],[0.5555555555555556,\"#d8576b\"],[0.6666666666666666,\"#ed7953\"],[0.7777777777777778,\"#fb9f3a\"],[0.8888888888888888,\"#fdca26\"],[1.0,\"#f0f921\"]],\"type\":\"heatmapgl\"}],\"heatmap\":[{\"colorbar\":{\"outlinewidth\":0,\"ticks\":\"\"},\"colorscale\":[[0.0,\"#0d0887\"],[0.1111111111111111,\"#46039f\"],[0.2222222222222222,\"#7201a8\"],[0.3333333333333333,\"#9c179e\"],[0.4444444444444444,\"#bd3786\"],[0.5555555555555556,\"#d8576b\"],[0.6666666666666666,\"#ed7953\"],[0.7777777777777778,\"#fb9f3a\"],[0.8888888888888888,\"#fdca26\"],[1.0,\"#f0f921\"]],\"type\":\"heatmap\"}],\"histogram2dcontour\":[{\"colorbar\":{\"outlinewidth\":0,\"ticks\":\"\"},\"colorscale\":[[0.0,\"#0d0887\"],[0.1111111111111111,\"#46039f\"],[0.2222222222222222,\"#7201a8\"],[0.3333333333333333,\"#9c179e\"],[0.4444444444444444,\"#bd3786\"],[0.5555555555555556,\"#d8576b\"],[0.6666666666666666,\"#ed7953\"],[0.7777777777777778,\"#fb9f3a\"],[0.8888888888888888,\"#fdca26\"],[1.0,\"#f0f921\"]],\"type\":\"histogram2dcontour\"}],\"histogram2d\":[{\"colorbar\":{\"outlinewidth\":0,\"ticks\":\"\"},\"colorscale\":[[0.0,\"#0d0887\"],[0.1111111111111111,\"#46039f\"],[0.2222222222222222,\"#7201a8\"],[0.3333333333333333,\"#9c179e\"],[0.4444444444444444,\"#bd3786\"],[0.5555555555555556,\"#d8576b\"],[0.6666666666666666,\"#ed7953\"],[0.7777777777777778,\"#fb9f3a\"],[0.8888888888888888,\"#fdca26\"],[1.0,\"#f0f921\"]],\"type\":\"histogram2d\"}],\"histogram\":[{\"marker\":{\"pattern\":{\"fillmode\":\"overlay\",\"size\":10,\"solidity\":0.2}},\"type\":\"histogram\"}],\"mesh3d\":[{\"colorbar\":{\"outlinewidth\":0,\"ticks\":\"\"},\"type\":\"mesh3d\"}],\"parcoords\":[{\"line\":{\"colorbar\":{\"outlinewidth\":0,\"ticks\":\"\"}},\"type\":\"parcoords\"}],\"pie\":[{\"automargin\":true,\"type\":\"pie\"}],\"scatter3d\":[{\"line\":{\"colorbar\":{\"outlinewidth\":0,\"ticks\":\"\"}},\"marker\":{\"colorbar\":{\"outlinewidth\":0,\"ticks\":\"\"}},\"type\":\"scatter3d\"}],\"scattercarpet\":[{\"marker\":{\"colorbar\":{\"outlinewidth\":0,\"ticks\":\"\"}},\"type\":\"scattercarpet\"}],\"scattergeo\":[{\"marker\":{\"colorbar\":{\"outlinewidth\":0,\"ticks\":\"\"}},\"type\":\"scattergeo\"}],\"scattergl\":[{\"marker\":{\"colorbar\":{\"outlinewidth\":0,\"ticks\":\"\"}},\"type\":\"scattergl\"}],\"scattermapbox\":[{\"marker\":{\"colorbar\":{\"outlinewidth\":0,\"ticks\":\"\"}},\"type\":\"scattermapbox\"}],\"scatterpolargl\":[{\"marker\":{\"colorbar\":{\"outlinewidth\":0,\"ticks\":\"\"}},\"type\":\"scatterpolargl\"}],\"scatterpolar\":[{\"marker\":{\"colorbar\":{\"outlinewidth\":0,\"ticks\":\"\"}},\"type\":\"scatterpolar\"}],\"scatter\":[{\"fillpattern\":{\"fillmode\":\"overlay\",\"size\":10,\"solidity\":0.2},\"type\":\"scatter\"}],\"scatterternary\":[{\"marker\":{\"colorbar\":{\"outlinewidth\":0,\"ticks\":\"\"}},\"type\":\"scatterternary\"}],\"surface\":[{\"colorbar\":{\"outlinewidth\":0,\"ticks\":\"\"},\"colorscale\":[[0.0,\"#0d0887\"],[0.1111111111111111,\"#46039f\"],[0.2222222222222222,\"#7201a8\"],[0.3333333333333333,\"#9c179e\"],[0.4444444444444444,\"#bd3786\"],[0.5555555555555556,\"#d8576b\"],[0.6666666666666666,\"#ed7953\"],[0.7777777777777778,\"#fb9f3a\"],[0.8888888888888888,\"#fdca26\"],[1.0,\"#f0f921\"]],\"type\":\"surface\"}],\"table\":[{\"cells\":{\"fill\":{\"color\":\"#EBF0F8\"},\"line\":{\"color\":\"white\"}},\"header\":{\"fill\":{\"color\":\"#C8D4E3\"},\"line\":{\"color\":\"white\"}},\"type\":\"table\"}]},\"layout\":{\"annotationdefaults\":{\"arrowcolor\":\"#2a3f5f\",\"arrowhead\":0,\"arrowwidth\":1},\"autotypenumbers\":\"strict\",\"coloraxis\":{\"colorbar\":{\"outlinewidth\":0,\"ticks\":\"\"}},\"colorscale\":{\"diverging\":[[0,\"#8e0152\"],[0.1,\"#c51b7d\"],[0.2,\"#de77ae\"],[0.3,\"#f1b6da\"],[0.4,\"#fde0ef\"],[0.5,\"#f7f7f7\"],[0.6,\"#e6f5d0\"],[0.7,\"#b8e186\"],[0.8,\"#7fbc41\"],[0.9,\"#4d9221\"],[1,\"#276419\"]],\"sequential\":[[0.0,\"#0d0887\"],[0.1111111111111111,\"#46039f\"],[0.2222222222222222,\"#7201a8\"],[0.3333333333333333,\"#9c179e\"],[0.4444444444444444,\"#bd3786\"],[0.5555555555555556,\"#d8576b\"],[0.6666666666666666,\"#ed7953\"],[0.7777777777777778,\"#fb9f3a\"],[0.8888888888888888,\"#fdca26\"],[1.0,\"#f0f921\"]],\"sequentialminus\":[[0.0,\"#0d0887\"],[0.1111111111111111,\"#46039f\"],[0.2222222222222222,\"#7201a8\"],[0.3333333333333333,\"#9c179e\"],[0.4444444444444444,\"#bd3786\"],[0.5555555555555556,\"#d8576b\"],[0.6666666666666666,\"#ed7953\"],[0.7777777777777778,\"#fb9f3a\"],[0.8888888888888888,\"#fdca26\"],[1.0,\"#f0f921\"]]},\"colorway\":[\"#636efa\",\"#EF553B\",\"#00cc96\",\"#ab63fa\",\"#FFA15A\",\"#19d3f3\",\"#FF6692\",\"#B6E880\",\"#FF97FF\",\"#FECB52\"],\"font\":{\"color\":\"#2a3f5f\"},\"geo\":{\"bgcolor\":\"white\",\"lakecolor\":\"white\",\"landcolor\":\"white\",\"showlakes\":true,\"showland\":true,\"subunitcolor\":\"#C8D4E3\"},\"hoverlabel\":{\"align\":\"left\"},\"hovermode\":\"closest\",\"mapbox\":{\"style\":\"light\"},\"paper_bgcolor\":\"white\",\"plot_bgcolor\":\"white\",\"polar\":{\"angularaxis\":{\"gridcolor\":\"#EBF0F8\",\"linecolor\":\"#EBF0F8\",\"ticks\":\"\"},\"bgcolor\":\"white\",\"radialaxis\":{\"gridcolor\":\"#EBF0F8\",\"linecolor\":\"#EBF0F8\",\"ticks\":\"\"}},\"scene\":{\"xaxis\":{\"backgroundcolor\":\"white\",\"gridcolor\":\"#DFE8F3\",\"gridwidth\":2,\"linecolor\":\"#EBF0F8\",\"showbackground\":true,\"ticks\":\"\",\"zerolinecolor\":\"#EBF0F8\"},\"yaxis\":{\"backgroundcolor\":\"white\",\"gridcolor\":\"#DFE8F3\",\"gridwidth\":2,\"linecolor\":\"#EBF0F8\",\"showbackground\":true,\"ticks\":\"\",\"zerolinecolor\":\"#EBF0F8\"},\"zaxis\":{\"backgroundcolor\":\"white\",\"gridcolor\":\"#DFE8F3\",\"gridwidth\":2,\"linecolor\":\"#EBF0F8\",\"showbackground\":true,\"ticks\":\"\",\"zerolinecolor\":\"#EBF0F8\"}},\"shapedefaults\":{\"line\":{\"color\":\"#2a3f5f\"}},\"ternary\":{\"aaxis\":{\"gridcolor\":\"#DFE8F3\",\"linecolor\":\"#A2B1C6\",\"ticks\":\"\"},\"baxis\":{\"gridcolor\":\"#DFE8F3\",\"linecolor\":\"#A2B1C6\",\"ticks\":\"\"},\"bgcolor\":\"white\",\"caxis\":{\"gridcolor\":\"#DFE8F3\",\"linecolor\":\"#A2B1C6\",\"ticks\":\"\"}},\"title\":{\"x\":0.05},\"xaxis\":{\"automargin\":true,\"gridcolor\":\"#EBF0F8\",\"linecolor\":\"#EBF0F8\",\"ticks\":\"\",\"title\":{\"standoff\":15},\"zerolinecolor\":\"#EBF0F8\",\"zerolinewidth\":2},\"yaxis\":{\"automargin\":true,\"gridcolor\":\"#EBF0F8\",\"linecolor\":\"#EBF0F8\",\"ticks\":\"\",\"title\":{\"standoff\":15},\"zerolinecolor\":\"#EBF0F8\",\"zerolinewidth\":2}}},\"xaxis\":{\"anchor\":\"y\",\"domain\":[0.0,1.0],\"title\":{\"text\":\"Attack\"},\"showgrid\":true,\"gridwidth\":0.5,\"gridcolor\":\"LightGrey\"},\"yaxis\":{\"anchor\":\"x\",\"domain\":[0.0,1.0],\"title\":{\"text\":\"Defense\"},\"showgrid\":true,\"gridwidth\":0.5,\"gridcolor\":\"LightGrey\"},\"coloraxis\":{\"colorbar\":{\"title\":{\"text\":\"Total Points\"}},\"colorscale\":[[0.0,\"#0d0887\"],[0.1111111111111111,\"#46039f\"],[0.2222222222222222,\"#7201a8\"],[0.3333333333333333,\"#9c179e\"],[0.4444444444444444,\"#bd3786\"],[0.5555555555555556,\"#d8576b\"],[0.6666666666666666,\"#ed7953\"],[0.7777777777777778,\"#fb9f3a\"],[0.8888888888888888,\"#fdca26\"],[1.0,\"#f0f921\"]]},\"legend\":{\"tracegroupgap\":0},\"title\":{\"text\":\"Legendary Pok\\u00e9mon: Attack vs Defense\"}},                        {\"responsive\": true}                    ).then(function(){\n                            \nvar gd = document.getElementById('33e03a71-a7f0-4a33-aac8-fc5c00de8537');\nvar x = new MutationObserver(function (mutations, observer) {{\n        var display = window.getComputedStyle(gd).display;\n        if (!display || display === 'none') {{\n            console.log([gd, 'removed!']);\n            Plotly.purge(gd);\n            observer.disconnect();\n        }}\n}});\n\n// Listen for the removal of the full notebook cells\nvar notebookContainer = gd.closest('#notebook-container');\nif (notebookContainer) {{\n    x.observe(notebookContainer, {childList: true});\n}}\n\n// Listen for the clearing of the current output cell\nvar outputEl = gd.closest('.output');\nif (outputEl) {{\n    x.observe(outputEl, {childList: true});\n}}\n\n                        })                };                });            </script>        </div>"
     },
     "metadata": {},
     "output_type": "display_data"
    }
   ],
   "source": [
    "fig = px.scatter(legendaryPokemon, x=\"attack\", y=\"defense\", color=\"total_points\",\n",
    "                 hover_data=['name', 'attack', 'defense', 'hp', 'type_1'],\n",
    "                 labels={'attack': 'Attack', 'defense': 'Defense', 'total_points': 'Total Points', 'hp': 'HP'},\n",
    "                 title='Legendary Pokémon: Attack vs Defense',\n",
    "                 template='plotly_white')\n",
    "\n",
    "# Customize legend\n",
    "fig.update_traces(marker=dict(line=dict(width=1, color='DarkSlateGrey')),\n",
    "                  selector=dict(mode='markers'))\n",
    "\n",
    "# Customize data labels\n",
    "fig.update_traces(textposition='top center', textfont_size=10)\n",
    "\n",
    "# Add gridlines\n",
    "fig.update_layout(xaxis=dict(showgrid=True, gridwidth=0.5, gridcolor='LightGrey'),\n",
    "                  yaxis=dict(showgrid=True, gridwidth=0.5, gridcolor='LightGrey'))\n",
    "\n",
    "fig.show()\n"
   ],
   "metadata": {
    "collapsed": false,
    "ExecuteTime": {
     "end_time": "2024-04-24T00:31:52.532765200Z",
     "start_time": "2024-04-24T00:31:52.280113600Z"
    }
   },
   "id": "7cd0a473f982969e"
  },
  {
   "cell_type": "code",
   "execution_count": 27,
   "outputs": [
    {
     "data": {
      "text/plain": "    generation    type_1  name\n0            1   Psychic     3\n1            2      Fire     1\n2            2   Psychic     1\n3            3    Dragon     2\n4            3    Ground     2\n5            3     Water     2\n6            4     Ghost     2\n7            4     Steel     1\n8            4     Water     1\n9            5    Dragon     5\n10           6      Dark     1\n11           6    Dragon     3\n12           6     Fairy     1\n13           7   Psychic     8\n14           8     Fairy     2\n15           8  Fighting     2\n16           8    Poison     2\n17           8   Psychic     3",
      "text/html": "<div>\n<style scoped>\n    .dataframe tbody tr th:only-of-type {\n        vertical-align: middle;\n    }\n\n    .dataframe tbody tr th {\n        vertical-align: top;\n    }\n\n    .dataframe thead th {\n        text-align: right;\n    }\n</style>\n<table border=\"1\" class=\"dataframe\">\n  <thead>\n    <tr style=\"text-align: right;\">\n      <th></th>\n      <th>generation</th>\n      <th>type_1</th>\n      <th>name</th>\n    </tr>\n  </thead>\n  <tbody>\n    <tr>\n      <th>0</th>\n      <td>1</td>\n      <td>Psychic</td>\n      <td>3</td>\n    </tr>\n    <tr>\n      <th>1</th>\n      <td>2</td>\n      <td>Fire</td>\n      <td>1</td>\n    </tr>\n    <tr>\n      <th>2</th>\n      <td>2</td>\n      <td>Psychic</td>\n      <td>1</td>\n    </tr>\n    <tr>\n      <th>3</th>\n      <td>3</td>\n      <td>Dragon</td>\n      <td>2</td>\n    </tr>\n    <tr>\n      <th>4</th>\n      <td>3</td>\n      <td>Ground</td>\n      <td>2</td>\n    </tr>\n    <tr>\n      <th>5</th>\n      <td>3</td>\n      <td>Water</td>\n      <td>2</td>\n    </tr>\n    <tr>\n      <th>6</th>\n      <td>4</td>\n      <td>Ghost</td>\n      <td>2</td>\n    </tr>\n    <tr>\n      <th>7</th>\n      <td>4</td>\n      <td>Steel</td>\n      <td>1</td>\n    </tr>\n    <tr>\n      <th>8</th>\n      <td>4</td>\n      <td>Water</td>\n      <td>1</td>\n    </tr>\n    <tr>\n      <th>9</th>\n      <td>5</td>\n      <td>Dragon</td>\n      <td>5</td>\n    </tr>\n    <tr>\n      <th>10</th>\n      <td>6</td>\n      <td>Dark</td>\n      <td>1</td>\n    </tr>\n    <tr>\n      <th>11</th>\n      <td>6</td>\n      <td>Dragon</td>\n      <td>3</td>\n    </tr>\n    <tr>\n      <th>12</th>\n      <td>6</td>\n      <td>Fairy</td>\n      <td>1</td>\n    </tr>\n    <tr>\n      <th>13</th>\n      <td>7</td>\n      <td>Psychic</td>\n      <td>8</td>\n    </tr>\n    <tr>\n      <th>14</th>\n      <td>8</td>\n      <td>Fairy</td>\n      <td>2</td>\n    </tr>\n    <tr>\n      <th>15</th>\n      <td>8</td>\n      <td>Fighting</td>\n      <td>2</td>\n    </tr>\n    <tr>\n      <th>16</th>\n      <td>8</td>\n      <td>Poison</td>\n      <td>2</td>\n    </tr>\n    <tr>\n      <th>17</th>\n      <td>8</td>\n      <td>Psychic</td>\n      <td>3</td>\n    </tr>\n  </tbody>\n</table>\n</div>"
     },
     "execution_count": 27,
     "metadata": {},
     "output_type": "execute_result"
    }
   ],
   "source": [
    "legendaryPokemon[['name', 'type_1', 'generation']].groupby(['generation', 'type_1']).count().reset_index()"
   ],
   "metadata": {
    "collapsed": false,
    "ExecuteTime": {
     "end_time": "2024-04-24T00:31:52.553531Z",
     "start_time": "2024-04-24T00:31:52.531771900Z"
    }
   },
   "id": "abc0186b99936c4a"
  },
  {
   "cell_type": "code",
   "execution_count": 28,
   "outputs": [
    {
     "data": {
      "application/vnd.plotly.v1+json": {
       "data": [
        {
         "alignmentgroup": "True",
         "boxpoints": "all",
         "hovertemplate": "Status=%{x}<br>Total Points=%{y}<extra></extra>",
         "legendgroup": "Normal",
         "marker": {
          "color": "blue"
         },
         "name": "Normal",
         "notched": false,
         "offsetgroup": "Normal",
         "orientation": "v",
         "showlegend": true,
         "x": [
          "Normal",
          "Normal",
          "Normal",
          "Normal",
          "Normal",
          "Normal",
          "Normal",
          "Normal",
          "Normal",
          "Normal",
          "Normal",
          "Normal",
          "Normal",
          "Normal",
          "Normal",
          "Normal",
          "Normal",
          "Normal",
          "Normal",
          "Normal",
          "Normal",
          "Normal",
          "Normal",
          "Normal",
          "Normal",
          "Normal",
          "Normal",
          "Normal",
          "Normal",
          "Normal",
          "Normal",
          "Normal",
          "Normal",
          "Normal",
          "Normal",
          "Normal",
          "Normal",
          "Normal",
          "Normal",
          "Normal",
          "Normal",
          "Normal",
          "Normal",
          "Normal",
          "Normal",
          "Normal",
          "Normal",
          "Normal",
          "Normal",
          "Normal",
          "Normal",
          "Normal",
          "Normal",
          "Normal",
          "Normal",
          "Normal",
          "Normal",
          "Normal",
          "Normal",
          "Normal",
          "Normal",
          "Normal",
          "Normal",
          "Normal",
          "Normal",
          "Normal",
          "Normal",
          "Normal",
          "Normal",
          "Normal",
          "Normal",
          "Normal",
          "Normal",
          "Normal",
          "Normal",
          "Normal",
          "Normal",
          "Normal",
          "Normal",
          "Normal",
          "Normal",
          "Normal",
          "Normal",
          "Normal",
          "Normal",
          "Normal",
          "Normal",
          "Normal",
          "Normal",
          "Normal",
          "Normal",
          "Normal",
          "Normal",
          "Normal",
          "Normal",
          "Normal",
          "Normal",
          "Normal",
          "Normal",
          "Normal",
          "Normal",
          "Normal",
          "Normal",
          "Normal",
          "Normal",
          "Normal",
          "Normal",
          "Normal",
          "Normal",
          "Normal",
          "Normal",
          "Normal",
          "Normal",
          "Normal",
          "Normal",
          "Normal",
          "Normal",
          "Normal",
          "Normal",
          "Normal",
          "Normal",
          "Normal",
          "Normal",
          "Normal",
          "Normal",
          "Normal",
          "Normal",
          "Normal",
          "Normal",
          "Normal",
          "Normal",
          "Normal",
          "Normal",
          "Normal",
          "Normal",
          "Normal",
          "Normal",
          "Normal",
          "Normal",
          "Normal",
          "Normal",
          "Normal",
          "Normal",
          "Normal",
          "Normal",
          "Normal",
          "Normal",
          "Normal",
          "Normal",
          "Normal",
          "Normal",
          "Normal",
          "Normal",
          "Normal",
          "Normal",
          "Normal",
          "Normal",
          "Normal",
          "Normal",
          "Normal",
          "Normal",
          "Normal",
          "Normal",
          "Normal",
          "Normal",
          "Normal",
          "Normal",
          "Normal",
          "Normal",
          "Normal",
          "Normal",
          "Normal",
          "Normal",
          "Normal",
          "Normal",
          "Normal",
          "Normal",
          "Normal",
          "Normal",
          "Normal",
          "Normal",
          "Normal",
          "Normal",
          "Normal",
          "Normal",
          "Normal",
          "Normal",
          "Normal",
          "Normal",
          "Normal",
          "Normal",
          "Normal",
          "Normal",
          "Normal",
          "Normal",
          "Normal",
          "Normal",
          "Normal",
          "Normal",
          "Normal",
          "Normal",
          "Normal",
          "Normal",
          "Normal",
          "Normal",
          "Normal",
          "Normal",
          "Normal",
          "Normal",
          "Normal",
          "Normal",
          "Normal",
          "Normal",
          "Normal",
          "Normal",
          "Normal",
          "Normal",
          "Normal",
          "Normal",
          "Normal",
          "Normal",
          "Normal",
          "Normal",
          "Normal",
          "Normal",
          "Normal",
          "Normal",
          "Normal",
          "Normal",
          "Normal",
          "Normal",
          "Normal",
          "Normal",
          "Normal",
          "Normal",
          "Normal",
          "Normal",
          "Normal",
          "Normal",
          "Normal",
          "Normal",
          "Normal",
          "Normal",
          "Normal",
          "Normal",
          "Normal",
          "Normal",
          "Normal",
          "Normal",
          "Normal",
          "Normal",
          "Normal",
          "Normal",
          "Normal",
          "Normal",
          "Normal",
          "Normal",
          "Normal",
          "Normal",
          "Normal",
          "Normal",
          "Normal",
          "Normal",
          "Normal",
          "Normal",
          "Normal",
          "Normal",
          "Normal",
          "Normal",
          "Normal",
          "Normal",
          "Normal",
          "Normal",
          "Normal",
          "Normal",
          "Normal",
          "Normal",
          "Normal",
          "Normal",
          "Normal",
          "Normal",
          "Normal",
          "Normal",
          "Normal",
          "Normal",
          "Normal",
          "Normal",
          "Normal",
          "Normal",
          "Normal",
          "Normal",
          "Normal",
          "Normal",
          "Normal",
          "Normal",
          "Normal",
          "Normal",
          "Normal",
          "Normal",
          "Normal",
          "Normal",
          "Normal",
          "Normal",
          "Normal",
          "Normal",
          "Normal",
          "Normal",
          "Normal",
          "Normal",
          "Normal",
          "Normal",
          "Normal",
          "Normal",
          "Normal",
          "Normal",
          "Normal",
          "Normal",
          "Normal",
          "Normal",
          "Normal",
          "Normal",
          "Normal",
          "Normal",
          "Normal",
          "Normal",
          "Normal",
          "Normal",
          "Normal",
          "Normal",
          "Normal",
          "Normal",
          "Normal",
          "Normal",
          "Normal",
          "Normal",
          "Normal",
          "Normal",
          "Normal",
          "Normal",
          "Normal",
          "Normal",
          "Normal",
          "Normal",
          "Normal",
          "Normal",
          "Normal",
          "Normal",
          "Normal",
          "Normal",
          "Normal",
          "Normal",
          "Normal",
          "Normal",
          "Normal",
          "Normal",
          "Normal",
          "Normal",
          "Normal",
          "Normal",
          "Normal",
          "Normal",
          "Normal",
          "Normal",
          "Normal",
          "Normal",
          "Normal",
          "Normal",
          "Normal",
          "Normal",
          "Normal",
          "Normal",
          "Normal",
          "Normal",
          "Normal",
          "Normal",
          "Normal",
          "Normal",
          "Normal",
          "Normal",
          "Normal",
          "Normal",
          "Normal",
          "Normal",
          "Normal",
          "Normal",
          "Normal",
          "Normal",
          "Normal",
          "Normal",
          "Normal",
          "Normal",
          "Normal",
          "Normal",
          "Normal",
          "Normal",
          "Normal",
          "Normal",
          "Normal",
          "Normal",
          "Normal",
          "Normal",
          "Normal",
          "Normal",
          "Normal",
          "Normal",
          "Normal",
          "Normal",
          "Normal",
          "Normal",
          "Normal",
          "Normal",
          "Normal",
          "Normal",
          "Normal",
          "Normal",
          "Normal",
          "Normal",
          "Normal",
          "Normal",
          "Normal",
          "Normal",
          "Normal",
          "Normal",
          "Normal",
          "Normal",
          "Normal",
          "Normal",
          "Normal",
          "Normal",
          "Normal",
          "Normal",
          "Normal",
          "Normal",
          "Normal",
          "Normal",
          "Normal",
          "Normal",
          "Normal",
          "Normal",
          "Normal",
          "Normal",
          "Normal",
          "Normal",
          "Normal",
          "Normal",
          "Normal",
          "Normal",
          "Normal",
          "Normal",
          "Normal",
          "Normal",
          "Normal",
          "Normal",
          "Normal",
          "Normal",
          "Normal",
          "Normal",
          "Normal",
          "Normal",
          "Normal",
          "Normal",
          "Normal",
          "Normal",
          "Normal",
          "Normal",
          "Normal",
          "Normal",
          "Normal",
          "Normal",
          "Normal",
          "Normal",
          "Normal",
          "Normal",
          "Normal",
          "Normal",
          "Normal",
          "Normal",
          "Normal",
          "Normal",
          "Normal",
          "Normal",
          "Normal",
          "Normal",
          "Normal",
          "Normal",
          "Normal",
          "Normal",
          "Normal",
          "Normal",
          "Normal",
          "Normal",
          "Normal",
          "Normal",
          "Normal",
          "Normal",
          "Normal",
          "Normal",
          "Normal",
          "Normal",
          "Normal",
          "Normal",
          "Normal",
          "Normal",
          "Normal",
          "Normal",
          "Normal",
          "Normal",
          "Normal",
          "Normal",
          "Normal",
          "Normal",
          "Normal",
          "Normal",
          "Normal",
          "Normal",
          "Normal",
          "Normal",
          "Normal",
          "Normal",
          "Normal",
          "Normal",
          "Normal",
          "Normal",
          "Normal",
          "Normal",
          "Normal",
          "Normal",
          "Normal",
          "Normal",
          "Normal",
          "Normal",
          "Normal",
          "Normal",
          "Normal",
          "Normal",
          "Normal",
          "Normal",
          "Normal",
          "Normal",
          "Normal",
          "Normal",
          "Normal",
          "Normal",
          "Normal",
          "Normal",
          "Normal",
          "Normal",
          "Normal",
          "Normal",
          "Normal",
          "Normal",
          "Normal",
          "Normal",
          "Normal",
          "Normal",
          "Normal",
          "Normal",
          "Normal",
          "Normal",
          "Normal",
          "Normal",
          "Normal",
          "Normal",
          "Normal",
          "Normal",
          "Normal",
          "Normal",
          "Normal",
          "Normal",
          "Normal",
          "Normal",
          "Normal",
          "Normal",
          "Normal",
          "Normal",
          "Normal",
          "Normal",
          "Normal",
          "Normal",
          "Normal",
          "Normal",
          "Normal",
          "Normal",
          "Normal",
          "Normal",
          "Normal",
          "Normal",
          "Normal",
          "Normal",
          "Normal",
          "Normal",
          "Normal",
          "Normal",
          "Normal",
          "Normal",
          "Normal",
          "Normal",
          "Normal",
          "Normal",
          "Normal",
          "Normal",
          "Normal",
          "Normal",
          "Normal",
          "Normal",
          "Normal",
          "Normal",
          "Normal",
          "Normal",
          "Normal",
          "Normal",
          "Normal",
          "Normal",
          "Normal",
          "Normal",
          "Normal",
          "Normal",
          "Normal",
          "Normal",
          "Normal",
          "Normal",
          "Normal",
          "Normal",
          "Normal",
          "Normal",
          "Normal",
          "Normal",
          "Normal",
          "Normal",
          "Normal",
          "Normal",
          "Normal",
          "Normal",
          "Normal",
          "Normal",
          "Normal",
          "Normal",
          "Normal",
          "Normal",
          "Normal",
          "Normal",
          "Normal",
          "Normal",
          "Normal",
          "Normal",
          "Normal",
          "Normal",
          "Normal",
          "Normal",
          "Normal",
          "Normal",
          "Normal",
          "Normal",
          "Normal",
          "Normal",
          "Normal",
          "Normal",
          "Normal",
          "Normal",
          "Normal",
          "Normal",
          "Normal",
          "Normal",
          "Normal",
          "Normal",
          "Normal",
          "Normal",
          "Normal",
          "Normal",
          "Normal",
          "Normal",
          "Normal",
          "Normal",
          "Normal",
          "Normal",
          "Normal",
          "Normal",
          "Normal",
          "Normal",
          "Normal",
          "Normal",
          "Normal",
          "Normal",
          "Normal",
          "Normal",
          "Normal",
          "Normal",
          "Normal",
          "Normal",
          "Normal",
          "Normal",
          "Normal",
          "Normal",
          "Normal",
          "Normal",
          "Normal",
          "Normal",
          "Normal",
          "Normal",
          "Normal",
          "Normal",
          "Normal",
          "Normal",
          "Normal",
          "Normal",
          "Normal",
          "Normal",
          "Normal",
          "Normal",
          "Normal",
          "Normal",
          "Normal",
          "Normal",
          "Normal",
          "Normal",
          "Normal",
          "Normal",
          "Normal",
          "Normal",
          "Normal",
          "Normal",
          "Normal",
          "Normal",
          "Normal",
          "Normal",
          "Normal",
          "Normal",
          "Normal",
          "Normal",
          "Normal",
          "Normal",
          "Normal",
          "Normal",
          "Normal",
          "Normal",
          "Normal",
          "Normal",
          "Normal",
          "Normal",
          "Normal",
          "Normal",
          "Normal",
          "Normal",
          "Normal",
          "Normal",
          "Normal",
          "Normal",
          "Normal",
          "Normal",
          "Normal",
          "Normal",
          "Normal",
          "Normal",
          "Normal",
          "Normal",
          "Normal",
          "Normal",
          "Normal",
          "Normal",
          "Normal",
          "Normal",
          "Normal",
          "Normal",
          "Normal",
          "Normal",
          "Normal",
          "Normal",
          "Normal",
          "Normal",
          "Normal",
          "Normal",
          "Normal",
          "Normal",
          "Normal",
          "Normal",
          "Normal",
          "Normal",
          "Normal",
          "Normal",
          "Normal",
          "Normal",
          "Normal",
          "Normal",
          "Normal",
          "Normal",
          "Normal",
          "Normal",
          "Normal",
          "Normal",
          "Normal",
          "Normal",
          "Normal",
          "Normal",
          "Normal",
          "Normal",
          "Normal",
          "Normal",
          "Normal",
          "Normal",
          "Normal",
          "Normal",
          "Normal",
          "Normal",
          "Normal",
          "Normal",
          "Normal",
          "Normal",
          "Normal",
          "Normal",
          "Normal",
          "Normal",
          "Normal",
          "Normal",
          "Normal",
          "Normal",
          "Normal",
          "Normal",
          "Normal",
          "Normal",
          "Normal",
          "Normal",
          "Normal",
          "Normal",
          "Normal",
          "Normal",
          "Normal",
          "Normal",
          "Normal",
          "Normal",
          "Normal",
          "Normal",
          "Normal",
          "Normal",
          "Normal",
          "Normal",
          "Normal",
          "Normal",
          "Normal",
          "Normal",
          "Normal",
          "Normal",
          "Normal",
          "Normal",
          "Normal",
          "Normal",
          "Normal",
          "Normal",
          "Normal",
          "Normal",
          "Normal",
          "Normal",
          "Normal",
          "Normal",
          "Normal",
          "Normal",
          "Normal",
          "Normal",
          "Normal",
          "Normal",
          "Normal",
          "Normal",
          "Normal",
          "Normal",
          "Normal",
          "Normal",
          "Normal",
          "Normal",
          "Normal",
          "Normal",
          "Normal",
          "Normal",
          "Normal",
          "Normal",
          "Normal",
          "Normal",
          "Normal",
          "Normal",
          "Normal",
          "Normal",
          "Normal",
          "Normal",
          "Normal",
          "Normal",
          "Normal",
          "Normal",
          "Normal",
          "Normal",
          "Normal",
          "Normal",
          "Normal",
          "Normal",
          "Normal",
          "Normal",
          "Normal",
          "Normal",
          "Normal",
          "Normal",
          "Normal",
          "Normal",
          "Normal",
          "Normal",
          "Normal",
          "Normal",
          "Normal",
          "Normal",
          "Normal",
          "Normal",
          "Normal",
          "Normal",
          "Normal",
          "Normal",
          "Normal",
          "Normal",
          "Normal",
          "Normal",
          "Normal",
          "Normal",
          "Normal"
         ],
         "x0": " ",
         "xaxis": "x",
         "y": [
          318,
          405,
          525,
          625,
          309,
          405,
          534,
          634,
          634,
          314,
          405,
          530,
          630,
          195,
          205,
          395,
          195,
          205,
          395,
          495,
          251,
          349,
          479,
          579,
          253,
          253,
          413,
          413,
          262,
          442,
          288,
          448,
          320,
          430,
          485,
          485,
          300,
          300,
          450,
          450,
          275,
          365,
          505,
          273,
          365,
          505,
          323,
          483,
          299,
          299,
          505,
          505,
          270,
          435,
          245,
          455,
          320,
          395,
          490,
          285,
          405,
          305,
          450,
          265,
          265,
          425,
          425,
          290,
          290,
          290,
          440,
          440,
          320,
          500,
          305,
          455,
          350,
          555,
          300,
          385,
          510,
          310,
          400,
          500,
          600,
          305,
          405,
          505,
          300,
          390,
          490,
          335,
          515,
          300,
          300,
          390,
          390,
          495,
          495,
          410,
          410,
          500,
          500,
          315,
          315,
          490,
          590,
          490,
          325,
          465,
          377,
          377,
          310,
          470,
          325,
          475,
          325,
          325,
          500,
          500,
          305,
          525,
          310,
          405,
          500,
          600,
          385,
          328,
          483,
          325,
          475,
          330,
          490,
          325,
          530,
          530,
          320,
          425,
          425,
          455,
          455,
          385,
          340,
          490,
          490,
          345,
          485,
          450,
          435,
          490,
          590,
          295,
          440,
          320,
          450,
          340,
          520,
          460,
          460,
          500,
          455,
          490,
          495,
          500,
          600,
          490,
          200,
          540,
          640,
          535,
          288,
          325,
          435,
          525,
          525,
          525,
          395,
          355,
          495,
          355,
          495,
          515,
          615,
          540,
          300,
          420,
          600,
          318,
          405,
          525,
          309,
          405,
          534,
          314,
          405,
          530,
          215,
          415,
          262,
          452,
          265,
          390,
          250,
          400,
          535,
          330,
          460,
          205,
          218,
          210,
          245,
          405,
          320,
          470,
          280,
          365,
          510,
          610,
          490,
          250,
          420,
          410,
          500,
          250,
          340,
          460,
          360,
          180,
          425,
          390,
          210,
          430,
          525,
          525,
          405,
          490,
          490,
          435,
          336,
          405,
          455,
          290,
          465,
          415,
          430,
          510,
          610,
          300,
          450,
          440,
          500,
          600,
          505,
          500,
          600,
          430,
          330,
          500,
          250,
          430,
          250,
          450,
          410,
          410,
          300,
          480,
          330,
          485,
          465,
          330,
          500,
          600,
          540,
          330,
          500,
          515,
          465,
          250,
          210,
          455,
          305,
          360,
          365,
          490,
          540,
          300,
          410,
          600,
          700,
          310,
          405,
          530,
          630,
          310,
          405,
          530,
          630,
          310,
          405,
          535,
          635,
          220,
          420,
          240,
          240,
          420,
          420,
          195,
          205,
          395,
          205,
          385,
          220,
          340,
          480,
          220,
          340,
          480,
          270,
          455,
          270,
          440,
          198,
          278,
          518,
          618,
          269,
          454,
          295,
          460,
          280,
          440,
          670,
          266,
          456,
          236,
          240,
          360,
          490,
          237,
          474,
          190,
          375,
          260,
          400,
          380,
          480,
          380,
          480,
          330,
          430,
          530,
          630,
          280,
          410,
          510,
          295,
          475,
          575,
          405,
          405,
          430,
          430,
          400,
          302,
          467,
          305,
          460,
          560,
          400,
          500,
          305,
          460,
          560,
          470,
          330,
          470,
          360,
          290,
          340,
          520,
          335,
          475,
          310,
          490,
          590,
          458,
          458,
          460,
          460,
          288,
          468,
          308,
          468,
          300,
          500,
          355,
          495,
          355,
          495,
          200,
          540,
          420,
          420,
          420,
          420,
          440,
          295,
          455,
          555,
          295,
          455,
          460,
          455,
          465,
          565,
          260,
          300,
          480,
          580,
          290,
          410,
          530,
          345,
          485,
          485,
          485,
          330,
          300,
          420,
          600,
          700,
          300,
          420,
          600,
          700,
          318,
          405,
          525,
          309,
          405,
          534,
          314,
          405,
          530,
          245,
          340,
          485,
          250,
          410,
          194,
          384,
          263,
          363,
          523,
          280,
          515,
          350,
          495,
          350,
          495,
          224,
          424,
          424,
          424,
          424,
          244,
          474,
          405,
          330,
          495,
          275,
          450,
          325,
          475,
          482,
          348,
          498,
          350,
          480,
          580,
          495,
          505,
          310,
          452,
          285,
          329,
          479,
          300,
          500,
          290,
          310,
          220,
          411,
          485,
          300,
          410,
          600,
          700,
          390,
          285,
          525,
          625,
          330,
          525,
          330,
          500,
          300,
          490,
          454,
          330,
          460,
          345,
          334,
          494,
          594,
          510,
          535,
          515,
          535,
          535,
          540,
          540,
          545,
          515,
          525,
          525,
          510,
          530,
          535,
          518,
          618,
          525,
          525,
          480,
          440,
          520,
          520,
          520,
          520,
          520,
          308,
          413,
          528,
          308,
          418,
          528,
          308,
          413,
          528,
          255,
          420,
          275,
          370,
          500,
          281,
          446,
          316,
          498,
          316,
          498,
          316,
          498,
          292,
          487,
          264,
          358,
          488,
          295,
          497,
          280,
          390,
          515,
          323,
          425,
          328,
          508,
          445,
          545,
          305,
          405,
          505,
          294,
          384,
          509,
          465,
          465,
          310,
          380,
          500,
          260,
          360,
          485,
          280,
          480,
          280,
          480,
          460,
          460,
          292,
          351,
          519,
          315,
          315,
          480,
          540,
          480,
          540,
          461,
          325,
          485,
          348,
          488,
          490,
          303,
          303,
          483,
          355,
          495,
          401,
          567,
          329,
          474,
          330,
          510,
          300,
          470,
          290,
          390,
          490,
          290,
          370,
          490,
          305,
          473,
          305,
          395,
          535,
          335,
          475,
          428,
          315,
          495,
          294,
          464,
          335,
          480,
          470,
          319,
          472,
          305,
          489,
          300,
          440,
          520,
          275,
          405,
          515,
          335,
          485,
          275,
          370,
          520,
          320,
          410,
          540,
          305,
          505,
          515,
          305,
          495,
          471,
          471,
          350,
          510,
          485,
          303,
          483,
          340,
          490,
          490,
          350,
          510,
          370,
          510,
          484,
          484,
          300,
          420,
          600,
          360,
          550,
          313,
          405,
          530,
          307,
          409,
          534,
          314,
          405,
          530,
          640,
          237,
          423,
          278,
          382,
          499,
          200,
          213,
          411,
          369,
          507,
          303,
          371,
          552,
          350,
          531,
          348,
          495,
          472,
          355,
          466,
          466,
          325,
          448,
          520,
          520,
          341,
          462,
          341,
          480,
          288,
          482,
          306,
          500,
          320,
          494,
          330,
          500,
          289,
          481,
          362,
          521,
          362,
          521,
          525,
          500,
          431,
          500,
          300,
          452,
          600,
          470,
          309,
          474,
          335,
          335,
          335,
          335,
          494,
          494,
          494,
          494,
          304,
          514,
          245,
          535,
          320,
          420,
          530,
          320,
          420,
          530,
          320,
          420,
          530,
          265,
          355,
          485,
          253,
          418,
          300,
          400,
          500,
          338,
          478,
          476,
          476,
          476,
          476,
          304,
          464,
          280,
          280,
          487,
          487,
          487,
          175,
          620,
          305,
          495,
          385,
          500,
          269,
          454,
          250,
          480,
          285,
          405,
          320,
          480,
          340,
          500,
          210,
          290,
          510,
          485,
          490,
          490,
          230,
          530,
          320,
          480,
          410,
          440,
          500,
          480,
          485,
          435,
          476,
          475,
          485,
          517,
          300,
          420,
          600,
          310,
          420,
          530,
          310,
          420,
          530,
          310,
          420,
          530,
          275,
          460,
          245,
          365,
          495,
          180,
          335,
          505,
          245,
          455,
          250,
          460,
          270,
          490,
          284,
          485,
          270,
          490,
          240,
          410,
          510,
          260,
          485,
          485,
          315,
          510,
          475,
          280,
          490,
          242,
          502,
          502,
          305,
          525,
          310,
          480,
          308,
          508,
          265,
          370,
          510,
          265,
          370,
          510,
          520,
          440,
          510,
          507,
          520,
          483,
          270,
          495,
          470,
          435,
          185,
          475,
          470,
          470,
          470,
          475,
          475,
          436,
          436,
          330,
          500,
          505,
          505,
          505,
          505,
          535,
          270,
          410,
          600
         ],
         "y0": " ",
         "yaxis": "y",
         "type": "box",
         "boxmean": true
        },
        {
         "alignmentgroup": "True",
         "boxpoints": "all",
         "hovertemplate": "Status=%{x}<br>Total Points=%{y}<extra></extra>",
         "legendgroup": "Sub Legendary",
         "marker": {
          "color": "#ab63fa"
         },
         "name": "Sub Legendary",
         "notched": false,
         "offsetgroup": "Sub Legendary",
         "orientation": "v",
         "showlegend": true,
         "x": [
          "Sub Legendary",
          "Sub Legendary",
          "Sub Legendary",
          "Sub Legendary",
          "Sub Legendary",
          "Sub Legendary",
          "Sub Legendary",
          "Sub Legendary",
          "Sub Legendary",
          "Sub Legendary",
          "Sub Legendary",
          "Sub Legendary",
          "Sub Legendary",
          "Sub Legendary",
          "Sub Legendary",
          "Sub Legendary",
          "Sub Legendary",
          "Sub Legendary",
          "Sub Legendary",
          "Sub Legendary",
          "Sub Legendary",
          "Sub Legendary",
          "Sub Legendary",
          "Sub Legendary",
          "Sub Legendary",
          "Sub Legendary",
          "Sub Legendary",
          "Sub Legendary",
          "Sub Legendary",
          "Sub Legendary",
          "Sub Legendary",
          "Sub Legendary",
          "Sub Legendary",
          "Sub Legendary",
          "Sub Legendary",
          "Sub Legendary",
          "Sub Legendary",
          "Sub Legendary",
          "Sub Legendary",
          "Sub Legendary",
          "Sub Legendary",
          "Sub Legendary",
          "Sub Legendary",
          "Sub Legendary",
          "Sub Legendary",
          "Sub Legendary",
          "Sub Legendary",
          "Sub Legendary",
          "Sub Legendary",
          "Sub Legendary",
          "Sub Legendary",
          "Sub Legendary",
          "Sub Legendary",
          "Sub Legendary",
          "Sub Legendary"
         ],
         "x0": " ",
         "xaxis": "x",
         "y": [
          580,
          580,
          580,
          580,
          580,
          580,
          580,
          580,
          580,
          580,
          580,
          580,
          600,
          700,
          600,
          700,
          580,
          580,
          580,
          600,
          670,
          600,
          580,
          580,
          580,
          580,
          580,
          580,
          580,
          600,
          600,
          534,
          570,
          570,
          570,
          570,
          570,
          570,
          570,
          570,
          570,
          570,
          570,
          570,
          420,
          540,
          570,
          570,
          385,
          550,
          550,
          580,
          580,
          580,
          580
         ],
         "y0": " ",
         "yaxis": "y",
         "type": "box",
         "boxmean": true
        },
        {
         "alignmentgroup": "True",
         "boxpoints": "all",
         "hovertemplate": "Status=%{x}<br>Total Points=%{y}<extra></extra>",
         "legendgroup": "Legendary",
         "marker": {
          "color": "orange"
         },
         "name": "Legendary",
         "notched": false,
         "offsetgroup": "Legendary",
         "orientation": "v",
         "showlegend": true,
         "x": [
          "Legendary",
          "Legendary",
          "Legendary",
          "Legendary",
          "Legendary",
          "Legendary",
          "Legendary",
          "Legendary",
          "Legendary",
          "Legendary",
          "Legendary",
          "Legendary",
          "Legendary",
          "Legendary",
          "Legendary",
          "Legendary",
          "Legendary",
          "Legendary",
          "Legendary",
          "Legendary",
          "Legendary",
          "Legendary",
          "Legendary",
          "Legendary",
          "Legendary",
          "Legendary",
          "Legendary",
          "Legendary",
          "Legendary",
          "Legendary",
          "Legendary",
          "Legendary",
          "Legendary",
          "Legendary",
          "Legendary",
          "Legendary",
          "Legendary",
          "Legendary",
          "Legendary",
          "Legendary",
          "Legendary",
          "Legendary"
         ],
         "x0": " ",
         "xaxis": "x",
         "y": [
          680,
          780,
          780,
          680,
          680,
          670,
          770,
          670,
          770,
          680,
          780,
          680,
          680,
          680,
          680,
          680,
          680,
          660,
          700,
          700,
          680,
          680,
          600,
          486,
          708,
          200,
          400,
          680,
          680,
          600,
          680,
          680,
          754,
          720,
          670,
          720,
          670,
          690,
          1125,
          500,
          680,
          680
         ],
         "y0": " ",
         "yaxis": "y",
         "type": "box",
         "boxmean": true
        },
        {
         "alignmentgroup": "True",
         "boxpoints": "all",
         "hovertemplate": "Status=%{x}<br>Total Points=%{y}<extra></extra>",
         "legendgroup": "Mythical",
         "marker": {
          "color": "green"
         },
         "name": "Mythical",
         "notched": false,
         "offsetgroup": "Mythical",
         "orientation": "v",
         "showlegend": true,
         "x": [
          "Mythical",
          "Mythical",
          "Mythical",
          "Mythical",
          "Mythical",
          "Mythical",
          "Mythical",
          "Mythical",
          "Mythical",
          "Mythical",
          "Mythical",
          "Mythical",
          "Mythical",
          "Mythical",
          "Mythical",
          "Mythical",
          "Mythical",
          "Mythical",
          "Mythical",
          "Mythical",
          "Mythical",
          "Mythical",
          "Mythical",
          "Mythical",
          "Mythical",
          "Mythical",
          "Mythical",
          "Mythical",
          "Mythical",
          "Mythical"
         ],
         "x0": " ",
         "xaxis": "x",
         "y": [
          600,
          600,
          600,
          600,
          600,
          600,
          600,
          480,
          600,
          600,
          600,
          600,
          720,
          600,
          580,
          580,
          600,
          600,
          600,
          600,
          700,
          600,
          680,
          600,
          600,
          600,
          600,
          300,
          600,
          600
         ],
         "y0": " ",
         "yaxis": "y",
         "type": "box",
         "boxmean": true
        }
       ],
       "layout": {
        "template": {
         "data": {
          "barpolar": [
           {
            "marker": {
             "line": {
              "color": "white",
              "width": 0.5
             },
             "pattern": {
              "fillmode": "overlay",
              "size": 10,
              "solidity": 0.2
             }
            },
            "type": "barpolar"
           }
          ],
          "bar": [
           {
            "error_x": {
             "color": "#2a3f5f"
            },
            "error_y": {
             "color": "#2a3f5f"
            },
            "marker": {
             "line": {
              "color": "white",
              "width": 0.5
             },
             "pattern": {
              "fillmode": "overlay",
              "size": 10,
              "solidity": 0.2
             }
            },
            "type": "bar"
           }
          ],
          "carpet": [
           {
            "aaxis": {
             "endlinecolor": "#2a3f5f",
             "gridcolor": "#C8D4E3",
             "linecolor": "#C8D4E3",
             "minorgridcolor": "#C8D4E3",
             "startlinecolor": "#2a3f5f"
            },
            "baxis": {
             "endlinecolor": "#2a3f5f",
             "gridcolor": "#C8D4E3",
             "linecolor": "#C8D4E3",
             "minorgridcolor": "#C8D4E3",
             "startlinecolor": "#2a3f5f"
            },
            "type": "carpet"
           }
          ],
          "choropleth": [
           {
            "colorbar": {
             "outlinewidth": 0,
             "ticks": ""
            },
            "type": "choropleth"
           }
          ],
          "contourcarpet": [
           {
            "colorbar": {
             "outlinewidth": 0,
             "ticks": ""
            },
            "type": "contourcarpet"
           }
          ],
          "contour": [
           {
            "colorbar": {
             "outlinewidth": 0,
             "ticks": ""
            },
            "colorscale": [
             [
              0.0,
              "#0d0887"
             ],
             [
              0.1111111111111111,
              "#46039f"
             ],
             [
              0.2222222222222222,
              "#7201a8"
             ],
             [
              0.3333333333333333,
              "#9c179e"
             ],
             [
              0.4444444444444444,
              "#bd3786"
             ],
             [
              0.5555555555555556,
              "#d8576b"
             ],
             [
              0.6666666666666666,
              "#ed7953"
             ],
             [
              0.7777777777777778,
              "#fb9f3a"
             ],
             [
              0.8888888888888888,
              "#fdca26"
             ],
             [
              1.0,
              "#f0f921"
             ]
            ],
            "type": "contour"
           }
          ],
          "heatmapgl": [
           {
            "colorbar": {
             "outlinewidth": 0,
             "ticks": ""
            },
            "colorscale": [
             [
              0.0,
              "#0d0887"
             ],
             [
              0.1111111111111111,
              "#46039f"
             ],
             [
              0.2222222222222222,
              "#7201a8"
             ],
             [
              0.3333333333333333,
              "#9c179e"
             ],
             [
              0.4444444444444444,
              "#bd3786"
             ],
             [
              0.5555555555555556,
              "#d8576b"
             ],
             [
              0.6666666666666666,
              "#ed7953"
             ],
             [
              0.7777777777777778,
              "#fb9f3a"
             ],
             [
              0.8888888888888888,
              "#fdca26"
             ],
             [
              1.0,
              "#f0f921"
             ]
            ],
            "type": "heatmapgl"
           }
          ],
          "heatmap": [
           {
            "colorbar": {
             "outlinewidth": 0,
             "ticks": ""
            },
            "colorscale": [
             [
              0.0,
              "#0d0887"
             ],
             [
              0.1111111111111111,
              "#46039f"
             ],
             [
              0.2222222222222222,
              "#7201a8"
             ],
             [
              0.3333333333333333,
              "#9c179e"
             ],
             [
              0.4444444444444444,
              "#bd3786"
             ],
             [
              0.5555555555555556,
              "#d8576b"
             ],
             [
              0.6666666666666666,
              "#ed7953"
             ],
             [
              0.7777777777777778,
              "#fb9f3a"
             ],
             [
              0.8888888888888888,
              "#fdca26"
             ],
             [
              1.0,
              "#f0f921"
             ]
            ],
            "type": "heatmap"
           }
          ],
          "histogram2dcontour": [
           {
            "colorbar": {
             "outlinewidth": 0,
             "ticks": ""
            },
            "colorscale": [
             [
              0.0,
              "#0d0887"
             ],
             [
              0.1111111111111111,
              "#46039f"
             ],
             [
              0.2222222222222222,
              "#7201a8"
             ],
             [
              0.3333333333333333,
              "#9c179e"
             ],
             [
              0.4444444444444444,
              "#bd3786"
             ],
             [
              0.5555555555555556,
              "#d8576b"
             ],
             [
              0.6666666666666666,
              "#ed7953"
             ],
             [
              0.7777777777777778,
              "#fb9f3a"
             ],
             [
              0.8888888888888888,
              "#fdca26"
             ],
             [
              1.0,
              "#f0f921"
             ]
            ],
            "type": "histogram2dcontour"
           }
          ],
          "histogram2d": [
           {
            "colorbar": {
             "outlinewidth": 0,
             "ticks": ""
            },
            "colorscale": [
             [
              0.0,
              "#0d0887"
             ],
             [
              0.1111111111111111,
              "#46039f"
             ],
             [
              0.2222222222222222,
              "#7201a8"
             ],
             [
              0.3333333333333333,
              "#9c179e"
             ],
             [
              0.4444444444444444,
              "#bd3786"
             ],
             [
              0.5555555555555556,
              "#d8576b"
             ],
             [
              0.6666666666666666,
              "#ed7953"
             ],
             [
              0.7777777777777778,
              "#fb9f3a"
             ],
             [
              0.8888888888888888,
              "#fdca26"
             ],
             [
              1.0,
              "#f0f921"
             ]
            ],
            "type": "histogram2d"
           }
          ],
          "histogram": [
           {
            "marker": {
             "pattern": {
              "fillmode": "overlay",
              "size": 10,
              "solidity": 0.2
             }
            },
            "type": "histogram"
           }
          ],
          "mesh3d": [
           {
            "colorbar": {
             "outlinewidth": 0,
             "ticks": ""
            },
            "type": "mesh3d"
           }
          ],
          "parcoords": [
           {
            "line": {
             "colorbar": {
              "outlinewidth": 0,
              "ticks": ""
             }
            },
            "type": "parcoords"
           }
          ],
          "pie": [
           {
            "automargin": true,
            "type": "pie"
           }
          ],
          "scatter3d": [
           {
            "line": {
             "colorbar": {
              "outlinewidth": 0,
              "ticks": ""
             }
            },
            "marker": {
             "colorbar": {
              "outlinewidth": 0,
              "ticks": ""
             }
            },
            "type": "scatter3d"
           }
          ],
          "scattercarpet": [
           {
            "marker": {
             "colorbar": {
              "outlinewidth": 0,
              "ticks": ""
             }
            },
            "type": "scattercarpet"
           }
          ],
          "scattergeo": [
           {
            "marker": {
             "colorbar": {
              "outlinewidth": 0,
              "ticks": ""
             }
            },
            "type": "scattergeo"
           }
          ],
          "scattergl": [
           {
            "marker": {
             "colorbar": {
              "outlinewidth": 0,
              "ticks": ""
             }
            },
            "type": "scattergl"
           }
          ],
          "scattermapbox": [
           {
            "marker": {
             "colorbar": {
              "outlinewidth": 0,
              "ticks": ""
             }
            },
            "type": "scattermapbox"
           }
          ],
          "scatterpolargl": [
           {
            "marker": {
             "colorbar": {
              "outlinewidth": 0,
              "ticks": ""
             }
            },
            "type": "scatterpolargl"
           }
          ],
          "scatterpolar": [
           {
            "marker": {
             "colorbar": {
              "outlinewidth": 0,
              "ticks": ""
             }
            },
            "type": "scatterpolar"
           }
          ],
          "scatter": [
           {
            "fillpattern": {
             "fillmode": "overlay",
             "size": 10,
             "solidity": 0.2
            },
            "type": "scatter"
           }
          ],
          "scatterternary": [
           {
            "marker": {
             "colorbar": {
              "outlinewidth": 0,
              "ticks": ""
             }
            },
            "type": "scatterternary"
           }
          ],
          "surface": [
           {
            "colorbar": {
             "outlinewidth": 0,
             "ticks": ""
            },
            "colorscale": [
             [
              0.0,
              "#0d0887"
             ],
             [
              0.1111111111111111,
              "#46039f"
             ],
             [
              0.2222222222222222,
              "#7201a8"
             ],
             [
              0.3333333333333333,
              "#9c179e"
             ],
             [
              0.4444444444444444,
              "#bd3786"
             ],
             [
              0.5555555555555556,
              "#d8576b"
             ],
             [
              0.6666666666666666,
              "#ed7953"
             ],
             [
              0.7777777777777778,
              "#fb9f3a"
             ],
             [
              0.8888888888888888,
              "#fdca26"
             ],
             [
              1.0,
              "#f0f921"
             ]
            ],
            "type": "surface"
           }
          ],
          "table": [
           {
            "cells": {
             "fill": {
              "color": "#EBF0F8"
             },
             "line": {
              "color": "white"
             }
            },
            "header": {
             "fill": {
              "color": "#C8D4E3"
             },
             "line": {
              "color": "white"
             }
            },
            "type": "table"
           }
          ]
         },
         "layout": {
          "annotationdefaults": {
           "arrowcolor": "#2a3f5f",
           "arrowhead": 0,
           "arrowwidth": 1
          },
          "autotypenumbers": "strict",
          "coloraxis": {
           "colorbar": {
            "outlinewidth": 0,
            "ticks": ""
           }
          },
          "colorscale": {
           "diverging": [
            [
             0,
             "#8e0152"
            ],
            [
             0.1,
             "#c51b7d"
            ],
            [
             0.2,
             "#de77ae"
            ],
            [
             0.3,
             "#f1b6da"
            ],
            [
             0.4,
             "#fde0ef"
            ],
            [
             0.5,
             "#f7f7f7"
            ],
            [
             0.6,
             "#e6f5d0"
            ],
            [
             0.7,
             "#b8e186"
            ],
            [
             0.8,
             "#7fbc41"
            ],
            [
             0.9,
             "#4d9221"
            ],
            [
             1,
             "#276419"
            ]
           ],
           "sequential": [
            [
             0.0,
             "#0d0887"
            ],
            [
             0.1111111111111111,
             "#46039f"
            ],
            [
             0.2222222222222222,
             "#7201a8"
            ],
            [
             0.3333333333333333,
             "#9c179e"
            ],
            [
             0.4444444444444444,
             "#bd3786"
            ],
            [
             0.5555555555555556,
             "#d8576b"
            ],
            [
             0.6666666666666666,
             "#ed7953"
            ],
            [
             0.7777777777777778,
             "#fb9f3a"
            ],
            [
             0.8888888888888888,
             "#fdca26"
            ],
            [
             1.0,
             "#f0f921"
            ]
           ],
           "sequentialminus": [
            [
             0.0,
             "#0d0887"
            ],
            [
             0.1111111111111111,
             "#46039f"
            ],
            [
             0.2222222222222222,
             "#7201a8"
            ],
            [
             0.3333333333333333,
             "#9c179e"
            ],
            [
             0.4444444444444444,
             "#bd3786"
            ],
            [
             0.5555555555555556,
             "#d8576b"
            ],
            [
             0.6666666666666666,
             "#ed7953"
            ],
            [
             0.7777777777777778,
             "#fb9f3a"
            ],
            [
             0.8888888888888888,
             "#fdca26"
            ],
            [
             1.0,
             "#f0f921"
            ]
           ]
          },
          "colorway": [
           "#636efa",
           "#EF553B",
           "#00cc96",
           "#ab63fa",
           "#FFA15A",
           "#19d3f3",
           "#FF6692",
           "#B6E880",
           "#FF97FF",
           "#FECB52"
          ],
          "font": {
           "color": "#2a3f5f"
          },
          "geo": {
           "bgcolor": "white",
           "lakecolor": "white",
           "landcolor": "white",
           "showlakes": true,
           "showland": true,
           "subunitcolor": "#C8D4E3"
          },
          "hoverlabel": {
           "align": "left"
          },
          "hovermode": "closest",
          "mapbox": {
           "style": "light"
          },
          "paper_bgcolor": "white",
          "plot_bgcolor": "white",
          "polar": {
           "angularaxis": {
            "gridcolor": "#EBF0F8",
            "linecolor": "#EBF0F8",
            "ticks": ""
           },
           "bgcolor": "white",
           "radialaxis": {
            "gridcolor": "#EBF0F8",
            "linecolor": "#EBF0F8",
            "ticks": ""
           }
          },
          "scene": {
           "xaxis": {
            "backgroundcolor": "white",
            "gridcolor": "#DFE8F3",
            "gridwidth": 2,
            "linecolor": "#EBF0F8",
            "showbackground": true,
            "ticks": "",
            "zerolinecolor": "#EBF0F8"
           },
           "yaxis": {
            "backgroundcolor": "white",
            "gridcolor": "#DFE8F3",
            "gridwidth": 2,
            "linecolor": "#EBF0F8",
            "showbackground": true,
            "ticks": "",
            "zerolinecolor": "#EBF0F8"
           },
           "zaxis": {
            "backgroundcolor": "white",
            "gridcolor": "#DFE8F3",
            "gridwidth": 2,
            "linecolor": "#EBF0F8",
            "showbackground": true,
            "ticks": "",
            "zerolinecolor": "#EBF0F8"
           }
          },
          "shapedefaults": {
           "line": {
            "color": "#2a3f5f"
           }
          },
          "ternary": {
           "aaxis": {
            "gridcolor": "#DFE8F3",
            "linecolor": "#A2B1C6",
            "ticks": ""
           },
           "baxis": {
            "gridcolor": "#DFE8F3",
            "linecolor": "#A2B1C6",
            "ticks": ""
           },
           "bgcolor": "white",
           "caxis": {
            "gridcolor": "#DFE8F3",
            "linecolor": "#A2B1C6",
            "ticks": ""
           }
          },
          "title": {
           "x": 0.05
          },
          "xaxis": {
           "automargin": true,
           "gridcolor": "#EBF0F8",
           "linecolor": "#EBF0F8",
           "ticks": "",
           "title": {
            "standoff": 15
           },
           "zerolinecolor": "#EBF0F8",
           "zerolinewidth": 2
          },
          "yaxis": {
           "automargin": true,
           "gridcolor": "#EBF0F8",
           "linecolor": "#EBF0F8",
           "ticks": "",
           "title": {
            "standoff": 15
           },
           "zerolinecolor": "#EBF0F8",
           "zerolinewidth": 2
          }
         }
        },
        "xaxis": {
         "anchor": "y",
         "domain": [
          0.0,
          1.0
         ],
         "title": {
          "text": "Status"
         },
         "categoryorder": "array",
         "categoryarray": [
          "Normal",
          "Sub Legendary",
          "Legendary",
          "Mythical"
         ]
        },
        "yaxis": {
         "anchor": "x",
         "domain": [
          0.0,
          1.0
         ],
         "title": {
          "text": "Total Points"
         }
        },
        "legend": {
         "title": {
          "text": "Status"
         },
         "tracegroupgap": 0
        },
        "title": {
         "text": "Total Points Distribution by Pokémon Status"
        },
        "boxmode": "overlay",
        "showlegend": false
       },
       "config": {
        "plotlyServerURL": "https://plot.ly"
       }
      },
      "text/html": "<div>                            <div id=\"847752b0-bcf5-4e09-b442-241ca10ba1a3\" class=\"plotly-graph-div\" style=\"height:525px; width:100%;\"></div>            <script type=\"text/javascript\">                require([\"plotly\"], function(Plotly) {                    window.PLOTLYENV=window.PLOTLYENV || {};                                    if (document.getElementById(\"847752b0-bcf5-4e09-b442-241ca10ba1a3\")) {                    Plotly.newPlot(                        \"847752b0-bcf5-4e09-b442-241ca10ba1a3\",                        [{\"alignmentgroup\":\"True\",\"boxpoints\":\"all\",\"hovertemplate\":\"Status=%{x}<br>Total Points=%{y}<extra></extra>\",\"legendgroup\":\"Normal\",\"marker\":{\"color\":\"blue\"},\"name\":\"Normal\",\"notched\":false,\"offsetgroup\":\"Normal\",\"orientation\":\"v\",\"showlegend\":true,\"x\":[\"Normal\",\"Normal\",\"Normal\",\"Normal\",\"Normal\",\"Normal\",\"Normal\",\"Normal\",\"Normal\",\"Normal\",\"Normal\",\"Normal\",\"Normal\",\"Normal\",\"Normal\",\"Normal\",\"Normal\",\"Normal\",\"Normal\",\"Normal\",\"Normal\",\"Normal\",\"Normal\",\"Normal\",\"Normal\",\"Normal\",\"Normal\",\"Normal\",\"Normal\",\"Normal\",\"Normal\",\"Normal\",\"Normal\",\"Normal\",\"Normal\",\"Normal\",\"Normal\",\"Normal\",\"Normal\",\"Normal\",\"Normal\",\"Normal\",\"Normal\",\"Normal\",\"Normal\",\"Normal\",\"Normal\",\"Normal\",\"Normal\",\"Normal\",\"Normal\",\"Normal\",\"Normal\",\"Normal\",\"Normal\",\"Normal\",\"Normal\",\"Normal\",\"Normal\",\"Normal\",\"Normal\",\"Normal\",\"Normal\",\"Normal\",\"Normal\",\"Normal\",\"Normal\",\"Normal\",\"Normal\",\"Normal\",\"Normal\",\"Normal\",\"Normal\",\"Normal\",\"Normal\",\"Normal\",\"Normal\",\"Normal\",\"Normal\",\"Normal\",\"Normal\",\"Normal\",\"Normal\",\"Normal\",\"Normal\",\"Normal\",\"Normal\",\"Normal\",\"Normal\",\"Normal\",\"Normal\",\"Normal\",\"Normal\",\"Normal\",\"Normal\",\"Normal\",\"Normal\",\"Normal\",\"Normal\",\"Normal\",\"Normal\",\"Normal\",\"Normal\",\"Normal\",\"Normal\",\"Normal\",\"Normal\",\"Normal\",\"Normal\",\"Normal\",\"Normal\",\"Normal\",\"Normal\",\"Normal\",\"Normal\",\"Normal\",\"Normal\",\"Normal\",\"Normal\",\"Normal\",\"Normal\",\"Normal\",\"Normal\",\"Normal\",\"Normal\",\"Normal\",\"Normal\",\"Normal\",\"Normal\",\"Normal\",\"Normal\",\"Normal\",\"Normal\",\"Normal\",\"Normal\",\"Normal\",\"Normal\",\"Normal\",\"Normal\",\"Normal\",\"Normal\",\"Normal\",\"Normal\",\"Normal\",\"Normal\",\"Normal\",\"Normal\",\"Normal\",\"Normal\",\"Normal\",\"Normal\",\"Normal\",\"Normal\",\"Normal\",\"Normal\",\"Normal\",\"Normal\",\"Normal\",\"Normal\",\"Normal\",\"Normal\",\"Normal\",\"Normal\",\"Normal\",\"Normal\",\"Normal\",\"Normal\",\"Normal\",\"Normal\",\"Normal\",\"Normal\",\"Normal\",\"Normal\",\"Normal\",\"Normal\",\"Normal\",\"Normal\",\"Normal\",\"Normal\",\"Normal\",\"Normal\",\"Normal\",\"Normal\",\"Normal\",\"Normal\",\"Normal\",\"Normal\",\"Normal\",\"Normal\",\"Normal\",\"Normal\",\"Normal\",\"Normal\",\"Normal\",\"Normal\",\"Normal\",\"Normal\",\"Normal\",\"Normal\",\"Normal\",\"Normal\",\"Normal\",\"Normal\",\"Normal\",\"Normal\",\"Normal\",\"Normal\",\"Normal\",\"Normal\",\"Normal\",\"Normal\",\"Normal\",\"Normal\",\"Normal\",\"Normal\",\"Normal\",\"Normal\",\"Normal\",\"Normal\",\"Normal\",\"Normal\",\"Normal\",\"Normal\",\"Normal\",\"Normal\",\"Normal\",\"Normal\",\"Normal\",\"Normal\",\"Normal\",\"Normal\",\"Normal\",\"Normal\",\"Normal\",\"Normal\",\"Normal\",\"Normal\",\"Normal\",\"Normal\",\"Normal\",\"Normal\",\"Normal\",\"Normal\",\"Normal\",\"Normal\",\"Normal\",\"Normal\",\"Normal\",\"Normal\",\"Normal\",\"Normal\",\"Normal\",\"Normal\",\"Normal\",\"Normal\",\"Normal\",\"Normal\",\"Normal\",\"Normal\",\"Normal\",\"Normal\",\"Normal\",\"Normal\",\"Normal\",\"Normal\",\"Normal\",\"Normal\",\"Normal\",\"Normal\",\"Normal\",\"Normal\",\"Normal\",\"Normal\",\"Normal\",\"Normal\",\"Normal\",\"Normal\",\"Normal\",\"Normal\",\"Normal\",\"Normal\",\"Normal\",\"Normal\",\"Normal\",\"Normal\",\"Normal\",\"Normal\",\"Normal\",\"Normal\",\"Normal\",\"Normal\",\"Normal\",\"Normal\",\"Normal\",\"Normal\",\"Normal\",\"Normal\",\"Normal\",\"Normal\",\"Normal\",\"Normal\",\"Normal\",\"Normal\",\"Normal\",\"Normal\",\"Normal\",\"Normal\",\"Normal\",\"Normal\",\"Normal\",\"Normal\",\"Normal\",\"Normal\",\"Normal\",\"Normal\",\"Normal\",\"Normal\",\"Normal\",\"Normal\",\"Normal\",\"Normal\",\"Normal\",\"Normal\",\"Normal\",\"Normal\",\"Normal\",\"Normal\",\"Normal\",\"Normal\",\"Normal\",\"Normal\",\"Normal\",\"Normal\",\"Normal\",\"Normal\",\"Normal\",\"Normal\",\"Normal\",\"Normal\",\"Normal\",\"Normal\",\"Normal\",\"Normal\",\"Normal\",\"Normal\",\"Normal\",\"Normal\",\"Normal\",\"Normal\",\"Normal\",\"Normal\",\"Normal\",\"Normal\",\"Normal\",\"Normal\",\"Normal\",\"Normal\",\"Normal\",\"Normal\",\"Normal\",\"Normal\",\"Normal\",\"Normal\",\"Normal\",\"Normal\",\"Normal\",\"Normal\",\"Normal\",\"Normal\",\"Normal\",\"Normal\",\"Normal\",\"Normal\",\"Normal\",\"Normal\",\"Normal\",\"Normal\",\"Normal\",\"Normal\",\"Normal\",\"Normal\",\"Normal\",\"Normal\",\"Normal\",\"Normal\",\"Normal\",\"Normal\",\"Normal\",\"Normal\",\"Normal\",\"Normal\",\"Normal\",\"Normal\",\"Normal\",\"Normal\",\"Normal\",\"Normal\",\"Normal\",\"Normal\",\"Normal\",\"Normal\",\"Normal\",\"Normal\",\"Normal\",\"Normal\",\"Normal\",\"Normal\",\"Normal\",\"Normal\",\"Normal\",\"Normal\",\"Normal\",\"Normal\",\"Normal\",\"Normal\",\"Normal\",\"Normal\",\"Normal\",\"Normal\",\"Normal\",\"Normal\",\"Normal\",\"Normal\",\"Normal\",\"Normal\",\"Normal\",\"Normal\",\"Normal\",\"Normal\",\"Normal\",\"Normal\",\"Normal\",\"Normal\",\"Normal\",\"Normal\",\"Normal\",\"Normal\",\"Normal\",\"Normal\",\"Normal\",\"Normal\",\"Normal\",\"Normal\",\"Normal\",\"Normal\",\"Normal\",\"Normal\",\"Normal\",\"Normal\",\"Normal\",\"Normal\",\"Normal\",\"Normal\",\"Normal\",\"Normal\",\"Normal\",\"Normal\",\"Normal\",\"Normal\",\"Normal\",\"Normal\",\"Normal\",\"Normal\",\"Normal\",\"Normal\",\"Normal\",\"Normal\",\"Normal\",\"Normal\",\"Normal\",\"Normal\",\"Normal\",\"Normal\",\"Normal\",\"Normal\",\"Normal\",\"Normal\",\"Normal\",\"Normal\",\"Normal\",\"Normal\",\"Normal\",\"Normal\",\"Normal\",\"Normal\",\"Normal\",\"Normal\",\"Normal\",\"Normal\",\"Normal\",\"Normal\",\"Normal\",\"Normal\",\"Normal\",\"Normal\",\"Normal\",\"Normal\",\"Normal\",\"Normal\",\"Normal\",\"Normal\",\"Normal\",\"Normal\",\"Normal\",\"Normal\",\"Normal\",\"Normal\",\"Normal\",\"Normal\",\"Normal\",\"Normal\",\"Normal\",\"Normal\",\"Normal\",\"Normal\",\"Normal\",\"Normal\",\"Normal\",\"Normal\",\"Normal\",\"Normal\",\"Normal\",\"Normal\",\"Normal\",\"Normal\",\"Normal\",\"Normal\",\"Normal\",\"Normal\",\"Normal\",\"Normal\",\"Normal\",\"Normal\",\"Normal\",\"Normal\",\"Normal\",\"Normal\",\"Normal\",\"Normal\",\"Normal\",\"Normal\",\"Normal\",\"Normal\",\"Normal\",\"Normal\",\"Normal\",\"Normal\",\"Normal\",\"Normal\",\"Normal\",\"Normal\",\"Normal\",\"Normal\",\"Normal\",\"Normal\",\"Normal\",\"Normal\",\"Normal\",\"Normal\",\"Normal\",\"Normal\",\"Normal\",\"Normal\",\"Normal\",\"Normal\",\"Normal\",\"Normal\",\"Normal\",\"Normal\",\"Normal\",\"Normal\",\"Normal\",\"Normal\",\"Normal\",\"Normal\",\"Normal\",\"Normal\",\"Normal\",\"Normal\",\"Normal\",\"Normal\",\"Normal\",\"Normal\",\"Normal\",\"Normal\",\"Normal\",\"Normal\",\"Normal\",\"Normal\",\"Normal\",\"Normal\",\"Normal\",\"Normal\",\"Normal\",\"Normal\",\"Normal\",\"Normal\",\"Normal\",\"Normal\",\"Normal\",\"Normal\",\"Normal\",\"Normal\",\"Normal\",\"Normal\",\"Normal\",\"Normal\",\"Normal\",\"Normal\",\"Normal\",\"Normal\",\"Normal\",\"Normal\",\"Normal\",\"Normal\",\"Normal\",\"Normal\",\"Normal\",\"Normal\",\"Normal\",\"Normal\",\"Normal\",\"Normal\",\"Normal\",\"Normal\",\"Normal\",\"Normal\",\"Normal\",\"Normal\",\"Normal\",\"Normal\",\"Normal\",\"Normal\",\"Normal\",\"Normal\",\"Normal\",\"Normal\",\"Normal\",\"Normal\",\"Normal\",\"Normal\",\"Normal\",\"Normal\",\"Normal\",\"Normal\",\"Normal\",\"Normal\",\"Normal\",\"Normal\",\"Normal\",\"Normal\",\"Normal\",\"Normal\",\"Normal\",\"Normal\",\"Normal\",\"Normal\",\"Normal\",\"Normal\",\"Normal\",\"Normal\",\"Normal\",\"Normal\",\"Normal\",\"Normal\",\"Normal\",\"Normal\",\"Normal\",\"Normal\",\"Normal\",\"Normal\",\"Normal\",\"Normal\",\"Normal\",\"Normal\",\"Normal\",\"Normal\",\"Normal\",\"Normal\",\"Normal\",\"Normal\",\"Normal\",\"Normal\",\"Normal\",\"Normal\",\"Normal\",\"Normal\",\"Normal\",\"Normal\",\"Normal\",\"Normal\",\"Normal\",\"Normal\",\"Normal\",\"Normal\",\"Normal\",\"Normal\",\"Normal\",\"Normal\",\"Normal\",\"Normal\",\"Normal\",\"Normal\",\"Normal\",\"Normal\",\"Normal\",\"Normal\",\"Normal\",\"Normal\",\"Normal\",\"Normal\",\"Normal\",\"Normal\",\"Normal\",\"Normal\",\"Normal\",\"Normal\",\"Normal\",\"Normal\",\"Normal\",\"Normal\",\"Normal\",\"Normal\",\"Normal\",\"Normal\",\"Normal\",\"Normal\",\"Normal\",\"Normal\",\"Normal\",\"Normal\",\"Normal\",\"Normal\",\"Normal\",\"Normal\",\"Normal\",\"Normal\",\"Normal\",\"Normal\",\"Normal\",\"Normal\",\"Normal\",\"Normal\",\"Normal\",\"Normal\",\"Normal\",\"Normal\",\"Normal\",\"Normal\",\"Normal\",\"Normal\",\"Normal\",\"Normal\",\"Normal\",\"Normal\",\"Normal\",\"Normal\",\"Normal\",\"Normal\",\"Normal\",\"Normal\",\"Normal\",\"Normal\",\"Normal\",\"Normal\",\"Normal\",\"Normal\",\"Normal\",\"Normal\",\"Normal\",\"Normal\",\"Normal\",\"Normal\",\"Normal\",\"Normal\",\"Normal\",\"Normal\",\"Normal\",\"Normal\",\"Normal\",\"Normal\",\"Normal\",\"Normal\",\"Normal\",\"Normal\",\"Normal\",\"Normal\",\"Normal\",\"Normal\",\"Normal\",\"Normal\",\"Normal\",\"Normal\",\"Normal\",\"Normal\",\"Normal\",\"Normal\",\"Normal\",\"Normal\",\"Normal\",\"Normal\",\"Normal\",\"Normal\",\"Normal\",\"Normal\",\"Normal\",\"Normal\",\"Normal\",\"Normal\",\"Normal\",\"Normal\",\"Normal\",\"Normal\",\"Normal\",\"Normal\",\"Normal\",\"Normal\",\"Normal\",\"Normal\",\"Normal\",\"Normal\",\"Normal\",\"Normal\",\"Normal\",\"Normal\",\"Normal\",\"Normal\",\"Normal\",\"Normal\",\"Normal\",\"Normal\",\"Normal\",\"Normal\",\"Normal\",\"Normal\",\"Normal\",\"Normal\",\"Normal\",\"Normal\",\"Normal\",\"Normal\",\"Normal\",\"Normal\",\"Normal\",\"Normal\",\"Normal\",\"Normal\",\"Normal\",\"Normal\",\"Normal\",\"Normal\",\"Normal\",\"Normal\",\"Normal\",\"Normal\",\"Normal\",\"Normal\",\"Normal\",\"Normal\",\"Normal\",\"Normal\",\"Normal\",\"Normal\",\"Normal\",\"Normal\",\"Normal\",\"Normal\",\"Normal\",\"Normal\",\"Normal\",\"Normal\",\"Normal\",\"Normal\",\"Normal\",\"Normal\",\"Normal\",\"Normal\",\"Normal\",\"Normal\",\"Normal\",\"Normal\",\"Normal\",\"Normal\",\"Normal\",\"Normal\",\"Normal\",\"Normal\",\"Normal\",\"Normal\",\"Normal\",\"Normal\",\"Normal\",\"Normal\",\"Normal\",\"Normal\",\"Normal\",\"Normal\",\"Normal\",\"Normal\",\"Normal\",\"Normal\",\"Normal\",\"Normal\",\"Normal\",\"Normal\",\"Normal\",\"Normal\",\"Normal\",\"Normal\",\"Normal\",\"Normal\",\"Normal\",\"Normal\",\"Normal\",\"Normal\",\"Normal\",\"Normal\",\"Normal\"],\"x0\":\" \",\"xaxis\":\"x\",\"y\":[318,405,525,625,309,405,534,634,634,314,405,530,630,195,205,395,195,205,395,495,251,349,479,579,253,253,413,413,262,442,288,448,320,430,485,485,300,300,450,450,275,365,505,273,365,505,323,483,299,299,505,505,270,435,245,455,320,395,490,285,405,305,450,265,265,425,425,290,290,290,440,440,320,500,305,455,350,555,300,385,510,310,400,500,600,305,405,505,300,390,490,335,515,300,300,390,390,495,495,410,410,500,500,315,315,490,590,490,325,465,377,377,310,470,325,475,325,325,500,500,305,525,310,405,500,600,385,328,483,325,475,330,490,325,530,530,320,425,425,455,455,385,340,490,490,345,485,450,435,490,590,295,440,320,450,340,520,460,460,500,455,490,495,500,600,490,200,540,640,535,288,325,435,525,525,525,395,355,495,355,495,515,615,540,300,420,600,318,405,525,309,405,534,314,405,530,215,415,262,452,265,390,250,400,535,330,460,205,218,210,245,405,320,470,280,365,510,610,490,250,420,410,500,250,340,460,360,180,425,390,210,430,525,525,405,490,490,435,336,405,455,290,465,415,430,510,610,300,450,440,500,600,505,500,600,430,330,500,250,430,250,450,410,410,300,480,330,485,465,330,500,600,540,330,500,515,465,250,210,455,305,360,365,490,540,300,410,600,700,310,405,530,630,310,405,530,630,310,405,535,635,220,420,240,240,420,420,195,205,395,205,385,220,340,480,220,340,480,270,455,270,440,198,278,518,618,269,454,295,460,280,440,670,266,456,236,240,360,490,237,474,190,375,260,400,380,480,380,480,330,430,530,630,280,410,510,295,475,575,405,405,430,430,400,302,467,305,460,560,400,500,305,460,560,470,330,470,360,290,340,520,335,475,310,490,590,458,458,460,460,288,468,308,468,300,500,355,495,355,495,200,540,420,420,420,420,440,295,455,555,295,455,460,455,465,565,260,300,480,580,290,410,530,345,485,485,485,330,300,420,600,700,300,420,600,700,318,405,525,309,405,534,314,405,530,245,340,485,250,410,194,384,263,363,523,280,515,350,495,350,495,224,424,424,424,424,244,474,405,330,495,275,450,325,475,482,348,498,350,480,580,495,505,310,452,285,329,479,300,500,290,310,220,411,485,300,410,600,700,390,285,525,625,330,525,330,500,300,490,454,330,460,345,334,494,594,510,535,515,535,535,540,540,545,515,525,525,510,530,535,518,618,525,525,480,440,520,520,520,520,520,308,413,528,308,418,528,308,413,528,255,420,275,370,500,281,446,316,498,316,498,316,498,292,487,264,358,488,295,497,280,390,515,323,425,328,508,445,545,305,405,505,294,384,509,465,465,310,380,500,260,360,485,280,480,280,480,460,460,292,351,519,315,315,480,540,480,540,461,325,485,348,488,490,303,303,483,355,495,401,567,329,474,330,510,300,470,290,390,490,290,370,490,305,473,305,395,535,335,475,428,315,495,294,464,335,480,470,319,472,305,489,300,440,520,275,405,515,335,485,275,370,520,320,410,540,305,505,515,305,495,471,471,350,510,485,303,483,340,490,490,350,510,370,510,484,484,300,420,600,360,550,313,405,530,307,409,534,314,405,530,640,237,423,278,382,499,200,213,411,369,507,303,371,552,350,531,348,495,472,355,466,466,325,448,520,520,341,462,341,480,288,482,306,500,320,494,330,500,289,481,362,521,362,521,525,500,431,500,300,452,600,470,309,474,335,335,335,335,494,494,494,494,304,514,245,535,320,420,530,320,420,530,320,420,530,265,355,485,253,418,300,400,500,338,478,476,476,476,476,304,464,280,280,487,487,487,175,620,305,495,385,500,269,454,250,480,285,405,320,480,340,500,210,290,510,485,490,490,230,530,320,480,410,440,500,480,485,435,476,475,485,517,300,420,600,310,420,530,310,420,530,310,420,530,275,460,245,365,495,180,335,505,245,455,250,460,270,490,284,485,270,490,240,410,510,260,485,485,315,510,475,280,490,242,502,502,305,525,310,480,308,508,265,370,510,265,370,510,520,440,510,507,520,483,270,495,470,435,185,475,470,470,470,475,475,436,436,330,500,505,505,505,505,535,270,410,600],\"y0\":\" \",\"yaxis\":\"y\",\"type\":\"box\",\"boxmean\":true},{\"alignmentgroup\":\"True\",\"boxpoints\":\"all\",\"hovertemplate\":\"Status=%{x}<br>Total Points=%{y}<extra></extra>\",\"legendgroup\":\"Sub Legendary\",\"marker\":{\"color\":\"#ab63fa\"},\"name\":\"Sub Legendary\",\"notched\":false,\"offsetgroup\":\"Sub Legendary\",\"orientation\":\"v\",\"showlegend\":true,\"x\":[\"Sub Legendary\",\"Sub Legendary\",\"Sub Legendary\",\"Sub Legendary\",\"Sub Legendary\",\"Sub Legendary\",\"Sub Legendary\",\"Sub Legendary\",\"Sub Legendary\",\"Sub Legendary\",\"Sub Legendary\",\"Sub Legendary\",\"Sub Legendary\",\"Sub Legendary\",\"Sub Legendary\",\"Sub Legendary\",\"Sub Legendary\",\"Sub Legendary\",\"Sub Legendary\",\"Sub Legendary\",\"Sub Legendary\",\"Sub Legendary\",\"Sub Legendary\",\"Sub Legendary\",\"Sub Legendary\",\"Sub Legendary\",\"Sub Legendary\",\"Sub Legendary\",\"Sub Legendary\",\"Sub Legendary\",\"Sub Legendary\",\"Sub Legendary\",\"Sub Legendary\",\"Sub Legendary\",\"Sub Legendary\",\"Sub Legendary\",\"Sub Legendary\",\"Sub Legendary\",\"Sub Legendary\",\"Sub Legendary\",\"Sub Legendary\",\"Sub Legendary\",\"Sub Legendary\",\"Sub Legendary\",\"Sub Legendary\",\"Sub Legendary\",\"Sub Legendary\",\"Sub Legendary\",\"Sub Legendary\",\"Sub Legendary\",\"Sub Legendary\",\"Sub Legendary\",\"Sub Legendary\",\"Sub Legendary\",\"Sub Legendary\"],\"x0\":\" \",\"xaxis\":\"x\",\"y\":[580,580,580,580,580,580,580,580,580,580,580,580,600,700,600,700,580,580,580,600,670,600,580,580,580,580,580,580,580,600,600,534,570,570,570,570,570,570,570,570,570,570,570,570,420,540,570,570,385,550,550,580,580,580,580],\"y0\":\" \",\"yaxis\":\"y\",\"type\":\"box\",\"boxmean\":true},{\"alignmentgroup\":\"True\",\"boxpoints\":\"all\",\"hovertemplate\":\"Status=%{x}<br>Total Points=%{y}<extra></extra>\",\"legendgroup\":\"Legendary\",\"marker\":{\"color\":\"orange\"},\"name\":\"Legendary\",\"notched\":false,\"offsetgroup\":\"Legendary\",\"orientation\":\"v\",\"showlegend\":true,\"x\":[\"Legendary\",\"Legendary\",\"Legendary\",\"Legendary\",\"Legendary\",\"Legendary\",\"Legendary\",\"Legendary\",\"Legendary\",\"Legendary\",\"Legendary\",\"Legendary\",\"Legendary\",\"Legendary\",\"Legendary\",\"Legendary\",\"Legendary\",\"Legendary\",\"Legendary\",\"Legendary\",\"Legendary\",\"Legendary\",\"Legendary\",\"Legendary\",\"Legendary\",\"Legendary\",\"Legendary\",\"Legendary\",\"Legendary\",\"Legendary\",\"Legendary\",\"Legendary\",\"Legendary\",\"Legendary\",\"Legendary\",\"Legendary\",\"Legendary\",\"Legendary\",\"Legendary\",\"Legendary\",\"Legendary\",\"Legendary\"],\"x0\":\" \",\"xaxis\":\"x\",\"y\":[680,780,780,680,680,670,770,670,770,680,780,680,680,680,680,680,680,660,700,700,680,680,600,486,708,200,400,680,680,600,680,680,754,720,670,720,670,690,1125,500,680,680],\"y0\":\" \",\"yaxis\":\"y\",\"type\":\"box\",\"boxmean\":true},{\"alignmentgroup\":\"True\",\"boxpoints\":\"all\",\"hovertemplate\":\"Status=%{x}<br>Total Points=%{y}<extra></extra>\",\"legendgroup\":\"Mythical\",\"marker\":{\"color\":\"green\"},\"name\":\"Mythical\",\"notched\":false,\"offsetgroup\":\"Mythical\",\"orientation\":\"v\",\"showlegend\":true,\"x\":[\"Mythical\",\"Mythical\",\"Mythical\",\"Mythical\",\"Mythical\",\"Mythical\",\"Mythical\",\"Mythical\",\"Mythical\",\"Mythical\",\"Mythical\",\"Mythical\",\"Mythical\",\"Mythical\",\"Mythical\",\"Mythical\",\"Mythical\",\"Mythical\",\"Mythical\",\"Mythical\",\"Mythical\",\"Mythical\",\"Mythical\",\"Mythical\",\"Mythical\",\"Mythical\",\"Mythical\",\"Mythical\",\"Mythical\",\"Mythical\"],\"x0\":\" \",\"xaxis\":\"x\",\"y\":[600,600,600,600,600,600,600,480,600,600,600,600,720,600,580,580,600,600,600,600,700,600,680,600,600,600,600,300,600,600],\"y0\":\" \",\"yaxis\":\"y\",\"type\":\"box\",\"boxmean\":true}],                        {\"template\":{\"data\":{\"barpolar\":[{\"marker\":{\"line\":{\"color\":\"white\",\"width\":0.5},\"pattern\":{\"fillmode\":\"overlay\",\"size\":10,\"solidity\":0.2}},\"type\":\"barpolar\"}],\"bar\":[{\"error_x\":{\"color\":\"#2a3f5f\"},\"error_y\":{\"color\":\"#2a3f5f\"},\"marker\":{\"line\":{\"color\":\"white\",\"width\":0.5},\"pattern\":{\"fillmode\":\"overlay\",\"size\":10,\"solidity\":0.2}},\"type\":\"bar\"}],\"carpet\":[{\"aaxis\":{\"endlinecolor\":\"#2a3f5f\",\"gridcolor\":\"#C8D4E3\",\"linecolor\":\"#C8D4E3\",\"minorgridcolor\":\"#C8D4E3\",\"startlinecolor\":\"#2a3f5f\"},\"baxis\":{\"endlinecolor\":\"#2a3f5f\",\"gridcolor\":\"#C8D4E3\",\"linecolor\":\"#C8D4E3\",\"minorgridcolor\":\"#C8D4E3\",\"startlinecolor\":\"#2a3f5f\"},\"type\":\"carpet\"}],\"choropleth\":[{\"colorbar\":{\"outlinewidth\":0,\"ticks\":\"\"},\"type\":\"choropleth\"}],\"contourcarpet\":[{\"colorbar\":{\"outlinewidth\":0,\"ticks\":\"\"},\"type\":\"contourcarpet\"}],\"contour\":[{\"colorbar\":{\"outlinewidth\":0,\"ticks\":\"\"},\"colorscale\":[[0.0,\"#0d0887\"],[0.1111111111111111,\"#46039f\"],[0.2222222222222222,\"#7201a8\"],[0.3333333333333333,\"#9c179e\"],[0.4444444444444444,\"#bd3786\"],[0.5555555555555556,\"#d8576b\"],[0.6666666666666666,\"#ed7953\"],[0.7777777777777778,\"#fb9f3a\"],[0.8888888888888888,\"#fdca26\"],[1.0,\"#f0f921\"]],\"type\":\"contour\"}],\"heatmapgl\":[{\"colorbar\":{\"outlinewidth\":0,\"ticks\":\"\"},\"colorscale\":[[0.0,\"#0d0887\"],[0.1111111111111111,\"#46039f\"],[0.2222222222222222,\"#7201a8\"],[0.3333333333333333,\"#9c179e\"],[0.4444444444444444,\"#bd3786\"],[0.5555555555555556,\"#d8576b\"],[0.6666666666666666,\"#ed7953\"],[0.7777777777777778,\"#fb9f3a\"],[0.8888888888888888,\"#fdca26\"],[1.0,\"#f0f921\"]],\"type\":\"heatmapgl\"}],\"heatmap\":[{\"colorbar\":{\"outlinewidth\":0,\"ticks\":\"\"},\"colorscale\":[[0.0,\"#0d0887\"],[0.1111111111111111,\"#46039f\"],[0.2222222222222222,\"#7201a8\"],[0.3333333333333333,\"#9c179e\"],[0.4444444444444444,\"#bd3786\"],[0.5555555555555556,\"#d8576b\"],[0.6666666666666666,\"#ed7953\"],[0.7777777777777778,\"#fb9f3a\"],[0.8888888888888888,\"#fdca26\"],[1.0,\"#f0f921\"]],\"type\":\"heatmap\"}],\"histogram2dcontour\":[{\"colorbar\":{\"outlinewidth\":0,\"ticks\":\"\"},\"colorscale\":[[0.0,\"#0d0887\"],[0.1111111111111111,\"#46039f\"],[0.2222222222222222,\"#7201a8\"],[0.3333333333333333,\"#9c179e\"],[0.4444444444444444,\"#bd3786\"],[0.5555555555555556,\"#d8576b\"],[0.6666666666666666,\"#ed7953\"],[0.7777777777777778,\"#fb9f3a\"],[0.8888888888888888,\"#fdca26\"],[1.0,\"#f0f921\"]],\"type\":\"histogram2dcontour\"}],\"histogram2d\":[{\"colorbar\":{\"outlinewidth\":0,\"ticks\":\"\"},\"colorscale\":[[0.0,\"#0d0887\"],[0.1111111111111111,\"#46039f\"],[0.2222222222222222,\"#7201a8\"],[0.3333333333333333,\"#9c179e\"],[0.4444444444444444,\"#bd3786\"],[0.5555555555555556,\"#d8576b\"],[0.6666666666666666,\"#ed7953\"],[0.7777777777777778,\"#fb9f3a\"],[0.8888888888888888,\"#fdca26\"],[1.0,\"#f0f921\"]],\"type\":\"histogram2d\"}],\"histogram\":[{\"marker\":{\"pattern\":{\"fillmode\":\"overlay\",\"size\":10,\"solidity\":0.2}},\"type\":\"histogram\"}],\"mesh3d\":[{\"colorbar\":{\"outlinewidth\":0,\"ticks\":\"\"},\"type\":\"mesh3d\"}],\"parcoords\":[{\"line\":{\"colorbar\":{\"outlinewidth\":0,\"ticks\":\"\"}},\"type\":\"parcoords\"}],\"pie\":[{\"automargin\":true,\"type\":\"pie\"}],\"scatter3d\":[{\"line\":{\"colorbar\":{\"outlinewidth\":0,\"ticks\":\"\"}},\"marker\":{\"colorbar\":{\"outlinewidth\":0,\"ticks\":\"\"}},\"type\":\"scatter3d\"}],\"scattercarpet\":[{\"marker\":{\"colorbar\":{\"outlinewidth\":0,\"ticks\":\"\"}},\"type\":\"scattercarpet\"}],\"scattergeo\":[{\"marker\":{\"colorbar\":{\"outlinewidth\":0,\"ticks\":\"\"}},\"type\":\"scattergeo\"}],\"scattergl\":[{\"marker\":{\"colorbar\":{\"outlinewidth\":0,\"ticks\":\"\"}},\"type\":\"scattergl\"}],\"scattermapbox\":[{\"marker\":{\"colorbar\":{\"outlinewidth\":0,\"ticks\":\"\"}},\"type\":\"scattermapbox\"}],\"scatterpolargl\":[{\"marker\":{\"colorbar\":{\"outlinewidth\":0,\"ticks\":\"\"}},\"type\":\"scatterpolargl\"}],\"scatterpolar\":[{\"marker\":{\"colorbar\":{\"outlinewidth\":0,\"ticks\":\"\"}},\"type\":\"scatterpolar\"}],\"scatter\":[{\"fillpattern\":{\"fillmode\":\"overlay\",\"size\":10,\"solidity\":0.2},\"type\":\"scatter\"}],\"scatterternary\":[{\"marker\":{\"colorbar\":{\"outlinewidth\":0,\"ticks\":\"\"}},\"type\":\"scatterternary\"}],\"surface\":[{\"colorbar\":{\"outlinewidth\":0,\"ticks\":\"\"},\"colorscale\":[[0.0,\"#0d0887\"],[0.1111111111111111,\"#46039f\"],[0.2222222222222222,\"#7201a8\"],[0.3333333333333333,\"#9c179e\"],[0.4444444444444444,\"#bd3786\"],[0.5555555555555556,\"#d8576b\"],[0.6666666666666666,\"#ed7953\"],[0.7777777777777778,\"#fb9f3a\"],[0.8888888888888888,\"#fdca26\"],[1.0,\"#f0f921\"]],\"type\":\"surface\"}],\"table\":[{\"cells\":{\"fill\":{\"color\":\"#EBF0F8\"},\"line\":{\"color\":\"white\"}},\"header\":{\"fill\":{\"color\":\"#C8D4E3\"},\"line\":{\"color\":\"white\"}},\"type\":\"table\"}]},\"layout\":{\"annotationdefaults\":{\"arrowcolor\":\"#2a3f5f\",\"arrowhead\":0,\"arrowwidth\":1},\"autotypenumbers\":\"strict\",\"coloraxis\":{\"colorbar\":{\"outlinewidth\":0,\"ticks\":\"\"}},\"colorscale\":{\"diverging\":[[0,\"#8e0152\"],[0.1,\"#c51b7d\"],[0.2,\"#de77ae\"],[0.3,\"#f1b6da\"],[0.4,\"#fde0ef\"],[0.5,\"#f7f7f7\"],[0.6,\"#e6f5d0\"],[0.7,\"#b8e186\"],[0.8,\"#7fbc41\"],[0.9,\"#4d9221\"],[1,\"#276419\"]],\"sequential\":[[0.0,\"#0d0887\"],[0.1111111111111111,\"#46039f\"],[0.2222222222222222,\"#7201a8\"],[0.3333333333333333,\"#9c179e\"],[0.4444444444444444,\"#bd3786\"],[0.5555555555555556,\"#d8576b\"],[0.6666666666666666,\"#ed7953\"],[0.7777777777777778,\"#fb9f3a\"],[0.8888888888888888,\"#fdca26\"],[1.0,\"#f0f921\"]],\"sequentialminus\":[[0.0,\"#0d0887\"],[0.1111111111111111,\"#46039f\"],[0.2222222222222222,\"#7201a8\"],[0.3333333333333333,\"#9c179e\"],[0.4444444444444444,\"#bd3786\"],[0.5555555555555556,\"#d8576b\"],[0.6666666666666666,\"#ed7953\"],[0.7777777777777778,\"#fb9f3a\"],[0.8888888888888888,\"#fdca26\"],[1.0,\"#f0f921\"]]},\"colorway\":[\"#636efa\",\"#EF553B\",\"#00cc96\",\"#ab63fa\",\"#FFA15A\",\"#19d3f3\",\"#FF6692\",\"#B6E880\",\"#FF97FF\",\"#FECB52\"],\"font\":{\"color\":\"#2a3f5f\"},\"geo\":{\"bgcolor\":\"white\",\"lakecolor\":\"white\",\"landcolor\":\"white\",\"showlakes\":true,\"showland\":true,\"subunitcolor\":\"#C8D4E3\"},\"hoverlabel\":{\"align\":\"left\"},\"hovermode\":\"closest\",\"mapbox\":{\"style\":\"light\"},\"paper_bgcolor\":\"white\",\"plot_bgcolor\":\"white\",\"polar\":{\"angularaxis\":{\"gridcolor\":\"#EBF0F8\",\"linecolor\":\"#EBF0F8\",\"ticks\":\"\"},\"bgcolor\":\"white\",\"radialaxis\":{\"gridcolor\":\"#EBF0F8\",\"linecolor\":\"#EBF0F8\",\"ticks\":\"\"}},\"scene\":{\"xaxis\":{\"backgroundcolor\":\"white\",\"gridcolor\":\"#DFE8F3\",\"gridwidth\":2,\"linecolor\":\"#EBF0F8\",\"showbackground\":true,\"ticks\":\"\",\"zerolinecolor\":\"#EBF0F8\"},\"yaxis\":{\"backgroundcolor\":\"white\",\"gridcolor\":\"#DFE8F3\",\"gridwidth\":2,\"linecolor\":\"#EBF0F8\",\"showbackground\":true,\"ticks\":\"\",\"zerolinecolor\":\"#EBF0F8\"},\"zaxis\":{\"backgroundcolor\":\"white\",\"gridcolor\":\"#DFE8F3\",\"gridwidth\":2,\"linecolor\":\"#EBF0F8\",\"showbackground\":true,\"ticks\":\"\",\"zerolinecolor\":\"#EBF0F8\"}},\"shapedefaults\":{\"line\":{\"color\":\"#2a3f5f\"}},\"ternary\":{\"aaxis\":{\"gridcolor\":\"#DFE8F3\",\"linecolor\":\"#A2B1C6\",\"ticks\":\"\"},\"baxis\":{\"gridcolor\":\"#DFE8F3\",\"linecolor\":\"#A2B1C6\",\"ticks\":\"\"},\"bgcolor\":\"white\",\"caxis\":{\"gridcolor\":\"#DFE8F3\",\"linecolor\":\"#A2B1C6\",\"ticks\":\"\"}},\"title\":{\"x\":0.05},\"xaxis\":{\"automargin\":true,\"gridcolor\":\"#EBF0F8\",\"linecolor\":\"#EBF0F8\",\"ticks\":\"\",\"title\":{\"standoff\":15},\"zerolinecolor\":\"#EBF0F8\",\"zerolinewidth\":2},\"yaxis\":{\"automargin\":true,\"gridcolor\":\"#EBF0F8\",\"linecolor\":\"#EBF0F8\",\"ticks\":\"\",\"title\":{\"standoff\":15},\"zerolinecolor\":\"#EBF0F8\",\"zerolinewidth\":2}}},\"xaxis\":{\"anchor\":\"y\",\"domain\":[0.0,1.0],\"title\":{\"text\":\"Status\"},\"categoryorder\":\"array\",\"categoryarray\":[\"Normal\",\"Sub Legendary\",\"Legendary\",\"Mythical\"]},\"yaxis\":{\"anchor\":\"x\",\"domain\":[0.0,1.0],\"title\":{\"text\":\"Total Points\"}},\"legend\":{\"title\":{\"text\":\"Status\"},\"tracegroupgap\":0},\"title\":{\"text\":\"Total Points Distribution by Pok\\u00e9mon Status\"},\"boxmode\":\"overlay\",\"showlegend\":false},                        {\"responsive\": true}                    ).then(function(){\n                            \nvar gd = document.getElementById('847752b0-bcf5-4e09-b442-241ca10ba1a3');\nvar x = new MutationObserver(function (mutations, observer) {{\n        var display = window.getComputedStyle(gd).display;\n        if (!display || display === 'none') {{\n            console.log([gd, 'removed!']);\n            Plotly.purge(gd);\n            observer.disconnect();\n        }}\n}});\n\n// Listen for the removal of the full notebook cells\nvar notebookContainer = gd.closest('#notebook-container');\nif (notebookContainer) {{\n    x.observe(notebookContainer, {childList: true});\n}}\n\n// Listen for the clearing of the current output cell\nvar outputEl = gd.closest('.output');\nif (outputEl) {{\n    x.observe(outputEl, {childList: true});\n}}\n\n                        })                };                });            </script>        </div>"
     },
     "metadata": {},
     "output_type": "display_data"
    }
   ],
   "source": [
    "import plotly.express as px\n",
    "\n",
    "# Define custom color palette for each status\n",
    "status_colors = {'Normal': 'blue', 'Legendary': 'orange', 'Mythical': 'green'}\n",
    "\n",
    "fig = px.box(pokedex, x='status', y='total_points', points='all', color='status', color_discrete_map=status_colors,\n",
    "             title='Total Points Distribution by Pokémon Status',\n",
    "             labels={'status': 'Status', 'total_points': 'Total Points'},\n",
    "             template='plotly_white')\n",
    "\n",
    "# Customize axes\n",
    "fig.update_xaxes(title_text='Status')\n",
    "fig.update_yaxes(title_text='Total Points')\n",
    "\n",
    "# Customize layout\n",
    "fig.update_layout(showlegend=False)  # Hide legend since colors represent status\n",
    "fig.update_traces(boxmean=True)  # Show mean line inside box\n",
    "fig.show()\n"
   ],
   "metadata": {
    "collapsed": false,
    "ExecuteTime": {
     "end_time": "2024-04-24T00:31:52.908440100Z",
     "start_time": "2024-04-24T00:31:52.551536200Z"
    }
   },
   "id": "ee340c628bb6e71b"
  },
  {
   "cell_type": "code",
   "execution_count": 33,
   "outputs": [
    {
     "data": {
      "application/vnd.plotly.v1+json": {
       "data": [
        {
         "alignmentgroup": "True",
         "boxpoints": "all",
         "hovertemplate": "Status=%{x}<br>height_m=%{y}<extra></extra>",
         "legendgroup": "Normal",
         "marker": {
          "color": "blue"
         },
         "name": "Normal",
         "notched": false,
         "offsetgroup": "Normal",
         "orientation": "v",
         "showlegend": true,
         "x": [
          "Normal",
          "Normal",
          "Normal",
          "Normal",
          "Normal",
          "Normal",
          "Normal",
          "Normal",
          "Normal",
          "Normal",
          "Normal",
          "Normal",
          "Normal",
          "Normal",
          "Normal",
          "Normal",
          "Normal",
          "Normal",
          "Normal",
          "Normal",
          "Normal",
          "Normal",
          "Normal",
          "Normal",
          "Normal",
          "Normal",
          "Normal",
          "Normal",
          "Normal",
          "Normal",
          "Normal",
          "Normal",
          "Normal",
          "Normal",
          "Normal",
          "Normal",
          "Normal",
          "Normal",
          "Normal",
          "Normal",
          "Normal",
          "Normal",
          "Normal",
          "Normal",
          "Normal",
          "Normal",
          "Normal",
          "Normal",
          "Normal",
          "Normal",
          "Normal",
          "Normal",
          "Normal",
          "Normal",
          "Normal",
          "Normal",
          "Normal",
          "Normal",
          "Normal",
          "Normal",
          "Normal",
          "Normal",
          "Normal",
          "Normal",
          "Normal",
          "Normal",
          "Normal",
          "Normal",
          "Normal",
          "Normal",
          "Normal",
          "Normal",
          "Normal",
          "Normal",
          "Normal",
          "Normal",
          "Normal",
          "Normal",
          "Normal",
          "Normal",
          "Normal",
          "Normal",
          "Normal",
          "Normal",
          "Normal",
          "Normal",
          "Normal",
          "Normal",
          "Normal",
          "Normal",
          "Normal",
          "Normal",
          "Normal",
          "Normal",
          "Normal",
          "Normal",
          "Normal",
          "Normal",
          "Normal",
          "Normal",
          "Normal",
          "Normal",
          "Normal",
          "Normal",
          "Normal",
          "Normal",
          "Normal",
          "Normal",
          "Normal",
          "Normal",
          "Normal",
          "Normal",
          "Normal",
          "Normal",
          "Normal",
          "Normal",
          "Normal",
          "Normal",
          "Normal",
          "Normal",
          "Normal",
          "Normal",
          "Normal",
          "Normal",
          "Normal",
          "Normal",
          "Normal",
          "Normal",
          "Normal",
          "Normal",
          "Normal",
          "Normal",
          "Normal",
          "Normal",
          "Normal",
          "Normal",
          "Normal",
          "Normal",
          "Normal",
          "Normal",
          "Normal",
          "Normal",
          "Normal",
          "Normal",
          "Normal",
          "Normal",
          "Normal",
          "Normal",
          "Normal",
          "Normal",
          "Normal",
          "Normal",
          "Normal",
          "Normal",
          "Normal",
          "Normal",
          "Normal",
          "Normal",
          "Normal",
          "Normal",
          "Normal",
          "Normal",
          "Normal",
          "Normal",
          "Normal",
          "Normal",
          "Normal",
          "Normal",
          "Normal",
          "Normal",
          "Normal",
          "Normal",
          "Normal",
          "Normal",
          "Normal",
          "Normal",
          "Normal",
          "Normal",
          "Normal",
          "Normal",
          "Normal",
          "Normal",
          "Normal",
          "Normal",
          "Normal",
          "Normal",
          "Normal",
          "Normal",
          "Normal",
          "Normal",
          "Normal",
          "Normal",
          "Normal",
          "Normal",
          "Normal",
          "Normal",
          "Normal",
          "Normal",
          "Normal",
          "Normal",
          "Normal",
          "Normal",
          "Normal",
          "Normal",
          "Normal",
          "Normal",
          "Normal",
          "Normal",
          "Normal",
          "Normal",
          "Normal",
          "Normal",
          "Normal",
          "Normal",
          "Normal",
          "Normal",
          "Normal",
          "Normal",
          "Normal",
          "Normal",
          "Normal",
          "Normal",
          "Normal",
          "Normal",
          "Normal",
          "Normal",
          "Normal",
          "Normal",
          "Normal",
          "Normal",
          "Normal",
          "Normal",
          "Normal",
          "Normal",
          "Normal",
          "Normal",
          "Normal",
          "Normal",
          "Normal",
          "Normal",
          "Normal",
          "Normal",
          "Normal",
          "Normal",
          "Normal",
          "Normal",
          "Normal",
          "Normal",
          "Normal",
          "Normal",
          "Normal",
          "Normal",
          "Normal",
          "Normal",
          "Normal",
          "Normal",
          "Normal",
          "Normal",
          "Normal",
          "Normal",
          "Normal",
          "Normal",
          "Normal",
          "Normal",
          "Normal",
          "Normal",
          "Normal",
          "Normal",
          "Normal",
          "Normal",
          "Normal",
          "Normal",
          "Normal",
          "Normal",
          "Normal",
          "Normal",
          "Normal",
          "Normal",
          "Normal",
          "Normal",
          "Normal",
          "Normal",
          "Normal",
          "Normal",
          "Normal",
          "Normal",
          "Normal",
          "Normal",
          "Normal",
          "Normal",
          "Normal",
          "Normal",
          "Normal",
          "Normal",
          "Normal",
          "Normal",
          "Normal",
          "Normal",
          "Normal",
          "Normal",
          "Normal",
          "Normal",
          "Normal",
          "Normal",
          "Normal",
          "Normal",
          "Normal",
          "Normal",
          "Normal",
          "Normal",
          "Normal",
          "Normal",
          "Normal",
          "Normal",
          "Normal",
          "Normal",
          "Normal",
          "Normal",
          "Normal",
          "Normal",
          "Normal",
          "Normal",
          "Normal",
          "Normal",
          "Normal",
          "Normal",
          "Normal",
          "Normal",
          "Normal",
          "Normal",
          "Normal",
          "Normal",
          "Normal",
          "Normal",
          "Normal",
          "Normal",
          "Normal",
          "Normal",
          "Normal",
          "Normal",
          "Normal",
          "Normal",
          "Normal",
          "Normal",
          "Normal",
          "Normal",
          "Normal",
          "Normal",
          "Normal",
          "Normal",
          "Normal",
          "Normal",
          "Normal",
          "Normal",
          "Normal",
          "Normal",
          "Normal",
          "Normal",
          "Normal",
          "Normal",
          "Normal",
          "Normal",
          "Normal",
          "Normal",
          "Normal",
          "Normal",
          "Normal",
          "Normal",
          "Normal",
          "Normal",
          "Normal",
          "Normal",
          "Normal",
          "Normal",
          "Normal",
          "Normal",
          "Normal",
          "Normal",
          "Normal",
          "Normal",
          "Normal",
          "Normal",
          "Normal",
          "Normal",
          "Normal",
          "Normal",
          "Normal",
          "Normal",
          "Normal",
          "Normal",
          "Normal",
          "Normal",
          "Normal",
          "Normal",
          "Normal",
          "Normal",
          "Normal",
          "Normal",
          "Normal",
          "Normal",
          "Normal",
          "Normal",
          "Normal",
          "Normal",
          "Normal",
          "Normal",
          "Normal",
          "Normal",
          "Normal",
          "Normal",
          "Normal",
          "Normal",
          "Normal",
          "Normal",
          "Normal",
          "Normal",
          "Normal",
          "Normal",
          "Normal",
          "Normal",
          "Normal",
          "Normal",
          "Normal",
          "Normal",
          "Normal",
          "Normal",
          "Normal",
          "Normal",
          "Normal",
          "Normal",
          "Normal",
          "Normal",
          "Normal",
          "Normal",
          "Normal",
          "Normal",
          "Normal",
          "Normal",
          "Normal",
          "Normal",
          "Normal",
          "Normal",
          "Normal",
          "Normal",
          "Normal",
          "Normal",
          "Normal",
          "Normal",
          "Normal",
          "Normal",
          "Normal",
          "Normal",
          "Normal",
          "Normal",
          "Normal",
          "Normal",
          "Normal",
          "Normal",
          "Normal",
          "Normal",
          "Normal",
          "Normal",
          "Normal",
          "Normal",
          "Normal",
          "Normal",
          "Normal",
          "Normal",
          "Normal",
          "Normal",
          "Normal",
          "Normal",
          "Normal",
          "Normal",
          "Normal",
          "Normal",
          "Normal",
          "Normal",
          "Normal",
          "Normal",
          "Normal",
          "Normal",
          "Normal",
          "Normal",
          "Normal",
          "Normal",
          "Normal",
          "Normal",
          "Normal",
          "Normal",
          "Normal",
          "Normal",
          "Normal",
          "Normal",
          "Normal",
          "Normal",
          "Normal",
          "Normal",
          "Normal",
          "Normal",
          "Normal",
          "Normal",
          "Normal",
          "Normal",
          "Normal",
          "Normal",
          "Normal",
          "Normal",
          "Normal",
          "Normal",
          "Normal",
          "Normal",
          "Normal",
          "Normal",
          "Normal",
          "Normal",
          "Normal",
          "Normal",
          "Normal",
          "Normal",
          "Normal",
          "Normal",
          "Normal",
          "Normal",
          "Normal",
          "Normal",
          "Normal",
          "Normal",
          "Normal",
          "Normal",
          "Normal",
          "Normal",
          "Normal",
          "Normal",
          "Normal",
          "Normal",
          "Normal",
          "Normal",
          "Normal",
          "Normal",
          "Normal",
          "Normal",
          "Normal",
          "Normal",
          "Normal",
          "Normal",
          "Normal",
          "Normal",
          "Normal",
          "Normal",
          "Normal",
          "Normal",
          "Normal",
          "Normal",
          "Normal",
          "Normal",
          "Normal",
          "Normal",
          "Normal",
          "Normal",
          "Normal",
          "Normal",
          "Normal",
          "Normal",
          "Normal",
          "Normal",
          "Normal",
          "Normal",
          "Normal",
          "Normal",
          "Normal",
          "Normal",
          "Normal",
          "Normal",
          "Normal",
          "Normal",
          "Normal",
          "Normal",
          "Normal",
          "Normal",
          "Normal",
          "Normal",
          "Normal",
          "Normal",
          "Normal",
          "Normal",
          "Normal",
          "Normal",
          "Normal",
          "Normal",
          "Normal",
          "Normal",
          "Normal",
          "Normal",
          "Normal",
          "Normal",
          "Normal",
          "Normal",
          "Normal",
          "Normal",
          "Normal",
          "Normal",
          "Normal",
          "Normal",
          "Normal",
          "Normal",
          "Normal",
          "Normal",
          "Normal",
          "Normal",
          "Normal",
          "Normal",
          "Normal",
          "Normal",
          "Normal",
          "Normal",
          "Normal",
          "Normal",
          "Normal",
          "Normal",
          "Normal",
          "Normal",
          "Normal",
          "Normal",
          "Normal",
          "Normal",
          "Normal",
          "Normal",
          "Normal",
          "Normal",
          "Normal",
          "Normal",
          "Normal",
          "Normal",
          "Normal",
          "Normal",
          "Normal",
          "Normal",
          "Normal",
          "Normal",
          "Normal",
          "Normal",
          "Normal",
          "Normal",
          "Normal",
          "Normal",
          "Normal",
          "Normal",
          "Normal",
          "Normal",
          "Normal",
          "Normal",
          "Normal",
          "Normal",
          "Normal",
          "Normal",
          "Normal",
          "Normal",
          "Normal",
          "Normal",
          "Normal",
          "Normal",
          "Normal",
          "Normal",
          "Normal",
          "Normal",
          "Normal",
          "Normal",
          "Normal",
          "Normal",
          "Normal",
          "Normal",
          "Normal",
          "Normal",
          "Normal",
          "Normal",
          "Normal",
          "Normal",
          "Normal",
          "Normal",
          "Normal",
          "Normal",
          "Normal",
          "Normal",
          "Normal",
          "Normal",
          "Normal",
          "Normal",
          "Normal",
          "Normal",
          "Normal",
          "Normal",
          "Normal",
          "Normal",
          "Normal",
          "Normal",
          "Normal",
          "Normal",
          "Normal",
          "Normal",
          "Normal",
          "Normal",
          "Normal",
          "Normal",
          "Normal",
          "Normal",
          "Normal",
          "Normal",
          "Normal",
          "Normal",
          "Normal",
          "Normal",
          "Normal",
          "Normal",
          "Normal",
          "Normal",
          "Normal",
          "Normal",
          "Normal",
          "Normal",
          "Normal",
          "Normal",
          "Normal",
          "Normal",
          "Normal",
          "Normal",
          "Normal",
          "Normal",
          "Normal",
          "Normal",
          "Normal",
          "Normal",
          "Normal",
          "Normal",
          "Normal",
          "Normal",
          "Normal",
          "Normal",
          "Normal",
          "Normal",
          "Normal",
          "Normal",
          "Normal",
          "Normal",
          "Normal",
          "Normal",
          "Normal",
          "Normal",
          "Normal",
          "Normal",
          "Normal",
          "Normal",
          "Normal",
          "Normal",
          "Normal",
          "Normal",
          "Normal",
          "Normal",
          "Normal",
          "Normal",
          "Normal",
          "Normal",
          "Normal",
          "Normal",
          "Normal",
          "Normal",
          "Normal",
          "Normal",
          "Normal",
          "Normal",
          "Normal",
          "Normal",
          "Normal",
          "Normal",
          "Normal",
          "Normal",
          "Normal",
          "Normal",
          "Normal",
          "Normal",
          "Normal",
          "Normal",
          "Normal",
          "Normal",
          "Normal",
          "Normal",
          "Normal",
          "Normal",
          "Normal",
          "Normal",
          "Normal",
          "Normal",
          "Normal",
          "Normal",
          "Normal",
          "Normal",
          "Normal",
          "Normal",
          "Normal",
          "Normal",
          "Normal",
          "Normal",
          "Normal",
          "Normal",
          "Normal",
          "Normal",
          "Normal",
          "Normal",
          "Normal",
          "Normal",
          "Normal",
          "Normal",
          "Normal",
          "Normal",
          "Normal",
          "Normal",
          "Normal",
          "Normal",
          "Normal",
          "Normal",
          "Normal",
          "Normal",
          "Normal",
          "Normal",
          "Normal",
          "Normal",
          "Normal",
          "Normal",
          "Normal",
          "Normal",
          "Normal",
          "Normal",
          "Normal",
          "Normal",
          "Normal",
          "Normal",
          "Normal",
          "Normal",
          "Normal",
          "Normal",
          "Normal",
          "Normal",
          "Normal",
          "Normal",
          "Normal",
          "Normal",
          "Normal",
          "Normal",
          "Normal",
          "Normal",
          "Normal",
          "Normal",
          "Normal",
          "Normal",
          "Normal",
          "Normal",
          "Normal",
          "Normal",
          "Normal",
          "Normal",
          "Normal",
          "Normal",
          "Normal",
          "Normal",
          "Normal",
          "Normal",
          "Normal",
          "Normal",
          "Normal",
          "Normal",
          "Normal",
          "Normal",
          "Normal",
          "Normal",
          "Normal",
          "Normal",
          "Normal",
          "Normal",
          "Normal",
          "Normal",
          "Normal",
          "Normal",
          "Normal",
          "Normal",
          "Normal",
          "Normal",
          "Normal",
          "Normal",
          "Normal",
          "Normal",
          "Normal",
          "Normal",
          "Normal",
          "Normal",
          "Normal",
          "Normal",
          "Normal",
          "Normal",
          "Normal",
          "Normal",
          "Normal",
          "Normal",
          "Normal",
          "Normal",
          "Normal",
          "Normal",
          "Normal",
          "Normal",
          "Normal",
          "Normal",
          "Normal",
          "Normal",
          "Normal",
          "Normal",
          "Normal",
          "Normal",
          "Normal",
          "Normal"
         ],
         "x0": " ",
         "xaxis": "x",
         "y": [
          0.7,
          1.0,
          2.0,
          2.4,
          0.6,
          1.1,
          1.7,
          1.7,
          1.7,
          0.5,
          1.0,
          1.6,
          1.6,
          0.3,
          0.7,
          1.1,
          0.3,
          0.6,
          1.0,
          1.4,
          0.3,
          1.1,
          1.5,
          2.2,
          0.3,
          0.3,
          0.7,
          0.7,
          0.3,
          1.2,
          2.0,
          3.5,
          0.4,
          0.4,
          0.8,
          0.7,
          0.6,
          0.7,
          1.0,
          1.2,
          0.4,
          0.8,
          1.3,
          0.5,
          0.9,
          1.4,
          0.6,
          1.3,
          0.6,
          0.6,
          1.1,
          1.1,
          0.5,
          1.0,
          0.8,
          1.6,
          0.5,
          0.8,
          1.2,
          0.3,
          1.0,
          1.0,
          1.5,
          0.2,
          0.2,
          0.7,
          0.7,
          0.4,
          0.4,
          0.4,
          1.0,
          1.1,
          0.8,
          1.7,
          0.5,
          1.0,
          0.7,
          1.9,
          0.6,
          1.0,
          1.3,
          0.9,
          1.3,
          1.5,
          1.2,
          0.8,
          1.5,
          1.6,
          0.7,
          1.0,
          1.7,
          0.9,
          1.6,
          0.4,
          0.4,
          1.0,
          1.0,
          1.4,
          1.7,
          1.0,
          0.8,
          1.7,
          1.7,
          1.2,
          1.2,
          1.6,
          2.0,
          1.6,
          0.3,
          1.0,
          0.8,
          0.8,
          1.4,
          1.8,
          1.1,
          1.7,
          0.9,
          0.7,
          1.2,
          1.0,
          0.3,
          1.5,
          1.3,
          1.6,
          1.5,
          1.4,
          8.8,
          1.0,
          1.6,
          0.4,
          1.3,
          0.5,
          1.2,
          0.4,
          2.0,
          10.9,
          0.4,
          1.0,
          1.0,
          1.5,
          1.4,
          1.2,
          0.6,
          1.2,
          3.0,
          1.0,
          1.9,
          1.1,
          1.0,
          2.2,
          2.2,
          0.4,
          1.2,
          0.6,
          1.3,
          0.8,
          1.1,
          1.3,
          1.4,
          1.5,
          1.4,
          1.1,
          1.3,
          1.5,
          1.7,
          1.4,
          0.9,
          6.5,
          6.5,
          2.5,
          0.3,
          0.3,
          0.3,
          1.0,
          0.8,
          0.9,
          0.8,
          0.4,
          1.0,
          0.5,
          1.3,
          1.8,
          2.1,
          2.1,
          1.8,
          4.0,
          2.2,
          0.9,
          1.2,
          1.8,
          0.5,
          0.9,
          1.7,
          0.6,
          1.1,
          2.3,
          0.8,
          1.8,
          0.7,
          1.6,
          1.0,
          1.4,
          0.5,
          1.1,
          1.8,
          0.5,
          1.2,
          0.3,
          0.3,
          0.3,
          0.3,
          0.6,
          0.2,
          1.5,
          0.6,
          0.8,
          1.4,
          1.4,
          0.4,
          0.4,
          0.8,
          1.2,
          1.1,
          0.4,
          0.6,
          0.8,
          0.8,
          0.3,
          0.8,
          1.2,
          0.4,
          1.4,
          0.9,
          1.0,
          0.5,
          2.0,
          1.8,
          0.7,
          0.5,
          1.3,
          1.5,
          0.6,
          1.2,
          1.5,
          1.1,
          9.2,
          10.5,
          0.6,
          1.4,
          0.5,
          1.8,
          2.0,
          0.6,
          1.5,
          1.7,
          0.9,
          0.6,
          1.8,
          0.7,
          0.8,
          0.4,
          1.1,
          0.6,
          0.6,
          0.6,
          0.9,
          0.9,
          2.1,
          1.7,
          0.6,
          1.4,
          1.9,
          1.8,
          0.5,
          1.1,
          0.6,
          1.4,
          1.2,
          0.7,
          1.4,
          0.4,
          0.6,
          0.7,
          1.2,
          1.5,
          0.6,
          1.2,
          2.0,
          2.5,
          0.5,
          0.9,
          1.7,
          1.9,
          0.4,
          0.9,
          1.9,
          1.9,
          0.4,
          0.7,
          1.5,
          1.9,
          0.5,
          1.0,
          0.4,
          0.4,
          0.5,
          0.5,
          0.3,
          0.6,
          1.0,
          0.7,
          1.2,
          0.5,
          1.2,
          1.5,
          0.5,
          1.0,
          1.3,
          0.3,
          0.7,
          0.6,
          1.2,
          0.4,
          0.8,
          1.6,
          1.6,
          0.5,
          0.8,
          0.4,
          1.2,
          0.8,
          1.4,
          2.0,
          0.5,
          0.8,
          0.8,
          0.6,
          1.0,
          1.5,
          1.0,
          2.3,
          0.2,
          1.0,
          0.6,
          1.1,
          0.5,
          0.5,
          0.6,
          1.0,
          0.4,
          0.9,
          2.1,
          2.2,
          0.6,
          1.3,
          1.3,
          0.6,
          1.5,
          1.8,
          0.4,
          0.4,
          0.7,
          0.6,
          0.3,
          0.4,
          1.7,
          0.8,
          1.8,
          2.5,
          2.0,
          14.5,
          0.7,
          1.9,
          2.5,
          0.5,
          0.7,
          0.9,
          1.1,
          0.7,
          1.1,
          2.0,
          0.4,
          1.3,
          0.4,
          1.1,
          1.5,
          1.3,
          2.7,
          1.0,
          1.2,
          0.4,
          0.9,
          0.6,
          1.1,
          0.5,
          1.5,
          1.0,
          1.5,
          0.7,
          1.5,
          0.6,
          6.2,
          0.3,
          0.3,
          0.3,
          0.3,
          1.0,
          0.6,
          1.1,
          1.2,
          0.8,
          1.6,
          2.0,
          0.6,
          1.2,
          1.2,
          0.6,
          0.7,
          1.5,
          2.1,
          0.8,
          1.1,
          1.4,
          0.4,
          1.7,
          1.8,
          1.0,
          0.6,
          0.6,
          1.1,
          1.5,
          1.8,
          0.6,
          1.2,
          1.6,
          2.5,
          0.4,
          1.1,
          2.2,
          0.5,
          0.9,
          1.2,
          0.4,
          0.8,
          1.7,
          0.3,
          0.6,
          1.2,
          0.5,
          1.0,
          0.3,
          1.0,
          0.5,
          0.9,
          1.4,
          0.2,
          0.9,
          0.9,
          1.6,
          0.5,
          1.3,
          0.2,
          0.5,
          0.5,
          0.5,
          0.9,
          0.3,
          1.2,
          0.4,
          0.7,
          1.1,
          0.4,
          0.5,
          0.3,
          0.9,
          1.2,
          0.4,
          1.2,
          0.4,
          1.2,
          1.3,
          0.9,
          0.9,
          0.5,
          1.0,
          0.2,
          0.4,
          1.0,
          0.5,
          1.3,
          0.5,
          0.6,
          0.6,
          0.5,
          1.0,
          0.7,
          1.4,
          1.9,
          1.9,
          0.6,
          0.7,
          1.2,
          1.3,
          0.8,
          2.0,
          0.8,
          1.3,
          0.7,
          1.3,
          1.4,
          0.4,
          1.2,
          1.0,
          1.0,
          2.2,
          2.7,
          1.1,
          1.2,
          1.7,
          2.4,
          2.0,
          1.8,
          1.6,
          1.5,
          1.9,
          1.0,
          0.8,
          2.0,
          2.5,
          0.9,
          1.6,
          1.6,
          1.4,
          2.2,
          1.3,
          0.3,
          0.3,
          0.3,
          0.3,
          0.3,
          0.3,
          0.6,
          0.8,
          3.3,
          0.5,
          1.0,
          1.6,
          0.5,
          0.8,
          1.5,
          0.5,
          1.1,
          0.4,
          0.9,
          1.2,
          0.4,
          1.1,
          0.6,
          1.1,
          0.6,
          1.0,
          0.6,
          1.0,
          0.6,
          1.1,
          0.3,
          0.6,
          1.2,
          0.8,
          1.6,
          0.4,
          0.9,
          1.7,
          0.4,
          0.9,
          0.3,
          0.7,
          1.1,
          1.5,
          0.6,
          1.2,
          1.4,
          0.5,
          0.8,
          1.5,
          1.3,
          1.4,
          0.3,
          0.5,
          1.2,
          0.4,
          1.2,
          2.5,
          0.3,
          0.7,
          0.5,
          1.1,
          1.0,
          1.0,
          0.7,
          1.0,
          1.5,
          0.6,
          0.7,
          1.3,
          1.3,
          1.7,
          1.7,
          1.0,
          0.3,
          1.4,
          0.6,
          1.1,
          1.4,
          0.5,
          0.5,
          1.7,
          0.7,
          1.2,
          0.5,
          1.4,
          0.6,
          1.9,
          0.7,
          1.6,
          0.4,
          0.5,
          0.4,
          0.7,
          1.5,
          0.3,
          0.6,
          1.0,
          0.5,
          1.3,
          0.4,
          1.1,
          1.3,
          0.6,
          1.9,
          0.4,
          0.5,
          1.0,
          0.2,
          0.6,
          1.2,
          2.2,
          1.2,
          0.1,
          0.8,
          0.6,
          1.0,
          0.3,
          0.6,
          0.6,
          0.2,
          1.2,
          2.1,
          0.5,
          1.0,
          0.3,
          0.6,
          1.0,
          0.6,
          1.0,
          1.8,
          0.5,
          2.6,
          1.1,
          0.4,
          0.8,
          0.7,
          0.7,
          0.9,
          1.4,
          1.6,
          1.0,
          2.8,
          0.5,
          1.6,
          1.6,
          0.5,
          1.5,
          0.5,
          1.2,
          1.4,
          0.3,
          0.8,
          1.4,
          1.8,
          1.1,
          1.6,
          0.4,
          0.7,
          1.6,
          0.4,
          1.0,
          1.5,
          0.3,
          0.6,
          1.5,
          1.5,
          0.4,
          1.0,
          0.3,
          0.7,
          1.2,
          0.3,
          0.3,
          1.2,
          0.6,
          1.5,
          0.1,
          0.2,
          1.1,
          0.9,
          1.7,
          0.6,
          2.1,
          1.2,
          0.3,
          0.6,
          0.6,
          0.8,
          0.8,
          1.7,
          1.7,
          0.2,
          0.8,
          0.4,
          0.8,
          0.4,
          1.5,
          0.5,
          1.3,
          0.5,
          1.8,
          0.5,
          1.3,
          0.5,
          1.0,
          0.8,
          2.5,
          1.3,
          2.7,
          1.0,
          0.8,
          0.2,
          0.3,
          0.3,
          0.8,
          2.0,
          0.2,
          0.4,
          1.5,
          0.4,
          0.3,
          0.5,
          0.8,
          0.9,
          0.7,
          1.1,
          1.7,
          1.0,
          2.0,
          0.5,
          1.5,
          0.3,
          0.7,
          1.6,
          0.4,
          0.7,
          1.8,
          0.4,
          0.6,
          1.8,
          0.3,
          0.6,
          1.1,
          0.4,
          0.7,
          0.4,
          0.5,
          1.5,
          0.6,
          1.7,
          0.6,
          0.6,
          0.6,
          0.6,
          0.1,
          0.2,
          0.5,
          0.5,
          0.8,
          1.1,
          0.8,
          0.2,
          8.2,
          0.4,
          0.7,
          1.0,
          2.5,
          0.3,
          1.8,
          0.3,
          0.9,
          0.2,
          1.0,
          0.6,
          1.2,
          0.5,
          2.1,
          0.3,
          0.7,
          1.2,
          0.1,
          1.5,
          2.0,
          0.5,
          2.0,
          0.5,
          1.3,
          0.3,
          0.3,
          0.3,
          0.4,
          2.0,
          0.3,
          0.2,
          0.9,
          3.0,
          3.9,
          0.6,
          1.2,
          1.6,
          0.3,
          0.7,
          2.1,
          0.3,
          0.6,
          1.4,
          0.3,
          0.7,
          1.9,
          0.3,
          0.6,
          0.2,
          0.8,
          2.2,
          0.4,
          0.4,
          0.4,
          0.6,
          1.2,
          0.4,
          0.5,
          0.6,
          1.3,
          0.3,
          1.0,
          0.3,
          1.0,
          0.3,
          1.1,
          2.8,
          0.2,
          0.3,
          0.4,
          2.2,
          3.8,
          0.8,
          0.5,
          1.3,
          0.4,
          1.6,
          1.6,
          0.7,
          3.0,
          0.6,
          1.6,
          0.1,
          0.2,
          0.4,
          0.6,
          2.1,
          0.4,
          0.8,
          1.5,
          1.6,
          0.8,
          1.0,
          0.8,
          1.5,
          1.6,
          0.2,
          0.3,
          3.0,
          0.3,
          0.3,
          1.3,
          2.5,
          1.4,
          1.4,
          0.9,
          0.9,
          0.3,
          0.3,
          1.2,
          3.0,
          1.8,
          2.3,
          2.3,
          2.0,
          1.8,
          0.5,
          1.4,
          3.0
         ],
         "y0": " ",
         "yaxis": "y",
         "type": "box",
         "boxmean": true
        },
        {
         "alignmentgroup": "True",
         "boxpoints": "all",
         "hovertemplate": "Status=%{x}<br>height_m=%{y}<extra></extra>",
         "legendgroup": "Sub Legendary",
         "marker": {
          "color": "#ab63fa"
         },
         "name": "Sub Legendary",
         "notched": false,
         "offsetgroup": "Sub Legendary",
         "orientation": "v",
         "showlegend": true,
         "x": [
          "Sub Legendary",
          "Sub Legendary",
          "Sub Legendary",
          "Sub Legendary",
          "Sub Legendary",
          "Sub Legendary",
          "Sub Legendary",
          "Sub Legendary",
          "Sub Legendary",
          "Sub Legendary",
          "Sub Legendary",
          "Sub Legendary",
          "Sub Legendary",
          "Sub Legendary",
          "Sub Legendary",
          "Sub Legendary",
          "Sub Legendary",
          "Sub Legendary",
          "Sub Legendary",
          "Sub Legendary",
          "Sub Legendary",
          "Sub Legendary",
          "Sub Legendary",
          "Sub Legendary",
          "Sub Legendary",
          "Sub Legendary",
          "Sub Legendary",
          "Sub Legendary",
          "Sub Legendary",
          "Sub Legendary",
          "Sub Legendary",
          "Sub Legendary",
          "Sub Legendary",
          "Sub Legendary",
          "Sub Legendary",
          "Sub Legendary",
          "Sub Legendary",
          "Sub Legendary",
          "Sub Legendary",
          "Sub Legendary",
          "Sub Legendary",
          "Sub Legendary",
          "Sub Legendary",
          "Sub Legendary",
          "Sub Legendary",
          "Sub Legendary",
          "Sub Legendary",
          "Sub Legendary",
          "Sub Legendary",
          "Sub Legendary",
          "Sub Legendary",
          "Sub Legendary",
          "Sub Legendary",
          "Sub Legendary",
          "Sub Legendary"
         ],
         "x0": " ",
         "xaxis": "x",
         "y": [
          1.7,
          1.7,
          1.6,
          1.6,
          2.0,
          2.0,
          1.9,
          2.1,
          2.0,
          1.7,
          1.8,
          1.9,
          1.4,
          1.8,
          2.0,
          2.3,
          0.3,
          0.3,
          0.3,
          1.7,
          3.7,
          1.5,
          2.1,
          1.9,
          2.0,
          1.5,
          1.4,
          1.5,
          3.0,
          1.5,
          1.3,
          1.9,
          2.3,
          1.8,
          1.2,
          1.9,
          1.3,
          1.2,
          2.4,
          1.8,
          3.8,
          9.2,
          0.3,
          5.5,
          0.6,
          3.6,
          5.5,
          1.8,
          0.6,
          1.9,
          1.9,
          1.2,
          2.1,
          2.2,
          2.0
         ],
         "y0": " ",
         "yaxis": "y",
         "type": "box",
         "boxmean": true
        },
        {
         "alignmentgroup": "True",
         "boxpoints": "all",
         "hovertemplate": "Status=%{x}<br>height_m=%{y}<extra></extra>",
         "legendgroup": "Legendary",
         "marker": {
          "color": "orange"
         },
         "name": "Legendary",
         "notched": false,
         "offsetgroup": "Legendary",
         "orientation": "v",
         "showlegend": true,
         "x": [
          "Legendary",
          "Legendary",
          "Legendary",
          "Legendary",
          "Legendary",
          "Legendary",
          "Legendary",
          "Legendary",
          "Legendary",
          "Legendary",
          "Legendary",
          "Legendary",
          "Legendary",
          "Legendary",
          "Legendary",
          "Legendary",
          "Legendary",
          "Legendary",
          "Legendary",
          "Legendary",
          "Legendary",
          "Legendary",
          "Legendary",
          "Legendary",
          "Legendary",
          "Legendary",
          "Legendary",
          "Legendary",
          "Legendary",
          "Legendary",
          "Legendary",
          "Legendary",
          "Legendary",
          "Legendary",
          "Legendary",
          "Legendary",
          "Legendary",
          "Legendary",
          "Legendary",
          "Legendary",
          "Legendary",
          "Legendary"
         ],
         "x0": " ",
         "xaxis": "x",
         "y": [
          2.0,
          2.3,
          1.5,
          5.2,
          3.8,
          4.5,
          9.8,
          3.5,
          5.0,
          7.0,
          10.8,
          5.4,
          4.2,
          4.5,
          6.9,
          3.2,
          2.9,
          3.0,
          3.3,
          3.6,
          3.0,
          5.8,
          5.0,
          1.2,
          4.5,
          0.2,
          0.1,
          3.4,
          4.0,
          2.4,
          3.8,
          4.2,
          7.5,
          2.8,
          2.8,
          2.9,
          2.9,
          20.0,
          100.0,
          1.1,
          2.4,
          2.4
         ],
         "y0": " ",
         "yaxis": "y",
         "type": "box",
         "boxmean": true
        },
        {
         "alignmentgroup": "True",
         "boxpoints": "all",
         "hovertemplate": "Status=%{x}<br>height_m=%{y}<extra></extra>",
         "legendgroup": "Mythical",
         "marker": {
          "color": "green"
         },
         "name": "Mythical",
         "notched": false,
         "offsetgroup": "Mythical",
         "orientation": "v",
         "showlegend": true,
         "x": [
          "Mythical",
          "Mythical",
          "Mythical",
          "Mythical",
          "Mythical",
          "Mythical",
          "Mythical",
          "Mythical",
          "Mythical",
          "Mythical",
          "Mythical",
          "Mythical",
          "Mythical",
          "Mythical",
          "Mythical",
          "Mythical",
          "Mythical",
          "Mythical",
          "Mythical",
          "Mythical",
          "Mythical",
          "Mythical",
          "Mythical",
          "Mythical",
          "Mythical",
          "Mythical",
          "Mythical",
          "Mythical",
          "Mythical",
          "Mythical"
         ],
         "x0": " ",
         "xaxis": "x",
         "y": [
          0.4,
          0.6,
          0.3,
          1.7,
          1.7,
          1.7,
          1.7,
          0.4,
          0.3,
          1.5,
          0.2,
          0.4,
          3.2,
          0.4,
          1.4,
          1.4,
          0.6,
          0.6,
          1.5,
          0.7,
          1.1,
          0.5,
          6.5,
          1.7,
          1.0,
          0.7,
          1.5,
          0.2,
          2.5,
          1.8
         ],
         "y0": " ",
         "yaxis": "y",
         "type": "box",
         "boxmean": true
        }
       ],
       "layout": {
        "template": {
         "data": {
          "barpolar": [
           {
            "marker": {
             "line": {
              "color": "white",
              "width": 0.5
             },
             "pattern": {
              "fillmode": "overlay",
              "size": 10,
              "solidity": 0.2
             }
            },
            "type": "barpolar"
           }
          ],
          "bar": [
           {
            "error_x": {
             "color": "#2a3f5f"
            },
            "error_y": {
             "color": "#2a3f5f"
            },
            "marker": {
             "line": {
              "color": "white",
              "width": 0.5
             },
             "pattern": {
              "fillmode": "overlay",
              "size": 10,
              "solidity": 0.2
             }
            },
            "type": "bar"
           }
          ],
          "carpet": [
           {
            "aaxis": {
             "endlinecolor": "#2a3f5f",
             "gridcolor": "#C8D4E3",
             "linecolor": "#C8D4E3",
             "minorgridcolor": "#C8D4E3",
             "startlinecolor": "#2a3f5f"
            },
            "baxis": {
             "endlinecolor": "#2a3f5f",
             "gridcolor": "#C8D4E3",
             "linecolor": "#C8D4E3",
             "minorgridcolor": "#C8D4E3",
             "startlinecolor": "#2a3f5f"
            },
            "type": "carpet"
           }
          ],
          "choropleth": [
           {
            "colorbar": {
             "outlinewidth": 0,
             "ticks": ""
            },
            "type": "choropleth"
           }
          ],
          "contourcarpet": [
           {
            "colorbar": {
             "outlinewidth": 0,
             "ticks": ""
            },
            "type": "contourcarpet"
           }
          ],
          "contour": [
           {
            "colorbar": {
             "outlinewidth": 0,
             "ticks": ""
            },
            "colorscale": [
             [
              0.0,
              "#0d0887"
             ],
             [
              0.1111111111111111,
              "#46039f"
             ],
             [
              0.2222222222222222,
              "#7201a8"
             ],
             [
              0.3333333333333333,
              "#9c179e"
             ],
             [
              0.4444444444444444,
              "#bd3786"
             ],
             [
              0.5555555555555556,
              "#d8576b"
             ],
             [
              0.6666666666666666,
              "#ed7953"
             ],
             [
              0.7777777777777778,
              "#fb9f3a"
             ],
             [
              0.8888888888888888,
              "#fdca26"
             ],
             [
              1.0,
              "#f0f921"
             ]
            ],
            "type": "contour"
           }
          ],
          "heatmapgl": [
           {
            "colorbar": {
             "outlinewidth": 0,
             "ticks": ""
            },
            "colorscale": [
             [
              0.0,
              "#0d0887"
             ],
             [
              0.1111111111111111,
              "#46039f"
             ],
             [
              0.2222222222222222,
              "#7201a8"
             ],
             [
              0.3333333333333333,
              "#9c179e"
             ],
             [
              0.4444444444444444,
              "#bd3786"
             ],
             [
              0.5555555555555556,
              "#d8576b"
             ],
             [
              0.6666666666666666,
              "#ed7953"
             ],
             [
              0.7777777777777778,
              "#fb9f3a"
             ],
             [
              0.8888888888888888,
              "#fdca26"
             ],
             [
              1.0,
              "#f0f921"
             ]
            ],
            "type": "heatmapgl"
           }
          ],
          "heatmap": [
           {
            "colorbar": {
             "outlinewidth": 0,
             "ticks": ""
            },
            "colorscale": [
             [
              0.0,
              "#0d0887"
             ],
             [
              0.1111111111111111,
              "#46039f"
             ],
             [
              0.2222222222222222,
              "#7201a8"
             ],
             [
              0.3333333333333333,
              "#9c179e"
             ],
             [
              0.4444444444444444,
              "#bd3786"
             ],
             [
              0.5555555555555556,
              "#d8576b"
             ],
             [
              0.6666666666666666,
              "#ed7953"
             ],
             [
              0.7777777777777778,
              "#fb9f3a"
             ],
             [
              0.8888888888888888,
              "#fdca26"
             ],
             [
              1.0,
              "#f0f921"
             ]
            ],
            "type": "heatmap"
           }
          ],
          "histogram2dcontour": [
           {
            "colorbar": {
             "outlinewidth": 0,
             "ticks": ""
            },
            "colorscale": [
             [
              0.0,
              "#0d0887"
             ],
             [
              0.1111111111111111,
              "#46039f"
             ],
             [
              0.2222222222222222,
              "#7201a8"
             ],
             [
              0.3333333333333333,
              "#9c179e"
             ],
             [
              0.4444444444444444,
              "#bd3786"
             ],
             [
              0.5555555555555556,
              "#d8576b"
             ],
             [
              0.6666666666666666,
              "#ed7953"
             ],
             [
              0.7777777777777778,
              "#fb9f3a"
             ],
             [
              0.8888888888888888,
              "#fdca26"
             ],
             [
              1.0,
              "#f0f921"
             ]
            ],
            "type": "histogram2dcontour"
           }
          ],
          "histogram2d": [
           {
            "colorbar": {
             "outlinewidth": 0,
             "ticks": ""
            },
            "colorscale": [
             [
              0.0,
              "#0d0887"
             ],
             [
              0.1111111111111111,
              "#46039f"
             ],
             [
              0.2222222222222222,
              "#7201a8"
             ],
             [
              0.3333333333333333,
              "#9c179e"
             ],
             [
              0.4444444444444444,
              "#bd3786"
             ],
             [
              0.5555555555555556,
              "#d8576b"
             ],
             [
              0.6666666666666666,
              "#ed7953"
             ],
             [
              0.7777777777777778,
              "#fb9f3a"
             ],
             [
              0.8888888888888888,
              "#fdca26"
             ],
             [
              1.0,
              "#f0f921"
             ]
            ],
            "type": "histogram2d"
           }
          ],
          "histogram": [
           {
            "marker": {
             "pattern": {
              "fillmode": "overlay",
              "size": 10,
              "solidity": 0.2
             }
            },
            "type": "histogram"
           }
          ],
          "mesh3d": [
           {
            "colorbar": {
             "outlinewidth": 0,
             "ticks": ""
            },
            "type": "mesh3d"
           }
          ],
          "parcoords": [
           {
            "line": {
             "colorbar": {
              "outlinewidth": 0,
              "ticks": ""
             }
            },
            "type": "parcoords"
           }
          ],
          "pie": [
           {
            "automargin": true,
            "type": "pie"
           }
          ],
          "scatter3d": [
           {
            "line": {
             "colorbar": {
              "outlinewidth": 0,
              "ticks": ""
             }
            },
            "marker": {
             "colorbar": {
              "outlinewidth": 0,
              "ticks": ""
             }
            },
            "type": "scatter3d"
           }
          ],
          "scattercarpet": [
           {
            "marker": {
             "colorbar": {
              "outlinewidth": 0,
              "ticks": ""
             }
            },
            "type": "scattercarpet"
           }
          ],
          "scattergeo": [
           {
            "marker": {
             "colorbar": {
              "outlinewidth": 0,
              "ticks": ""
             }
            },
            "type": "scattergeo"
           }
          ],
          "scattergl": [
           {
            "marker": {
             "colorbar": {
              "outlinewidth": 0,
              "ticks": ""
             }
            },
            "type": "scattergl"
           }
          ],
          "scattermapbox": [
           {
            "marker": {
             "colorbar": {
              "outlinewidth": 0,
              "ticks": ""
             }
            },
            "type": "scattermapbox"
           }
          ],
          "scatterpolargl": [
           {
            "marker": {
             "colorbar": {
              "outlinewidth": 0,
              "ticks": ""
             }
            },
            "type": "scatterpolargl"
           }
          ],
          "scatterpolar": [
           {
            "marker": {
             "colorbar": {
              "outlinewidth": 0,
              "ticks": ""
             }
            },
            "type": "scatterpolar"
           }
          ],
          "scatter": [
           {
            "fillpattern": {
             "fillmode": "overlay",
             "size": 10,
             "solidity": 0.2
            },
            "type": "scatter"
           }
          ],
          "scatterternary": [
           {
            "marker": {
             "colorbar": {
              "outlinewidth": 0,
              "ticks": ""
             }
            },
            "type": "scatterternary"
           }
          ],
          "surface": [
           {
            "colorbar": {
             "outlinewidth": 0,
             "ticks": ""
            },
            "colorscale": [
             [
              0.0,
              "#0d0887"
             ],
             [
              0.1111111111111111,
              "#46039f"
             ],
             [
              0.2222222222222222,
              "#7201a8"
             ],
             [
              0.3333333333333333,
              "#9c179e"
             ],
             [
              0.4444444444444444,
              "#bd3786"
             ],
             [
              0.5555555555555556,
              "#d8576b"
             ],
             [
              0.6666666666666666,
              "#ed7953"
             ],
             [
              0.7777777777777778,
              "#fb9f3a"
             ],
             [
              0.8888888888888888,
              "#fdca26"
             ],
             [
              1.0,
              "#f0f921"
             ]
            ],
            "type": "surface"
           }
          ],
          "table": [
           {
            "cells": {
             "fill": {
              "color": "#EBF0F8"
             },
             "line": {
              "color": "white"
             }
            },
            "header": {
             "fill": {
              "color": "#C8D4E3"
             },
             "line": {
              "color": "white"
             }
            },
            "type": "table"
           }
          ]
         },
         "layout": {
          "annotationdefaults": {
           "arrowcolor": "#2a3f5f",
           "arrowhead": 0,
           "arrowwidth": 1
          },
          "autotypenumbers": "strict",
          "coloraxis": {
           "colorbar": {
            "outlinewidth": 0,
            "ticks": ""
           }
          },
          "colorscale": {
           "diverging": [
            [
             0,
             "#8e0152"
            ],
            [
             0.1,
             "#c51b7d"
            ],
            [
             0.2,
             "#de77ae"
            ],
            [
             0.3,
             "#f1b6da"
            ],
            [
             0.4,
             "#fde0ef"
            ],
            [
             0.5,
             "#f7f7f7"
            ],
            [
             0.6,
             "#e6f5d0"
            ],
            [
             0.7,
             "#b8e186"
            ],
            [
             0.8,
             "#7fbc41"
            ],
            [
             0.9,
             "#4d9221"
            ],
            [
             1,
             "#276419"
            ]
           ],
           "sequential": [
            [
             0.0,
             "#0d0887"
            ],
            [
             0.1111111111111111,
             "#46039f"
            ],
            [
             0.2222222222222222,
             "#7201a8"
            ],
            [
             0.3333333333333333,
             "#9c179e"
            ],
            [
             0.4444444444444444,
             "#bd3786"
            ],
            [
             0.5555555555555556,
             "#d8576b"
            ],
            [
             0.6666666666666666,
             "#ed7953"
            ],
            [
             0.7777777777777778,
             "#fb9f3a"
            ],
            [
             0.8888888888888888,
             "#fdca26"
            ],
            [
             1.0,
             "#f0f921"
            ]
           ],
           "sequentialminus": [
            [
             0.0,
             "#0d0887"
            ],
            [
             0.1111111111111111,
             "#46039f"
            ],
            [
             0.2222222222222222,
             "#7201a8"
            ],
            [
             0.3333333333333333,
             "#9c179e"
            ],
            [
             0.4444444444444444,
             "#bd3786"
            ],
            [
             0.5555555555555556,
             "#d8576b"
            ],
            [
             0.6666666666666666,
             "#ed7953"
            ],
            [
             0.7777777777777778,
             "#fb9f3a"
            ],
            [
             0.8888888888888888,
             "#fdca26"
            ],
            [
             1.0,
             "#f0f921"
            ]
           ]
          },
          "colorway": [
           "#636efa",
           "#EF553B",
           "#00cc96",
           "#ab63fa",
           "#FFA15A",
           "#19d3f3",
           "#FF6692",
           "#B6E880",
           "#FF97FF",
           "#FECB52"
          ],
          "font": {
           "color": "#2a3f5f"
          },
          "geo": {
           "bgcolor": "white",
           "lakecolor": "white",
           "landcolor": "white",
           "showlakes": true,
           "showland": true,
           "subunitcolor": "#C8D4E3"
          },
          "hoverlabel": {
           "align": "left"
          },
          "hovermode": "closest",
          "mapbox": {
           "style": "light"
          },
          "paper_bgcolor": "white",
          "plot_bgcolor": "white",
          "polar": {
           "angularaxis": {
            "gridcolor": "#EBF0F8",
            "linecolor": "#EBF0F8",
            "ticks": ""
           },
           "bgcolor": "white",
           "radialaxis": {
            "gridcolor": "#EBF0F8",
            "linecolor": "#EBF0F8",
            "ticks": ""
           }
          },
          "scene": {
           "xaxis": {
            "backgroundcolor": "white",
            "gridcolor": "#DFE8F3",
            "gridwidth": 2,
            "linecolor": "#EBF0F8",
            "showbackground": true,
            "ticks": "",
            "zerolinecolor": "#EBF0F8"
           },
           "yaxis": {
            "backgroundcolor": "white",
            "gridcolor": "#DFE8F3",
            "gridwidth": 2,
            "linecolor": "#EBF0F8",
            "showbackground": true,
            "ticks": "",
            "zerolinecolor": "#EBF0F8"
           },
           "zaxis": {
            "backgroundcolor": "white",
            "gridcolor": "#DFE8F3",
            "gridwidth": 2,
            "linecolor": "#EBF0F8",
            "showbackground": true,
            "ticks": "",
            "zerolinecolor": "#EBF0F8"
           }
          },
          "shapedefaults": {
           "line": {
            "color": "#2a3f5f"
           }
          },
          "ternary": {
           "aaxis": {
            "gridcolor": "#DFE8F3",
            "linecolor": "#A2B1C6",
            "ticks": ""
           },
           "baxis": {
            "gridcolor": "#DFE8F3",
            "linecolor": "#A2B1C6",
            "ticks": ""
           },
           "bgcolor": "white",
           "caxis": {
            "gridcolor": "#DFE8F3",
            "linecolor": "#A2B1C6",
            "ticks": ""
           }
          },
          "title": {
           "x": 0.05
          },
          "xaxis": {
           "automargin": true,
           "gridcolor": "#EBF0F8",
           "linecolor": "#EBF0F8",
           "ticks": "",
           "title": {
            "standoff": 15
           },
           "zerolinecolor": "#EBF0F8",
           "zerolinewidth": 2
          },
          "yaxis": {
           "automargin": true,
           "gridcolor": "#EBF0F8",
           "linecolor": "#EBF0F8",
           "ticks": "",
           "title": {
            "standoff": 15
           },
           "zerolinecolor": "#EBF0F8",
           "zerolinewidth": 2
          }
         }
        },
        "xaxis": {
         "anchor": "y",
         "domain": [
          0.0,
          1.0
         ],
         "title": {
          "text": "Status"
         },
         "categoryorder": "array",
         "categoryarray": [
          "Normal",
          "Sub Legendary",
          "Legendary",
          "Mythical"
         ]
        },
        "yaxis": {
         "anchor": "x",
         "domain": [
          0.0,
          1.0
         ],
         "title": {
          "text": "Total Points"
         }
        },
        "legend": {
         "title": {
          "text": "Status"
         },
         "tracegroupgap": 0
        },
        "title": {
         "text": "AVG Height Distribution by Pokémon Status"
        },
        "boxmode": "overlay",
        "showlegend": false
       },
       "config": {
        "plotlyServerURL": "https://plot.ly"
       }
      },
      "text/html": "<div>                            <div id=\"7d4137cd-e359-48d0-953d-01d31e90f9d2\" class=\"plotly-graph-div\" style=\"height:525px; width:100%;\"></div>            <script type=\"text/javascript\">                require([\"plotly\"], function(Plotly) {                    window.PLOTLYENV=window.PLOTLYENV || {};                                    if (document.getElementById(\"7d4137cd-e359-48d0-953d-01d31e90f9d2\")) {                    Plotly.newPlot(                        \"7d4137cd-e359-48d0-953d-01d31e90f9d2\",                        [{\"alignmentgroup\":\"True\",\"boxpoints\":\"all\",\"hovertemplate\":\"Status=%{x}<br>height_m=%{y}<extra></extra>\",\"legendgroup\":\"Normal\",\"marker\":{\"color\":\"blue\"},\"name\":\"Normal\",\"notched\":false,\"offsetgroup\":\"Normal\",\"orientation\":\"v\",\"showlegend\":true,\"x\":[\"Normal\",\"Normal\",\"Normal\",\"Normal\",\"Normal\",\"Normal\",\"Normal\",\"Normal\",\"Normal\",\"Normal\",\"Normal\",\"Normal\",\"Normal\",\"Normal\",\"Normal\",\"Normal\",\"Normal\",\"Normal\",\"Normal\",\"Normal\",\"Normal\",\"Normal\",\"Normal\",\"Normal\",\"Normal\",\"Normal\",\"Normal\",\"Normal\",\"Normal\",\"Normal\",\"Normal\",\"Normal\",\"Normal\",\"Normal\",\"Normal\",\"Normal\",\"Normal\",\"Normal\",\"Normal\",\"Normal\",\"Normal\",\"Normal\",\"Normal\",\"Normal\",\"Normal\",\"Normal\",\"Normal\",\"Normal\",\"Normal\",\"Normal\",\"Normal\",\"Normal\",\"Normal\",\"Normal\",\"Normal\",\"Normal\",\"Normal\",\"Normal\",\"Normal\",\"Normal\",\"Normal\",\"Normal\",\"Normal\",\"Normal\",\"Normal\",\"Normal\",\"Normal\",\"Normal\",\"Normal\",\"Normal\",\"Normal\",\"Normal\",\"Normal\",\"Normal\",\"Normal\",\"Normal\",\"Normal\",\"Normal\",\"Normal\",\"Normal\",\"Normal\",\"Normal\",\"Normal\",\"Normal\",\"Normal\",\"Normal\",\"Normal\",\"Normal\",\"Normal\",\"Normal\",\"Normal\",\"Normal\",\"Normal\",\"Normal\",\"Normal\",\"Normal\",\"Normal\",\"Normal\",\"Normal\",\"Normal\",\"Normal\",\"Normal\",\"Normal\",\"Normal\",\"Normal\",\"Normal\",\"Normal\",\"Normal\",\"Normal\",\"Normal\",\"Normal\",\"Normal\",\"Normal\",\"Normal\",\"Normal\",\"Normal\",\"Normal\",\"Normal\",\"Normal\",\"Normal\",\"Normal\",\"Normal\",\"Normal\",\"Normal\",\"Normal\",\"Normal\",\"Normal\",\"Normal\",\"Normal\",\"Normal\",\"Normal\",\"Normal\",\"Normal\",\"Normal\",\"Normal\",\"Normal\",\"Normal\",\"Normal\",\"Normal\",\"Normal\",\"Normal\",\"Normal\",\"Normal\",\"Normal\",\"Normal\",\"Normal\",\"Normal\",\"Normal\",\"Normal\",\"Normal\",\"Normal\",\"Normal\",\"Normal\",\"Normal\",\"Normal\",\"Normal\",\"Normal\",\"Normal\",\"Normal\",\"Normal\",\"Normal\",\"Normal\",\"Normal\",\"Normal\",\"Normal\",\"Normal\",\"Normal\",\"Normal\",\"Normal\",\"Normal\",\"Normal\",\"Normal\",\"Normal\",\"Normal\",\"Normal\",\"Normal\",\"Normal\",\"Normal\",\"Normal\",\"Normal\",\"Normal\",\"Normal\",\"Normal\",\"Normal\",\"Normal\",\"Normal\",\"Normal\",\"Normal\",\"Normal\",\"Normal\",\"Normal\",\"Normal\",\"Normal\",\"Normal\",\"Normal\",\"Normal\",\"Normal\",\"Normal\",\"Normal\",\"Normal\",\"Normal\",\"Normal\",\"Normal\",\"Normal\",\"Normal\",\"Normal\",\"Normal\",\"Normal\",\"Normal\",\"Normal\",\"Normal\",\"Normal\",\"Normal\",\"Normal\",\"Normal\",\"Normal\",\"Normal\",\"Normal\",\"Normal\",\"Normal\",\"Normal\",\"Normal\",\"Normal\",\"Normal\",\"Normal\",\"Normal\",\"Normal\",\"Normal\",\"Normal\",\"Normal\",\"Normal\",\"Normal\",\"Normal\",\"Normal\",\"Normal\",\"Normal\",\"Normal\",\"Normal\",\"Normal\",\"Normal\",\"Normal\",\"Normal\",\"Normal\",\"Normal\",\"Normal\",\"Normal\",\"Normal\",\"Normal\",\"Normal\",\"Normal\",\"Normal\",\"Normal\",\"Normal\",\"Normal\",\"Normal\",\"Normal\",\"Normal\",\"Normal\",\"Normal\",\"Normal\",\"Normal\",\"Normal\",\"Normal\",\"Normal\",\"Normal\",\"Normal\",\"Normal\",\"Normal\",\"Normal\",\"Normal\",\"Normal\",\"Normal\",\"Normal\",\"Normal\",\"Normal\",\"Normal\",\"Normal\",\"Normal\",\"Normal\",\"Normal\",\"Normal\",\"Normal\",\"Normal\",\"Normal\",\"Normal\",\"Normal\",\"Normal\",\"Normal\",\"Normal\",\"Normal\",\"Normal\",\"Normal\",\"Normal\",\"Normal\",\"Normal\",\"Normal\",\"Normal\",\"Normal\",\"Normal\",\"Normal\",\"Normal\",\"Normal\",\"Normal\",\"Normal\",\"Normal\",\"Normal\",\"Normal\",\"Normal\",\"Normal\",\"Normal\",\"Normal\",\"Normal\",\"Normal\",\"Normal\",\"Normal\",\"Normal\",\"Normal\",\"Normal\",\"Normal\",\"Normal\",\"Normal\",\"Normal\",\"Normal\",\"Normal\",\"Normal\",\"Normal\",\"Normal\",\"Normal\",\"Normal\",\"Normal\",\"Normal\",\"Normal\",\"Normal\",\"Normal\",\"Normal\",\"Normal\",\"Normal\",\"Normal\",\"Normal\",\"Normal\",\"Normal\",\"Normal\",\"Normal\",\"Normal\",\"Normal\",\"Normal\",\"Normal\",\"Normal\",\"Normal\",\"Normal\",\"Normal\",\"Normal\",\"Normal\",\"Normal\",\"Normal\",\"Normal\",\"Normal\",\"Normal\",\"Normal\",\"Normal\",\"Normal\",\"Normal\",\"Normal\",\"Normal\",\"Normal\",\"Normal\",\"Normal\",\"Normal\",\"Normal\",\"Normal\",\"Normal\",\"Normal\",\"Normal\",\"Normal\",\"Normal\",\"Normal\",\"Normal\",\"Normal\",\"Normal\",\"Normal\",\"Normal\",\"Normal\",\"Normal\",\"Normal\",\"Normal\",\"Normal\",\"Normal\",\"Normal\",\"Normal\",\"Normal\",\"Normal\",\"Normal\",\"Normal\",\"Normal\",\"Normal\",\"Normal\",\"Normal\",\"Normal\",\"Normal\",\"Normal\",\"Normal\",\"Normal\",\"Normal\",\"Normal\",\"Normal\",\"Normal\",\"Normal\",\"Normal\",\"Normal\",\"Normal\",\"Normal\",\"Normal\",\"Normal\",\"Normal\",\"Normal\",\"Normal\",\"Normal\",\"Normal\",\"Normal\",\"Normal\",\"Normal\",\"Normal\",\"Normal\",\"Normal\",\"Normal\",\"Normal\",\"Normal\",\"Normal\",\"Normal\",\"Normal\",\"Normal\",\"Normal\",\"Normal\",\"Normal\",\"Normal\",\"Normal\",\"Normal\",\"Normal\",\"Normal\",\"Normal\",\"Normal\",\"Normal\",\"Normal\",\"Normal\",\"Normal\",\"Normal\",\"Normal\",\"Normal\",\"Normal\",\"Normal\",\"Normal\",\"Normal\",\"Normal\",\"Normal\",\"Normal\",\"Normal\",\"Normal\",\"Normal\",\"Normal\",\"Normal\",\"Normal\",\"Normal\",\"Normal\",\"Normal\",\"Normal\",\"Normal\",\"Normal\",\"Normal\",\"Normal\",\"Normal\",\"Normal\",\"Normal\",\"Normal\",\"Normal\",\"Normal\",\"Normal\",\"Normal\",\"Normal\",\"Normal\",\"Normal\",\"Normal\",\"Normal\",\"Normal\",\"Normal\",\"Normal\",\"Normal\",\"Normal\",\"Normal\",\"Normal\",\"Normal\",\"Normal\",\"Normal\",\"Normal\",\"Normal\",\"Normal\",\"Normal\",\"Normal\",\"Normal\",\"Normal\",\"Normal\",\"Normal\",\"Normal\",\"Normal\",\"Normal\",\"Normal\",\"Normal\",\"Normal\",\"Normal\",\"Normal\",\"Normal\",\"Normal\",\"Normal\",\"Normal\",\"Normal\",\"Normal\",\"Normal\",\"Normal\",\"Normal\",\"Normal\",\"Normal\",\"Normal\",\"Normal\",\"Normal\",\"Normal\",\"Normal\",\"Normal\",\"Normal\",\"Normal\",\"Normal\",\"Normal\",\"Normal\",\"Normal\",\"Normal\",\"Normal\",\"Normal\",\"Normal\",\"Normal\",\"Normal\",\"Normal\",\"Normal\",\"Normal\",\"Normal\",\"Normal\",\"Normal\",\"Normal\",\"Normal\",\"Normal\",\"Normal\",\"Normal\",\"Normal\",\"Normal\",\"Normal\",\"Normal\",\"Normal\",\"Normal\",\"Normal\",\"Normal\",\"Normal\",\"Normal\",\"Normal\",\"Normal\",\"Normal\",\"Normal\",\"Normal\",\"Normal\",\"Normal\",\"Normal\",\"Normal\",\"Normal\",\"Normal\",\"Normal\",\"Normal\",\"Normal\",\"Normal\",\"Normal\",\"Normal\",\"Normal\",\"Normal\",\"Normal\",\"Normal\",\"Normal\",\"Normal\",\"Normal\",\"Normal\",\"Normal\",\"Normal\",\"Normal\",\"Normal\",\"Normal\",\"Normal\",\"Normal\",\"Normal\",\"Normal\",\"Normal\",\"Normal\",\"Normal\",\"Normal\",\"Normal\",\"Normal\",\"Normal\",\"Normal\",\"Normal\",\"Normal\",\"Normal\",\"Normal\",\"Normal\",\"Normal\",\"Normal\",\"Normal\",\"Normal\",\"Normal\",\"Normal\",\"Normal\",\"Normal\",\"Normal\",\"Normal\",\"Normal\",\"Normal\",\"Normal\",\"Normal\",\"Normal\",\"Normal\",\"Normal\",\"Normal\",\"Normal\",\"Normal\",\"Normal\",\"Normal\",\"Normal\",\"Normal\",\"Normal\",\"Normal\",\"Normal\",\"Normal\",\"Normal\",\"Normal\",\"Normal\",\"Normal\",\"Normal\",\"Normal\",\"Normal\",\"Normal\",\"Normal\",\"Normal\",\"Normal\",\"Normal\",\"Normal\",\"Normal\",\"Normal\",\"Normal\",\"Normal\",\"Normal\",\"Normal\",\"Normal\",\"Normal\",\"Normal\",\"Normal\",\"Normal\",\"Normal\",\"Normal\",\"Normal\",\"Normal\",\"Normal\",\"Normal\",\"Normal\",\"Normal\",\"Normal\",\"Normal\",\"Normal\",\"Normal\",\"Normal\",\"Normal\",\"Normal\",\"Normal\",\"Normal\",\"Normal\",\"Normal\",\"Normal\",\"Normal\",\"Normal\",\"Normal\",\"Normal\",\"Normal\",\"Normal\",\"Normal\",\"Normal\",\"Normal\",\"Normal\",\"Normal\",\"Normal\",\"Normal\",\"Normal\",\"Normal\",\"Normal\",\"Normal\",\"Normal\",\"Normal\",\"Normal\",\"Normal\",\"Normal\",\"Normal\",\"Normal\",\"Normal\",\"Normal\",\"Normal\",\"Normal\",\"Normal\",\"Normal\",\"Normal\",\"Normal\",\"Normal\",\"Normal\",\"Normal\",\"Normal\",\"Normal\",\"Normal\",\"Normal\",\"Normal\",\"Normal\",\"Normal\",\"Normal\",\"Normal\",\"Normal\",\"Normal\",\"Normal\",\"Normal\",\"Normal\",\"Normal\",\"Normal\",\"Normal\",\"Normal\",\"Normal\",\"Normal\",\"Normal\",\"Normal\",\"Normal\",\"Normal\",\"Normal\",\"Normal\",\"Normal\",\"Normal\",\"Normal\",\"Normal\",\"Normal\",\"Normal\",\"Normal\",\"Normal\",\"Normal\",\"Normal\",\"Normal\",\"Normal\",\"Normal\",\"Normal\",\"Normal\",\"Normal\",\"Normal\",\"Normal\",\"Normal\",\"Normal\",\"Normal\",\"Normal\",\"Normal\",\"Normal\",\"Normal\",\"Normal\",\"Normal\",\"Normal\",\"Normal\",\"Normal\",\"Normal\",\"Normal\",\"Normal\",\"Normal\",\"Normal\",\"Normal\",\"Normal\",\"Normal\",\"Normal\",\"Normal\",\"Normal\",\"Normal\",\"Normal\",\"Normal\",\"Normal\",\"Normal\",\"Normal\",\"Normal\",\"Normal\",\"Normal\",\"Normal\",\"Normal\",\"Normal\",\"Normal\",\"Normal\",\"Normal\",\"Normal\",\"Normal\",\"Normal\",\"Normal\",\"Normal\",\"Normal\",\"Normal\",\"Normal\",\"Normal\",\"Normal\",\"Normal\",\"Normal\",\"Normal\",\"Normal\",\"Normal\",\"Normal\",\"Normal\",\"Normal\",\"Normal\",\"Normal\",\"Normal\",\"Normal\",\"Normal\",\"Normal\",\"Normal\",\"Normal\",\"Normal\",\"Normal\",\"Normal\",\"Normal\",\"Normal\",\"Normal\",\"Normal\",\"Normal\",\"Normal\",\"Normal\",\"Normal\",\"Normal\",\"Normal\",\"Normal\",\"Normal\",\"Normal\",\"Normal\",\"Normal\",\"Normal\",\"Normal\",\"Normal\",\"Normal\",\"Normal\",\"Normal\",\"Normal\",\"Normal\",\"Normal\",\"Normal\",\"Normal\",\"Normal\",\"Normal\",\"Normal\",\"Normal\",\"Normal\",\"Normal\",\"Normal\",\"Normal\",\"Normal\",\"Normal\",\"Normal\",\"Normal\",\"Normal\",\"Normal\",\"Normal\",\"Normal\",\"Normal\",\"Normal\",\"Normal\",\"Normal\",\"Normal\",\"Normal\",\"Normal\",\"Normal\",\"Normal\",\"Normal\",\"Normal\",\"Normal\",\"Normal\",\"Normal\",\"Normal\",\"Normal\",\"Normal\",\"Normal\",\"Normal\",\"Normal\",\"Normal\",\"Normal\",\"Normal\",\"Normal\",\"Normal\",\"Normal\",\"Normal\",\"Normal\",\"Normal\",\"Normal\",\"Normal\",\"Normal\",\"Normal\",\"Normal\",\"Normal\",\"Normal\",\"Normal\",\"Normal\",\"Normal\",\"Normal\",\"Normal\",\"Normal\",\"Normal\",\"Normal\",\"Normal\",\"Normal\",\"Normal\",\"Normal\",\"Normal\",\"Normal\",\"Normal\",\"Normal\"],\"x0\":\" \",\"xaxis\":\"x\",\"y\":[0.7,1.0,2.0,2.4,0.6,1.1,1.7,1.7,1.7,0.5,1.0,1.6,1.6,0.3,0.7,1.1,0.3,0.6,1.0,1.4,0.3,1.1,1.5,2.2,0.3,0.3,0.7,0.7,0.3,1.2,2.0,3.5,0.4,0.4,0.8,0.7,0.6,0.7,1.0,1.2,0.4,0.8,1.3,0.5,0.9,1.4,0.6,1.3,0.6,0.6,1.1,1.1,0.5,1.0,0.8,1.6,0.5,0.8,1.2,0.3,1.0,1.0,1.5,0.2,0.2,0.7,0.7,0.4,0.4,0.4,1.0,1.1,0.8,1.7,0.5,1.0,0.7,1.9,0.6,1.0,1.3,0.9,1.3,1.5,1.2,0.8,1.5,1.6,0.7,1.0,1.7,0.9,1.6,0.4,0.4,1.0,1.0,1.4,1.7,1.0,0.8,1.7,1.7,1.2,1.2,1.6,2.0,1.6,0.3,1.0,0.8,0.8,1.4,1.8,1.1,1.7,0.9,0.7,1.2,1.0,0.3,1.5,1.3,1.6,1.5,1.4,8.8,1.0,1.6,0.4,1.3,0.5,1.2,0.4,2.0,10.9,0.4,1.0,1.0,1.5,1.4,1.2,0.6,1.2,3.0,1.0,1.9,1.1,1.0,2.2,2.2,0.4,1.2,0.6,1.3,0.8,1.1,1.3,1.4,1.5,1.4,1.1,1.3,1.5,1.7,1.4,0.9,6.5,6.5,2.5,0.3,0.3,0.3,1.0,0.8,0.9,0.8,0.4,1.0,0.5,1.3,1.8,2.1,2.1,1.8,4.0,2.2,0.9,1.2,1.8,0.5,0.9,1.7,0.6,1.1,2.3,0.8,1.8,0.7,1.6,1.0,1.4,0.5,1.1,1.8,0.5,1.2,0.3,0.3,0.3,0.3,0.6,0.2,1.5,0.6,0.8,1.4,1.4,0.4,0.4,0.8,1.2,1.1,0.4,0.6,0.8,0.8,0.3,0.8,1.2,0.4,1.4,0.9,1.0,0.5,2.0,1.8,0.7,0.5,1.3,1.5,0.6,1.2,1.5,1.1,9.2,10.5,0.6,1.4,0.5,1.8,2.0,0.6,1.5,1.7,0.9,0.6,1.8,0.7,0.8,0.4,1.1,0.6,0.6,0.6,0.9,0.9,2.1,1.7,0.6,1.4,1.9,1.8,0.5,1.1,0.6,1.4,1.2,0.7,1.4,0.4,0.6,0.7,1.2,1.5,0.6,1.2,2.0,2.5,0.5,0.9,1.7,1.9,0.4,0.9,1.9,1.9,0.4,0.7,1.5,1.9,0.5,1.0,0.4,0.4,0.5,0.5,0.3,0.6,1.0,0.7,1.2,0.5,1.2,1.5,0.5,1.0,1.3,0.3,0.7,0.6,1.2,0.4,0.8,1.6,1.6,0.5,0.8,0.4,1.2,0.8,1.4,2.0,0.5,0.8,0.8,0.6,1.0,1.5,1.0,2.3,0.2,1.0,0.6,1.1,0.5,0.5,0.6,1.0,0.4,0.9,2.1,2.2,0.6,1.3,1.3,0.6,1.5,1.8,0.4,0.4,0.7,0.6,0.3,0.4,1.7,0.8,1.8,2.5,2.0,14.5,0.7,1.9,2.5,0.5,0.7,0.9,1.1,0.7,1.1,2.0,0.4,1.3,0.4,1.1,1.5,1.3,2.7,1.0,1.2,0.4,0.9,0.6,1.1,0.5,1.5,1.0,1.5,0.7,1.5,0.6,6.2,0.3,0.3,0.3,0.3,1.0,0.6,1.1,1.2,0.8,1.6,2.0,0.6,1.2,1.2,0.6,0.7,1.5,2.1,0.8,1.1,1.4,0.4,1.7,1.8,1.0,0.6,0.6,1.1,1.5,1.8,0.6,1.2,1.6,2.5,0.4,1.1,2.2,0.5,0.9,1.2,0.4,0.8,1.7,0.3,0.6,1.2,0.5,1.0,0.3,1.0,0.5,0.9,1.4,0.2,0.9,0.9,1.6,0.5,1.3,0.2,0.5,0.5,0.5,0.9,0.3,1.2,0.4,0.7,1.1,0.4,0.5,0.3,0.9,1.2,0.4,1.2,0.4,1.2,1.3,0.9,0.9,0.5,1.0,0.2,0.4,1.0,0.5,1.3,0.5,0.6,0.6,0.5,1.0,0.7,1.4,1.9,1.9,0.6,0.7,1.2,1.3,0.8,2.0,0.8,1.3,0.7,1.3,1.4,0.4,1.2,1.0,1.0,2.2,2.7,1.1,1.2,1.7,2.4,2.0,1.8,1.6,1.5,1.9,1.0,0.8,2.0,2.5,0.9,1.6,1.6,1.4,2.2,1.3,0.3,0.3,0.3,0.3,0.3,0.3,0.6,0.8,3.3,0.5,1.0,1.6,0.5,0.8,1.5,0.5,1.1,0.4,0.9,1.2,0.4,1.1,0.6,1.1,0.6,1.0,0.6,1.0,0.6,1.1,0.3,0.6,1.2,0.8,1.6,0.4,0.9,1.7,0.4,0.9,0.3,0.7,1.1,1.5,0.6,1.2,1.4,0.5,0.8,1.5,1.3,1.4,0.3,0.5,1.2,0.4,1.2,2.5,0.3,0.7,0.5,1.1,1.0,1.0,0.7,1.0,1.5,0.6,0.7,1.3,1.3,1.7,1.7,1.0,0.3,1.4,0.6,1.1,1.4,0.5,0.5,1.7,0.7,1.2,0.5,1.4,0.6,1.9,0.7,1.6,0.4,0.5,0.4,0.7,1.5,0.3,0.6,1.0,0.5,1.3,0.4,1.1,1.3,0.6,1.9,0.4,0.5,1.0,0.2,0.6,1.2,2.2,1.2,0.1,0.8,0.6,1.0,0.3,0.6,0.6,0.2,1.2,2.1,0.5,1.0,0.3,0.6,1.0,0.6,1.0,1.8,0.5,2.6,1.1,0.4,0.8,0.7,0.7,0.9,1.4,1.6,1.0,2.8,0.5,1.6,1.6,0.5,1.5,0.5,1.2,1.4,0.3,0.8,1.4,1.8,1.1,1.6,0.4,0.7,1.6,0.4,1.0,1.5,0.3,0.6,1.5,1.5,0.4,1.0,0.3,0.7,1.2,0.3,0.3,1.2,0.6,1.5,0.1,0.2,1.1,0.9,1.7,0.6,2.1,1.2,0.3,0.6,0.6,0.8,0.8,1.7,1.7,0.2,0.8,0.4,0.8,0.4,1.5,0.5,1.3,0.5,1.8,0.5,1.3,0.5,1.0,0.8,2.5,1.3,2.7,1.0,0.8,0.2,0.3,0.3,0.8,2.0,0.2,0.4,1.5,0.4,0.3,0.5,0.8,0.9,0.7,1.1,1.7,1.0,2.0,0.5,1.5,0.3,0.7,1.6,0.4,0.7,1.8,0.4,0.6,1.8,0.3,0.6,1.1,0.4,0.7,0.4,0.5,1.5,0.6,1.7,0.6,0.6,0.6,0.6,0.1,0.2,0.5,0.5,0.8,1.1,0.8,0.2,8.2,0.4,0.7,1.0,2.5,0.3,1.8,0.3,0.9,0.2,1.0,0.6,1.2,0.5,2.1,0.3,0.7,1.2,0.1,1.5,2.0,0.5,2.0,0.5,1.3,0.3,0.3,0.3,0.4,2.0,0.3,0.2,0.9,3.0,3.9,0.6,1.2,1.6,0.3,0.7,2.1,0.3,0.6,1.4,0.3,0.7,1.9,0.3,0.6,0.2,0.8,2.2,0.4,0.4,0.4,0.6,1.2,0.4,0.5,0.6,1.3,0.3,1.0,0.3,1.0,0.3,1.1,2.8,0.2,0.3,0.4,2.2,3.8,0.8,0.5,1.3,0.4,1.6,1.6,0.7,3.0,0.6,1.6,0.1,0.2,0.4,0.6,2.1,0.4,0.8,1.5,1.6,0.8,1.0,0.8,1.5,1.6,0.2,0.3,3.0,0.3,0.3,1.3,2.5,1.4,1.4,0.9,0.9,0.3,0.3,1.2,3.0,1.8,2.3,2.3,2.0,1.8,0.5,1.4,3.0],\"y0\":\" \",\"yaxis\":\"y\",\"type\":\"box\",\"boxmean\":true},{\"alignmentgroup\":\"True\",\"boxpoints\":\"all\",\"hovertemplate\":\"Status=%{x}<br>height_m=%{y}<extra></extra>\",\"legendgroup\":\"Sub Legendary\",\"marker\":{\"color\":\"#ab63fa\"},\"name\":\"Sub Legendary\",\"notched\":false,\"offsetgroup\":\"Sub Legendary\",\"orientation\":\"v\",\"showlegend\":true,\"x\":[\"Sub Legendary\",\"Sub Legendary\",\"Sub Legendary\",\"Sub Legendary\",\"Sub Legendary\",\"Sub Legendary\",\"Sub Legendary\",\"Sub Legendary\",\"Sub Legendary\",\"Sub Legendary\",\"Sub Legendary\",\"Sub Legendary\",\"Sub Legendary\",\"Sub Legendary\",\"Sub Legendary\",\"Sub Legendary\",\"Sub Legendary\",\"Sub Legendary\",\"Sub Legendary\",\"Sub Legendary\",\"Sub Legendary\",\"Sub Legendary\",\"Sub Legendary\",\"Sub Legendary\",\"Sub Legendary\",\"Sub Legendary\",\"Sub Legendary\",\"Sub Legendary\",\"Sub Legendary\",\"Sub Legendary\",\"Sub Legendary\",\"Sub Legendary\",\"Sub Legendary\",\"Sub Legendary\",\"Sub Legendary\",\"Sub Legendary\",\"Sub Legendary\",\"Sub Legendary\",\"Sub Legendary\",\"Sub Legendary\",\"Sub Legendary\",\"Sub Legendary\",\"Sub Legendary\",\"Sub Legendary\",\"Sub Legendary\",\"Sub Legendary\",\"Sub Legendary\",\"Sub Legendary\",\"Sub Legendary\",\"Sub Legendary\",\"Sub Legendary\",\"Sub Legendary\",\"Sub Legendary\",\"Sub Legendary\",\"Sub Legendary\"],\"x0\":\" \",\"xaxis\":\"x\",\"y\":[1.7,1.7,1.6,1.6,2.0,2.0,1.9,2.1,2.0,1.7,1.8,1.9,1.4,1.8,2.0,2.3,0.3,0.3,0.3,1.7,3.7,1.5,2.1,1.9,2.0,1.5,1.4,1.5,3.0,1.5,1.3,1.9,2.3,1.8,1.2,1.9,1.3,1.2,2.4,1.8,3.8,9.2,0.3,5.5,0.6,3.6,5.5,1.8,0.6,1.9,1.9,1.2,2.1,2.2,2.0],\"y0\":\" \",\"yaxis\":\"y\",\"type\":\"box\",\"boxmean\":true},{\"alignmentgroup\":\"True\",\"boxpoints\":\"all\",\"hovertemplate\":\"Status=%{x}<br>height_m=%{y}<extra></extra>\",\"legendgroup\":\"Legendary\",\"marker\":{\"color\":\"orange\"},\"name\":\"Legendary\",\"notched\":false,\"offsetgroup\":\"Legendary\",\"orientation\":\"v\",\"showlegend\":true,\"x\":[\"Legendary\",\"Legendary\",\"Legendary\",\"Legendary\",\"Legendary\",\"Legendary\",\"Legendary\",\"Legendary\",\"Legendary\",\"Legendary\",\"Legendary\",\"Legendary\",\"Legendary\",\"Legendary\",\"Legendary\",\"Legendary\",\"Legendary\",\"Legendary\",\"Legendary\",\"Legendary\",\"Legendary\",\"Legendary\",\"Legendary\",\"Legendary\",\"Legendary\",\"Legendary\",\"Legendary\",\"Legendary\",\"Legendary\",\"Legendary\",\"Legendary\",\"Legendary\",\"Legendary\",\"Legendary\",\"Legendary\",\"Legendary\",\"Legendary\",\"Legendary\",\"Legendary\",\"Legendary\",\"Legendary\",\"Legendary\"],\"x0\":\" \",\"xaxis\":\"x\",\"y\":[2.0,2.3,1.5,5.2,3.8,4.5,9.8,3.5,5.0,7.0,10.8,5.4,4.2,4.5,6.9,3.2,2.9,3.0,3.3,3.6,3.0,5.8,5.0,1.2,4.5,0.2,0.1,3.4,4.0,2.4,3.8,4.2,7.5,2.8,2.8,2.9,2.9,20.0,100.0,1.1,2.4,2.4],\"y0\":\" \",\"yaxis\":\"y\",\"type\":\"box\",\"boxmean\":true},{\"alignmentgroup\":\"True\",\"boxpoints\":\"all\",\"hovertemplate\":\"Status=%{x}<br>height_m=%{y}<extra></extra>\",\"legendgroup\":\"Mythical\",\"marker\":{\"color\":\"green\"},\"name\":\"Mythical\",\"notched\":false,\"offsetgroup\":\"Mythical\",\"orientation\":\"v\",\"showlegend\":true,\"x\":[\"Mythical\",\"Mythical\",\"Mythical\",\"Mythical\",\"Mythical\",\"Mythical\",\"Mythical\",\"Mythical\",\"Mythical\",\"Mythical\",\"Mythical\",\"Mythical\",\"Mythical\",\"Mythical\",\"Mythical\",\"Mythical\",\"Mythical\",\"Mythical\",\"Mythical\",\"Mythical\",\"Mythical\",\"Mythical\",\"Mythical\",\"Mythical\",\"Mythical\",\"Mythical\",\"Mythical\",\"Mythical\",\"Mythical\",\"Mythical\"],\"x0\":\" \",\"xaxis\":\"x\",\"y\":[0.4,0.6,0.3,1.7,1.7,1.7,1.7,0.4,0.3,1.5,0.2,0.4,3.2,0.4,1.4,1.4,0.6,0.6,1.5,0.7,1.1,0.5,6.5,1.7,1.0,0.7,1.5,0.2,2.5,1.8],\"y0\":\" \",\"yaxis\":\"y\",\"type\":\"box\",\"boxmean\":true}],                        {\"template\":{\"data\":{\"barpolar\":[{\"marker\":{\"line\":{\"color\":\"white\",\"width\":0.5},\"pattern\":{\"fillmode\":\"overlay\",\"size\":10,\"solidity\":0.2}},\"type\":\"barpolar\"}],\"bar\":[{\"error_x\":{\"color\":\"#2a3f5f\"},\"error_y\":{\"color\":\"#2a3f5f\"},\"marker\":{\"line\":{\"color\":\"white\",\"width\":0.5},\"pattern\":{\"fillmode\":\"overlay\",\"size\":10,\"solidity\":0.2}},\"type\":\"bar\"}],\"carpet\":[{\"aaxis\":{\"endlinecolor\":\"#2a3f5f\",\"gridcolor\":\"#C8D4E3\",\"linecolor\":\"#C8D4E3\",\"minorgridcolor\":\"#C8D4E3\",\"startlinecolor\":\"#2a3f5f\"},\"baxis\":{\"endlinecolor\":\"#2a3f5f\",\"gridcolor\":\"#C8D4E3\",\"linecolor\":\"#C8D4E3\",\"minorgridcolor\":\"#C8D4E3\",\"startlinecolor\":\"#2a3f5f\"},\"type\":\"carpet\"}],\"choropleth\":[{\"colorbar\":{\"outlinewidth\":0,\"ticks\":\"\"},\"type\":\"choropleth\"}],\"contourcarpet\":[{\"colorbar\":{\"outlinewidth\":0,\"ticks\":\"\"},\"type\":\"contourcarpet\"}],\"contour\":[{\"colorbar\":{\"outlinewidth\":0,\"ticks\":\"\"},\"colorscale\":[[0.0,\"#0d0887\"],[0.1111111111111111,\"#46039f\"],[0.2222222222222222,\"#7201a8\"],[0.3333333333333333,\"#9c179e\"],[0.4444444444444444,\"#bd3786\"],[0.5555555555555556,\"#d8576b\"],[0.6666666666666666,\"#ed7953\"],[0.7777777777777778,\"#fb9f3a\"],[0.8888888888888888,\"#fdca26\"],[1.0,\"#f0f921\"]],\"type\":\"contour\"}],\"heatmapgl\":[{\"colorbar\":{\"outlinewidth\":0,\"ticks\":\"\"},\"colorscale\":[[0.0,\"#0d0887\"],[0.1111111111111111,\"#46039f\"],[0.2222222222222222,\"#7201a8\"],[0.3333333333333333,\"#9c179e\"],[0.4444444444444444,\"#bd3786\"],[0.5555555555555556,\"#d8576b\"],[0.6666666666666666,\"#ed7953\"],[0.7777777777777778,\"#fb9f3a\"],[0.8888888888888888,\"#fdca26\"],[1.0,\"#f0f921\"]],\"type\":\"heatmapgl\"}],\"heatmap\":[{\"colorbar\":{\"outlinewidth\":0,\"ticks\":\"\"},\"colorscale\":[[0.0,\"#0d0887\"],[0.1111111111111111,\"#46039f\"],[0.2222222222222222,\"#7201a8\"],[0.3333333333333333,\"#9c179e\"],[0.4444444444444444,\"#bd3786\"],[0.5555555555555556,\"#d8576b\"],[0.6666666666666666,\"#ed7953\"],[0.7777777777777778,\"#fb9f3a\"],[0.8888888888888888,\"#fdca26\"],[1.0,\"#f0f921\"]],\"type\":\"heatmap\"}],\"histogram2dcontour\":[{\"colorbar\":{\"outlinewidth\":0,\"ticks\":\"\"},\"colorscale\":[[0.0,\"#0d0887\"],[0.1111111111111111,\"#46039f\"],[0.2222222222222222,\"#7201a8\"],[0.3333333333333333,\"#9c179e\"],[0.4444444444444444,\"#bd3786\"],[0.5555555555555556,\"#d8576b\"],[0.6666666666666666,\"#ed7953\"],[0.7777777777777778,\"#fb9f3a\"],[0.8888888888888888,\"#fdca26\"],[1.0,\"#f0f921\"]],\"type\":\"histogram2dcontour\"}],\"histogram2d\":[{\"colorbar\":{\"outlinewidth\":0,\"ticks\":\"\"},\"colorscale\":[[0.0,\"#0d0887\"],[0.1111111111111111,\"#46039f\"],[0.2222222222222222,\"#7201a8\"],[0.3333333333333333,\"#9c179e\"],[0.4444444444444444,\"#bd3786\"],[0.5555555555555556,\"#d8576b\"],[0.6666666666666666,\"#ed7953\"],[0.7777777777777778,\"#fb9f3a\"],[0.8888888888888888,\"#fdca26\"],[1.0,\"#f0f921\"]],\"type\":\"histogram2d\"}],\"histogram\":[{\"marker\":{\"pattern\":{\"fillmode\":\"overlay\",\"size\":10,\"solidity\":0.2}},\"type\":\"histogram\"}],\"mesh3d\":[{\"colorbar\":{\"outlinewidth\":0,\"ticks\":\"\"},\"type\":\"mesh3d\"}],\"parcoords\":[{\"line\":{\"colorbar\":{\"outlinewidth\":0,\"ticks\":\"\"}},\"type\":\"parcoords\"}],\"pie\":[{\"automargin\":true,\"type\":\"pie\"}],\"scatter3d\":[{\"line\":{\"colorbar\":{\"outlinewidth\":0,\"ticks\":\"\"}},\"marker\":{\"colorbar\":{\"outlinewidth\":0,\"ticks\":\"\"}},\"type\":\"scatter3d\"}],\"scattercarpet\":[{\"marker\":{\"colorbar\":{\"outlinewidth\":0,\"ticks\":\"\"}},\"type\":\"scattercarpet\"}],\"scattergeo\":[{\"marker\":{\"colorbar\":{\"outlinewidth\":0,\"ticks\":\"\"}},\"type\":\"scattergeo\"}],\"scattergl\":[{\"marker\":{\"colorbar\":{\"outlinewidth\":0,\"ticks\":\"\"}},\"type\":\"scattergl\"}],\"scattermapbox\":[{\"marker\":{\"colorbar\":{\"outlinewidth\":0,\"ticks\":\"\"}},\"type\":\"scattermapbox\"}],\"scatterpolargl\":[{\"marker\":{\"colorbar\":{\"outlinewidth\":0,\"ticks\":\"\"}},\"type\":\"scatterpolargl\"}],\"scatterpolar\":[{\"marker\":{\"colorbar\":{\"outlinewidth\":0,\"ticks\":\"\"}},\"type\":\"scatterpolar\"}],\"scatter\":[{\"fillpattern\":{\"fillmode\":\"overlay\",\"size\":10,\"solidity\":0.2},\"type\":\"scatter\"}],\"scatterternary\":[{\"marker\":{\"colorbar\":{\"outlinewidth\":0,\"ticks\":\"\"}},\"type\":\"scatterternary\"}],\"surface\":[{\"colorbar\":{\"outlinewidth\":0,\"ticks\":\"\"},\"colorscale\":[[0.0,\"#0d0887\"],[0.1111111111111111,\"#46039f\"],[0.2222222222222222,\"#7201a8\"],[0.3333333333333333,\"#9c179e\"],[0.4444444444444444,\"#bd3786\"],[0.5555555555555556,\"#d8576b\"],[0.6666666666666666,\"#ed7953\"],[0.7777777777777778,\"#fb9f3a\"],[0.8888888888888888,\"#fdca26\"],[1.0,\"#f0f921\"]],\"type\":\"surface\"}],\"table\":[{\"cells\":{\"fill\":{\"color\":\"#EBF0F8\"},\"line\":{\"color\":\"white\"}},\"header\":{\"fill\":{\"color\":\"#C8D4E3\"},\"line\":{\"color\":\"white\"}},\"type\":\"table\"}]},\"layout\":{\"annotationdefaults\":{\"arrowcolor\":\"#2a3f5f\",\"arrowhead\":0,\"arrowwidth\":1},\"autotypenumbers\":\"strict\",\"coloraxis\":{\"colorbar\":{\"outlinewidth\":0,\"ticks\":\"\"}},\"colorscale\":{\"diverging\":[[0,\"#8e0152\"],[0.1,\"#c51b7d\"],[0.2,\"#de77ae\"],[0.3,\"#f1b6da\"],[0.4,\"#fde0ef\"],[0.5,\"#f7f7f7\"],[0.6,\"#e6f5d0\"],[0.7,\"#b8e186\"],[0.8,\"#7fbc41\"],[0.9,\"#4d9221\"],[1,\"#276419\"]],\"sequential\":[[0.0,\"#0d0887\"],[0.1111111111111111,\"#46039f\"],[0.2222222222222222,\"#7201a8\"],[0.3333333333333333,\"#9c179e\"],[0.4444444444444444,\"#bd3786\"],[0.5555555555555556,\"#d8576b\"],[0.6666666666666666,\"#ed7953\"],[0.7777777777777778,\"#fb9f3a\"],[0.8888888888888888,\"#fdca26\"],[1.0,\"#f0f921\"]],\"sequentialminus\":[[0.0,\"#0d0887\"],[0.1111111111111111,\"#46039f\"],[0.2222222222222222,\"#7201a8\"],[0.3333333333333333,\"#9c179e\"],[0.4444444444444444,\"#bd3786\"],[0.5555555555555556,\"#d8576b\"],[0.6666666666666666,\"#ed7953\"],[0.7777777777777778,\"#fb9f3a\"],[0.8888888888888888,\"#fdca26\"],[1.0,\"#f0f921\"]]},\"colorway\":[\"#636efa\",\"#EF553B\",\"#00cc96\",\"#ab63fa\",\"#FFA15A\",\"#19d3f3\",\"#FF6692\",\"#B6E880\",\"#FF97FF\",\"#FECB52\"],\"font\":{\"color\":\"#2a3f5f\"},\"geo\":{\"bgcolor\":\"white\",\"lakecolor\":\"white\",\"landcolor\":\"white\",\"showlakes\":true,\"showland\":true,\"subunitcolor\":\"#C8D4E3\"},\"hoverlabel\":{\"align\":\"left\"},\"hovermode\":\"closest\",\"mapbox\":{\"style\":\"light\"},\"paper_bgcolor\":\"white\",\"plot_bgcolor\":\"white\",\"polar\":{\"angularaxis\":{\"gridcolor\":\"#EBF0F8\",\"linecolor\":\"#EBF0F8\",\"ticks\":\"\"},\"bgcolor\":\"white\",\"radialaxis\":{\"gridcolor\":\"#EBF0F8\",\"linecolor\":\"#EBF0F8\",\"ticks\":\"\"}},\"scene\":{\"xaxis\":{\"backgroundcolor\":\"white\",\"gridcolor\":\"#DFE8F3\",\"gridwidth\":2,\"linecolor\":\"#EBF0F8\",\"showbackground\":true,\"ticks\":\"\",\"zerolinecolor\":\"#EBF0F8\"},\"yaxis\":{\"backgroundcolor\":\"white\",\"gridcolor\":\"#DFE8F3\",\"gridwidth\":2,\"linecolor\":\"#EBF0F8\",\"showbackground\":true,\"ticks\":\"\",\"zerolinecolor\":\"#EBF0F8\"},\"zaxis\":{\"backgroundcolor\":\"white\",\"gridcolor\":\"#DFE8F3\",\"gridwidth\":2,\"linecolor\":\"#EBF0F8\",\"showbackground\":true,\"ticks\":\"\",\"zerolinecolor\":\"#EBF0F8\"}},\"shapedefaults\":{\"line\":{\"color\":\"#2a3f5f\"}},\"ternary\":{\"aaxis\":{\"gridcolor\":\"#DFE8F3\",\"linecolor\":\"#A2B1C6\",\"ticks\":\"\"},\"baxis\":{\"gridcolor\":\"#DFE8F3\",\"linecolor\":\"#A2B1C6\",\"ticks\":\"\"},\"bgcolor\":\"white\",\"caxis\":{\"gridcolor\":\"#DFE8F3\",\"linecolor\":\"#A2B1C6\",\"ticks\":\"\"}},\"title\":{\"x\":0.05},\"xaxis\":{\"automargin\":true,\"gridcolor\":\"#EBF0F8\",\"linecolor\":\"#EBF0F8\",\"ticks\":\"\",\"title\":{\"standoff\":15},\"zerolinecolor\":\"#EBF0F8\",\"zerolinewidth\":2},\"yaxis\":{\"automargin\":true,\"gridcolor\":\"#EBF0F8\",\"linecolor\":\"#EBF0F8\",\"ticks\":\"\",\"title\":{\"standoff\":15},\"zerolinecolor\":\"#EBF0F8\",\"zerolinewidth\":2}}},\"xaxis\":{\"anchor\":\"y\",\"domain\":[0.0,1.0],\"title\":{\"text\":\"Status\"},\"categoryorder\":\"array\",\"categoryarray\":[\"Normal\",\"Sub Legendary\",\"Legendary\",\"Mythical\"]},\"yaxis\":{\"anchor\":\"x\",\"domain\":[0.0,1.0],\"title\":{\"text\":\"Total Points\"}},\"legend\":{\"title\":{\"text\":\"Status\"},\"tracegroupgap\":0},\"title\":{\"text\":\"AVG Height Distribution by Pok\\u00e9mon Status\"},\"boxmode\":\"overlay\",\"showlegend\":false},                        {\"responsive\": true}                    ).then(function(){\n                            \nvar gd = document.getElementById('7d4137cd-e359-48d0-953d-01d31e90f9d2');\nvar x = new MutationObserver(function (mutations, observer) {{\n        var display = window.getComputedStyle(gd).display;\n        if (!display || display === 'none') {{\n            console.log([gd, 'removed!']);\n            Plotly.purge(gd);\n            observer.disconnect();\n        }}\n}});\n\n// Listen for the removal of the full notebook cells\nvar notebookContainer = gd.closest('#notebook-container');\nif (notebookContainer) {{\n    x.observe(notebookContainer, {childList: true});\n}}\n\n// Listen for the clearing of the current output cell\nvar outputEl = gd.closest('.output');\nif (outputEl) {{\n    x.observe(outputEl, {childList: true});\n}}\n\n                        })                };                });            </script>        </div>"
     },
     "metadata": {},
     "output_type": "display_data"
    }
   ],
   "source": [
    "import plotly.express as px\n",
    "\n",
    "# Define custom color palette for each status\n",
    "status_colors = {'Normal': 'blue', 'Legendary': 'orange', 'Mythical': 'green'}\n",
    "\n",
    "fig = px.box(pokedex, x='status', y='height_m', points='all', color='status', color_discrete_map=status_colors,\n",
    "             title='AVG Height Distribution by Pokémon Status',\n",
    "             labels={'status': 'Status', 'total_points': 'Total Points'},\n",
    "             template='plotly_white')\n",
    "\n",
    "# Customize axes\n",
    "fig.update_xaxes(title_text='Status')\n",
    "fig.update_yaxes(title_text='Total Points')\n",
    "\n",
    "# Customize layout\n",
    "fig.update_layout(showlegend=False)  # Hide legend since colors represent status\n",
    "fig.update_traces(boxmean=True)  # Show mean line inside box\n",
    "fig.show()\n"
   ],
   "metadata": {
    "collapsed": false,
    "ExecuteTime": {
     "end_time": "2024-04-24T00:35:22.902772800Z",
     "start_time": "2024-04-24T00:35:22.737537500Z"
    }
   },
   "id": "9c117a1fb542e9b1"
  },
  {
   "cell_type": "code",
   "execution_count": 34,
   "outputs": [
    {
     "data": {
      "application/vnd.plotly.v1+json": {
       "data": [
        {
         "alignmentgroup": "True",
         "boxpoints": "all",
         "hovertemplate": "Status=%{x}<br>weight_kg=%{y}<extra></extra>",
         "legendgroup": "Normal",
         "marker": {
          "color": "blue"
         },
         "name": "Normal",
         "notched": false,
         "offsetgroup": "Normal",
         "orientation": "v",
         "showlegend": true,
         "x": [
          "Normal",
          "Normal",
          "Normal",
          "Normal",
          "Normal",
          "Normal",
          "Normal",
          "Normal",
          "Normal",
          "Normal",
          "Normal",
          "Normal",
          "Normal",
          "Normal",
          "Normal",
          "Normal",
          "Normal",
          "Normal",
          "Normal",
          "Normal",
          "Normal",
          "Normal",
          "Normal",
          "Normal",
          "Normal",
          "Normal",
          "Normal",
          "Normal",
          "Normal",
          "Normal",
          "Normal",
          "Normal",
          "Normal",
          "Normal",
          "Normal",
          "Normal",
          "Normal",
          "Normal",
          "Normal",
          "Normal",
          "Normal",
          "Normal",
          "Normal",
          "Normal",
          "Normal",
          "Normal",
          "Normal",
          "Normal",
          "Normal",
          "Normal",
          "Normal",
          "Normal",
          "Normal",
          "Normal",
          "Normal",
          "Normal",
          "Normal",
          "Normal",
          "Normal",
          "Normal",
          "Normal",
          "Normal",
          "Normal",
          "Normal",
          "Normal",
          "Normal",
          "Normal",
          "Normal",
          "Normal",
          "Normal",
          "Normal",
          "Normal",
          "Normal",
          "Normal",
          "Normal",
          "Normal",
          "Normal",
          "Normal",
          "Normal",
          "Normal",
          "Normal",
          "Normal",
          "Normal",
          "Normal",
          "Normal",
          "Normal",
          "Normal",
          "Normal",
          "Normal",
          "Normal",
          "Normal",
          "Normal",
          "Normal",
          "Normal",
          "Normal",
          "Normal",
          "Normal",
          "Normal",
          "Normal",
          "Normal",
          "Normal",
          "Normal",
          "Normal",
          "Normal",
          "Normal",
          "Normal",
          "Normal",
          "Normal",
          "Normal",
          "Normal",
          "Normal",
          "Normal",
          "Normal",
          "Normal",
          "Normal",
          "Normal",
          "Normal",
          "Normal",
          "Normal",
          "Normal",
          "Normal",
          "Normal",
          "Normal",
          "Normal",
          "Normal",
          "Normal",
          "Normal",
          "Normal",
          "Normal",
          "Normal",
          "Normal",
          "Normal",
          "Normal",
          "Normal",
          "Normal",
          "Normal",
          "Normal",
          "Normal",
          "Normal",
          "Normal",
          "Normal",
          "Normal",
          "Normal",
          "Normal",
          "Normal",
          "Normal",
          "Normal",
          "Normal",
          "Normal",
          "Normal",
          "Normal",
          "Normal",
          "Normal",
          "Normal",
          "Normal",
          "Normal",
          "Normal",
          "Normal",
          "Normal",
          "Normal",
          "Normal",
          "Normal",
          "Normal",
          "Normal",
          "Normal",
          "Normal",
          "Normal",
          "Normal",
          "Normal",
          "Normal",
          "Normal",
          "Normal",
          "Normal",
          "Normal",
          "Normal",
          "Normal",
          "Normal",
          "Normal",
          "Normal",
          "Normal",
          "Normal",
          "Normal",
          "Normal",
          "Normal",
          "Normal",
          "Normal",
          "Normal",
          "Normal",
          "Normal",
          "Normal",
          "Normal",
          "Normal",
          "Normal",
          "Normal",
          "Normal",
          "Normal",
          "Normal",
          "Normal",
          "Normal",
          "Normal",
          "Normal",
          "Normal",
          "Normal",
          "Normal",
          "Normal",
          "Normal",
          "Normal",
          "Normal",
          "Normal",
          "Normal",
          "Normal",
          "Normal",
          "Normal",
          "Normal",
          "Normal",
          "Normal",
          "Normal",
          "Normal",
          "Normal",
          "Normal",
          "Normal",
          "Normal",
          "Normal",
          "Normal",
          "Normal",
          "Normal",
          "Normal",
          "Normal",
          "Normal",
          "Normal",
          "Normal",
          "Normal",
          "Normal",
          "Normal",
          "Normal",
          "Normal",
          "Normal",
          "Normal",
          "Normal",
          "Normal",
          "Normal",
          "Normal",
          "Normal",
          "Normal",
          "Normal",
          "Normal",
          "Normal",
          "Normal",
          "Normal",
          "Normal",
          "Normal",
          "Normal",
          "Normal",
          "Normal",
          "Normal",
          "Normal",
          "Normal",
          "Normal",
          "Normal",
          "Normal",
          "Normal",
          "Normal",
          "Normal",
          "Normal",
          "Normal",
          "Normal",
          "Normal",
          "Normal",
          "Normal",
          "Normal",
          "Normal",
          "Normal",
          "Normal",
          "Normal",
          "Normal",
          "Normal",
          "Normal",
          "Normal",
          "Normal",
          "Normal",
          "Normal",
          "Normal",
          "Normal",
          "Normal",
          "Normal",
          "Normal",
          "Normal",
          "Normal",
          "Normal",
          "Normal",
          "Normal",
          "Normal",
          "Normal",
          "Normal",
          "Normal",
          "Normal",
          "Normal",
          "Normal",
          "Normal",
          "Normal",
          "Normal",
          "Normal",
          "Normal",
          "Normal",
          "Normal",
          "Normal",
          "Normal",
          "Normal",
          "Normal",
          "Normal",
          "Normal",
          "Normal",
          "Normal",
          "Normal",
          "Normal",
          "Normal",
          "Normal",
          "Normal",
          "Normal",
          "Normal",
          "Normal",
          "Normal",
          "Normal",
          "Normal",
          "Normal",
          "Normal",
          "Normal",
          "Normal",
          "Normal",
          "Normal",
          "Normal",
          "Normal",
          "Normal",
          "Normal",
          "Normal",
          "Normal",
          "Normal",
          "Normal",
          "Normal",
          "Normal",
          "Normal",
          "Normal",
          "Normal",
          "Normal",
          "Normal",
          "Normal",
          "Normal",
          "Normal",
          "Normal",
          "Normal",
          "Normal",
          "Normal",
          "Normal",
          "Normal",
          "Normal",
          "Normal",
          "Normal",
          "Normal",
          "Normal",
          "Normal",
          "Normal",
          "Normal",
          "Normal",
          "Normal",
          "Normal",
          "Normal",
          "Normal",
          "Normal",
          "Normal",
          "Normal",
          "Normal",
          "Normal",
          "Normal",
          "Normal",
          "Normal",
          "Normal",
          "Normal",
          "Normal",
          "Normal",
          "Normal",
          "Normal",
          "Normal",
          "Normal",
          "Normal",
          "Normal",
          "Normal",
          "Normal",
          "Normal",
          "Normal",
          "Normal",
          "Normal",
          "Normal",
          "Normal",
          "Normal",
          "Normal",
          "Normal",
          "Normal",
          "Normal",
          "Normal",
          "Normal",
          "Normal",
          "Normal",
          "Normal",
          "Normal",
          "Normal",
          "Normal",
          "Normal",
          "Normal",
          "Normal",
          "Normal",
          "Normal",
          "Normal",
          "Normal",
          "Normal",
          "Normal",
          "Normal",
          "Normal",
          "Normal",
          "Normal",
          "Normal",
          "Normal",
          "Normal",
          "Normal",
          "Normal",
          "Normal",
          "Normal",
          "Normal",
          "Normal",
          "Normal",
          "Normal",
          "Normal",
          "Normal",
          "Normal",
          "Normal",
          "Normal",
          "Normal",
          "Normal",
          "Normal",
          "Normal",
          "Normal",
          "Normal",
          "Normal",
          "Normal",
          "Normal",
          "Normal",
          "Normal",
          "Normal",
          "Normal",
          "Normal",
          "Normal",
          "Normal",
          "Normal",
          "Normal",
          "Normal",
          "Normal",
          "Normal",
          "Normal",
          "Normal",
          "Normal",
          "Normal",
          "Normal",
          "Normal",
          "Normal",
          "Normal",
          "Normal",
          "Normal",
          "Normal",
          "Normal",
          "Normal",
          "Normal",
          "Normal",
          "Normal",
          "Normal",
          "Normal",
          "Normal",
          "Normal",
          "Normal",
          "Normal",
          "Normal",
          "Normal",
          "Normal",
          "Normal",
          "Normal",
          "Normal",
          "Normal",
          "Normal",
          "Normal",
          "Normal",
          "Normal",
          "Normal",
          "Normal",
          "Normal",
          "Normal",
          "Normal",
          "Normal",
          "Normal",
          "Normal",
          "Normal",
          "Normal",
          "Normal",
          "Normal",
          "Normal",
          "Normal",
          "Normal",
          "Normal",
          "Normal",
          "Normal",
          "Normal",
          "Normal",
          "Normal",
          "Normal",
          "Normal",
          "Normal",
          "Normal",
          "Normal",
          "Normal",
          "Normal",
          "Normal",
          "Normal",
          "Normal",
          "Normal",
          "Normal",
          "Normal",
          "Normal",
          "Normal",
          "Normal",
          "Normal",
          "Normal",
          "Normal",
          "Normal",
          "Normal",
          "Normal",
          "Normal",
          "Normal",
          "Normal",
          "Normal",
          "Normal",
          "Normal",
          "Normal",
          "Normal",
          "Normal",
          "Normal",
          "Normal",
          "Normal",
          "Normal",
          "Normal",
          "Normal",
          "Normal",
          "Normal",
          "Normal",
          "Normal",
          "Normal",
          "Normal",
          "Normal",
          "Normal",
          "Normal",
          "Normal",
          "Normal",
          "Normal",
          "Normal",
          "Normal",
          "Normal",
          "Normal",
          "Normal",
          "Normal",
          "Normal",
          "Normal",
          "Normal",
          "Normal",
          "Normal",
          "Normal",
          "Normal",
          "Normal",
          "Normal",
          "Normal",
          "Normal",
          "Normal",
          "Normal",
          "Normal",
          "Normal",
          "Normal",
          "Normal",
          "Normal",
          "Normal",
          "Normal",
          "Normal",
          "Normal",
          "Normal",
          "Normal",
          "Normal",
          "Normal",
          "Normal",
          "Normal",
          "Normal",
          "Normal",
          "Normal",
          "Normal",
          "Normal",
          "Normal",
          "Normal",
          "Normal",
          "Normal",
          "Normal",
          "Normal",
          "Normal",
          "Normal",
          "Normal",
          "Normal",
          "Normal",
          "Normal",
          "Normal",
          "Normal",
          "Normal",
          "Normal",
          "Normal",
          "Normal",
          "Normal",
          "Normal",
          "Normal",
          "Normal",
          "Normal",
          "Normal",
          "Normal",
          "Normal",
          "Normal",
          "Normal",
          "Normal",
          "Normal",
          "Normal",
          "Normal",
          "Normal",
          "Normal",
          "Normal",
          "Normal",
          "Normal",
          "Normal",
          "Normal",
          "Normal",
          "Normal",
          "Normal",
          "Normal",
          "Normal",
          "Normal",
          "Normal",
          "Normal",
          "Normal",
          "Normal",
          "Normal",
          "Normal",
          "Normal",
          "Normal",
          "Normal",
          "Normal",
          "Normal",
          "Normal",
          "Normal",
          "Normal",
          "Normal",
          "Normal",
          "Normal",
          "Normal",
          "Normal",
          "Normal",
          "Normal",
          "Normal",
          "Normal",
          "Normal",
          "Normal",
          "Normal",
          "Normal",
          "Normal",
          "Normal",
          "Normal",
          "Normal",
          "Normal",
          "Normal",
          "Normal",
          "Normal",
          "Normal",
          "Normal",
          "Normal",
          "Normal",
          "Normal",
          "Normal",
          "Normal",
          "Normal",
          "Normal",
          "Normal",
          "Normal",
          "Normal",
          "Normal",
          "Normal",
          "Normal",
          "Normal",
          "Normal",
          "Normal",
          "Normal",
          "Normal",
          "Normal",
          "Normal",
          "Normal",
          "Normal",
          "Normal",
          "Normal",
          "Normal",
          "Normal",
          "Normal",
          "Normal",
          "Normal",
          "Normal",
          "Normal",
          "Normal",
          "Normal",
          "Normal",
          "Normal",
          "Normal",
          "Normal",
          "Normal",
          "Normal",
          "Normal",
          "Normal",
          "Normal",
          "Normal",
          "Normal",
          "Normal",
          "Normal",
          "Normal",
          "Normal",
          "Normal",
          "Normal",
          "Normal",
          "Normal",
          "Normal",
          "Normal",
          "Normal",
          "Normal",
          "Normal",
          "Normal",
          "Normal",
          "Normal",
          "Normal",
          "Normal",
          "Normal",
          "Normal",
          "Normal",
          "Normal",
          "Normal",
          "Normal",
          "Normal",
          "Normal",
          "Normal",
          "Normal",
          "Normal",
          "Normal",
          "Normal",
          "Normal",
          "Normal",
          "Normal",
          "Normal",
          "Normal",
          "Normal",
          "Normal",
          "Normal",
          "Normal",
          "Normal",
          "Normal",
          "Normal",
          "Normal",
          "Normal",
          "Normal",
          "Normal",
          "Normal",
          "Normal",
          "Normal",
          "Normal",
          "Normal",
          "Normal",
          "Normal",
          "Normal",
          "Normal",
          "Normal",
          "Normal",
          "Normal",
          "Normal",
          "Normal",
          "Normal",
          "Normal",
          "Normal",
          "Normal",
          "Normal",
          "Normal",
          "Normal",
          "Normal",
          "Normal",
          "Normal",
          "Normal",
          "Normal",
          "Normal",
          "Normal",
          "Normal",
          "Normal",
          "Normal",
          "Normal",
          "Normal",
          "Normal",
          "Normal",
          "Normal",
          "Normal",
          "Normal",
          "Normal",
          "Normal",
          "Normal",
          "Normal",
          "Normal",
          "Normal",
          "Normal",
          "Normal",
          "Normal",
          "Normal",
          "Normal",
          "Normal",
          "Normal",
          "Normal",
          "Normal",
          "Normal",
          "Normal",
          "Normal",
          "Normal",
          "Normal",
          "Normal",
          "Normal",
          "Normal",
          "Normal",
          "Normal",
          "Normal",
          "Normal",
          "Normal",
          "Normal",
          "Normal",
          "Normal",
          "Normal",
          "Normal",
          "Normal",
          "Normal",
          "Normal",
          "Normal",
          "Normal",
          "Normal",
          "Normal",
          "Normal",
          "Normal",
          "Normal",
          "Normal",
          "Normal",
          "Normal",
          "Normal",
          "Normal",
          "Normal",
          "Normal",
          "Normal",
          "Normal",
          "Normal",
          "Normal",
          "Normal",
          "Normal",
          "Normal",
          "Normal",
          "Normal",
          "Normal",
          "Normal",
          "Normal",
          "Normal",
          "Normal",
          "Normal",
          "Normal",
          "Normal",
          "Normal",
          "Normal",
          "Normal",
          "Normal",
          "Normal",
          "Normal",
          "Normal",
          "Normal",
          "Normal",
          "Normal",
          "Normal",
          "Normal",
          "Normal",
          "Normal",
          "Normal",
          "Normal",
          "Normal",
          "Normal",
          "Normal",
          "Normal",
          "Normal",
          "Normal",
          "Normal",
          "Normal",
          "Normal",
          "Normal",
          "Normal",
          "Normal",
          "Normal",
          "Normal",
          "Normal",
          "Normal",
          "Normal",
          "Normal",
          "Normal",
          "Normal",
          "Normal",
          "Normal",
          "Normal",
          "Normal",
          "Normal",
          "Normal"
         ],
         "x0": " ",
         "xaxis": "x",
         "y": [
          6.9,
          13.0,
          100.0,
          155.5,
          8.5,
          19.0,
          90.5,
          110.5,
          100.5,
          9.0,
          22.5,
          85.5,
          101.1,
          2.9,
          9.9,
          32.0,
          3.2,
          10.0,
          29.5,
          40.5,
          1.8,
          30.0,
          39.5,
          50.5,
          3.5,
          3.8,
          18.5,
          25.5,
          2.0,
          38.0,
          6.9,
          65.0,
          6.0,
          6.0,
          30.0,
          21.0,
          12.0,
          40.0,
          29.5,
          55.0,
          7.0,
          20.0,
          60.0,
          9.0,
          19.5,
          62.0,
          7.5,
          40.0,
          9.9,
          9.9,
          19.9,
          19.9,
          5.5,
          12.0,
          7.5,
          55.0,
          5.4,
          8.6,
          18.6,
          5.4,
          29.5,
          30.0,
          12.5,
          0.8,
          1.0,
          33.3,
          66.6,
          4.2,
          4.2,
          7.5,
          32.0,
          33.0,
          19.6,
          76.6,
          28.0,
          32.0,
          19.0,
          155.0,
          12.4,
          20.0,
          54.0,
          19.5,
          56.5,
          48.0,
          48.0,
          19.5,
          70.5,
          130.0,
          4.0,
          6.4,
          15.5,
          45.5,
          55.0,
          20.0,
          20.3,
          105.0,
          110.0,
          300.0,
          316.0,
          30.0,
          24.0,
          95.0,
          80.0,
          36.0,
          36.0,
          78.5,
          120.0,
          70.5,
          6.0,
          60.0,
          15.0,
          42.0,
          39.2,
          85.2,
          90.0,
          120.0,
          30.0,
          42.0,
          30.0,
          52.0,
          4.0,
          132.5,
          0.1,
          0.1,
          40.5,
          40.5,
          210.0,
          32.4,
          75.6,
          6.5,
          60.0,
          10.4,
          66.6,
          2.5,
          120.0,
          415.6,
          6.5,
          45.0,
          34.0,
          49.8,
          50.2,
          65.5,
          1.0,
          9.5,
          16.0,
          115.0,
          120.0,
          34.6,
          35.0,
          80.0,
          100.0,
          8.0,
          25.0,
          15.0,
          39.0,
          34.5,
          80.0,
          54.5,
          56.8,
          56.0,
          40.6,
          30.0,
          44.5,
          55.0,
          59.0,
          88.4,
          10.0,
          235.0,
          305.0,
          220.0,
          4.0,
          6.5,
          6.5,
          29.0,
          24.5,
          25.0,
          36.5,
          7.5,
          35.0,
          11.5,
          40.5,
          59.0,
          79.0,
          460.0,
          3.3,
          16.5,
          210.0,
          6.4,
          15.8,
          100.5,
          7.9,
          19.0,
          79.5,
          9.5,
          25.0,
          88.8,
          6.0,
          32.5,
          21.2,
          40.8,
          10.8,
          35.6,
          8.5,
          33.5,
          75.0,
          12.0,
          22.5,
          2.0,
          3.0,
          1.0,
          1.5,
          3.2,
          2.0,
          15.0,
          7.8,
          13.3,
          61.5,
          61.5,
          5.8,
          8.5,
          28.5,
          38.0,
          33.9,
          0.5,
          1.0,
          3.0,
          11.5,
          1.8,
          8.5,
          38.0,
          8.5,
          75.0,
          26.5,
          27.0,
          2.1,
          79.5,
          79.5,
          1.0,
          5.0,
          28.5,
          41.5,
          7.2,
          125.8,
          14.0,
          64.8,
          400.0,
          740.0,
          7.8,
          48.7,
          3.9,
          118.0,
          125.0,
          20.5,
          54.0,
          62.5,
          28.0,
          8.8,
          125.8,
          35.0,
          55.0,
          6.5,
          55.8,
          5.0,
          0.5,
          12.0,
          28.5,
          16.0,
          220.0,
          50.5,
          10.8,
          35.0,
          49.5,
          152.0,
          33.5,
          120.0,
          32.5,
          71.2,
          58.0,
          21.0,
          48.0,
          6.0,
          23.5,
          21.4,
          75.5,
          46.8,
          72.0,
          152.0,
          202.0,
          255.0,
          5.0,
          21.6,
          52.2,
          55.2,
          2.5,
          19.5,
          52.0,
          52.0,
          7.6,
          28.0,
          81.9,
          102.0,
          13.6,
          37.0,
          17.5,
          17.5,
          32.5,
          32.5,
          3.6,
          10.0,
          28.4,
          11.5,
          31.6,
          2.6,
          32.5,
          55.0,
          4.0,
          28.0,
          59.6,
          2.3,
          19.8,
          9.5,
          28.0,
          6.6,
          20.2,
          48.4,
          48.4,
          1.7,
          3.6,
          4.5,
          39.2,
          24.0,
          46.5,
          130.5,
          5.5,
          12.0,
          1.2,
          16.3,
          40.5,
          84.0,
          86.4,
          253.8,
          2.0,
          97.0,
          11.0,
          32.6,
          11.0,
          161.0,
          11.5,
          23.5,
          60.0,
          120.0,
          360.0,
          395.0,
          11.2,
          31.5,
          31.5,
          15.2,
          40.2,
          44.0,
          4.2,
          4.2,
          17.7,
          17.7,
          2.0,
          10.3,
          80.0,
          20.8,
          88.8,
          130.3,
          130.0,
          398.0,
          24.0,
          220.0,
          320.5,
          80.4,
          30.6,
          71.5,
          5.0,
          15.0,
          15.3,
          82.0,
          51.3,
          77.4,
          1.2,
          20.6,
          20.6,
          40.3,
          52.5,
          168.0,
          154.0,
          1.9,
          23.6,
          11.5,
          32.8,
          21.5,
          108.0,
          23.8,
          60.4,
          12.5,
          68.2,
          7.4,
          162.0,
          0.8,
          0.8,
          0.8,
          0.8,
          22.0,
          2.3,
          12.5,
          13.0,
          15.0,
          30.6,
          100.0,
          1.0,
          47.0,
          49.0,
          14.0,
          16.8,
          256.5,
          350.2,
          39.5,
          87.6,
          150.6,
          52.5,
          27.0,
          22.6,
          23.4,
          8.7,
          42.1,
          110.5,
          102.6,
          112.6,
          95.2,
          202.5,
          550.0,
          942.9,
          10.2,
          97.0,
          310.0,
          6.2,
          22.0,
          55.0,
          5.2,
          23.0,
          84.5,
          2.0,
          15.5,
          24.9,
          20.0,
          31.5,
          2.2,
          25.5,
          9.5,
          30.5,
          42.0,
          1.2,
          14.5,
          31.5,
          102.5,
          57.0,
          149.5,
          3.4,
          6.5,
          6.5,
          6.5,
          23.3,
          5.5,
          38.5,
          3.9,
          29.5,
          33.5,
          3.3,
          9.3,
          6.3,
          29.9,
          20.3,
          1.2,
          15.0,
          5.5,
          33.3,
          28.3,
          4.4,
          27.3,
          3.9,
          43.8,
          0.6,
          19.2,
          38.0,
          60.5,
          187.0,
          15.0,
          13.0,
          24.4,
          1.9,
          108.0,
          20.5,
          56.0,
          95.0,
          95.0,
          105.0,
          20.2,
          54.0,
          57.5,
          49.5,
          300.0,
          12.0,
          61.5,
          23.0,
          44.4,
          27.0,
          7.0,
          24.0,
          65.0,
          50.5,
          135.5,
          185.0,
          34.0,
          180.0,
          140.0,
          282.8,
          128.6,
          138.6,
          68.0,
          38.0,
          51.5,
          25.5,
          25.9,
          42.5,
          291.0,
          34.0,
          52.0,
          56.4,
          340.0,
          106.6,
          26.6,
          0.3,
          0.3,
          0.3,
          0.3,
          0.3,
          0.3,
          8.1,
          16.0,
          63.0,
          9.9,
          55.5,
          150.0,
          5.9,
          24.5,
          94.6,
          11.6,
          27.0,
          4.1,
          14.7,
          61.0,
          10.1,
          37.5,
          10.5,
          30.5,
          11.0,
          28.0,
          13.5,
          29.0,
          23.3,
          60.5,
          2.1,
          15.0,
          29.0,
          29.8,
          79.5,
          18.0,
          102.0,
          260.0,
          2.1,
          10.5,
          8.5,
          40.4,
          31.0,
          32.0,
          12.5,
          40.0,
          87.0,
          4.5,
          17.0,
          62.0,
          55.5,
          51.0,
          2.5,
          7.3,
          20.5,
          5.3,
          58.5,
          200.5,
          0.6,
          6.6,
          6.6,
          16.3,
          18.0,
          18.0,
          15.2,
          33.4,
          96.3,
          37.5,
          40.0,
          92.9,
          92.9,
          120.0,
          120.0,
          28.0,
          14.5,
          200.0,
          11.8,
          30.0,
          14.0,
          1.5,
          1.5,
          76.5,
          16.5,
          81.0,
          9.5,
          32.0,
          31.0,
          107.3,
          12.5,
          81.1,
          5.8,
          7.5,
          5.8,
          18.0,
          44.0,
          1.0,
          8.0,
          20.1,
          5.5,
          24.2,
          5.7,
          41.0,
          57.5,
          19.5,
          92.5,
          5.0,
          5.9,
          33.0,
          1.0,
          10.5,
          33.0,
          135.0,
          31.6,
          0.6,
          14.3,
          18.8,
          110.0,
          21.0,
          51.0,
          81.0,
          0.3,
          22.0,
          80.5,
          9.0,
          34.5,
          3.1,
          13.0,
          34.3,
          18.0,
          36.0,
          105.5,
          8.5,
          260.0,
          148.0,
          7.7,
          25.3,
          11.0,
          20.5,
          20.0,
          35.5,
          139.0,
          92.0,
          330.0,
          10.2,
          70.0,
          94.6,
          10.5,
          41.0,
          9.0,
          39.5,
          58.0,
          33.0,
          17.3,
          50.0,
          160.0,
          28.8,
          46.0,
          9.0,
          29.0,
          90.0,
          9.4,
          14.5,
          39.0,
          7.0,
          10.9,
          40.0,
          40.0,
          5.0,
          42.4,
          1.7,
          16.0,
          24.5,
          2.5,
          8.4,
          17.0,
          13.5,
          81.5,
          0.1,
          0.9,
          10.0,
          31.0,
          91.0,
          8.0,
          136.0,
          28.0,
          3.5,
          8.5,
          8.5,
          2.0,
          4.5,
          53.0,
          53.0,
          0.5,
          15.5,
          3.5,
          5.0,
          3.5,
          47.0,
          31.0,
          96.0,
          7.3,
          81.5,
          8.3,
          35.3,
          6.0,
          21.0,
          26.0,
          270.0,
          25.2,
          225.0,
          23.5,
          21.5,
          2.2,
          5.7,
          2.8,
          17.5,
          150.5,
          3.0,
          7.0,
          71.0,
          5.0,
          3.5,
          7.5,
          15.0,
          12.5,
          9.5,
          14.0,
          39.0,
          99.5,
          505.0,
          8.0,
          85.0,
          1.5,
          16.0,
          36.6,
          4.3,
          25.0,
          83.0,
          7.5,
          17.5,
          44.0,
          1.2,
          14.8,
          26.0,
          6.0,
          14.2,
          4.4,
          10.5,
          45.0,
          7.0,
          180.0,
          3.4,
          3.4,
          3.4,
          3.4,
          0.2,
          0.5,
          9.2,
          9.2,
          25.0,
          25.0,
          25.0,
          0.3,
          78.6,
          8.0,
          14.5,
          110.0,
          920.0,
          4.0,
          82.0,
          1.5,
          18.5,
          1.5,
          11.5,
          4.8,
          22.2,
          6.8,
          135.0,
          3.2,
          8.2,
          21.4,
          0.3,
          76.0,
          82.8,
          12.0,
          108.0,
          70.0,
          250.0,
          1.2,
          40.0,
          0.3,
          19.9,
          212.0,
          3.3,
          0.7,
          19.0,
          185.0,
          210.0,
          29.7,
          47.0,
          78.2,
          5.0,
          14.0,
          90.0,
          4.5,
          9.0,
          33.0,
          4.0,
          11.5,
          45.2,
          2.5,
          6.0,
          1.8,
          16.0,
          75.0,
          8.0,
          19.5,
          40.8,
          8.9,
          19.9,
          2.2,
          2.5,
          6.0,
          43.0,
          8.5,
          115.5,
          13.5,
          34.0,
          12.0,
          78.0,
          310.5,
          0.5,
          1.0,
          13.0,
          7.6,
          65.5,
          18.0,
          1.0,
          30.0,
          11.0,
          40.0,
          40.0,
          1.0,
          120.0,
          4.0,
          39.0,
          0.2,
          0.4,
          3.4,
          4.8,
          5.0,
          5.5,
          12.5,
          61.0,
          46.0,
          28.0,
          0.4,
          117.0,
          58.2,
          66.6,
          0.3,
          0.5,
          62.0,
          1.0,
          3.8,
          42.0,
          520.0,
          89.0,
          89.0,
          28.0,
          28.0,
          3.0,
          3.0,
          100.0,
          650.0,
          190.0,
          150.0,
          215.0,
          175.0,
          40.0,
          2.0,
          11.0,
          50.0
         ],
         "y0": " ",
         "yaxis": "y",
         "type": "box",
         "boxmean": true
        },
        {
         "alignmentgroup": "True",
         "boxpoints": "all",
         "hovertemplate": "Status=%{x}<br>weight_kg=%{y}<extra></extra>",
         "legendgroup": "Sub Legendary",
         "marker": {
          "color": "#ab63fa"
         },
         "name": "Sub Legendary",
         "notched": false,
         "offsetgroup": "Sub Legendary",
         "orientation": "v",
         "showlegend": true,
         "x": [
          "Sub Legendary",
          "Sub Legendary",
          "Sub Legendary",
          "Sub Legendary",
          "Sub Legendary",
          "Sub Legendary",
          "Sub Legendary",
          "Sub Legendary",
          "Sub Legendary",
          "Sub Legendary",
          "Sub Legendary",
          "Sub Legendary",
          "Sub Legendary",
          "Sub Legendary",
          "Sub Legendary",
          "Sub Legendary",
          "Sub Legendary",
          "Sub Legendary",
          "Sub Legendary",
          "Sub Legendary",
          "Sub Legendary",
          "Sub Legendary",
          "Sub Legendary",
          "Sub Legendary",
          "Sub Legendary",
          "Sub Legendary",
          "Sub Legendary",
          "Sub Legendary",
          "Sub Legendary",
          "Sub Legendary",
          "Sub Legendary",
          "Sub Legendary",
          "Sub Legendary",
          "Sub Legendary",
          "Sub Legendary",
          "Sub Legendary",
          "Sub Legendary",
          "Sub Legendary",
          "Sub Legendary",
          "Sub Legendary",
          "Sub Legendary",
          "Sub Legendary",
          "Sub Legendary",
          "Sub Legendary",
          "Sub Legendary",
          "Sub Legendary",
          "Sub Legendary",
          "Sub Legendary",
          "Sub Legendary",
          "Sub Legendary",
          "Sub Legendary",
          "Sub Legendary",
          "Sub Legendary",
          "Sub Legendary",
          "Sub Legendary"
         ],
         "x0": " ",
         "xaxis": "x",
         "y": [
          55.4,
          50.9,
          52.6,
          58.2,
          60.0,
          66.0,
          178.0,
          198.0,
          187.0,
          230.0,
          175.0,
          205.0,
          40.0,
          52.0,
          60.0,
          70.0,
          0.3,
          0.3,
          0.3,
          430.0,
          420.0,
          85.6,
          250.0,
          260.0,
          200.0,
          63.0,
          63.0,
          61.0,
          61.0,
          68.0,
          68.0,
          120.5,
          100.5,
          20.5,
          18.6,
          45.5,
          21.2,
          55.5,
          333.6,
          25.0,
          100.0,
          999.9,
          0.1,
          888.0,
          1.8,
          150.0,
          820.0,
          13.0,
          12.0,
          105.0,
          105.0,
          145.0,
          200.0,
          800.0,
          44.5
         ],
         "y0": " ",
         "yaxis": "y",
         "type": "box",
         "boxmean": true
        },
        {
         "alignmentgroup": "True",
         "boxpoints": "all",
         "hovertemplate": "Status=%{x}<br>weight_kg=%{y}<extra></extra>",
         "legendgroup": "Legendary",
         "marker": {
          "color": "orange"
         },
         "name": "Legendary",
         "notched": false,
         "offsetgroup": "Legendary",
         "orientation": "v",
         "showlegend": true,
         "x": [
          "Legendary",
          "Legendary",
          "Legendary",
          "Legendary",
          "Legendary",
          "Legendary",
          "Legendary",
          "Legendary",
          "Legendary",
          "Legendary",
          "Legendary",
          "Legendary",
          "Legendary",
          "Legendary",
          "Legendary",
          "Legendary",
          "Legendary",
          "Legendary",
          "Legendary",
          "Legendary",
          "Legendary",
          "Legendary",
          "Legendary",
          "Legendary",
          "Legendary",
          "Legendary",
          "Legendary",
          "Legendary",
          "Legendary",
          "Legendary",
          "Legendary",
          "Legendary",
          "Legendary",
          "Legendary",
          "Legendary",
          "Legendary",
          "Legendary",
          "Legendary",
          "Legendary",
          "Legendary",
          "Legendary",
          "Legendary"
         ],
         "x0": " ",
         "xaxis": "x",
         "y": [
          122.0,
          127.0,
          33.0,
          216.0,
          199.0,
          352.0,
          430.0,
          950.0,
          999.7,
          206.5,
          392.0,
          683.0,
          336.0,
          750.0,
          650.0,
          330.0,
          345.0,
          325.0,
          325.0,
          325.0,
          215.0,
          203.0,
          305.0,
          33.5,
          610.0,
          0.1,
          999.9,
          230.0,
          120.0,
          230.0,
          460.0,
          350.0,
          230.0,
          355.0,
          110.0,
          785.0,
          210.0,
          950.0,
          null,
          7.7,
          809.1,
          53.6
         ],
         "y0": " ",
         "yaxis": "y",
         "type": "box",
         "boxmean": true
        },
        {
         "alignmentgroup": "True",
         "boxpoints": "all",
         "hovertemplate": "Status=%{x}<br>weight_kg=%{y}<extra></extra>",
         "legendgroup": "Mythical",
         "marker": {
          "color": "green"
         },
         "name": "Mythical",
         "notched": false,
         "offsetgroup": "Mythical",
         "orientation": "v",
         "showlegend": true,
         "x": [
          "Mythical",
          "Mythical",
          "Mythical",
          "Mythical",
          "Mythical",
          "Mythical",
          "Mythical",
          "Mythical",
          "Mythical",
          "Mythical",
          "Mythical",
          "Mythical",
          "Mythical",
          "Mythical",
          "Mythical",
          "Mythical",
          "Mythical",
          "Mythical",
          "Mythical",
          "Mythical",
          "Mythical",
          "Mythical",
          "Mythical",
          "Mythical",
          "Mythical",
          "Mythical",
          "Mythical",
          "Mythical",
          "Mythical",
          "Mythical"
         ],
         "x0": " ",
         "xaxis": "x",
         "y": [
          4.0,
          5.0,
          1.1,
          60.8,
          60.8,
          60.8,
          60.8,
          3.1,
          1.4,
          50.5,
          2.1,
          5.2,
          320.0,
          4.0,
          48.5,
          48.5,
          6.5,
          6.5,
          82.5,
          8.8,
          27.8,
          9.0,
          490.0,
          195.0,
          80.5,
          22.2,
          44.5,
          8.0,
          800.0,
          70.0
         ],
         "y0": " ",
         "yaxis": "y",
         "type": "box",
         "boxmean": true
        }
       ],
       "layout": {
        "template": {
         "data": {
          "barpolar": [
           {
            "marker": {
             "line": {
              "color": "white",
              "width": 0.5
             },
             "pattern": {
              "fillmode": "overlay",
              "size": 10,
              "solidity": 0.2
             }
            },
            "type": "barpolar"
           }
          ],
          "bar": [
           {
            "error_x": {
             "color": "#2a3f5f"
            },
            "error_y": {
             "color": "#2a3f5f"
            },
            "marker": {
             "line": {
              "color": "white",
              "width": 0.5
             },
             "pattern": {
              "fillmode": "overlay",
              "size": 10,
              "solidity": 0.2
             }
            },
            "type": "bar"
           }
          ],
          "carpet": [
           {
            "aaxis": {
             "endlinecolor": "#2a3f5f",
             "gridcolor": "#C8D4E3",
             "linecolor": "#C8D4E3",
             "minorgridcolor": "#C8D4E3",
             "startlinecolor": "#2a3f5f"
            },
            "baxis": {
             "endlinecolor": "#2a3f5f",
             "gridcolor": "#C8D4E3",
             "linecolor": "#C8D4E3",
             "minorgridcolor": "#C8D4E3",
             "startlinecolor": "#2a3f5f"
            },
            "type": "carpet"
           }
          ],
          "choropleth": [
           {
            "colorbar": {
             "outlinewidth": 0,
             "ticks": ""
            },
            "type": "choropleth"
           }
          ],
          "contourcarpet": [
           {
            "colorbar": {
             "outlinewidth": 0,
             "ticks": ""
            },
            "type": "contourcarpet"
           }
          ],
          "contour": [
           {
            "colorbar": {
             "outlinewidth": 0,
             "ticks": ""
            },
            "colorscale": [
             [
              0.0,
              "#0d0887"
             ],
             [
              0.1111111111111111,
              "#46039f"
             ],
             [
              0.2222222222222222,
              "#7201a8"
             ],
             [
              0.3333333333333333,
              "#9c179e"
             ],
             [
              0.4444444444444444,
              "#bd3786"
             ],
             [
              0.5555555555555556,
              "#d8576b"
             ],
             [
              0.6666666666666666,
              "#ed7953"
             ],
             [
              0.7777777777777778,
              "#fb9f3a"
             ],
             [
              0.8888888888888888,
              "#fdca26"
             ],
             [
              1.0,
              "#f0f921"
             ]
            ],
            "type": "contour"
           }
          ],
          "heatmapgl": [
           {
            "colorbar": {
             "outlinewidth": 0,
             "ticks": ""
            },
            "colorscale": [
             [
              0.0,
              "#0d0887"
             ],
             [
              0.1111111111111111,
              "#46039f"
             ],
             [
              0.2222222222222222,
              "#7201a8"
             ],
             [
              0.3333333333333333,
              "#9c179e"
             ],
             [
              0.4444444444444444,
              "#bd3786"
             ],
             [
              0.5555555555555556,
              "#d8576b"
             ],
             [
              0.6666666666666666,
              "#ed7953"
             ],
             [
              0.7777777777777778,
              "#fb9f3a"
             ],
             [
              0.8888888888888888,
              "#fdca26"
             ],
             [
              1.0,
              "#f0f921"
             ]
            ],
            "type": "heatmapgl"
           }
          ],
          "heatmap": [
           {
            "colorbar": {
             "outlinewidth": 0,
             "ticks": ""
            },
            "colorscale": [
             [
              0.0,
              "#0d0887"
             ],
             [
              0.1111111111111111,
              "#46039f"
             ],
             [
              0.2222222222222222,
              "#7201a8"
             ],
             [
              0.3333333333333333,
              "#9c179e"
             ],
             [
              0.4444444444444444,
              "#bd3786"
             ],
             [
              0.5555555555555556,
              "#d8576b"
             ],
             [
              0.6666666666666666,
              "#ed7953"
             ],
             [
              0.7777777777777778,
              "#fb9f3a"
             ],
             [
              0.8888888888888888,
              "#fdca26"
             ],
             [
              1.0,
              "#f0f921"
             ]
            ],
            "type": "heatmap"
           }
          ],
          "histogram2dcontour": [
           {
            "colorbar": {
             "outlinewidth": 0,
             "ticks": ""
            },
            "colorscale": [
             [
              0.0,
              "#0d0887"
             ],
             [
              0.1111111111111111,
              "#46039f"
             ],
             [
              0.2222222222222222,
              "#7201a8"
             ],
             [
              0.3333333333333333,
              "#9c179e"
             ],
             [
              0.4444444444444444,
              "#bd3786"
             ],
             [
              0.5555555555555556,
              "#d8576b"
             ],
             [
              0.6666666666666666,
              "#ed7953"
             ],
             [
              0.7777777777777778,
              "#fb9f3a"
             ],
             [
              0.8888888888888888,
              "#fdca26"
             ],
             [
              1.0,
              "#f0f921"
             ]
            ],
            "type": "histogram2dcontour"
           }
          ],
          "histogram2d": [
           {
            "colorbar": {
             "outlinewidth": 0,
             "ticks": ""
            },
            "colorscale": [
             [
              0.0,
              "#0d0887"
             ],
             [
              0.1111111111111111,
              "#46039f"
             ],
             [
              0.2222222222222222,
              "#7201a8"
             ],
             [
              0.3333333333333333,
              "#9c179e"
             ],
             [
              0.4444444444444444,
              "#bd3786"
             ],
             [
              0.5555555555555556,
              "#d8576b"
             ],
             [
              0.6666666666666666,
              "#ed7953"
             ],
             [
              0.7777777777777778,
              "#fb9f3a"
             ],
             [
              0.8888888888888888,
              "#fdca26"
             ],
             [
              1.0,
              "#f0f921"
             ]
            ],
            "type": "histogram2d"
           }
          ],
          "histogram": [
           {
            "marker": {
             "pattern": {
              "fillmode": "overlay",
              "size": 10,
              "solidity": 0.2
             }
            },
            "type": "histogram"
           }
          ],
          "mesh3d": [
           {
            "colorbar": {
             "outlinewidth": 0,
             "ticks": ""
            },
            "type": "mesh3d"
           }
          ],
          "parcoords": [
           {
            "line": {
             "colorbar": {
              "outlinewidth": 0,
              "ticks": ""
             }
            },
            "type": "parcoords"
           }
          ],
          "pie": [
           {
            "automargin": true,
            "type": "pie"
           }
          ],
          "scatter3d": [
           {
            "line": {
             "colorbar": {
              "outlinewidth": 0,
              "ticks": ""
             }
            },
            "marker": {
             "colorbar": {
              "outlinewidth": 0,
              "ticks": ""
             }
            },
            "type": "scatter3d"
           }
          ],
          "scattercarpet": [
           {
            "marker": {
             "colorbar": {
              "outlinewidth": 0,
              "ticks": ""
             }
            },
            "type": "scattercarpet"
           }
          ],
          "scattergeo": [
           {
            "marker": {
             "colorbar": {
              "outlinewidth": 0,
              "ticks": ""
             }
            },
            "type": "scattergeo"
           }
          ],
          "scattergl": [
           {
            "marker": {
             "colorbar": {
              "outlinewidth": 0,
              "ticks": ""
             }
            },
            "type": "scattergl"
           }
          ],
          "scattermapbox": [
           {
            "marker": {
             "colorbar": {
              "outlinewidth": 0,
              "ticks": ""
             }
            },
            "type": "scattermapbox"
           }
          ],
          "scatterpolargl": [
           {
            "marker": {
             "colorbar": {
              "outlinewidth": 0,
              "ticks": ""
             }
            },
            "type": "scatterpolargl"
           }
          ],
          "scatterpolar": [
           {
            "marker": {
             "colorbar": {
              "outlinewidth": 0,
              "ticks": ""
             }
            },
            "type": "scatterpolar"
           }
          ],
          "scatter": [
           {
            "fillpattern": {
             "fillmode": "overlay",
             "size": 10,
             "solidity": 0.2
            },
            "type": "scatter"
           }
          ],
          "scatterternary": [
           {
            "marker": {
             "colorbar": {
              "outlinewidth": 0,
              "ticks": ""
             }
            },
            "type": "scatterternary"
           }
          ],
          "surface": [
           {
            "colorbar": {
             "outlinewidth": 0,
             "ticks": ""
            },
            "colorscale": [
             [
              0.0,
              "#0d0887"
             ],
             [
              0.1111111111111111,
              "#46039f"
             ],
             [
              0.2222222222222222,
              "#7201a8"
             ],
             [
              0.3333333333333333,
              "#9c179e"
             ],
             [
              0.4444444444444444,
              "#bd3786"
             ],
             [
              0.5555555555555556,
              "#d8576b"
             ],
             [
              0.6666666666666666,
              "#ed7953"
             ],
             [
              0.7777777777777778,
              "#fb9f3a"
             ],
             [
              0.8888888888888888,
              "#fdca26"
             ],
             [
              1.0,
              "#f0f921"
             ]
            ],
            "type": "surface"
           }
          ],
          "table": [
           {
            "cells": {
             "fill": {
              "color": "#EBF0F8"
             },
             "line": {
              "color": "white"
             }
            },
            "header": {
             "fill": {
              "color": "#C8D4E3"
             },
             "line": {
              "color": "white"
             }
            },
            "type": "table"
           }
          ]
         },
         "layout": {
          "annotationdefaults": {
           "arrowcolor": "#2a3f5f",
           "arrowhead": 0,
           "arrowwidth": 1
          },
          "autotypenumbers": "strict",
          "coloraxis": {
           "colorbar": {
            "outlinewidth": 0,
            "ticks": ""
           }
          },
          "colorscale": {
           "diverging": [
            [
             0,
             "#8e0152"
            ],
            [
             0.1,
             "#c51b7d"
            ],
            [
             0.2,
             "#de77ae"
            ],
            [
             0.3,
             "#f1b6da"
            ],
            [
             0.4,
             "#fde0ef"
            ],
            [
             0.5,
             "#f7f7f7"
            ],
            [
             0.6,
             "#e6f5d0"
            ],
            [
             0.7,
             "#b8e186"
            ],
            [
             0.8,
             "#7fbc41"
            ],
            [
             0.9,
             "#4d9221"
            ],
            [
             1,
             "#276419"
            ]
           ],
           "sequential": [
            [
             0.0,
             "#0d0887"
            ],
            [
             0.1111111111111111,
             "#46039f"
            ],
            [
             0.2222222222222222,
             "#7201a8"
            ],
            [
             0.3333333333333333,
             "#9c179e"
            ],
            [
             0.4444444444444444,
             "#bd3786"
            ],
            [
             0.5555555555555556,
             "#d8576b"
            ],
            [
             0.6666666666666666,
             "#ed7953"
            ],
            [
             0.7777777777777778,
             "#fb9f3a"
            ],
            [
             0.8888888888888888,
             "#fdca26"
            ],
            [
             1.0,
             "#f0f921"
            ]
           ],
           "sequentialminus": [
            [
             0.0,
             "#0d0887"
            ],
            [
             0.1111111111111111,
             "#46039f"
            ],
            [
             0.2222222222222222,
             "#7201a8"
            ],
            [
             0.3333333333333333,
             "#9c179e"
            ],
            [
             0.4444444444444444,
             "#bd3786"
            ],
            [
             0.5555555555555556,
             "#d8576b"
            ],
            [
             0.6666666666666666,
             "#ed7953"
            ],
            [
             0.7777777777777778,
             "#fb9f3a"
            ],
            [
             0.8888888888888888,
             "#fdca26"
            ],
            [
             1.0,
             "#f0f921"
            ]
           ]
          },
          "colorway": [
           "#636efa",
           "#EF553B",
           "#00cc96",
           "#ab63fa",
           "#FFA15A",
           "#19d3f3",
           "#FF6692",
           "#B6E880",
           "#FF97FF",
           "#FECB52"
          ],
          "font": {
           "color": "#2a3f5f"
          },
          "geo": {
           "bgcolor": "white",
           "lakecolor": "white",
           "landcolor": "white",
           "showlakes": true,
           "showland": true,
           "subunitcolor": "#C8D4E3"
          },
          "hoverlabel": {
           "align": "left"
          },
          "hovermode": "closest",
          "mapbox": {
           "style": "light"
          },
          "paper_bgcolor": "white",
          "plot_bgcolor": "white",
          "polar": {
           "angularaxis": {
            "gridcolor": "#EBF0F8",
            "linecolor": "#EBF0F8",
            "ticks": ""
           },
           "bgcolor": "white",
           "radialaxis": {
            "gridcolor": "#EBF0F8",
            "linecolor": "#EBF0F8",
            "ticks": ""
           }
          },
          "scene": {
           "xaxis": {
            "backgroundcolor": "white",
            "gridcolor": "#DFE8F3",
            "gridwidth": 2,
            "linecolor": "#EBF0F8",
            "showbackground": true,
            "ticks": "",
            "zerolinecolor": "#EBF0F8"
           },
           "yaxis": {
            "backgroundcolor": "white",
            "gridcolor": "#DFE8F3",
            "gridwidth": 2,
            "linecolor": "#EBF0F8",
            "showbackground": true,
            "ticks": "",
            "zerolinecolor": "#EBF0F8"
           },
           "zaxis": {
            "backgroundcolor": "white",
            "gridcolor": "#DFE8F3",
            "gridwidth": 2,
            "linecolor": "#EBF0F8",
            "showbackground": true,
            "ticks": "",
            "zerolinecolor": "#EBF0F8"
           }
          },
          "shapedefaults": {
           "line": {
            "color": "#2a3f5f"
           }
          },
          "ternary": {
           "aaxis": {
            "gridcolor": "#DFE8F3",
            "linecolor": "#A2B1C6",
            "ticks": ""
           },
           "baxis": {
            "gridcolor": "#DFE8F3",
            "linecolor": "#A2B1C6",
            "ticks": ""
           },
           "bgcolor": "white",
           "caxis": {
            "gridcolor": "#DFE8F3",
            "linecolor": "#A2B1C6",
            "ticks": ""
           }
          },
          "title": {
           "x": 0.05
          },
          "xaxis": {
           "automargin": true,
           "gridcolor": "#EBF0F8",
           "linecolor": "#EBF0F8",
           "ticks": "",
           "title": {
            "standoff": 15
           },
           "zerolinecolor": "#EBF0F8",
           "zerolinewidth": 2
          },
          "yaxis": {
           "automargin": true,
           "gridcolor": "#EBF0F8",
           "linecolor": "#EBF0F8",
           "ticks": "",
           "title": {
            "standoff": 15
           },
           "zerolinecolor": "#EBF0F8",
           "zerolinewidth": 2
          }
         }
        },
        "xaxis": {
         "anchor": "y",
         "domain": [
          0.0,
          1.0
         ],
         "title": {
          "text": "Status"
         },
         "categoryorder": "array",
         "categoryarray": [
          "Normal",
          "Sub Legendary",
          "Legendary",
          "Mythical"
         ]
        },
        "yaxis": {
         "anchor": "x",
         "domain": [
          0.0,
          1.0
         ],
         "title": {
          "text": "Total Points"
         }
        },
        "legend": {
         "title": {
          "text": "Status"
         },
         "tracegroupgap": 0
        },
        "title": {
         "text": "AVG Weight Distribution by Pokémon Status"
        },
        "boxmode": "overlay",
        "showlegend": false
       },
       "config": {
        "plotlyServerURL": "https://plot.ly"
       }
      },
      "text/html": "<div>                            <div id=\"721c62d3-a004-4c8b-9604-1a294185c289\" class=\"plotly-graph-div\" style=\"height:525px; width:100%;\"></div>            <script type=\"text/javascript\">                require([\"plotly\"], function(Plotly) {                    window.PLOTLYENV=window.PLOTLYENV || {};                                    if (document.getElementById(\"721c62d3-a004-4c8b-9604-1a294185c289\")) {                    Plotly.newPlot(                        \"721c62d3-a004-4c8b-9604-1a294185c289\",                        [{\"alignmentgroup\":\"True\",\"boxpoints\":\"all\",\"hovertemplate\":\"Status=%{x}<br>weight_kg=%{y}<extra></extra>\",\"legendgroup\":\"Normal\",\"marker\":{\"color\":\"blue\"},\"name\":\"Normal\",\"notched\":false,\"offsetgroup\":\"Normal\",\"orientation\":\"v\",\"showlegend\":true,\"x\":[\"Normal\",\"Normal\",\"Normal\",\"Normal\",\"Normal\",\"Normal\",\"Normal\",\"Normal\",\"Normal\",\"Normal\",\"Normal\",\"Normal\",\"Normal\",\"Normal\",\"Normal\",\"Normal\",\"Normal\",\"Normal\",\"Normal\",\"Normal\",\"Normal\",\"Normal\",\"Normal\",\"Normal\",\"Normal\",\"Normal\",\"Normal\",\"Normal\",\"Normal\",\"Normal\",\"Normal\",\"Normal\",\"Normal\",\"Normal\",\"Normal\",\"Normal\",\"Normal\",\"Normal\",\"Normal\",\"Normal\",\"Normal\",\"Normal\",\"Normal\",\"Normal\",\"Normal\",\"Normal\",\"Normal\",\"Normal\",\"Normal\",\"Normal\",\"Normal\",\"Normal\",\"Normal\",\"Normal\",\"Normal\",\"Normal\",\"Normal\",\"Normal\",\"Normal\",\"Normal\",\"Normal\",\"Normal\",\"Normal\",\"Normal\",\"Normal\",\"Normal\",\"Normal\",\"Normal\",\"Normal\",\"Normal\",\"Normal\",\"Normal\",\"Normal\",\"Normal\",\"Normal\",\"Normal\",\"Normal\",\"Normal\",\"Normal\",\"Normal\",\"Normal\",\"Normal\",\"Normal\",\"Normal\",\"Normal\",\"Normal\",\"Normal\",\"Normal\",\"Normal\",\"Normal\",\"Normal\",\"Normal\",\"Normal\",\"Normal\",\"Normal\",\"Normal\",\"Normal\",\"Normal\",\"Normal\",\"Normal\",\"Normal\",\"Normal\",\"Normal\",\"Normal\",\"Normal\",\"Normal\",\"Normal\",\"Normal\",\"Normal\",\"Normal\",\"Normal\",\"Normal\",\"Normal\",\"Normal\",\"Normal\",\"Normal\",\"Normal\",\"Normal\",\"Normal\",\"Normal\",\"Normal\",\"Normal\",\"Normal\",\"Normal\",\"Normal\",\"Normal\",\"Normal\",\"Normal\",\"Normal\",\"Normal\",\"Normal\",\"Normal\",\"Normal\",\"Normal\",\"Normal\",\"Normal\",\"Normal\",\"Normal\",\"Normal\",\"Normal\",\"Normal\",\"Normal\",\"Normal\",\"Normal\",\"Normal\",\"Normal\",\"Normal\",\"Normal\",\"Normal\",\"Normal\",\"Normal\",\"Normal\",\"Normal\",\"Normal\",\"Normal\",\"Normal\",\"Normal\",\"Normal\",\"Normal\",\"Normal\",\"Normal\",\"Normal\",\"Normal\",\"Normal\",\"Normal\",\"Normal\",\"Normal\",\"Normal\",\"Normal\",\"Normal\",\"Normal\",\"Normal\",\"Normal\",\"Normal\",\"Normal\",\"Normal\",\"Normal\",\"Normal\",\"Normal\",\"Normal\",\"Normal\",\"Normal\",\"Normal\",\"Normal\",\"Normal\",\"Normal\",\"Normal\",\"Normal\",\"Normal\",\"Normal\",\"Normal\",\"Normal\",\"Normal\",\"Normal\",\"Normal\",\"Normal\",\"Normal\",\"Normal\",\"Normal\",\"Normal\",\"Normal\",\"Normal\",\"Normal\",\"Normal\",\"Normal\",\"Normal\",\"Normal\",\"Normal\",\"Normal\",\"Normal\",\"Normal\",\"Normal\",\"Normal\",\"Normal\",\"Normal\",\"Normal\",\"Normal\",\"Normal\",\"Normal\",\"Normal\",\"Normal\",\"Normal\",\"Normal\",\"Normal\",\"Normal\",\"Normal\",\"Normal\",\"Normal\",\"Normal\",\"Normal\",\"Normal\",\"Normal\",\"Normal\",\"Normal\",\"Normal\",\"Normal\",\"Normal\",\"Normal\",\"Normal\",\"Normal\",\"Normal\",\"Normal\",\"Normal\",\"Normal\",\"Normal\",\"Normal\",\"Normal\",\"Normal\",\"Normal\",\"Normal\",\"Normal\",\"Normal\",\"Normal\",\"Normal\",\"Normal\",\"Normal\",\"Normal\",\"Normal\",\"Normal\",\"Normal\",\"Normal\",\"Normal\",\"Normal\",\"Normal\",\"Normal\",\"Normal\",\"Normal\",\"Normal\",\"Normal\",\"Normal\",\"Normal\",\"Normal\",\"Normal\",\"Normal\",\"Normal\",\"Normal\",\"Normal\",\"Normal\",\"Normal\",\"Normal\",\"Normal\",\"Normal\",\"Normal\",\"Normal\",\"Normal\",\"Normal\",\"Normal\",\"Normal\",\"Normal\",\"Normal\",\"Normal\",\"Normal\",\"Normal\",\"Normal\",\"Normal\",\"Normal\",\"Normal\",\"Normal\",\"Normal\",\"Normal\",\"Normal\",\"Normal\",\"Normal\",\"Normal\",\"Normal\",\"Normal\",\"Normal\",\"Normal\",\"Normal\",\"Normal\",\"Normal\",\"Normal\",\"Normal\",\"Normal\",\"Normal\",\"Normal\",\"Normal\",\"Normal\",\"Normal\",\"Normal\",\"Normal\",\"Normal\",\"Normal\",\"Normal\",\"Normal\",\"Normal\",\"Normal\",\"Normal\",\"Normal\",\"Normal\",\"Normal\",\"Normal\",\"Normal\",\"Normal\",\"Normal\",\"Normal\",\"Normal\",\"Normal\",\"Normal\",\"Normal\",\"Normal\",\"Normal\",\"Normal\",\"Normal\",\"Normal\",\"Normal\",\"Normal\",\"Normal\",\"Normal\",\"Normal\",\"Normal\",\"Normal\",\"Normal\",\"Normal\",\"Normal\",\"Normal\",\"Normal\",\"Normal\",\"Normal\",\"Normal\",\"Normal\",\"Normal\",\"Normal\",\"Normal\",\"Normal\",\"Normal\",\"Normal\",\"Normal\",\"Normal\",\"Normal\",\"Normal\",\"Normal\",\"Normal\",\"Normal\",\"Normal\",\"Normal\",\"Normal\",\"Normal\",\"Normal\",\"Normal\",\"Normal\",\"Normal\",\"Normal\",\"Normal\",\"Normal\",\"Normal\",\"Normal\",\"Normal\",\"Normal\",\"Normal\",\"Normal\",\"Normal\",\"Normal\",\"Normal\",\"Normal\",\"Normal\",\"Normal\",\"Normal\",\"Normal\",\"Normal\",\"Normal\",\"Normal\",\"Normal\",\"Normal\",\"Normal\",\"Normal\",\"Normal\",\"Normal\",\"Normal\",\"Normal\",\"Normal\",\"Normal\",\"Normal\",\"Normal\",\"Normal\",\"Normal\",\"Normal\",\"Normal\",\"Normal\",\"Normal\",\"Normal\",\"Normal\",\"Normal\",\"Normal\",\"Normal\",\"Normal\",\"Normal\",\"Normal\",\"Normal\",\"Normal\",\"Normal\",\"Normal\",\"Normal\",\"Normal\",\"Normal\",\"Normal\",\"Normal\",\"Normal\",\"Normal\",\"Normal\",\"Normal\",\"Normal\",\"Normal\",\"Normal\",\"Normal\",\"Normal\",\"Normal\",\"Normal\",\"Normal\",\"Normal\",\"Normal\",\"Normal\",\"Normal\",\"Normal\",\"Normal\",\"Normal\",\"Normal\",\"Normal\",\"Normal\",\"Normal\",\"Normal\",\"Normal\",\"Normal\",\"Normal\",\"Normal\",\"Normal\",\"Normal\",\"Normal\",\"Normal\",\"Normal\",\"Normal\",\"Normal\",\"Normal\",\"Normal\",\"Normal\",\"Normal\",\"Normal\",\"Normal\",\"Normal\",\"Normal\",\"Normal\",\"Normal\",\"Normal\",\"Normal\",\"Normal\",\"Normal\",\"Normal\",\"Normal\",\"Normal\",\"Normal\",\"Normal\",\"Normal\",\"Normal\",\"Normal\",\"Normal\",\"Normal\",\"Normal\",\"Normal\",\"Normal\",\"Normal\",\"Normal\",\"Normal\",\"Normal\",\"Normal\",\"Normal\",\"Normal\",\"Normal\",\"Normal\",\"Normal\",\"Normal\",\"Normal\",\"Normal\",\"Normal\",\"Normal\",\"Normal\",\"Normal\",\"Normal\",\"Normal\",\"Normal\",\"Normal\",\"Normal\",\"Normal\",\"Normal\",\"Normal\",\"Normal\",\"Normal\",\"Normal\",\"Normal\",\"Normal\",\"Normal\",\"Normal\",\"Normal\",\"Normal\",\"Normal\",\"Normal\",\"Normal\",\"Normal\",\"Normal\",\"Normal\",\"Normal\",\"Normal\",\"Normal\",\"Normal\",\"Normal\",\"Normal\",\"Normal\",\"Normal\",\"Normal\",\"Normal\",\"Normal\",\"Normal\",\"Normal\",\"Normal\",\"Normal\",\"Normal\",\"Normal\",\"Normal\",\"Normal\",\"Normal\",\"Normal\",\"Normal\",\"Normal\",\"Normal\",\"Normal\",\"Normal\",\"Normal\",\"Normal\",\"Normal\",\"Normal\",\"Normal\",\"Normal\",\"Normal\",\"Normal\",\"Normal\",\"Normal\",\"Normal\",\"Normal\",\"Normal\",\"Normal\",\"Normal\",\"Normal\",\"Normal\",\"Normal\",\"Normal\",\"Normal\",\"Normal\",\"Normal\",\"Normal\",\"Normal\",\"Normal\",\"Normal\",\"Normal\",\"Normal\",\"Normal\",\"Normal\",\"Normal\",\"Normal\",\"Normal\",\"Normal\",\"Normal\",\"Normal\",\"Normal\",\"Normal\",\"Normal\",\"Normal\",\"Normal\",\"Normal\",\"Normal\",\"Normal\",\"Normal\",\"Normal\",\"Normal\",\"Normal\",\"Normal\",\"Normal\",\"Normal\",\"Normal\",\"Normal\",\"Normal\",\"Normal\",\"Normal\",\"Normal\",\"Normal\",\"Normal\",\"Normal\",\"Normal\",\"Normal\",\"Normal\",\"Normal\",\"Normal\",\"Normal\",\"Normal\",\"Normal\",\"Normal\",\"Normal\",\"Normal\",\"Normal\",\"Normal\",\"Normal\",\"Normal\",\"Normal\",\"Normal\",\"Normal\",\"Normal\",\"Normal\",\"Normal\",\"Normal\",\"Normal\",\"Normal\",\"Normal\",\"Normal\",\"Normal\",\"Normal\",\"Normal\",\"Normal\",\"Normal\",\"Normal\",\"Normal\",\"Normal\",\"Normal\",\"Normal\",\"Normal\",\"Normal\",\"Normal\",\"Normal\",\"Normal\",\"Normal\",\"Normal\",\"Normal\",\"Normal\",\"Normal\",\"Normal\",\"Normal\",\"Normal\",\"Normal\",\"Normal\",\"Normal\",\"Normal\",\"Normal\",\"Normal\",\"Normal\",\"Normal\",\"Normal\",\"Normal\",\"Normal\",\"Normal\",\"Normal\",\"Normal\",\"Normal\",\"Normal\",\"Normal\",\"Normal\",\"Normal\",\"Normal\",\"Normal\",\"Normal\",\"Normal\",\"Normal\",\"Normal\",\"Normal\",\"Normal\",\"Normal\",\"Normal\",\"Normal\",\"Normal\",\"Normal\",\"Normal\",\"Normal\",\"Normal\",\"Normal\",\"Normal\",\"Normal\",\"Normal\",\"Normal\",\"Normal\",\"Normal\",\"Normal\",\"Normal\",\"Normal\",\"Normal\",\"Normal\",\"Normal\",\"Normal\",\"Normal\",\"Normal\",\"Normal\",\"Normal\",\"Normal\",\"Normal\",\"Normal\",\"Normal\",\"Normal\",\"Normal\",\"Normal\",\"Normal\",\"Normal\",\"Normal\",\"Normal\",\"Normal\",\"Normal\",\"Normal\",\"Normal\",\"Normal\",\"Normal\",\"Normal\",\"Normal\",\"Normal\",\"Normal\",\"Normal\",\"Normal\",\"Normal\",\"Normal\",\"Normal\",\"Normal\",\"Normal\",\"Normal\",\"Normal\",\"Normal\",\"Normal\",\"Normal\",\"Normal\",\"Normal\",\"Normal\",\"Normal\",\"Normal\",\"Normal\",\"Normal\",\"Normal\",\"Normal\",\"Normal\",\"Normal\",\"Normal\",\"Normal\",\"Normal\",\"Normal\",\"Normal\",\"Normal\",\"Normal\",\"Normal\",\"Normal\",\"Normal\",\"Normal\",\"Normal\",\"Normal\",\"Normal\",\"Normal\",\"Normal\",\"Normal\",\"Normal\",\"Normal\",\"Normal\",\"Normal\",\"Normal\",\"Normal\",\"Normal\",\"Normal\",\"Normal\",\"Normal\",\"Normal\",\"Normal\",\"Normal\",\"Normal\",\"Normal\",\"Normal\",\"Normal\",\"Normal\",\"Normal\",\"Normal\",\"Normal\",\"Normal\",\"Normal\",\"Normal\",\"Normal\",\"Normal\",\"Normal\",\"Normal\",\"Normal\",\"Normal\",\"Normal\",\"Normal\",\"Normal\",\"Normal\",\"Normal\",\"Normal\",\"Normal\",\"Normal\",\"Normal\",\"Normal\",\"Normal\",\"Normal\",\"Normal\",\"Normal\",\"Normal\",\"Normal\",\"Normal\",\"Normal\",\"Normal\",\"Normal\",\"Normal\",\"Normal\",\"Normal\",\"Normal\",\"Normal\",\"Normal\",\"Normal\",\"Normal\",\"Normal\",\"Normal\",\"Normal\",\"Normal\",\"Normal\",\"Normal\",\"Normal\",\"Normal\",\"Normal\",\"Normal\",\"Normal\",\"Normal\",\"Normal\",\"Normal\",\"Normal\",\"Normal\",\"Normal\",\"Normal\",\"Normal\",\"Normal\",\"Normal\",\"Normal\",\"Normal\",\"Normal\",\"Normal\",\"Normal\",\"Normal\",\"Normal\",\"Normal\",\"Normal\",\"Normal\",\"Normal\",\"Normal\",\"Normal\",\"Normal\",\"Normal\",\"Normal\",\"Normal\",\"Normal\",\"Normal\",\"Normal\",\"Normal\",\"Normal\",\"Normal\",\"Normal\",\"Normal\",\"Normal\",\"Normal\",\"Normal\",\"Normal\",\"Normal\",\"Normal\",\"Normal\",\"Normal\",\"Normal\",\"Normal\",\"Normal\",\"Normal\",\"Normal\",\"Normal\",\"Normal\",\"Normal\",\"Normal\",\"Normal\",\"Normal\",\"Normal\",\"Normal\",\"Normal\",\"Normal\",\"Normal\",\"Normal\",\"Normal\"],\"x0\":\" \",\"xaxis\":\"x\",\"y\":[6.9,13.0,100.0,155.5,8.5,19.0,90.5,110.5,100.5,9.0,22.5,85.5,101.1,2.9,9.9,32.0,3.2,10.0,29.5,40.5,1.8,30.0,39.5,50.5,3.5,3.8,18.5,25.5,2.0,38.0,6.9,65.0,6.0,6.0,30.0,21.0,12.0,40.0,29.5,55.0,7.0,20.0,60.0,9.0,19.5,62.0,7.5,40.0,9.9,9.9,19.9,19.9,5.5,12.0,7.5,55.0,5.4,8.6,18.6,5.4,29.5,30.0,12.5,0.8,1.0,33.3,66.6,4.2,4.2,7.5,32.0,33.0,19.6,76.6,28.0,32.0,19.0,155.0,12.4,20.0,54.0,19.5,56.5,48.0,48.0,19.5,70.5,130.0,4.0,6.4,15.5,45.5,55.0,20.0,20.3,105.0,110.0,300.0,316.0,30.0,24.0,95.0,80.0,36.0,36.0,78.5,120.0,70.5,6.0,60.0,15.0,42.0,39.2,85.2,90.0,120.0,30.0,42.0,30.0,52.0,4.0,132.5,0.1,0.1,40.5,40.5,210.0,32.4,75.6,6.5,60.0,10.4,66.6,2.5,120.0,415.6,6.5,45.0,34.0,49.8,50.2,65.5,1.0,9.5,16.0,115.0,120.0,34.6,35.0,80.0,100.0,8.0,25.0,15.0,39.0,34.5,80.0,54.5,56.8,56.0,40.6,30.0,44.5,55.0,59.0,88.4,10.0,235.0,305.0,220.0,4.0,6.5,6.5,29.0,24.5,25.0,36.5,7.5,35.0,11.5,40.5,59.0,79.0,460.0,3.3,16.5,210.0,6.4,15.8,100.5,7.9,19.0,79.5,9.5,25.0,88.8,6.0,32.5,21.2,40.8,10.8,35.6,8.5,33.5,75.0,12.0,22.5,2.0,3.0,1.0,1.5,3.2,2.0,15.0,7.8,13.3,61.5,61.5,5.8,8.5,28.5,38.0,33.9,0.5,1.0,3.0,11.5,1.8,8.5,38.0,8.5,75.0,26.5,27.0,2.1,79.5,79.5,1.0,5.0,28.5,41.5,7.2,125.8,14.0,64.8,400.0,740.0,7.8,48.7,3.9,118.0,125.0,20.5,54.0,62.5,28.0,8.8,125.8,35.0,55.0,6.5,55.8,5.0,0.5,12.0,28.5,16.0,220.0,50.5,10.8,35.0,49.5,152.0,33.5,120.0,32.5,71.2,58.0,21.0,48.0,6.0,23.5,21.4,75.5,46.8,72.0,152.0,202.0,255.0,5.0,21.6,52.2,55.2,2.5,19.5,52.0,52.0,7.6,28.0,81.9,102.0,13.6,37.0,17.5,17.5,32.5,32.5,3.6,10.0,28.4,11.5,31.6,2.6,32.5,55.0,4.0,28.0,59.6,2.3,19.8,9.5,28.0,6.6,20.2,48.4,48.4,1.7,3.6,4.5,39.2,24.0,46.5,130.5,5.5,12.0,1.2,16.3,40.5,84.0,86.4,253.8,2.0,97.0,11.0,32.6,11.0,161.0,11.5,23.5,60.0,120.0,360.0,395.0,11.2,31.5,31.5,15.2,40.2,44.0,4.2,4.2,17.7,17.7,2.0,10.3,80.0,20.8,88.8,130.3,130.0,398.0,24.0,220.0,320.5,80.4,30.6,71.5,5.0,15.0,15.3,82.0,51.3,77.4,1.2,20.6,20.6,40.3,52.5,168.0,154.0,1.9,23.6,11.5,32.8,21.5,108.0,23.8,60.4,12.5,68.2,7.4,162.0,0.8,0.8,0.8,0.8,22.0,2.3,12.5,13.0,15.0,30.6,100.0,1.0,47.0,49.0,14.0,16.8,256.5,350.2,39.5,87.6,150.6,52.5,27.0,22.6,23.4,8.7,42.1,110.5,102.6,112.6,95.2,202.5,550.0,942.9,10.2,97.0,310.0,6.2,22.0,55.0,5.2,23.0,84.5,2.0,15.5,24.9,20.0,31.5,2.2,25.5,9.5,30.5,42.0,1.2,14.5,31.5,102.5,57.0,149.5,3.4,6.5,6.5,6.5,23.3,5.5,38.5,3.9,29.5,33.5,3.3,9.3,6.3,29.9,20.3,1.2,15.0,5.5,33.3,28.3,4.4,27.3,3.9,43.8,0.6,19.2,38.0,60.5,187.0,15.0,13.0,24.4,1.9,108.0,20.5,56.0,95.0,95.0,105.0,20.2,54.0,57.5,49.5,300.0,12.0,61.5,23.0,44.4,27.0,7.0,24.0,65.0,50.5,135.5,185.0,34.0,180.0,140.0,282.8,128.6,138.6,68.0,38.0,51.5,25.5,25.9,42.5,291.0,34.0,52.0,56.4,340.0,106.6,26.6,0.3,0.3,0.3,0.3,0.3,0.3,8.1,16.0,63.0,9.9,55.5,150.0,5.9,24.5,94.6,11.6,27.0,4.1,14.7,61.0,10.1,37.5,10.5,30.5,11.0,28.0,13.5,29.0,23.3,60.5,2.1,15.0,29.0,29.8,79.5,18.0,102.0,260.0,2.1,10.5,8.5,40.4,31.0,32.0,12.5,40.0,87.0,4.5,17.0,62.0,55.5,51.0,2.5,7.3,20.5,5.3,58.5,200.5,0.6,6.6,6.6,16.3,18.0,18.0,15.2,33.4,96.3,37.5,40.0,92.9,92.9,120.0,120.0,28.0,14.5,200.0,11.8,30.0,14.0,1.5,1.5,76.5,16.5,81.0,9.5,32.0,31.0,107.3,12.5,81.1,5.8,7.5,5.8,18.0,44.0,1.0,8.0,20.1,5.5,24.2,5.7,41.0,57.5,19.5,92.5,5.0,5.9,33.0,1.0,10.5,33.0,135.0,31.6,0.6,14.3,18.8,110.0,21.0,51.0,81.0,0.3,22.0,80.5,9.0,34.5,3.1,13.0,34.3,18.0,36.0,105.5,8.5,260.0,148.0,7.7,25.3,11.0,20.5,20.0,35.5,139.0,92.0,330.0,10.2,70.0,94.6,10.5,41.0,9.0,39.5,58.0,33.0,17.3,50.0,160.0,28.8,46.0,9.0,29.0,90.0,9.4,14.5,39.0,7.0,10.9,40.0,40.0,5.0,42.4,1.7,16.0,24.5,2.5,8.4,17.0,13.5,81.5,0.1,0.9,10.0,31.0,91.0,8.0,136.0,28.0,3.5,8.5,8.5,2.0,4.5,53.0,53.0,0.5,15.5,3.5,5.0,3.5,47.0,31.0,96.0,7.3,81.5,8.3,35.3,6.0,21.0,26.0,270.0,25.2,225.0,23.5,21.5,2.2,5.7,2.8,17.5,150.5,3.0,7.0,71.0,5.0,3.5,7.5,15.0,12.5,9.5,14.0,39.0,99.5,505.0,8.0,85.0,1.5,16.0,36.6,4.3,25.0,83.0,7.5,17.5,44.0,1.2,14.8,26.0,6.0,14.2,4.4,10.5,45.0,7.0,180.0,3.4,3.4,3.4,3.4,0.2,0.5,9.2,9.2,25.0,25.0,25.0,0.3,78.6,8.0,14.5,110.0,920.0,4.0,82.0,1.5,18.5,1.5,11.5,4.8,22.2,6.8,135.0,3.2,8.2,21.4,0.3,76.0,82.8,12.0,108.0,70.0,250.0,1.2,40.0,0.3,19.9,212.0,3.3,0.7,19.0,185.0,210.0,29.7,47.0,78.2,5.0,14.0,90.0,4.5,9.0,33.0,4.0,11.5,45.2,2.5,6.0,1.8,16.0,75.0,8.0,19.5,40.8,8.9,19.9,2.2,2.5,6.0,43.0,8.5,115.5,13.5,34.0,12.0,78.0,310.5,0.5,1.0,13.0,7.6,65.5,18.0,1.0,30.0,11.0,40.0,40.0,1.0,120.0,4.0,39.0,0.2,0.4,3.4,4.8,5.0,5.5,12.5,61.0,46.0,28.0,0.4,117.0,58.2,66.6,0.3,0.5,62.0,1.0,3.8,42.0,520.0,89.0,89.0,28.0,28.0,3.0,3.0,100.0,650.0,190.0,150.0,215.0,175.0,40.0,2.0,11.0,50.0],\"y0\":\" \",\"yaxis\":\"y\",\"type\":\"box\",\"boxmean\":true},{\"alignmentgroup\":\"True\",\"boxpoints\":\"all\",\"hovertemplate\":\"Status=%{x}<br>weight_kg=%{y}<extra></extra>\",\"legendgroup\":\"Sub Legendary\",\"marker\":{\"color\":\"#ab63fa\"},\"name\":\"Sub Legendary\",\"notched\":false,\"offsetgroup\":\"Sub Legendary\",\"orientation\":\"v\",\"showlegend\":true,\"x\":[\"Sub Legendary\",\"Sub Legendary\",\"Sub Legendary\",\"Sub Legendary\",\"Sub Legendary\",\"Sub Legendary\",\"Sub Legendary\",\"Sub Legendary\",\"Sub Legendary\",\"Sub Legendary\",\"Sub Legendary\",\"Sub Legendary\",\"Sub Legendary\",\"Sub Legendary\",\"Sub Legendary\",\"Sub Legendary\",\"Sub Legendary\",\"Sub Legendary\",\"Sub Legendary\",\"Sub Legendary\",\"Sub Legendary\",\"Sub Legendary\",\"Sub Legendary\",\"Sub Legendary\",\"Sub Legendary\",\"Sub Legendary\",\"Sub Legendary\",\"Sub Legendary\",\"Sub Legendary\",\"Sub Legendary\",\"Sub Legendary\",\"Sub Legendary\",\"Sub Legendary\",\"Sub Legendary\",\"Sub Legendary\",\"Sub Legendary\",\"Sub Legendary\",\"Sub Legendary\",\"Sub Legendary\",\"Sub Legendary\",\"Sub Legendary\",\"Sub Legendary\",\"Sub Legendary\",\"Sub Legendary\",\"Sub Legendary\",\"Sub Legendary\",\"Sub Legendary\",\"Sub Legendary\",\"Sub Legendary\",\"Sub Legendary\",\"Sub Legendary\",\"Sub Legendary\",\"Sub Legendary\",\"Sub Legendary\",\"Sub Legendary\"],\"x0\":\" \",\"xaxis\":\"x\",\"y\":[55.4,50.9,52.6,58.2,60.0,66.0,178.0,198.0,187.0,230.0,175.0,205.0,40.0,52.0,60.0,70.0,0.3,0.3,0.3,430.0,420.0,85.6,250.0,260.0,200.0,63.0,63.0,61.0,61.0,68.0,68.0,120.5,100.5,20.5,18.6,45.5,21.2,55.5,333.6,25.0,100.0,999.9,0.1,888.0,1.8,150.0,820.0,13.0,12.0,105.0,105.0,145.0,200.0,800.0,44.5],\"y0\":\" \",\"yaxis\":\"y\",\"type\":\"box\",\"boxmean\":true},{\"alignmentgroup\":\"True\",\"boxpoints\":\"all\",\"hovertemplate\":\"Status=%{x}<br>weight_kg=%{y}<extra></extra>\",\"legendgroup\":\"Legendary\",\"marker\":{\"color\":\"orange\"},\"name\":\"Legendary\",\"notched\":false,\"offsetgroup\":\"Legendary\",\"orientation\":\"v\",\"showlegend\":true,\"x\":[\"Legendary\",\"Legendary\",\"Legendary\",\"Legendary\",\"Legendary\",\"Legendary\",\"Legendary\",\"Legendary\",\"Legendary\",\"Legendary\",\"Legendary\",\"Legendary\",\"Legendary\",\"Legendary\",\"Legendary\",\"Legendary\",\"Legendary\",\"Legendary\",\"Legendary\",\"Legendary\",\"Legendary\",\"Legendary\",\"Legendary\",\"Legendary\",\"Legendary\",\"Legendary\",\"Legendary\",\"Legendary\",\"Legendary\",\"Legendary\",\"Legendary\",\"Legendary\",\"Legendary\",\"Legendary\",\"Legendary\",\"Legendary\",\"Legendary\",\"Legendary\",\"Legendary\",\"Legendary\",\"Legendary\",\"Legendary\"],\"x0\":\" \",\"xaxis\":\"x\",\"y\":[122.0,127.0,33.0,216.0,199.0,352.0,430.0,950.0,999.7,206.5,392.0,683.0,336.0,750.0,650.0,330.0,345.0,325.0,325.0,325.0,215.0,203.0,305.0,33.5,610.0,0.1,999.9,230.0,120.0,230.0,460.0,350.0,230.0,355.0,110.0,785.0,210.0,950.0,null,7.7,809.1,53.6],\"y0\":\" \",\"yaxis\":\"y\",\"type\":\"box\",\"boxmean\":true},{\"alignmentgroup\":\"True\",\"boxpoints\":\"all\",\"hovertemplate\":\"Status=%{x}<br>weight_kg=%{y}<extra></extra>\",\"legendgroup\":\"Mythical\",\"marker\":{\"color\":\"green\"},\"name\":\"Mythical\",\"notched\":false,\"offsetgroup\":\"Mythical\",\"orientation\":\"v\",\"showlegend\":true,\"x\":[\"Mythical\",\"Mythical\",\"Mythical\",\"Mythical\",\"Mythical\",\"Mythical\",\"Mythical\",\"Mythical\",\"Mythical\",\"Mythical\",\"Mythical\",\"Mythical\",\"Mythical\",\"Mythical\",\"Mythical\",\"Mythical\",\"Mythical\",\"Mythical\",\"Mythical\",\"Mythical\",\"Mythical\",\"Mythical\",\"Mythical\",\"Mythical\",\"Mythical\",\"Mythical\",\"Mythical\",\"Mythical\",\"Mythical\",\"Mythical\"],\"x0\":\" \",\"xaxis\":\"x\",\"y\":[4.0,5.0,1.1,60.8,60.8,60.8,60.8,3.1,1.4,50.5,2.1,5.2,320.0,4.0,48.5,48.5,6.5,6.5,82.5,8.8,27.8,9.0,490.0,195.0,80.5,22.2,44.5,8.0,800.0,70.0],\"y0\":\" \",\"yaxis\":\"y\",\"type\":\"box\",\"boxmean\":true}],                        {\"template\":{\"data\":{\"barpolar\":[{\"marker\":{\"line\":{\"color\":\"white\",\"width\":0.5},\"pattern\":{\"fillmode\":\"overlay\",\"size\":10,\"solidity\":0.2}},\"type\":\"barpolar\"}],\"bar\":[{\"error_x\":{\"color\":\"#2a3f5f\"},\"error_y\":{\"color\":\"#2a3f5f\"},\"marker\":{\"line\":{\"color\":\"white\",\"width\":0.5},\"pattern\":{\"fillmode\":\"overlay\",\"size\":10,\"solidity\":0.2}},\"type\":\"bar\"}],\"carpet\":[{\"aaxis\":{\"endlinecolor\":\"#2a3f5f\",\"gridcolor\":\"#C8D4E3\",\"linecolor\":\"#C8D4E3\",\"minorgridcolor\":\"#C8D4E3\",\"startlinecolor\":\"#2a3f5f\"},\"baxis\":{\"endlinecolor\":\"#2a3f5f\",\"gridcolor\":\"#C8D4E3\",\"linecolor\":\"#C8D4E3\",\"minorgridcolor\":\"#C8D4E3\",\"startlinecolor\":\"#2a3f5f\"},\"type\":\"carpet\"}],\"choropleth\":[{\"colorbar\":{\"outlinewidth\":0,\"ticks\":\"\"},\"type\":\"choropleth\"}],\"contourcarpet\":[{\"colorbar\":{\"outlinewidth\":0,\"ticks\":\"\"},\"type\":\"contourcarpet\"}],\"contour\":[{\"colorbar\":{\"outlinewidth\":0,\"ticks\":\"\"},\"colorscale\":[[0.0,\"#0d0887\"],[0.1111111111111111,\"#46039f\"],[0.2222222222222222,\"#7201a8\"],[0.3333333333333333,\"#9c179e\"],[0.4444444444444444,\"#bd3786\"],[0.5555555555555556,\"#d8576b\"],[0.6666666666666666,\"#ed7953\"],[0.7777777777777778,\"#fb9f3a\"],[0.8888888888888888,\"#fdca26\"],[1.0,\"#f0f921\"]],\"type\":\"contour\"}],\"heatmapgl\":[{\"colorbar\":{\"outlinewidth\":0,\"ticks\":\"\"},\"colorscale\":[[0.0,\"#0d0887\"],[0.1111111111111111,\"#46039f\"],[0.2222222222222222,\"#7201a8\"],[0.3333333333333333,\"#9c179e\"],[0.4444444444444444,\"#bd3786\"],[0.5555555555555556,\"#d8576b\"],[0.6666666666666666,\"#ed7953\"],[0.7777777777777778,\"#fb9f3a\"],[0.8888888888888888,\"#fdca26\"],[1.0,\"#f0f921\"]],\"type\":\"heatmapgl\"}],\"heatmap\":[{\"colorbar\":{\"outlinewidth\":0,\"ticks\":\"\"},\"colorscale\":[[0.0,\"#0d0887\"],[0.1111111111111111,\"#46039f\"],[0.2222222222222222,\"#7201a8\"],[0.3333333333333333,\"#9c179e\"],[0.4444444444444444,\"#bd3786\"],[0.5555555555555556,\"#d8576b\"],[0.6666666666666666,\"#ed7953\"],[0.7777777777777778,\"#fb9f3a\"],[0.8888888888888888,\"#fdca26\"],[1.0,\"#f0f921\"]],\"type\":\"heatmap\"}],\"histogram2dcontour\":[{\"colorbar\":{\"outlinewidth\":0,\"ticks\":\"\"},\"colorscale\":[[0.0,\"#0d0887\"],[0.1111111111111111,\"#46039f\"],[0.2222222222222222,\"#7201a8\"],[0.3333333333333333,\"#9c179e\"],[0.4444444444444444,\"#bd3786\"],[0.5555555555555556,\"#d8576b\"],[0.6666666666666666,\"#ed7953\"],[0.7777777777777778,\"#fb9f3a\"],[0.8888888888888888,\"#fdca26\"],[1.0,\"#f0f921\"]],\"type\":\"histogram2dcontour\"}],\"histogram2d\":[{\"colorbar\":{\"outlinewidth\":0,\"ticks\":\"\"},\"colorscale\":[[0.0,\"#0d0887\"],[0.1111111111111111,\"#46039f\"],[0.2222222222222222,\"#7201a8\"],[0.3333333333333333,\"#9c179e\"],[0.4444444444444444,\"#bd3786\"],[0.5555555555555556,\"#d8576b\"],[0.6666666666666666,\"#ed7953\"],[0.7777777777777778,\"#fb9f3a\"],[0.8888888888888888,\"#fdca26\"],[1.0,\"#f0f921\"]],\"type\":\"histogram2d\"}],\"histogram\":[{\"marker\":{\"pattern\":{\"fillmode\":\"overlay\",\"size\":10,\"solidity\":0.2}},\"type\":\"histogram\"}],\"mesh3d\":[{\"colorbar\":{\"outlinewidth\":0,\"ticks\":\"\"},\"type\":\"mesh3d\"}],\"parcoords\":[{\"line\":{\"colorbar\":{\"outlinewidth\":0,\"ticks\":\"\"}},\"type\":\"parcoords\"}],\"pie\":[{\"automargin\":true,\"type\":\"pie\"}],\"scatter3d\":[{\"line\":{\"colorbar\":{\"outlinewidth\":0,\"ticks\":\"\"}},\"marker\":{\"colorbar\":{\"outlinewidth\":0,\"ticks\":\"\"}},\"type\":\"scatter3d\"}],\"scattercarpet\":[{\"marker\":{\"colorbar\":{\"outlinewidth\":0,\"ticks\":\"\"}},\"type\":\"scattercarpet\"}],\"scattergeo\":[{\"marker\":{\"colorbar\":{\"outlinewidth\":0,\"ticks\":\"\"}},\"type\":\"scattergeo\"}],\"scattergl\":[{\"marker\":{\"colorbar\":{\"outlinewidth\":0,\"ticks\":\"\"}},\"type\":\"scattergl\"}],\"scattermapbox\":[{\"marker\":{\"colorbar\":{\"outlinewidth\":0,\"ticks\":\"\"}},\"type\":\"scattermapbox\"}],\"scatterpolargl\":[{\"marker\":{\"colorbar\":{\"outlinewidth\":0,\"ticks\":\"\"}},\"type\":\"scatterpolargl\"}],\"scatterpolar\":[{\"marker\":{\"colorbar\":{\"outlinewidth\":0,\"ticks\":\"\"}},\"type\":\"scatterpolar\"}],\"scatter\":[{\"fillpattern\":{\"fillmode\":\"overlay\",\"size\":10,\"solidity\":0.2},\"type\":\"scatter\"}],\"scatterternary\":[{\"marker\":{\"colorbar\":{\"outlinewidth\":0,\"ticks\":\"\"}},\"type\":\"scatterternary\"}],\"surface\":[{\"colorbar\":{\"outlinewidth\":0,\"ticks\":\"\"},\"colorscale\":[[0.0,\"#0d0887\"],[0.1111111111111111,\"#46039f\"],[0.2222222222222222,\"#7201a8\"],[0.3333333333333333,\"#9c179e\"],[0.4444444444444444,\"#bd3786\"],[0.5555555555555556,\"#d8576b\"],[0.6666666666666666,\"#ed7953\"],[0.7777777777777778,\"#fb9f3a\"],[0.8888888888888888,\"#fdca26\"],[1.0,\"#f0f921\"]],\"type\":\"surface\"}],\"table\":[{\"cells\":{\"fill\":{\"color\":\"#EBF0F8\"},\"line\":{\"color\":\"white\"}},\"header\":{\"fill\":{\"color\":\"#C8D4E3\"},\"line\":{\"color\":\"white\"}},\"type\":\"table\"}]},\"layout\":{\"annotationdefaults\":{\"arrowcolor\":\"#2a3f5f\",\"arrowhead\":0,\"arrowwidth\":1},\"autotypenumbers\":\"strict\",\"coloraxis\":{\"colorbar\":{\"outlinewidth\":0,\"ticks\":\"\"}},\"colorscale\":{\"diverging\":[[0,\"#8e0152\"],[0.1,\"#c51b7d\"],[0.2,\"#de77ae\"],[0.3,\"#f1b6da\"],[0.4,\"#fde0ef\"],[0.5,\"#f7f7f7\"],[0.6,\"#e6f5d0\"],[0.7,\"#b8e186\"],[0.8,\"#7fbc41\"],[0.9,\"#4d9221\"],[1,\"#276419\"]],\"sequential\":[[0.0,\"#0d0887\"],[0.1111111111111111,\"#46039f\"],[0.2222222222222222,\"#7201a8\"],[0.3333333333333333,\"#9c179e\"],[0.4444444444444444,\"#bd3786\"],[0.5555555555555556,\"#d8576b\"],[0.6666666666666666,\"#ed7953\"],[0.7777777777777778,\"#fb9f3a\"],[0.8888888888888888,\"#fdca26\"],[1.0,\"#f0f921\"]],\"sequentialminus\":[[0.0,\"#0d0887\"],[0.1111111111111111,\"#46039f\"],[0.2222222222222222,\"#7201a8\"],[0.3333333333333333,\"#9c179e\"],[0.4444444444444444,\"#bd3786\"],[0.5555555555555556,\"#d8576b\"],[0.6666666666666666,\"#ed7953\"],[0.7777777777777778,\"#fb9f3a\"],[0.8888888888888888,\"#fdca26\"],[1.0,\"#f0f921\"]]},\"colorway\":[\"#636efa\",\"#EF553B\",\"#00cc96\",\"#ab63fa\",\"#FFA15A\",\"#19d3f3\",\"#FF6692\",\"#B6E880\",\"#FF97FF\",\"#FECB52\"],\"font\":{\"color\":\"#2a3f5f\"},\"geo\":{\"bgcolor\":\"white\",\"lakecolor\":\"white\",\"landcolor\":\"white\",\"showlakes\":true,\"showland\":true,\"subunitcolor\":\"#C8D4E3\"},\"hoverlabel\":{\"align\":\"left\"},\"hovermode\":\"closest\",\"mapbox\":{\"style\":\"light\"},\"paper_bgcolor\":\"white\",\"plot_bgcolor\":\"white\",\"polar\":{\"angularaxis\":{\"gridcolor\":\"#EBF0F8\",\"linecolor\":\"#EBF0F8\",\"ticks\":\"\"},\"bgcolor\":\"white\",\"radialaxis\":{\"gridcolor\":\"#EBF0F8\",\"linecolor\":\"#EBF0F8\",\"ticks\":\"\"}},\"scene\":{\"xaxis\":{\"backgroundcolor\":\"white\",\"gridcolor\":\"#DFE8F3\",\"gridwidth\":2,\"linecolor\":\"#EBF0F8\",\"showbackground\":true,\"ticks\":\"\",\"zerolinecolor\":\"#EBF0F8\"},\"yaxis\":{\"backgroundcolor\":\"white\",\"gridcolor\":\"#DFE8F3\",\"gridwidth\":2,\"linecolor\":\"#EBF0F8\",\"showbackground\":true,\"ticks\":\"\",\"zerolinecolor\":\"#EBF0F8\"},\"zaxis\":{\"backgroundcolor\":\"white\",\"gridcolor\":\"#DFE8F3\",\"gridwidth\":2,\"linecolor\":\"#EBF0F8\",\"showbackground\":true,\"ticks\":\"\",\"zerolinecolor\":\"#EBF0F8\"}},\"shapedefaults\":{\"line\":{\"color\":\"#2a3f5f\"}},\"ternary\":{\"aaxis\":{\"gridcolor\":\"#DFE8F3\",\"linecolor\":\"#A2B1C6\",\"ticks\":\"\"},\"baxis\":{\"gridcolor\":\"#DFE8F3\",\"linecolor\":\"#A2B1C6\",\"ticks\":\"\"},\"bgcolor\":\"white\",\"caxis\":{\"gridcolor\":\"#DFE8F3\",\"linecolor\":\"#A2B1C6\",\"ticks\":\"\"}},\"title\":{\"x\":0.05},\"xaxis\":{\"automargin\":true,\"gridcolor\":\"#EBF0F8\",\"linecolor\":\"#EBF0F8\",\"ticks\":\"\",\"title\":{\"standoff\":15},\"zerolinecolor\":\"#EBF0F8\",\"zerolinewidth\":2},\"yaxis\":{\"automargin\":true,\"gridcolor\":\"#EBF0F8\",\"linecolor\":\"#EBF0F8\",\"ticks\":\"\",\"title\":{\"standoff\":15},\"zerolinecolor\":\"#EBF0F8\",\"zerolinewidth\":2}}},\"xaxis\":{\"anchor\":\"y\",\"domain\":[0.0,1.0],\"title\":{\"text\":\"Status\"},\"categoryorder\":\"array\",\"categoryarray\":[\"Normal\",\"Sub Legendary\",\"Legendary\",\"Mythical\"]},\"yaxis\":{\"anchor\":\"x\",\"domain\":[0.0,1.0],\"title\":{\"text\":\"Total Points\"}},\"legend\":{\"title\":{\"text\":\"Status\"},\"tracegroupgap\":0},\"title\":{\"text\":\"AVG Weight Distribution by Pok\\u00e9mon Status\"},\"boxmode\":\"overlay\",\"showlegend\":false},                        {\"responsive\": true}                    ).then(function(){\n                            \nvar gd = document.getElementById('721c62d3-a004-4c8b-9604-1a294185c289');\nvar x = new MutationObserver(function (mutations, observer) {{\n        var display = window.getComputedStyle(gd).display;\n        if (!display || display === 'none') {{\n            console.log([gd, 'removed!']);\n            Plotly.purge(gd);\n            observer.disconnect();\n        }}\n}});\n\n// Listen for the removal of the full notebook cells\nvar notebookContainer = gd.closest('#notebook-container');\nif (notebookContainer) {{\n    x.observe(notebookContainer, {childList: true});\n}}\n\n// Listen for the clearing of the current output cell\nvar outputEl = gd.closest('.output');\nif (outputEl) {{\n    x.observe(outputEl, {childList: true});\n}}\n\n                        })                };                });            </script>        </div>"
     },
     "metadata": {},
     "output_type": "display_data"
    }
   ],
   "source": [
    "import plotly.express as px\n",
    "\n",
    "# Define custom color palette for each status\n",
    "status_colors = {'Normal': 'blue', 'Legendary': 'orange', 'Mythical': 'green'}\n",
    "\n",
    "fig = px.box(pokedex, x='status', y='weight_kg', points='all', color='status', color_discrete_map=status_colors,\n",
    "             title='AVG Weight Distribution by Pokémon Status',\n",
    "             labels={'status': 'Status', 'total_points': 'Total Points'},\n",
    "             template='plotly_white')\n",
    "\n",
    "# Customize axes\n",
    "fig.update_xaxes(title_text='Status')\n",
    "fig.update_yaxes(title_text='Total Points')\n",
    "\n",
    "# Customize layout\n",
    "fig.update_layout(showlegend=False)  # Hide legend since colors represent status\n",
    "fig.update_traces(boxmean=True)  # Show mean line inside box\n",
    "fig.show()\n"
   ],
   "metadata": {
    "collapsed": false,
    "ExecuteTime": {
     "end_time": "2024-04-24T00:35:40.461100Z",
     "start_time": "2024-04-24T00:35:40.010662Z"
    }
   },
   "id": "644b06600e9a935f"
  }
 ],
 "metadata": {
  "kernelspec": {
   "display_name": "Python 3",
   "language": "python",
   "name": "python3"
  },
  "language_info": {
   "codemirror_mode": {
    "name": "ipython",
    "version": 2
   },
   "file_extension": ".py",
   "mimetype": "text/x-python",
   "name": "python",
   "nbconvert_exporter": "python",
   "pygments_lexer": "ipython2",
   "version": "2.7.6"
  }
 },
 "nbformat": 4,
 "nbformat_minor": 5
}
