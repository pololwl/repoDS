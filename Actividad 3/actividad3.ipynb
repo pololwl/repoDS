{
 "cells": [
  {
   "cell_type": "code",
   "execution_count": 87,
   "outputs": [],
   "source": [
    "import matplotlib.pyplot as plt\n",
    "import numpy as np\n",
    "import pandas as pd\n",
    "import seaborn as sns\n",
    "from IPython.display import Image\n",
    "%matplotlib inline\n",
    "sns.set(color_codes=True)"
   ],
   "metadata": {
    "collapsed": false,
    "ExecuteTime": {
     "end_time": "2024-04-18T16:32:03.092135Z",
     "start_time": "2024-04-18T16:32:02.922209800Z"
    }
   },
   "id": "3c2744cb2f95ce83"
  },
  {
   "cell_type": "markdown",
   "source": [
    "# Exploratory Data Analysis (EDA)\n",
    "Exploración general del Data set usando funciones de Pandas."
   ],
   "metadata": {
    "collapsed": false
   },
   "id": "9b15775cc3fc8f3c"
  },
  {
   "cell_type": "code",
   "execution_count": 88,
   "outputs": [],
   "source": [
    "endangeredSpecies = pd.read_csv(\n",
    "    \"especies_silvestres_amenazadas.csv\")"
   ],
   "metadata": {
    "collapsed": false,
    "ExecuteTime": {
     "end_time": "2024-04-18T16:32:03.574069800Z",
     "start_time": "2024-04-18T16:32:02.942575200Z"
    }
   },
   "id": "c40b893289a32649"
  },
  {
   "cell_type": "markdown",
   "source": [
    "## Listado oficial de las especies silvestres amenazadas de la diversidad biológica colombiana continental y marino costera - Resolución 0126 de 2024\n",
    "El listado oficial de las especies silvestres amenazadas de la diversidad biológica colombiana, tanto continental como marino-costera, es una recopilación elaborada por autoridades competentes en Colombia para identificar y proteger a las especies en riesgo de extinción o aquellas cuyas poblaciones se encuentran en declive significativo."
   ],
   "metadata": {
    "collapsed": false
   },
   "id": "5496feb3bc71dad1"
  },
  {
   "cell_type": "markdown",
   "source": [
    "| Término | Definición |\n",
    "| --- | --- |\n",
    "| IDENTIFICACIÓN | Proceso de clasificar y nombrar a los seres vivos |\n",
    "| IDENTIFICACIÓN TAXONÓMICA | Proceso de clasificar y nombrar a los seres vivos en una jerarquía taxonómica |\n",
    "| NOMBRE CIENTÍFICO | Convención utilizada en biología para designar a las especies de organismos vivos de manera precisa y universalmente reconocida |\n",
    "| CLASIFICACIÓN SUPERIOR | Sistema jerárquico utilizado en taxonomía para organizar y clasificar a los organismos vivos en grupos cada vez más inclusivos |\n",
    "| REINO | Una de las categorías más amplias y generales en el sistema de clasificación biológica |\n",
    "| FILO | Categoría taxonómica utilizada en biología para agrupar a organismos que comparten características morfológicas, embriológicas o genéticas similares |\n",
    "| CLASE | Categoría taxonómica utilizada en biología para agrupar organismos que comparten características anatómicas, fisiológicas o genéticas similares y que son más específicas que las características que definen a un filo pero más generales que las de un orden |\n",
    "| ORDEN | Categoría taxonómica utilizada en biología para agrupar organismos que comparten características más específicas que los que se agrupan en una clase, pero más generales que los que se agrupan en una familia |\n",
    "| FAMILIA | Categoría taxonómica utilizada en biología para agrupar organismos que comparten características más específicas que los que se agrupan en un orden, pero más generales que los que se agrupan en un género |\n",
    "| GÉNERO | Categoría taxonómica utilizada en biología para agrupar organismos que comparten características más específicas que los que se agrupan en una familia, pero más generales que los que se agrupan en una especie |\n",
    "| EPÍTETO ESPECÍFICO | Segunda parte del nombre científico de una especie en el sistema de nomenclatura binomial |\n",
    "| EPÍTETO INFRAESPECÍFICO | Parte adicional del nombre científico de una especie en el sistema de nomenclatura binomial, utilizado para denotar una subdivisión dentro de una especie |\n",
    "| RANGO DE TAXÓN | Nivel jerárquico en la clasificación de los seres vivos |\n",
    "| NOMBRE CIENTÍFICO 1 | Convención utilizada en biología para designar a las especies de organismos vivos de manera precisa y universalmente reconocida |\n",
    "| NOMBRE VERNÁCULO | Nombre utilizado localmente por la gente para referirse a una especie en particular, en contraste con su nombre científico |\n",
    "| CÓDIGO DE NOMENCLATURA | Conjunto de reglas y convenciones establecidas para la correcta denominación y clasificación de los organismos en la ciencia biológica |\n",
    "| ESTADO TAXONÓMICO | Posición o categoría de un organismo dentro de la clasificación biológica |\n",
    "| TAXÓN OBSERVACIONES | Grupo de organismos que comparten características similares y que están clasificados juntos en un sistema de taxonomía |\n",
    "| LENGUAJE | Sistemas de comunicación tanto humanos como no humanos, así como en el contexto de la programación informática |\n",
    "| ESTADO DE AMENAZA | Nivel de riesgo que enfrenta una especie o un ecosistema en particular debido a diversos factores que pueden poner en peligro su supervivencia |"
   ],
   "metadata": {
    "collapsed": false
   },
   "id": "dabf79074c926693"
  },
  {
   "cell_type": "markdown",
   "source": [
    "#### Fuente:\n",
    "Departamento Administrativo Nacional de Estadística. (2023). _Listado oficial de las especies silvestres amenazadas de la biodiversidad colombiana_. Datos.gov.co. https://www.datos.gov.co/Ambiente-y-Desarrollo-Sostenible/Listado-oficial-de-las-especies-silvestres-amenaza/wizt-zh64/about_data"
   ],
   "metadata": {
    "collapsed": false
   },
   "id": "dfa01d3ff0b6b463"
  },
  {
   "cell_type": "code",
   "execution_count": 89,
   "outputs": [
    {
     "data": {
      "text/plain": "              IDENTIFICACION  IDENTIFICACION TAXONOMICA  \\\n0   gbif.org/species/3548724   gbif.org/species/3548724   \n1   gbif.org/species/3548779   gbif.org/species/3548779   \n2  gbif.org/species/10800176  gbif.org/species/10800176   \n3  gbif.org/species/10874088  gbif.org/species/10874088   \n4   gbif.org/species/5516240   gbif.org/species/5516240   \n\n             NOMBRE CIENTIFICO  \\\n0          Arthonia obscurella   \n1     Arthonia septemlocularis   \n2  Ancistrosporella leucophila   \n3          Byssoloma permutans   \n4         Lecanactis proximans   \n\n                              CLASIFICACION SUPERIOR  REINO        FILO  \\\n0  Fungi | Ascomycota | Arthoniomycetes | Arthoni...  Fungi  Ascomycota   \n1  Fungi | Ascomycota | Arthoniomycetes | Arthoni...  Fungi  Ascomycota   \n2  Fungi | Ascomycota | Arthoniomycetes | Arthoni...  Fungi  Ascomycota   \n3  Fungi | Ascomycota | Arthoniomycetes | Arthoni...  Fungi  Ascomycota   \n4  Fungi | Ascomycota | Arthoniomycetes | Arthoni...  Fungi  Ascomycota   \n\n             CLASE        ORDEN          FAMILIA            GENERO  \\\n0  Arthoniomycetes  Arthoniales     Arthoniaceae          Arthonia   \n1  Arthoniomycetes  Arthoniales     Arthoniaceae          Arthonia   \n2  Arthoniomycetes  Arthoniales     Roccellaceae  Ancistrosporella   \n3  Lecanoromycetes  Lecanorales  Byssolomataceae         Byssoloma   \n4  Arthoniomycetes  Arthoniales     Roccellaceae        Lecanactis   \n\n  EPITETO ESPECIFICO EPITETO INFRAESPECIFICO RANGO DE TAXON  \\\n0         obscurella                     NaN        Especie   \n1    septemlocularis                     NaN        Especie   \n2         leucophila                     NaN        Especie   \n3          permutans                     NaN        Especie   \n4          proximans                     NaN        Especie   \n\n  NOMBRE CIENTIFICO 1 NOMBRE VERNACULO CODIGO NOMENCLATURA ESTADO TAXONOMICO  \\\n0           Müll.Arg.              NaN                 ICN          Aceptado   \n1           Müll.Arg.              NaN                 ICN          Aceptado   \n2         (Nyl.) Ertz              NaN                 ICN          Aceptado   \n3      (Nyl.) Lücking              NaN                 ICN          Aceptado   \n4      (Nyl.) Zahlbr.              NaN                 ICN          Aceptado   \n\n                                 TAXON OBSERVACIONES LENGUAJE  \\\n0  Nombre original validado: Arthonia obscurella ...       es   \n1  Nombre original validado: Arthonia septemlocul...       es   \n2  Nombre original validado: Ancistrosporella leu...       es   \n3  Nombre original validado: Byssoloma permutans ...       es   \n4  Nombre original validado: Lecanactis proximans...       es   \n\n  ESTADO DE AMENAZA  \n0                CR  \n1                CR  \n2                CR  \n3                CR  \n4                CR  ",
      "text/html": "<div>\n<style scoped>\n    .dataframe tbody tr th:only-of-type {\n        vertical-align: middle;\n    }\n\n    .dataframe tbody tr th {\n        vertical-align: top;\n    }\n\n    .dataframe thead th {\n        text-align: right;\n    }\n</style>\n<table border=\"1\" class=\"dataframe\">\n  <thead>\n    <tr style=\"text-align: right;\">\n      <th></th>\n      <th>IDENTIFICACION</th>\n      <th>IDENTIFICACION TAXONOMICA</th>\n      <th>NOMBRE CIENTIFICO</th>\n      <th>CLASIFICACION SUPERIOR</th>\n      <th>REINO</th>\n      <th>FILO</th>\n      <th>CLASE</th>\n      <th>ORDEN</th>\n      <th>FAMILIA</th>\n      <th>GENERO</th>\n      <th>EPITETO ESPECIFICO</th>\n      <th>EPITETO INFRAESPECIFICO</th>\n      <th>RANGO DE TAXON</th>\n      <th>NOMBRE CIENTIFICO 1</th>\n      <th>NOMBRE VERNACULO</th>\n      <th>CODIGO NOMENCLATURA</th>\n      <th>ESTADO TAXONOMICO</th>\n      <th>TAXON OBSERVACIONES</th>\n      <th>LENGUAJE</th>\n      <th>ESTADO DE AMENAZA</th>\n    </tr>\n  </thead>\n  <tbody>\n    <tr>\n      <th>0</th>\n      <td>gbif.org/species/3548724</td>\n      <td>gbif.org/species/3548724</td>\n      <td>Arthonia obscurella</td>\n      <td>Fungi | Ascomycota | Arthoniomycetes | Arthoni...</td>\n      <td>Fungi</td>\n      <td>Ascomycota</td>\n      <td>Arthoniomycetes</td>\n      <td>Arthoniales</td>\n      <td>Arthoniaceae</td>\n      <td>Arthonia</td>\n      <td>obscurella</td>\n      <td>NaN</td>\n      <td>Especie</td>\n      <td>Müll.Arg.</td>\n      <td>NaN</td>\n      <td>ICN</td>\n      <td>Aceptado</td>\n      <td>Nombre original validado: Arthonia obscurella ...</td>\n      <td>es</td>\n      <td>CR</td>\n    </tr>\n    <tr>\n      <th>1</th>\n      <td>gbif.org/species/3548779</td>\n      <td>gbif.org/species/3548779</td>\n      <td>Arthonia septemlocularis</td>\n      <td>Fungi | Ascomycota | Arthoniomycetes | Arthoni...</td>\n      <td>Fungi</td>\n      <td>Ascomycota</td>\n      <td>Arthoniomycetes</td>\n      <td>Arthoniales</td>\n      <td>Arthoniaceae</td>\n      <td>Arthonia</td>\n      <td>septemlocularis</td>\n      <td>NaN</td>\n      <td>Especie</td>\n      <td>Müll.Arg.</td>\n      <td>NaN</td>\n      <td>ICN</td>\n      <td>Aceptado</td>\n      <td>Nombre original validado: Arthonia septemlocul...</td>\n      <td>es</td>\n      <td>CR</td>\n    </tr>\n    <tr>\n      <th>2</th>\n      <td>gbif.org/species/10800176</td>\n      <td>gbif.org/species/10800176</td>\n      <td>Ancistrosporella leucophila</td>\n      <td>Fungi | Ascomycota | Arthoniomycetes | Arthoni...</td>\n      <td>Fungi</td>\n      <td>Ascomycota</td>\n      <td>Arthoniomycetes</td>\n      <td>Arthoniales</td>\n      <td>Roccellaceae</td>\n      <td>Ancistrosporella</td>\n      <td>leucophila</td>\n      <td>NaN</td>\n      <td>Especie</td>\n      <td>(Nyl.) Ertz</td>\n      <td>NaN</td>\n      <td>ICN</td>\n      <td>Aceptado</td>\n      <td>Nombre original validado: Ancistrosporella leu...</td>\n      <td>es</td>\n      <td>CR</td>\n    </tr>\n    <tr>\n      <th>3</th>\n      <td>gbif.org/species/10874088</td>\n      <td>gbif.org/species/10874088</td>\n      <td>Byssoloma permutans</td>\n      <td>Fungi | Ascomycota | Arthoniomycetes | Arthoni...</td>\n      <td>Fungi</td>\n      <td>Ascomycota</td>\n      <td>Lecanoromycetes</td>\n      <td>Lecanorales</td>\n      <td>Byssolomataceae</td>\n      <td>Byssoloma</td>\n      <td>permutans</td>\n      <td>NaN</td>\n      <td>Especie</td>\n      <td>(Nyl.) Lücking</td>\n      <td>NaN</td>\n      <td>ICN</td>\n      <td>Aceptado</td>\n      <td>Nombre original validado: Byssoloma permutans ...</td>\n      <td>es</td>\n      <td>CR</td>\n    </tr>\n    <tr>\n      <th>4</th>\n      <td>gbif.org/species/5516240</td>\n      <td>gbif.org/species/5516240</td>\n      <td>Lecanactis proximans</td>\n      <td>Fungi | Ascomycota | Arthoniomycetes | Arthoni...</td>\n      <td>Fungi</td>\n      <td>Ascomycota</td>\n      <td>Arthoniomycetes</td>\n      <td>Arthoniales</td>\n      <td>Roccellaceae</td>\n      <td>Lecanactis</td>\n      <td>proximans</td>\n      <td>NaN</td>\n      <td>Especie</td>\n      <td>(Nyl.) Zahlbr.</td>\n      <td>NaN</td>\n      <td>ICN</td>\n      <td>Aceptado</td>\n      <td>Nombre original validado: Lecanactis proximans...</td>\n      <td>es</td>\n      <td>CR</td>\n    </tr>\n  </tbody>\n</table>\n</div>"
     },
     "execution_count": 89,
     "metadata": {},
     "output_type": "execute_result"
    }
   ],
   "source": [
    "endangeredSpecies.head(5)"
   ],
   "metadata": {
    "collapsed": false,
    "ExecuteTime": {
     "end_time": "2024-04-18T16:32:03.612480100Z",
     "start_time": "2024-04-18T16:32:02.970879200Z"
    }
   },
   "id": "9e715c3f84d6ccd9"
  },
  {
   "cell_type": "code",
   "execution_count": 90,
   "outputs": [
    {
     "data": {
      "text/plain": "                 IDENTIFICACION  IDENTIFICACION TAXONOMICA  \\\n2098  gbif.org/species/11219159  gbif.org/species/11219159   \n2099   gbif.org/species/6156842   gbif.org/species/6156842   \n2100   gbif.org/species/6179762   gbif.org/species/6179762   \n2101   gbif.org/species/6175177   gbif.org/species/6175177   \n2102   gbif.org/species/4262310   gbif.org/species/4262310   \n\n                       NOMBRE CIENTIFICO  \\\n2098      Trachemys venusta callirostris   \n2099  Kinosternon scorpioides albogulare   \n2100    Crypturellus obsoletus castaneus   \n2101            Molothrus aeneus armenti   \n2102   Odocoileus virginianus tropicalis   \n\n                                 CLASIFICACION SUPERIOR     REINO      FILO  \\\n2098  Animalia | Chordata | Vertebrata | Reptilia | ...  Animalia  Chordata   \n2099  Animalia | Chordata | Vertebrata | Reptilia | ...  Animalia  Chordata   \n2100  Animalia | Chordata | Vertebrata | Aves | Tina...  Animalia  Chordata   \n2101  Animalia | Chordata | Vertebrata | Aves | Pass...  Animalia  Chordata   \n2102  Animalia | Chordata | Vertebrata | Mammalia | ...  Animalia  Chordata   \n\n         CLASE          ORDEN        FAMILIA        GENERO EPITETO ESPECIFICO  \\\n2098  Reptilia     Testudines       Emydidae     Trachemys            venusta   \n2099  Reptilia     Testudines  Kinosternidae   Kinosternon        scorpioides   \n2100      Aves   Tinamiformes      Tinamidae  Crypturellus          obsoletus   \n2101      Aves  Passeriformes      Icteridae     Molothrus             aeneus   \n2102  Mammalia   Artiodactyla       Cervidae    Odocoileus        virginianus   \n\n     EPITETO INFRAESPECIFICO RANGO DE TAXON        NOMBRE CIENTIFICO 1  \\\n2098            callirostris     Subespecie               (Gray, 1855)   \n2099              albogulare     Subespecie  (Duméril & Bocourt, 1870)   \n2100               castaneus     Subespecie        (P.L.Sclater, 1858)   \n2101                 armenti     Subespecie              Cabanis, 1851   \n2102              tropicalis     Subespecie              Cabrera, 1918   \n\n                          NOMBRE VERNACULO CODIGO NOMENCLATURA  \\\n2098                               Hicotea                ICZN   \n2099                                Swanka                ICZN   \n2100                          Tinamú pardo                ICZN   \n2101                     Chamón del Caribe                ICZN   \n2102  Venado sabanero | Venado cola blanca                ICZN   \n\n     ESTADO TAXONOMICO                                TAXON OBSERVACIONES  \\\n2098            Válido  Nombre original validado: Trachemys venusta ca...   \n2099            Válido  Nombre original validado: Kinosternon scorpioi...   \n2100            Válido  Nombre original validado: Crypturellus obsolet...   \n2101            Válido  Nombre original validado: Molothrus aeneus arm...   \n2102            Válido  Nombre original validado: Odocoileus virginian...   \n\n     LENGUAJE ESTADO DE AMENAZA  \n2098       es                VU  \n2099       es                VU  \n2100       es                CR  \n2101       es                VU  \n2102       es                CR  ",
      "text/html": "<div>\n<style scoped>\n    .dataframe tbody tr th:only-of-type {\n        vertical-align: middle;\n    }\n\n    .dataframe tbody tr th {\n        vertical-align: top;\n    }\n\n    .dataframe thead th {\n        text-align: right;\n    }\n</style>\n<table border=\"1\" class=\"dataframe\">\n  <thead>\n    <tr style=\"text-align: right;\">\n      <th></th>\n      <th>IDENTIFICACION</th>\n      <th>IDENTIFICACION TAXONOMICA</th>\n      <th>NOMBRE CIENTIFICO</th>\n      <th>CLASIFICACION SUPERIOR</th>\n      <th>REINO</th>\n      <th>FILO</th>\n      <th>CLASE</th>\n      <th>ORDEN</th>\n      <th>FAMILIA</th>\n      <th>GENERO</th>\n      <th>EPITETO ESPECIFICO</th>\n      <th>EPITETO INFRAESPECIFICO</th>\n      <th>RANGO DE TAXON</th>\n      <th>NOMBRE CIENTIFICO 1</th>\n      <th>NOMBRE VERNACULO</th>\n      <th>CODIGO NOMENCLATURA</th>\n      <th>ESTADO TAXONOMICO</th>\n      <th>TAXON OBSERVACIONES</th>\n      <th>LENGUAJE</th>\n      <th>ESTADO DE AMENAZA</th>\n    </tr>\n  </thead>\n  <tbody>\n    <tr>\n      <th>2098</th>\n      <td>gbif.org/species/11219159</td>\n      <td>gbif.org/species/11219159</td>\n      <td>Trachemys venusta callirostris</td>\n      <td>Animalia | Chordata | Vertebrata | Reptilia | ...</td>\n      <td>Animalia</td>\n      <td>Chordata</td>\n      <td>Reptilia</td>\n      <td>Testudines</td>\n      <td>Emydidae</td>\n      <td>Trachemys</td>\n      <td>venusta</td>\n      <td>callirostris</td>\n      <td>Subespecie</td>\n      <td>(Gray, 1855)</td>\n      <td>Hicotea</td>\n      <td>ICZN</td>\n      <td>Válido</td>\n      <td>Nombre original validado: Trachemys venusta ca...</td>\n      <td>es</td>\n      <td>VU</td>\n    </tr>\n    <tr>\n      <th>2099</th>\n      <td>gbif.org/species/6156842</td>\n      <td>gbif.org/species/6156842</td>\n      <td>Kinosternon scorpioides albogulare</td>\n      <td>Animalia | Chordata | Vertebrata | Reptilia | ...</td>\n      <td>Animalia</td>\n      <td>Chordata</td>\n      <td>Reptilia</td>\n      <td>Testudines</td>\n      <td>Kinosternidae</td>\n      <td>Kinosternon</td>\n      <td>scorpioides</td>\n      <td>albogulare</td>\n      <td>Subespecie</td>\n      <td>(Duméril &amp; Bocourt, 1870)</td>\n      <td>Swanka</td>\n      <td>ICZN</td>\n      <td>Válido</td>\n      <td>Nombre original validado: Kinosternon scorpioi...</td>\n      <td>es</td>\n      <td>VU</td>\n    </tr>\n    <tr>\n      <th>2100</th>\n      <td>gbif.org/species/6179762</td>\n      <td>gbif.org/species/6179762</td>\n      <td>Crypturellus obsoletus castaneus</td>\n      <td>Animalia | Chordata | Vertebrata | Aves | Tina...</td>\n      <td>Animalia</td>\n      <td>Chordata</td>\n      <td>Aves</td>\n      <td>Tinamiformes</td>\n      <td>Tinamidae</td>\n      <td>Crypturellus</td>\n      <td>obsoletus</td>\n      <td>castaneus</td>\n      <td>Subespecie</td>\n      <td>(P.L.Sclater, 1858)</td>\n      <td>Tinamú pardo</td>\n      <td>ICZN</td>\n      <td>Válido</td>\n      <td>Nombre original validado: Crypturellus obsolet...</td>\n      <td>es</td>\n      <td>CR</td>\n    </tr>\n    <tr>\n      <th>2101</th>\n      <td>gbif.org/species/6175177</td>\n      <td>gbif.org/species/6175177</td>\n      <td>Molothrus aeneus armenti</td>\n      <td>Animalia | Chordata | Vertebrata | Aves | Pass...</td>\n      <td>Animalia</td>\n      <td>Chordata</td>\n      <td>Aves</td>\n      <td>Passeriformes</td>\n      <td>Icteridae</td>\n      <td>Molothrus</td>\n      <td>aeneus</td>\n      <td>armenti</td>\n      <td>Subespecie</td>\n      <td>Cabanis, 1851</td>\n      <td>Chamón del Caribe</td>\n      <td>ICZN</td>\n      <td>Válido</td>\n      <td>Nombre original validado: Molothrus aeneus arm...</td>\n      <td>es</td>\n      <td>VU</td>\n    </tr>\n    <tr>\n      <th>2102</th>\n      <td>gbif.org/species/4262310</td>\n      <td>gbif.org/species/4262310</td>\n      <td>Odocoileus virginianus tropicalis</td>\n      <td>Animalia | Chordata | Vertebrata | Mammalia | ...</td>\n      <td>Animalia</td>\n      <td>Chordata</td>\n      <td>Mammalia</td>\n      <td>Artiodactyla</td>\n      <td>Cervidae</td>\n      <td>Odocoileus</td>\n      <td>virginianus</td>\n      <td>tropicalis</td>\n      <td>Subespecie</td>\n      <td>Cabrera, 1918</td>\n      <td>Venado sabanero | Venado cola blanca</td>\n      <td>ICZN</td>\n      <td>Válido</td>\n      <td>Nombre original validado: Odocoileus virginian...</td>\n      <td>es</td>\n      <td>CR</td>\n    </tr>\n  </tbody>\n</table>\n</div>"
     },
     "execution_count": 90,
     "metadata": {},
     "output_type": "execute_result"
    }
   ],
   "source": [
    "endangeredSpecies.tail(5)"
   ],
   "metadata": {
    "collapsed": false,
    "ExecuteTime": {
     "end_time": "2024-04-18T16:32:03.765125600Z",
     "start_time": "2024-04-18T16:32:02.990709500Z"
    }
   },
   "id": "61a2941c214104f3"
  },
  {
   "cell_type": "code",
   "execution_count": 91,
   "outputs": [
    {
     "name": "stdout",
     "output_type": "stream",
     "text": [
      "<class 'pandas.core.frame.DataFrame'>\n",
      "RangeIndex: 2103 entries, 0 to 2102\n",
      "Data columns (total 20 columns):\n",
      " #   Column                     Non-Null Count  Dtype \n",
      "---  ------                     --------------  ----- \n",
      " 0   IDENTIFICACION             2103 non-null   object\n",
      " 1   IDENTIFICACION TAXONOMICA  2103 non-null   object\n",
      " 2   NOMBRE CIENTIFICO          2103 non-null   object\n",
      " 3   CLASIFICACION SUPERIOR     2103 non-null   object\n",
      " 4   REINO                      2103 non-null   object\n",
      " 5   FILO                       2103 non-null   object\n",
      " 6   CLASE                      2103 non-null   object\n",
      " 7   ORDEN                      2103 non-null   object\n",
      " 8   FAMILIA                    2103 non-null   object\n",
      " 9   GENERO                     2103 non-null   object\n",
      " 10  EPITETO ESPECIFICO         2103 non-null   object\n",
      " 11  EPITETO INFRAESPECIFICO    34 non-null     object\n",
      " 12  RANGO DE TAXON             2103 non-null   object\n",
      " 13  NOMBRE CIENTIFICO 1        2088 non-null   object\n",
      " 14  NOMBRE VERNACULO           867 non-null    object\n",
      " 15  CODIGO NOMENCLATURA        2103 non-null   object\n",
      " 16  ESTADO TAXONOMICO          2103 non-null   object\n",
      " 17  TAXON OBSERVACIONES        2103 non-null   object\n",
      " 18  LENGUAJE                   2103 non-null   object\n",
      " 19  ESTADO DE AMENAZA          2103 non-null   object\n",
      "dtypes: object(20)\n",
      "memory usage: 328.7+ KB\n"
     ]
    }
   ],
   "source": [
    "endangeredSpecies.info()"
   ],
   "metadata": {
    "collapsed": false,
    "ExecuteTime": {
     "end_time": "2024-04-18T16:32:03.876234800Z",
     "start_time": "2024-04-18T16:32:03.022922Z"
    }
   },
   "id": "463d0865f6273ce4"
  },
  {
   "cell_type": "code",
   "execution_count": 92,
   "outputs": [
    {
     "data": {
      "text/plain": "IDENTIFICACION               object\nIDENTIFICACION TAXONOMICA    object\nNOMBRE CIENTIFICO            object\nCLASIFICACION SUPERIOR       object\nREINO                        object\nFILO                         object\nCLASE                        object\nORDEN                        object\nFAMILIA                      object\nGENERO                       object\nEPITETO ESPECIFICO           object\nEPITETO INFRAESPECIFICO      object\nRANGO DE TAXON               object\nNOMBRE CIENTIFICO 1          object\nNOMBRE VERNACULO             object\nCODIGO NOMENCLATURA          object\nESTADO TAXONOMICO            object\nTAXON OBSERVACIONES          object\nLENGUAJE                     object\nESTADO DE AMENAZA            object\ndtype: object"
     },
     "execution_count": 92,
     "metadata": {},
     "output_type": "execute_result"
    }
   ],
   "source": [
    "endangeredSpecies.dtypes"
   ],
   "metadata": {
    "collapsed": false,
    "ExecuteTime": {
     "end_time": "2024-04-18T16:32:03.877233400Z",
     "start_time": "2024-04-18T16:32:03.046066100Z"
    }
   },
   "id": "bfcb21c9984c3c38"
  },
  {
   "cell_type": "code",
   "execution_count": 93,
   "outputs": [
    {
     "data": {
      "text/plain": "                  IDENTIFICACION IDENTIFICACION TAXONOMICA  \\\ncount                       2103                      2103   \nunique                      2103                      2103   \ntop     gbif.org/species/3548724  gbif.org/species/3548724   \nfreq                           1                         1   \n\n          NOMBRE CIENTIFICO  \\\ncount                  2103   \nunique                 2103   \ntop     Arthonia obscurella   \nfreq                      1   \n\n                                   CLASIFICACION SUPERIOR    REINO  \\\ncount                                                2103     2103   \nunique                                                739        3   \ntop     Animalia | Chordata | Vertebrata | Amphibia | ...  Plantae   \nfreq                                                  110     1263   \n\n                FILO          CLASE  ORDEN      FAMILIA        GENERO  \\\ncount           2103           2103   2103         2103          2103   \nunique            10             26    130          326           731   \ntop     Tracheophyta  Magnoliopsida  Anura  Orchidaceae  Pristimantis   \nfreq            1205           1141    279          253           110   \n\n       EPITETO ESPECIFICO EPITETO INFRAESPECIFICO RANGO DE TAXON  \\\ncount                2103                      34           2103   \nunique               1790                      34              3   \ntop            colombiana                    nana        Especie   \nfreq                   16                       1           2069   \n\n       NOMBRE CIENTIFICO 1 NOMBRE VERNACULO CODIGO NOMENCLATURA  \\\ncount                 2088              867                2103   \nunique                1119              792                   2   \ntop               Cuatrec.    Rana arlequín                 ICN   \nfreq                    92               33                1344   \n\n       ESTADO TAXONOMICO                                TAXON OBSERVACIONES  \\\ncount               2103                                               2103   \nunique                 4                                               2103   \ntop             Aceptado  Nombre original validado: Arthonia obscurella ...   \nfreq                1309                                                  1   \n\n       LENGUAJE ESTADO DE AMENAZA  \ncount      2103              2103  \nunique        1                 3  \ntop          es                VU  \nfreq       2103               837  ",
      "text/html": "<div>\n<style scoped>\n    .dataframe tbody tr th:only-of-type {\n        vertical-align: middle;\n    }\n\n    .dataframe tbody tr th {\n        vertical-align: top;\n    }\n\n    .dataframe thead th {\n        text-align: right;\n    }\n</style>\n<table border=\"1\" class=\"dataframe\">\n  <thead>\n    <tr style=\"text-align: right;\">\n      <th></th>\n      <th>IDENTIFICACION</th>\n      <th>IDENTIFICACION TAXONOMICA</th>\n      <th>NOMBRE CIENTIFICO</th>\n      <th>CLASIFICACION SUPERIOR</th>\n      <th>REINO</th>\n      <th>FILO</th>\n      <th>CLASE</th>\n      <th>ORDEN</th>\n      <th>FAMILIA</th>\n      <th>GENERO</th>\n      <th>EPITETO ESPECIFICO</th>\n      <th>EPITETO INFRAESPECIFICO</th>\n      <th>RANGO DE TAXON</th>\n      <th>NOMBRE CIENTIFICO 1</th>\n      <th>NOMBRE VERNACULO</th>\n      <th>CODIGO NOMENCLATURA</th>\n      <th>ESTADO TAXONOMICO</th>\n      <th>TAXON OBSERVACIONES</th>\n      <th>LENGUAJE</th>\n      <th>ESTADO DE AMENAZA</th>\n    </tr>\n  </thead>\n  <tbody>\n    <tr>\n      <th>count</th>\n      <td>2103</td>\n      <td>2103</td>\n      <td>2103</td>\n      <td>2103</td>\n      <td>2103</td>\n      <td>2103</td>\n      <td>2103</td>\n      <td>2103</td>\n      <td>2103</td>\n      <td>2103</td>\n      <td>2103</td>\n      <td>34</td>\n      <td>2103</td>\n      <td>2088</td>\n      <td>867</td>\n      <td>2103</td>\n      <td>2103</td>\n      <td>2103</td>\n      <td>2103</td>\n      <td>2103</td>\n    </tr>\n    <tr>\n      <th>unique</th>\n      <td>2103</td>\n      <td>2103</td>\n      <td>2103</td>\n      <td>739</td>\n      <td>3</td>\n      <td>10</td>\n      <td>26</td>\n      <td>130</td>\n      <td>326</td>\n      <td>731</td>\n      <td>1790</td>\n      <td>34</td>\n      <td>3</td>\n      <td>1119</td>\n      <td>792</td>\n      <td>2</td>\n      <td>4</td>\n      <td>2103</td>\n      <td>1</td>\n      <td>3</td>\n    </tr>\n    <tr>\n      <th>top</th>\n      <td>gbif.org/species/3548724</td>\n      <td>gbif.org/species/3548724</td>\n      <td>Arthonia obscurella</td>\n      <td>Animalia | Chordata | Vertebrata | Amphibia | ...</td>\n      <td>Plantae</td>\n      <td>Tracheophyta</td>\n      <td>Magnoliopsida</td>\n      <td>Anura</td>\n      <td>Orchidaceae</td>\n      <td>Pristimantis</td>\n      <td>colombiana</td>\n      <td>nana</td>\n      <td>Especie</td>\n      <td>Cuatrec.</td>\n      <td>Rana arlequín</td>\n      <td>ICN</td>\n      <td>Aceptado</td>\n      <td>Nombre original validado: Arthonia obscurella ...</td>\n      <td>es</td>\n      <td>VU</td>\n    </tr>\n    <tr>\n      <th>freq</th>\n      <td>1</td>\n      <td>1</td>\n      <td>1</td>\n      <td>110</td>\n      <td>1263</td>\n      <td>1205</td>\n      <td>1141</td>\n      <td>279</td>\n      <td>253</td>\n      <td>110</td>\n      <td>16</td>\n      <td>1</td>\n      <td>2069</td>\n      <td>92</td>\n      <td>33</td>\n      <td>1344</td>\n      <td>1309</td>\n      <td>1</td>\n      <td>2103</td>\n      <td>837</td>\n    </tr>\n  </tbody>\n</table>\n</div>"
     },
     "execution_count": 93,
     "metadata": {},
     "output_type": "execute_result"
    }
   ],
   "source": [
    "endangeredSpecies.describe(include='O')"
   ],
   "metadata": {
    "collapsed": false,
    "ExecuteTime": {
     "end_time": "2024-04-18T16:32:03.979958200Z",
     "start_time": "2024-04-18T16:32:03.056040Z"
    }
   },
   "id": "45dafbaec1cf2d6a"
  },
  {
   "cell_type": "code",
   "execution_count": 94,
   "outputs": [
    {
     "data": {
      "text/plain": "False    2103\nName: NOMBRE CIENTIFICO, dtype: int64"
     },
     "execution_count": 94,
     "metadata": {},
     "output_type": "execute_result"
    }
   ],
   "source": [
    "endangeredSpecies['NOMBRE CIENTIFICO'].duplicated().value_counts()"
   ],
   "metadata": {
    "collapsed": false,
    "ExecuteTime": {
     "end_time": "2024-04-18T16:32:03.980955900Z",
     "start_time": "2024-04-18T16:32:03.104136800Z"
    }
   },
   "id": "65a98bf050f89b99"
  },
  {
   "cell_type": "code",
   "execution_count": 95,
   "outputs": [
    {
     "data": {
      "text/plain": "IDENTIFICACION                  0\nIDENTIFICACION TAXONOMICA       0\nNOMBRE CIENTIFICO               0\nCLASIFICACION SUPERIOR          0\nREINO                           0\nFILO                            0\nCLASE                           0\nORDEN                           0\nFAMILIA                         0\nGENERO                          0\nEPITETO ESPECIFICO              0\nEPITETO INFRAESPECIFICO      2069\nRANGO DE TAXON                  0\nNOMBRE CIENTIFICO 1            15\nNOMBRE VERNACULO             1236\nCODIGO NOMENCLATURA             0\nESTADO TAXONOMICO               0\nTAXON OBSERVACIONES             0\nLENGUAJE                        0\nESTADO DE AMENAZA               0\ndtype: int64"
     },
     "execution_count": 95,
     "metadata": {},
     "output_type": "execute_result"
    }
   ],
   "source": [
    "endangeredSpecies.isnull().sum()"
   ],
   "metadata": {
    "collapsed": false,
    "ExecuteTime": {
     "end_time": "2024-04-18T16:32:04.035288600Z",
     "start_time": "2024-04-18T16:32:03.118269Z"
    }
   },
   "id": "94523671d2a7fada"
  },
  {
   "cell_type": "code",
   "execution_count": 96,
   "outputs": [
    {
     "name": "stdout",
     "output_type": "stream",
     "text": [
      "(2103, 20)\n"
     ]
    }
   ],
   "source": [
    "print(endangeredSpecies.shape)"
   ],
   "metadata": {
    "collapsed": false,
    "ExecuteTime": {
     "end_time": "2024-04-18T16:32:04.036148400Z",
     "start_time": "2024-04-18T16:32:03.133445900Z"
    }
   },
   "id": "bd598c7bc6ac3af0"
  },
  {
   "cell_type": "code",
   "execution_count": 97,
   "outputs": [
    {
     "data": {
      "text/plain": "array(['Arthoniomycetes', 'Lecanoromycetes', 'Dothideomycetes',\n       'Agaricomycetes', 'Bryopsida', 'Sphagnopsida', 'Jungermanniopsida',\n       'Marchantiopsida', 'Polypodiopsida', 'Pinopsida', 'Magnoliopsida',\n       'Anthozoa', 'Arachnida', 'Malacostraca', 'Insecta', 'Bivalvia',\n       'Gastropoda', 'Holothuroidea', 'Ophiuroidea', 'Elasmobranchii',\n       'Actinopterygii', 'Amphibia', 'Reptilia', 'Aves', 'Mammalia',\n       'Liliopsida'], dtype=object)"
     },
     "execution_count": 97,
     "metadata": {},
     "output_type": "execute_result"
    }
   ],
   "source": [
    "endangeredSpecies[\"CLASE\"].unique()"
   ],
   "metadata": {
    "collapsed": false,
    "ExecuteTime": {
     "end_time": "2024-04-18T16:32:04.038141300Z",
     "start_time": "2024-04-18T16:32:03.149077600Z"
    }
   },
   "id": "cdcedc32184b3e0a"
  },
  {
   "cell_type": "markdown",
   "source": [
    "## Estado de Amenaza"
   ],
   "metadata": {
    "collapsed": false
   },
   "id": "fc8af80a81cf805a"
  },
  {
   "cell_type": "code",
   "execution_count": 98,
   "outputs": [
    {
     "data": {
      "image/png": "[encoded data removed]",
      "text/plain": "<IPython.core.display.Image object>"
     },
     "execution_count": 98,
     "metadata": {},
     "output_type": "execute_result"
    }
   ],
   "source": [
    "Image(\"1024px-Status_iucn3.1_ES.png\")"
   ],
   "metadata": {
    "collapsed": false,
    "ExecuteTime": {
     "end_time": "2024-04-18T16:32:04.039141300Z",
     "start_time": "2024-04-18T16:32:03.156375800Z"
    }
   },
   "id": "898cf4d7004b52a2"
  },
  {
   "cell_type": "code",
   "execution_count": 99,
   "outputs": [
    {
     "data": {
      "text/plain": "VU    837\nEN    801\nCR    465\nName: ESTADO DE AMENAZA, dtype: int64"
     },
     "execution_count": 99,
     "metadata": {},
     "output_type": "execute_result"
    }
   ],
   "source": [
    "endangeredSpecies[\"ESTADO DE AMENAZA\"].value_counts()"
   ],
   "metadata": {
    "collapsed": false,
    "ExecuteTime": {
     "end_time": "2024-04-18T16:32:04.040150Z",
     "start_time": "2024-04-18T16:32:03.171039100Z"
    }
   },
   "id": "a599872d9879e67c"
  },
  {
   "cell_type": "markdown",
   "source": [
    "_Vulnerable_ (VU): Vulnerable\n",
    "_Endangered_ (EN): En peligro\n",
    "_Critically_ (CR): En peligro crítico"
   ],
   "metadata": {
    "collapsed": false
   },
   "id": "9b0741d90af56752"
  },
  {
   "cell_type": "code",
   "execution_count": 100,
   "outputs": [
    {
     "data": {
      "text/plain": "Pristimantis        110\nMasdevallia          80\nSalvia               53\nDracula              46\nEspeletia            39\n                   ... \nAcanthocladus         1\nZapoteca              1\nPseudopiptadenia      1\nPrioria               1\nOdocoileus            1\nName: GENERO, Length: 731, dtype: int64"
     },
     "execution_count": 100,
     "metadata": {},
     "output_type": "execute_result"
    }
   ],
   "source": [
    "endangeredSpecies[\"GENERO\"].value_counts()"
   ],
   "metadata": {
    "collapsed": false,
    "ExecuteTime": {
     "end_time": "2024-04-18T16:32:04.040150Z",
     "start_time": "2024-04-18T16:32:03.180131400Z"
    }
   },
   "id": "38e00251445c50a9"
  },
  {
   "cell_type": "code",
   "execution_count": 101,
   "outputs": [
    {
     "data": {
      "text/plain": "array(['Especie', 'Subespecie', 'Variedad'], dtype=object)"
     },
     "execution_count": 101,
     "metadata": {},
     "output_type": "execute_result"
    }
   ],
   "source": [
    "endangeredSpecies[\"RANGO DE TAXON\"].unique()"
   ],
   "metadata": {
    "collapsed": false,
    "ExecuteTime": {
     "end_time": "2024-04-18T16:32:04.042129Z",
     "start_time": "2024-04-18T16:32:03.194588400Z"
    }
   },
   "id": "4a679372afd1a4ea"
  },
  {
   "cell_type": "markdown",
   "source": [
    "# ¿Cuántas especies por Reino se encuetran en \"Estado de Amenaza\"?"
   ],
   "metadata": {
    "collapsed": false
   },
   "id": "8df6b8308ed68106"
  },
  {
   "cell_type": "code",
   "execution_count": 102,
   "outputs": [
    {
     "data": {
      "text/plain": "<Figure size 1000x600 with 1 Axes>",
      "image/png": "[encoded data removed]"
     },
     "metadata": {},
     "output_type": "display_data"
    }
   ],
   "source": [
    "plt.figure(figsize=(10, 6))\n",
    "sns.countplot(data=endangeredSpecies, x='REINO', palette='icefire')\n",
    "plt.xlabel(\"Kingdoms\")\n",
    "plt.ylabel(\"Frequency\")\n",
    "plt.title(\"Frequency of Kingdoms\")\n",
    "plt.show()"
   ],
   "metadata": {
    "collapsed": false,
    "ExecuteTime": {
     "end_time": "2024-04-18T16:32:04.045226900Z",
     "start_time": "2024-04-18T16:32:03.205496900Z"
    }
   },
   "id": "581baf537e493d83"
  },
  {
   "cell_type": "code",
   "execution_count": 103,
   "outputs": [
    {
     "data": {
      "text/plain": "Plantae     1263\nAnimalia     759\nFungi         81\nName: REINO, dtype: int64"
     },
     "execution_count": 103,
     "metadata": {},
     "output_type": "execute_result"
    }
   ],
   "source": [
    "kingdomCounts = endangeredSpecies[\"REINO\"].value_counts()\n",
    "kingdomCounts"
   ],
   "metadata": {
    "collapsed": false,
    "ExecuteTime": {
     "end_time": "2024-04-18T16:32:04.046118700Z",
     "start_time": "2024-04-18T16:32:03.532836200Z"
    }
   },
   "id": "ae7f9ffb69fbb4cc"
  },
  {
   "cell_type": "code",
   "execution_count": 104,
   "outputs": [
    {
     "data": {
      "text/plain": "<Figure size 1000x600 with 1 Axes>",
      "image/png": "[encoded data removed]"
     },
     "metadata": {},
     "output_type": "display_data"
    }
   ],
   "source": [
    "color_palette = sns.color_palette(\"icefire\")\n",
    "fig, ax = plt.subplots(figsize=(10, 6))\n",
    "kingdomCounts.plot(kind='barh', rot=0, ax=ax, color=color_palette, width=0.75)\n",
    "ax.set_title('Endangered Species by Kingdom', fontsize=15)\n",
    "ax.set_xlabel('Species', fontsize=12)\n",
    "ax.set_ylabel('Kingdom', fontsize=12)\n",
    "ax.grid(True, which='major', linestyle='--', linewidth='0.5', color='gray')\n",
    "ax.tick_params(axis='both', which='major', labelsize=10)\n",
    "\n",
    "for i in ax.patches:\n",
    "    ax.text(i.get_width() + .3, i.get_y() + .18, str(round(i.get_width(), 2)), fontsize=10, color='dimgrey')\n",
    "\n",
    "plt.show()"
   ],
   "metadata": {
    "collapsed": false,
    "ExecuteTime": {
     "end_time": "2024-04-18T16:32:04.776175800Z",
     "start_time": "2024-04-18T16:32:03.552785700Z"
    }
   },
   "id": "33db93ffaf911ce4"
  },
  {
   "cell_type": "markdown",
   "source": [
    "# Para cada uno de los reinos, ¿en qué categoría de \"Estado de Amenaza\" se encuentran las especies?"
   ],
   "metadata": {
    "collapsed": false
   },
   "id": "1a26a615c7394ed5"
  },
  {
   "cell_type": "code",
   "execution_count": 105,
   "outputs": [
    {
     "data": {
      "text/plain": "      REINO ESTADO DE AMENAZA    0\n0  Animalia                CR  125\n1  Animalia                EN  276\n2  Animalia                VU  358\n3     Fungi                CR   53\n4     Fungi                EN   18\n5     Fungi                VU   10\n6   Plantae                CR  287\n7   Plantae                EN  507\n8   Plantae                VU  469",
      "text/html": "<div>\n<style scoped>\n    .dataframe tbody tr th:only-of-type {\n        vertical-align: middle;\n    }\n\n    .dataframe tbody tr th {\n        vertical-align: top;\n    }\n\n    .dataframe thead th {\n        text-align: right;\n    }\n</style>\n<table border=\"1\" class=\"dataframe\">\n  <thead>\n    <tr style=\"text-align: right;\">\n      <th></th>\n      <th>REINO</th>\n      <th>ESTADO DE AMENAZA</th>\n      <th>0</th>\n    </tr>\n  </thead>\n  <tbody>\n    <tr>\n      <th>0</th>\n      <td>Animalia</td>\n      <td>CR</td>\n      <td>125</td>\n    </tr>\n    <tr>\n      <th>1</th>\n      <td>Animalia</td>\n      <td>EN</td>\n      <td>276</td>\n    </tr>\n    <tr>\n      <th>2</th>\n      <td>Animalia</td>\n      <td>VU</td>\n      <td>358</td>\n    </tr>\n    <tr>\n      <th>3</th>\n      <td>Fungi</td>\n      <td>CR</td>\n      <td>53</td>\n    </tr>\n    <tr>\n      <th>4</th>\n      <td>Fungi</td>\n      <td>EN</td>\n      <td>18</td>\n    </tr>\n    <tr>\n      <th>5</th>\n      <td>Fungi</td>\n      <td>VU</td>\n      <td>10</td>\n    </tr>\n    <tr>\n      <th>6</th>\n      <td>Plantae</td>\n      <td>CR</td>\n      <td>287</td>\n    </tr>\n    <tr>\n      <th>7</th>\n      <td>Plantae</td>\n      <td>EN</td>\n      <td>507</td>\n    </tr>\n    <tr>\n      <th>8</th>\n      <td>Plantae</td>\n      <td>VU</td>\n      <td>469</td>\n    </tr>\n  </tbody>\n</table>\n</div>"
     },
     "execution_count": 105,
     "metadata": {},
     "output_type": "execute_result"
    }
   ],
   "source": [
    "kingdomCountsByStatus = endangeredSpecies.groupby([\"REINO\", \"ESTADO DE AMENAZA\"]).size().reset_index()\n",
    "kingdomCountsByStatus"
   ],
   "metadata": {
    "collapsed": false,
    "ExecuteTime": {
     "end_time": "2024-04-18T16:32:04.778169Z",
     "start_time": "2024-04-18T16:32:04.151793800Z"
    }
   },
   "id": "432dead2811d2b37"
  },
  {
   "cell_type": "code",
   "execution_count": 106,
   "outputs": [
    {
     "data": {
      "application/vnd.plotly.v1+json": {
       "data": [
        {
         "alignmentgroup": "True",
         "hovertemplate": "<b>%{x}</b><br>%{y}",
         "legendgroup": "CR",
         "marker": {
          "color": "#636efa",
          "pattern": {
           "shape": ""
          }
         },
         "name": "CR",
         "offsetgroup": "CR",
         "orientation": "v",
         "showlegend": true,
         "textposition": "auto",
         "x": [
          "Animalia",
          "Fungi",
          "Plantae"
         ],
         "xaxis": "x",
         "y": [
          125,
          53,
          287
         ],
         "yaxis": "y",
         "type": "bar"
        },
        {
         "alignmentgroup": "True",
         "hovertemplate": "<b>%{x}</b><br>%{y}",
         "legendgroup": "EN",
         "marker": {
          "color": "#EF553B",
          "pattern": {
           "shape": ""
          }
         },
         "name": "EN",
         "offsetgroup": "EN",
         "orientation": "v",
         "showlegend": true,
         "textposition": "auto",
         "x": [
          "Animalia",
          "Fungi",
          "Plantae"
         ],
         "xaxis": "x",
         "y": [
          276,
          18,
          507
         ],
         "yaxis": "y",
         "type": "bar"
        },
        {
         "alignmentgroup": "True",
         "hovertemplate": "<b>%{x}</b><br>%{y}",
         "legendgroup": "VU",
         "marker": {
          "color": "#00cc96",
          "pattern": {
           "shape": ""
          }
         },
         "name": "VU",
         "offsetgroup": "VU",
         "orientation": "v",
         "showlegend": true,
         "textposition": "auto",
         "x": [
          "Animalia",
          "Fungi",
          "Plantae"
         ],
         "xaxis": "x",
         "y": [
          358,
          10,
          469
         ],
         "yaxis": "y",
         "type": "bar"
        }
       ],
       "layout": {
        "template": {
         "data": {
          "histogram2dcontour": [
           {
            "type": "histogram2dcontour",
            "colorbar": {
             "outlinewidth": 0,
             "ticks": ""
            },
            "colorscale": [
             [
              0.0,
              "#0d0887"
             ],
             [
              0.1111111111111111,
              "#46039f"
             ],
             [
              0.2222222222222222,
              "#7201a8"
             ],
             [
              0.3333333333333333,
              "#9c179e"
             ],
             [
              0.4444444444444444,
              "#bd3786"
             ],
             [
              0.5555555555555556,
              "#d8576b"
             ],
             [
              0.6666666666666666,
              "#ed7953"
             ],
             [
              0.7777777777777778,
              "#fb9f3a"
             ],
             [
              0.8888888888888888,
              "#fdca26"
             ],
             [
              1.0,
              "#f0f921"
             ]
            ]
           }
          ],
          "choropleth": [
           {
            "type": "choropleth",
            "colorbar": {
             "outlinewidth": 0,
             "ticks": ""
            }
           }
          ],
          "histogram2d": [
           {
            "type": "histogram2d",
            "colorbar": {
             "outlinewidth": 0,
             "ticks": ""
            },
            "colorscale": [
             [
              0.0,
              "#0d0887"
             ],
             [
              0.1111111111111111,
              "#46039f"
             ],
             [
              0.2222222222222222,
              "#7201a8"
             ],
             [
              0.3333333333333333,
              "#9c179e"
             ],
             [
              0.4444444444444444,
              "#bd3786"
             ],
             [
              0.5555555555555556,
              "#d8576b"
             ],
             [
              0.6666666666666666,
              "#ed7953"
             ],
             [
              0.7777777777777778,
              "#fb9f3a"
             ],
             [
              0.8888888888888888,
              "#fdca26"
             ],
             [
              1.0,
              "#f0f921"
             ]
            ]
           }
          ],
          "heatmap": [
           {
            "type": "heatmap",
            "colorbar": {
             "outlinewidth": 0,
             "ticks": ""
            },
            "colorscale": [
             [
              0.0,
              "#0d0887"
             ],
             [
              0.1111111111111111,
              "#46039f"
             ],
             [
              0.2222222222222222,
              "#7201a8"
             ],
             [
              0.3333333333333333,
              "#9c179e"
             ],
             [
              0.4444444444444444,
              "#bd3786"
             ],
             [
              0.5555555555555556,
              "#d8576b"
             ],
             [
              0.6666666666666666,
              "#ed7953"
             ],
             [
              0.7777777777777778,
              "#fb9f3a"
             ],
             [
              0.8888888888888888,
              "#fdca26"
             ],
             [
              1.0,
              "#f0f921"
             ]
            ]
           }
          ],
          "heatmapgl": [
           {
            "type": "heatmapgl",
            "colorbar": {
             "outlinewidth": 0,
             "ticks": ""
            },
            "colorscale": [
             [
              0.0,
              "#0d0887"
             ],
             [
              0.1111111111111111,
              "#46039f"
             ],
             [
              0.2222222222222222,
              "#7201a8"
             ],
             [
              0.3333333333333333,
              "#9c179e"
             ],
             [
              0.4444444444444444,
              "#bd3786"
             ],
             [
              0.5555555555555556,
              "#d8576b"
             ],
             [
              0.6666666666666666,
              "#ed7953"
             ],
             [
              0.7777777777777778,
              "#fb9f3a"
             ],
             [
              0.8888888888888888,
              "#fdca26"
             ],
             [
              1.0,
              "#f0f921"
             ]
            ]
           }
          ],
          "contourcarpet": [
           {
            "type": "contourcarpet",
            "colorbar": {
             "outlinewidth": 0,
             "ticks": ""
            }
           }
          ],
          "contour": [
           {
            "type": "contour",
            "colorbar": {
             "outlinewidth": 0,
             "ticks": ""
            },
            "colorscale": [
             [
              0.0,
              "#0d0887"
             ],
             [
              0.1111111111111111,
              "#46039f"
             ],
             [
              0.2222222222222222,
              "#7201a8"
             ],
             [
              0.3333333333333333,
              "#9c179e"
             ],
             [
              0.4444444444444444,
              "#bd3786"
             ],
             [
              0.5555555555555556,
              "#d8576b"
             ],
             [
              0.6666666666666666,
              "#ed7953"
             ],
             [
              0.7777777777777778,
              "#fb9f3a"
             ],
             [
              0.8888888888888888,
              "#fdca26"
             ],
             [
              1.0,
              "#f0f921"
             ]
            ]
           }
          ],
          "surface": [
           {
            "type": "surface",
            "colorbar": {
             "outlinewidth": 0,
             "ticks": ""
            },
            "colorscale": [
             [
              0.0,
              "#0d0887"
             ],
             [
              0.1111111111111111,
              "#46039f"
             ],
             [
              0.2222222222222222,
              "#7201a8"
             ],
             [
              0.3333333333333333,
              "#9c179e"
             ],
             [
              0.4444444444444444,
              "#bd3786"
             ],
             [
              0.5555555555555556,
              "#d8576b"
             ],
             [
              0.6666666666666666,
              "#ed7953"
             ],
             [
              0.7777777777777778,
              "#fb9f3a"
             ],
             [
              0.8888888888888888,
              "#fdca26"
             ],
             [
              1.0,
              "#f0f921"
             ]
            ]
           }
          ],
          "mesh3d": [
           {
            "type": "mesh3d",
            "colorbar": {
             "outlinewidth": 0,
             "ticks": ""
            }
           }
          ],
          "scatter": [
           {
            "marker": {
             "line": {
              "color": "#283442"
             }
            },
            "type": "scatter"
           }
          ],
          "parcoords": [
           {
            "type": "parcoords",
            "line": {
             "colorbar": {
              "outlinewidth": 0,
              "ticks": ""
             }
            }
           }
          ],
          "scatterpolargl": [
           {
            "type": "scatterpolargl",
            "marker": {
             "colorbar": {
              "outlinewidth": 0,
              "ticks": ""
             }
            }
           }
          ],
          "bar": [
           {
            "error_x": {
             "color": "#f2f5fa"
            },
            "error_y": {
             "color": "#f2f5fa"
            },
            "marker": {
             "line": {
              "color": "rgb(17,17,17)",
              "width": 0.5
             },
             "pattern": {
              "fillmode": "overlay",
              "size": 10,
              "solidity": 0.2
             }
            },
            "type": "bar"
           }
          ],
          "scattergeo": [
           {
            "type": "scattergeo",
            "marker": {
             "colorbar": {
              "outlinewidth": 0,
              "ticks": ""
             }
            }
           }
          ],
          "scatterpolar": [
           {
            "type": "scatterpolar",
            "marker": {
             "colorbar": {
              "outlinewidth": 0,
              "ticks": ""
             }
            }
           }
          ],
          "histogram": [
           {
            "marker": {
             "pattern": {
              "fillmode": "overlay",
              "size": 10,
              "solidity": 0.2
             }
            },
            "type": "histogram"
           }
          ],
          "scattergl": [
           {
            "marker": {
             "line": {
              "color": "#283442"
             }
            },
            "type": "scattergl"
           }
          ],
          "scatter3d": [
           {
            "type": "scatter3d",
            "line": {
             "colorbar": {
              "outlinewidth": 0,
              "ticks": ""
             }
            },
            "marker": {
             "colorbar": {
              "outlinewidth": 0,
              "ticks": ""
             }
            }
           }
          ],
          "scattermapbox": [
           {
            "type": "scattermapbox",
            "marker": {
             "colorbar": {
              "outlinewidth": 0,
              "ticks": ""
             }
            }
           }
          ],
          "scatterternary": [
           {
            "type": "scatterternary",
            "marker": {
             "colorbar": {
              "outlinewidth": 0,
              "ticks": ""
             }
            }
           }
          ],
          "scattercarpet": [
           {
            "type": "scattercarpet",
            "marker": {
             "colorbar": {
              "outlinewidth": 0,
              "ticks": ""
             }
            }
           }
          ],
          "carpet": [
           {
            "aaxis": {
             "endlinecolor": "#A2B1C6",
             "gridcolor": "#506784",
             "linecolor": "#506784",
             "minorgridcolor": "#506784",
             "startlinecolor": "#A2B1C6"
            },
            "baxis": {
             "endlinecolor": "#A2B1C6",
             "gridcolor": "#506784",
             "linecolor": "#506784",
             "minorgridcolor": "#506784",
             "startlinecolor": "#A2B1C6"
            },
            "type": "carpet"
           }
          ],
          "table": [
           {
            "cells": {
             "fill": {
              "color": "#506784"
             },
             "line": {
              "color": "rgb(17,17,17)"
             }
            },
            "header": {
             "fill": {
              "color": "#2a3f5f"
             },
             "line": {
              "color": "rgb(17,17,17)"
             }
            },
            "type": "table"
           }
          ],
          "barpolar": [
           {
            "marker": {
             "line": {
              "color": "rgb(17,17,17)",
              "width": 0.5
             },
             "pattern": {
              "fillmode": "overlay",
              "size": 10,
              "solidity": 0.2
             }
            },
            "type": "barpolar"
           }
          ],
          "pie": [
           {
            "automargin": true,
            "type": "pie"
           }
          ]
         },
         "layout": {
          "autotypenumbers": "strict",
          "colorway": [
           "#636efa",
           "#EF553B",
           "#00cc96",
           "#ab63fa",
           "#FFA15A",
           "#19d3f3",
           "#FF6692",
           "#B6E880",
           "#FF97FF",
           "#FECB52"
          ],
          "font": {
           "color": "#f2f5fa"
          },
          "hovermode": "closest",
          "hoverlabel": {
           "align": "left"
          },
          "paper_bgcolor": "rgb(17,17,17)",
          "plot_bgcolor": "rgb(17,17,17)",
          "polar": {
           "bgcolor": "rgb(17,17,17)",
           "angularaxis": {
            "gridcolor": "#506784",
            "linecolor": "#506784",
            "ticks": ""
           },
           "radialaxis": {
            "gridcolor": "#506784",
            "linecolor": "#506784",
            "ticks": ""
           }
          },
          "ternary": {
           "bgcolor": "rgb(17,17,17)",
           "aaxis": {
            "gridcolor": "#506784",
            "linecolor": "#506784",
            "ticks": ""
           },
           "baxis": {
            "gridcolor": "#506784",
            "linecolor": "#506784",
            "ticks": ""
           },
           "caxis": {
            "gridcolor": "#506784",
            "linecolor": "#506784",
            "ticks": ""
           }
          },
          "coloraxis": {
           "colorbar": {
            "outlinewidth": 0,
            "ticks": ""
           }
          },
          "colorscale": {
           "sequential": [
            [
             0.0,
             "#0d0887"
            ],
            [
             0.1111111111111111,
             "#46039f"
            ],
            [
             0.2222222222222222,
             "#7201a8"
            ],
            [
             0.3333333333333333,
             "#9c179e"
            ],
            [
             0.4444444444444444,
             "#bd3786"
            ],
            [
             0.5555555555555556,
             "#d8576b"
            ],
            [
             0.6666666666666666,
             "#ed7953"
            ],
            [
             0.7777777777777778,
             "#fb9f3a"
            ],
            [
             0.8888888888888888,
             "#fdca26"
            ],
            [
             1.0,
             "#f0f921"
            ]
           ],
           "sequentialminus": [
            [
             0.0,
             "#0d0887"
            ],
            [
             0.1111111111111111,
             "#46039f"
            ],
            [
             0.2222222222222222,
             "#7201a8"
            ],
            [
             0.3333333333333333,
             "#9c179e"
            ],
            [
             0.4444444444444444,
             "#bd3786"
            ],
            [
             0.5555555555555556,
             "#d8576b"
            ],
            [
             0.6666666666666666,
             "#ed7953"
            ],
            [
             0.7777777777777778,
             "#fb9f3a"
            ],
            [
             0.8888888888888888,
             "#fdca26"
            ],
            [
             1.0,
             "#f0f921"
            ]
           ],
           "diverging": [
            [
             0,
             "#8e0152"
            ],
            [
             0.1,
             "#c51b7d"
            ],
            [
             0.2,
             "#de77ae"
            ],
            [
             0.3,
             "#f1b6da"
            ],
            [
             0.4,
             "#fde0ef"
            ],
            [
             0.5,
             "#f7f7f7"
            ],
            [
             0.6,
             "#e6f5d0"
            ],
            [
             0.7,
             "#b8e186"
            ],
            [
             0.8,
             "#7fbc41"
            ],
            [
             0.9,
             "#4d9221"
            ],
            [
             1,
             "#276419"
            ]
           ]
          },
          "xaxis": {
           "gridcolor": "#283442",
           "linecolor": "#506784",
           "ticks": "",
           "title": {
            "standoff": 15
           },
           "zerolinecolor": "#283442",
           "automargin": true,
           "zerolinewidth": 2
          },
          "yaxis": {
           "gridcolor": "#283442",
           "linecolor": "#506784",
           "ticks": "",
           "title": {
            "standoff": 15
           },
           "zerolinecolor": "#283442",
           "automargin": true,
           "zerolinewidth": 2
          },
          "scene": {
           "xaxis": {
            "backgroundcolor": "rgb(17,17,17)",
            "gridcolor": "#506784",
            "linecolor": "#506784",
            "showbackground": true,
            "ticks": "",
            "zerolinecolor": "#C8D4E3",
            "gridwidth": 2
           },
           "yaxis": {
            "backgroundcolor": "rgb(17,17,17)",
            "gridcolor": "#506784",
            "linecolor": "#506784",
            "showbackground": true,
            "ticks": "",
            "zerolinecolor": "#C8D4E3",
            "gridwidth": 2
           },
           "zaxis": {
            "backgroundcolor": "rgb(17,17,17)",
            "gridcolor": "#506784",
            "linecolor": "#506784",
            "showbackground": true,
            "ticks": "",
            "zerolinecolor": "#C8D4E3",
            "gridwidth": 2
           }
          },
          "shapedefaults": {
           "line": {
            "color": "#f2f5fa"
           }
          },
          "annotationdefaults": {
           "arrowcolor": "#f2f5fa",
           "arrowhead": 0,
           "arrowwidth": 1
          },
          "geo": {
           "bgcolor": "rgb(17,17,17)",
           "landcolor": "rgb(17,17,17)",
           "subunitcolor": "#506784",
           "showland": true,
           "showlakes": true,
           "lakecolor": "rgb(17,17,17)"
          },
          "title": {
           "x": 0.05
          },
          "updatemenudefaults": {
           "bgcolor": "#506784",
           "borderwidth": 0
          },
          "sliderdefaults": {
           "bgcolor": "#C8D4E3",
           "borderwidth": 1,
           "bordercolor": "rgb(17,17,17)",
           "tickwidth": 0
          },
          "mapbox": {
           "style": "dark"
          }
         }
        },
        "xaxis": {
         "anchor": "y",
         "domain": [
          0.0,
          1.0
         ],
         "title": {
          "text": "Kingdom"
         }
        },
        "yaxis": {
         "anchor": "x",
         "domain": [
          0.0,
          1.0
         ],
         "title": {
          "text": "Counts"
         }
        },
        "legend": {
         "title": {
          "text": "Threat Status"
         },
         "tracegroupgap": 0,
         "orientation": "h",
         "yanchor": "bottom",
         "y": 1.02,
         "xanchor": "right",
         "x": 1
        },
        "title": {
         "text": "Threat Status by Kingdom"
        },
        "barmode": "stack",
        "plot_bgcolor": "white"
       },
       "config": {
        "plotlyServerURL": "https://plot.ly"
       }
      },
      "text/html": "<div>                            <div id=\"da8f491d-2233-4a45-a03d-e10176863ea5\" class=\"plotly-graph-div\" style=\"height:525px; width:100%;\"></div>            <script type=\"text/javascript\">                require([\"plotly\"], function(Plotly) {                    window.PLOTLYENV=window.PLOTLYENV || {};                                    if (document.getElementById(\"da8f491d-2233-4a45-a03d-e10176863ea5\")) {                    Plotly.newPlot(                        \"da8f491d-2233-4a45-a03d-e10176863ea5\",                        [{\"alignmentgroup\":\"True\",\"hovertemplate\":\"<b>%{x}</b><br>%{y}\",\"legendgroup\":\"CR\",\"marker\":{\"color\":\"#636efa\",\"pattern\":{\"shape\":\"\"}},\"name\":\"CR\",\"offsetgroup\":\"CR\",\"orientation\":\"v\",\"showlegend\":true,\"textposition\":\"auto\",\"x\":[\"Animalia\",\"Fungi\",\"Plantae\"],\"xaxis\":\"x\",\"y\":[125,53,287],\"yaxis\":\"y\",\"type\":\"bar\"},{\"alignmentgroup\":\"True\",\"hovertemplate\":\"<b>%{x}</b><br>%{y}\",\"legendgroup\":\"EN\",\"marker\":{\"color\":\"#EF553B\",\"pattern\":{\"shape\":\"\"}},\"name\":\"EN\",\"offsetgroup\":\"EN\",\"orientation\":\"v\",\"showlegend\":true,\"textposition\":\"auto\",\"x\":[\"Animalia\",\"Fungi\",\"Plantae\"],\"xaxis\":\"x\",\"y\":[276,18,507],\"yaxis\":\"y\",\"type\":\"bar\"},{\"alignmentgroup\":\"True\",\"hovertemplate\":\"<b>%{x}</b><br>%{y}\",\"legendgroup\":\"VU\",\"marker\":{\"color\":\"#00cc96\",\"pattern\":{\"shape\":\"\"}},\"name\":\"VU\",\"offsetgroup\":\"VU\",\"orientation\":\"v\",\"showlegend\":true,\"textposition\":\"auto\",\"x\":[\"Animalia\",\"Fungi\",\"Plantae\"],\"xaxis\":\"x\",\"y\":[358,10,469],\"yaxis\":\"y\",\"type\":\"bar\"}],                        {\"template\":{\"data\":{\"histogram2dcontour\":[{\"type\":\"histogram2dcontour\",\"colorbar\":{\"outlinewidth\":0,\"ticks\":\"\"},\"colorscale\":[[0.0,\"#0d0887\"],[0.1111111111111111,\"#46039f\"],[0.2222222222222222,\"#7201a8\"],[0.3333333333333333,\"#9c179e\"],[0.4444444444444444,\"#bd3786\"],[0.5555555555555556,\"#d8576b\"],[0.6666666666666666,\"#ed7953\"],[0.7777777777777778,\"#fb9f3a\"],[0.8888888888888888,\"#fdca26\"],[1.0,\"#f0f921\"]]}],\"choropleth\":[{\"type\":\"choropleth\",\"colorbar\":{\"outlinewidth\":0,\"ticks\":\"\"}}],\"histogram2d\":[{\"type\":\"histogram2d\",\"colorbar\":{\"outlinewidth\":0,\"ticks\":\"\"},\"colorscale\":[[0.0,\"#0d0887\"],[0.1111111111111111,\"#46039f\"],[0.2222222222222222,\"#7201a8\"],[0.3333333333333333,\"#9c179e\"],[0.4444444444444444,\"#bd3786\"],[0.5555555555555556,\"#d8576b\"],[0.6666666666666666,\"#ed7953\"],[0.7777777777777778,\"#fb9f3a\"],[0.8888888888888888,\"#fdca26\"],[1.0,\"#f0f921\"]]}],\"heatmap\":[{\"type\":\"heatmap\",\"colorbar\":{\"outlinewidth\":0,\"ticks\":\"\"},\"colorscale\":[[0.0,\"#0d0887\"],[0.1111111111111111,\"#46039f\"],[0.2222222222222222,\"#7201a8\"],[0.3333333333333333,\"#9c179e\"],[0.4444444444444444,\"#bd3786\"],[0.5555555555555556,\"#d8576b\"],[0.6666666666666666,\"#ed7953\"],[0.7777777777777778,\"#fb9f3a\"],[0.8888888888888888,\"#fdca26\"],[1.0,\"#f0f921\"]]}],\"heatmapgl\":[{\"type\":\"heatmapgl\",\"colorbar\":{\"outlinewidth\":0,\"ticks\":\"\"},\"colorscale\":[[0.0,\"#0d0887\"],[0.1111111111111111,\"#46039f\"],[0.2222222222222222,\"#7201a8\"],[0.3333333333333333,\"#9c179e\"],[0.4444444444444444,\"#bd3786\"],[0.5555555555555556,\"#d8576b\"],[0.6666666666666666,\"#ed7953\"],[0.7777777777777778,\"#fb9f3a\"],[0.8888888888888888,\"#fdca26\"],[1.0,\"#f0f921\"]]}],\"contourcarpet\":[{\"type\":\"contourcarpet\",\"colorbar\":{\"outlinewidth\":0,\"ticks\":\"\"}}],\"contour\":[{\"type\":\"contour\",\"colorbar\":{\"outlinewidth\":0,\"ticks\":\"\"},\"colorscale\":[[0.0,\"#0d0887\"],[0.1111111111111111,\"#46039f\"],[0.2222222222222222,\"#7201a8\"],[0.3333333333333333,\"#9c179e\"],[0.4444444444444444,\"#bd3786\"],[0.5555555555555556,\"#d8576b\"],[0.6666666666666666,\"#ed7953\"],[0.7777777777777778,\"#fb9f3a\"],[0.8888888888888888,\"#fdca26\"],[1.0,\"#f0f921\"]]}],\"surface\":[{\"type\":\"surface\",\"colorbar\":{\"outlinewidth\":0,\"ticks\":\"\"},\"colorscale\":[[0.0,\"#0d0887\"],[0.1111111111111111,\"#46039f\"],[0.2222222222222222,\"#7201a8\"],[0.3333333333333333,\"#9c179e\"],[0.4444444444444444,\"#bd3786\"],[0.5555555555555556,\"#d8576b\"],[0.6666666666666666,\"#ed7953\"],[0.7777777777777778,\"#fb9f3a\"],[0.8888888888888888,\"#fdca26\"],[1.0,\"#f0f921\"]]}],\"mesh3d\":[{\"type\":\"mesh3d\",\"colorbar\":{\"outlinewidth\":0,\"ticks\":\"\"}}],\"scatter\":[{\"marker\":{\"line\":{\"color\":\"#283442\"}},\"type\":\"scatter\"}],\"parcoords\":[{\"type\":\"parcoords\",\"line\":{\"colorbar\":{\"outlinewidth\":0,\"ticks\":\"\"}}}],\"scatterpolargl\":[{\"type\":\"scatterpolargl\",\"marker\":{\"colorbar\":{\"outlinewidth\":0,\"ticks\":\"\"}}}],\"bar\":[{\"error_x\":{\"color\":\"#f2f5fa\"},\"error_y\":{\"color\":\"#f2f5fa\"},\"marker\":{\"line\":{\"color\":\"rgb(17,17,17)\",\"width\":0.5},\"pattern\":{\"fillmode\":\"overlay\",\"size\":10,\"solidity\":0.2}},\"type\":\"bar\"}],\"scattergeo\":[{\"type\":\"scattergeo\",\"marker\":{\"colorbar\":{\"outlinewidth\":0,\"ticks\":\"\"}}}],\"scatterpolar\":[{\"type\":\"scatterpolar\",\"marker\":{\"colorbar\":{\"outlinewidth\":0,\"ticks\":\"\"}}}],\"histogram\":[{\"marker\":{\"pattern\":{\"fillmode\":\"overlay\",\"size\":10,\"solidity\":0.2}},\"type\":\"histogram\"}],\"scattergl\":[{\"marker\":{\"line\":{\"color\":\"#283442\"}},\"type\":\"scattergl\"}],\"scatter3d\":[{\"type\":\"scatter3d\",\"line\":{\"colorbar\":{\"outlinewidth\":0,\"ticks\":\"\"}},\"marker\":{\"colorbar\":{\"outlinewidth\":0,\"ticks\":\"\"}}}],\"scattermapbox\":[{\"type\":\"scattermapbox\",\"marker\":{\"colorbar\":{\"outlinewidth\":0,\"ticks\":\"\"}}}],\"scatterternary\":[{\"type\":\"scatterternary\",\"marker\":{\"colorbar\":{\"outlinewidth\":0,\"ticks\":\"\"}}}],\"scattercarpet\":[{\"type\":\"scattercarpet\",\"marker\":{\"colorbar\":{\"outlinewidth\":0,\"ticks\":\"\"}}}],\"carpet\":[{\"aaxis\":{\"endlinecolor\":\"#A2B1C6\",\"gridcolor\":\"#506784\",\"linecolor\":\"#506784\",\"minorgridcolor\":\"#506784\",\"startlinecolor\":\"#A2B1C6\"},\"baxis\":{\"endlinecolor\":\"#A2B1C6\",\"gridcolor\":\"#506784\",\"linecolor\":\"#506784\",\"minorgridcolor\":\"#506784\",\"startlinecolor\":\"#A2B1C6\"},\"type\":\"carpet\"}],\"table\":[{\"cells\":{\"fill\":{\"color\":\"#506784\"},\"line\":{\"color\":\"rgb(17,17,17)\"}},\"header\":{\"fill\":{\"color\":\"#2a3f5f\"},\"line\":{\"color\":\"rgb(17,17,17)\"}},\"type\":\"table\"}],\"barpolar\":[{\"marker\":{\"line\":{\"color\":\"rgb(17,17,17)\",\"width\":0.5},\"pattern\":{\"fillmode\":\"overlay\",\"size\":10,\"solidity\":0.2}},\"type\":\"barpolar\"}],\"pie\":[{\"automargin\":true,\"type\":\"pie\"}]},\"layout\":{\"autotypenumbers\":\"strict\",\"colorway\":[\"#636efa\",\"#EF553B\",\"#00cc96\",\"#ab63fa\",\"#FFA15A\",\"#19d3f3\",\"#FF6692\",\"#B6E880\",\"#FF97FF\",\"#FECB52\"],\"font\":{\"color\":\"#f2f5fa\"},\"hovermode\":\"closest\",\"hoverlabel\":{\"align\":\"left\"},\"paper_bgcolor\":\"rgb(17,17,17)\",\"plot_bgcolor\":\"rgb(17,17,17)\",\"polar\":{\"bgcolor\":\"rgb(17,17,17)\",\"angularaxis\":{\"gridcolor\":\"#506784\",\"linecolor\":\"#506784\",\"ticks\":\"\"},\"radialaxis\":{\"gridcolor\":\"#506784\",\"linecolor\":\"#506784\",\"ticks\":\"\"}},\"ternary\":{\"bgcolor\":\"rgb(17,17,17)\",\"aaxis\":{\"gridcolor\":\"#506784\",\"linecolor\":\"#506784\",\"ticks\":\"\"},\"baxis\":{\"gridcolor\":\"#506784\",\"linecolor\":\"#506784\",\"ticks\":\"\"},\"caxis\":{\"gridcolor\":\"#506784\",\"linecolor\":\"#506784\",\"ticks\":\"\"}},\"coloraxis\":{\"colorbar\":{\"outlinewidth\":0,\"ticks\":\"\"}},\"colorscale\":{\"sequential\":[[0.0,\"#0d0887\"],[0.1111111111111111,\"#46039f\"],[0.2222222222222222,\"#7201a8\"],[0.3333333333333333,\"#9c179e\"],[0.4444444444444444,\"#bd3786\"],[0.5555555555555556,\"#d8576b\"],[0.6666666666666666,\"#ed7953\"],[0.7777777777777778,\"#fb9f3a\"],[0.8888888888888888,\"#fdca26\"],[1.0,\"#f0f921\"]],\"sequentialminus\":[[0.0,\"#0d0887\"],[0.1111111111111111,\"#46039f\"],[0.2222222222222222,\"#7201a8\"],[0.3333333333333333,\"#9c179e\"],[0.4444444444444444,\"#bd3786\"],[0.5555555555555556,\"#d8576b\"],[0.6666666666666666,\"#ed7953\"],[0.7777777777777778,\"#fb9f3a\"],[0.8888888888888888,\"#fdca26\"],[1.0,\"#f0f921\"]],\"diverging\":[[0,\"#8e0152\"],[0.1,\"#c51b7d\"],[0.2,\"#de77ae\"],[0.3,\"#f1b6da\"],[0.4,\"#fde0ef\"],[0.5,\"#f7f7f7\"],[0.6,\"#e6f5d0\"],[0.7,\"#b8e186\"],[0.8,\"#7fbc41\"],[0.9,\"#4d9221\"],[1,\"#276419\"]]},\"xaxis\":{\"gridcolor\":\"#283442\",\"linecolor\":\"#506784\",\"ticks\":\"\",\"title\":{\"standoff\":15},\"zerolinecolor\":\"#283442\",\"automargin\":true,\"zerolinewidth\":2},\"yaxis\":{\"gridcolor\":\"#283442\",\"linecolor\":\"#506784\",\"ticks\":\"\",\"title\":{\"standoff\":15},\"zerolinecolor\":\"#283442\",\"automargin\":true,\"zerolinewidth\":2},\"scene\":{\"xaxis\":{\"backgroundcolor\":\"rgb(17,17,17)\",\"gridcolor\":\"#506784\",\"linecolor\":\"#506784\",\"showbackground\":true,\"ticks\":\"\",\"zerolinecolor\":\"#C8D4E3\",\"gridwidth\":2},\"yaxis\":{\"backgroundcolor\":\"rgb(17,17,17)\",\"gridcolor\":\"#506784\",\"linecolor\":\"#506784\",\"showbackground\":true,\"ticks\":\"\",\"zerolinecolor\":\"#C8D4E3\",\"gridwidth\":2},\"zaxis\":{\"backgroundcolor\":\"rgb(17,17,17)\",\"gridcolor\":\"#506784\",\"linecolor\":\"#506784\",\"showbackground\":true,\"ticks\":\"\",\"zerolinecolor\":\"#C8D4E3\",\"gridwidth\":2}},\"shapedefaults\":{\"line\":{\"color\":\"#f2f5fa\"}},\"annotationdefaults\":{\"arrowcolor\":\"#f2f5fa\",\"arrowhead\":0,\"arrowwidth\":1},\"geo\":{\"bgcolor\":\"rgb(17,17,17)\",\"landcolor\":\"rgb(17,17,17)\",\"subunitcolor\":\"#506784\",\"showland\":true,\"showlakes\":true,\"lakecolor\":\"rgb(17,17,17)\"},\"title\":{\"x\":0.05},\"updatemenudefaults\":{\"bgcolor\":\"#506784\",\"borderwidth\":0},\"sliderdefaults\":{\"bgcolor\":\"#C8D4E3\",\"borderwidth\":1,\"bordercolor\":\"rgb(17,17,17)\",\"tickwidth\":0},\"mapbox\":{\"style\":\"dark\"}}},\"xaxis\":{\"anchor\":\"y\",\"domain\":[0.0,1.0],\"title\":{\"text\":\"Kingdom\"}},\"yaxis\":{\"anchor\":\"x\",\"domain\":[0.0,1.0],\"title\":{\"text\":\"Counts\"}},\"legend\":{\"title\":{\"text\":\"Threat Status\"},\"tracegroupgap\":0,\"orientation\":\"h\",\"yanchor\":\"bottom\",\"y\":1.02,\"xanchor\":\"right\",\"x\":1},\"title\":{\"text\":\"Threat Status by Kingdom\"},\"barmode\":\"stack\",\"plot_bgcolor\":\"white\"},                        {\"responsive\": true}                    ).then(function(){\n                            \nvar gd = document.getElementById('da8f491d-2233-4a45-a03d-e10176863ea5');\nvar x = new MutationObserver(function (mutations, observer) {{\n        var display = window.getComputedStyle(gd).display;\n        if (!display || display === 'none') {{\n            console.log([gd, 'removed!']);\n            Plotly.purge(gd);\n            observer.disconnect();\n        }}\n}});\n\n// Listen for the removal of the full notebook cells\nvar notebookContainer = gd.closest('#notebook-container');\nif (notebookContainer) {{\n    x.observe(notebookContainer, {childList: true});\n}}\n\n// Listen for the clearing of the current output cell\nvar outputEl = gd.closest('.output');\nif (outputEl) {{\n    x.observe(outputEl, {childList: true});\n}}\n\n                        })                };                });            </script>        </div>"
     },
     "metadata": {},
     "output_type": "display_data"
    }
   ],
   "source": [
    "import plotly.express as px\n",
    "\n",
    "pivot_data = kingdomCountsByStatus.pivot_table(index='REINO', columns='ESTADO DE AMENAZA', aggfunc='sum', fill_value=0)\n",
    "pivot_data.columns = pivot_data.columns.droplevel(0)\n",
    "\n",
    "fig = px.bar(pivot_data, title=\"Threat Status by Kingdom\",\n",
    "             labels={\"value\": \"Counts\", \"REINO\": \"Kingdom\"},\n",
    "             orientation='v',\n",
    "             barmode='stack',\n",
    "             #color_discrete_sequence=color_palette\n",
    "             )\n",
    "\n",
    "fig.update_layout(\n",
    "    xaxis_title=\"Kingdom\",\n",
    "    yaxis_title=\"Counts\",\n",
    "    legend_title=\"Threat Status\",\n",
    "    legend=dict(orientation=\"h\", yanchor=\"bottom\", y=1.02, xanchor=\"right\", x=1),\n",
    "    plot_bgcolor='white'\n",
    ")\n",
    "\n",
    "fig.update_traces(hovertemplate=\"<b>%{x}</b><br>%{y}\")\n",
    "\n",
    "fig.show()\n"
   ],
   "metadata": {
    "collapsed": false,
    "ExecuteTime": {
     "end_time": "2024-04-18T16:32:04.779166400Z",
     "start_time": "2024-04-18T16:32:04.179250700Z"
    }
   },
   "id": "52c7482383f925c"
  },
  {
   "cell_type": "code",
   "execution_count": 107,
   "outputs": [
    {
     "data": {
      "text/plain": "<Figure size 1200x800 with 1 Axes>",
      "image/png": "[encoded data removed]"
     },
     "metadata": {},
     "output_type": "display_data"
    }
   ],
   "source": [
    "pivot_data = kingdomCountsByStatus.pivot_table(index='REINO', columns='ESTADO DE AMENAZA', aggfunc='sum', fill_value=0)\n",
    "\n",
    "# Prepare data for plotting\n",
    "categories = pivot_data.columns\n",
    "indices = np.arange(len(pivot_data))\n",
    "\n",
    "# Plotting\n",
    "fig, ax = plt.subplots(figsize=(12, 8))\n",
    "bottom = np.zeros(len(pivot_data))  # Initialize the bottom alignment for the stacks\n",
    "\n",
    "# Stacking bars\n",
    "for i, category in enumerate(categories):\n",
    "    ax.bar(pivot_data.index, pivot_data[category], bottom=bottom, label=str(category), color=color_palette[i])\n",
    "    bottom += pivot_data[category].values  # Update the bottom level for the next stack\n",
    "\n",
    "# Adding customizations\n",
    "ax.set_title('Threat Status by Kingdom', fontsize=16)\n",
    "ax.set_xlabel('Kingdom', fontsize=14)\n",
    "ax.set_ylabel('Counts', fontsize=14)\n",
    "ax.legend(title='Threat Status', bbox_to_anchor=(1.05, 1), loc='upper left')\n",
    "ax.grid(True, which='major', linestyle='--', linewidth=0.5, color='grey')\n",
    "ax.set_axisbelow(True)  # Ensures grid is behind bars\n",
    "\n",
    "# Improve the tick labels for better readability\n",
    "ax.tick_params(axis='both', which='major', labelsize=12)\n",
    "\n",
    "# Optionally add data labels inside the bars for clarity\n",
    "for bar in ax.patches:\n",
    "    # Check if the height is enough to display text inside the bar\n",
    "    height = bar.get_height()\n",
    "    if height > 0:  # Avoid zero-height labels\n",
    "        ax.annotate(f'{int(height)}',\n",
    "                    xy=(bar.get_x() + bar.get_width() / 2, bar.get_y() + height / 2),\n",
    "                    ha='center', va='center', color='white', fontsize=8)\n",
    "\n",
    "plt.show()\n"
   ],
   "metadata": {
    "collapsed": false,
    "ExecuteTime": {
     "end_time": "2024-04-18T16:32:05.335837800Z",
     "start_time": "2024-04-18T16:32:04.368824800Z"
    }
   },
   "id": "51201c1bd72e1eed"
  },
  {
   "cell_type": "markdown",
   "source": [
    "## Por porcentajes..."
   ],
   "metadata": {
    "collapsed": false
   },
   "id": "1458057ac1470950"
  },
  {
   "cell_type": "code",
   "execution_count": 108,
   "outputs": [
    {
     "data": {
      "text/plain": "ESTADO DE AMENAZA   CR   EN   VU\nREINO                           \nAnimalia           125  276  358\nFungi               53   18   10\nPlantae            287  507  469",
      "text/html": "<div>\n<style scoped>\n    .dataframe tbody tr th:only-of-type {\n        vertical-align: middle;\n    }\n\n    .dataframe tbody tr th {\n        vertical-align: top;\n    }\n\n    .dataframe thead th {\n        text-align: right;\n    }\n</style>\n<table border=\"1\" class=\"dataframe\">\n  <thead>\n    <tr style=\"text-align: right;\">\n      <th>ESTADO DE AMENAZA</th>\n      <th>CR</th>\n      <th>EN</th>\n      <th>VU</th>\n    </tr>\n    <tr>\n      <th>REINO</th>\n      <th></th>\n      <th></th>\n      <th></th>\n    </tr>\n  </thead>\n  <tbody>\n    <tr>\n      <th>Animalia</th>\n      <td>125</td>\n      <td>276</td>\n      <td>358</td>\n    </tr>\n    <tr>\n      <th>Fungi</th>\n      <td>53</td>\n      <td>18</td>\n      <td>10</td>\n    </tr>\n    <tr>\n      <th>Plantae</th>\n      <td>287</td>\n      <td>507</td>\n      <td>469</td>\n    </tr>\n  </tbody>\n</table>\n</div>"
     },
     "execution_count": 108,
     "metadata": {},
     "output_type": "execute_result"
    }
   ],
   "source": [
    "crosstable = pd.crosstab(endangeredSpecies['REINO'], endangeredSpecies['ESTADO DE AMENAZA'])\n",
    "crosstable"
   ],
   "metadata": {
    "collapsed": false,
    "ExecuteTime": {
     "end_time": "2024-04-18T16:32:05.335960300Z",
     "start_time": "2024-04-18T16:32:05.024876400Z"
    }
   },
   "id": "31ef9ead02602ac9"
  },
  {
   "cell_type": "code",
   "execution_count": 109,
   "outputs": [
    {
     "data": {
      "text/plain": "ESTADO DE AMENAZA         CR         EN         VU\nREINO                                             \nAnimalia           16.469038  36.363636  47.167325\nFungi              65.432099  22.222222  12.345679\nPlantae            22.723674  40.142518  37.133808",
      "text/html": "<div>\n<style scoped>\n    .dataframe tbody tr th:only-of-type {\n        vertical-align: middle;\n    }\n\n    .dataframe tbody tr th {\n        vertical-align: top;\n    }\n\n    .dataframe thead th {\n        text-align: right;\n    }\n</style>\n<table border=\"1\" class=\"dataframe\">\n  <thead>\n    <tr style=\"text-align: right;\">\n      <th>ESTADO DE AMENAZA</th>\n      <th>CR</th>\n      <th>EN</th>\n      <th>VU</th>\n    </tr>\n    <tr>\n      <th>REINO</th>\n      <th></th>\n      <th></th>\n      <th></th>\n    </tr>\n  </thead>\n  <tbody>\n    <tr>\n      <th>Animalia</th>\n      <td>16.469038</td>\n      <td>36.363636</td>\n      <td>47.167325</td>\n    </tr>\n    <tr>\n      <th>Fungi</th>\n      <td>65.432099</td>\n      <td>22.222222</td>\n      <td>12.345679</td>\n    </tr>\n    <tr>\n      <th>Plantae</th>\n      <td>22.723674</td>\n      <td>40.142518</td>\n      <td>37.133808</td>\n    </tr>\n  </tbody>\n</table>\n</div>"
     },
     "execution_count": 109,
     "metadata": {},
     "output_type": "execute_result"
    }
   ],
   "source": [
    "row_totals = crosstable.sum(axis=1)\n",
    "crosstable_pct = crosstable.div(row_totals, axis=0) * 100\n",
    "crosstable_pct"
   ],
   "metadata": {
    "collapsed": false,
    "ExecuteTime": {
     "end_time": "2024-04-18T16:32:05.336959400Z",
     "start_time": "2024-04-18T16:32:05.050915100Z"
    }
   },
   "id": "bbf23827c7793128"
  },
  {
   "cell_type": "code",
   "execution_count": 110,
   "outputs": [
    {
     "data": {
      "text/plain": "<Figure size 1000x600 with 2 Axes>",
      "image/png": "[encoded data removed]"
     },
     "metadata": {},
     "output_type": "display_data"
    }
   ],
   "source": [
    "plt.figure(figsize=(10, 6))\n",
    "color_palette = sns.diverging_palette(220, 20, as_cmap=True)\n",
    "sns.heatmap(crosstable_pct, annot=True, cmap=color_palette, center=50, square=True, fmt=\".1f\")\n",
    "plt.title(\"Distribution of Taxa by Kingdom and Conservation Status (Percentage)\")\n",
    "plt.xlabel(\"Conservation Status\")\n",
    "plt.ylabel(\"Kingdom\")\n",
    "plt.show()"
   ],
   "metadata": {
    "collapsed": false,
    "ExecuteTime": {
     "end_time": "2024-04-18T16:32:06.192982300Z",
     "start_time": "2024-04-18T16:32:05.072130700Z"
    }
   },
   "id": "bcc3b1a2ad245661"
  },
  {
   "cell_type": "markdown",
   "source": [
    "# Reino Animalia\n",
    "**Especies en Riesgo Crítico**\n",
    "¿Cuáles son los principales géneros en _Riesgo Crítico_ dentro del Reino Animal? "
   ],
   "metadata": {
    "collapsed": false
   },
   "id": "704ca6652e32215e"
  },
  {
   "cell_type": "code",
   "execution_count": 164,
   "outputs": [
    {
     "data": {
      "text/plain": "                  IDENTIFICACION   IDENTIFICACION TAXONOMICA  \\\n1312    gbif.org/species/5184681    gbif.org/species/5184681   \n1337    gbif.org/species/2223870    gbif.org/species/2223870   \n1375    gbif.org/species/1339288    gbif.org/species/1339288   \n1378    gbif.org/species/1339681    gbif.org/species/1339681   \n1379    gbif.org/species/1339678    gbif.org/species/1339678   \n...                          ...                         ...   \n2027    gbif.org/species/9438354    gbif.org/species/9438354   \n2032  gbif.org/species/182959016  gbif.org/species/182959016   \n2043  gbif.org/species/182958947  gbif.org/species/182958947   \n2100    gbif.org/species/6179762    gbif.org/species/6179762   \n2102    gbif.org/species/4262310    gbif.org/species/4262310   \n\n                      NOMBRE CIENTIFICO  \\\n1312               Acropora cervicornis   \n1337               Penaeus occidentalis   \n1375                Eufriesea dressleri   \n1378                   Exaerete dentata   \n1379                 Exaerete frontalis   \n...                                 ...   \n2027          Plecturocebus caquetensis   \n2032         Santamartamys rufodorsalis   \n2043                   Ateles fusciceps   \n2100   Crypturellus obsoletus castaneus   \n2102  Odocoileus virginianus tropicalis   \n\n                                 CLASIFICACION SUPERIOR     REINO        FILO  \\\n1312  Animalia | Cnidaria | Anthozoa | Scleractinia ...  Animalia    Cnidaria   \n1337  Animalia | Arthropoda | Crustacea | Malacostra...  Animalia  Arthropoda   \n1375  Animalia | Arthropoda | Hexapoda | Insecta | H...  Animalia  Arthropoda   \n1378  Animalia | Arthropoda | Hexapoda | Insecta | H...  Animalia  Arthropoda   \n1379  Animalia | Arthropoda | Hexapoda | Insecta | H...  Animalia  Arthropoda   \n...                                                 ...       ...         ...   \n2027  Animalia | Chordata | Vertebrata | Mammalia | ...  Animalia    Chordata   \n2032  Animalia | Chordata | Vertebrata | Mammalia | ...  Animalia    Chordata   \n2043  Animalia | Chordata | Vertebrata | Mammalia | ...  Animalia    Chordata   \n2100  Animalia | Chordata | Vertebrata | Aves | Tina...  Animalia    Chordata   \n2102  Animalia | Chordata | Vertebrata | Mammalia | ...  Animalia    Chordata   \n\n             CLASE         ORDEN      FAMILIA         GENERO  \\\n1312      Anthozoa  Scleractinia  Acroporidae       Acropora   \n1337  Malacostraca      Decapoda    Penaeidae        Penaeus   \n1375       Insecta   Hymenoptera       Apidae      Eufriesea   \n1378       Insecta   Hymenoptera       Apidae       Exaerete   \n1379       Insecta   Hymenoptera       Apidae       Exaerete   \n...            ...           ...          ...            ...   \n2027      Mammalia      Primates  Pitheciidae  Plecturocebus   \n2032      Mammalia      Rodentia   Echimyidae  Santamartamys   \n2043      Mammalia      Primates     Atelidae         Ateles   \n2100          Aves  Tinamiformes    Tinamidae   Crypturellus   \n2102      Mammalia  Artiodactyla     Cervidae     Odocoileus   \n\n     EPITETO ESPECIFICO EPITETO INFRAESPECIFICO RANGO DE TAXON  \\\n1312        cervicornis                     NaN        Especie   \n1337       occidentalis                     NaN        Especie   \n1375          dressleri                     NaN        Especie   \n1378            dentata                     NaN        Especie   \n1379          frontalis                     NaN        Especie   \n...                 ...                     ...            ...   \n2027        caquetensis                     NaN        Especie   \n2032       rufodorsalis                     NaN        Especie   \n2043          fusciceps                     NaN        Especie   \n2100          obsoletus               castaneus     Subespecie   \n2102        virginianus              tropicalis     Subespecie   \n\n                 NOMBRE CIENTIFICO 1  \\\n1312                 (Lamarck, 1816)   \n1337                   Streets, 1871   \n1375                  (Kimsey, 1977)   \n1378                (Linnaeus, 1758)   \n1379        (Guérin-Méneville, 1844)   \n...                              ...   \n2027  (Defler, Bueno & Garcia, 2010)   \n2032               (J.A.Allen, 1899)   \n2043                      Gray, 1866   \n2100             (P.L.Sclater, 1858)   \n2102                   Cabrera, 1918   \n\n                                      NOMBRE VERNACULO CODIGO NOMENCLATURA  \\\n1312                            Coral cuerno de ciervo                ICZN   \n1337  Camarón blanco del Pacífico | Camarón langostino                ICZN   \n1375                      Abejita verde de la Macarena                ICZN   \n1378                                   Abeja esmeralda                ICZN   \n1379                           Abejita verde del Llano                ICZN   \n...                                                ...                 ...   \n2027              El tití del Caquetá | Tongo | Macaco                ICZN   \n2032                      Raton arboreo de Santa Marta                ICZN   \n2043               Mono araña | Mono negro | Marimonda                ICZN   \n2100                                      Tinamú pardo                ICZN   \n2102              Venado sabanero | Venado cola blanca                ICZN   \n\n     ESTADO TAXONOMICO                                TAXON OBSERVACIONES  \\\n1312            Válido     Nombre original validado: Acropora cervicornis   \n1337            Válido  Nombre original validado: Penaeus occidentalis...   \n1375            Válido      Nombre original validado: Eufriesea dressleri   \n1378            Válido         Nombre original validado: Exaerete dentata   \n1379            Válido       Nombre original validado: Exaerete frontalis   \n...                ...                                                ...   \n2027            Válido  Nombre original validado: Plecturocebus caquet...   \n2032            Válido  Nombre original validado: Santamartamys rufodo...   \n2043            Válido         Nombre original validado: Ateles fusciceps   \n2100            Válido  Nombre original validado: Crypturellus obsolet...   \n2102            Válido  Nombre original validado: Odocoileus virginian...   \n\n     LENGUAJE ESTADO DE AMENAZA  \n1312       es                CR  \n1337       es                CR  \n1375       es                CR  \n1378       es                CR  \n1379       es                CR  \n...       ...               ...  \n2027       es                CR  \n2032       es                CR  \n2043       es                CR  \n2100       es                CR  \n2102       es                CR  \n\n[125 rows x 20 columns]",
      "text/html": "<div>\n<style scoped>\n    .dataframe tbody tr th:only-of-type {\n        vertical-align: middle;\n    }\n\n    .dataframe tbody tr th {\n        vertical-align: top;\n    }\n\n    .dataframe thead th {\n        text-align: right;\n    }\n</style>\n<table border=\"1\" class=\"dataframe\">\n  <thead>\n    <tr style=\"text-align: right;\">\n      <th></th>\n      <th>IDENTIFICACION</th>\n      <th>IDENTIFICACION TAXONOMICA</th>\n      <th>NOMBRE CIENTIFICO</th>\n      <th>CLASIFICACION SUPERIOR</th>\n      <th>REINO</th>\n      <th>FILO</th>\n      <th>CLASE</th>\n      <th>ORDEN</th>\n      <th>FAMILIA</th>\n      <th>GENERO</th>\n      <th>EPITETO ESPECIFICO</th>\n      <th>EPITETO INFRAESPECIFICO</th>\n      <th>RANGO DE TAXON</th>\n      <th>NOMBRE CIENTIFICO 1</th>\n      <th>NOMBRE VERNACULO</th>\n      <th>CODIGO NOMENCLATURA</th>\n      <th>ESTADO TAXONOMICO</th>\n      <th>TAXON OBSERVACIONES</th>\n      <th>LENGUAJE</th>\n      <th>ESTADO DE AMENAZA</th>\n    </tr>\n  </thead>\n  <tbody>\n    <tr>\n      <th>1312</th>\n      <td>gbif.org/species/5184681</td>\n      <td>gbif.org/species/5184681</td>\n      <td>Acropora cervicornis</td>\n      <td>Animalia | Cnidaria | Anthozoa | Scleractinia ...</td>\n      <td>Animalia</td>\n      <td>Cnidaria</td>\n      <td>Anthozoa</td>\n      <td>Scleractinia</td>\n      <td>Acroporidae</td>\n      <td>Acropora</td>\n      <td>cervicornis</td>\n      <td>NaN</td>\n      <td>Especie</td>\n      <td>(Lamarck, 1816)</td>\n      <td>Coral cuerno de ciervo</td>\n      <td>ICZN</td>\n      <td>Válido</td>\n      <td>Nombre original validado: Acropora cervicornis</td>\n      <td>es</td>\n      <td>CR</td>\n    </tr>\n    <tr>\n      <th>1337</th>\n      <td>gbif.org/species/2223870</td>\n      <td>gbif.org/species/2223870</td>\n      <td>Penaeus occidentalis</td>\n      <td>Animalia | Arthropoda | Crustacea | Malacostra...</td>\n      <td>Animalia</td>\n      <td>Arthropoda</td>\n      <td>Malacostraca</td>\n      <td>Decapoda</td>\n      <td>Penaeidae</td>\n      <td>Penaeus</td>\n      <td>occidentalis</td>\n      <td>NaN</td>\n      <td>Especie</td>\n      <td>Streets, 1871</td>\n      <td>Camarón blanco del Pacífico | Camarón langostino</td>\n      <td>ICZN</td>\n      <td>Válido</td>\n      <td>Nombre original validado: Penaeus occidentalis...</td>\n      <td>es</td>\n      <td>CR</td>\n    </tr>\n    <tr>\n      <th>1375</th>\n      <td>gbif.org/species/1339288</td>\n      <td>gbif.org/species/1339288</td>\n      <td>Eufriesea dressleri</td>\n      <td>Animalia | Arthropoda | Hexapoda | Insecta | H...</td>\n      <td>Animalia</td>\n      <td>Arthropoda</td>\n      <td>Insecta</td>\n      <td>Hymenoptera</td>\n      <td>Apidae</td>\n      <td>Eufriesea</td>\n      <td>dressleri</td>\n      <td>NaN</td>\n      <td>Especie</td>\n      <td>(Kimsey, 1977)</td>\n      <td>Abejita verde de la Macarena</td>\n      <td>ICZN</td>\n      <td>Válido</td>\n      <td>Nombre original validado: Eufriesea dressleri</td>\n      <td>es</td>\n      <td>CR</td>\n    </tr>\n    <tr>\n      <th>1378</th>\n      <td>gbif.org/species/1339681</td>\n      <td>gbif.org/species/1339681</td>\n      <td>Exaerete dentata</td>\n      <td>Animalia | Arthropoda | Hexapoda | Insecta | H...</td>\n      <td>Animalia</td>\n      <td>Arthropoda</td>\n      <td>Insecta</td>\n      <td>Hymenoptera</td>\n      <td>Apidae</td>\n      <td>Exaerete</td>\n      <td>dentata</td>\n      <td>NaN</td>\n      <td>Especie</td>\n      <td>(Linnaeus, 1758)</td>\n      <td>Abeja esmeralda</td>\n      <td>ICZN</td>\n      <td>Válido</td>\n      <td>Nombre original validado: Exaerete dentata</td>\n      <td>es</td>\n      <td>CR</td>\n    </tr>\n    <tr>\n      <th>1379</th>\n      <td>gbif.org/species/1339678</td>\n      <td>gbif.org/species/1339678</td>\n      <td>Exaerete frontalis</td>\n      <td>Animalia | Arthropoda | Hexapoda | Insecta | H...</td>\n      <td>Animalia</td>\n      <td>Arthropoda</td>\n      <td>Insecta</td>\n      <td>Hymenoptera</td>\n      <td>Apidae</td>\n      <td>Exaerete</td>\n      <td>frontalis</td>\n      <td>NaN</td>\n      <td>Especie</td>\n      <td>(Guérin-Méneville, 1844)</td>\n      <td>Abejita verde del Llano</td>\n      <td>ICZN</td>\n      <td>Válido</td>\n      <td>Nombre original validado: Exaerete frontalis</td>\n      <td>es</td>\n      <td>CR</td>\n    </tr>\n    <tr>\n      <th>...</th>\n      <td>...</td>\n      <td>...</td>\n      <td>...</td>\n      <td>...</td>\n      <td>...</td>\n      <td>...</td>\n      <td>...</td>\n      <td>...</td>\n      <td>...</td>\n      <td>...</td>\n      <td>...</td>\n      <td>...</td>\n      <td>...</td>\n      <td>...</td>\n      <td>...</td>\n      <td>...</td>\n      <td>...</td>\n      <td>...</td>\n      <td>...</td>\n      <td>...</td>\n    </tr>\n    <tr>\n      <th>2027</th>\n      <td>gbif.org/species/9438354</td>\n      <td>gbif.org/species/9438354</td>\n      <td>Plecturocebus caquetensis</td>\n      <td>Animalia | Chordata | Vertebrata | Mammalia | ...</td>\n      <td>Animalia</td>\n      <td>Chordata</td>\n      <td>Mammalia</td>\n      <td>Primates</td>\n      <td>Pitheciidae</td>\n      <td>Plecturocebus</td>\n      <td>caquetensis</td>\n      <td>NaN</td>\n      <td>Especie</td>\n      <td>(Defler, Bueno &amp; Garcia, 2010)</td>\n      <td>El tití del Caquetá | Tongo | Macaco</td>\n      <td>ICZN</td>\n      <td>Válido</td>\n      <td>Nombre original validado: Plecturocebus caquet...</td>\n      <td>es</td>\n      <td>CR</td>\n    </tr>\n    <tr>\n      <th>2032</th>\n      <td>gbif.org/species/182959016</td>\n      <td>gbif.org/species/182959016</td>\n      <td>Santamartamys rufodorsalis</td>\n      <td>Animalia | Chordata | Vertebrata | Mammalia | ...</td>\n      <td>Animalia</td>\n      <td>Chordata</td>\n      <td>Mammalia</td>\n      <td>Rodentia</td>\n      <td>Echimyidae</td>\n      <td>Santamartamys</td>\n      <td>rufodorsalis</td>\n      <td>NaN</td>\n      <td>Especie</td>\n      <td>(J.A.Allen, 1899)</td>\n      <td>Raton arboreo de Santa Marta</td>\n      <td>ICZN</td>\n      <td>Válido</td>\n      <td>Nombre original validado: Santamartamys rufodo...</td>\n      <td>es</td>\n      <td>CR</td>\n    </tr>\n    <tr>\n      <th>2043</th>\n      <td>gbif.org/species/182958947</td>\n      <td>gbif.org/species/182958947</td>\n      <td>Ateles fusciceps</td>\n      <td>Animalia | Chordata | Vertebrata | Mammalia | ...</td>\n      <td>Animalia</td>\n      <td>Chordata</td>\n      <td>Mammalia</td>\n      <td>Primates</td>\n      <td>Atelidae</td>\n      <td>Ateles</td>\n      <td>fusciceps</td>\n      <td>NaN</td>\n      <td>Especie</td>\n      <td>Gray, 1866</td>\n      <td>Mono araña | Mono negro | Marimonda</td>\n      <td>ICZN</td>\n      <td>Válido</td>\n      <td>Nombre original validado: Ateles fusciceps</td>\n      <td>es</td>\n      <td>CR</td>\n    </tr>\n    <tr>\n      <th>2100</th>\n      <td>gbif.org/species/6179762</td>\n      <td>gbif.org/species/6179762</td>\n      <td>Crypturellus obsoletus castaneus</td>\n      <td>Animalia | Chordata | Vertebrata | Aves | Tina...</td>\n      <td>Animalia</td>\n      <td>Chordata</td>\n      <td>Aves</td>\n      <td>Tinamiformes</td>\n      <td>Tinamidae</td>\n      <td>Crypturellus</td>\n      <td>obsoletus</td>\n      <td>castaneus</td>\n      <td>Subespecie</td>\n      <td>(P.L.Sclater, 1858)</td>\n      <td>Tinamú pardo</td>\n      <td>ICZN</td>\n      <td>Válido</td>\n      <td>Nombre original validado: Crypturellus obsolet...</td>\n      <td>es</td>\n      <td>CR</td>\n    </tr>\n    <tr>\n      <th>2102</th>\n      <td>gbif.org/species/4262310</td>\n      <td>gbif.org/species/4262310</td>\n      <td>Odocoileus virginianus tropicalis</td>\n      <td>Animalia | Chordata | Vertebrata | Mammalia | ...</td>\n      <td>Animalia</td>\n      <td>Chordata</td>\n      <td>Mammalia</td>\n      <td>Artiodactyla</td>\n      <td>Cervidae</td>\n      <td>Odocoileus</td>\n      <td>virginianus</td>\n      <td>tropicalis</td>\n      <td>Subespecie</td>\n      <td>Cabrera, 1918</td>\n      <td>Venado sabanero | Venado cola blanca</td>\n      <td>ICZN</td>\n      <td>Válido</td>\n      <td>Nombre original validado: Odocoileus virginian...</td>\n      <td>es</td>\n      <td>CR</td>\n    </tr>\n  </tbody>\n</table>\n<p>125 rows × 20 columns</p>\n</div>"
     },
     "execution_count": 164,
     "metadata": {},
     "output_type": "execute_result"
    }
   ],
   "source": [
    "animalCR = endangeredSpecies.loc[\n",
    "    (endangeredSpecies['REINO'] == 'Animalia') & (endangeredSpecies['ESTADO DE AMENAZA'] == 'CR')]\n",
    "animalCR"
   ],
   "metadata": {
    "collapsed": false,
    "ExecuteTime": {
     "end_time": "2024-04-18T19:27:52.690453500Z",
     "start_time": "2024-04-18T19:27:52.591704200Z"
    }
   },
   "id": "e6f3bd28f172eb4e"
  },
  {
   "cell_type": "code",
   "execution_count": 165,
   "outputs": [
    {
     "data": {
      "text/plain": "Atelopus        25\nPristimantis    23\nExaerete         3\nHyloxalus        3\nOophaga          3\nName: GENERO, dtype: int64"
     },
     "execution_count": 165,
     "metadata": {},
     "output_type": "execute_result"
    }
   ],
   "source": [
    "animalCR['GENERO'].value_counts().head(5)"
   ],
   "metadata": {
    "collapsed": false,
    "ExecuteTime": {
     "end_time": "2024-04-18T19:28:12.223075800Z",
     "start_time": "2024-04-18T19:28:12.175674400Z"
    }
   },
   "id": "195106601dcf5695"
  },
  {
   "cell_type": "code",
   "execution_count": 166,
   "outputs": [
    {
     "data": {
      "text/plain": "         REINO        FILO         CLASE         ORDEN      FAMILIA  \\\n1312  Animalia    Cnidaria      Anthozoa  Scleractinia  Acroporidae   \n1337  Animalia  Arthropoda  Malacostraca      Decapoda    Penaeidae   \n1375  Animalia  Arthropoda       Insecta   Hymenoptera       Apidae   \n1378  Animalia  Arthropoda       Insecta   Hymenoptera       Apidae   \n1379  Animalia  Arthropoda       Insecta   Hymenoptera       Apidae   \n...        ...         ...           ...           ...          ...   \n2027  Animalia    Chordata      Mammalia      Primates  Pitheciidae   \n2032  Animalia    Chordata      Mammalia      Rodentia   Echimyidae   \n2043  Animalia    Chordata      Mammalia      Primates     Atelidae   \n2100  Animalia    Chordata          Aves  Tinamiformes    Tinamidae   \n2102  Animalia    Chordata      Mammalia  Artiodactyla     Cervidae   \n\n             GENERO EPITETO ESPECIFICO  \n1312       Acropora        cervicornis  \n1337        Penaeus       occidentalis  \n1375      Eufriesea          dressleri  \n1378       Exaerete            dentata  \n1379       Exaerete          frontalis  \n...             ...                ...  \n2027  Plecturocebus        caquetensis  \n2032  Santamartamys       rufodorsalis  \n2043         Ateles          fusciceps  \n2100   Crypturellus          obsoletus  \n2102     Odocoileus        virginianus  \n\n[125 rows x 7 columns]",
      "text/html": "<div>\n<style scoped>\n    .dataframe tbody tr th:only-of-type {\n        vertical-align: middle;\n    }\n\n    .dataframe tbody tr th {\n        vertical-align: top;\n    }\n\n    .dataframe thead th {\n        text-align: right;\n    }\n</style>\n<table border=\"1\" class=\"dataframe\">\n  <thead>\n    <tr style=\"text-align: right;\">\n      <th></th>\n      <th>REINO</th>\n      <th>FILO</th>\n      <th>CLASE</th>\n      <th>ORDEN</th>\n      <th>FAMILIA</th>\n      <th>GENERO</th>\n      <th>EPITETO ESPECIFICO</th>\n    </tr>\n  </thead>\n  <tbody>\n    <tr>\n      <th>1312</th>\n      <td>Animalia</td>\n      <td>Cnidaria</td>\n      <td>Anthozoa</td>\n      <td>Scleractinia</td>\n      <td>Acroporidae</td>\n      <td>Acropora</td>\n      <td>cervicornis</td>\n    </tr>\n    <tr>\n      <th>1337</th>\n      <td>Animalia</td>\n      <td>Arthropoda</td>\n      <td>Malacostraca</td>\n      <td>Decapoda</td>\n      <td>Penaeidae</td>\n      <td>Penaeus</td>\n      <td>occidentalis</td>\n    </tr>\n    <tr>\n      <th>1375</th>\n      <td>Animalia</td>\n      <td>Arthropoda</td>\n      <td>Insecta</td>\n      <td>Hymenoptera</td>\n      <td>Apidae</td>\n      <td>Eufriesea</td>\n      <td>dressleri</td>\n    </tr>\n    <tr>\n      <th>1378</th>\n      <td>Animalia</td>\n      <td>Arthropoda</td>\n      <td>Insecta</td>\n      <td>Hymenoptera</td>\n      <td>Apidae</td>\n      <td>Exaerete</td>\n      <td>dentata</td>\n    </tr>\n    <tr>\n      <th>1379</th>\n      <td>Animalia</td>\n      <td>Arthropoda</td>\n      <td>Insecta</td>\n      <td>Hymenoptera</td>\n      <td>Apidae</td>\n      <td>Exaerete</td>\n      <td>frontalis</td>\n    </tr>\n    <tr>\n      <th>...</th>\n      <td>...</td>\n      <td>...</td>\n      <td>...</td>\n      <td>...</td>\n      <td>...</td>\n      <td>...</td>\n      <td>...</td>\n    </tr>\n    <tr>\n      <th>2027</th>\n      <td>Animalia</td>\n      <td>Chordata</td>\n      <td>Mammalia</td>\n      <td>Primates</td>\n      <td>Pitheciidae</td>\n      <td>Plecturocebus</td>\n      <td>caquetensis</td>\n    </tr>\n    <tr>\n      <th>2032</th>\n      <td>Animalia</td>\n      <td>Chordata</td>\n      <td>Mammalia</td>\n      <td>Rodentia</td>\n      <td>Echimyidae</td>\n      <td>Santamartamys</td>\n      <td>rufodorsalis</td>\n    </tr>\n    <tr>\n      <th>2043</th>\n      <td>Animalia</td>\n      <td>Chordata</td>\n      <td>Mammalia</td>\n      <td>Primates</td>\n      <td>Atelidae</td>\n      <td>Ateles</td>\n      <td>fusciceps</td>\n    </tr>\n    <tr>\n      <th>2100</th>\n      <td>Animalia</td>\n      <td>Chordata</td>\n      <td>Aves</td>\n      <td>Tinamiformes</td>\n      <td>Tinamidae</td>\n      <td>Crypturellus</td>\n      <td>obsoletus</td>\n    </tr>\n    <tr>\n      <th>2102</th>\n      <td>Animalia</td>\n      <td>Chordata</td>\n      <td>Mammalia</td>\n      <td>Artiodactyla</td>\n      <td>Cervidae</td>\n      <td>Odocoileus</td>\n      <td>virginianus</td>\n    </tr>\n  </tbody>\n</table>\n<p>125 rows × 7 columns</p>\n</div>"
     },
     "execution_count": 166,
     "metadata": {},
     "output_type": "execute_result"
    }
   ],
   "source": [
    "taxonomy = animalCR[['REINO', 'FILO', 'CLASE', 'ORDEN', 'FAMILIA', 'GENERO', 'EPITETO ESPECIFICO']].copy()\n",
    "taxonomy"
   ],
   "metadata": {
    "collapsed": false,
    "ExecuteTime": {
     "end_time": "2024-04-18T19:30:59.803861400Z",
     "start_time": "2024-04-18T19:30:59.742970700Z"
    }
   },
   "id": "9c9a60e0fdfe2a25"
  },
  {
   "cell_type": "code",
   "execution_count": 167,
   "outputs": [
    {
     "name": "stdout",
     "output_type": "stream",
     "text": [
      "Requirement already satisfied: pandas in c:\\users\\user\\anaconda3\\lib\\site-packages (1.5.3)\n",
      "Requirement already satisfied: matplotlib in c:\\users\\user\\anaconda3\\lib\\site-packages (3.7.1)\n",
      "Requirement already satisfied: scipy in c:\\users\\user\\anaconda3\\lib\\site-packages (1.10.1)\n",
      "Requirement already satisfied: python-dateutil>=2.8.1 in c:\\users\\user\\anaconda3\\lib\\site-packages (from pandas) (2.8.2)\n",
      "Requirement already satisfied: pytz>=2020.1 in c:\\users\\user\\anaconda3\\lib\\site-packages (from pandas) (2022.7)\n",
      "Requirement already satisfied: numpy>=1.21.0 in c:\\users\\user\\anaconda3\\lib\\site-packages (from pandas) (1.24.3)\n",
      "Requirement already satisfied: contourpy>=1.0.1 in c:\\users\\user\\anaconda3\\lib\\site-packages (from matplotlib) (1.0.5)\n",
      "Requirement already satisfied: cycler>=0.10 in c:\\users\\user\\anaconda3\\lib\\site-packages (from matplotlib) (0.11.0)\n",
      "Requirement already satisfied: fonttools>=4.22.0 in c:\\users\\user\\anaconda3\\lib\\site-packages (from matplotlib) (4.25.0)\n",
      "Requirement already satisfied: kiwisolver>=1.0.1 in c:\\users\\user\\anaconda3\\lib\\site-packages (from matplotlib) (1.4.4)\n",
      "Requirement already satisfied: packaging>=20.0 in c:\\users\\user\\anaconda3\\lib\\site-packages (from matplotlib) (23.0)\n",
      "Requirement already satisfied: pillow>=6.2.0 in c:\\users\\user\\anaconda3\\lib\\site-packages (from matplotlib) (9.4.0)\n",
      "Requirement already satisfied: pyparsing>=2.3.1 in c:\\users\\user\\anaconda3\\lib\\site-packages (from matplotlib) (3.0.9)\n",
      "Requirement already satisfied: six>=1.5 in c:\\users\\user\\anaconda3\\lib\\site-packages (from python-dateutil>=2.8.1->pandas) (1.16.0)\n"
     ]
    }
   ],
   "source": [
    "!pip install pandas matplotlib scipy"
   ],
   "metadata": {
    "collapsed": false,
    "ExecuteTime": {
     "end_time": "2024-04-18T19:31:21.011812100Z",
     "start_time": "2024-04-18T19:31:13.677897400Z"
    }
   },
   "id": "7cf3d9a1d84f7dcc"
  },
  {
   "cell_type": "code",
   "execution_count": 168,
   "outputs": [
    {
     "name": "stderr",
     "output_type": "stream",
     "text": [
      "C:\\Users\\USER\\AppData\\Local\\Temp\\ipykernel_10012\\3941975956.py:5: SettingWithCopyWarning:\n",
      "\n",
      "\n",
      "A value is trying to be set on a copy of a slice from a DataFrame.\n",
      "Try using .loc[row_indexer,col_indexer] = value instead\n",
      "\n",
      "See the caveats in the documentation: https://pandas.pydata.org/pandas-docs/stable/user_guide/indexing.html#returning-a-view-versus-a-copy\n",
      "\n",
      "C:\\Users\\USER\\AppData\\Local\\Temp\\ipykernel_10012\\3941975956.py:5: SettingWithCopyWarning:\n",
      "\n",
      "\n",
      "A value is trying to be set on a copy of a slice from a DataFrame.\n",
      "Try using .loc[row_indexer,col_indexer] = value instead\n",
      "\n",
      "See the caveats in the documentation: https://pandas.pydata.org/pandas-docs/stable/user_guide/indexing.html#returning-a-view-versus-a-copy\n",
      "\n",
      "C:\\Users\\USER\\AppData\\Local\\Temp\\ipykernel_10012\\3941975956.py:5: SettingWithCopyWarning:\n",
      "\n",
      "\n",
      "A value is trying to be set on a copy of a slice from a DataFrame.\n",
      "Try using .loc[row_indexer,col_indexer] = value instead\n",
      "\n",
      "See the caveats in the documentation: https://pandas.pydata.org/pandas-docs/stable/user_guide/indexing.html#returning-a-view-versus-a-copy\n",
      "\n",
      "C:\\Users\\USER\\AppData\\Local\\Temp\\ipykernel_10012\\3941975956.py:5: SettingWithCopyWarning:\n",
      "\n",
      "\n",
      "A value is trying to be set on a copy of a slice from a DataFrame.\n",
      "Try using .loc[row_indexer,col_indexer] = value instead\n",
      "\n",
      "See the caveats in the documentation: https://pandas.pydata.org/pandas-docs/stable/user_guide/indexing.html#returning-a-view-versus-a-copy\n",
      "\n",
      "C:\\Users\\USER\\AppData\\Local\\Temp\\ipykernel_10012\\3941975956.py:5: SettingWithCopyWarning:\n",
      "\n",
      "\n",
      "A value is trying to be set on a copy of a slice from a DataFrame.\n",
      "Try using .loc[row_indexer,col_indexer] = value instead\n",
      "\n",
      "See the caveats in the documentation: https://pandas.pydata.org/pandas-docs/stable/user_guide/indexing.html#returning-a-view-versus-a-copy\n",
      "\n",
      "C:\\Users\\USER\\AppData\\Local\\Temp\\ipykernel_10012\\3941975956.py:5: SettingWithCopyWarning:\n",
      "\n",
      "\n",
      "A value is trying to be set on a copy of a slice from a DataFrame.\n",
      "Try using .loc[row_indexer,col_indexer] = value instead\n",
      "\n",
      "See the caveats in the documentation: https://pandas.pydata.org/pandas-docs/stable/user_guide/indexing.html#returning-a-view-versus-a-copy\n",
      "\n",
      "C:\\Users\\USER\\AppData\\Local\\Temp\\ipykernel_10012\\3941975956.py:5: SettingWithCopyWarning:\n",
      "\n",
      "\n",
      "A value is trying to be set on a copy of a slice from a DataFrame.\n",
      "Try using .loc[row_indexer,col_indexer] = value instead\n",
      "\n",
      "See the caveats in the documentation: https://pandas.pydata.org/pandas-docs/stable/user_guide/indexing.html#returning-a-view-versus-a-copy\n",
      "\n",
      "C:\\Users\\USER\\AppData\\Local\\Temp\\ipykernel_10012\\3941975956.py:5: SettingWithCopyWarning:\n",
      "\n",
      "\n",
      "A value is trying to be set on a copy of a slice from a DataFrame.\n",
      "Try using .loc[row_indexer,col_indexer] = value instead\n",
      "\n",
      "See the caveats in the documentation: https://pandas.pydata.org/pandas-docs/stable/user_guide/indexing.html#returning-a-view-versus-a-copy\n",
      "\n",
      "C:\\Users\\USER\\AppData\\Local\\Temp\\ipykernel_10012\\3941975956.py:5: SettingWithCopyWarning:\n",
      "\n",
      "\n",
      "A value is trying to be set on a copy of a slice from a DataFrame.\n",
      "Try using .loc[row_indexer,col_indexer] = value instead\n",
      "\n",
      "See the caveats in the documentation: https://pandas.pydata.org/pandas-docs/stable/user_guide/indexing.html#returning-a-view-versus-a-copy\n",
      "\n",
      "C:\\Users\\USER\\AppData\\Local\\Temp\\ipykernel_10012\\3941975956.py:5: SettingWithCopyWarning:\n",
      "\n",
      "\n",
      "A value is trying to be set on a copy of a slice from a DataFrame.\n",
      "Try using .loc[row_indexer,col_indexer] = value instead\n",
      "\n",
      "See the caveats in the documentation: https://pandas.pydata.org/pandas-docs/stable/user_guide/indexing.html#returning-a-view-versus-a-copy\n",
      "\n",
      "C:\\Users\\USER\\AppData\\Local\\Temp\\ipykernel_10012\\3941975956.py:5: SettingWithCopyWarning:\n",
      "\n",
      "\n",
      "A value is trying to be set on a copy of a slice from a DataFrame.\n",
      "Try using .loc[row_indexer,col_indexer] = value instead\n",
      "\n",
      "See the caveats in the documentation: https://pandas.pydata.org/pandas-docs/stable/user_guide/indexing.html#returning-a-view-versus-a-copy\n",
      "\n",
      "C:\\Users\\USER\\AppData\\Local\\Temp\\ipykernel_10012\\3941975956.py:5: SettingWithCopyWarning:\n",
      "\n",
      "\n",
      "A value is trying to be set on a copy of a slice from a DataFrame.\n",
      "Try using .loc[row_indexer,col_indexer] = value instead\n",
      "\n",
      "See the caveats in the documentation: https://pandas.pydata.org/pandas-docs/stable/user_guide/indexing.html#returning-a-view-versus-a-copy\n",
      "\n",
      "C:\\Users\\USER\\AppData\\Local\\Temp\\ipykernel_10012\\3941975956.py:5: SettingWithCopyWarning:\n",
      "\n",
      "\n",
      "A value is trying to be set on a copy of a slice from a DataFrame.\n",
      "Try using .loc[row_indexer,col_indexer] = value instead\n",
      "\n",
      "See the caveats in the documentation: https://pandas.pydata.org/pandas-docs/stable/user_guide/indexing.html#returning-a-view-versus-a-copy\n",
      "\n",
      "C:\\Users\\USER\\AppData\\Local\\Temp\\ipykernel_10012\\3941975956.py:5: SettingWithCopyWarning:\n",
      "\n",
      "\n",
      "A value is trying to be set on a copy of a slice from a DataFrame.\n",
      "Try using .loc[row_indexer,col_indexer] = value instead\n",
      "\n",
      "See the caveats in the documentation: https://pandas.pydata.org/pandas-docs/stable/user_guide/indexing.html#returning-a-view-versus-a-copy\n",
      "\n",
      "C:\\Users\\USER\\AppData\\Local\\Temp\\ipykernel_10012\\3941975956.py:5: SettingWithCopyWarning:\n",
      "\n",
      "\n",
      "A value is trying to be set on a copy of a slice from a DataFrame.\n",
      "Try using .loc[row_indexer,col_indexer] = value instead\n",
      "\n",
      "See the caveats in the documentation: https://pandas.pydata.org/pandas-docs/stable/user_guide/indexing.html#returning-a-view-versus-a-copy\n",
      "\n",
      "C:\\Users\\USER\\AppData\\Local\\Temp\\ipykernel_10012\\3941975956.py:5: SettingWithCopyWarning:\n",
      "\n",
      "\n",
      "A value is trying to be set on a copy of a slice from a DataFrame.\n",
      "Try using .loc[row_indexer,col_indexer] = value instead\n",
      "\n",
      "See the caveats in the documentation: https://pandas.pydata.org/pandas-docs/stable/user_guide/indexing.html#returning-a-view-versus-a-copy\n",
      "\n",
      "C:\\Users\\USER\\AppData\\Local\\Temp\\ipykernel_10012\\3941975956.py:5: SettingWithCopyWarning:\n",
      "\n",
      "\n",
      "A value is trying to be set on a copy of a slice from a DataFrame.\n",
      "Try using .loc[row_indexer,col_indexer] = value instead\n",
      "\n",
      "See the caveats in the documentation: https://pandas.pydata.org/pandas-docs/stable/user_guide/indexing.html#returning-a-view-versus-a-copy\n",
      "\n",
      "C:\\Users\\USER\\AppData\\Local\\Temp\\ipykernel_10012\\3941975956.py:5: SettingWithCopyWarning:\n",
      "\n",
      "\n",
      "A value is trying to be set on a copy of a slice from a DataFrame.\n",
      "Try using .loc[row_indexer,col_indexer] = value instead\n",
      "\n",
      "See the caveats in the documentation: https://pandas.pydata.org/pandas-docs/stable/user_guide/indexing.html#returning-a-view-versus-a-copy\n",
      "\n",
      "C:\\Users\\USER\\AppData\\Local\\Temp\\ipykernel_10012\\3941975956.py:5: SettingWithCopyWarning:\n",
      "\n",
      "\n",
      "A value is trying to be set on a copy of a slice from a DataFrame.\n",
      "Try using .loc[row_indexer,col_indexer] = value instead\n",
      "\n",
      "See the caveats in the documentation: https://pandas.pydata.org/pandas-docs/stable/user_guide/indexing.html#returning-a-view-versus-a-copy\n",
      "\n"
     ]
    }
   ],
   "source": [
    "from scipy.cluster.hierarchy import linkage, dendrogram\n",
    "import matplotlib.pyplot as plt\n",
    "\n",
    "for col in animalCR.columns[1:]:  # Skip 'REINO' or any other column that should not be encoded\n",
    "    animalCR[col] = animalCR[col].astype('category').cat.codes"
   ],
   "metadata": {
    "collapsed": false,
    "ExecuteTime": {
     "end_time": "2024-04-18T19:31:33.255525400Z",
     "start_time": "2024-04-18T19:31:33.190613600Z"
    }
   },
   "id": "5e7a780eb3f96a8"
  },
  {
   "cell_type": "code",
   "execution_count": 173,
   "outputs": [
    {
     "data": {
      "text/plain": "<Figure size 1000x800 with 1 Axes>",
      "image/png": "[encoded data removed]"
     },
     "metadata": {},
     "output_type": "display_data"
    }
   ],
   "source": [
    "Z = linkage(animalCR.iloc[:, 1:], 'ward')\n",
    "plt.figure(figsize=(10, 8))\n",
    "dendrogram(Z, labels=animalCR['GENERO'].tolist(), leaf_rotation=90, leaf_font_size=12)\n",
    "plt.title('Dendrogram of Taxonomic Classification')\n",
    "plt.xlabel('Species')\n",
    "plt.ylabel('Distance')\n",
    "plt.xticks(rotation=90)\n",
    "plt.show()"
   ],
   "metadata": {
    "collapsed": false,
    "ExecuteTime": {
     "end_time": "2024-04-18T19:35:07.879218600Z",
     "start_time": "2024-04-18T19:35:04.410782300Z"
    }
   },
   "id": "30ce491b8428f60f"
  },
  {
   "cell_type": "markdown",
   "source": [
    "# Reino Fungi\n",
    "**Especies Vulnerables**\n",
    "¿Cuáles son los principales géneros en estado _Vulnerable_ dentro del Reino Fungi? "
   ],
   "metadata": {
    "collapsed": false
   },
   "id": "ccd593a461dec53b"
  },
  {
   "cell_type": "code",
   "execution_count": 178,
   "outputs": [
    {
     "data": {
      "text/plain": "               IDENTIFICACION  IDENTIFICACION TAXONOMICA  \\\n6   gbif.org/species/10706304  gbif.org/species/10706304   \n37   gbif.org/species/2600937   gbif.org/species/2600937   \n38   gbif.org/species/9808160   gbif.org/species/9808160   \n40   gbif.org/species/9646853   gbif.org/species/9646853   \n44   gbif.org/species/5477276   gbif.org/species/5477276   \n47   gbif.org/species/9819597   gbif.org/species/9819597   \n57   gbif.org/species/8382898   gbif.org/species/8382898   \n60   gbif.org/species/9791942   gbif.org/species/9791942   \n61   gbif.org/species/9765776   gbif.org/species/9765776   \n66   gbif.org/species/8257450   gbif.org/species/8257450   \n\n            NOMBRE CIENTIFICO  \\\n6         Bogoriella apposita   \n37         Leptogium inversum   \n38       Lobariella angustata   \n40  Lobariella flavomedullosa   \n44        Sticta peltigerella   \n47           Sticta tunjensis   \n57          Cora casanarensis   \n60           Cora davicrinita   \n61               Cora davidia   \n66               Cora inversa   \n\n                               CLASIFICACION SUPERIOR  REINO           FILO  \\\n6   Fungi | Ascomycota | Dothideomycetes | Trypeth...  Fungi     Ascomycota   \n37  Fungi | Ascomycota | Lecanoromycetes | Peltige...  Fungi     Ascomycota   \n38  Fungi | Ascomycota | Lecanoromycetes | Peltige...  Fungi     Ascomycota   \n40  Fungi | Ascomycota | Lecanoromycetes | Peltige...  Fungi     Ascomycota   \n44  Fungi | Ascomycota | Lecanoromycetes | Peltige...  Fungi     Ascomycota   \n47  Fungi | Ascomycota | Lecanoromycetes | Peltige...  Fungi     Ascomycota   \n57  Fungi | Basidiomycota | Agaricomycetes | Agari...  Fungi  Basidiomycota   \n60  Fungi | Basidiomycota | Agaricomycetes | Agari...  Fungi  Basidiomycota   \n61  Fungi | Basidiomycota | Agaricomycetes | Agari...  Fungi  Basidiomycota   \n66  Fungi | Basidiomycota | Agaricomycetes | Agari...  Fungi  Basidiomycota   \n\n              CLASE           ORDEN          FAMILIA      GENERO  \\\n6   Dothideomycetes  Trypetheliales  Trypetheliaceae  Bogoriella   \n37  Lecanoromycetes    Peltigerales    Collemataceae   Leptogium   \n38  Lecanoromycetes    Peltigerales      Lobariaceae  Lobariella   \n40  Lecanoromycetes    Peltigerales      Lobariaceae  Lobariella   \n44  Lecanoromycetes    Peltigerales      Lobariaceae      Sticta   \n47  Lecanoromycetes    Peltigerales      Lobariaceae      Sticta   \n57   Agaricomycetes      Agaricales   Hygrophoraceae        Cora   \n60   Agaricomycetes      Agaricales   Hygrophoraceae        Cora   \n61   Agaricomycetes      Agaricales   Hygrophoraceae        Cora   \n66   Agaricomycetes      Agaricales   Hygrophoraceae        Cora   \n\n   EPITETO ESPECIFICO EPITETO INFRAESPECIFICO RANGO DE TAXON  \\\n6            apposita                     NaN        Especie   \n37           inversum                     NaN        Especie   \n38          angustata                     NaN        Especie   \n40     flavomedullosa                     NaN        Especie   \n44       peltigerella                     NaN        Especie   \n47          tunjensis                     NaN        Especie   \n57       casanarensis                     NaN        Especie   \n60        davicrinita                     NaN        Especie   \n61            davidia                     NaN        Especie   \n66            inversa                     NaN        Especie   \n\n              NOMBRE CIENTIFICO 1 NOMBRE VERNACULO CODIGO NOMENCLATURA  \\\n6        (Nyl.) Aptroot & Lücking              NaN                 ICN   \n37            P.M.Jørg. & Wallace              NaN                 ICN   \n38              Moncada & Lücking              NaN                 ICN   \n40     Moncada, Betanc. & Lücking              NaN                 ICN   \n44                  Trevis., 1869              NaN                 ICN   \n47              Moncada & Lücking              NaN                 ICN   \n57  L.Y.Vargas, Moncada & Lücking              NaN                 ICN   \n60    Moncada, Madriñán & Lücking              NaN                 ICN   \n61  Moncada, L.Y.Vargas & Lücking              NaN                 ICN   \n66              Lücking & Moncada              NaN                 ICN   \n\n   ESTADO TAXONOMICO                                TAXON OBSERVACIONES  \\\n6           Aceptado  Nombre original validado: Bogoriella apposita ...   \n37          Aceptado  Nombre original validado: Leptogium inversum |...   \n38          Aceptado  Nombre original validado: Lobariella angustata...   \n40          Aceptado  Nombre original validado: Lobariella flavomedu...   \n44          Aceptado  Nombre original validado: Sticta peltigerella ...   \n47          Aceptado  Nombre original validado: Sticta tunjensis | N...   \n57          Aceptado  Nombre original validado: Cora casanarensis | ...   \n60          Aceptado  Nombre original validado: Cora davicrinita | N...   \n61          Aceptado  Nombre original validado: Cora davidia | Nuevo...   \n66          Aceptado  Nombre original validado: Cora inversa | Nuevo...   \n\n   LENGUAJE ESTADO DE AMENAZA  \n6        es                VU  \n37       es                VU  \n38       es                VU  \n40       es                VU  \n44       es                VU  \n47       es                VU  \n57       es                VU  \n60       es                VU  \n61       es                VU  \n66       es                VU  ",
      "text/html": "<div>\n<style scoped>\n    .dataframe tbody tr th:only-of-type {\n        vertical-align: middle;\n    }\n\n    .dataframe tbody tr th {\n        vertical-align: top;\n    }\n\n    .dataframe thead th {\n        text-align: right;\n    }\n</style>\n<table border=\"1\" class=\"dataframe\">\n  <thead>\n    <tr style=\"text-align: right;\">\n      <th></th>\n      <th>IDENTIFICACION</th>\n      <th>IDENTIFICACION TAXONOMICA</th>\n      <th>NOMBRE CIENTIFICO</th>\n      <th>CLASIFICACION SUPERIOR</th>\n      <th>REINO</th>\n      <th>FILO</th>\n      <th>CLASE</th>\n      <th>ORDEN</th>\n      <th>FAMILIA</th>\n      <th>GENERO</th>\n      <th>EPITETO ESPECIFICO</th>\n      <th>EPITETO INFRAESPECIFICO</th>\n      <th>RANGO DE TAXON</th>\n      <th>NOMBRE CIENTIFICO 1</th>\n      <th>NOMBRE VERNACULO</th>\n      <th>CODIGO NOMENCLATURA</th>\n      <th>ESTADO TAXONOMICO</th>\n      <th>TAXON OBSERVACIONES</th>\n      <th>LENGUAJE</th>\n      <th>ESTADO DE AMENAZA</th>\n    </tr>\n  </thead>\n  <tbody>\n    <tr>\n      <th>6</th>\n      <td>gbif.org/species/10706304</td>\n      <td>gbif.org/species/10706304</td>\n      <td>Bogoriella apposita</td>\n      <td>Fungi | Ascomycota | Dothideomycetes | Trypeth...</td>\n      <td>Fungi</td>\n      <td>Ascomycota</td>\n      <td>Dothideomycetes</td>\n      <td>Trypetheliales</td>\n      <td>Trypetheliaceae</td>\n      <td>Bogoriella</td>\n      <td>apposita</td>\n      <td>NaN</td>\n      <td>Especie</td>\n      <td>(Nyl.) Aptroot &amp; Lücking</td>\n      <td>NaN</td>\n      <td>ICN</td>\n      <td>Aceptado</td>\n      <td>Nombre original validado: Bogoriella apposita ...</td>\n      <td>es</td>\n      <td>VU</td>\n    </tr>\n    <tr>\n      <th>37</th>\n      <td>gbif.org/species/2600937</td>\n      <td>gbif.org/species/2600937</td>\n      <td>Leptogium inversum</td>\n      <td>Fungi | Ascomycota | Lecanoromycetes | Peltige...</td>\n      <td>Fungi</td>\n      <td>Ascomycota</td>\n      <td>Lecanoromycetes</td>\n      <td>Peltigerales</td>\n      <td>Collemataceae</td>\n      <td>Leptogium</td>\n      <td>inversum</td>\n      <td>NaN</td>\n      <td>Especie</td>\n      <td>P.M.Jørg. &amp; Wallace</td>\n      <td>NaN</td>\n      <td>ICN</td>\n      <td>Aceptado</td>\n      <td>Nombre original validado: Leptogium inversum |...</td>\n      <td>es</td>\n      <td>VU</td>\n    </tr>\n    <tr>\n      <th>38</th>\n      <td>gbif.org/species/9808160</td>\n      <td>gbif.org/species/9808160</td>\n      <td>Lobariella angustata</td>\n      <td>Fungi | Ascomycota | Lecanoromycetes | Peltige...</td>\n      <td>Fungi</td>\n      <td>Ascomycota</td>\n      <td>Lecanoromycetes</td>\n      <td>Peltigerales</td>\n      <td>Lobariaceae</td>\n      <td>Lobariella</td>\n      <td>angustata</td>\n      <td>NaN</td>\n      <td>Especie</td>\n      <td>Moncada &amp; Lücking</td>\n      <td>NaN</td>\n      <td>ICN</td>\n      <td>Aceptado</td>\n      <td>Nombre original validado: Lobariella angustata...</td>\n      <td>es</td>\n      <td>VU</td>\n    </tr>\n    <tr>\n      <th>40</th>\n      <td>gbif.org/species/9646853</td>\n      <td>gbif.org/species/9646853</td>\n      <td>Lobariella flavomedullosa</td>\n      <td>Fungi | Ascomycota | Lecanoromycetes | Peltige...</td>\n      <td>Fungi</td>\n      <td>Ascomycota</td>\n      <td>Lecanoromycetes</td>\n      <td>Peltigerales</td>\n      <td>Lobariaceae</td>\n      <td>Lobariella</td>\n      <td>flavomedullosa</td>\n      <td>NaN</td>\n      <td>Especie</td>\n      <td>Moncada, Betanc. &amp; Lücking</td>\n      <td>NaN</td>\n      <td>ICN</td>\n      <td>Aceptado</td>\n      <td>Nombre original validado: Lobariella flavomedu...</td>\n      <td>es</td>\n      <td>VU</td>\n    </tr>\n    <tr>\n      <th>44</th>\n      <td>gbif.org/species/5477276</td>\n      <td>gbif.org/species/5477276</td>\n      <td>Sticta peltigerella</td>\n      <td>Fungi | Ascomycota | Lecanoromycetes | Peltige...</td>\n      <td>Fungi</td>\n      <td>Ascomycota</td>\n      <td>Lecanoromycetes</td>\n      <td>Peltigerales</td>\n      <td>Lobariaceae</td>\n      <td>Sticta</td>\n      <td>peltigerella</td>\n      <td>NaN</td>\n      <td>Especie</td>\n      <td>Trevis., 1869</td>\n      <td>NaN</td>\n      <td>ICN</td>\n      <td>Aceptado</td>\n      <td>Nombre original validado: Sticta peltigerella ...</td>\n      <td>es</td>\n      <td>VU</td>\n    </tr>\n    <tr>\n      <th>47</th>\n      <td>gbif.org/species/9819597</td>\n      <td>gbif.org/species/9819597</td>\n      <td>Sticta tunjensis</td>\n      <td>Fungi | Ascomycota | Lecanoromycetes | Peltige...</td>\n      <td>Fungi</td>\n      <td>Ascomycota</td>\n      <td>Lecanoromycetes</td>\n      <td>Peltigerales</td>\n      <td>Lobariaceae</td>\n      <td>Sticta</td>\n      <td>tunjensis</td>\n      <td>NaN</td>\n      <td>Especie</td>\n      <td>Moncada &amp; Lücking</td>\n      <td>NaN</td>\n      <td>ICN</td>\n      <td>Aceptado</td>\n      <td>Nombre original validado: Sticta tunjensis | N...</td>\n      <td>es</td>\n      <td>VU</td>\n    </tr>\n    <tr>\n      <th>57</th>\n      <td>gbif.org/species/8382898</td>\n      <td>gbif.org/species/8382898</td>\n      <td>Cora casanarensis</td>\n      <td>Fungi | Basidiomycota | Agaricomycetes | Agari...</td>\n      <td>Fungi</td>\n      <td>Basidiomycota</td>\n      <td>Agaricomycetes</td>\n      <td>Agaricales</td>\n      <td>Hygrophoraceae</td>\n      <td>Cora</td>\n      <td>casanarensis</td>\n      <td>NaN</td>\n      <td>Especie</td>\n      <td>L.Y.Vargas, Moncada &amp; Lücking</td>\n      <td>NaN</td>\n      <td>ICN</td>\n      <td>Aceptado</td>\n      <td>Nombre original validado: Cora casanarensis | ...</td>\n      <td>es</td>\n      <td>VU</td>\n    </tr>\n    <tr>\n      <th>60</th>\n      <td>gbif.org/species/9791942</td>\n      <td>gbif.org/species/9791942</td>\n      <td>Cora davicrinita</td>\n      <td>Fungi | Basidiomycota | Agaricomycetes | Agari...</td>\n      <td>Fungi</td>\n      <td>Basidiomycota</td>\n      <td>Agaricomycetes</td>\n      <td>Agaricales</td>\n      <td>Hygrophoraceae</td>\n      <td>Cora</td>\n      <td>davicrinita</td>\n      <td>NaN</td>\n      <td>Especie</td>\n      <td>Moncada, Madriñán &amp; Lücking</td>\n      <td>NaN</td>\n      <td>ICN</td>\n      <td>Aceptado</td>\n      <td>Nombre original validado: Cora davicrinita | N...</td>\n      <td>es</td>\n      <td>VU</td>\n    </tr>\n    <tr>\n      <th>61</th>\n      <td>gbif.org/species/9765776</td>\n      <td>gbif.org/species/9765776</td>\n      <td>Cora davidia</td>\n      <td>Fungi | Basidiomycota | Agaricomycetes | Agari...</td>\n      <td>Fungi</td>\n      <td>Basidiomycota</td>\n      <td>Agaricomycetes</td>\n      <td>Agaricales</td>\n      <td>Hygrophoraceae</td>\n      <td>Cora</td>\n      <td>davidia</td>\n      <td>NaN</td>\n      <td>Especie</td>\n      <td>Moncada, L.Y.Vargas &amp; Lücking</td>\n      <td>NaN</td>\n      <td>ICN</td>\n      <td>Aceptado</td>\n      <td>Nombre original validado: Cora davidia | Nuevo...</td>\n      <td>es</td>\n      <td>VU</td>\n    </tr>\n    <tr>\n      <th>66</th>\n      <td>gbif.org/species/8257450</td>\n      <td>gbif.org/species/8257450</td>\n      <td>Cora inversa</td>\n      <td>Fungi | Basidiomycota | Agaricomycetes | Agari...</td>\n      <td>Fungi</td>\n      <td>Basidiomycota</td>\n      <td>Agaricomycetes</td>\n      <td>Agaricales</td>\n      <td>Hygrophoraceae</td>\n      <td>Cora</td>\n      <td>inversa</td>\n      <td>NaN</td>\n      <td>Especie</td>\n      <td>Lücking &amp; Moncada</td>\n      <td>NaN</td>\n      <td>ICN</td>\n      <td>Aceptado</td>\n      <td>Nombre original validado: Cora inversa | Nuevo...</td>\n      <td>es</td>\n      <td>VU</td>\n    </tr>\n  </tbody>\n</table>\n</div>"
     },
     "execution_count": 178,
     "metadata": {},
     "output_type": "execute_result"
    }
   ],
   "source": [
    "fungiVU = endangeredSpecies.loc[\n",
    "    (endangeredSpecies['REINO'] == 'Fungi') & (endangeredSpecies['ESTADO DE AMENAZA'] == 'VU')]\n",
    "fungiVU"
   ],
   "metadata": {
    "collapsed": false,
    "ExecuteTime": {
     "end_time": "2024-04-18T19:37:41.351519700Z",
     "start_time": "2024-04-18T19:37:41.327243800Z"
    }
   },
   "id": "8716f90e956355df"
  },
  {
   "cell_type": "code",
   "execution_count": 179,
   "outputs": [
    {
     "data": {
      "text/plain": "6     Bogoriella\n37     Leptogium\n38    Lobariella\n40    Lobariella\n44        Sticta\n47        Sticta\n57          Cora\n60          Cora\n61          Cora\n66          Cora\nName: GENERO, dtype: object"
     },
     "execution_count": 179,
     "metadata": {},
     "output_type": "execute_result"
    }
   ],
   "source": [
    "fungiVU['GENERO']"
   ],
   "metadata": {
    "collapsed": false,
    "ExecuteTime": {
     "end_time": "2024-04-18T19:37:43.948249700Z",
     "start_time": "2024-04-18T19:37:43.932643600Z"
    }
   },
   "id": "e808e1dfe187e51d"
  },
  {
   "cell_type": "code",
   "execution_count": 180,
   "outputs": [
    {
     "name": "stderr",
     "output_type": "stream",
     "text": [
      "C:\\Users\\USER\\AppData\\Local\\Temp\\ipykernel_10012\\3035650388.py:2: SettingWithCopyWarning:\n",
      "\n",
      "\n",
      "A value is trying to be set on a copy of a slice from a DataFrame.\n",
      "Try using .loc[row_indexer,col_indexer] = value instead\n",
      "\n",
      "See the caveats in the documentation: https://pandas.pydata.org/pandas-docs/stable/user_guide/indexing.html#returning-a-view-versus-a-copy\n",
      "\n",
      "C:\\Users\\USER\\AppData\\Local\\Temp\\ipykernel_10012\\3035650388.py:2: SettingWithCopyWarning:\n",
      "\n",
      "\n",
      "A value is trying to be set on a copy of a slice from a DataFrame.\n",
      "Try using .loc[row_indexer,col_indexer] = value instead\n",
      "\n",
      "See the caveats in the documentation: https://pandas.pydata.org/pandas-docs/stable/user_guide/indexing.html#returning-a-view-versus-a-copy\n",
      "\n",
      "C:\\Users\\USER\\AppData\\Local\\Temp\\ipykernel_10012\\3035650388.py:2: SettingWithCopyWarning:\n",
      "\n",
      "\n",
      "A value is trying to be set on a copy of a slice from a DataFrame.\n",
      "Try using .loc[row_indexer,col_indexer] = value instead\n",
      "\n",
      "See the caveats in the documentation: https://pandas.pydata.org/pandas-docs/stable/user_guide/indexing.html#returning-a-view-versus-a-copy\n",
      "\n",
      "C:\\Users\\USER\\AppData\\Local\\Temp\\ipykernel_10012\\3035650388.py:2: SettingWithCopyWarning:\n",
      "\n",
      "\n",
      "A value is trying to be set on a copy of a slice from a DataFrame.\n",
      "Try using .loc[row_indexer,col_indexer] = value instead\n",
      "\n",
      "See the caveats in the documentation: https://pandas.pydata.org/pandas-docs/stable/user_guide/indexing.html#returning-a-view-versus-a-copy\n",
      "\n",
      "C:\\Users\\USER\\AppData\\Local\\Temp\\ipykernel_10012\\3035650388.py:2: SettingWithCopyWarning:\n",
      "\n",
      "\n",
      "A value is trying to be set on a copy of a slice from a DataFrame.\n",
      "Try using .loc[row_indexer,col_indexer] = value instead\n",
      "\n",
      "See the caveats in the documentation: https://pandas.pydata.org/pandas-docs/stable/user_guide/indexing.html#returning-a-view-versus-a-copy\n",
      "\n",
      "C:\\Users\\USER\\AppData\\Local\\Temp\\ipykernel_10012\\3035650388.py:2: SettingWithCopyWarning:\n",
      "\n",
      "\n",
      "A value is trying to be set on a copy of a slice from a DataFrame.\n",
      "Try using .loc[row_indexer,col_indexer] = value instead\n",
      "\n",
      "See the caveats in the documentation: https://pandas.pydata.org/pandas-docs/stable/user_guide/indexing.html#returning-a-view-versus-a-copy\n",
      "\n",
      "C:\\Users\\USER\\AppData\\Local\\Temp\\ipykernel_10012\\3035650388.py:2: SettingWithCopyWarning:\n",
      "\n",
      "\n",
      "A value is trying to be set on a copy of a slice from a DataFrame.\n",
      "Try using .loc[row_indexer,col_indexer] = value instead\n",
      "\n",
      "See the caveats in the documentation: https://pandas.pydata.org/pandas-docs/stable/user_guide/indexing.html#returning-a-view-versus-a-copy\n",
      "\n",
      "C:\\Users\\USER\\AppData\\Local\\Temp\\ipykernel_10012\\3035650388.py:2: SettingWithCopyWarning:\n",
      "\n",
      "\n",
      "A value is trying to be set on a copy of a slice from a DataFrame.\n",
      "Try using .loc[row_indexer,col_indexer] = value instead\n",
      "\n",
      "See the caveats in the documentation: https://pandas.pydata.org/pandas-docs/stable/user_guide/indexing.html#returning-a-view-versus-a-copy\n",
      "\n",
      "C:\\Users\\USER\\AppData\\Local\\Temp\\ipykernel_10012\\3035650388.py:2: SettingWithCopyWarning:\n",
      "\n",
      "\n",
      "A value is trying to be set on a copy of a slice from a DataFrame.\n",
      "Try using .loc[row_indexer,col_indexer] = value instead\n",
      "\n",
      "See the caveats in the documentation: https://pandas.pydata.org/pandas-docs/stable/user_guide/indexing.html#returning-a-view-versus-a-copy\n",
      "\n",
      "C:\\Users\\USER\\AppData\\Local\\Temp\\ipykernel_10012\\3035650388.py:2: SettingWithCopyWarning:\n",
      "\n",
      "\n",
      "A value is trying to be set on a copy of a slice from a DataFrame.\n",
      "Try using .loc[row_indexer,col_indexer] = value instead\n",
      "\n",
      "See the caveats in the documentation: https://pandas.pydata.org/pandas-docs/stable/user_guide/indexing.html#returning-a-view-versus-a-copy\n",
      "\n",
      "C:\\Users\\USER\\AppData\\Local\\Temp\\ipykernel_10012\\3035650388.py:2: SettingWithCopyWarning:\n",
      "\n",
      "\n",
      "A value is trying to be set on a copy of a slice from a DataFrame.\n",
      "Try using .loc[row_indexer,col_indexer] = value instead\n",
      "\n",
      "See the caveats in the documentation: https://pandas.pydata.org/pandas-docs/stable/user_guide/indexing.html#returning-a-view-versus-a-copy\n",
      "\n",
      "C:\\Users\\USER\\AppData\\Local\\Temp\\ipykernel_10012\\3035650388.py:2: SettingWithCopyWarning:\n",
      "\n",
      "\n",
      "A value is trying to be set on a copy of a slice from a DataFrame.\n",
      "Try using .loc[row_indexer,col_indexer] = value instead\n",
      "\n",
      "See the caveats in the documentation: https://pandas.pydata.org/pandas-docs/stable/user_guide/indexing.html#returning-a-view-versus-a-copy\n",
      "\n",
      "C:\\Users\\USER\\AppData\\Local\\Temp\\ipykernel_10012\\3035650388.py:2: SettingWithCopyWarning:\n",
      "\n",
      "\n",
      "A value is trying to be set on a copy of a slice from a DataFrame.\n",
      "Try using .loc[row_indexer,col_indexer] = value instead\n",
      "\n",
      "See the caveats in the documentation: https://pandas.pydata.org/pandas-docs/stable/user_guide/indexing.html#returning-a-view-versus-a-copy\n",
      "\n",
      "C:\\Users\\USER\\AppData\\Local\\Temp\\ipykernel_10012\\3035650388.py:2: SettingWithCopyWarning:\n",
      "\n",
      "\n",
      "A value is trying to be set on a copy of a slice from a DataFrame.\n",
      "Try using .loc[row_indexer,col_indexer] = value instead\n",
      "\n",
      "See the caveats in the documentation: https://pandas.pydata.org/pandas-docs/stable/user_guide/indexing.html#returning-a-view-versus-a-copy\n",
      "\n",
      "C:\\Users\\USER\\AppData\\Local\\Temp\\ipykernel_10012\\3035650388.py:2: SettingWithCopyWarning:\n",
      "\n",
      "\n",
      "A value is trying to be set on a copy of a slice from a DataFrame.\n",
      "Try using .loc[row_indexer,col_indexer] = value instead\n",
      "\n",
      "See the caveats in the documentation: https://pandas.pydata.org/pandas-docs/stable/user_guide/indexing.html#returning-a-view-versus-a-copy\n",
      "\n",
      "C:\\Users\\USER\\AppData\\Local\\Temp\\ipykernel_10012\\3035650388.py:2: SettingWithCopyWarning:\n",
      "\n",
      "\n",
      "A value is trying to be set on a copy of a slice from a DataFrame.\n",
      "Try using .loc[row_indexer,col_indexer] = value instead\n",
      "\n",
      "See the caveats in the documentation: https://pandas.pydata.org/pandas-docs/stable/user_guide/indexing.html#returning-a-view-versus-a-copy\n",
      "\n",
      "C:\\Users\\USER\\AppData\\Local\\Temp\\ipykernel_10012\\3035650388.py:2: SettingWithCopyWarning:\n",
      "\n",
      "\n",
      "A value is trying to be set on a copy of a slice from a DataFrame.\n",
      "Try using .loc[row_indexer,col_indexer] = value instead\n",
      "\n",
      "See the caveats in the documentation: https://pandas.pydata.org/pandas-docs/stable/user_guide/indexing.html#returning-a-view-versus-a-copy\n",
      "\n",
      "C:\\Users\\USER\\AppData\\Local\\Temp\\ipykernel_10012\\3035650388.py:2: SettingWithCopyWarning:\n",
      "\n",
      "\n",
      "A value is trying to be set on a copy of a slice from a DataFrame.\n",
      "Try using .loc[row_indexer,col_indexer] = value instead\n",
      "\n",
      "See the caveats in the documentation: https://pandas.pydata.org/pandas-docs/stable/user_guide/indexing.html#returning-a-view-versus-a-copy\n",
      "\n",
      "C:\\Users\\USER\\AppData\\Local\\Temp\\ipykernel_10012\\3035650388.py:2: SettingWithCopyWarning:\n",
      "\n",
      "\n",
      "A value is trying to be set on a copy of a slice from a DataFrame.\n",
      "Try using .loc[row_indexer,col_indexer] = value instead\n",
      "\n",
      "See the caveats in the documentation: https://pandas.pydata.org/pandas-docs/stable/user_guide/indexing.html#returning-a-view-versus-a-copy\n",
      "\n"
     ]
    },
    {
     "data": {
      "text/plain": "<Figure size 1000x800 with 1 Axes>",
      "image/png": "[encoded data removed]"
     },
     "metadata": {},
     "output_type": "display_data"
    }
   ],
   "source": [
    "for col in fungiVU.columns[1:]:  # Skip 'REINO' or any other column that should not be encoded\n",
    "    fungiVU[col] = fungiVU[col].astype('category').cat.codes\n",
    "\n",
    "Z = linkage(fungiVU.iloc[:, 1:], 'ward')\n",
    "\n",
    "plt.figure(figsize=(10, 8))\n",
    "dendrogram(Z, labels=fungiVU['GENERO'].tolist(), leaf_rotation=90, leaf_font_size=12)\n",
    "plt.title('Dendrogram of Taxonomic Classification')\n",
    "plt.xlabel('Genus')\n",
    "plt.ylabel('Distance')\n",
    "plt.xticks(rotation=90)\n",
    "plt.show()"
   ],
   "metadata": {
    "collapsed": false,
    "ExecuteTime": {
     "end_time": "2024-04-18T19:37:49.538137900Z",
     "start_time": "2024-04-18T19:37:49.242623400Z"
    }
   },
   "id": "bda4370976c06b9d"
  },
  {
   "cell_type": "code",
   "execution_count": 181,
   "outputs": [
    {
     "data": {
      "text/plain": "6     0\n37    2\n38    3\n40    3\n44    4\n47    4\n57    1\n60    1\n61    1\n66    1\nName: GENERO, dtype: int8"
     },
     "execution_count": 181,
     "metadata": {},
     "output_type": "execute_result"
    }
   ],
   "source": [
    "fungiVU['GENERO']"
   ],
   "metadata": {
    "collapsed": false,
    "ExecuteTime": {
     "end_time": "2024-04-18T19:38:11.402192400Z",
     "start_time": "2024-04-18T19:38:11.378441700Z"
    }
   },
   "id": "f1de41554d20886c"
  },
  {
   "cell_type": "code",
   "execution_count": 182,
   "outputs": [
    {
     "data": {
      "text/plain": "               IDENTIFICACION  IDENTIFICACION TAXONOMICA  \\\n0    gbif.org/species/3548724   gbif.org/species/3548724   \n1    gbif.org/species/3548779   gbif.org/species/3548779   \n2   gbif.org/species/10800176  gbif.org/species/10800176   \n3   gbif.org/species/10874088  gbif.org/species/10874088   \n4    gbif.org/species/5516240   gbif.org/species/5516240   \n..                        ...                        ...   \n76   gbif.org/species/9686567   gbif.org/species/9686567   \n77   gbif.org/species/2555264   gbif.org/species/2555264   \n78   gbif.org/species/2555266   gbif.org/species/2555266   \n79  gbif.org/species/10759556  gbif.org/species/10759556   \n80  gbif.org/species/10755851  gbif.org/species/10755851   \n\n              NOMBRE CIENTIFICO  \\\n0           Arthonia obscurella   \n1      Arthonia septemlocularis   \n2   Ancistrosporella leucophila   \n3           Byssoloma permutans   \n4          Lecanactis proximans   \n..                          ...   \n76             Cora verjonensis   \n77       Lepidostroma calocerum   \n78       Multiclavula coronilla   \n79  Sulzbacheromyces chocoensis   \n80   Sulzbacheromyces tutunendo   \n\n                               CLASIFICACION SUPERIOR  REINO           FILO  \\\n0   Fungi | Ascomycota | Arthoniomycetes | Arthoni...  Fungi     Ascomycota   \n1   Fungi | Ascomycota | Arthoniomycetes | Arthoni...  Fungi     Ascomycota   \n2   Fungi | Ascomycota | Arthoniomycetes | Arthoni...  Fungi     Ascomycota   \n3   Fungi | Ascomycota | Arthoniomycetes | Arthoni...  Fungi     Ascomycota   \n4   Fungi | Ascomycota | Arthoniomycetes | Arthoni...  Fungi     Ascomycota   \n..                                                ...    ...            ...   \n76  Fungi | Basidiomycota | Agaricomycetes | Agari...  Fungi  Basidiomycota   \n77  Fungi | Basidiomycota | Agaricomycetes | Canth...  Fungi  Basidiomycota   \n78  Fungi | Basidiomycota | Agaricomycetes | Canth...  Fungi  Basidiomycota   \n79  Fungi | Basidiomycota | Agaricomycetes | Lepid...  Fungi  Basidiomycota   \n80  Fungi | Basidiomycota | Agaricomycetes | Lepid...  Fungi  Basidiomycota   \n\n              CLASE              ORDEN             FAMILIA            GENERO  \\\n0   Arthoniomycetes        Arthoniales        Arthoniaceae          Arthonia   \n1   Arthoniomycetes        Arthoniales        Arthoniaceae          Arthonia   \n2   Arthoniomycetes        Arthoniales        Roccellaceae  Ancistrosporella   \n3   Lecanoromycetes        Lecanorales     Byssolomataceae         Byssoloma   \n4   Arthoniomycetes        Arthoniales        Roccellaceae        Lecanactis   \n..              ...                ...                 ...               ...   \n76   Agaricomycetes         Agaricales      Hygrophoraceae              Cora   \n77   Agaricomycetes     Cantharellales  Lepidostromataceae      Lepidostroma   \n78   Agaricomycetes     Cantharellales           Hydnaceae      Multiclavula   \n79   Agaricomycetes  Lepidostromatales  Lepidostromataceae  Sulzbacheromyces   \n80   Agaricomycetes  Lepidostromatales  Lepidostromataceae  Sulzbacheromyces   \n\n   EPITETO ESPECIFICO EPITETO INFRAESPECIFICO RANGO DE TAXON  \\\n0          obscurella                     NaN        Especie   \n1     septemlocularis                     NaN        Especie   \n2          leucophila                     NaN        Especie   \n3           permutans                     NaN        Especie   \n4           proximans                     NaN        Especie   \n..                ...                     ...            ...   \n76        verjonensis                     NaN        Especie   \n77          calocerum                     NaN        Especie   \n78          coronilla                     NaN        Especie   \n79         chocoensis                     NaN        Especie   \n80          tutunendo                     NaN        Especie   \n\n             NOMBRE CIENTIFICO 1 NOMBRE VERNACULO CODIGO NOMENCLATURA  \\\n0                      Müll.Arg.              NaN                 ICN   \n1                      Müll.Arg.              NaN                 ICN   \n2                    (Nyl.) Ertz              NaN                 ICN   \n3                 (Nyl.) Lücking              NaN                 ICN   \n4                 (Nyl.) Zahlbr.              NaN                 ICN   \n..                           ...              ...                 ...   \n76  Lücking, Moncada & Dal-Forno              NaN                 ICN   \n77           (G.W.Martin) Oberw.              NaN                 ICN   \n78     (G.W.Martin) R.H.Petersen              NaN                 ICN   \n79       Coca, Lücking & Moncada              NaN                 ICN   \n80       Coca, Lücking & Moncada              NaN                 ICN   \n\n   ESTADO TAXONOMICO                                TAXON OBSERVACIONES  \\\n0           Aceptado  Nombre original validado: Arthonia obscurella ...   \n1           Aceptado  Nombre original validado: Arthonia septemlocul...   \n2           Aceptado  Nombre original validado: Ancistrosporella leu...   \n3           Aceptado  Nombre original validado: Byssoloma permutans ...   \n4           Aceptado  Nombre original validado: Lecanactis proximans...   \n..               ...                                                ...   \n76          Aceptado  Nombre original validado: Cora verjonensis | N...   \n77          Aceptado  Nombre original validado: Lepidostroma calocer...   \n78          Aceptado  Nombre original validado: Multiclavula coronil...   \n79          Aceptado  Nombre original validado: Sulzbacheromyces cho...   \n80          Aceptado  Nombre original validado: Sulzbacheromyces tut...   \n\n   LENGUAJE ESTADO DE AMENAZA  \n0        es                CR  \n1        es                CR  \n2        es                CR  \n3        es                CR  \n4        es                CR  \n..      ...               ...  \n76       es                CR  \n77       es                EN  \n78       es                CR  \n79       es                CR  \n80       es                CR  \n\n[81 rows x 20 columns]",
      "text/html": "<div>\n<style scoped>\n    .dataframe tbody tr th:only-of-type {\n        vertical-align: middle;\n    }\n\n    .dataframe tbody tr th {\n        vertical-align: top;\n    }\n\n    .dataframe thead th {\n        text-align: right;\n    }\n</style>\n<table border=\"1\" class=\"dataframe\">\n  <thead>\n    <tr style=\"text-align: right;\">\n      <th></th>\n      <th>IDENTIFICACION</th>\n      <th>IDENTIFICACION TAXONOMICA</th>\n      <th>NOMBRE CIENTIFICO</th>\n      <th>CLASIFICACION SUPERIOR</th>\n      <th>REINO</th>\n      <th>FILO</th>\n      <th>CLASE</th>\n      <th>ORDEN</th>\n      <th>FAMILIA</th>\n      <th>GENERO</th>\n      <th>EPITETO ESPECIFICO</th>\n      <th>EPITETO INFRAESPECIFICO</th>\n      <th>RANGO DE TAXON</th>\n      <th>NOMBRE CIENTIFICO 1</th>\n      <th>NOMBRE VERNACULO</th>\n      <th>CODIGO NOMENCLATURA</th>\n      <th>ESTADO TAXONOMICO</th>\n      <th>TAXON OBSERVACIONES</th>\n      <th>LENGUAJE</th>\n      <th>ESTADO DE AMENAZA</th>\n    </tr>\n  </thead>\n  <tbody>\n    <tr>\n      <th>0</th>\n      <td>gbif.org/species/3548724</td>\n      <td>gbif.org/species/3548724</td>\n      <td>Arthonia obscurella</td>\n      <td>Fungi | Ascomycota | Arthoniomycetes | Arthoni...</td>\n      <td>Fungi</td>\n      <td>Ascomycota</td>\n      <td>Arthoniomycetes</td>\n      <td>Arthoniales</td>\n      <td>Arthoniaceae</td>\n      <td>Arthonia</td>\n      <td>obscurella</td>\n      <td>NaN</td>\n      <td>Especie</td>\n      <td>Müll.Arg.</td>\n      <td>NaN</td>\n      <td>ICN</td>\n      <td>Aceptado</td>\n      <td>Nombre original validado: Arthonia obscurella ...</td>\n      <td>es</td>\n      <td>CR</td>\n    </tr>\n    <tr>\n      <th>1</th>\n      <td>gbif.org/species/3548779</td>\n      <td>gbif.org/species/3548779</td>\n      <td>Arthonia septemlocularis</td>\n      <td>Fungi | Ascomycota | Arthoniomycetes | Arthoni...</td>\n      <td>Fungi</td>\n      <td>Ascomycota</td>\n      <td>Arthoniomycetes</td>\n      <td>Arthoniales</td>\n      <td>Arthoniaceae</td>\n      <td>Arthonia</td>\n      <td>septemlocularis</td>\n      <td>NaN</td>\n      <td>Especie</td>\n      <td>Müll.Arg.</td>\n      <td>NaN</td>\n      <td>ICN</td>\n      <td>Aceptado</td>\n      <td>Nombre original validado: Arthonia septemlocul...</td>\n      <td>es</td>\n      <td>CR</td>\n    </tr>\n    <tr>\n      <th>2</th>\n      <td>gbif.org/species/10800176</td>\n      <td>gbif.org/species/10800176</td>\n      <td>Ancistrosporella leucophila</td>\n      <td>Fungi | Ascomycota | Arthoniomycetes | Arthoni...</td>\n      <td>Fungi</td>\n      <td>Ascomycota</td>\n      <td>Arthoniomycetes</td>\n      <td>Arthoniales</td>\n      <td>Roccellaceae</td>\n      <td>Ancistrosporella</td>\n      <td>leucophila</td>\n      <td>NaN</td>\n      <td>Especie</td>\n      <td>(Nyl.) Ertz</td>\n      <td>NaN</td>\n      <td>ICN</td>\n      <td>Aceptado</td>\n      <td>Nombre original validado: Ancistrosporella leu...</td>\n      <td>es</td>\n      <td>CR</td>\n    </tr>\n    <tr>\n      <th>3</th>\n      <td>gbif.org/species/10874088</td>\n      <td>gbif.org/species/10874088</td>\n      <td>Byssoloma permutans</td>\n      <td>Fungi | Ascomycota | Arthoniomycetes | Arthoni...</td>\n      <td>Fungi</td>\n      <td>Ascomycota</td>\n      <td>Lecanoromycetes</td>\n      <td>Lecanorales</td>\n      <td>Byssolomataceae</td>\n      <td>Byssoloma</td>\n      <td>permutans</td>\n      <td>NaN</td>\n      <td>Especie</td>\n      <td>(Nyl.) Lücking</td>\n      <td>NaN</td>\n      <td>ICN</td>\n      <td>Aceptado</td>\n      <td>Nombre original validado: Byssoloma permutans ...</td>\n      <td>es</td>\n      <td>CR</td>\n    </tr>\n    <tr>\n      <th>4</th>\n      <td>gbif.org/species/5516240</td>\n      <td>gbif.org/species/5516240</td>\n      <td>Lecanactis proximans</td>\n      <td>Fungi | Ascomycota | Arthoniomycetes | Arthoni...</td>\n      <td>Fungi</td>\n      <td>Ascomycota</td>\n      <td>Arthoniomycetes</td>\n      <td>Arthoniales</td>\n      <td>Roccellaceae</td>\n      <td>Lecanactis</td>\n      <td>proximans</td>\n      <td>NaN</td>\n      <td>Especie</td>\n      <td>(Nyl.) Zahlbr.</td>\n      <td>NaN</td>\n      <td>ICN</td>\n      <td>Aceptado</td>\n      <td>Nombre original validado: Lecanactis proximans...</td>\n      <td>es</td>\n      <td>CR</td>\n    </tr>\n    <tr>\n      <th>...</th>\n      <td>...</td>\n      <td>...</td>\n      <td>...</td>\n      <td>...</td>\n      <td>...</td>\n      <td>...</td>\n      <td>...</td>\n      <td>...</td>\n      <td>...</td>\n      <td>...</td>\n      <td>...</td>\n      <td>...</td>\n      <td>...</td>\n      <td>...</td>\n      <td>...</td>\n      <td>...</td>\n      <td>...</td>\n      <td>...</td>\n      <td>...</td>\n      <td>...</td>\n    </tr>\n    <tr>\n      <th>76</th>\n      <td>gbif.org/species/9686567</td>\n      <td>gbif.org/species/9686567</td>\n      <td>Cora verjonensis</td>\n      <td>Fungi | Basidiomycota | Agaricomycetes | Agari...</td>\n      <td>Fungi</td>\n      <td>Basidiomycota</td>\n      <td>Agaricomycetes</td>\n      <td>Agaricales</td>\n      <td>Hygrophoraceae</td>\n      <td>Cora</td>\n      <td>verjonensis</td>\n      <td>NaN</td>\n      <td>Especie</td>\n      <td>Lücking, Moncada &amp; Dal-Forno</td>\n      <td>NaN</td>\n      <td>ICN</td>\n      <td>Aceptado</td>\n      <td>Nombre original validado: Cora verjonensis | N...</td>\n      <td>es</td>\n      <td>CR</td>\n    </tr>\n    <tr>\n      <th>77</th>\n      <td>gbif.org/species/2555264</td>\n      <td>gbif.org/species/2555264</td>\n      <td>Lepidostroma calocerum</td>\n      <td>Fungi | Basidiomycota | Agaricomycetes | Canth...</td>\n      <td>Fungi</td>\n      <td>Basidiomycota</td>\n      <td>Agaricomycetes</td>\n      <td>Cantharellales</td>\n      <td>Lepidostromataceae</td>\n      <td>Lepidostroma</td>\n      <td>calocerum</td>\n      <td>NaN</td>\n      <td>Especie</td>\n      <td>(G.W.Martin) Oberw.</td>\n      <td>NaN</td>\n      <td>ICN</td>\n      <td>Aceptado</td>\n      <td>Nombre original validado: Lepidostroma calocer...</td>\n      <td>es</td>\n      <td>EN</td>\n    </tr>\n    <tr>\n      <th>78</th>\n      <td>gbif.org/species/2555266</td>\n      <td>gbif.org/species/2555266</td>\n      <td>Multiclavula coronilla</td>\n      <td>Fungi | Basidiomycota | Agaricomycetes | Canth...</td>\n      <td>Fungi</td>\n      <td>Basidiomycota</td>\n      <td>Agaricomycetes</td>\n      <td>Cantharellales</td>\n      <td>Hydnaceae</td>\n      <td>Multiclavula</td>\n      <td>coronilla</td>\n      <td>NaN</td>\n      <td>Especie</td>\n      <td>(G.W.Martin) R.H.Petersen</td>\n      <td>NaN</td>\n      <td>ICN</td>\n      <td>Aceptado</td>\n      <td>Nombre original validado: Multiclavula coronil...</td>\n      <td>es</td>\n      <td>CR</td>\n    </tr>\n    <tr>\n      <th>79</th>\n      <td>gbif.org/species/10759556</td>\n      <td>gbif.org/species/10759556</td>\n      <td>Sulzbacheromyces chocoensis</td>\n      <td>Fungi | Basidiomycota | Agaricomycetes | Lepid...</td>\n      <td>Fungi</td>\n      <td>Basidiomycota</td>\n      <td>Agaricomycetes</td>\n      <td>Lepidostromatales</td>\n      <td>Lepidostromataceae</td>\n      <td>Sulzbacheromyces</td>\n      <td>chocoensis</td>\n      <td>NaN</td>\n      <td>Especie</td>\n      <td>Coca, Lücking &amp; Moncada</td>\n      <td>NaN</td>\n      <td>ICN</td>\n      <td>Aceptado</td>\n      <td>Nombre original validado: Sulzbacheromyces cho...</td>\n      <td>es</td>\n      <td>CR</td>\n    </tr>\n    <tr>\n      <th>80</th>\n      <td>gbif.org/species/10755851</td>\n      <td>gbif.org/species/10755851</td>\n      <td>Sulzbacheromyces tutunendo</td>\n      <td>Fungi | Basidiomycota | Agaricomycetes | Lepid...</td>\n      <td>Fungi</td>\n      <td>Basidiomycota</td>\n      <td>Agaricomycetes</td>\n      <td>Lepidostromatales</td>\n      <td>Lepidostromataceae</td>\n      <td>Sulzbacheromyces</td>\n      <td>tutunendo</td>\n      <td>NaN</td>\n      <td>Especie</td>\n      <td>Coca, Lücking &amp; Moncada</td>\n      <td>NaN</td>\n      <td>ICN</td>\n      <td>Aceptado</td>\n      <td>Nombre original validado: Sulzbacheromyces tut...</td>\n      <td>es</td>\n      <td>CR</td>\n    </tr>\n  </tbody>\n</table>\n<p>81 rows × 20 columns</p>\n</div>"
     },
     "execution_count": 182,
     "metadata": {},
     "output_type": "execute_result"
    }
   ],
   "source": [
    "fungi = endangeredSpecies.loc[endangeredSpecies['REINO'] == 'Fungi']\n",
    "fungi"
   ],
   "metadata": {
    "collapsed": false,
    "ExecuteTime": {
     "end_time": "2024-04-18T19:38:35.865692300Z",
     "start_time": "2024-04-18T19:38:35.854855100Z"
    }
   },
   "id": "2a9ba72853402691"
  },
  {
   "cell_type": "markdown",
   "source": [
    "# ¿En qué proporciones se tienen las especies en \"Estado de Amenaza\" para el Reino Fungi?"
   ],
   "metadata": {
    "collapsed": false
   },
   "id": "327b6757d26c8e4d"
  },
  {
   "cell_type": "code",
   "execution_count": 183,
   "outputs": [
    {
     "name": "stdout",
     "output_type": "stream",
     "text": [
      "Requirement already satisfied: squarify in c:\\users\\user\\anaconda3\\lib\\site-packages (0.4.3)\n"
     ]
    }
   ],
   "source": [
    "!pip install squarify\n",
    "import squarify"
   ],
   "metadata": {
    "collapsed": false,
    "ExecuteTime": {
     "end_time": "2024-04-18T19:38:48.649798100Z",
     "start_time": "2024-04-18T19:38:41.803755900Z"
    }
   },
   "id": "683355ff7925fb30"
  },
  {
   "cell_type": "code",
   "execution_count": 184,
   "outputs": [
    {
     "data": {
      "text/plain": "    ESTADO DE AMENAZA\nCR                 53\nEN                 18\nVU                 10",
      "text/html": "<div>\n<style scoped>\n    .dataframe tbody tr th:only-of-type {\n        vertical-align: middle;\n    }\n\n    .dataframe tbody tr th {\n        vertical-align: top;\n    }\n\n    .dataframe thead th {\n        text-align: right;\n    }\n</style>\n<table border=\"1\" class=\"dataframe\">\n  <thead>\n    <tr style=\"text-align: right;\">\n      <th></th>\n      <th>ESTADO DE AMENAZA</th>\n    </tr>\n  </thead>\n  <tbody>\n    <tr>\n      <th>CR</th>\n      <td>53</td>\n    </tr>\n    <tr>\n      <th>EN</th>\n      <td>18</td>\n    </tr>\n    <tr>\n      <th>VU</th>\n      <td>10</td>\n    </tr>\n  </tbody>\n</table>\n</div>"
     },
     "execution_count": 184,
     "metadata": {},
     "output_type": "execute_result"
    }
   ],
   "source": [
    "fungiEndangered = fungi['ESTADO DE AMENAZA'].value_counts()\n",
    "pd.DataFrame(fungiEndangered)"
   ],
   "metadata": {
    "collapsed": false,
    "ExecuteTime": {
     "end_time": "2024-04-18T19:38:50.792440900Z",
     "start_time": "2024-04-18T19:38:50.771833300Z"
    }
   },
   "id": "b7ae7c4d868d7c66"
  },
  {
   "cell_type": "code",
   "execution_count": 187,
   "outputs": [
    {
     "data": {
      "text/plain": "<Figure size 1200x800 with 1 Axes>",
      "image/png": "[encoded data removed]"
     },
     "metadata": {},
     "output_type": "display_data"
    }
   ],
   "source": [
    "# Given data\n",
    "data = {\n",
    "    \"ESTADO DE AMENAZA\": [\"CR\", \"EN\", \"VU\"],\n",
    "    \"Count\": [53, 18, 10]\n",
    "}\n",
    "\n",
    "# Convert the dictionary into DataFrame\n",
    "df = pd.DataFrame(data)\n",
    "\n",
    "# Create a color palette, one color for each conservation status\n",
    "colors = ['red', 'green', 'blue']\n",
    "\n",
    "# Calculate the percentage of each category\n",
    "total = df['Count'].sum()\n",
    "df['Percentage'] = (df['Count'] / total * 100).round(2)\n",
    "df['Label'] = df['ESTADO DE AMENAZA'] + ' (' + df['Percentage'].astype(str) + '%)'\n",
    "\n",
    "# Plot\n",
    "plt.figure(figsize=(12, 8))\n",
    "squarify.plot(sizes=df['Count'], label=df['Label'], color=colors, alpha=0.7)\n",
    "plt.title('Treemap of Conservation Status')\n",
    "plt.axis('off')  # Disable the axes\n",
    "plt.show()"
   ],
   "metadata": {
    "collapsed": false,
    "ExecuteTime": {
     "end_time": "2024-04-18T19:41:11.318213800Z",
     "start_time": "2024-04-18T19:41:11.111709400Z"
    }
   },
   "id": "47daa74084fdb09c"
  },
  {
   "cell_type": "markdown",
   "source": [
    "# Géneros que encabezan la lista de Especies Amenazadas para cada Reino"
   ],
   "metadata": {
    "collapsed": false
   },
   "id": "9bb981d4efca7932"
  },
  {
   "cell_type": "code",
   "execution_count": 156,
   "outputs": [
    {
     "data": {
      "text/plain": "Cora                26\nGraphis              8\nLobariella           6\nSticta               4\nOcellularia          4\nPhaeographis         3\nThelotrema           3\nPertusaria           2\nArthonia             2\nSulzbacheromyces     2\nRamalina             2\nAspidothelium        1\nMulticlavula         1\nLepidostroma         1\nByssoloma            1\nCaloplaca            1\nLecanactis           1\nSchismatomma         1\nBogoriella           1\nLeptogium            1\nGyalideopsis         1\nFissurina            1\nThalloloma           1\nRedingeria           1\nPlatythecium         1\nAncistrosporella     1\nPhaeographina        1\nBadimia              1\nMyriotrema           1\nBacidia              1\nName: GENERO, dtype: int64"
     },
     "execution_count": 156,
     "metadata": {},
     "output_type": "execute_result"
    }
   ],
   "source": [
    "fungi['GENERO'].value_counts().head(10)"
   ],
   "metadata": {
    "collapsed": false,
    "ExecuteTime": {
     "end_time": "2024-04-18T19:06:03.664537900Z",
     "start_time": "2024-04-18T19:06:03.606589900Z"
    }
   },
   "id": "6fdb25979512e26c"
  },
  {
   "cell_type": "code",
   "execution_count": 162,
   "outputs": [
    {
     "data": {
      "text/plain": "Pristimantis    110\nAtelopus         33\nHyloscirtus      14\nNymphargus       12\nCentrolene       10\nHyloxalus        10\nGastrotheca      10\nBolitoglossa      9\nAndinobates       9\nStrabomantis      9\nName: GENERO, dtype: int64"
     },
     "execution_count": 162,
     "metadata": {},
     "output_type": "execute_result"
    }
   ],
   "source": [
    "animal = endangeredSpecies.loc[endangeredSpecies['REINO'] == 'Animalia']\n",
    "animal['GENERO'].value_counts().head(10)"
   ],
   "metadata": {
    "collapsed": false,
    "ExecuteTime": {
     "end_time": "2024-04-18T19:14:37.295367400Z",
     "start_time": "2024-04-18T19:14:37.229204700Z"
    }
   },
   "id": "3de7375d720fa64b"
  },
  {
   "cell_type": "code",
   "execution_count": 163,
   "outputs": [
    {
     "data": {
      "text/plain": "Masdevallia    80\nSalvia         53\nDracula        46\nEspeletia      39\nCyathea        39\nPitcairnia     33\nMagnolia       33\nPassiflora     23\nPuya           21\nSphagnum       20\nName: GENERO, dtype: int64"
     },
     "execution_count": 163,
     "metadata": {},
     "output_type": "execute_result"
    }
   ],
   "source": [
    "plants = endangeredSpecies.loc[endangeredSpecies['REINO'] == 'Plantae']\n",
    "plants['GENERO'].value_counts().head(10)"
   ],
   "metadata": {
    "collapsed": false,
    "ExecuteTime": {
     "end_time": "2024-04-18T19:15:04.916361Z",
     "start_time": "2024-04-18T19:15:04.859274400Z"
    }
   },
   "id": "6cb8c6ca75074dec"
  },
  {
   "cell_type": "markdown",
   "source": [
    "# Géneros en Estado Crítico"
   ],
   "metadata": {
    "collapsed": false
   },
   "id": "45e3f7f2d4214e89"
  },
  {
   "cell_type": "code",
   "execution_count": 189,
   "outputs": [
    {
     "data": {
      "text/plain": "Cora                14\nGraphis              6\nPhaeographis         3\nArthonia             2\nSticta               2\nThelotrema           2\nOcellularia          2\nSulzbacheromyces     2\nRamalina             2\nGyalideopsis         1\nSchismatomma         1\nMulticlavula         1\nByssoloma            1\nCaloplaca            1\nPertusaria           1\nLecanactis           1\nLobariella           1\nAspidothelium        1\nThalloloma           1\nFissurina            1\nRedingeria           1\nPlatythecium         1\nBacidia              1\nAncistrosporella     1\nBadimia              1\nMyriotrema           1\nPhaeographina        1\nName: GENERO, dtype: int64"
     },
     "execution_count": 189,
     "metadata": {},
     "output_type": "execute_result"
    }
   ],
   "source": [
    "fungiCR = fungi.loc[(fungi[\"ESTADO DE AMENAZA\"]=='CR')]\n",
    "fungiCR['GENERO'].value_counts()"
   ],
   "metadata": {
    "collapsed": false,
    "ExecuteTime": {
     "end_time": "2024-04-18T19:46:27.538117Z",
     "start_time": "2024-04-18T19:46:27.519717700Z"
    }
   },
   "id": "35d32f1c5d98c1f4"
  },
  {
   "cell_type": "code",
   "execution_count": 193,
   "outputs": [
    {
     "data": {
      "text/plain": "Atelopus         25\nPristimantis     23\nExaerete          3\nHyloxalus         3\nOophaga           3\n                 ..\nAnolis            1\nConiophanes       1\nDendrophidion     1\nSynophis          1\nOdocoileus        1\nName: GENERO, Length: 63, dtype: int64"
     },
     "execution_count": 193,
     "metadata": {},
     "output_type": "execute_result"
    }
   ],
   "source": [
    "animalCR = animal.loc[animal['ESTADO DE AMENAZA']=='CR']\n",
    "animalCR['GENERO'].value_counts()"
   ],
   "metadata": {
    "collapsed": false,
    "ExecuteTime": {
     "end_time": "2024-04-18T19:48:21.767789600Z",
     "start_time": "2024-04-18T19:48:21.745816700Z"
    }
   },
   "id": "2ceffe2c8c75842f"
  },
  {
   "cell_type": "code",
   "execution_count": 195,
   "outputs": [
    {
     "data": {
      "text/plain": "Cyathea         16\nMagnolia        14\nPitcairnia      14\nEspeletia       11\nTillandsia       9\n                ..\nElaeagia         1\nChomelia         1\nArachnothryx     1\nMetastelma       1\nGuaiacum         1\nName: GENERO, Length: 138, dtype: int64"
     },
     "execution_count": 195,
     "metadata": {},
     "output_type": "execute_result"
    }
   ],
   "source": [
    "plantsCR = plants.loc[plants['ESTADO DE AMENAZA']=='CR']\n",
    "plantsCR['GENERO'].value_counts()"
   ],
   "metadata": {
    "collapsed": false,
    "ExecuteTime": {
     "end_time": "2024-04-18T19:49:49.490542700Z",
     "start_time": "2024-04-18T19:49:49.426980500Z"
    }
   },
   "id": "68cd9044ddc0ce2e"
  }
 ],
 "metadata": {
  "kernelspec": {
   "display_name": "Python 3",
   "language": "python",
   "name": "python3"
  },
  "language_info": {
   "codemirror_mode": {
    "name": "ipython",
    "version": 2
   },
   "file_extension": ".py",
   "mimetype": "text/x-python",
   "name": "python",
   "nbconvert_exporter": "python",
   "pygments_lexer": "ipython2",
   "version": "2.7.6"
  }
 },
 "nbformat": 4,
 "nbformat_minor": 5
}
