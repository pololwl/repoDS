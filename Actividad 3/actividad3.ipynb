{
 "cells": [
  {
   "cell_type": "code",
   "execution_count": 53,
   "outputs": [],
   "source": [
    "import matplotlib.pyplot as plt\n",
    "import pandas as pd\n",
    "import seaborn as sns\n",
    "from IPython.display import Image\n",
    "%matplotlib inline\n",
    "sns.set(color_codes=True)"
   ],
   "metadata": {
    "collapsed": false,
    "ExecuteTime": {
     "end_time": "2024-04-15T16:25:44.078450700Z",
     "start_time": "2024-04-15T16:25:44.021703100Z"
    }
   },
   "id": "3c2744cb2f95ce83"
  },
  {
   "cell_type": "markdown",
   "source": [
    "# Exploratory Data Analysis (EDA)\n",
    "Exploración general del Data set usando funciones de Pandas."
   ],
   "metadata": {
    "collapsed": false
   },
   "id": "9b15775cc3fc8f3c"
  },
  {
   "cell_type": "code",
   "execution_count": 54,
   "outputs": [],
   "source": [
    "endangeredSpecies = pd.read_csv(\n",
    "    \"especies_silvestres_amenazadas.csv\")"
   ],
   "metadata": {
    "collapsed": false,
    "ExecuteTime": {
     "end_time": "2024-04-15T16:25:44.283620100Z",
     "start_time": "2024-04-15T16:25:44.048523700Z"
    }
   },
   "id": "c40b893289a32649"
  },
  {
   "cell_type": "markdown",
   "source": [
    "## Listado oficial de las especies silvestres amenazadas de la diversidad biológica colombiana continental y marino costera - Resolución 0126 de 2024\n",
    "El listado oficial de las especies silvestres amenazadas de la diversidad biológica colombiana, tanto continental como marino-costera, es una recopilación elaborada por autoridades competentes en Colombia para identificar y proteger a las especies en riesgo de extinción o aquellas cuyas poblaciones se encuentran en declive significativo."
   ],
   "metadata": {
    "collapsed": false
   },
   "id": "5496feb3bc71dad1"
  },
  {
   "cell_type": "markdown",
   "source": [
    "| Término | Definición |\n",
    "| --- | --- |\n",
    "| IDENTIFICACIÓN | Proceso de clasificar y nombrar a los seres vivos |\n",
    "| IDENTIFICACIÓN TAXONÓMICA | Proceso de clasificar y nombrar a los seres vivos en una jerarquía taxonómica |\n",
    "| NOMBRE CIENTÍFICO | Convención utilizada en biología para designar a las especies de organismos vivos de manera precisa y universalmente reconocida |\n",
    "| CLASIFICACIÓN SUPERIOR | Sistema jerárquico utilizado en taxonomía para organizar y clasificar a los organismos vivos en grupos cada vez más inclusivos |\n",
    "| REINO | Una de las categorías más amplias y generales en el sistema de clasificación biológica |\n",
    "| FILO | Categoría taxonómica utilizada en biología para agrupar a organismos que comparten características morfológicas, embriológicas o genéticas similares |\n",
    "| CLASE | Categoría taxonómica utilizada en biología para agrupar organismos que comparten características anatómicas, fisiológicas o genéticas similares y que son más específicas que las características que definen a un filo pero más generales que las de un orden |\n",
    "| ORDEN | Categoría taxonómica utilizada en biología para agrupar organismos que comparten características más específicas que los que se agrupan en una clase, pero más generales que los que se agrupan en una familia |\n",
    "| FAMILIA | Categoría taxonómica utilizada en biología para agrupar organismos que comparten características más específicas que los que se agrupan en un orden, pero más generales que los que se agrupan en un género |\n",
    "| GÉNERO | Categoría taxonómica utilizada en biología para agrupar organismos que comparten características más específicas que los que se agrupan en una familia, pero más generales que los que se agrupan en una especie |\n",
    "| EPÍTETO ESPECÍFICO | Segunda parte del nombre científico de una especie en el sistema de nomenclatura binomial |\n",
    "| EPÍTETO INFRAESPECÍFICO | Parte adicional del nombre científico de una especie en el sistema de nomenclatura binomial, utilizado para denotar una subdivisión dentro de una especie |\n",
    "| RANGO DE TAXÓN | Nivel jerárquico en la clasificación de los seres vivos |\n",
    "| NOMBRE CIENTÍFICO 1 | Convención utilizada en biología para designar a las especies de organismos vivos de manera precisa y universalmente reconocida |\n",
    "| NOMBRE VERNÁCULO | Nombre utilizado localmente por la gente para referirse a una especie en particular, en contraste con su nombre científico |\n",
    "| CÓDIGO DE NOMENCLATURA | Conjunto de reglas y convenciones establecidas para la correcta denominación y clasificación de los organismos en la ciencia biológica |\n",
    "| ESTADO TAXONÓMICO | Posición o categoría de un organismo dentro de la clasificación biológica |\n",
    "| TAXÓN OBSERVACIONES | Grupo de organismos que comparten características similares y que están clasificados juntos en un sistema de taxonomía |\n",
    "| LENGUAJE | Sistemas de comunicación tanto humanos como no humanos, así como en el contexto de la programación informática |\n",
    "| ESTADO DE AMENAZA | Nivel de riesgo que enfrenta una especie o un ecosistema en particular debido a diversos factores que pueden poner en peligro su supervivencia |"
   ],
   "metadata": {
    "collapsed": false
   },
   "id": "dabf79074c926693"
  },
  {
   "cell_type": "markdown",
   "source": [
    "#### Fuente:\n",
    "Departamento Administrativo Nacional de Estadística. (2023). _Listado oficial de las especies silvestres amenazadas de la biodiversidad colombiana_. Datos.gov.co. https://www.datos.gov.co/Ambiente-y-Desarrollo-Sostenible/Listado-oficial-de-las-especies-silvestres-amenaza/wizt-zh64/about_data"
   ],
   "metadata": {
    "collapsed": false
   },
   "id": "dfa01d3ff0b6b463"
  },
  {
   "cell_type": "code",
   "execution_count": 55,
   "outputs": [
    {
     "data": {
      "text/plain": "              IDENTIFICACION  IDENTIFICACION TAXONOMICA  \\\n0   gbif.org/species/3548724   gbif.org/species/3548724   \n1   gbif.org/species/3548779   gbif.org/species/3548779   \n2  gbif.org/species/10800176  gbif.org/species/10800176   \n3  gbif.org/species/10874088  gbif.org/species/10874088   \n4   gbif.org/species/5516240   gbif.org/species/5516240   \n\n             NOMBRE CIENTIFICO  \\\n0          Arthonia obscurella   \n1     Arthonia septemlocularis   \n2  Ancistrosporella leucophila   \n3          Byssoloma permutans   \n4         Lecanactis proximans   \n\n                              CLASIFICACION SUPERIOR  REINO        FILO  \\\n0  Fungi | Ascomycota | Arthoniomycetes | Arthoni...  Fungi  Ascomycota   \n1  Fungi | Ascomycota | Arthoniomycetes | Arthoni...  Fungi  Ascomycota   \n2  Fungi | Ascomycota | Arthoniomycetes | Arthoni...  Fungi  Ascomycota   \n3  Fungi | Ascomycota | Arthoniomycetes | Arthoni...  Fungi  Ascomycota   \n4  Fungi | Ascomycota | Arthoniomycetes | Arthoni...  Fungi  Ascomycota   \n\n             CLASE        ORDEN          FAMILIA            GENERO  \\\n0  Arthoniomycetes  Arthoniales     Arthoniaceae          Arthonia   \n1  Arthoniomycetes  Arthoniales     Arthoniaceae          Arthonia   \n2  Arthoniomycetes  Arthoniales     Roccellaceae  Ancistrosporella   \n3  Lecanoromycetes  Lecanorales  Byssolomataceae         Byssoloma   \n4  Arthoniomycetes  Arthoniales     Roccellaceae        Lecanactis   \n\n  EPITETO ESPECIFICO EPITETO INFRAESPECIFICO RANGO DE TAXON  \\\n0         obscurella                     NaN        Especie   \n1    septemlocularis                     NaN        Especie   \n2         leucophila                     NaN        Especie   \n3          permutans                     NaN        Especie   \n4          proximans                     NaN        Especie   \n\n  NOMBRE CIENTIFICO 1 NOMBRE VERNACULO CODIGO NOMENCLATURA ESTADO TAXONOMICO  \\\n0           Müll.Arg.              NaN                 ICN          Aceptado   \n1           Müll.Arg.              NaN                 ICN          Aceptado   \n2         (Nyl.) Ertz              NaN                 ICN          Aceptado   \n3      (Nyl.) Lücking              NaN                 ICN          Aceptado   \n4      (Nyl.) Zahlbr.              NaN                 ICN          Aceptado   \n\n                                 TAXON OBSERVACIONES LENGUAJE  \\\n0  Nombre original validado: Arthonia obscurella ...       es   \n1  Nombre original validado: Arthonia septemlocul...       es   \n2  Nombre original validado: Ancistrosporella leu...       es   \n3  Nombre original validado: Byssoloma permutans ...       es   \n4  Nombre original validado: Lecanactis proximans...       es   \n\n  ESTADO DE AMENAZA  \n0                CR  \n1                CR  \n2                CR  \n3                CR  \n4                CR  ",
      "text/html": "<div>\n<style scoped>\n    .dataframe tbody tr th:only-of-type {\n        vertical-align: middle;\n    }\n\n    .dataframe tbody tr th {\n        vertical-align: top;\n    }\n\n    .dataframe thead th {\n        text-align: right;\n    }\n</style>\n<table border=\"1\" class=\"dataframe\">\n  <thead>\n    <tr style=\"text-align: right;\">\n      <th></th>\n      <th>IDENTIFICACION</th>\n      <th>IDENTIFICACION TAXONOMICA</th>\n      <th>NOMBRE CIENTIFICO</th>\n      <th>CLASIFICACION SUPERIOR</th>\n      <th>REINO</th>\n      <th>FILO</th>\n      <th>CLASE</th>\n      <th>ORDEN</th>\n      <th>FAMILIA</th>\n      <th>GENERO</th>\n      <th>EPITETO ESPECIFICO</th>\n      <th>EPITETO INFRAESPECIFICO</th>\n      <th>RANGO DE TAXON</th>\n      <th>NOMBRE CIENTIFICO 1</th>\n      <th>NOMBRE VERNACULO</th>\n      <th>CODIGO NOMENCLATURA</th>\n      <th>ESTADO TAXONOMICO</th>\n      <th>TAXON OBSERVACIONES</th>\n      <th>LENGUAJE</th>\n      <th>ESTADO DE AMENAZA</th>\n    </tr>\n  </thead>\n  <tbody>\n    <tr>\n      <th>0</th>\n      <td>gbif.org/species/3548724</td>\n      <td>gbif.org/species/3548724</td>\n      <td>Arthonia obscurella</td>\n      <td>Fungi | Ascomycota | Arthoniomycetes | Arthoni...</td>\n      <td>Fungi</td>\n      <td>Ascomycota</td>\n      <td>Arthoniomycetes</td>\n      <td>Arthoniales</td>\n      <td>Arthoniaceae</td>\n      <td>Arthonia</td>\n      <td>obscurella</td>\n      <td>NaN</td>\n      <td>Especie</td>\n      <td>Müll.Arg.</td>\n      <td>NaN</td>\n      <td>ICN</td>\n      <td>Aceptado</td>\n      <td>Nombre original validado: Arthonia obscurella ...</td>\n      <td>es</td>\n      <td>CR</td>\n    </tr>\n    <tr>\n      <th>1</th>\n      <td>gbif.org/species/3548779</td>\n      <td>gbif.org/species/3548779</td>\n      <td>Arthonia septemlocularis</td>\n      <td>Fungi | Ascomycota | Arthoniomycetes | Arthoni...</td>\n      <td>Fungi</td>\n      <td>Ascomycota</td>\n      <td>Arthoniomycetes</td>\n      <td>Arthoniales</td>\n      <td>Arthoniaceae</td>\n      <td>Arthonia</td>\n      <td>septemlocularis</td>\n      <td>NaN</td>\n      <td>Especie</td>\n      <td>Müll.Arg.</td>\n      <td>NaN</td>\n      <td>ICN</td>\n      <td>Aceptado</td>\n      <td>Nombre original validado: Arthonia septemlocul...</td>\n      <td>es</td>\n      <td>CR</td>\n    </tr>\n    <tr>\n      <th>2</th>\n      <td>gbif.org/species/10800176</td>\n      <td>gbif.org/species/10800176</td>\n      <td>Ancistrosporella leucophila</td>\n      <td>Fungi | Ascomycota | Arthoniomycetes | Arthoni...</td>\n      <td>Fungi</td>\n      <td>Ascomycota</td>\n      <td>Arthoniomycetes</td>\n      <td>Arthoniales</td>\n      <td>Roccellaceae</td>\n      <td>Ancistrosporella</td>\n      <td>leucophila</td>\n      <td>NaN</td>\n      <td>Especie</td>\n      <td>(Nyl.) Ertz</td>\n      <td>NaN</td>\n      <td>ICN</td>\n      <td>Aceptado</td>\n      <td>Nombre original validado: Ancistrosporella leu...</td>\n      <td>es</td>\n      <td>CR</td>\n    </tr>\n    <tr>\n      <th>3</th>\n      <td>gbif.org/species/10874088</td>\n      <td>gbif.org/species/10874088</td>\n      <td>Byssoloma permutans</td>\n      <td>Fungi | Ascomycota | Arthoniomycetes | Arthoni...</td>\n      <td>Fungi</td>\n      <td>Ascomycota</td>\n      <td>Lecanoromycetes</td>\n      <td>Lecanorales</td>\n      <td>Byssolomataceae</td>\n      <td>Byssoloma</td>\n      <td>permutans</td>\n      <td>NaN</td>\n      <td>Especie</td>\n      <td>(Nyl.) Lücking</td>\n      <td>NaN</td>\n      <td>ICN</td>\n      <td>Aceptado</td>\n      <td>Nombre original validado: Byssoloma permutans ...</td>\n      <td>es</td>\n      <td>CR</td>\n    </tr>\n    <tr>\n      <th>4</th>\n      <td>gbif.org/species/5516240</td>\n      <td>gbif.org/species/5516240</td>\n      <td>Lecanactis proximans</td>\n      <td>Fungi | Ascomycota | Arthoniomycetes | Arthoni...</td>\n      <td>Fungi</td>\n      <td>Ascomycota</td>\n      <td>Arthoniomycetes</td>\n      <td>Arthoniales</td>\n      <td>Roccellaceae</td>\n      <td>Lecanactis</td>\n      <td>proximans</td>\n      <td>NaN</td>\n      <td>Especie</td>\n      <td>(Nyl.) Zahlbr.</td>\n      <td>NaN</td>\n      <td>ICN</td>\n      <td>Aceptado</td>\n      <td>Nombre original validado: Lecanactis proximans...</td>\n      <td>es</td>\n      <td>CR</td>\n    </tr>\n  </tbody>\n</table>\n</div>"
     },
     "execution_count": 55,
     "metadata": {},
     "output_type": "execute_result"
    }
   ],
   "source": [
    "endangeredSpecies.head(5)"
   ],
   "metadata": {
    "collapsed": false,
    "ExecuteTime": {
     "end_time": "2024-04-15T16:25:44.285612500Z",
     "start_time": "2024-04-15T16:25:44.105505500Z"
    }
   },
   "id": "9e715c3f84d6ccd9"
  },
  {
   "cell_type": "code",
   "execution_count": 56,
   "outputs": [
    {
     "data": {
      "text/plain": "                 IDENTIFICACION  IDENTIFICACION TAXONOMICA  \\\n2098  gbif.org/species/11219159  gbif.org/species/11219159   \n2099   gbif.org/species/6156842   gbif.org/species/6156842   \n2100   gbif.org/species/6179762   gbif.org/species/6179762   \n2101   gbif.org/species/6175177   gbif.org/species/6175177   \n2102   gbif.org/species/4262310   gbif.org/species/4262310   \n\n                       NOMBRE CIENTIFICO  \\\n2098      Trachemys venusta callirostris   \n2099  Kinosternon scorpioides albogulare   \n2100    Crypturellus obsoletus castaneus   \n2101            Molothrus aeneus armenti   \n2102   Odocoileus virginianus tropicalis   \n\n                                 CLASIFICACION SUPERIOR     REINO      FILO  \\\n2098  Animalia | Chordata | Vertebrata | Reptilia | ...  Animalia  Chordata   \n2099  Animalia | Chordata | Vertebrata | Reptilia | ...  Animalia  Chordata   \n2100  Animalia | Chordata | Vertebrata | Aves | Tina...  Animalia  Chordata   \n2101  Animalia | Chordata | Vertebrata | Aves | Pass...  Animalia  Chordata   \n2102  Animalia | Chordata | Vertebrata | Mammalia | ...  Animalia  Chordata   \n\n         CLASE          ORDEN        FAMILIA        GENERO EPITETO ESPECIFICO  \\\n2098  Reptilia     Testudines       Emydidae     Trachemys            venusta   \n2099  Reptilia     Testudines  Kinosternidae   Kinosternon        scorpioides   \n2100      Aves   Tinamiformes      Tinamidae  Crypturellus          obsoletus   \n2101      Aves  Passeriformes      Icteridae     Molothrus             aeneus   \n2102  Mammalia   Artiodactyla       Cervidae    Odocoileus        virginianus   \n\n     EPITETO INFRAESPECIFICO RANGO DE TAXON        NOMBRE CIENTIFICO 1  \\\n2098            callirostris     Subespecie               (Gray, 1855)   \n2099              albogulare     Subespecie  (Duméril & Bocourt, 1870)   \n2100               castaneus     Subespecie        (P.L.Sclater, 1858)   \n2101                 armenti     Subespecie              Cabanis, 1851   \n2102              tropicalis     Subespecie              Cabrera, 1918   \n\n                          NOMBRE VERNACULO CODIGO NOMENCLATURA  \\\n2098                               Hicotea                ICZN   \n2099                                Swanka                ICZN   \n2100                          Tinamú pardo                ICZN   \n2101                     Chamón del Caribe                ICZN   \n2102  Venado sabanero | Venado cola blanca                ICZN   \n\n     ESTADO TAXONOMICO                                TAXON OBSERVACIONES  \\\n2098            Válido  Nombre original validado: Trachemys venusta ca...   \n2099            Válido  Nombre original validado: Kinosternon scorpioi...   \n2100            Válido  Nombre original validado: Crypturellus obsolet...   \n2101            Válido  Nombre original validado: Molothrus aeneus arm...   \n2102            Válido  Nombre original validado: Odocoileus virginian...   \n\n     LENGUAJE ESTADO DE AMENAZA  \n2098       es                VU  \n2099       es                VU  \n2100       es                CR  \n2101       es                VU  \n2102       es                CR  ",
      "text/html": "<div>\n<style scoped>\n    .dataframe tbody tr th:only-of-type {\n        vertical-align: middle;\n    }\n\n    .dataframe tbody tr th {\n        vertical-align: top;\n    }\n\n    .dataframe thead th {\n        text-align: right;\n    }\n</style>\n<table border=\"1\" class=\"dataframe\">\n  <thead>\n    <tr style=\"text-align: right;\">\n      <th></th>\n      <th>IDENTIFICACION</th>\n      <th>IDENTIFICACION TAXONOMICA</th>\n      <th>NOMBRE CIENTIFICO</th>\n      <th>CLASIFICACION SUPERIOR</th>\n      <th>REINO</th>\n      <th>FILO</th>\n      <th>CLASE</th>\n      <th>ORDEN</th>\n      <th>FAMILIA</th>\n      <th>GENERO</th>\n      <th>EPITETO ESPECIFICO</th>\n      <th>EPITETO INFRAESPECIFICO</th>\n      <th>RANGO DE TAXON</th>\n      <th>NOMBRE CIENTIFICO 1</th>\n      <th>NOMBRE VERNACULO</th>\n      <th>CODIGO NOMENCLATURA</th>\n      <th>ESTADO TAXONOMICO</th>\n      <th>TAXON OBSERVACIONES</th>\n      <th>LENGUAJE</th>\n      <th>ESTADO DE AMENAZA</th>\n    </tr>\n  </thead>\n  <tbody>\n    <tr>\n      <th>2098</th>\n      <td>gbif.org/species/11219159</td>\n      <td>gbif.org/species/11219159</td>\n      <td>Trachemys venusta callirostris</td>\n      <td>Animalia | Chordata | Vertebrata | Reptilia | ...</td>\n      <td>Animalia</td>\n      <td>Chordata</td>\n      <td>Reptilia</td>\n      <td>Testudines</td>\n      <td>Emydidae</td>\n      <td>Trachemys</td>\n      <td>venusta</td>\n      <td>callirostris</td>\n      <td>Subespecie</td>\n      <td>(Gray, 1855)</td>\n      <td>Hicotea</td>\n      <td>ICZN</td>\n      <td>Válido</td>\n      <td>Nombre original validado: Trachemys venusta ca...</td>\n      <td>es</td>\n      <td>VU</td>\n    </tr>\n    <tr>\n      <th>2099</th>\n      <td>gbif.org/species/6156842</td>\n      <td>gbif.org/species/6156842</td>\n      <td>Kinosternon scorpioides albogulare</td>\n      <td>Animalia | Chordata | Vertebrata | Reptilia | ...</td>\n      <td>Animalia</td>\n      <td>Chordata</td>\n      <td>Reptilia</td>\n      <td>Testudines</td>\n      <td>Kinosternidae</td>\n      <td>Kinosternon</td>\n      <td>scorpioides</td>\n      <td>albogulare</td>\n      <td>Subespecie</td>\n      <td>(Duméril &amp; Bocourt, 1870)</td>\n      <td>Swanka</td>\n      <td>ICZN</td>\n      <td>Válido</td>\n      <td>Nombre original validado: Kinosternon scorpioi...</td>\n      <td>es</td>\n      <td>VU</td>\n    </tr>\n    <tr>\n      <th>2100</th>\n      <td>gbif.org/species/6179762</td>\n      <td>gbif.org/species/6179762</td>\n      <td>Crypturellus obsoletus castaneus</td>\n      <td>Animalia | Chordata | Vertebrata | Aves | Tina...</td>\n      <td>Animalia</td>\n      <td>Chordata</td>\n      <td>Aves</td>\n      <td>Tinamiformes</td>\n      <td>Tinamidae</td>\n      <td>Crypturellus</td>\n      <td>obsoletus</td>\n      <td>castaneus</td>\n      <td>Subespecie</td>\n      <td>(P.L.Sclater, 1858)</td>\n      <td>Tinamú pardo</td>\n      <td>ICZN</td>\n      <td>Válido</td>\n      <td>Nombre original validado: Crypturellus obsolet...</td>\n      <td>es</td>\n      <td>CR</td>\n    </tr>\n    <tr>\n      <th>2101</th>\n      <td>gbif.org/species/6175177</td>\n      <td>gbif.org/species/6175177</td>\n      <td>Molothrus aeneus armenti</td>\n      <td>Animalia | Chordata | Vertebrata | Aves | Pass...</td>\n      <td>Animalia</td>\n      <td>Chordata</td>\n      <td>Aves</td>\n      <td>Passeriformes</td>\n      <td>Icteridae</td>\n      <td>Molothrus</td>\n      <td>aeneus</td>\n      <td>armenti</td>\n      <td>Subespecie</td>\n      <td>Cabanis, 1851</td>\n      <td>Chamón del Caribe</td>\n      <td>ICZN</td>\n      <td>Válido</td>\n      <td>Nombre original validado: Molothrus aeneus arm...</td>\n      <td>es</td>\n      <td>VU</td>\n    </tr>\n    <tr>\n      <th>2102</th>\n      <td>gbif.org/species/4262310</td>\n      <td>gbif.org/species/4262310</td>\n      <td>Odocoileus virginianus tropicalis</td>\n      <td>Animalia | Chordata | Vertebrata | Mammalia | ...</td>\n      <td>Animalia</td>\n      <td>Chordata</td>\n      <td>Mammalia</td>\n      <td>Artiodactyla</td>\n      <td>Cervidae</td>\n      <td>Odocoileus</td>\n      <td>virginianus</td>\n      <td>tropicalis</td>\n      <td>Subespecie</td>\n      <td>Cabrera, 1918</td>\n      <td>Venado sabanero | Venado cola blanca</td>\n      <td>ICZN</td>\n      <td>Válido</td>\n      <td>Nombre original validado: Odocoileus virginian...</td>\n      <td>es</td>\n      <td>CR</td>\n    </tr>\n  </tbody>\n</table>\n</div>"
     },
     "execution_count": 56,
     "metadata": {},
     "output_type": "execute_result"
    }
   ],
   "source": [
    "endangeredSpecies.tail(5)"
   ],
   "metadata": {
    "collapsed": false,
    "ExecuteTime": {
     "end_time": "2024-04-15T16:25:44.286610900Z",
     "start_time": "2024-04-15T16:25:44.143769800Z"
    }
   },
   "id": "61a2941c214104f3"
  },
  {
   "cell_type": "code",
   "execution_count": 57,
   "outputs": [
    {
     "name": "stdout",
     "output_type": "stream",
     "text": [
      "<class 'pandas.core.frame.DataFrame'>\n",
      "RangeIndex: 2103 entries, 0 to 2102\n",
      "Data columns (total 20 columns):\n",
      " #   Column                     Non-Null Count  Dtype \n",
      "---  ------                     --------------  ----- \n",
      " 0   IDENTIFICACION             2103 non-null   object\n",
      " 1   IDENTIFICACION TAXONOMICA  2103 non-null   object\n",
      " 2   NOMBRE CIENTIFICO          2103 non-null   object\n",
      " 3   CLASIFICACION SUPERIOR     2103 non-null   object\n",
      " 4   REINO                      2103 non-null   object\n",
      " 5   FILO                       2103 non-null   object\n",
      " 6   CLASE                      2103 non-null   object\n",
      " 7   ORDEN                      2103 non-null   object\n",
      " 8   FAMILIA                    2103 non-null   object\n",
      " 9   GENERO                     2103 non-null   object\n",
      " 10  EPITETO ESPECIFICO         2103 non-null   object\n",
      " 11  EPITETO INFRAESPECIFICO    34 non-null     object\n",
      " 12  RANGO DE TAXON             2103 non-null   object\n",
      " 13  NOMBRE CIENTIFICO 1        2088 non-null   object\n",
      " 14  NOMBRE VERNACULO           867 non-null    object\n",
      " 15  CODIGO NOMENCLATURA        2103 non-null   object\n",
      " 16  ESTADO TAXONOMICO          2103 non-null   object\n",
      " 17  TAXON OBSERVACIONES        2103 non-null   object\n",
      " 18  LENGUAJE                   2103 non-null   object\n",
      " 19  ESTADO DE AMENAZA          2103 non-null   object\n",
      "dtypes: object(20)\n",
      "memory usage: 328.7+ KB\n"
     ]
    }
   ],
   "source": [
    "endangeredSpecies.info()"
   ],
   "metadata": {
    "collapsed": false,
    "ExecuteTime": {
     "end_time": "2024-04-15T16:25:44.287607900Z",
     "start_time": "2024-04-15T16:25:44.178488700Z"
    }
   },
   "id": "463d0865f6273ce4"
  },
  {
   "cell_type": "code",
   "execution_count": 58,
   "outputs": [
    {
     "data": {
      "text/plain": "IDENTIFICACION               object\nIDENTIFICACION TAXONOMICA    object\nNOMBRE CIENTIFICO            object\nCLASIFICACION SUPERIOR       object\nREINO                        object\nFILO                         object\nCLASE                        object\nORDEN                        object\nFAMILIA                      object\nGENERO                       object\nEPITETO ESPECIFICO           object\nEPITETO INFRAESPECIFICO      object\nRANGO DE TAXON               object\nNOMBRE CIENTIFICO 1          object\nNOMBRE VERNACULO             object\nCODIGO NOMENCLATURA          object\nESTADO TAXONOMICO            object\nTAXON OBSERVACIONES          object\nLENGUAJE                     object\nESTADO DE AMENAZA            object\ndtype: object"
     },
     "execution_count": 58,
     "metadata": {},
     "output_type": "execute_result"
    }
   ],
   "source": [
    "endangeredSpecies.dtypes"
   ],
   "metadata": {
    "collapsed": false,
    "ExecuteTime": {
     "end_time": "2024-04-15T16:25:44.301089Z",
     "start_time": "2024-04-15T16:25:44.199620900Z"
    }
   },
   "id": "bfcb21c9984c3c38"
  },
  {
   "cell_type": "code",
   "execution_count": 59,
   "outputs": [
    {
     "data": {
      "text/plain": "                  IDENTIFICACION IDENTIFICACION TAXONOMICA  \\\ncount                       2103                      2103   \nunique                      2103                      2103   \ntop     gbif.org/species/3548724  gbif.org/species/3548724   \nfreq                           1                         1   \n\n          NOMBRE CIENTIFICO  \\\ncount                  2103   \nunique                 2103   \ntop     Arthonia obscurella   \nfreq                      1   \n\n                                   CLASIFICACION SUPERIOR    REINO  \\\ncount                                                2103     2103   \nunique                                                739        3   \ntop     Animalia | Chordata | Vertebrata | Amphibia | ...  Plantae   \nfreq                                                  110     1263   \n\n                FILO          CLASE  ORDEN      FAMILIA        GENERO  \\\ncount           2103           2103   2103         2103          2103   \nunique            10             26    130          326           731   \ntop     Tracheophyta  Magnoliopsida  Anura  Orchidaceae  Pristimantis   \nfreq            1205           1141    279          253           110   \n\n       EPITETO ESPECIFICO EPITETO INFRAESPECIFICO RANGO DE TAXON  \\\ncount                2103                      34           2103   \nunique               1790                      34              3   \ntop            colombiana                    nana        Especie   \nfreq                   16                       1           2069   \n\n       NOMBRE CIENTIFICO 1 NOMBRE VERNACULO CODIGO NOMENCLATURA  \\\ncount                 2088              867                2103   \nunique                1119              792                   2   \ntop               Cuatrec.    Rana arlequín                 ICN   \nfreq                    92               33                1344   \n\n       ESTADO TAXONOMICO                                TAXON OBSERVACIONES  \\\ncount               2103                                               2103   \nunique                 4                                               2103   \ntop             Aceptado  Nombre original validado: Arthonia obscurella ...   \nfreq                1309                                                  1   \n\n       LENGUAJE ESTADO DE AMENAZA  \ncount      2103              2103  \nunique        1                 3  \ntop          es                VU  \nfreq       2103               837  ",
      "text/html": "<div>\n<style scoped>\n    .dataframe tbody tr th:only-of-type {\n        vertical-align: middle;\n    }\n\n    .dataframe tbody tr th {\n        vertical-align: top;\n    }\n\n    .dataframe thead th {\n        text-align: right;\n    }\n</style>\n<table border=\"1\" class=\"dataframe\">\n  <thead>\n    <tr style=\"text-align: right;\">\n      <th></th>\n      <th>IDENTIFICACION</th>\n      <th>IDENTIFICACION TAXONOMICA</th>\n      <th>NOMBRE CIENTIFICO</th>\n      <th>CLASIFICACION SUPERIOR</th>\n      <th>REINO</th>\n      <th>FILO</th>\n      <th>CLASE</th>\n      <th>ORDEN</th>\n      <th>FAMILIA</th>\n      <th>GENERO</th>\n      <th>EPITETO ESPECIFICO</th>\n      <th>EPITETO INFRAESPECIFICO</th>\n      <th>RANGO DE TAXON</th>\n      <th>NOMBRE CIENTIFICO 1</th>\n      <th>NOMBRE VERNACULO</th>\n      <th>CODIGO NOMENCLATURA</th>\n      <th>ESTADO TAXONOMICO</th>\n      <th>TAXON OBSERVACIONES</th>\n      <th>LENGUAJE</th>\n      <th>ESTADO DE AMENAZA</th>\n    </tr>\n  </thead>\n  <tbody>\n    <tr>\n      <th>count</th>\n      <td>2103</td>\n      <td>2103</td>\n      <td>2103</td>\n      <td>2103</td>\n      <td>2103</td>\n      <td>2103</td>\n      <td>2103</td>\n      <td>2103</td>\n      <td>2103</td>\n      <td>2103</td>\n      <td>2103</td>\n      <td>34</td>\n      <td>2103</td>\n      <td>2088</td>\n      <td>867</td>\n      <td>2103</td>\n      <td>2103</td>\n      <td>2103</td>\n      <td>2103</td>\n      <td>2103</td>\n    </tr>\n    <tr>\n      <th>unique</th>\n      <td>2103</td>\n      <td>2103</td>\n      <td>2103</td>\n      <td>739</td>\n      <td>3</td>\n      <td>10</td>\n      <td>26</td>\n      <td>130</td>\n      <td>326</td>\n      <td>731</td>\n      <td>1790</td>\n      <td>34</td>\n      <td>3</td>\n      <td>1119</td>\n      <td>792</td>\n      <td>2</td>\n      <td>4</td>\n      <td>2103</td>\n      <td>1</td>\n      <td>3</td>\n    </tr>\n    <tr>\n      <th>top</th>\n      <td>gbif.org/species/3548724</td>\n      <td>gbif.org/species/3548724</td>\n      <td>Arthonia obscurella</td>\n      <td>Animalia | Chordata | Vertebrata | Amphibia | ...</td>\n      <td>Plantae</td>\n      <td>Tracheophyta</td>\n      <td>Magnoliopsida</td>\n      <td>Anura</td>\n      <td>Orchidaceae</td>\n      <td>Pristimantis</td>\n      <td>colombiana</td>\n      <td>nana</td>\n      <td>Especie</td>\n      <td>Cuatrec.</td>\n      <td>Rana arlequín</td>\n      <td>ICN</td>\n      <td>Aceptado</td>\n      <td>Nombre original validado: Arthonia obscurella ...</td>\n      <td>es</td>\n      <td>VU</td>\n    </tr>\n    <tr>\n      <th>freq</th>\n      <td>1</td>\n      <td>1</td>\n      <td>1</td>\n      <td>110</td>\n      <td>1263</td>\n      <td>1205</td>\n      <td>1141</td>\n      <td>279</td>\n      <td>253</td>\n      <td>110</td>\n      <td>16</td>\n      <td>1</td>\n      <td>2069</td>\n      <td>92</td>\n      <td>33</td>\n      <td>1344</td>\n      <td>1309</td>\n      <td>1</td>\n      <td>2103</td>\n      <td>837</td>\n    </tr>\n  </tbody>\n</table>\n</div>"
     },
     "execution_count": 59,
     "metadata": {},
     "output_type": "execute_result"
    }
   ],
   "source": [
    "endangeredSpecies.describe(include='O')"
   ],
   "metadata": {
    "collapsed": false,
    "ExecuteTime": {
     "end_time": "2024-04-15T16:25:44.312058400Z",
     "start_time": "2024-04-15T16:25:44.217290500Z"
    }
   },
   "id": "45dafbaec1cf2d6a"
  },
  {
   "cell_type": "code",
   "execution_count": 60,
   "outputs": [
    {
     "data": {
      "text/plain": "False    2103\nName: NOMBRE CIENTIFICO, dtype: int64"
     },
     "execution_count": 60,
     "metadata": {},
     "output_type": "execute_result"
    }
   ],
   "source": [
    "endangeredSpecies['NOMBRE CIENTIFICO'].duplicated().value_counts()"
   ],
   "metadata": {
    "collapsed": false,
    "ExecuteTime": {
     "end_time": "2024-04-15T16:25:44.402087600Z",
     "start_time": "2024-04-15T16:25:44.297098700Z"
    }
   },
   "id": "65a98bf050f89b99"
  },
  {
   "cell_type": "code",
   "execution_count": 61,
   "outputs": [
    {
     "data": {
      "text/plain": "IDENTIFICACION                  0\nIDENTIFICACION TAXONOMICA       0\nNOMBRE CIENTIFICO               0\nCLASIFICACION SUPERIOR          0\nREINO                           0\nFILO                            0\nCLASE                           0\nORDEN                           0\nFAMILIA                         0\nGENERO                          0\nEPITETO ESPECIFICO              0\nEPITETO INFRAESPECIFICO      2069\nRANGO DE TAXON                  0\nNOMBRE CIENTIFICO 1            15\nNOMBRE VERNACULO             1236\nCODIGO NOMENCLATURA             0\nESTADO TAXONOMICO               0\nTAXON OBSERVACIONES             0\nLENGUAJE                        0\nESTADO DE AMENAZA               0\ndtype: int64"
     },
     "execution_count": 61,
     "metadata": {},
     "output_type": "execute_result"
    }
   ],
   "source": [
    "endangeredSpecies.isnull().sum()"
   ],
   "metadata": {
    "collapsed": false,
    "ExecuteTime": {
     "end_time": "2024-04-15T16:25:44.404081400Z",
     "start_time": "2024-04-15T16:25:44.315051500Z"
    }
   },
   "id": "94523671d2a7fada"
  },
  {
   "cell_type": "code",
   "execution_count": 62,
   "outputs": [
    {
     "name": "stdout",
     "output_type": "stream",
     "text": [
      "(2103, 20)\n"
     ]
    }
   ],
   "source": [
    "print(endangeredSpecies.shape)"
   ],
   "metadata": {
    "collapsed": false,
    "ExecuteTime": {
     "end_time": "2024-04-15T16:25:44.543022400Z",
     "start_time": "2024-04-15T16:25:44.337604800Z"
    }
   },
   "id": "bd598c7bc6ac3af0"
  },
  {
   "cell_type": "code",
   "execution_count": 63,
   "outputs": [
    {
     "data": {
      "text/plain": "array(['Arthoniomycetes', 'Lecanoromycetes', 'Dothideomycetes',\n       'Agaricomycetes', 'Bryopsida', 'Sphagnopsida', 'Jungermanniopsida',\n       'Marchantiopsida', 'Polypodiopsida', 'Pinopsida', 'Magnoliopsida',\n       'Anthozoa', 'Arachnida', 'Malacostraca', 'Insecta', 'Bivalvia',\n       'Gastropoda', 'Holothuroidea', 'Ophiuroidea', 'Elasmobranchii',\n       'Actinopterygii', 'Amphibia', 'Reptilia', 'Aves', 'Mammalia',\n       'Liliopsida'], dtype=object)"
     },
     "execution_count": 63,
     "metadata": {},
     "output_type": "execute_result"
    }
   ],
   "source": [
    "endangeredSpecies[\"CLASE\"].unique()"
   ],
   "metadata": {
    "collapsed": false,
    "ExecuteTime": {
     "end_time": "2024-04-15T16:25:44.544020300Z",
     "start_time": "2024-04-15T16:25:44.359633300Z"
    }
   },
   "id": "cdcedc32184b3e0a"
  },
  {
   "cell_type": "markdown",
   "source": [
    "## Estado de Amenaza"
   ],
   "metadata": {
    "collapsed": false
   },
   "id": "fc8af80a81cf805a"
  },
  {
   "cell_type": "code",
   "execution_count": 64,
   "outputs": [
    {
     "data": {
      "image/png": "[encoded data removed]",
      "text/plain": "<IPython.core.display.Image object>"
     },
     "execution_count": 64,
     "metadata": {},
     "output_type": "execute_result"
    }
   ],
   "source": [
    "Image(\"1024px-Status_iucn3.1_ES.png\")"
   ],
   "metadata": {
    "collapsed": false,
    "ExecuteTime": {
     "end_time": "2024-04-15T16:25:44.643296Z",
     "start_time": "2024-04-15T16:25:44.375440500Z"
    }
   },
   "id": "898cf4d7004b52a2"
  },
  {
   "cell_type": "code",
   "execution_count": 65,
   "outputs": [
    {
     "data": {
      "text/plain": "VU    837\nEN    801\nCR    465\nName: ESTADO DE AMENAZA, dtype: int64"
     },
     "execution_count": 65,
     "metadata": {},
     "output_type": "execute_result"
    }
   ],
   "source": [
    "endangeredSpecies[\"ESTADO DE AMENAZA\"].value_counts()"
   ],
   "metadata": {
    "collapsed": false,
    "ExecuteTime": {
     "end_time": "2024-04-15T16:25:44.689174100Z",
     "start_time": "2024-04-15T16:25:44.399093700Z"
    }
   },
   "id": "a599872d9879e67c"
  },
  {
   "cell_type": "markdown",
   "source": [
    "_Vulnerable_ (VU): Vulnerable\n",
    "_Endangered_ (EN): En peligro\n",
    "_Critically_ (CR): En peligro crítico"
   ],
   "metadata": {
    "collapsed": false
   },
   "id": "9b0741d90af56752"
  },
  {
   "cell_type": "code",
   "execution_count": 66,
   "outputs": [
    {
     "data": {
      "text/plain": "Pristimantis        110\nMasdevallia          80\nSalvia               53\nDracula              46\nEspeletia            39\n                   ... \nAcanthocladus         1\nZapoteca              1\nPseudopiptadenia      1\nPrioria               1\nOdocoileus            1\nName: GENERO, Length: 731, dtype: int64"
     },
     "execution_count": 66,
     "metadata": {},
     "output_type": "execute_result"
    }
   ],
   "source": [
    "endangeredSpecies[\"GENERO\"].value_counts()"
   ],
   "metadata": {
    "collapsed": false,
    "ExecuteTime": {
     "end_time": "2024-04-15T16:25:44.861717Z",
     "start_time": "2024-04-15T16:25:44.419420Z"
    }
   },
   "id": "38e00251445c50a9"
  },
  {
   "cell_type": "code",
   "execution_count": 67,
   "outputs": [
    {
     "data": {
      "text/plain": "array(['Especie', 'Subespecie', 'Variedad'], dtype=object)"
     },
     "execution_count": 67,
     "metadata": {},
     "output_type": "execute_result"
    }
   ],
   "source": [
    "endangeredSpecies[\"RANGO DE TAXON\"].unique()"
   ],
   "metadata": {
    "collapsed": false,
    "ExecuteTime": {
     "end_time": "2024-04-15T16:25:44.943494100Z",
     "start_time": "2024-04-15T16:25:44.439052700Z"
    }
   },
   "id": "4a679372afd1a4ea"
  },
  {
   "cell_type": "code",
   "execution_count": 80,
   "outputs": [
    {
     "data": {
      "text/plain": "<Figure size 1000x600 with 1 Axes>",
      "image/png": "[encoded data removed]"
     },
     "metadata": {},
     "output_type": "display_data"
    }
   ],
   "source": [
    "plt.figure(figsize=(10, 6))\n",
    "sns.countplot(data=endangeredSpecies, x='REINO', palette='icefire')\n",
    "plt.xlabel(\"Kingdoms\")\n",
    "plt.ylabel(\"Frequency\")\n",
    "plt.title(\"Frequency of Kingdoms\")\n",
    "plt.show()"
   ],
   "metadata": {
    "collapsed": false,
    "ExecuteTime": {
     "end_time": "2024-04-15T16:32:41.205666800Z",
     "start_time": "2024-04-15T16:32:41.005583300Z"
    }
   },
   "id": "581baf537e493d83"
  },
  {
   "cell_type": "code",
   "execution_count": 69,
   "outputs": [
    {
     "data": {
      "text/plain": "Plantae     1263\nAnimalia     759\nFungi         81\nName: REINO, dtype: int64"
     },
     "execution_count": 69,
     "metadata": {},
     "output_type": "execute_result"
    }
   ],
   "source": [
    "kingdomCounts = endangeredSpecies[\"REINO\"].value_counts()\n",
    "kingdomCounts"
   ],
   "metadata": {
    "collapsed": false,
    "ExecuteTime": {
     "end_time": "2024-04-15T16:25:45.281197800Z",
     "start_time": "2024-04-15T16:25:45.257169Z"
    }
   },
   "id": "ae7f9ffb69fbb4cc"
  },
  {
   "cell_type": "code",
   "execution_count": 81,
   "outputs": [
    {
     "data": {
      "text/plain": "<Figure size 1000x600 with 1 Axes>",
      "image/png": "[encoded data removed]"
     },
     "metadata": {},
     "output_type": "display_data"
    }
   ],
   "source": [
    "color_palette = sns.color_palette(\"icefire\")\n",
    "fig, ax = plt.subplots(figsize=(10, 6))\n",
    "kingdomCounts.plot(kind='barh', rot=0, ax=ax, color=color_palette, width=0.75)\n",
    "ax.set_title('Endangered Species by Kingdom', fontsize=15)\n",
    "ax.set_xlabel('Species', fontsize=12)\n",
    "ax.set_ylabel('Kingdom', fontsize=12)\n",
    "ax.grid(True, which='major', linestyle='--', linewidth='0.5', color='gray')\n",
    "ax.tick_params(axis='both', which='major', labelsize=10)\n",
    "\n",
    "for i in ax.patches:\n",
    "    ax.text(i.get_width() + .3, i.get_y() + .18, str(round(i.get_width(), 2)), fontsize=10, color='dimgrey')\n",
    "\n",
    "plt.show()"
   ],
   "metadata": {
    "collapsed": false,
    "ExecuteTime": {
     "end_time": "2024-04-15T16:32:47.215332200Z",
     "start_time": "2024-04-15T16:32:46.935515200Z"
    }
   },
   "id": "33db93ffaf911ce4"
  },
  {
   "cell_type": "code",
   "execution_count": 71,
   "outputs": [
    {
     "data": {
      "text/plain": "      REINO ESTADO DE AMENAZA    0\n0  Animalia                CR  125\n1  Animalia                EN  276\n2  Animalia                VU  358\n3     Fungi                CR   53\n4     Fungi                EN   18\n5     Fungi                VU   10\n6   Plantae                CR  287\n7   Plantae                EN  507\n8   Plantae                VU  469",
      "text/html": "<div>\n<style scoped>\n    .dataframe tbody tr th:only-of-type {\n        vertical-align: middle;\n    }\n\n    .dataframe tbody tr th {\n        vertical-align: top;\n    }\n\n    .dataframe thead th {\n        text-align: right;\n    }\n</style>\n<table border=\"1\" class=\"dataframe\">\n  <thead>\n    <tr style=\"text-align: right;\">\n      <th></th>\n      <th>REINO</th>\n      <th>ESTADO DE AMENAZA</th>\n      <th>0</th>\n    </tr>\n  </thead>\n  <tbody>\n    <tr>\n      <th>0</th>\n      <td>Animalia</td>\n      <td>CR</td>\n      <td>125</td>\n    </tr>\n    <tr>\n      <th>1</th>\n      <td>Animalia</td>\n      <td>EN</td>\n      <td>276</td>\n    </tr>\n    <tr>\n      <th>2</th>\n      <td>Animalia</td>\n      <td>VU</td>\n      <td>358</td>\n    </tr>\n    <tr>\n      <th>3</th>\n      <td>Fungi</td>\n      <td>CR</td>\n      <td>53</td>\n    </tr>\n    <tr>\n      <th>4</th>\n      <td>Fungi</td>\n      <td>EN</td>\n      <td>18</td>\n    </tr>\n    <tr>\n      <th>5</th>\n      <td>Fungi</td>\n      <td>VU</td>\n      <td>10</td>\n    </tr>\n    <tr>\n      <th>6</th>\n      <td>Plantae</td>\n      <td>CR</td>\n      <td>287</td>\n    </tr>\n    <tr>\n      <th>7</th>\n      <td>Plantae</td>\n      <td>EN</td>\n      <td>507</td>\n    </tr>\n    <tr>\n      <th>8</th>\n      <td>Plantae</td>\n      <td>VU</td>\n      <td>469</td>\n    </tr>\n  </tbody>\n</table>\n</div>"
     },
     "execution_count": 71,
     "metadata": {},
     "output_type": "execute_result"
    }
   ],
   "source": [
    "kingdomCountsByStatus = endangeredSpecies.groupby([\"REINO\", \"ESTADO DE AMENAZA\"]).size().reset_index()\n",
    "kingdomCountsByStatus"
   ],
   "metadata": {
    "collapsed": false,
    "ExecuteTime": {
     "end_time": "2024-04-15T16:25:46.574182800Z",
     "start_time": "2024-04-15T16:25:46.406470500Z"
    }
   },
   "id": "432dead2811d2b37"
  },
  {
   "cell_type": "code",
   "execution_count": 84,
   "outputs": [
    {
     "data": {
      "application/vnd.plotly.v1+json": {
       "data": [
        {
         "alignmentgroup": "True",
         "hovertemplate": "<b>%{x}</b><br>%{y}",
         "legendgroup": "CR",
         "marker": {
          "color": "#636efa",
          "pattern": {
           "shape": ""
          }
         },
         "name": "CR",
         "offsetgroup": "CR",
         "orientation": "v",
         "showlegend": true,
         "textposition": "auto",
         "x": [
          "Animalia",
          "Fungi",
          "Plantae"
         ],
         "xaxis": "x",
         "y": [
          125,
          53,
          287
         ],
         "yaxis": "y",
         "type": "bar"
        },
        {
         "alignmentgroup": "True",
         "hovertemplate": "<b>%{x}</b><br>%{y}",
         "legendgroup": "EN",
         "marker": {
          "color": "#EF553B",
          "pattern": {
           "shape": ""
          }
         },
         "name": "EN",
         "offsetgroup": "EN",
         "orientation": "v",
         "showlegend": true,
         "textposition": "auto",
         "x": [
          "Animalia",
          "Fungi",
          "Plantae"
         ],
         "xaxis": "x",
         "y": [
          276,
          18,
          507
         ],
         "yaxis": "y",
         "type": "bar"
        },
        {
         "alignmentgroup": "True",
         "hovertemplate": "<b>%{x}</b><br>%{y}",
         "legendgroup": "VU",
         "marker": {
          "color": "#00cc96",
          "pattern": {
           "shape": ""
          }
         },
         "name": "VU",
         "offsetgroup": "VU",
         "orientation": "v",
         "showlegend": true,
         "textposition": "auto",
         "x": [
          "Animalia",
          "Fungi",
          "Plantae"
         ],
         "xaxis": "x",
         "y": [
          358,
          10,
          469
         ],
         "yaxis": "y",
         "type": "bar"
        }
       ],
       "layout": {
        "template": {
         "data": {
          "histogram2dcontour": [
           {
            "type": "histogram2dcontour",
            "colorbar": {
             "outlinewidth": 0,
             "ticks": ""
            },
            "colorscale": [
             [
              0.0,
              "#0d0887"
             ],
             [
              0.1111111111111111,
              "#46039f"
             ],
             [
              0.2222222222222222,
              "#7201a8"
             ],
             [
              0.3333333333333333,
              "#9c179e"
             ],
             [
              0.4444444444444444,
              "#bd3786"
             ],
             [
              0.5555555555555556,
              "#d8576b"
             ],
             [
              0.6666666666666666,
              "#ed7953"
             ],
             [
              0.7777777777777778,
              "#fb9f3a"
             ],
             [
              0.8888888888888888,
              "#fdca26"
             ],
             [
              1.0,
              "#f0f921"
             ]
            ]
           }
          ],
          "choropleth": [
           {
            "type": "choropleth",
            "colorbar": {
             "outlinewidth": 0,
             "ticks": ""
            }
           }
          ],
          "histogram2d": [
           {
            "type": "histogram2d",
            "colorbar": {
             "outlinewidth": 0,
             "ticks": ""
            },
            "colorscale": [
             [
              0.0,
              "#0d0887"
             ],
             [
              0.1111111111111111,
              "#46039f"
             ],
             [
              0.2222222222222222,
              "#7201a8"
             ],
             [
              0.3333333333333333,
              "#9c179e"
             ],
             [
              0.4444444444444444,
              "#bd3786"
             ],
             [
              0.5555555555555556,
              "#d8576b"
             ],
             [
              0.6666666666666666,
              "#ed7953"
             ],
             [
              0.7777777777777778,
              "#fb9f3a"
             ],
             [
              0.8888888888888888,
              "#fdca26"
             ],
             [
              1.0,
              "#f0f921"
             ]
            ]
           }
          ],
          "heatmap": [
           {
            "type": "heatmap",
            "colorbar": {
             "outlinewidth": 0,
             "ticks": ""
            },
            "colorscale": [
             [
              0.0,
              "#0d0887"
             ],
             [
              0.1111111111111111,
              "#46039f"
             ],
             [
              0.2222222222222222,
              "#7201a8"
             ],
             [
              0.3333333333333333,
              "#9c179e"
             ],
             [
              0.4444444444444444,
              "#bd3786"
             ],
             [
              0.5555555555555556,
              "#d8576b"
             ],
             [
              0.6666666666666666,
              "#ed7953"
             ],
             [
              0.7777777777777778,
              "#fb9f3a"
             ],
             [
              0.8888888888888888,
              "#fdca26"
             ],
             [
              1.0,
              "#f0f921"
             ]
            ]
           }
          ],
          "heatmapgl": [
           {
            "type": "heatmapgl",
            "colorbar": {
             "outlinewidth": 0,
             "ticks": ""
            },
            "colorscale": [
             [
              0.0,
              "#0d0887"
             ],
             [
              0.1111111111111111,
              "#46039f"
             ],
             [
              0.2222222222222222,
              "#7201a8"
             ],
             [
              0.3333333333333333,
              "#9c179e"
             ],
             [
              0.4444444444444444,
              "#bd3786"
             ],
             [
              0.5555555555555556,
              "#d8576b"
             ],
             [
              0.6666666666666666,
              "#ed7953"
             ],
             [
              0.7777777777777778,
              "#fb9f3a"
             ],
             [
              0.8888888888888888,
              "#fdca26"
             ],
             [
              1.0,
              "#f0f921"
             ]
            ]
           }
          ],
          "contourcarpet": [
           {
            "type": "contourcarpet",
            "colorbar": {
             "outlinewidth": 0,
             "ticks": ""
            }
           }
          ],
          "contour": [
           {
            "type": "contour",
            "colorbar": {
             "outlinewidth": 0,
             "ticks": ""
            },
            "colorscale": [
             [
              0.0,
              "#0d0887"
             ],
             [
              0.1111111111111111,
              "#46039f"
             ],
             [
              0.2222222222222222,
              "#7201a8"
             ],
             [
              0.3333333333333333,
              "#9c179e"
             ],
             [
              0.4444444444444444,
              "#bd3786"
             ],
             [
              0.5555555555555556,
              "#d8576b"
             ],
             [
              0.6666666666666666,
              "#ed7953"
             ],
             [
              0.7777777777777778,
              "#fb9f3a"
             ],
             [
              0.8888888888888888,
              "#fdca26"
             ],
             [
              1.0,
              "#f0f921"
             ]
            ]
           }
          ],
          "surface": [
           {
            "type": "surface",
            "colorbar": {
             "outlinewidth": 0,
             "ticks": ""
            },
            "colorscale": [
             [
              0.0,
              "#0d0887"
             ],
             [
              0.1111111111111111,
              "#46039f"
             ],
             [
              0.2222222222222222,
              "#7201a8"
             ],
             [
              0.3333333333333333,
              "#9c179e"
             ],
             [
              0.4444444444444444,
              "#bd3786"
             ],
             [
              0.5555555555555556,
              "#d8576b"
             ],
             [
              0.6666666666666666,
              "#ed7953"
             ],
             [
              0.7777777777777778,
              "#fb9f3a"
             ],
             [
              0.8888888888888888,
              "#fdca26"
             ],
             [
              1.0,
              "#f0f921"
             ]
            ]
           }
          ],
          "mesh3d": [
           {
            "type": "mesh3d",
            "colorbar": {
             "outlinewidth": 0,
             "ticks": ""
            }
           }
          ],
          "scatter": [
           {
            "fillpattern": {
             "fillmode": "overlay",
             "size": 10,
             "solidity": 0.2
            },
            "type": "scatter"
           }
          ],
          "parcoords": [
           {
            "type": "parcoords",
            "line": {
             "colorbar": {
              "outlinewidth": 0,
              "ticks": ""
             }
            }
           }
          ],
          "scatterpolargl": [
           {
            "type": "scatterpolargl",
            "marker": {
             "colorbar": {
              "outlinewidth": 0,
              "ticks": ""
             }
            }
           }
          ],
          "bar": [
           {
            "error_x": {
             "color": "#2a3f5f"
            },
            "error_y": {
             "color": "#2a3f5f"
            },
            "marker": {
             "line": {
              "color": "#E5ECF6",
              "width": 0.5
             },
             "pattern": {
              "fillmode": "overlay",
              "size": 10,
              "solidity": 0.2
             }
            },
            "type": "bar"
           }
          ],
          "scattergeo": [
           {
            "type": "scattergeo",
            "marker": {
             "colorbar": {
              "outlinewidth": 0,
              "ticks": ""
             }
            }
           }
          ],
          "scatterpolar": [
           {
            "type": "scatterpolar",
            "marker": {
             "colorbar": {
              "outlinewidth": 0,
              "ticks": ""
             }
            }
           }
          ],
          "histogram": [
           {
            "marker": {
             "pattern": {
              "fillmode": "overlay",
              "size": 10,
              "solidity": 0.2
             }
            },
            "type": "histogram"
           }
          ],
          "scattergl": [
           {
            "type": "scattergl",
            "marker": {
             "colorbar": {
              "outlinewidth": 0,
              "ticks": ""
             }
            }
           }
          ],
          "scatter3d": [
           {
            "type": "scatter3d",
            "line": {
             "colorbar": {
              "outlinewidth": 0,
              "ticks": ""
             }
            },
            "marker": {
             "colorbar": {
              "outlinewidth": 0,
              "ticks": ""
             }
            }
           }
          ],
          "scattermapbox": [
           {
            "type": "scattermapbox",
            "marker": {
             "colorbar": {
              "outlinewidth": 0,
              "ticks": ""
             }
            }
           }
          ],
          "scatterternary": [
           {
            "type": "scatterternary",
            "marker": {
             "colorbar": {
              "outlinewidth": 0,
              "ticks": ""
             }
            }
           }
          ],
          "scattercarpet": [
           {
            "type": "scattercarpet",
            "marker": {
             "colorbar": {
              "outlinewidth": 0,
              "ticks": ""
             }
            }
           }
          ],
          "carpet": [
           {
            "aaxis": {
             "endlinecolor": "#2a3f5f",
             "gridcolor": "white",
             "linecolor": "white",
             "minorgridcolor": "white",
             "startlinecolor": "#2a3f5f"
            },
            "baxis": {
             "endlinecolor": "#2a3f5f",
             "gridcolor": "white",
             "linecolor": "white",
             "minorgridcolor": "white",
             "startlinecolor": "#2a3f5f"
            },
            "type": "carpet"
           }
          ],
          "table": [
           {
            "cells": {
             "fill": {
              "color": "#EBF0F8"
             },
             "line": {
              "color": "white"
             }
            },
            "header": {
             "fill": {
              "color": "#C8D4E3"
             },
             "line": {
              "color": "white"
             }
            },
            "type": "table"
           }
          ],
          "barpolar": [
           {
            "marker": {
             "line": {
              "color": "#E5ECF6",
              "width": 0.5
             },
             "pattern": {
              "fillmode": "overlay",
              "size": 10,
              "solidity": 0.2
             }
            },
            "type": "barpolar"
           }
          ],
          "pie": [
           {
            "automargin": true,
            "type": "pie"
           }
          ]
         },
         "layout": {
          "autotypenumbers": "strict",
          "colorway": [
           "#636efa",
           "#EF553B",
           "#00cc96",
           "#ab63fa",
           "#FFA15A",
           "#19d3f3",
           "#FF6692",
           "#B6E880",
           "#FF97FF",
           "#FECB52"
          ],
          "font": {
           "color": "#2a3f5f"
          },
          "hovermode": "closest",
          "hoverlabel": {
           "align": "left"
          },
          "paper_bgcolor": "white",
          "plot_bgcolor": "#E5ECF6",
          "polar": {
           "bgcolor": "#E5ECF6",
           "angularaxis": {
            "gridcolor": "white",
            "linecolor": "white",
            "ticks": ""
           },
           "radialaxis": {
            "gridcolor": "white",
            "linecolor": "white",
            "ticks": ""
           }
          },
          "ternary": {
           "bgcolor": "#E5ECF6",
           "aaxis": {
            "gridcolor": "white",
            "linecolor": "white",
            "ticks": ""
           },
           "baxis": {
            "gridcolor": "white",
            "linecolor": "white",
            "ticks": ""
           },
           "caxis": {
            "gridcolor": "white",
            "linecolor": "white",
            "ticks": ""
           }
          },
          "coloraxis": {
           "colorbar": {
            "outlinewidth": 0,
            "ticks": ""
           }
          },
          "colorscale": {
           "sequential": [
            [
             0.0,
             "#0d0887"
            ],
            [
             0.1111111111111111,
             "#46039f"
            ],
            [
             0.2222222222222222,
             "#7201a8"
            ],
            [
             0.3333333333333333,
             "#9c179e"
            ],
            [
             0.4444444444444444,
             "#bd3786"
            ],
            [
             0.5555555555555556,
             "#d8576b"
            ],
            [
             0.6666666666666666,
             "#ed7953"
            ],
            [
             0.7777777777777778,
             "#fb9f3a"
            ],
            [
             0.8888888888888888,
             "#fdca26"
            ],
            [
             1.0,
             "#f0f921"
            ]
           ],
           "sequentialminus": [
            [
             0.0,
             "#0d0887"
            ],
            [
             0.1111111111111111,
             "#46039f"
            ],
            [
             0.2222222222222222,
             "#7201a8"
            ],
            [
             0.3333333333333333,
             "#9c179e"
            ],
            [
             0.4444444444444444,
             "#bd3786"
            ],
            [
             0.5555555555555556,
             "#d8576b"
            ],
            [
             0.6666666666666666,
             "#ed7953"
            ],
            [
             0.7777777777777778,
             "#fb9f3a"
            ],
            [
             0.8888888888888888,
             "#fdca26"
            ],
            [
             1.0,
             "#f0f921"
            ]
           ],
           "diverging": [
            [
             0,
             "#8e0152"
            ],
            [
             0.1,
             "#c51b7d"
            ],
            [
             0.2,
             "#de77ae"
            ],
            [
             0.3,
             "#f1b6da"
            ],
            [
             0.4,
             "#fde0ef"
            ],
            [
             0.5,
             "#f7f7f7"
            ],
            [
             0.6,
             "#e6f5d0"
            ],
            [
             0.7,
             "#b8e186"
            ],
            [
             0.8,
             "#7fbc41"
            ],
            [
             0.9,
             "#4d9221"
            ],
            [
             1,
             "#276419"
            ]
           ]
          },
          "xaxis": {
           "gridcolor": "white",
           "linecolor": "white",
           "ticks": "",
           "title": {
            "standoff": 15
           },
           "zerolinecolor": "white",
           "automargin": true,
           "zerolinewidth": 2
          },
          "yaxis": {
           "gridcolor": "white",
           "linecolor": "white",
           "ticks": "",
           "title": {
            "standoff": 15
           },
           "zerolinecolor": "white",
           "automargin": true,
           "zerolinewidth": 2
          },
          "scene": {
           "xaxis": {
            "backgroundcolor": "#E5ECF6",
            "gridcolor": "white",
            "linecolor": "white",
            "showbackground": true,
            "ticks": "",
            "zerolinecolor": "white",
            "gridwidth": 2
           },
           "yaxis": {
            "backgroundcolor": "#E5ECF6",
            "gridcolor": "white",
            "linecolor": "white",
            "showbackground": true,
            "ticks": "",
            "zerolinecolor": "white",
            "gridwidth": 2
           },
           "zaxis": {
            "backgroundcolor": "#E5ECF6",
            "gridcolor": "white",
            "linecolor": "white",
            "showbackground": true,
            "ticks": "",
            "zerolinecolor": "white",
            "gridwidth": 2
           }
          },
          "shapedefaults": {
           "line": {
            "color": "#2a3f5f"
           }
          },
          "annotationdefaults": {
           "arrowcolor": "#2a3f5f",
           "arrowhead": 0,
           "arrowwidth": 1
          },
          "geo": {
           "bgcolor": "white",
           "landcolor": "#E5ECF6",
           "subunitcolor": "white",
           "showland": true,
           "showlakes": true,
           "lakecolor": "white"
          },
          "title": {
           "x": 0.05
          },
          "mapbox": {
           "style": "light"
          }
         }
        },
        "xaxis": {
         "anchor": "y",
         "domain": [
          0.0,
          1.0
         ],
         "title": {
          "text": "Kingdom"
         }
        },
        "yaxis": {
         "anchor": "x",
         "domain": [
          0.0,
          1.0
         ],
         "title": {
          "text": "Counts"
         }
        },
        "legend": {
         "title": {
          "text": "Threat Status"
         },
         "tracegroupgap": 0,
         "orientation": "h",
         "yanchor": "bottom",
         "y": 1.02,
         "xanchor": "right",
         "x": 1
        },
        "title": {
         "text": "Threat Status by Kingdom"
        },
        "barmode": "stack",
        "plot_bgcolor": "white"
       },
       "config": {
        "plotlyServerURL": "https://plot.ly"
       }
      },
      "text/html": "<div>                            <div id=\"4f58fc3a-8953-423d-8b1b-a24691d80225\" class=\"plotly-graph-div\" style=\"height:525px; width:100%;\"></div>            <script type=\"text/javascript\">                require([\"plotly\"], function(Plotly) {                    window.PLOTLYENV=window.PLOTLYENV || {};                                    if (document.getElementById(\"4f58fc3a-8953-423d-8b1b-a24691d80225\")) {                    Plotly.newPlot(                        \"4f58fc3a-8953-423d-8b1b-a24691d80225\",                        [{\"alignmentgroup\":\"True\",\"hovertemplate\":\"<b>%{x}</b><br>%{y}\",\"legendgroup\":\"CR\",\"marker\":{\"color\":\"#636efa\",\"pattern\":{\"shape\":\"\"}},\"name\":\"CR\",\"offsetgroup\":\"CR\",\"orientation\":\"v\",\"showlegend\":true,\"textposition\":\"auto\",\"x\":[\"Animalia\",\"Fungi\",\"Plantae\"],\"xaxis\":\"x\",\"y\":[125,53,287],\"yaxis\":\"y\",\"type\":\"bar\"},{\"alignmentgroup\":\"True\",\"hovertemplate\":\"<b>%{x}</b><br>%{y}\",\"legendgroup\":\"EN\",\"marker\":{\"color\":\"#EF553B\",\"pattern\":{\"shape\":\"\"}},\"name\":\"EN\",\"offsetgroup\":\"EN\",\"orientation\":\"v\",\"showlegend\":true,\"textposition\":\"auto\",\"x\":[\"Animalia\",\"Fungi\",\"Plantae\"],\"xaxis\":\"x\",\"y\":[276,18,507],\"yaxis\":\"y\",\"type\":\"bar\"},{\"alignmentgroup\":\"True\",\"hovertemplate\":\"<b>%{x}</b><br>%{y}\",\"legendgroup\":\"VU\",\"marker\":{\"color\":\"#00cc96\",\"pattern\":{\"shape\":\"\"}},\"name\":\"VU\",\"offsetgroup\":\"VU\",\"orientation\":\"v\",\"showlegend\":true,\"textposition\":\"auto\",\"x\":[\"Animalia\",\"Fungi\",\"Plantae\"],\"xaxis\":\"x\",\"y\":[358,10,469],\"yaxis\":\"y\",\"type\":\"bar\"}],                        {\"template\":{\"data\":{\"histogram2dcontour\":[{\"type\":\"histogram2dcontour\",\"colorbar\":{\"outlinewidth\":0,\"ticks\":\"\"},\"colorscale\":[[0.0,\"#0d0887\"],[0.1111111111111111,\"#46039f\"],[0.2222222222222222,\"#7201a8\"],[0.3333333333333333,\"#9c179e\"],[0.4444444444444444,\"#bd3786\"],[0.5555555555555556,\"#d8576b\"],[0.6666666666666666,\"#ed7953\"],[0.7777777777777778,\"#fb9f3a\"],[0.8888888888888888,\"#fdca26\"],[1.0,\"#f0f921\"]]}],\"choropleth\":[{\"type\":\"choropleth\",\"colorbar\":{\"outlinewidth\":0,\"ticks\":\"\"}}],\"histogram2d\":[{\"type\":\"histogram2d\",\"colorbar\":{\"outlinewidth\":0,\"ticks\":\"\"},\"colorscale\":[[0.0,\"#0d0887\"],[0.1111111111111111,\"#46039f\"],[0.2222222222222222,\"#7201a8\"],[0.3333333333333333,\"#9c179e\"],[0.4444444444444444,\"#bd3786\"],[0.5555555555555556,\"#d8576b\"],[0.6666666666666666,\"#ed7953\"],[0.7777777777777778,\"#fb9f3a\"],[0.8888888888888888,\"#fdca26\"],[1.0,\"#f0f921\"]]}],\"heatmap\":[{\"type\":\"heatmap\",\"colorbar\":{\"outlinewidth\":0,\"ticks\":\"\"},\"colorscale\":[[0.0,\"#0d0887\"],[0.1111111111111111,\"#46039f\"],[0.2222222222222222,\"#7201a8\"],[0.3333333333333333,\"#9c179e\"],[0.4444444444444444,\"#bd3786\"],[0.5555555555555556,\"#d8576b\"],[0.6666666666666666,\"#ed7953\"],[0.7777777777777778,\"#fb9f3a\"],[0.8888888888888888,\"#fdca26\"],[1.0,\"#f0f921\"]]}],\"heatmapgl\":[{\"type\":\"heatmapgl\",\"colorbar\":{\"outlinewidth\":0,\"ticks\":\"\"},\"colorscale\":[[0.0,\"#0d0887\"],[0.1111111111111111,\"#46039f\"],[0.2222222222222222,\"#7201a8\"],[0.3333333333333333,\"#9c179e\"],[0.4444444444444444,\"#bd3786\"],[0.5555555555555556,\"#d8576b\"],[0.6666666666666666,\"#ed7953\"],[0.7777777777777778,\"#fb9f3a\"],[0.8888888888888888,\"#fdca26\"],[1.0,\"#f0f921\"]]}],\"contourcarpet\":[{\"type\":\"contourcarpet\",\"colorbar\":{\"outlinewidth\":0,\"ticks\":\"\"}}],\"contour\":[{\"type\":\"contour\",\"colorbar\":{\"outlinewidth\":0,\"ticks\":\"\"},\"colorscale\":[[0.0,\"#0d0887\"],[0.1111111111111111,\"#46039f\"],[0.2222222222222222,\"#7201a8\"],[0.3333333333333333,\"#9c179e\"],[0.4444444444444444,\"#bd3786\"],[0.5555555555555556,\"#d8576b\"],[0.6666666666666666,\"#ed7953\"],[0.7777777777777778,\"#fb9f3a\"],[0.8888888888888888,\"#fdca26\"],[1.0,\"#f0f921\"]]}],\"surface\":[{\"type\":\"surface\",\"colorbar\":{\"outlinewidth\":0,\"ticks\":\"\"},\"colorscale\":[[0.0,\"#0d0887\"],[0.1111111111111111,\"#46039f\"],[0.2222222222222222,\"#7201a8\"],[0.3333333333333333,\"#9c179e\"],[0.4444444444444444,\"#bd3786\"],[0.5555555555555556,\"#d8576b\"],[0.6666666666666666,\"#ed7953\"],[0.7777777777777778,\"#fb9f3a\"],[0.8888888888888888,\"#fdca26\"],[1.0,\"#f0f921\"]]}],\"mesh3d\":[{\"type\":\"mesh3d\",\"colorbar\":{\"outlinewidth\":0,\"ticks\":\"\"}}],\"scatter\":[{\"fillpattern\":{\"fillmode\":\"overlay\",\"size\":10,\"solidity\":0.2},\"type\":\"scatter\"}],\"parcoords\":[{\"type\":\"parcoords\",\"line\":{\"colorbar\":{\"outlinewidth\":0,\"ticks\":\"\"}}}],\"scatterpolargl\":[{\"type\":\"scatterpolargl\",\"marker\":{\"colorbar\":{\"outlinewidth\":0,\"ticks\":\"\"}}}],\"bar\":[{\"error_x\":{\"color\":\"#2a3f5f\"},\"error_y\":{\"color\":\"#2a3f5f\"},\"marker\":{\"line\":{\"color\":\"#E5ECF6\",\"width\":0.5},\"pattern\":{\"fillmode\":\"overlay\",\"size\":10,\"solidity\":0.2}},\"type\":\"bar\"}],\"scattergeo\":[{\"type\":\"scattergeo\",\"marker\":{\"colorbar\":{\"outlinewidth\":0,\"ticks\":\"\"}}}],\"scatterpolar\":[{\"type\":\"scatterpolar\",\"marker\":{\"colorbar\":{\"outlinewidth\":0,\"ticks\":\"\"}}}],\"histogram\":[{\"marker\":{\"pattern\":{\"fillmode\":\"overlay\",\"size\":10,\"solidity\":0.2}},\"type\":\"histogram\"}],\"scattergl\":[{\"type\":\"scattergl\",\"marker\":{\"colorbar\":{\"outlinewidth\":0,\"ticks\":\"\"}}}],\"scatter3d\":[{\"type\":\"scatter3d\",\"line\":{\"colorbar\":{\"outlinewidth\":0,\"ticks\":\"\"}},\"marker\":{\"colorbar\":{\"outlinewidth\":0,\"ticks\":\"\"}}}],\"scattermapbox\":[{\"type\":\"scattermapbox\",\"marker\":{\"colorbar\":{\"outlinewidth\":0,\"ticks\":\"\"}}}],\"scatterternary\":[{\"type\":\"scatterternary\",\"marker\":{\"colorbar\":{\"outlinewidth\":0,\"ticks\":\"\"}}}],\"scattercarpet\":[{\"type\":\"scattercarpet\",\"marker\":{\"colorbar\":{\"outlinewidth\":0,\"ticks\":\"\"}}}],\"carpet\":[{\"aaxis\":{\"endlinecolor\":\"#2a3f5f\",\"gridcolor\":\"white\",\"linecolor\":\"white\",\"minorgridcolor\":\"white\",\"startlinecolor\":\"#2a3f5f\"},\"baxis\":{\"endlinecolor\":\"#2a3f5f\",\"gridcolor\":\"white\",\"linecolor\":\"white\",\"minorgridcolor\":\"white\",\"startlinecolor\":\"#2a3f5f\"},\"type\":\"carpet\"}],\"table\":[{\"cells\":{\"fill\":{\"color\":\"#EBF0F8\"},\"line\":{\"color\":\"white\"}},\"header\":{\"fill\":{\"color\":\"#C8D4E3\"},\"line\":{\"color\":\"white\"}},\"type\":\"table\"}],\"barpolar\":[{\"marker\":{\"line\":{\"color\":\"#E5ECF6\",\"width\":0.5},\"pattern\":{\"fillmode\":\"overlay\",\"size\":10,\"solidity\":0.2}},\"type\":\"barpolar\"}],\"pie\":[{\"automargin\":true,\"type\":\"pie\"}]},\"layout\":{\"autotypenumbers\":\"strict\",\"colorway\":[\"#636efa\",\"#EF553B\",\"#00cc96\",\"#ab63fa\",\"#FFA15A\",\"#19d3f3\",\"#FF6692\",\"#B6E880\",\"#FF97FF\",\"#FECB52\"],\"font\":{\"color\":\"#2a3f5f\"},\"hovermode\":\"closest\",\"hoverlabel\":{\"align\":\"left\"},\"paper_bgcolor\":\"white\",\"plot_bgcolor\":\"#E5ECF6\",\"polar\":{\"bgcolor\":\"#E5ECF6\",\"angularaxis\":{\"gridcolor\":\"white\",\"linecolor\":\"white\",\"ticks\":\"\"},\"radialaxis\":{\"gridcolor\":\"white\",\"linecolor\":\"white\",\"ticks\":\"\"}},\"ternary\":{\"bgcolor\":\"#E5ECF6\",\"aaxis\":{\"gridcolor\":\"white\",\"linecolor\":\"white\",\"ticks\":\"\"},\"baxis\":{\"gridcolor\":\"white\",\"linecolor\":\"white\",\"ticks\":\"\"},\"caxis\":{\"gridcolor\":\"white\",\"linecolor\":\"white\",\"ticks\":\"\"}},\"coloraxis\":{\"colorbar\":{\"outlinewidth\":0,\"ticks\":\"\"}},\"colorscale\":{\"sequential\":[[0.0,\"#0d0887\"],[0.1111111111111111,\"#46039f\"],[0.2222222222222222,\"#7201a8\"],[0.3333333333333333,\"#9c179e\"],[0.4444444444444444,\"#bd3786\"],[0.5555555555555556,\"#d8576b\"],[0.6666666666666666,\"#ed7953\"],[0.7777777777777778,\"#fb9f3a\"],[0.8888888888888888,\"#fdca26\"],[1.0,\"#f0f921\"]],\"sequentialminus\":[[0.0,\"#0d0887\"],[0.1111111111111111,\"#46039f\"],[0.2222222222222222,\"#7201a8\"],[0.3333333333333333,\"#9c179e\"],[0.4444444444444444,\"#bd3786\"],[0.5555555555555556,\"#d8576b\"],[0.6666666666666666,\"#ed7953\"],[0.7777777777777778,\"#fb9f3a\"],[0.8888888888888888,\"#fdca26\"],[1.0,\"#f0f921\"]],\"diverging\":[[0,\"#8e0152\"],[0.1,\"#c51b7d\"],[0.2,\"#de77ae\"],[0.3,\"#f1b6da\"],[0.4,\"#fde0ef\"],[0.5,\"#f7f7f7\"],[0.6,\"#e6f5d0\"],[0.7,\"#b8e186\"],[0.8,\"#7fbc41\"],[0.9,\"#4d9221\"],[1,\"#276419\"]]},\"xaxis\":{\"gridcolor\":\"white\",\"linecolor\":\"white\",\"ticks\":\"\",\"title\":{\"standoff\":15},\"zerolinecolor\":\"white\",\"automargin\":true,\"zerolinewidth\":2},\"yaxis\":{\"gridcolor\":\"white\",\"linecolor\":\"white\",\"ticks\":\"\",\"title\":{\"standoff\":15},\"zerolinecolor\":\"white\",\"automargin\":true,\"zerolinewidth\":2},\"scene\":{\"xaxis\":{\"backgroundcolor\":\"#E5ECF6\",\"gridcolor\":\"white\",\"linecolor\":\"white\",\"showbackground\":true,\"ticks\":\"\",\"zerolinecolor\":\"white\",\"gridwidth\":2},\"yaxis\":{\"backgroundcolor\":\"#E5ECF6\",\"gridcolor\":\"white\",\"linecolor\":\"white\",\"showbackground\":true,\"ticks\":\"\",\"zerolinecolor\":\"white\",\"gridwidth\":2},\"zaxis\":{\"backgroundcolor\":\"#E5ECF6\",\"gridcolor\":\"white\",\"linecolor\":\"white\",\"showbackground\":true,\"ticks\":\"\",\"zerolinecolor\":\"white\",\"gridwidth\":2}},\"shapedefaults\":{\"line\":{\"color\":\"#2a3f5f\"}},\"annotationdefaults\":{\"arrowcolor\":\"#2a3f5f\",\"arrowhead\":0,\"arrowwidth\":1},\"geo\":{\"bgcolor\":\"white\",\"landcolor\":\"#E5ECF6\",\"subunitcolor\":\"white\",\"showland\":true,\"showlakes\":true,\"lakecolor\":\"white\"},\"title\":{\"x\":0.05},\"mapbox\":{\"style\":\"light\"}}},\"xaxis\":{\"anchor\":\"y\",\"domain\":[0.0,1.0],\"title\":{\"text\":\"Kingdom\"}},\"yaxis\":{\"anchor\":\"x\",\"domain\":[0.0,1.0],\"title\":{\"text\":\"Counts\"}},\"legend\":{\"title\":{\"text\":\"Threat Status\"},\"tracegroupgap\":0,\"orientation\":\"h\",\"yanchor\":\"bottom\",\"y\":1.02,\"xanchor\":\"right\",\"x\":1},\"title\":{\"text\":\"Threat Status by Kingdom\"},\"barmode\":\"stack\",\"plot_bgcolor\":\"white\"},                        {\"responsive\": true}                    ).then(function(){\n                            \nvar gd = document.getElementById('4f58fc3a-8953-423d-8b1b-a24691d80225');\nvar x = new MutationObserver(function (mutations, observer) {{\n        var display = window.getComputedStyle(gd).display;\n        if (!display || display === 'none') {{\n            console.log([gd, 'removed!']);\n            Plotly.purge(gd);\n            observer.disconnect();\n        }}\n}});\n\n// Listen for the removal of the full notebook cells\nvar notebookContainer = gd.closest('#notebook-container');\nif (notebookContainer) {{\n    x.observe(notebookContainer, {childList: true});\n}}\n\n// Listen for the clearing of the current output cell\nvar outputEl = gd.closest('.output');\nif (outputEl) {{\n    x.observe(outputEl, {childList: true});\n}}\n\n                        })                };                });            </script>        </div>"
     },
     "metadata": {},
     "output_type": "display_data"
    }
   ],
   "source": [
    "import plotly.express as px\n",
    "\n",
    "pivot_data = kingdomCountsByStatus.pivot_table(index='REINO', columns='ESTADO DE AMENAZA', aggfunc='sum', fill_value=0)\n",
    "pivot_data.columns = pivot_data.columns.droplevel(0)\n",
    "\n",
    "fig = px.bar(pivot_data, title=\"Threat Status by Kingdom\",\n",
    "             labels={\"value\": \"Counts\", \"REINO\": \"Kingdom\"},\n",
    "             orientation='v',\n",
    "             barmode='stack',\n",
    "             #color_discrete_sequence=color_palette\n",
    "             )\n",
    "\n",
    "fig.update_layout(\n",
    "    xaxis_title=\"Kingdom\",\n",
    "    yaxis_title=\"Counts\",\n",
    "    legend_title=\"Threat Status\",\n",
    "    legend=dict(orientation=\"h\", yanchor=\"bottom\", y=1.02, xanchor=\"right\", x=1),\n",
    "    plot_bgcolor='white'\n",
    ")\n",
    "\n",
    "fig.update_traces(hovertemplate=\"<b>%{x}</b><br>%{y}\")\n",
    "\n",
    "fig.show()\n"
   ],
   "metadata": {
    "collapsed": false,
    "ExecuteTime": {
     "end_time": "2024-04-15T16:33:06.915220800Z",
     "start_time": "2024-04-15T16:33:06.825570800Z"
    }
   },
   "id": "52c7482383f925c"
  }
 ],
 "metadata": {
  "kernelspec": {
   "display_name": "Python 3",
   "language": "python",
   "name": "python3"
  },
  "language_info": {
   "codemirror_mode": {
    "name": "ipython",
    "version": 2
   },
   "file_extension": ".py",
   "mimetype": "text/x-python",
   "name": "python",
   "nbconvert_exporter": "python",
   "pygments_lexer": "ipython2",
   "version": "2.7.6"
  }
 },
 "nbformat": 4,
 "nbformat_minor": 5
}
